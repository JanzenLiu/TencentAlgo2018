{
 "cells": [
  {
   "cell_type": "code",
   "execution_count": 1,
   "metadata": {},
   "outputs": [],
   "source": [
    "from functools import lru_cache\n",
    "import scipy.sparse as sparse\n",
    "import pandas as pd\n",
    "import numpy as np\n",
    "import tqdm\n",
    "import gc\n",
    "import os\n",
    "import sys\n",
    "sys.path.append('../code/utils')\n",
    "sys.path.append('../code/pipeline')\n",
    "sys.path.append('../code')\n",
    "import data_utils as du\n",
    "import perf_utils as pu\n",
    "import data_jointer as dj\n",
    "import config"
   ]
  },
  {
   "cell_type": "code",
   "execution_count": 2,
   "metadata": {},
   "outputs": [],
   "source": [
    "@lru_cache(1024)\n",
    "def count_values(string):\n",
    "    if isinstance(string, float):\n",
    "        return 0  # is nan\n",
    "    else:\n",
    "        return len(string.split(\" \"))"
   ]
  },
  {
   "cell_type": "code",
   "execution_count": 3,
   "metadata": {},
   "outputs": [],
   "source": [
    "user_multi_feat_names = config.USER_MULTI_FEAT_NAMES"
   ]
  },
  {
   "cell_type": "code",
   "execution_count": 4,
   "metadata": {},
   "outputs": [],
   "source": [
    "uj = dj.PandasPandasJointer(\"uid\")"
   ]
  },
  {
   "cell_type": "code",
   "execution_count": 5,
   "metadata": {
    "scrolled": true
   },
   "outputs": [
    {
     "name": "stdout",
     "output_type": "stream",
     "text": [
      "[18:07:18] Finish counting 'marriageStatus' for each user. △M: +149.86MB. △T: 5.3 seconds.\n",
      "[18:07:41] Finish counting 'interest1' for each user. △M: +176.5MB. △T: 23.7 seconds.\n",
      "[18:07:56] Finish counting 'interest2' for each user. △M: +69.53MB. △T: 14.6 seconds.\n",
      "[18:08:06] Finish counting 'interest3' for each user. △M: +73.66MB. △T: 9.7 seconds.\n",
      "[18:08:15] Finish counting 'interest4' for each user. △M: +73.66MB. △T: 9.6 seconds.\n",
      "[18:08:41] Finish counting 'interest5' for each user. △M: +78.55MB. △T: 26.1 seconds.\n",
      "[18:09:03] Finish counting 'kw1' for each user. △M: +68.28MB. △T: 21.6 seconds.\n",
      "[18:09:25] Finish counting 'kw2' for each user. △M: +80.88MB. △T: 21.9 seconds.\n",
      "[18:09:35] Finish counting 'kw3' for each user. △M: +64.8MB. △T: 10.6 seconds.\n",
      "[18:09:56] Finish counting 'topic1' for each user. △M: +75.81MB. △T: 21.0 seconds.\n",
      "[18:10:17] Finish counting 'topic2' for each user. △M: +82.42MB. △T: 20.4 seconds.\n",
      "[18:10:28] Finish counting 'topic3' for each user. △M: +63.64MB. △T: 11.0 seconds.\n",
      "[18:10:40] Finish counting 'appIdInstall' for each user. △M: +350.38MB. △T: 12.7 seconds.\n",
      "[18:10:51] Finish counting 'appIdAction' for each user. △M: -210.9MB. △T: 10.5 seconds.\n",
      "[18:11:03] Finish counting 'ct' for each user. △M: +83.05MB. △T: 11.9 seconds.\n",
      "[18:11:15] Finish counting 'os' for each user. △M: +73.91MB. △T: 11.8 seconds.\n"
     ]
    }
   ],
   "source": [
    "df_user = None\n",
    "for feat_name in user_multi_feat_names:\n",
    "    with pu.profiler(\"counting '{}' for each user\".format(feat_name)):\n",
    "        # preparation\n",
    "        count_name = \"valueCount@{}\".format(feat_name)\n",
    "\n",
    "        # load and count values\n",
    "        df_feat = du.load_user_feature(feat_name)\n",
    "        df_feat[count_name] = df_feat[feat_name].apply(count_values)\n",
    "        df_feat.drop(feat_name, axis=1, inplace=True)  # clean data for joining\n",
    "\n",
    "        # join data\n",
    "        if df_user is None:\n",
    "            df_user = df_feat\n",
    "        else:\n",
    "            df_user = uj.join(df_user, df_feat)\n",
    "\n",
    "        # release memory and clean garbage\n",
    "        del df_feat\n",
    "        gc.collect()"
   ]
  },
  {
   "cell_type": "code",
   "execution_count": 6,
   "metadata": {},
   "outputs": [
    {
     "name": "stdout",
     "output_type": "stream",
     "text": [
      "[18:13:12] Finish saving user count data to .csv file. △M: +356.0KB. △T: 2.0 minutes.\n"
     ]
    }
   ],
   "source": [
    "with pu.profiler(\"saving user count data to .csv file\"):\n",
    "    count_folder = os.path.join(config.DATA_DIR, \"stats\", config.PRELIMINARY_CONTEST_DATA_SUBDIR[1:], \"row_value_counts\")\n",
    "    count_file = \"raw.csv\"\n",
    "    count_path = os.path.join(count_folder, count_file)\n",
    "    os.makedirs(count_folder, exist_ok=True)\n",
    "\n",
    "    df_user.to_csv(count_path, index=False)"
   ]
  },
  {
   "cell_type": "code",
   "execution_count": 7,
   "metadata": {},
   "outputs": [],
   "source": [
    "df_train = du.load_raw_data(\"train\")\n",
    "df_test = du.load_raw_data(\"test\")\n",
    "df_all = pd.concat([df_train, df_test], ignore_index=True)\n",
    "\n",
    "train_size = df_train.shape[0]\n",
    "test_size = df_test.shape[0]"
   ]
  },
  {
   "cell_type": "code",
   "execution_count": 8,
   "metadata": {
    "scrolled": true
   },
   "outputs": [
    {
     "name": "stdout",
     "output_type": "stream",
     "text": [
      "[18:13:32] Finish joining user count data. △M: +1.16GB. △T: 17.2 seconds.\n",
      "[18:13:39] Finish preparing. △M: +1.18GB. △T: 6.2 seconds.\n",
      "[18:13:43] Finish saving count data for the training set. △M: +68.0KB. △T: 4.7 seconds.\n",
      "[18:13:45] Finish saving count data for the testing set. △M: +4.14MB. △T: 1.2 seconds.\n"
     ]
    }
   ],
   "source": [
    "with pu.profiler(\"joining user count data\"):\n",
    "    df_all = uj.join(df_all, df_user)\n",
    "    df_all.drop([\"aid\", \"uid\", \"label\"], axis=1, inplace=True)  # clean data for saving\n",
    "    gc.collect()\n",
    "\n",
    "with pu.profiler(\"preparing\"):\n",
    "    out_folder = config.INPUT_DIR\n",
    "    os.makedirs(out_folder, exist_ok=True)\n",
    "    col_names = df_all.columns.tolist()\n",
    "    X_all = sparse.csr_matrix(df_all.values)\n",
    "    assert len(col_names) == len(user_multi_feat_names)\n",
    "    assert X_all.shape[1] == len(user_multi_feat_names)\n",
    "\n",
    "with pu.profiler(\"saving count data for the training set\"):\n",
    "    out_file = \"train.raw.rowCount.pkl\"\n",
    "    out_path = os.path.join(out_folder, out_file)\n",
    "    X_train = X_all[:train_size, :]\n",
    "    assert X_train.shape[0] == df_train.shape[0]\n",
    "    assert X_train.shape[1] == len(user_multi_feat_names)\n",
    "\n",
    "    du.save_pickle((col_names, X_train), out_path)\n",
    "    del X_train\n",
    "    gc.collect()\n",
    "\n",
    "with pu.profiler(\"saving count data for the testing set\"):\n",
    "    out_file = \"test1.raw.rowCount.pkl\"\n",
    "    out_path = os.path.join(out_folder, out_file)\n",
    "    X_test = X_all[train_size:, :]\n",
    "    assert X_test.shape[0] == df_test.shape[0]\n",
    "    assert X_test.shape[1] == len(user_multi_feat_names)\n",
    "    \n",
    "    du.save_pickle((col_names, X_test), out_path)\n",
    "    del X_test\n",
    "    gc.collect()"
   ]
  },
  {
   "cell_type": "code",
   "execution_count": null,
   "metadata": {},
   "outputs": [],
   "source": []
  }
 ],
 "metadata": {
  "kernelspec": {
   "display_name": "Python 3",
   "language": "python",
   "name": "python3"
  },
  "language_info": {
   "codemirror_mode": {
    "name": "ipython",
    "version": 3
   },
   "file_extension": ".py",
   "mimetype": "text/x-python",
   "name": "python",
   "nbconvert_exporter": "python",
   "pygments_lexer": "ipython3",
   "version": "3.5.2"
  }
 },
 "nbformat": 4,
 "nbformat_minor": 2
}
