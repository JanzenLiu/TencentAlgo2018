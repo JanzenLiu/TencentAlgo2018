{
 "cells": [
  {
   "cell_type": "code",
   "execution_count": 1,
   "metadata": {},
   "outputs": [],
   "source": [
    "from sklearn.model_selection import StratifiedKFold\n",
    "from sklearn.linear_model import LogisticRegression\n",
    "from sklearn import metrics\n",
    "from glove import Glove\n",
    "import scipy.sparse as sparse\n",
    "import pandas as pd\n",
    "import numpy as np\n",
    "import tqdm\n",
    "import gc\n",
    "import os\n",
    "import sys\n",
    "sys.path.append(\"../../../code/utils/\")\n",
    "sys.path.append(\"../../../code/analysis/\")\n",
    "sys.path.append('../../../code/pipeline/')\n",
    "sys.path.append('../../../code')\n",
    "import data_jointer as dj\n",
    "import eval_utils as eu\n",
    "import data_utils as du\n",
    "import perf_utils as pu\n",
    "import config"
   ]
  },
  {
   "cell_type": "code",
   "execution_count": 2,
   "metadata": {},
   "outputs": [],
   "source": [
    "user_jointer = dj.PandasMatrixJointer(on=\"uid\")\n",
    "df_train = du.load_raw_data(\"train\")\n",
    "df_test = du.load_raw_data(\"test\")\n",
    "df_all = pd.concat([df_train, df_test], ignore_index=True)\n",
    "\n",
    "train_size = df_train.shape[0]\n",
    "test_size = df_test.shape[0]\n",
    "\n",
    "\n",
    "def run_embedding(feat_name, emb_dim=10, learning_rate=0.01, epochs=300, version_no=1):\n",
    "    # =========\n",
    "    # load data\n",
    "    # =========\n",
    "    word_to_index, cooc = du.load_preliminary_user_feature_coocurrence(feat_name)\n",
    "    row_uids, (_, matrix_bin) = du.load_user_cnt(feat_name)\n",
    "    num_users = matrix_bin.shape[0]\n",
    "    print(\"Number of Users in Binary Matrix: {}\".format(num_users))\n",
    "\n",
    "    # ===============\n",
    "    # train embedding\n",
    "    # ===============\n",
    "    with pu.profiler(\"fitting GloVe embedding\"):\n",
    "        glove = Glove(no_components=emb_dim, \n",
    "                      learning_rate=learning_rate, \n",
    "                      random_state=2018)  # fix random_state for reproducibility\n",
    "        glove.fit(cooc.tocoo().astype(np.float64), \n",
    "                  epochs=epochs,\n",
    "                  verbose=False)\n",
    "        col_names = [\"{}_embedding_{}\".format(feat_name, i) for i in range(emb_dim)]\n",
    "\n",
    "    # ====================\n",
    "    # save embedding model\n",
    "    # ====================\n",
    "    glove_folder = \"../../../model/glove\"\n",
    "    glove_folder = os.path.join(glove_folder, \"[featureName='{}']\".format(feat_name))\n",
    "    glove_file = \"v{}.glove_model\".format(version_no)\n",
    "    glove_path = os.path.join(glove_folder, glove_file)\n",
    "    os.makedirs(glove_folder, exist_ok=True)\n",
    "    du.save_pickle(glove, glove_path)\n",
    "\n",
    "    # ==========\n",
    "    # do pooling\n",
    "    # ==========\n",
    "    # should use multiprocessing\n",
    "    with pu.profiler(\"preparing avg/max/min pooling of embedding\"):\n",
    "        matrix_avg = np.zeros((num_users, emb_dim))\n",
    "        matrix_max = np.zeros((num_users, emb_dim))\n",
    "        matrix_min = np.zeros((num_users, emb_dim))\n",
    "\n",
    "        for i, row in tqdm.tqdm(enumerate(matrix_bin), total=num_users):\n",
    "            row_pool = glove.word_vectors[row.indices]\n",
    "            matrix_avg[i] = row_pool.mean(axis=0)\n",
    "            matrix_max[i] = row_pool.max(axis=0)\n",
    "            matrix_min[i] = row_pool.min(axis=0)\n",
    "\n",
    "        matrix_avg = matrix_avg.astype(np.float32)\n",
    "        matrix_max = matrix_max.astype(np.float32)\n",
    "        matrix_min = matrix_min.astype(np.float32)\n",
    "\n",
    "    # ===========\n",
    "    # join matrix\n",
    "    # ===========\n",
    "    with pu.profiler(\"joining avg pooling matrix\"):\n",
    "        X_avg = user_jointer.join(df_all, matrix_avg, row_names=row_uids)\n",
    "        X_avg = X_avg.astype(np.float32)\n",
    "        del matrix_avg\n",
    "        gc.collect()\n",
    "\n",
    "    with pu.profiler(\"joining max pooling matrix\"):\n",
    "        X_max = user_jointer.join(df_all, matrix_max, row_names=row_uids)\n",
    "        X_max = X_max.astype(np.float32)\n",
    "        del matrix_max\n",
    "        gc.collect()\n",
    "\n",
    "    with pu.profiler(\"joining min pooling matrix\"):\n",
    "        X_min = user_jointer.join(df_all, matrix_min, row_names=row_uids)\n",
    "        X_min = X_min.astype(np.float32)\n",
    "        del matrix_min\n",
    "        gc.collect()\n",
    "    \n",
    "    # =========\n",
    "    # save data\n",
    "    # =========\n",
    "    emb_folder = \"../../../data/embedding\"\n",
    "    emb_folder = os.path.join(emb_folder, \"[featureName='{}']\".format(feat_name))\n",
    "    os.makedirs(emb_folder, exist_ok=True)\n",
    "\n",
    "    with pu.profiler(\"saving data\"):\n",
    "        # avg pooling\n",
    "        emb_file = \"train.avg_v{}.pkl\".format(version_no)\n",
    "        emb_path = os.path.join(emb_folder, emb_file)\n",
    "        du.save_pickle((col_names, X_avg[:train_size]), emb_path)  # save train data\n",
    "        \n",
    "        emb_file = \"test1.avg_v{}.pkl\".format(version_no)\n",
    "        emb_path = os.path.join(emb_folder, emb_file)\n",
    "        du.save_pickle((col_names, X_avg[train_size:]), emb_path)  # save test data\n",
    "\n",
    "        # max pooling\n",
    "        emb_file = \"train.max_v{}.pkl\".format(version_no)\n",
    "        emb_path = os.path.join(emb_folder, emb_file)\n",
    "        du.save_pickle((col_names, X_max[:train_size]), emb_path)  # save train data\n",
    "        \n",
    "        emb_file = \"test1.max_v{}.pkl\".format(version_no)\n",
    "        emb_path = os.path.join(emb_folder, emb_file)\n",
    "        du.save_pickle((col_names, X_max[train_size:]), emb_path)  # save test data\n",
    "\n",
    "        # min pooling\n",
    "        emb_file = \"train.min_v{}.pkl\".format(version_no)\n",
    "        emb_path = os.path.join(emb_folder, emb_file)\n",
    "        du.save_pickle((col_names, X_min[:train_size]), emb_path)  # save train data\n",
    "        \n",
    "        emb_file = \"test1.min_v{}.pkl\".format(version_no)\n",
    "        emb_path = os.path.join(emb_folder, emb_file)\n",
    "        du.save_pickle((col_names, X_min[train_size:]), emb_path)  # save test data\n",
    "\n",
    "        del X_avg\n",
    "        del X_max\n",
    "        del X_min\n",
    "        gc.collect()"
   ]
  },
  {
   "cell_type": "code",
   "execution_count": 3,
   "metadata": {},
   "outputs": [],
   "source": [
    "user_multi_feat_names = config.USER_MULTI_FEAT_NAMES"
   ]
  },
  {
   "cell_type": "code",
   "execution_count": 4,
   "metadata": {},
   "outputs": [
    {
     "name": "stderr",
     "output_type": "stream",
     "text": [
      "  0%|          | 1451/9686953 [00:00<11:07, 14501.92it/s]"
     ]
    },
    {
     "name": "stdout",
     "output_type": "stream",
     "text": [
      "Number of Users in Binary Matrix: 9686953\n",
      "[04:59:43] Finish fitting GloVe embedding. △M: +124.0KB. △T: 0.0 seconds.\n"
     ]
    },
    {
     "name": "stderr",
     "output_type": "stream",
     "text": [
      "100%|██████████| 9686953/9686953 [10:40<00:00, 15117.92it/s]\n"
     ]
    },
    {
     "name": "stdout",
     "output_type": "stream",
     "text": [
      "[05:10:25] Finish preparing avg/max/min pooling of embedding. △M: +1.41GB. △T: 10.7 minutes.\n",
      "[05:10:47] Finish joining avg pooling matrix. △M: +86.66MB. △T: 22.2 seconds.\n",
      "[05:11:10] Finish joining max pooling matrix. △M: +92.43MB. △T: 22.3 seconds.\n",
      "[05:11:32] Finish joining min pooling matrix. △M: +68.33MB. △T: 22.3 seconds.\n",
      "[05:11:33] Finish saving data. △M: -1.61GB. △T: 1.2 seconds.\n"
     ]
    }
   ],
   "source": [
    "run_embedding(\"marriageStatus\", \n",
    "              emb_dim=13, \n",
    "              learning_rate=0.001, \n",
    "              epochs=1000, \n",
    "              version_no=1)"
   ]
  },
  {
   "cell_type": "code",
   "execution_count": 5,
   "metadata": {},
   "outputs": [
    {
     "name": "stdout",
     "output_type": "stream",
     "text": [
      "Number of Users in Binary Matrix: 9686953\n"
     ]
    },
    {
     "name": "stderr",
     "output_type": "stream",
     "text": [
      "  0%|          | 1147/9686953 [00:00<14:04, 11464.68it/s]"
     ]
    },
    {
     "name": "stdout",
     "output_type": "stream",
     "text": [
      "[05:11:55] Finish fitting GloVe embedding. △M: +8.0KB. △T: 21.2 seconds.\n"
     ]
    },
    {
     "name": "stderr",
     "output_type": "stream",
     "text": [
      "100%|██████████| 9686953/9686953 [13:15<00:00, 12172.96it/s]\n"
     ]
    },
    {
     "name": "stdout",
     "output_type": "stream",
     "text": [
      "[05:25:14] Finish preparing avg/max/min pooling of embedding. △M: +2.17GB. △T: 13.3 minutes.\n",
      "[05:25:47] Finish joining avg pooling matrix. △M: +136.26MB. △T: 33.3 seconds.\n",
      "[05:26:19] Finish joining max pooling matrix. △M: +105.12MB. △T: 32.0 seconds.\n",
      "[05:26:52] Finish joining min pooling matrix. △M: +105.12MB. △T: 33.0 seconds.\n",
      "[05:26:55] Finish saving data. △M: -2.47GB. △T: 2.3 seconds.\n"
     ]
    }
   ],
   "source": [
    "run_embedding(\"interest1\", \n",
    "              emb_dim=20, \n",
    "              learning_rate=0.0002, \n",
    "              epochs=5000, \n",
    "              version_no=1)"
   ]
  },
  {
   "cell_type": "code",
   "execution_count": 6,
   "metadata": {},
   "outputs": [
    {
     "name": "stdout",
     "output_type": "stream",
     "text": [
      "Number of Users in Binary Matrix: 9686953\n"
     ]
    },
    {
     "name": "stderr",
     "output_type": "stream",
     "text": [
      "  0%|          | 1115/9686953 [00:00<14:29, 11144.09it/s]"
     ]
    },
    {
     "name": "stdout",
     "output_type": "stream",
     "text": [
      "[05:27:04] Finish fitting GloVe embedding. △M: +4.0KB. △T: 9.2 seconds.\n"
     ]
    },
    {
     "name": "stderr",
     "output_type": "stream",
     "text": [
      "100%|██████████| 9686953/9686953 [14:31<00:00, 11110.10it/s]\n"
     ]
    },
    {
     "name": "stdout",
     "output_type": "stream",
     "text": [
      "[05:41:38] Finish preparing avg/max/min pooling of embedding. △M: +1.52GB. △T: 14.6 minutes.\n",
      "[05:42:07] Finish joining avg pooling matrix. △M: +115.46MB. △T: 29.2 seconds.\n",
      "[05:42:37] Finish joining max pooling matrix. △M: +73.59MB. △T: 29.8 seconds.\n",
      "[05:43:06] Finish joining min pooling matrix. △M: +73.59MB. △T: 28.9 seconds.\n",
      "[05:43:08] Finish saving data. △M: -1.73GB. △T: 1.6 seconds.\n"
     ]
    }
   ],
   "source": [
    "run_embedding(\"interest2\", \n",
    "              emb_dim=14, \n",
    "              learning_rate=0.0002, \n",
    "              epochs=5000, \n",
    "              version_no=1)"
   ]
  },
  {
   "cell_type": "code",
   "execution_count": 7,
   "metadata": {},
   "outputs": [
    {
     "name": "stderr",
     "output_type": "stream",
     "text": [
      "\r",
      "  0%|          | 0/9686953 [00:00<?, ?it/s]"
     ]
    },
    {
     "name": "stdout",
     "output_type": "stream",
     "text": [
      "Number of Users in Binary Matrix: 9686953\n",
      "[05:43:08] Finish fitting GloVe embedding. △M: +0B. △T: 0.0 seconds.\n"
     ]
    },
    {
     "name": "stderr",
     "output_type": "stream",
     "text": [
      "100%|██████████| 9686953/9686953 [13:57<00:00, 11562.19it/s]\n"
     ]
    },
    {
     "name": "stdout",
     "output_type": "stream",
     "text": [
      "[05:57:07] Finish preparing avg/max/min pooling of embedding. △M: +1.08GB. △T: 14.0 minutes.\n",
      "[05:57:36] Finish joining avg pooling matrix. △M: +95.13MB. △T: 28.9 seconds.\n",
      "[05:58:05] Finish joining max pooling matrix. △M: +52.56MB. △T: 28.9 seconds.\n",
      "[05:58:37] Finish joining min pooling matrix. △M: +52.56MB. △T: 31.5 seconds.\n",
      "[05:58:38] Finish saving data. △M: -1.24GB. △T: 1.4 seconds.\n"
     ]
    }
   ],
   "source": [
    "run_embedding(\"interest3\", \n",
    "              emb_dim=10, \n",
    "              learning_rate=0.01, \n",
    "              epochs=300, \n",
    "              version_no=1)"
   ]
  },
  {
   "cell_type": "code",
   "execution_count": 8,
   "metadata": {},
   "outputs": [
    {
     "name": "stdout",
     "output_type": "stream",
     "text": [
      "Number of Users in Binary Matrix: 9686953\n",
      "[05:58:38] Finish fitting GloVe embedding. △M: +0B. △T: 0.0 seconds.\n"
     ]
    },
    {
     "name": "stderr",
     "output_type": "stream",
     "text": [
      "100%|██████████| 9686953/9686953 [12:54<00:00, 12514.62it/s]\n"
     ]
    },
    {
     "name": "stdout",
     "output_type": "stream",
     "text": [
      "[06:11:34] Finish preparing avg/max/min pooling of embedding. △M: +1.08GB. △T: 12.9 minutes.\n",
      "[06:12:00] Finish joining avg pooling matrix. △M: +98.94MB. △T: 26.4 seconds.\n",
      "[06:12:26] Finish joining max pooling matrix. △M: +52.56MB. △T: 25.6 seconds.\n",
      "[06:12:51] Finish joining min pooling matrix. △M: +52.56MB. △T: 25.6 seconds.\n",
      "[06:12:52] Finish saving data. △M: -1.24GB. △T: 0.9 seconds.\n"
     ]
    }
   ],
   "source": [
    "run_embedding(\"interest4\", \n",
    "              emb_dim=10, \n",
    "              learning_rate=0.01, \n",
    "              epochs=300, \n",
    "              version_no=1)"
   ]
  },
  {
   "cell_type": "code",
   "execution_count": 9,
   "metadata": {},
   "outputs": [
    {
     "name": "stdout",
     "output_type": "stream",
     "text": [
      "Number of Users in Binary Matrix: 9686953\n"
     ]
    },
    {
     "name": "stderr",
     "output_type": "stream",
     "text": [
      "  0%|          | 1240/9686953 [00:00<13:01, 12395.46it/s]"
     ]
    },
    {
     "name": "stdout",
     "output_type": "stream",
     "text": [
      "[06:12:54] Finish fitting GloVe embedding. △M: +0B. △T: 1.2 seconds.\n"
     ]
    },
    {
     "name": "stderr",
     "output_type": "stream",
     "text": [
      "100%|██████████| 9686953/9686953 [12:29<00:00, 12929.01it/s]\n"
     ]
    },
    {
     "name": "stdout",
     "output_type": "stream",
     "text": [
      "[06:25:25] Finish preparing avg/max/min pooling of embedding. △M: +1.08GB. △T: 12.5 minutes.\n",
      "[06:25:47] Finish joining avg pooling matrix. △M: +85.01MB. △T: 22.5 seconds.\n",
      "[06:26:07] Finish joining max pooling matrix. △M: +52.56MB. △T: 19.8 seconds.\n",
      "[06:26:27] Finish joining min pooling matrix. △M: +52.56MB. △T: 19.9 seconds.\n",
      "[06:26:28] Finish saving data. △M: -1.24GB. △T: 0.8 seconds.\n"
     ]
    }
   ],
   "source": [
    "run_embedding(\"interest5\", \n",
    "              emb_dim=10, \n",
    "              learning_rate=0.01, \n",
    "              epochs=300, \n",
    "              version_no=1)"
   ]
  },
  {
   "cell_type": "code",
   "execution_count": 10,
   "metadata": {},
   "outputs": [
    {
     "name": "stderr",
     "output_type": "stream",
     "text": [
      "  0%|          | 976/9686953 [00:00<16:32, 9757.26it/s]"
     ]
    },
    {
     "name": "stdout",
     "output_type": "stream",
     "text": [
      "Number of Users in Binary Matrix: 9686953\n",
      "[06:26:28] Finish fitting GloVe embedding. △M: +0B. △T: 0.1 seconds.\n"
     ]
    },
    {
     "name": "stderr",
     "output_type": "stream",
     "text": [
      "100%|██████████| 9686953/9686953 [10:30<00:00, 15353.99it/s]\n"
     ]
    },
    {
     "name": "stdout",
     "output_type": "stream",
     "text": [
      "[06:37:00] Finish preparing avg/max/min pooling of embedding. △M: +554.3MB. △T: 10.5 minutes.\n",
      "[06:37:19] Finish joining avg pooling matrix. △M: +68.53MB. △T: 19.5 seconds.\n",
      "[06:37:39] Finish joining max pooling matrix. △M: +26.28MB. △T: 19.6 seconds.\n",
      "[06:37:59] Finish joining min pooling matrix. △M: +26.28MB. △T: 19.6 seconds.\n",
      "[06:37:59] Finish saving data. △M: -633.14MB. △T: 0.4 seconds.\n"
     ]
    }
   ],
   "source": [
    "run_embedding(\"ct\", \n",
    "              emb_dim=5, \n",
    "              learning_rate=0.001, \n",
    "              epochs=1000, \n",
    "              version_no=1)"
   ]
  },
  {
   "cell_type": "code",
   "execution_count": 11,
   "metadata": {},
   "outputs": [
    {
     "name": "stderr",
     "output_type": "stream",
     "text": [
      "  0%|          | 1558/9686953 [00:00<10:21, 15571.85it/s]"
     ]
    },
    {
     "name": "stdout",
     "output_type": "stream",
     "text": [
      "Number of Users in Binary Matrix: 9686953\n",
      "[06:37:59] Finish fitting GloVe embedding. △M: +0B. △T: 0.0 seconds.\n"
     ]
    },
    {
     "name": "stderr",
     "output_type": "stream",
     "text": [
      "100%|██████████| 9686953/9686953 [10:09<00:00, 15899.06it/s]\n"
     ]
    },
    {
     "name": "stdout",
     "output_type": "stream",
     "text": [
      "[06:48:09] Finish preparing avg/max/min pooling of embedding. △M: +221.72MB. △T: 10.2 minutes.\n",
      "[06:48:28] Finish joining avg pooling matrix. △M: +57.64MB. △T: 19.3 seconds.\n",
      "[06:48:47] Finish joining max pooling matrix. △M: +10.51MB. △T: 19.3 seconds.\n",
      "[06:49:07] Finish joining min pooling matrix. △M: +10.51MB. △T: 19.2 seconds.\n",
      "[06:49:07] Finish saving data. △M: -253.25MB. △T: 0.2 seconds.\n"
     ]
    }
   ],
   "source": [
    "run_embedding(\"os\", \n",
    "              emb_dim=2, \n",
    "              learning_rate=0.001, \n",
    "              epochs=1000, \n",
    "              version_no=1)"
   ]
  },
  {
   "cell_type": "code",
   "execution_count": 12,
   "metadata": {},
   "outputs": [
    {
     "name": "stdout",
     "output_type": "stream",
     "text": [
      "Number of Users in Binary Matrix: 9686953\n"
     ]
    },
    {
     "name": "stderr",
     "output_type": "stream",
     "text": [
      "\r",
      "  0%|          | 0/9686953 [00:00<?, ?it/s]"
     ]
    },
    {
     "name": "stdout",
     "output_type": "stream",
     "text": [
      "[08:11:58] Finish fitting GloVe embedding. △M: +198.38MB. △T: 1.4 hours.\n"
     ]
    },
    {
     "name": "stderr",
     "output_type": "stream",
     "text": [
      "100%|██████████| 9686953/9686953 [13:49<00:00, 11680.93it/s]\n"
     ]
    },
    {
     "name": "stdout",
     "output_type": "stream",
     "text": [
      "[08:25:54] Finish preparing avg/max/min pooling of embedding. △M: +5.41GB. △T: 13.9 minutes.\n",
      "[08:26:25] Finish joining avg pooling matrix. △M: +287.73MB. △T: 31.2 seconds.\n",
      "[08:26:58] Finish joining max pooling matrix. △M: +262.8MB. △T: 32.2 seconds.\n",
      "[08:27:30] Finish joining min pooling matrix. △M: +262.8MB. △T: 32.3 seconds.\n",
      "[08:27:44] Finish saving data. △M: -6.18GB. △T: 13.9 seconds.\n"
     ]
    }
   ],
   "source": [
    "run_embedding(\"kw1\", \n",
    "              emb_dim=50, \n",
    "              learning_rate=0.01, \n",
    "              epochs=100, \n",
    "              version_no=1)"
   ]
  },
  {
   "cell_type": "code",
   "execution_count": 13,
   "metadata": {},
   "outputs": [
    {
     "name": "stdout",
     "output_type": "stream",
     "text": [
      "Number of Users in Binary Matrix: 9686953\n"
     ]
    },
    {
     "name": "stderr",
     "output_type": "stream",
     "text": [
      "  0%|          | 1112/9686953 [00:00<14:31, 11110.50it/s]"
     ]
    },
    {
     "name": "stdout",
     "output_type": "stream",
     "text": [
      "[09:32:42] Finish fitting GloVe embedding. △M: +20.45MB. △T: 1.1 hours.\n"
     ]
    },
    {
     "name": "stderr",
     "output_type": "stream",
     "text": [
      "100%|██████████| 9686953/9686953 [14:09<00:00, 11405.59it/s]\n"
     ]
    },
    {
     "name": "stdout",
     "output_type": "stream",
     "text": [
      "[09:46:59] Finish preparing avg/max/min pooling of embedding. △M: +5.41GB. △T: 14.3 minutes.\n",
      "[09:47:30] Finish joining avg pooling matrix. △M: +291.94MB. △T: 31.4 seconds.\n",
      "[09:48:01] Finish joining max pooling matrix. △M: +262.8MB. △T: 31.2 seconds.\n",
      "[09:48:32] Finish joining min pooling matrix. △M: +262.8MB. △T: 31.0 seconds.\n",
      "[09:48:55] Finish saving data. △M: -6.18GB. △T: 22.7 seconds.\n"
     ]
    }
   ],
   "source": [
    "run_embedding(\"kw2\", \n",
    "              emb_dim=50, \n",
    "              learning_rate=0.01, \n",
    "              epochs=300, \n",
    "              version_no=1)"
   ]
  },
  {
   "cell_type": "code",
   "execution_count": 4,
   "metadata": {},
   "outputs": [
    {
     "name": "stdout",
     "output_type": "stream",
     "text": [
      "Number of Users in Binary Matrix: 9686953\n"
     ]
    },
    {
     "name": "stderr",
     "output_type": "stream",
     "text": [
      "  0%|          | 1279/9686953 [00:00<12:37, 12784.13it/s]"
     ]
    },
    {
     "name": "stdout",
     "output_type": "stream",
     "text": [
      "[11:39:00] Finish fitting GloVe embedding. △M: +28.27MB. △T: 35.4 minutes.\n"
     ]
    },
    {
     "name": "stderr",
     "output_type": "stream",
     "text": [
      "100%|██████████| 9686953/9686953 [12:30<00:00, 12908.68it/s]\n"
     ]
    },
    {
     "name": "stdout",
     "output_type": "stream",
     "text": [
      "[11:51:38] Finish preparing avg/max/min pooling of embedding. △M: +5.41GB. △T: 12.6 minutes.\n",
      "[11:52:09] Finish joining avg pooling matrix. △M: +271.76MB. △T: 31.2 seconds.\n",
      "[11:52:38] Finish joining max pooling matrix. △M: +286.8MB. △T: 28.6 seconds.\n",
      "[11:53:07] Finish joining min pooling matrix. △M: +263.05MB. △T: 28.9 seconds.\n",
      "[11:53:14] Finish saving data. △M: -6.18GB. △T: 7.8 seconds.\n"
     ]
    }
   ],
   "source": [
    "run_embedding(\"kw3\", \n",
    "              emb_dim=50, \n",
    "              learning_rate=0.001, \n",
    "              epochs=5000, \n",
    "              version_no=1)"
   ]
  },
  {
   "cell_type": "code",
   "execution_count": 5,
   "metadata": {},
   "outputs": [
    {
     "name": "stdout",
     "output_type": "stream",
     "text": [
      "Number of Users in Binary Matrix: 9686953\n"
     ]
    },
    {
     "name": "stderr",
     "output_type": "stream",
     "text": [
      "  0%|          | 1202/9686953 [00:00<13:26, 12010.19it/s]"
     ]
    },
    {
     "name": "stdout",
     "output_type": "stream",
     "text": [
      "[13:36:16] Finish fitting GloVe embedding. △M: +44.65MB. △T: 1.7 hours.\n"
     ]
    },
    {
     "name": "stderr",
     "output_type": "stream",
     "text": [
      "100%|██████████| 9686953/9686953 [13:44<00:00, 11750.13it/s]\n"
     ]
    },
    {
     "name": "stdout",
     "output_type": "stream",
     "text": [
      "[13:50:08] Finish preparing avg/max/min pooling of embedding. △M: +5.41GB. △T: 13.9 minutes.\n",
      "[13:50:38] Finish joining avg pooling matrix. △M: +273.06MB. △T: 29.7 seconds.\n",
      "[13:51:08] Finish joining max pooling matrix. △M: +262.8MB. △T: 29.8 seconds.\n",
      "[13:51:38] Finish joining min pooling matrix. △M: +262.8MB. △T: 30.5 seconds.\n",
      "[13:51:49] Finish saving data. △M: -6.18GB. △T: 10.7 seconds.\n"
     ]
    }
   ],
   "source": [
    "run_embedding(\"topic1\", \n",
    "              emb_dim=50, \n",
    "              learning_rate=0.01, \n",
    "              epochs=300, \n",
    "              version_no=1)"
   ]
  },
  {
   "cell_type": "code",
   "execution_count": 6,
   "metadata": {},
   "outputs": [
    {
     "name": "stdout",
     "output_type": "stream",
     "text": [
      "Number of Users in Binary Matrix: 9686953\n"
     ]
    },
    {
     "name": "stderr",
     "output_type": "stream",
     "text": [
      "  0%|          | 1370/9686953 [00:00<11:47, 13697.27it/s]"
     ]
    },
    {
     "name": "stdout",
     "output_type": "stream",
     "text": [
      "[15:00:01] Finish fitting GloVe embedding. △M: +22.29MB. △T: 1.1 hours.\n"
     ]
    },
    {
     "name": "stderr",
     "output_type": "stream",
     "text": [
      "100%|██████████| 9686953/9686953 [13:18<00:00, 12131.24it/s]\n"
     ]
    },
    {
     "name": "stdout",
     "output_type": "stream",
     "text": [
      "[15:13:27] Finish preparing avg/max/min pooling of embedding. △M: +5.41GB. △T: 13.4 minutes.\n",
      "[15:13:58] Finish joining avg pooling matrix. △M: +291.47MB. △T: 30.2 seconds.\n",
      "[15:14:28] Finish joining max pooling matrix. △M: +262.8MB. △T: 29.7 seconds.\n",
      "[15:14:57] Finish joining min pooling matrix. △M: +263.05MB. △T: 29.9 seconds.\n",
      "[15:15:08] Finish saving data. △M: -6.18GB. △T: 10.8 seconds.\n"
     ]
    }
   ],
   "source": [
    "run_embedding(\"topic2\", \n",
    "              emb_dim=50, \n",
    "              learning_rate=0.01, \n",
    "              epochs=300, \n",
    "              version_no=1)"
   ]
  },
  {
   "cell_type": "code",
   "execution_count": 7,
   "metadata": {},
   "outputs": [
    {
     "name": "stdout",
     "output_type": "stream",
     "text": [
      "Number of Users in Binary Matrix: 9686953\n"
     ]
    },
    {
     "name": "stderr",
     "output_type": "stream",
     "text": [
      "  0%|          | 1445/9686953 [00:00<11:10, 14441.72it/s]"
     ]
    },
    {
     "name": "stdout",
     "output_type": "stream",
     "text": [
      "[16:26:19] Finish fitting GloVe embedding. △M: +38.76MB. △T: 1.2 hours.\n"
     ]
    },
    {
     "name": "stderr",
     "output_type": "stream",
     "text": [
      "100%|██████████| 9686953/9686953 [10:34<00:00, 15274.58it/s]\n"
     ]
    },
    {
     "name": "stdout",
     "output_type": "stream",
     "text": [
      "[16:36:59] Finish preparing avg/max/min pooling of embedding. △M: +5.41GB. △T: 10.7 minutes.\n",
      "[16:37:23] Finish joining avg pooling matrix. △M: +276.07MB. △T: 23.2 seconds.\n",
      "[16:37:47] Finish joining max pooling matrix. △M: +262.8MB. △T: 24.0 seconds.\n",
      "[16:38:10] Finish joining min pooling matrix. △M: +262.8MB. △T: 23.5 seconds.\n",
      "[16:38:15] Finish saving data. △M: -6.18GB. △T: 4.8 seconds.\n"
     ]
    }
   ],
   "source": [
    "run_embedding(\"topic3\", \n",
    "              emb_dim=50, \n",
    "              learning_rate=0.0005, \n",
    "              epochs=6000, \n",
    "              version_no=1)"
   ]
  },
  {
   "cell_type": "code",
   "execution_count": 8,
   "metadata": {},
   "outputs": [
    {
     "name": "stdout",
     "output_type": "stream",
     "text": [
      "Number of Users in Binary Matrix: 9686953\n"
     ]
    },
    {
     "name": "stderr",
     "output_type": "stream",
     "text": [
      "  0%|          | 1192/9686953 [00:00<13:33, 11912.80it/s]"
     ]
    },
    {
     "name": "stdout",
     "output_type": "stream",
     "text": [
      "[17:09:32] Finish fitting GloVe embedding. △M: +18.89MB. △T: 31.2 minutes.\n"
     ]
    },
    {
     "name": "stderr",
     "output_type": "stream",
     "text": [
      "100%|██████████| 9686953/9686953 [16:46<00:00, 9623.61it/s]\n"
     ]
    },
    {
     "name": "stdout",
     "output_type": "stream",
     "text": [
      "[17:26:22] Finish preparing avg/max/min pooling of embedding. △M: +3.25GB. △T: 16.8 minutes.\n",
      "[17:26:44] Finish joining avg pooling matrix. △M: +188.05MB. △T: 21.8 seconds.\n",
      "[17:27:06] Finish joining max pooling matrix. △M: +157.68MB. △T: 21.8 seconds.\n",
      "[17:27:27] Finish joining min pooling matrix. △M: +157.68MB. △T: 21.8 seconds.\n",
      "[17:27:30] Finish saving data. △M: -3.71GB. △T: 2.5 seconds.\n"
     ]
    }
   ],
   "source": [
    "run_embedding(\"appIdInstall\", \n",
    "              emb_dim=30, \n",
    "              learning_rate=0.1, \n",
    "              epochs=1, \n",
    "              version_no=1)"
   ]
  },
  {
   "cell_type": "code",
   "execution_count": 9,
   "metadata": {},
   "outputs": [
    {
     "name": "stdout",
     "output_type": "stream",
     "text": [
      "Number of Users in Binary Matrix: 9686953\n"
     ]
    },
    {
     "name": "stderr",
     "output_type": "stream",
     "text": [
      "  0%|          | 1432/9686953 [00:00<11:16, 14310.97it/s]"
     ]
    },
    {
     "name": "stdout",
     "output_type": "stream",
     "text": [
      "[17:38:42] Finish fitting GloVe embedding. △M: +55.2MB. △T: 11.2 minutes.\n"
     ]
    },
    {
     "name": "stderr",
     "output_type": "stream",
     "text": [
      "100%|██████████| 9686953/9686953 [10:33<00:00, 15299.61it/s]\n"
     ]
    },
    {
     "name": "stdout",
     "output_type": "stream",
     "text": [
      "[17:49:22] Finish preparing avg/max/min pooling of embedding. △M: +5.41GB. △T: 10.7 minutes.\n",
      "[17:49:45] Finish joining avg pooling matrix. △M: +262.8MB. △T: 23.6 seconds.\n",
      "[17:50:09] Finish joining max pooling matrix. △M: +262.8MB. △T: 23.8 seconds.\n",
      "[17:50:33] Finish joining min pooling matrix. △M: +262.8MB. △T: 24.0 seconds.\n",
      "[17:50:38] Finish saving data. △M: -6.18GB. △T: 4.9 seconds.\n"
     ]
    }
   ],
   "source": [
    "run_embedding(\"appIdAction\", \n",
    "              emb_dim=50, \n",
    "              learning_rate=0.01, \n",
    "              epochs=300, \n",
    "              version_no=1)"
   ]
  },
  {
   "cell_type": "code",
   "execution_count": null,
   "metadata": {},
   "outputs": [],
   "source": []
  }
 ],
 "metadata": {
  "kernelspec": {
   "display_name": "Python 3",
   "language": "python",
   "name": "python3"
  },
  "language_info": {
   "codemirror_mode": {
    "name": "ipython",
    "version": 3
   },
   "file_extension": ".py",
   "mimetype": "text/x-python",
   "name": "python",
   "nbconvert_exporter": "python",
   "pygments_lexer": "ipython3",
   "version": "3.5.2"
  }
 },
 "nbformat": 4,
 "nbformat_minor": 2
}
