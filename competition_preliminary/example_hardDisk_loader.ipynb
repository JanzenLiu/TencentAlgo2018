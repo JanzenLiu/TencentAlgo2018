{
 "cells": [
  {
   "cell_type": "code",
   "execution_count": 1,
   "metadata": {},
   "outputs": [],
   "source": [
    "import sys\n",
    "sys.path.append('../../../code/pipeline')\n",
    "sys.path.append('../../../code')\n",
    "import data_pipeline as dp\n",
    "import config"
   ]
  },
  {
   "cell_type": "code",
   "execution_count": 2,
   "metadata": {},
   "outputs": [],
   "source": [
    "dm = dp.DataManager(config.INPUT_DIR)"
   ]
  },
  {
   "cell_type": "code",
   "execution_count": 3,
   "metadata": {},
   "outputs": [
    {
     "name": "stdout",
     "output_type": "stream",
     "text": [
      "Train Data Shape: (8798814, 419701)\n",
      "Test Data Shape: (2265989, 419701)\n"
     ]
    }
   ],
   "source": [
    "# load single data\n",
    "bin_loader = dm.build_data(\"raw\", \"binary\")  # you can also pass one single parameter: \"raw.binary\"\n",
    "\n",
    "cols_train, X_train = bin_loader.load(\"train\")\n",
    "cols_test, X_test = bin_loader.load(\"test1\")\n",
    "\n",
    "print(\"Train Data Shape: {}\".format(X_train.shape))\n",
    "print(\"Test Data Shape: {}\".format(X_test.shape))"
   ]
  },
  {
   "cell_type": "code",
   "execution_count": 4,
   "metadata": {},
   "outputs": [
    {
     "name": "stdout",
     "output_type": "stream",
     "text": [
      "Train Data Shape: (8798814, 24)\n",
      "Test Data Shape: (2265989, 24)\n"
     ]
    }
   ],
   "source": [
    "# load multiple data and stack them together\n",
    "rcount_loader = dm.build_data(\"raw\", \"rowCount\")\n",
    "crossclks_loader = dm.build_data(\"cross\", \"clickStats_v1\")\n",
    "union_loader = dp.DataUnion(rcount_loader, crossclks_loader)\n",
    "\n",
    "cols2_train, X2_train = union_loader.load(\"train\")\n",
    "cols2_test, X2_test = union_loader.load(\"test1\")\n",
    "\n",
    "print(\"Train Data Shape: {}\".format(X2_train.shape))\n",
    "print(\"Test Data Shape: {}\".format(X2_test.shape))"
   ]
  },
  {
   "cell_type": "code",
   "execution_count": null,
   "metadata": {},
   "outputs": [],
   "source": []
  }
 ],
 "metadata": {
  "kernelspec": {
   "display_name": "Python 3",
   "language": "python",
   "name": "python3"
  },
  "language_info": {
   "codemirror_mode": {
    "name": "ipython",
    "version": 3
   },
   "file_extension": ".py",
   "mimetype": "text/x-python",
   "name": "python",
   "nbconvert_exporter": "python",
   "pygments_lexer": "ipython3",
   "version": "3.5.2"
  }
 },
 "nbformat": 4,
 "nbformat_minor": 2
}
