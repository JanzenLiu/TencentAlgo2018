{
 "cells": [
  {
   "cell_type": "code",
   "execution_count": 1,
   "metadata": {},
   "outputs": [],
   "source": [
    "import os\n",
    "from tqdm import tqdm\n",
    "import pandas as pd\n",
    "import numpy as np\n",
    "from contextlib import contextmanager  # for context management"
   ]
  },
  {
   "cell_type": "code",
   "execution_count": 2,
   "metadata": {},
   "outputs": [],
   "source": [
    "def count_file_lines(filepath):\n",
    "    f = open(filepath)\n",
    "    for i, l in tqdm(enumerate(f.readlines())):\n",
    "        pass\n",
    "    return i + 1"
   ]
  },
  {
   "cell_type": "code",
   "execution_count": 3,
   "metadata": {},
   "outputs": [],
   "source": [
    "@contextmanager\n",
    "def open_files(f_dict):\n",
    "    fs = {k:open(v, \"w\") for k, v in f_dict.items()}\n",
    "    yield fs\n",
    "    for k, f in fs.items():\n",
    "        f.close()"
   ]
  },
  {
   "cell_type": "code",
   "execution_count": 4,
   "metadata": {},
   "outputs": [],
   "source": [
    "class FileWritter:\n",
    "    def __init__(self, f):\n",
    "        self.f = f\n",
    "        self.buffer = \"\"\n",
    "    \n",
    "    def write_buffer(self, chars):\n",
    "        self.buffer += chars\n",
    "        \n",
    "    def clear_buffer(self):\n",
    "        self.buffer = \"\"\n",
    "    \n",
    "    def flush(self):\n",
    "        self.f.write(self.buffer)\n",
    "        self.clear_buffer()"
   ]
  },
  {
   "cell_type": "code",
   "execution_count": 5,
   "metadata": {},
   "outputs": [],
   "source": [
    "class FileWritterGroup:\n",
    "    def __init__(self, f_dict):\n",
    "        self.writters = {k:FileWritter(v) for k, v in f_dict.items()}\n",
    "        self.n_writters = len(f_dict)\n",
    "    \n",
    "    def write_buffer(self, name, chars):\n",
    "        self.writters[name].write_buffer(chars)\n",
    "        \n",
    "    def write_buffers(self, chars):\n",
    "        for name, writter in self.writters.items():\n",
    "            writter.write_buffer(chars)\n",
    "    \n",
    "    def clear_buffer(self, name):\n",
    "        self.writters[name].clear_buffer()\n",
    "    \n",
    "    def clear_buffers(self):\n",
    "        for name, writter in self.writters.items():\n",
    "            writter.clear_buffer()\n",
    "            \n",
    "    def flush(self):\n",
    "        for name, writter in self.writters.items():\n",
    "            writter.flush()"
   ]
  },
  {
   "cell_type": "code",
   "execution_count": 6,
   "metadata": {},
   "outputs": [],
   "source": [
    "DATA_DIR = '../data/raw/preliminary_contest_data/'\n",
    "# USER_DATA_FILE, line_counts, out_folder = 'userFeature.data', 11420039, '../data/split/preliminary_contest_data/byUserFeatureName[all]/'\n",
    "USER_DATA_FILE, line_counts, out_folder = 'userFeature.preliminary.data', 9686953, '../data/split/preliminary_contest_data/byUserFeatureName/'\n",
    "USER_DATA_PATH = os.path.join(DATA_DIR, USER_DATA_FILE)"
   ]
  },
  {
   "cell_type": "code",
   "execution_count": 7,
   "metadata": {},
   "outputs": [
    {
     "name": "stderr",
     "output_type": "stream",
     "text": [
      "100%|██████████| 9686953/9686953 [00:19<00:00, 506158.43it/s]"
     ]
    },
    {
     "name": "stdout",
     "output_type": "stream",
     "text": [
      "9686953 lines read\n"
     ]
    },
    {
     "name": "stderr",
     "output_type": "stream",
     "text": [
      "\n"
     ]
    }
   ],
   "source": [
    "# comment this you are afraid your memory will explode, it requires ~5GB\n",
    "lines = []\n",
    "with open(USER_DATA_PATH) as f:\n",
    "    for i in tqdm(range(line_counts)):\n",
    "        line = f.readline().strip()\n",
    "        lines.append(line)\n",
    "print(\"{} lines read\".format(i + 1))\n",
    "assert line_counts == i + 1"
   ]
  },
  {
   "cell_type": "code",
   "execution_count": 8,
   "metadata": {},
   "outputs": [],
   "source": [
    "os.makedirs(out_folder, exist_ok=True)  # create directory if not existed\n",
    "feat_names = [\"age\", \"gender\", \"marriageStatus\", \"education\", \"consumptionAbility\", \"LBS\",\n",
    "              \"interest1\", \"interest2\", \"interest3\", \"interest4\", \"interest5\",\n",
    "              \"kw1\", \"kw2\", \"kw3\", \"topic1\", \"topic2\", \"topic3\", \"appIdInstall\",\n",
    "              \"appIdAction\", \"ct\", \"os\", \"carrier\", \"house\"]\n",
    "feat_to_filenames = {feat_name: os.path.join(out_folder, \"userFeature.[featureName='{}'].data\".format(feat_name)) \n",
    "                     for feat_name in feat_names}"
   ]
  },
  {
   "cell_type": "code",
   "execution_count": 9,
   "metadata": {},
   "outputs": [],
   "source": [
    "batch_size = 1000\n",
    "batch_counts = int(np.ceil(line_counts / batch_size))"
   ]
  },
  {
   "cell_type": "code",
   "execution_count": 10,
   "metadata": {},
   "outputs": [
    {
     "name": "stderr",
     "output_type": "stream",
     "text": [
      "100%|██████████| 9687/9687 [10:59<00:00, 14.68it/s]"
     ]
    },
    {
     "name": "stdout",
     "output_type": "stream",
     "text": [
      "done.\n"
     ]
    },
    {
     "name": "stderr",
     "output_type": "stream",
     "text": [
      "\n"
     ]
    }
   ],
   "source": [
    "# comment this you are afraid your memory will explode, it requires ~5GB\n",
    "with open_files(feat_to_filenames) as feat_fs:\n",
    "    fwg = FileWritterGroup(feat_fs)\n",
    "    for name, writter in fwg.writters.items():\n",
    "        writter.write_buffer(\"uid|{}\\n\".format(name))  # write header\n",
    "        writter.flush()\n",
    "    for batch_i in tqdm(range(batch_counts)):\n",
    "        line_batch = lines[batch_i * batch_size:(batch_i + 1) * batch_size]\n",
    "        try:\n",
    "            fwg.clear_buffers()\n",
    "            for line in line_batch:\n",
    "                feats = line.split(\"|\")\n",
    "                uid = feats[0].split(\" \")[1]\n",
    "                fwg.write_buffers(\"{}|\".format(uid))\n",
    "                for feat in feats[1:]:\n",
    "                    key, val = feat.split(\" \", maxsplit=1)  # only do split for once; e.g. key: \"interest1\", val: \"xxx yyy ...\"\n",
    "                    # fwg.write_buffer(key, \"{}|{}\\n\".format(uid, val))  # when there is only uid in feats, fwg will write nothing, this is bad for consistency\n",
    "                    fwg.write_buffer(key, val)\n",
    "                fwg.write_buffers(\"\\n\")\n",
    "        except Exception as e:\n",
    "            print(e.args)\n",
    "            pass\n",
    "        fwg.flush()\n",
    "print(\"done.\")"
   ]
  },
  {
   "cell_type": "code",
   "execution_count": 11,
   "metadata": {},
   "outputs": [],
   "source": [
    "# # uncomment this if you think your memory can hold it\n",
    "# with open(os.path.join(DATA_DIR, USER_DATA_FILE), \"r\") as user_f:\n",
    "#     with open_files(feat_to_filenames) as feat_fs:\n",
    "#         fwg = FileWritterGroup(feat_fs)\n",
    "#         for name, writter in fwg.writters.items():\n",
    "#             writter.write_buffer(\"uid|{}\".format(name))\n",
    "#         for i in tqdm(range(batch_counts)):\n",
    "#             try:\n",
    "#                 fwg.clear_buffers()\n",
    "#                 for i in range(batch_size):\n",
    "#                     ln = user_f.readline().strip()\n",
    "#                     feats = ln.split(\"|\")\n",
    "#                     uid = feats[0].split(\" \")[1]  # \"xxxxxxx\"\n",
    "#                     fwg.write_buffers(\"{}|\".format(uid))\n",
    "#                     for feat in feats[1:]:\n",
    "#                         key, val = feat.split(\" \", num=1)  # only do split for once; e.g. key: \"interest1\", val: \"xxx yyy ...\"\n",
    "#                         # fwg.write_buffer(key, \"{}|{}\\n\".format(uid, val))  # when there is only uid in feats, fwg will write nothing, this is bad for consistency\n",
    "#                         fwg.write_buffer(key, val)\n",
    "#                     fwg.write_buffers(\"\\n\")\n",
    "#             except Exception as e:\n",
    "#                 pass\n",
    "#             fwg.flush()\n",
    "# print(\"done.\")"
   ]
  },
  {
   "cell_type": "code",
   "execution_count": 14,
   "metadata": {},
   "outputs": [
    {
     "name": "stderr",
     "output_type": "stream",
     "text": [
      "9686954it [00:03, 3093083.47it/s]\n",
      "9686954it [00:03, 3046647.71it/s]\n",
      "9686954it [00:03, 3092382.16it/s]\n",
      "9686954it [00:03, 3071914.80it/s]\n",
      "9686954it [00:03, 3008569.04it/s]\n",
      "9686954it [00:03, 3084307.50it/s]\n",
      "9686954it [00:03, 3083362.11it/s]\n",
      "9686954it [00:03, 3008979.68it/s]\n",
      "9686954it [00:03, 2988031.48it/s]\n",
      "9686954it [00:03, 3083134.22it/s]\n",
      "9686954it [00:03, 3113648.46it/s]\n",
      "9686954it [00:03, 3088680.09it/s]\n",
      "9686954it [00:03, 2852687.34it/s]\n",
      "9686954it [00:03, 3104943.49it/s]\n",
      "9686954it [00:03, 2935023.97it/s]\n",
      "9686954it [00:03, 3020814.00it/s]\n",
      "9686954it [00:03, 3050800.48it/s]\n",
      "9686954it [00:03, 3116912.27it/s]\n",
      "9686954it [00:03, 3058709.17it/s]\n",
      "9686954it [00:03, 3049256.14it/s]\n",
      "9686954it [00:03, 2901525.52it/s]\n",
      "9686954it [00:03, 3129620.33it/s]\n",
      "9686954it [00:03, 3116251.98it/s]"
     ]
    },
    {
     "name": "stdout",
     "output_type": "stream",
     "text": [
      "{'consumptionAbility': 9686954, 'topic1': 9686954, 'os': 9686954, 'age': 9686954, 'LBS': 9686954, 'interest4': 9686954, 'ct': 9686954, 'interest5': 9686954, 'kw2': 9686954, 'appIdInstall': 9686954, 'marriageStatus': 9686954, 'appIdAction': 9686954, 'kw1': 9686954, 'kw3': 9686954, 'interest3': 9686954, 'gender': 9686954, 'house': 9686954, 'education': 9686954, 'interest2': 9686954, 'topic2': 9686954, 'topic3': 9686954, 'carrier': 9686954, 'interest1': 9686954}\n"
     ]
    },
    {
     "name": "stderr",
     "output_type": "stream",
     "text": [
      "\n"
     ]
    }
   ],
   "source": [
    "line_count_dict = {feat_name:count_file_lines(filepath) for feat_name, filepath in feat_to_filenames.items()}\n",
    "print(line_count_dict)\n",
    "for feat_name, lc in line_count_dict.items():\n",
    "    assert lc == line_counts or lc == line_counts + 1  # there is one empty line at the end"
   ]
  },
  {
   "cell_type": "code",
   "execution_count": null,
   "metadata": {},
   "outputs": [],
   "source": []
  }
 ],
 "metadata": {
  "kernelspec": {
   "display_name": "Python 3",
   "language": "python",
   "name": "python3"
  },
  "language_info": {
   "codemirror_mode": {
    "name": "ipython",
    "version": 3
   },
   "file_extension": ".py",
   "mimetype": "text/x-python",
   "name": "python",
   "nbconvert_exporter": "python",
   "pygments_lexer": "ipython3",
   "version": "3.5.2"
  }
 },
 "nbformat": 4,
 "nbformat_minor": 2
}
