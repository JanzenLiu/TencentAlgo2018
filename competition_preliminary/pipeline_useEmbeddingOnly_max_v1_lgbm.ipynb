{
 "cells": [
  {
   "cell_type": "code",
   "execution_count": 1,
   "metadata": {},
   "outputs": [],
   "source": [
    "from sklearn.model_selection import StratifiedShuffleSplit, StratifiedKFold\n",
    "from sklearn import metrics\n",
    "from contextlib import redirect_stdout\n",
    "from itertools import compress\n",
    "import scipy.sparse as sparse\n",
    "import lightgbm as lgb\n",
    "import pandas as pd\n",
    "import numpy as np\n",
    "import tqdm\n",
    "import os\n",
    "import gc\n",
    "import sys\n",
    "sys.path.append('../code/pipeline/')\n",
    "sys.path.append('../code/utils/')\n",
    "sys.path.append('../code/')\n",
    "import data_pipeline as dp\n",
    "import data_utils as du\n",
    "import perf_utils as pu\n",
    "import eval_utils as eu\n",
    "import io_utils as iu\n",
    "import config"
   ]
  },
  {
   "cell_type": "code",
   "execution_count": 2,
   "metadata": {},
   "outputs": [],
   "source": [
    "user_one_feat_names = config.USER_SINGLE_FEAT_NAMES\n",
    "user_multi_feat_names = config.USER_MULTI_FEAT_NAMES\n",
    "ad_feat_names = config.AD_FEAT_NAMES"
   ]
  },
  {
   "cell_type": "code",
   "execution_count": 3,
   "metadata": {},
   "outputs": [
    {
     "name": "stdout",
     "output_type": "stream",
     "text": [
      "[04:59:39] Finish loading training data. △M: +15.21GB. △T: 2.3 minutes.\n",
      "Train Data Shape (Embedding): (8798814, 464)\n",
      "Train Column Numbers (Embedding): 464\n"
     ]
    }
   ],
   "source": [
    "# ================\n",
    "# Data Preparation\n",
    "# ================\n",
    "# instantiate data loader\n",
    "emb_loaders = (dp.EmbeddingDataManager.build_data(feat_name, \"max\", 1) \n",
    "               for feat_name in user_multi_feat_names)\n",
    "union_loader = dp.DataUnion(*emb_loaders)\n",
    "\n",
    "with pu.profiler(\"loading training data\"):\n",
    "    cols_emb_train, X_emb_tv = union_loader.load(\"train\")\n",
    "    # X_emb_tv = sparse.csr_matrix(X_emb_tv)\n",
    "    gc.collect()\n",
    "\n",
    "print(\"Train Data Shape (Embedding): {}\".format(X_emb_tv.shape))\n",
    "print(\"Train Column Numbers (Embedding): {}\".format(len(cols_emb_train)))"
   ]
  },
  {
   "cell_type": "code",
   "execution_count": 4,
   "metadata": {},
   "outputs": [],
   "source": [
    "df_train = du.load_raw_data(\"train\")\n",
    "y = df_train['label'].values.copy()\n",
    "y = (y + 1) / 2  # -1, 1 -> 0, 1"
   ]
  },
  {
   "cell_type": "code",
   "execution_count": 5,
   "metadata": {},
   "outputs": [],
   "source": [
    "# n_splits = 3\n",
    "# sss = StratifiedShuffleSplit(n_splits=n_splits, test_size=1 / 3, random_state=20180505)  # for reproducibility\n",
    "# split_indices = [(train_index, valid_index) for train_index, valid_index in sss.split(df_train, y)]\n",
    "\n",
    "n_splits = 5  # use 3 instead of 5 to save time\n",
    "skf = StratifiedKFold(n_splits=n_splits)\n",
    "split_indices = [(train_index, valid_index) for train_index, valid_index in skf.split(df_train, y)]"
   ]
  },
  {
   "cell_type": "code",
   "execution_count": 6,
   "metadata": {},
   "outputs": [
    {
     "name": "stdout",
     "output_type": "stream",
     "text": [
      "[04:59:58] Finish splitting train/valid set. △M: +120.85MB. △T: 14.2 seconds.\n",
      "Training Set Size: (7039050, 464)\n",
      "Validation Set Size: (1759764, 464)\n"
     ]
    }
   ],
   "source": [
    "aids = df_train['aid'].values\n",
    "with pu.profiler(\"splitting train/valid set\"):\n",
    "    train_index, valid_index = split_indices[0]\n",
    "    # X_train, X_valid = X_tv[train_index, :], X_tv[valid_index, :]\n",
    "    X_train, X_valid = X_emb_tv[train_index, :], X_emb_tv[valid_index, :]\n",
    "    y_train, y_valid = y[train_index], y[valid_index]\n",
    "    aids_train, aids_valid = aids[train_index], aids[valid_index]\n",
    "    # assert X_train.shape[0] + X_valid.shape[0] == X_tv.shape[0]\n",
    "    assert X_train.shape[0] + X_valid.shape[0] == X_emb_tv.shape[0]\n",
    "    \n",
    "    # del X_tv\n",
    "    del X_emb_tv\n",
    "    gc.collect()\n",
    "\n",
    "print(\"Training Set Size: {}\".format(X_train.shape))\n",
    "print(\"Validation Set Size: {}\".format(X_valid.shape))"
   ]
  },
  {
   "cell_type": "code",
   "execution_count": 7,
   "metadata": {},
   "outputs": [
    {
     "name": "stdout",
     "output_type": "stream",
     "text": [
      "[05:00:10] Finish preparing LightGBM data. △M: +15.21GB. △T: 12.0 seconds.\n"
     ]
    }
   ],
   "source": [
    "with pu.profiler(\"preparing LightGBM data\"):\n",
    "    # lgb_train = lgb.Dataset(X_train.astype(np.float32), y_train, feature_name=cols_train)  # cause bugs I don't know how to fix\n",
    "    # lgb_valid = lgb.Dataset(X_valid.astype(np.float32), y_valid, feature_name=cols_train)\n",
    "    lgb_train = lgb.Dataset(X_train.astype(np.float32), y_train)\n",
    "    lgb_valid = lgb.Dataset(X_valid.astype(np.float32), y_valid)\n",
    "    gc.collect()"
   ]
  },
  {
   "cell_type": "code",
   "execution_count": 8,
   "metadata": {},
   "outputs": [
    {
     "name": "stdout",
     "output_type": "stream",
     "text": [
      "[05:00:11] Finish releasing memory. △M: -12.17GB. △T: 1.5 seconds.\n"
     ]
    }
   ],
   "source": [
    "with pu.profiler(\"releasing memory\"):\n",
    "    del X_train\n",
    "    # del X_valid\n",
    "    gc.collect()"
   ]
  },
  {
   "cell_type": "code",
   "execution_count": 9,
   "metadata": {},
   "outputs": [],
   "source": [
    "log_folder = os.path.join(config.LOG_DIR, 'lgbm/pipeline/0518/')\n",
    "log_file = 'v3.log'\n",
    "log_path = os.path.join(log_folder, log_file)\n",
    "os.makedirs(log_folder, exist_ok=True)"
   ]
  },
  {
   "cell_type": "code",
   "execution_count": 10,
   "metadata": {
    "scrolled": true
   },
   "outputs": [
    {
     "name": "stdout",
     "output_type": "stream",
     "text": [
      "[1]\ttrain's auc: 0.628924\ttrain's online_auc: 0.653838\tvalid1's auc: 0.62695\tvalid1's online_auc: 0.650055\n",
      "Training until validation scores don't improve for 50 rounds.\n",
      "[2]\ttrain's auc: 0.635773\ttrain's online_auc: 0.660355\tvalid1's auc: 0.633197\tvalid1's online_auc: 0.656405\n",
      "[3]\ttrain's auc: 0.638669\ttrain's online_auc: 0.663429\tvalid1's auc: 0.636172\tvalid1's online_auc: 0.659767\n",
      "[4]\ttrain's auc: 0.640653\ttrain's online_auc: 0.665812\tvalid1's auc: 0.638401\tvalid1's online_auc: 0.661912\n",
      "[5]\ttrain's auc: 0.64115\ttrain's online_auc: 0.666102\tvalid1's auc: 0.638988\tvalid1's online_auc: 0.662288\n",
      "[6]\ttrain's auc: 0.643203\ttrain's online_auc: 0.66807\tvalid1's auc: 0.640731\tvalid1's online_auc: 0.663629\n",
      "[7]\ttrain's auc: 0.644448\ttrain's online_auc: 0.669326\tvalid1's auc: 0.641864\tvalid1's online_auc: 0.664948\n",
      "[8]\ttrain's auc: 0.645186\ttrain's online_auc: 0.6697\tvalid1's auc: 0.642787\tvalid1's online_auc: 0.665776\n",
      "[9]\ttrain's auc: 0.646328\ttrain's online_auc: 0.671044\tvalid1's auc: 0.643786\tvalid1's online_auc: 0.667169\n",
      "[10]\ttrain's auc: 0.646938\ttrain's online_auc: 0.671793\tvalid1's auc: 0.644355\tvalid1's online_auc: 0.667931\n",
      "[11]\ttrain's auc: 0.648585\ttrain's online_auc: 0.673486\tvalid1's auc: 0.645843\tvalid1's online_auc: 0.669385\n",
      "[12]\ttrain's auc: 0.649878\ttrain's online_auc: 0.674779\tvalid1's auc: 0.647206\tvalid1's online_auc: 0.670857\n",
      "[13]\ttrain's auc: 0.650719\ttrain's online_auc: 0.67542\tvalid1's auc: 0.648233\tvalid1's online_auc: 0.671831\n",
      "[14]\ttrain's auc: 0.651294\ttrain's online_auc: 0.675884\tvalid1's auc: 0.648748\tvalid1's online_auc: 0.672358\n",
      "[15]\ttrain's auc: 0.652214\ttrain's online_auc: 0.676682\tvalid1's auc: 0.649394\tvalid1's online_auc: 0.673219\n",
      "[16]\ttrain's auc: 0.653218\ttrain's online_auc: 0.67761\tvalid1's auc: 0.650212\tvalid1's online_auc: 0.673787\n",
      "[17]\ttrain's auc: 0.654053\ttrain's online_auc: 0.67822\tvalid1's auc: 0.650943\tvalid1's online_auc: 0.674339\n",
      "[18]\ttrain's auc: 0.655229\ttrain's online_auc: 0.679372\tvalid1's auc: 0.651915\tvalid1's online_auc: 0.675433\n",
      "[19]\ttrain's auc: 0.656028\ttrain's online_auc: 0.680133\tvalid1's auc: 0.652476\tvalid1's online_auc: 0.675882\n",
      "[20]\ttrain's auc: 0.656783\ttrain's online_auc: 0.680811\tvalid1's auc: 0.653054\tvalid1's online_auc: 0.676368\n",
      "[21]\ttrain's auc: 0.657845\ttrain's online_auc: 0.68157\tvalid1's auc: 0.653902\tvalid1's online_auc: 0.676868\n",
      "[22]\ttrain's auc: 0.658865\ttrain's online_auc: 0.682356\tvalid1's auc: 0.654578\tvalid1's online_auc: 0.677283\n",
      "[23]\ttrain's auc: 0.659905\ttrain's online_auc: 0.683258\tvalid1's auc: 0.655188\tvalid1's online_auc: 0.677812\n",
      "[24]\ttrain's auc: 0.660831\ttrain's online_auc: 0.684032\tvalid1's auc: 0.655866\tvalid1's online_auc: 0.678263\n",
      "[25]\ttrain's auc: 0.661769\ttrain's online_auc: 0.684858\tvalid1's auc: 0.656582\tvalid1's online_auc: 0.67884\n",
      "[26]\ttrain's auc: 0.662598\ttrain's online_auc: 0.685593\tvalid1's auc: 0.657013\tvalid1's online_auc: 0.679015\n",
      "[27]\ttrain's auc: 0.663457\ttrain's online_auc: 0.68619\tvalid1's auc: 0.657639\tvalid1's online_auc: 0.679297\n",
      "[28]\ttrain's auc: 0.664367\ttrain's online_auc: 0.687086\tvalid1's auc: 0.658196\tvalid1's online_auc: 0.679776\n",
      "[29]\ttrain's auc: 0.665092\ttrain's online_auc: 0.687594\tvalid1's auc: 0.65876\tvalid1's online_auc: 0.680196\n",
      "[30]\ttrain's auc: 0.665806\ttrain's online_auc: 0.688264\tvalid1's auc: 0.659171\tvalid1's online_auc: 0.680532\n",
      "[31]\ttrain's auc: 0.666451\ttrain's online_auc: 0.688918\tvalid1's auc: 0.659551\tvalid1's online_auc: 0.680849\n",
      "[32]\ttrain's auc: 0.667272\ttrain's online_auc: 0.689521\tvalid1's auc: 0.66016\tvalid1's online_auc: 0.681309\n",
      "[33]\ttrain's auc: 0.667938\ttrain's online_auc: 0.69013\tvalid1's auc: 0.660594\tvalid1's online_auc: 0.681699\n",
      "[34]\ttrain's auc: 0.668615\ttrain's online_auc: 0.690711\tvalid1's auc: 0.661106\tvalid1's online_auc: 0.6822\n",
      "[35]\ttrain's auc: 0.669356\ttrain's online_auc: 0.691271\tvalid1's auc: 0.661529\tvalid1's online_auc: 0.682484\n",
      "[36]\ttrain's auc: 0.66993\ttrain's online_auc: 0.6918\tvalid1's auc: 0.661887\tvalid1's online_auc: 0.682716\n",
      "[37]\ttrain's auc: 0.670559\ttrain's online_auc: 0.692277\tvalid1's auc: 0.662298\tvalid1's online_auc: 0.68293\n",
      "[38]\ttrain's auc: 0.671156\ttrain's online_auc: 0.692864\tvalid1's auc: 0.66255\tvalid1's online_auc: 0.683175\n",
      "[39]\ttrain's auc: 0.671808\ttrain's online_auc: 0.69354\tvalid1's auc: 0.662854\tvalid1's online_auc: 0.683472\n",
      "[40]\ttrain's auc: 0.672371\ttrain's online_auc: 0.694063\tvalid1's auc: 0.66309\tvalid1's online_auc: 0.683624\n",
      "[41]\ttrain's auc: 0.672895\ttrain's online_auc: 0.694533\tvalid1's auc: 0.663343\tvalid1's online_auc: 0.683765\n",
      "[42]\ttrain's auc: 0.673492\ttrain's online_auc: 0.695056\tvalid1's auc: 0.663536\tvalid1's online_auc: 0.683886\n",
      "[43]\ttrain's auc: 0.674029\ttrain's online_auc: 0.695475\tvalid1's auc: 0.663861\tvalid1's online_auc: 0.684009\n",
      "[44]\ttrain's auc: 0.67451\ttrain's online_auc: 0.695885\tvalid1's auc: 0.664049\tvalid1's online_auc: 0.684129\n",
      "[45]\ttrain's auc: 0.675049\ttrain's online_auc: 0.696369\tvalid1's auc: 0.664263\tvalid1's online_auc: 0.684284\n",
      "[46]\ttrain's auc: 0.675549\ttrain's online_auc: 0.696857\tvalid1's auc: 0.664404\tvalid1's online_auc: 0.684416\n",
      "[47]\ttrain's auc: 0.676116\ttrain's online_auc: 0.697281\tvalid1's auc: 0.664563\tvalid1's online_auc: 0.684441\n",
      "[48]\ttrain's auc: 0.676538\ttrain's online_auc: 0.697613\tvalid1's auc: 0.664684\tvalid1's online_auc: 0.684498\n",
      "[49]\ttrain's auc: 0.67701\ttrain's online_auc: 0.69793\tvalid1's auc: 0.664856\tvalid1's online_auc: 0.68459\n",
      "[50]\ttrain's auc: 0.677504\ttrain's online_auc: 0.698358\tvalid1's auc: 0.665022\tvalid1's online_auc: 0.684648\n",
      "[51]\ttrain's auc: 0.678006\ttrain's online_auc: 0.698825\tvalid1's auc: 0.66521\tvalid1's online_auc: 0.684786\n",
      "[52]\ttrain's auc: 0.678533\ttrain's online_auc: 0.69926\tvalid1's auc: 0.665457\tvalid1's online_auc: 0.684966\n",
      "[53]\ttrain's auc: 0.679\ttrain's online_auc: 0.699716\tvalid1's auc: 0.665537\tvalid1's online_auc: 0.685057\n",
      "[54]\ttrain's auc: 0.679451\ttrain's online_auc: 0.700132\tvalid1's auc: 0.665659\tvalid1's online_auc: 0.685143\n",
      "[55]\ttrain's auc: 0.679857\ttrain's online_auc: 0.700467\tvalid1's auc: 0.66578\tvalid1's online_auc: 0.685128\n",
      "[56]\ttrain's auc: 0.680321\ttrain's online_auc: 0.70089\tvalid1's auc: 0.665917\tvalid1's online_auc: 0.685244\n",
      "[57]\ttrain's auc: 0.680761\ttrain's online_auc: 0.701331\tvalid1's auc: 0.666091\tvalid1's online_auc: 0.685366\n",
      "[58]\ttrain's auc: 0.681229\ttrain's online_auc: 0.701757\tvalid1's auc: 0.666202\tvalid1's online_auc: 0.685441\n",
      "[59]\ttrain's auc: 0.681724\ttrain's online_auc: 0.702283\tvalid1's auc: 0.666363\tvalid1's online_auc: 0.685587\n",
      "[60]\ttrain's auc: 0.682167\ttrain's online_auc: 0.70271\tvalid1's auc: 0.66642\tvalid1's online_auc: 0.685593\n",
      "[61]\ttrain's auc: 0.682569\ttrain's online_auc: 0.703049\tvalid1's auc: 0.666468\tvalid1's online_auc: 0.685681\n",
      "[62]\ttrain's auc: 0.682965\ttrain's online_auc: 0.703438\tvalid1's auc: 0.666547\tvalid1's online_auc: 0.685682\n",
      "[63]\ttrain's auc: 0.683414\ttrain's online_auc: 0.703866\tvalid1's auc: 0.666586\tvalid1's online_auc: 0.685707\n",
      "[64]\ttrain's auc: 0.683847\ttrain's online_auc: 0.704281\tvalid1's auc: 0.666671\tvalid1's online_auc: 0.685734\n",
      "[65]\ttrain's auc: 0.684303\ttrain's online_auc: 0.70479\tvalid1's auc: 0.666782\tvalid1's online_auc: 0.685864\n",
      "[66]\ttrain's auc: 0.684713\ttrain's online_auc: 0.70514\tvalid1's auc: 0.666901\tvalid1's online_auc: 0.685951\n",
      "[67]\ttrain's auc: 0.685109\ttrain's online_auc: 0.705548\tvalid1's auc: 0.667005\tvalid1's online_auc: 0.686091\n",
      "[68]\ttrain's auc: 0.685506\ttrain's online_auc: 0.705831\tvalid1's auc: 0.667225\tvalid1's online_auc: 0.686276\n",
      "[69]\ttrain's auc: 0.685939\ttrain's online_auc: 0.706179\tvalid1's auc: 0.667285\tvalid1's online_auc: 0.686319\n",
      "[70]\ttrain's auc: 0.686368\ttrain's online_auc: 0.706561\tvalid1's auc: 0.667349\tvalid1's online_auc: 0.686293\n",
      "[71]\ttrain's auc: 0.686686\ttrain's online_auc: 0.706926\tvalid1's auc: 0.667369\tvalid1's online_auc: 0.686332\n",
      "[72]\ttrain's auc: 0.687055\ttrain's online_auc: 0.707267\tvalid1's auc: 0.667434\tvalid1's online_auc: 0.686378\n",
      "[73]\ttrain's auc: 0.687457\ttrain's online_auc: 0.707607\tvalid1's auc: 0.667464\tvalid1's online_auc: 0.686379\n",
      "[74]\ttrain's auc: 0.687864\ttrain's online_auc: 0.707973\tvalid1's auc: 0.667554\tvalid1's online_auc: 0.686473\n",
      "[75]\ttrain's auc: 0.688239\ttrain's online_auc: 0.70833\tvalid1's auc: 0.667578\tvalid1's online_auc: 0.686462\n",
      "[76]\ttrain's auc: 0.688681\ttrain's online_auc: 0.708788\tvalid1's auc: 0.667648\tvalid1's online_auc: 0.686496\n"
     ]
    },
    {
     "name": "stdout",
     "output_type": "stream",
     "text": [
      "[77]\ttrain's auc: 0.689139\ttrain's online_auc: 0.709224\tvalid1's auc: 0.667727\tvalid1's online_auc: 0.68658\n",
      "[78]\ttrain's auc: 0.689597\ttrain's online_auc: 0.70961\tvalid1's auc: 0.667822\tvalid1's online_auc: 0.686682\n",
      "[79]\ttrain's auc: 0.689957\ttrain's online_auc: 0.709991\tvalid1's auc: 0.667869\tvalid1's online_auc: 0.686739\n",
      "[80]\ttrain's auc: 0.690402\ttrain's online_auc: 0.71042\tvalid1's auc: 0.667948\tvalid1's online_auc: 0.686992\n",
      "[81]\ttrain's auc: 0.690798\ttrain's online_auc: 0.710772\tvalid1's auc: 0.667965\tvalid1's online_auc: 0.687093\n",
      "[82]\ttrain's auc: 0.691068\ttrain's online_auc: 0.711062\tvalid1's auc: 0.668028\tvalid1's online_auc: 0.687184\n",
      "[83]\ttrain's auc: 0.69144\ttrain's online_auc: 0.711389\tvalid1's auc: 0.668115\tvalid1's online_auc: 0.687225\n",
      "[84]\ttrain's auc: 0.69185\ttrain's online_auc: 0.711727\tvalid1's auc: 0.668114\tvalid1's online_auc: 0.687199\n",
      "[85]\ttrain's auc: 0.69222\ttrain's online_auc: 0.711994\tvalid1's auc: 0.668194\tvalid1's online_auc: 0.687198\n",
      "[86]\ttrain's auc: 0.692612\ttrain's online_auc: 0.712331\tvalid1's auc: 0.668165\tvalid1's online_auc: 0.687127\n",
      "[87]\ttrain's auc: 0.693023\ttrain's online_auc: 0.712788\tvalid1's auc: 0.668197\tvalid1's online_auc: 0.687151\n",
      "[88]\ttrain's auc: 0.693421\ttrain's online_auc: 0.713187\tvalid1's auc: 0.668178\tvalid1's online_auc: 0.687171\n",
      "[89]\ttrain's auc: 0.693815\ttrain's online_auc: 0.713574\tvalid1's auc: 0.668199\tvalid1's online_auc: 0.687205\n",
      "[90]\ttrain's auc: 0.694086\ttrain's online_auc: 0.713918\tvalid1's auc: 0.668201\tvalid1's online_auc: 0.687168\n",
      "[91]\ttrain's auc: 0.694429\ttrain's online_auc: 0.714233\tvalid1's auc: 0.668258\tvalid1's online_auc: 0.687203\n",
      "[92]\ttrain's auc: 0.694844\ttrain's online_auc: 0.714564\tvalid1's auc: 0.668269\tvalid1's online_auc: 0.687182\n",
      "[93]\ttrain's auc: 0.695221\ttrain's online_auc: 0.714921\tvalid1's auc: 0.668293\tvalid1's online_auc: 0.687188\n",
      "[94]\ttrain's auc: 0.695682\ttrain's online_auc: 0.715343\tvalid1's auc: 0.668249\tvalid1's online_auc: 0.687113\n",
      "[95]\ttrain's auc: 0.696084\ttrain's online_auc: 0.715722\tvalid1's auc: 0.668216\tvalid1's online_auc: 0.687059\n",
      "[96]\ttrain's auc: 0.696308\ttrain's online_auc: 0.715942\tvalid1's auc: 0.668198\tvalid1's online_auc: 0.687065\n",
      "[97]\ttrain's auc: 0.696638\ttrain's online_auc: 0.716187\tvalid1's auc: 0.668214\tvalid1's online_auc: 0.687095\n",
      "[98]\ttrain's auc: 0.696953\ttrain's online_auc: 0.71651\tvalid1's auc: 0.668262\tvalid1's online_auc: 0.687118\n",
      "[99]\ttrain's auc: 0.697303\ttrain's online_auc: 0.716883\tvalid1's auc: 0.668239\tvalid1's online_auc: 0.687109\n",
      "[100]\ttrain's auc: 0.69767\ttrain's online_auc: 0.717301\tvalid1's auc: 0.668285\tvalid1's online_auc: 0.687148\n",
      "[101]\ttrain's auc: 0.697928\ttrain's online_auc: 0.717579\tvalid1's auc: 0.668304\tvalid1's online_auc: 0.687192\n",
      "[102]\ttrain's auc: 0.698311\ttrain's online_auc: 0.71796\tvalid1's auc: 0.668339\tvalid1's online_auc: 0.687173\n",
      "[103]\ttrain's auc: 0.698597\ttrain's online_auc: 0.7183\tvalid1's auc: 0.668355\tvalid1's online_auc: 0.687195\n",
      "[104]\ttrain's auc: 0.698948\ttrain's online_auc: 0.718633\tvalid1's auc: 0.668356\tvalid1's online_auc: 0.687209\n",
      "[105]\ttrain's auc: 0.699392\ttrain's online_auc: 0.719037\tvalid1's auc: 0.668324\tvalid1's online_auc: 0.687214\n",
      "[106]\ttrain's auc: 0.699864\ttrain's online_auc: 0.719424\tvalid1's auc: 0.668276\tvalid1's online_auc: 0.687198\n",
      "[107]\ttrain's auc: 0.700227\ttrain's online_auc: 0.719817\tvalid1's auc: 0.668252\tvalid1's online_auc: 0.687163\n",
      "[108]\ttrain's auc: 0.700574\ttrain's online_auc: 0.720165\tvalid1's auc: 0.668255\tvalid1's online_auc: 0.687203\n",
      "[109]\ttrain's auc: 0.701006\ttrain's online_auc: 0.72054\tvalid1's auc: 0.668302\tvalid1's online_auc: 0.687252\n",
      "[110]\ttrain's auc: 0.701336\ttrain's online_auc: 0.720847\tvalid1's auc: 0.668307\tvalid1's online_auc: 0.687296\n",
      "[111]\ttrain's auc: 0.701764\ttrain's online_auc: 0.721348\tvalid1's auc: 0.668311\tvalid1's online_auc: 0.687257\n",
      "[112]\ttrain's auc: 0.702078\ttrain's online_auc: 0.721726\tvalid1's auc: 0.66828\tvalid1's online_auc: 0.687215\n",
      "[113]\ttrain's auc: 0.702446\ttrain's online_auc: 0.72212\tvalid1's auc: 0.66824\tvalid1's online_auc: 0.68715\n",
      "[114]\ttrain's auc: 0.702818\ttrain's online_auc: 0.722478\tvalid1's auc: 0.668273\tvalid1's online_auc: 0.687204\n",
      "[115]\ttrain's auc: 0.703257\ttrain's online_auc: 0.722905\tvalid1's auc: 0.66827\tvalid1's online_auc: 0.687202\n",
      "[116]\ttrain's auc: 0.703571\ttrain's online_auc: 0.723212\tvalid1's auc: 0.668265\tvalid1's online_auc: 0.687204\n",
      "[117]\ttrain's auc: 0.703857\ttrain's online_auc: 0.723478\tvalid1's auc: 0.668291\tvalid1's online_auc: 0.687216\n",
      "[118]\ttrain's auc: 0.704195\ttrain's online_auc: 0.723864\tvalid1's auc: 0.668265\tvalid1's online_auc: 0.68719\n",
      "[119]\ttrain's auc: 0.704522\ttrain's online_auc: 0.724188\tvalid1's auc: 0.668226\tvalid1's online_auc: 0.687139\n",
      "[120]\ttrain's auc: 0.704839\ttrain's online_auc: 0.724542\tvalid1's auc: 0.668186\tvalid1's online_auc: 0.687047\n",
      "[121]\ttrain's auc: 0.705269\ttrain's online_auc: 0.724895\tvalid1's auc: 0.668125\tvalid1's online_auc: 0.686975\n",
      "[122]\ttrain's auc: 0.705619\ttrain's online_auc: 0.725177\tvalid1's auc: 0.668122\tvalid1's online_auc: 0.686985\n",
      "[123]\ttrain's auc: 0.705941\ttrain's online_auc: 0.725533\tvalid1's auc: 0.668127\tvalid1's online_auc: 0.687037\n",
      "[124]\ttrain's auc: 0.706344\ttrain's online_auc: 0.725911\tvalid1's auc: 0.668107\tvalid1's online_auc: 0.686958\n",
      "[125]\ttrain's auc: 0.70669\ttrain's online_auc: 0.726191\tvalid1's auc: 0.6681\tvalid1's online_auc: 0.686964\n",
      "[126]\ttrain's auc: 0.707024\ttrain's online_auc: 0.726454\tvalid1's auc: 0.668063\tvalid1's online_auc: 0.686905\n",
      "[127]\ttrain's auc: 0.707394\ttrain's online_auc: 0.726749\tvalid1's auc: 0.668038\tvalid1's online_auc: 0.686885\n",
      "[128]\ttrain's auc: 0.707791\ttrain's online_auc: 0.727101\tvalid1's auc: 0.668024\tvalid1's online_auc: 0.686922\n",
      "[129]\ttrain's auc: 0.708172\ttrain's online_auc: 0.727485\tvalid1's auc: 0.668019\tvalid1's online_auc: 0.686868\n",
      "[130]\ttrain's auc: 0.708528\ttrain's online_auc: 0.727967\tvalid1's auc: 0.668035\tvalid1's online_auc: 0.686852\n",
      "[131]\ttrain's auc: 0.708761\ttrain's online_auc: 0.728224\tvalid1's auc: 0.668017\tvalid1's online_auc: 0.68687\n",
      "[132]\ttrain's auc: 0.709048\ttrain's online_auc: 0.728516\tvalid1's auc: 0.668038\tvalid1's online_auc: 0.6868\n",
      "[133]\ttrain's auc: 0.709263\ttrain's online_auc: 0.728747\tvalid1's auc: 0.667977\tvalid1's online_auc: 0.686716\n",
      "[134]\ttrain's auc: 0.709525\ttrain's online_auc: 0.728967\tvalid1's auc: 0.667999\tvalid1's online_auc: 0.686787\n",
      "[135]\ttrain's auc: 0.709897\ttrain's online_auc: 0.729319\tvalid1's auc: 0.667976\tvalid1's online_auc: 0.686792\n",
      "[136]\ttrain's auc: 0.710086\ttrain's online_auc: 0.729527\tvalid1's auc: 0.667968\tvalid1's online_auc: 0.686774\n",
      "[137]\ttrain's auc: 0.710294\ttrain's online_auc: 0.729772\tvalid1's auc: 0.66797\tvalid1's online_auc: 0.686768\n",
      "[138]\ttrain's auc: 0.710651\ttrain's online_auc: 0.730125\tvalid1's auc: 0.667937\tvalid1's online_auc: 0.686721\n",
      "[139]\ttrain's auc: 0.710846\ttrain's online_auc: 0.730286\tvalid1's auc: 0.667935\tvalid1's online_auc: 0.686698\n",
      "[140]\ttrain's auc: 0.71119\ttrain's online_auc: 0.730597\tvalid1's auc: 0.667914\tvalid1's online_auc: 0.686594\n",
      "[141]\ttrain's auc: 0.711565\ttrain's online_auc: 0.730902\tvalid1's auc: 0.667962\tvalid1's online_auc: 0.686625\n",
      "[142]\ttrain's auc: 0.711895\ttrain's online_auc: 0.73117\tvalid1's auc: 0.667958\tvalid1's online_auc: 0.686608\n",
      "[143]\ttrain's auc: 0.712175\ttrain's online_auc: 0.731433\tvalid1's auc: 0.667972\tvalid1's online_auc: 0.686549\n",
      "[144]\ttrain's auc: 0.712492\ttrain's online_auc: 0.731676\tvalid1's auc: 0.667923\tvalid1's online_auc: 0.686518\n",
      "[145]\ttrain's auc: 0.712687\ttrain's online_auc: 0.731922\tvalid1's auc: 0.667925\tvalid1's online_auc: 0.68654\n",
      "[146]\ttrain's auc: 0.713062\ttrain's online_auc: 0.732232\tvalid1's auc: 0.667942\tvalid1's online_auc: 0.686534\n",
      "[147]\ttrain's auc: 0.713458\ttrain's online_auc: 0.732643\tvalid1's auc: 0.667893\tvalid1's online_auc: 0.686478\n",
      "[148]\ttrain's auc: 0.713737\ttrain's online_auc: 0.732947\tvalid1's auc: 0.66787\tvalid1's online_auc: 0.686443\n",
      "[149]\ttrain's auc: 0.714028\ttrain's online_auc: 0.733236\tvalid1's auc: 0.667862\tvalid1's online_auc: 0.686431\n",
      "[150]\ttrain's auc: 0.714359\ttrain's online_auc: 0.733528\tvalid1's auc: 0.667822\tvalid1's online_auc: 0.686433\n",
      "[151]\ttrain's auc: 0.714593\ttrain's online_auc: 0.73373\tvalid1's auc: 0.667813\tvalid1's online_auc: 0.686427\n"
     ]
    },
    {
     "name": "stdout",
     "output_type": "stream",
     "text": [
      "[152]\ttrain's auc: 0.714787\ttrain's online_auc: 0.733922\tvalid1's auc: 0.667799\tvalid1's online_auc: 0.68639\n",
      "[153]\ttrain's auc: 0.715119\ttrain's online_auc: 0.734222\tvalid1's auc: 0.667761\tvalid1's online_auc: 0.686392\n",
      "[154]\ttrain's auc: 0.715495\ttrain's online_auc: 0.73458\tvalid1's auc: 0.667712\tvalid1's online_auc: 0.686334\n",
      "Early stopping, best iteration is:\n",
      "[104]\ttrain's auc: 0.698948\ttrain's online_auc: 0.718633\tvalid1's auc: 0.668356\tvalid1's online_auc: 0.687209\n"
     ]
    }
   ],
   "source": [
    "# v2 parameters\n",
    "params = {\n",
    "    'boosting_type': 'gbdt',\n",
    "    'objective': 'binary',\n",
    "    'metric': 'auc',\n",
    "    'max_depth': 15,\n",
    "    'num_leaves': 120,\n",
    "    'learning_rate': 0.15,\n",
    "    'feature_fraction': 0.9,\n",
    "    'bagging_fraction': 0.8,\n",
    "    'verbose': 0\n",
    "}\n",
    "num_rounds = 1000\n",
    "# # v3 parameters\n",
    "# params = {\n",
    "#     'boosting_type': 'gbdt',\n",
    "#     'objective': 'binary',\n",
    "#     'metric': 'auc',\n",
    "#     'max_depth': 6,\n",
    "#     'num_leaves': 64,\n",
    "#     'learning_rate': 0.1,\n",
    "#     'feature_fraction': 0.5,\n",
    "#     'bagging_fraction': 0.5,\n",
    "#     'verbose': 0\n",
    "# }\n",
    "# num_rounds = 5000\n",
    "eval_auc = eu.build_lightgbm_online_auc_eval(aids_train, aids_valid)\n",
    "\n",
    "with iu.DuplicatedLogger(log_path):\n",
    "    lgbm = lgb.train(params,\n",
    "                     lgb_train,\n",
    "                     num_boost_round=num_rounds,\n",
    "                     valid_sets=[lgb_train, lgb_valid], \n",
    "                     valid_names=['train', 'valid1'],\n",
    "                     feval = eval_auc,\n",
    "                     early_stopping_rounds=50)"
   ]
  },
  {
   "cell_type": "code",
   "execution_count": 11,
   "metadata": {
    "scrolled": true
   },
   "outputs": [
    {
     "data": {
      "text/html": [
       "<div>\n",
       "<style scoped>\n",
       "    .dataframe tbody tr th:only-of-type {\n",
       "        vertical-align: middle;\n",
       "    }\n",
       "\n",
       "    .dataframe tbody tr th {\n",
       "        vertical-align: top;\n",
       "    }\n",
       "\n",
       "    .dataframe thead th {\n",
       "        text-align: right;\n",
       "    }\n",
       "</style>\n",
       "<table border=\"1\" class=\"dataframe\">\n",
       "  <thead>\n",
       "    <tr style=\"text-align: right;\">\n",
       "      <th></th>\n",
       "      <th>feature</th>\n",
       "      <th>importance</th>\n",
       "    </tr>\n",
       "  </thead>\n",
       "  <tbody>\n",
       "    <tr>\n",
       "      <th>176</th>\n",
       "      <td>kw2_embedding_49</td>\n",
       "      <td>189</td>\n",
       "    </tr>\n",
       "    <tr>\n",
       "      <th>175</th>\n",
       "      <td>kw2_embedding_48</td>\n",
       "      <td>159</td>\n",
       "    </tr>\n",
       "    <tr>\n",
       "      <th>159</th>\n",
       "      <td>kw2_embedding_32</td>\n",
       "      <td>147</td>\n",
       "    </tr>\n",
       "    <tr>\n",
       "      <th>132</th>\n",
       "      <td>kw2_embedding_5</td>\n",
       "      <td>140</td>\n",
       "    </tr>\n",
       "    <tr>\n",
       "      <th>147</th>\n",
       "      <td>kw2_embedding_20</td>\n",
       "      <td>138</td>\n",
       "    </tr>\n",
       "    <tr>\n",
       "      <th>322</th>\n",
       "      <td>topic2_embedding_45</td>\n",
       "      <td>133</td>\n",
       "    </tr>\n",
       "    <tr>\n",
       "      <th>127</th>\n",
       "      <td>kw2_embedding_0</td>\n",
       "      <td>129</td>\n",
       "    </tr>\n",
       "    <tr>\n",
       "      <th>138</th>\n",
       "      <td>kw2_embedding_11</td>\n",
       "      <td>127</td>\n",
       "    </tr>\n",
       "    <tr>\n",
       "      <th>156</th>\n",
       "      <td>kw2_embedding_29</td>\n",
       "      <td>122</td>\n",
       "    </tr>\n",
       "    <tr>\n",
       "      <th>146</th>\n",
       "      <td>kw2_embedding_19</td>\n",
       "      <td>116</td>\n",
       "    </tr>\n",
       "    <tr>\n",
       "      <th>296</th>\n",
       "      <td>topic2_embedding_19</td>\n",
       "      <td>115</td>\n",
       "    </tr>\n",
       "    <tr>\n",
       "      <th>36</th>\n",
       "      <td>interest2_embedding_3</td>\n",
       "      <td>109</td>\n",
       "    </tr>\n",
       "    <tr>\n",
       "      <th>324</th>\n",
       "      <td>topic2_embedding_47</td>\n",
       "      <td>106</td>\n",
       "    </tr>\n",
       "    <tr>\n",
       "      <th>304</th>\n",
       "      <td>topic2_embedding_27</td>\n",
       "      <td>106</td>\n",
       "    </tr>\n",
       "    <tr>\n",
       "      <th>39</th>\n",
       "      <td>interest2_embedding_6</td>\n",
       "      <td>106</td>\n",
       "    </tr>\n",
       "    <tr>\n",
       "      <th>139</th>\n",
       "      <td>kw2_embedding_12</td>\n",
       "      <td>106</td>\n",
       "    </tr>\n",
       "    <tr>\n",
       "      <th>288</th>\n",
       "      <td>topic2_embedding_11</td>\n",
       "      <td>106</td>\n",
       "    </tr>\n",
       "    <tr>\n",
       "      <th>164</th>\n",
       "      <td>kw2_embedding_37</td>\n",
       "      <td>104</td>\n",
       "    </tr>\n",
       "    <tr>\n",
       "      <th>40</th>\n",
       "      <td>interest2_embedding_7</td>\n",
       "      <td>102</td>\n",
       "    </tr>\n",
       "    <tr>\n",
       "      <th>131</th>\n",
       "      <td>kw2_embedding_4</td>\n",
       "      <td>101</td>\n",
       "    </tr>\n",
       "    <tr>\n",
       "      <th>293</th>\n",
       "      <td>topic2_embedding_16</td>\n",
       "      <td>100</td>\n",
       "    </tr>\n",
       "    <tr>\n",
       "      <th>166</th>\n",
       "      <td>kw2_embedding_39</td>\n",
       "      <td>99</td>\n",
       "    </tr>\n",
       "    <tr>\n",
       "      <th>151</th>\n",
       "      <td>kw2_embedding_24</td>\n",
       "      <td>97</td>\n",
       "    </tr>\n",
       "    <tr>\n",
       "      <th>136</th>\n",
       "      <td>kw2_embedding_9</td>\n",
       "      <td>96</td>\n",
       "    </tr>\n",
       "    <tr>\n",
       "      <th>134</th>\n",
       "      <td>kw2_embedding_7</td>\n",
       "      <td>92</td>\n",
       "    </tr>\n",
       "    <tr>\n",
       "      <th>155</th>\n",
       "      <td>kw2_embedding_28</td>\n",
       "      <td>90</td>\n",
       "    </tr>\n",
       "    <tr>\n",
       "      <th>157</th>\n",
       "      <td>kw2_embedding_30</td>\n",
       "      <td>88</td>\n",
       "    </tr>\n",
       "    <tr>\n",
       "      <th>168</th>\n",
       "      <td>kw2_embedding_41</td>\n",
       "      <td>87</td>\n",
       "    </tr>\n",
       "    <tr>\n",
       "      <th>152</th>\n",
       "      <td>kw2_embedding_25</td>\n",
       "      <td>82</td>\n",
       "    </tr>\n",
       "    <tr>\n",
       "      <th>150</th>\n",
       "      <td>kw2_embedding_23</td>\n",
       "      <td>82</td>\n",
       "    </tr>\n",
       "  </tbody>\n",
       "</table>\n",
       "</div>"
      ],
      "text/plain": [
       "                   feature  importance\n",
       "176       kw2_embedding_49         189\n",
       "175       kw2_embedding_48         159\n",
       "159       kw2_embedding_32         147\n",
       "132        kw2_embedding_5         140\n",
       "147       kw2_embedding_20         138\n",
       "322    topic2_embedding_45         133\n",
       "127        kw2_embedding_0         129\n",
       "138       kw2_embedding_11         127\n",
       "156       kw2_embedding_29         122\n",
       "146       kw2_embedding_19         116\n",
       "296    topic2_embedding_19         115\n",
       "36   interest2_embedding_3         109\n",
       "324    topic2_embedding_47         106\n",
       "304    topic2_embedding_27         106\n",
       "39   interest2_embedding_6         106\n",
       "139       kw2_embedding_12         106\n",
       "288    topic2_embedding_11         106\n",
       "164       kw2_embedding_37         104\n",
       "40   interest2_embedding_7         102\n",
       "131        kw2_embedding_4         101\n",
       "293    topic2_embedding_16         100\n",
       "166       kw2_embedding_39          99\n",
       "151       kw2_embedding_24          97\n",
       "136        kw2_embedding_9          96\n",
       "134        kw2_embedding_7          92\n",
       "155       kw2_embedding_28          90\n",
       "157       kw2_embedding_30          88\n",
       "168       kw2_embedding_41          87\n",
       "152       kw2_embedding_25          82\n",
       "150       kw2_embedding_23          82"
      ]
     },
     "execution_count": 11,
     "metadata": {},
     "output_type": "execute_result"
    }
   ],
   "source": [
    "# these will cause LightGBM bug I don't know how to fix. Just skip it\n",
    "log_file = 'v3.feature_importance.csv'\n",
    "log_path = os.path.join(log_folder, log_file)\n",
    "\n",
    "# df_feature_importance = pd.DataFrame({\"feature\": cols_train, \"importance\": lgbm.feature_importance()})\n",
    "df_feature_importance = pd.DataFrame({\"feature\": cols_emb_train, \"importance\": lgbm.feature_importance()})\n",
    "df_feature_importance = df_feature_importance.sort_values(\"importance\", ascending=False)\n",
    "df_feature_importance.to_csv(log_path, index=False)\n",
    "df_feature_importance.head(30)"
   ]
  },
  {
   "cell_type": "code",
   "execution_count": 16,
   "metadata": {},
   "outputs": [
    {
     "name": "stdout",
     "output_type": "stream",
     "text": [
      "[02:31:13] Finish preparing valid set. △M: +3.06GB. △T: 2.4 minutes.\n"
     ]
    }
   ],
   "source": [
    "with pu.profiler(\"preparing valid set\"):\n",
    "    cols_emb_train, X_emb_tv = union_loader.load(\"train\")\n",
    "    X_valid = X_emb_tv[valid_index, :]\n",
    "    del X_emb_tv\n",
    "    gc.collect()"
   ]
  },
  {
   "cell_type": "code",
   "execution_count": 17,
   "metadata": {
    "scrolled": true
   },
   "outputs": [
    {
     "name": "stdout",
     "output_type": "stream",
     "text": [
      "[02:31:30] Finish making prediction on validation set. △M: +12.0KB. △T: 7.0 seconds.\n"
     ]
    }
   ],
   "source": [
    "with pu.profiler(\"making prediction on validation set\"):\n",
    "    df_valid = df_train.iloc[valid_index]\n",
    "    proba_valid = lgbm.predict(X_valid.astype(np.float32))\n",
    "\n",
    "log_file = 'v3.online_auc.csv'\n",
    "log_path = os.path.join(log_folder, log_file)\n",
    "df_score = eu.online_auc(df_valid['aid'], y_valid, proba_valid, ret_verbose=True)\n",
    "df_score.rename(columns={'selector': 'aid'}, inplace=True)\n",
    "df_score = df_score[['aid', 'auc']]  # sort columns\n",
    "df_score = df_score.sort_values(\"auc\", ascending=False)\n",
    "df_score.to_csv(log_path, index=False)"
   ]
  },
  {
   "cell_type": "code",
   "execution_count": 18,
   "metadata": {},
   "outputs": [
    {
     "name": "stdout",
     "output_type": "stream",
     "text": [
      "Online AUC: 0.685241\n",
      "Simple AUC: 0.666967\n"
     ]
    }
   ],
   "source": [
    "online_auc = df_score['auc'].mean()\n",
    "simple_auc = metrics.roc_auc_score(y_valid, proba_valid)\n",
    "print(\"Online AUC: {:.6f}\".format(online_auc))\n",
    "print(\"Simple AUC: {:.6f}\".format(simple_auc))"
   ]
  },
  {
   "cell_type": "code",
   "execution_count": 19,
   "metadata": {},
   "outputs": [
    {
     "name": "stdout",
     "output_type": "stream",
     "text": [
      "[02:35:07] Finish cleaning memory. △M: -6.19GB. △T: 0.7 seconds.\n"
     ]
    }
   ],
   "source": [
    "with pu.profiler(\"cleaning memory\"):\n",
    "    del lgb_train\n",
    "    del lgb_valid\n",
    "    # del X_train\n",
    "    del X_valid\n",
    "    gc.collect()"
   ]
  },
  {
   "cell_type": "code",
   "execution_count": 17,
   "metadata": {},
   "outputs": [
    {
     "name": "stdout",
     "output_type": "stream",
     "text": [
      "[15:23:44] Finish loading testing data. △M: +1.6GB. △T: 1.2 minutes.\n",
      "[15:24:12] Finish trimming testing set. △M: -1.22GB. △T: 27.6 seconds.\n",
      "Test Data Shape (After masking): (2265989, 1791142)\n"
     ]
    }
   ],
   "source": [
    "with pu.profiler(\"loading testing data\"):\n",
    "    cols_test, X_test = union_loader.load(\"test1\")\n",
    "    X_test = sparse.csr_matrix(X_test)\n",
    "    gc.collect()\n",
    "\n",
    "print(\"Test Data Shape: {}\".format(X_test.shape))\n",
    "# print(\"Test Column Numbers: {}\".format(len(cols_test)))"
   ]
  },
  {
   "cell_type": "code",
   "execution_count": 18,
   "metadata": {
    "scrolled": true
   },
   "outputs": [
    {
     "name": "stdout",
     "output_type": "stream",
     "text": [
      "[15:25:56] Finish making prediction on testing set. △M: -5.14GB. △T: 1.5 minutes.\n"
     ]
    }
   ],
   "source": [
    "df_test = du.load_raw_data(\"test\")\n",
    "X_test = X_test.astype(np.float32)\n",
    "\n",
    "with pu.profiler(\"making prediction on testing set\"):\n",
    "    proba_test = lgbm.predict(X_test)\n",
    "    assert len(proba_test.shape) == 1\n",
    "    assert proba_test.shape[0] == df_test.shape[0]"
   ]
  },
  {
   "cell_type": "code",
   "execution_count": 19,
   "metadata": {},
   "outputs": [],
   "source": [
    "subm_folder = '../subm/lgbm/0518_v3'\n",
    "subm_file = 'submission.csv'\n",
    "subm_path = os.path.join(subm_folder, subm_file)\n",
    "os.makedirs(subm_folder, exist_ok=True)\n",
    "\n",
    "subm = df_test.copy()\n",
    "subm[\"score\"] = proba_test\n",
    "subm.to_csv(subm_path, index=False)"
   ]
  },
  {
   "cell_type": "code",
   "execution_count": null,
   "metadata": {},
   "outputs": [],
   "source": []
  }
 ],
 "metadata": {
  "kernelspec": {
   "display_name": "Python 3",
   "language": "python",
   "name": "python3"
  },
  "language_info": {
   "codemirror_mode": {
    "name": "ipython",
    "version": 3
   },
   "file_extension": ".py",
   "mimetype": "text/x-python",
   "name": "python",
   "nbconvert_exporter": "python",
   "pygments_lexer": "ipython3",
   "version": "3.5.2"
  }
 },
 "nbformat": 4,
 "nbformat_minor": 2
}
