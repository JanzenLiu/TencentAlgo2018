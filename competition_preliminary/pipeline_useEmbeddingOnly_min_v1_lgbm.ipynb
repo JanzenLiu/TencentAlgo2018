{
 "cells": [
  {
   "cell_type": "code",
   "execution_count": 1,
   "metadata": {},
   "outputs": [],
   "source": [
    "from sklearn.model_selection import StratifiedShuffleSplit, StratifiedKFold\n",
    "from sklearn import metrics\n",
    "from contextlib import redirect_stdout\n",
    "from itertools import compress\n",
    "import scipy.sparse as sparse\n",
    "import lightgbm as lgb\n",
    "import pandas as pd\n",
    "import numpy as np\n",
    "import tqdm\n",
    "import os\n",
    "import gc\n",
    "import sys\n",
    "sys.path.append('../code/pipeline/')\n",
    "sys.path.append('../code/utils/')\n",
    "sys.path.append('../code/')\n",
    "import data_pipeline as dp\n",
    "import data_utils as du\n",
    "import perf_utils as pu\n",
    "import eval_utils as eu\n",
    "import io_utils as iu\n",
    "import config"
   ]
  },
  {
   "cell_type": "code",
   "execution_count": 2,
   "metadata": {},
   "outputs": [],
   "source": [
    "user_one_feat_names = config.USER_SINGLE_FEAT_NAMES\n",
    "user_multi_feat_names = config.USER_MULTI_FEAT_NAMES\n",
    "ad_feat_names = config.AD_FEAT_NAMES"
   ]
  },
  {
   "cell_type": "code",
   "execution_count": 3,
   "metadata": {},
   "outputs": [
    {
     "name": "stdout",
     "output_type": "stream",
     "text": [
      "[13:04:20] Finish loading training data. △M: +15.21GB. △T: 2.6 minutes.\n",
      "Train Data Shape (Embedding): (8798814, 464)\n",
      "Train Column Numbers (Embedding): 464\n"
     ]
    }
   ],
   "source": [
    "# ================\n",
    "# Data Preparation\n",
    "# ================\n",
    "# instantiate data loader\n",
    "emb_loaders = (dp.EmbeddingDataManager.build_data(feat_name, \"min\", 1) \n",
    "               for feat_name in user_multi_feat_names)\n",
    "union_loader = dp.DataUnion(*emb_loaders)\n",
    "\n",
    "with pu.profiler(\"loading training data\"):\n",
    "    cols_emb_train, X_emb_tv = union_loader.load(\"train\")\n",
    "    # X_emb_tv = sparse.csr_matrix(X_emb_tv)\n",
    "    gc.collect()\n",
    "\n",
    "print(\"Train Data Shape (Embedding): {}\".format(X_emb_tv.shape))\n",
    "print(\"Train Column Numbers (Embedding): {}\".format(len(cols_emb_train)))"
   ]
  },
  {
   "cell_type": "code",
   "execution_count": 4,
   "metadata": {},
   "outputs": [],
   "source": [
    "df_train = du.load_raw_data(\"train\")\n",
    "y = df_train['label'].values.copy()\n",
    "y = (y + 1) / 2  # -1, 1 -> 0, 1"
   ]
  },
  {
   "cell_type": "code",
   "execution_count": 5,
   "metadata": {},
   "outputs": [],
   "source": [
    "# n_splits = 3\n",
    "# sss = StratifiedShuffleSplit(n_splits=n_splits, test_size=1 / 3, random_state=20180505)  # for reproducibility\n",
    "# split_indices = [(train_index, valid_index) for train_index, valid_index in sss.split(df_train, y)]\n",
    "\n",
    "n_splits = 5  # use 3 instead of 5 to save time\n",
    "skf = StratifiedKFold(n_splits=n_splits)\n",
    "split_indices = [(train_index, valid_index) for train_index, valid_index in skf.split(df_train, y)]"
   ]
  },
  {
   "cell_type": "code",
   "execution_count": 6,
   "metadata": {},
   "outputs": [
    {
     "name": "stdout",
     "output_type": "stream",
     "text": [
      "[13:04:41] Finish splitting train/valid set. △M: +120.85MB. △T: 15.8 seconds.\n",
      "Training Set Size: (7039050, 464)\n",
      "Validation Set Size: (1759764, 464)\n"
     ]
    }
   ],
   "source": [
    "aids = df_train['aid'].values\n",
    "with pu.profiler(\"splitting train/valid set\"):\n",
    "    train_index, valid_index = split_indices[0]\n",
    "    # X_train, X_valid = X_tv[train_index, :], X_tv[valid_index, :]\n",
    "    X_train, X_valid = X_emb_tv[train_index, :], X_emb_tv[valid_index, :]\n",
    "    y_train, y_valid = y[train_index], y[valid_index]\n",
    "    aids_train, aids_valid = aids[train_index], aids[valid_index]\n",
    "    # assert X_train.shape[0] + X_valid.shape[0] == X_tv.shape[0]\n",
    "    assert X_train.shape[0] + X_valid.shape[0] == X_emb_tv.shape[0]\n",
    "    \n",
    "    # del X_tv\n",
    "    del X_emb_tv\n",
    "    gc.collect()\n",
    "\n",
    "print(\"Training Set Size: {}\".format(X_train.shape))\n",
    "print(\"Validation Set Size: {}\".format(X_valid.shape))"
   ]
  },
  {
   "cell_type": "code",
   "execution_count": 7,
   "metadata": {},
   "outputs": [
    {
     "name": "stdout",
     "output_type": "stream",
     "text": [
      "[13:04:53] Finish preparing LightGBM data. △M: +15.21GB. △T: 11.7 seconds.\n"
     ]
    }
   ],
   "source": [
    "with pu.profiler(\"preparing LightGBM data\"):\n",
    "    # lgb_train = lgb.Dataset(X_train.astype(np.float32), y_train, feature_name=cols_train)  # cause bugs I don't know how to fix\n",
    "    # lgb_valid = lgb.Dataset(X_valid.astype(np.float32), y_valid, feature_name=cols_train)\n",
    "    lgb_train = lgb.Dataset(X_train.astype(np.float32), y_train)\n",
    "    lgb_valid = lgb.Dataset(X_valid.astype(np.float32), y_valid)\n",
    "    gc.collect()"
   ]
  },
  {
   "cell_type": "code",
   "execution_count": 8,
   "metadata": {},
   "outputs": [
    {
     "name": "stdout",
     "output_type": "stream",
     "text": [
      "[13:04:54] Finish releasing memory. △M: -12.17GB. △T: 1.0 seconds.\n"
     ]
    }
   ],
   "source": [
    "with pu.profiler(\"releasing memory\"):\n",
    "    del X_train\n",
    "    # del X_valid\n",
    "    gc.collect()"
   ]
  },
  {
   "cell_type": "code",
   "execution_count": 9,
   "metadata": {},
   "outputs": [],
   "source": [
    "log_folder = os.path.join(config.LOG_DIR, 'lgbm/pipeline/0518/')\n",
    "log_file = 'v4.log'\n",
    "log_path = os.path.join(log_folder, log_file)\n",
    "os.makedirs(log_folder, exist_ok=True)"
   ]
  },
  {
   "cell_type": "code",
   "execution_count": 10,
   "metadata": {
    "scrolled": true
   },
   "outputs": [
    {
     "name": "stdout",
     "output_type": "stream",
     "text": [
      "[1]\ttrain's auc: 0.626908\ttrain's online_auc: 0.651256\tvalid1's auc: 0.624899\tvalid1's online_auc: 0.648927\n",
      "Training until validation scores don't improve for 50 rounds.\n",
      "[2]\ttrain's auc: 0.63282\ttrain's online_auc: 0.657958\tvalid1's auc: 0.630825\tvalid1's online_auc: 0.655437\n",
      "[3]\ttrain's auc: 0.6369\ttrain's online_auc: 0.662645\tvalid1's auc: 0.634538\tvalid1's online_auc: 0.659702\n",
      "[4]\ttrain's auc: 0.640138\ttrain's online_auc: 0.666116\tvalid1's auc: 0.637999\tvalid1's online_auc: 0.663337\n",
      "[5]\ttrain's auc: 0.640662\ttrain's online_auc: 0.666575\tvalid1's auc: 0.638605\tvalid1's online_auc: 0.663906\n",
      "[6]\ttrain's auc: 0.641367\ttrain's online_auc: 0.667285\tvalid1's auc: 0.639125\tvalid1's online_auc: 0.664211\n",
      "[7]\ttrain's auc: 0.641728\ttrain's online_auc: 0.667583\tvalid1's auc: 0.639431\tvalid1's online_auc: 0.664625\n",
      "[8]\ttrain's auc: 0.64357\ttrain's online_auc: 0.669447\tvalid1's auc: 0.641245\tvalid1's online_auc: 0.666447\n",
      "[9]\ttrain's auc: 0.643848\ttrain's online_auc: 0.670025\tvalid1's auc: 0.641508\tvalid1's online_auc: 0.666683\n",
      "[10]\ttrain's auc: 0.645301\ttrain's online_auc: 0.671681\tvalid1's auc: 0.642811\tvalid1's online_auc: 0.668139\n",
      "[11]\ttrain's auc: 0.646815\ttrain's online_auc: 0.672861\tvalid1's auc: 0.644129\tvalid1's online_auc: 0.669391\n",
      "[12]\ttrain's auc: 0.647525\ttrain's online_auc: 0.673736\tvalid1's auc: 0.644732\tvalid1's online_auc: 0.670192\n",
      "[13]\ttrain's auc: 0.648365\ttrain's online_auc: 0.674429\tvalid1's auc: 0.645414\tvalid1's online_auc: 0.671042\n",
      "[14]\ttrain's auc: 0.649689\ttrain's online_auc: 0.675746\tvalid1's auc: 0.646502\tvalid1's online_auc: 0.672104\n",
      "[15]\ttrain's auc: 0.650853\ttrain's online_auc: 0.676955\tvalid1's auc: 0.647439\tvalid1's online_auc: 0.672949\n",
      "[16]\ttrain's auc: 0.65191\ttrain's online_auc: 0.677689\tvalid1's auc: 0.648454\tvalid1's online_auc: 0.673494\n",
      "[17]\ttrain's auc: 0.652763\ttrain's online_auc: 0.67827\tvalid1's auc: 0.64915\tvalid1's online_auc: 0.673985\n",
      "[18]\ttrain's auc: 0.653867\ttrain's online_auc: 0.679184\tvalid1's auc: 0.650145\tvalid1's online_auc: 0.674653\n",
      "[19]\ttrain's auc: 0.654832\ttrain's online_auc: 0.679837\tvalid1's auc: 0.650896\tvalid1's online_auc: 0.675277\n",
      "[20]\ttrain's auc: 0.65618\ttrain's online_auc: 0.680947\tvalid1's auc: 0.651924\tvalid1's online_auc: 0.676163\n",
      "[21]\ttrain's auc: 0.657081\ttrain's online_auc: 0.68165\tvalid1's auc: 0.652437\tvalid1's online_auc: 0.676635\n",
      "[22]\ttrain's auc: 0.658163\ttrain's online_auc: 0.682473\tvalid1's auc: 0.653462\tvalid1's online_auc: 0.677339\n",
      "[23]\ttrain's auc: 0.659057\ttrain's online_auc: 0.683271\tvalid1's auc: 0.654061\tvalid1's online_auc: 0.677861\n",
      "[24]\ttrain's auc: 0.659818\ttrain's online_auc: 0.683885\tvalid1's auc: 0.654454\tvalid1's online_auc: 0.678099\n",
      "[25]\ttrain's auc: 0.66088\ttrain's online_auc: 0.684681\tvalid1's auc: 0.655402\tvalid1's online_auc: 0.678933\n",
      "[26]\ttrain's auc: 0.661702\ttrain's online_auc: 0.685372\tvalid1's auc: 0.655873\tvalid1's online_auc: 0.679345\n",
      "[27]\ttrain's auc: 0.662595\ttrain's online_auc: 0.686083\tvalid1's auc: 0.656344\tvalid1's online_auc: 0.679717\n",
      "[28]\ttrain's auc: 0.663295\ttrain's online_auc: 0.686772\tvalid1's auc: 0.656773\tvalid1's online_auc: 0.680179\n",
      "[29]\ttrain's auc: 0.664081\ttrain's online_auc: 0.687463\tvalid1's auc: 0.657263\tvalid1's online_auc: 0.68063\n",
      "[30]\ttrain's auc: 0.664772\ttrain's online_auc: 0.687983\tvalid1's auc: 0.657843\tvalid1's online_auc: 0.681151\n",
      "[31]\ttrain's auc: 0.665516\ttrain's online_auc: 0.688566\tvalid1's auc: 0.658295\tvalid1's online_auc: 0.681531\n",
      "[32]\ttrain's auc: 0.666321\ttrain's online_auc: 0.689216\tvalid1's auc: 0.658728\tvalid1's online_auc: 0.681865\n",
      "[33]\ttrain's auc: 0.666943\ttrain's online_auc: 0.689742\tvalid1's auc: 0.659169\tvalid1's online_auc: 0.682157\n",
      "[34]\ttrain's auc: 0.667764\ttrain's online_auc: 0.690387\tvalid1's auc: 0.659645\tvalid1's online_auc: 0.682465\n",
      "[35]\ttrain's auc: 0.668446\ttrain's online_auc: 0.690907\tvalid1's auc: 0.659976\tvalid1's online_auc: 0.682693\n",
      "[36]\ttrain's auc: 0.669097\ttrain's online_auc: 0.69143\tvalid1's auc: 0.66035\tvalid1's online_auc: 0.682884\n",
      "[37]\ttrain's auc: 0.669921\ttrain's online_auc: 0.692035\tvalid1's auc: 0.660858\tvalid1's online_auc: 0.683337\n",
      "[38]\ttrain's auc: 0.670455\ttrain's online_auc: 0.692425\tvalid1's auc: 0.66113\tvalid1's online_auc: 0.683531\n",
      "[39]\ttrain's auc: 0.671036\ttrain's online_auc: 0.692888\tvalid1's auc: 0.661329\tvalid1's online_auc: 0.683696\n",
      "[40]\ttrain's auc: 0.671748\ttrain's online_auc: 0.693431\tvalid1's auc: 0.661682\tvalid1's online_auc: 0.68387\n",
      "[41]\ttrain's auc: 0.672269\ttrain's online_auc: 0.69388\tvalid1's auc: 0.661876\tvalid1's online_auc: 0.683974\n",
      "[42]\ttrain's auc: 0.672782\ttrain's online_auc: 0.694396\tvalid1's auc: 0.662136\tvalid1's online_auc: 0.684195\n",
      "[43]\ttrain's auc: 0.673437\ttrain's online_auc: 0.694841\tvalid1's auc: 0.662467\tvalid1's online_auc: 0.684247\n",
      "[44]\ttrain's auc: 0.673949\ttrain's online_auc: 0.695313\tvalid1's auc: 0.662746\tvalid1's online_auc: 0.684518\n",
      "[45]\ttrain's auc: 0.674455\ttrain's online_auc: 0.695739\tvalid1's auc: 0.663004\tvalid1's online_auc: 0.684681\n",
      "[46]\ttrain's auc: 0.674947\ttrain's online_auc: 0.696187\tvalid1's auc: 0.663219\tvalid1's online_auc: 0.68476\n",
      "[47]\ttrain's auc: 0.675452\ttrain's online_auc: 0.696615\tvalid1's auc: 0.663387\tvalid1's online_auc: 0.68482\n",
      "[48]\ttrain's auc: 0.675918\ttrain's online_auc: 0.697054\tvalid1's auc: 0.663563\tvalid1's online_auc: 0.685023\n",
      "[49]\ttrain's auc: 0.676403\ttrain's online_auc: 0.697409\tvalid1's auc: 0.663747\tvalid1's online_auc: 0.685162\n",
      "[50]\ttrain's auc: 0.676856\ttrain's online_auc: 0.69777\tvalid1's auc: 0.663935\tvalid1's online_auc: 0.68523\n",
      "[51]\ttrain's auc: 0.677366\ttrain's online_auc: 0.698151\tvalid1's auc: 0.66411\tvalid1's online_auc: 0.685287\n",
      "[52]\ttrain's auc: 0.677844\ttrain's online_auc: 0.698545\tvalid1's auc: 0.664221\tvalid1's online_auc: 0.685467\n",
      "[53]\ttrain's auc: 0.678306\ttrain's online_auc: 0.698896\tvalid1's auc: 0.664411\tvalid1's online_auc: 0.685594\n",
      "[54]\ttrain's auc: 0.678809\ttrain's online_auc: 0.699246\tvalid1's auc: 0.66461\tvalid1's online_auc: 0.685706\n",
      "[55]\ttrain's auc: 0.679181\ttrain's online_auc: 0.699634\tvalid1's auc: 0.664679\tvalid1's online_auc: 0.685777\n",
      "[56]\ttrain's auc: 0.679564\ttrain's online_auc: 0.700037\tvalid1's auc: 0.664798\tvalid1's online_auc: 0.68589\n",
      "[57]\ttrain's auc: 0.679989\ttrain's online_auc: 0.700491\tvalid1's auc: 0.664896\tvalid1's online_auc: 0.685913\n",
      "[58]\ttrain's auc: 0.68037\ttrain's online_auc: 0.700775\tvalid1's auc: 0.664946\tvalid1's online_auc: 0.685912\n",
      "[59]\ttrain's auc: 0.680853\ttrain's online_auc: 0.701151\tvalid1's auc: 0.665051\tvalid1's online_auc: 0.685955\n",
      "[60]\ttrain's auc: 0.681269\ttrain's online_auc: 0.701535\tvalid1's auc: 0.665168\tvalid1's online_auc: 0.686038\n",
      "[61]\ttrain's auc: 0.681628\ttrain's online_auc: 0.701835\tvalid1's auc: 0.665258\tvalid1's online_auc: 0.686079\n",
      "[62]\ttrain's auc: 0.682057\ttrain's online_auc: 0.702239\tvalid1's auc: 0.665411\tvalid1's online_auc: 0.686269\n",
      "[63]\ttrain's auc: 0.682493\ttrain's online_auc: 0.702609\tvalid1's auc: 0.66553\tvalid1's online_auc: 0.686355\n",
      "[64]\ttrain's auc: 0.682827\ttrain's online_auc: 0.702969\tvalid1's auc: 0.665559\tvalid1's online_auc: 0.686374\n",
      "[65]\ttrain's auc: 0.683249\ttrain's online_auc: 0.703343\tvalid1's auc: 0.665637\tvalid1's online_auc: 0.686468\n",
      "[66]\ttrain's auc: 0.683747\ttrain's online_auc: 0.703754\tvalid1's auc: 0.665784\tvalid1's online_auc: 0.686598\n",
      "[67]\ttrain's auc: 0.684088\ttrain's online_auc: 0.704143\tvalid1's auc: 0.665827\tvalid1's online_auc: 0.686727\n",
      "[68]\ttrain's auc: 0.684512\ttrain's online_auc: 0.704508\tvalid1's auc: 0.665851\tvalid1's online_auc: 0.686751\n",
      "[69]\ttrain's auc: 0.684907\ttrain's online_auc: 0.704879\tvalid1's auc: 0.665918\tvalid1's online_auc: 0.686784\n",
      "[70]\ttrain's auc: 0.68533\ttrain's online_auc: 0.705243\tvalid1's auc: 0.666009\tvalid1's online_auc: 0.686792\n",
      "[71]\ttrain's auc: 0.685776\ttrain's online_auc: 0.705591\tvalid1's auc: 0.666098\tvalid1's online_auc: 0.686815\n",
      "[72]\ttrain's auc: 0.686191\ttrain's online_auc: 0.705999\tvalid1's auc: 0.666177\tvalid1's online_auc: 0.686839\n",
      "[73]\ttrain's auc: 0.686637\ttrain's online_auc: 0.706431\tvalid1's auc: 0.666235\tvalid1's online_auc: 0.686833\n",
      "[74]\ttrain's auc: 0.687077\ttrain's online_auc: 0.706772\tvalid1's auc: 0.666247\tvalid1's online_auc: 0.686882\n",
      "[75]\ttrain's auc: 0.687445\ttrain's online_auc: 0.707089\tvalid1's auc: 0.666294\tvalid1's online_auc: 0.686882\n"
     ]
    },
    {
     "name": "stdout",
     "output_type": "stream",
     "text": [
      "[76]\ttrain's auc: 0.687796\ttrain's online_auc: 0.707451\tvalid1's auc: 0.666356\tvalid1's online_auc: 0.686979\n",
      "[77]\ttrain's auc: 0.688171\ttrain's online_auc: 0.70781\tvalid1's auc: 0.666399\tvalid1's online_auc: 0.686985\n",
      "[78]\ttrain's auc: 0.688535\ttrain's online_auc: 0.708176\tvalid1's auc: 0.666442\tvalid1's online_auc: 0.687007\n",
      "[79]\ttrain's auc: 0.688933\ttrain's online_auc: 0.70853\tvalid1's auc: 0.666502\tvalid1's online_auc: 0.686985\n",
      "[80]\ttrain's auc: 0.689378\ttrain's online_auc: 0.708998\tvalid1's auc: 0.666547\tvalid1's online_auc: 0.687015\n",
      "[81]\ttrain's auc: 0.689799\ttrain's online_auc: 0.709438\tvalid1's auc: 0.666514\tvalid1's online_auc: 0.686983\n",
      "[82]\ttrain's auc: 0.690206\ttrain's online_auc: 0.709831\tvalid1's auc: 0.66668\tvalid1's online_auc: 0.687085\n",
      "[83]\ttrain's auc: 0.690513\ttrain's online_auc: 0.710133\tvalid1's auc: 0.666723\tvalid1's online_auc: 0.687198\n",
      "[84]\ttrain's auc: 0.691038\ttrain's online_auc: 0.710571\tvalid1's auc: 0.666828\tvalid1's online_auc: 0.687163\n",
      "[85]\ttrain's auc: 0.69139\ttrain's online_auc: 0.710913\tvalid1's auc: 0.666883\tvalid1's online_auc: 0.687198\n",
      "[86]\ttrain's auc: 0.691761\ttrain's online_auc: 0.711245\tvalid1's auc: 0.666961\tvalid1's online_auc: 0.687213\n",
      "[87]\ttrain's auc: 0.692132\ttrain's online_auc: 0.711624\tvalid1's auc: 0.666959\tvalid1's online_auc: 0.687166\n",
      "[88]\ttrain's auc: 0.692484\ttrain's online_auc: 0.711982\tvalid1's auc: 0.667025\tvalid1's online_auc: 0.687252\n",
      "[89]\ttrain's auc: 0.692832\ttrain's online_auc: 0.712312\tvalid1's auc: 0.667034\tvalid1's online_auc: 0.687262\n",
      "[90]\ttrain's auc: 0.693258\ttrain's online_auc: 0.712768\tvalid1's auc: 0.667058\tvalid1's online_auc: 0.687206\n",
      "[91]\ttrain's auc: 0.693619\ttrain's online_auc: 0.713149\tvalid1's auc: 0.667099\tvalid1's online_auc: 0.687179\n",
      "[92]\ttrain's auc: 0.694014\ttrain's online_auc: 0.71352\tvalid1's auc: 0.667147\tvalid1's online_auc: 0.687245\n",
      "[93]\ttrain's auc: 0.694428\ttrain's online_auc: 0.713926\tvalid1's auc: 0.667146\tvalid1's online_auc: 0.687236\n",
      "[94]\ttrain's auc: 0.694811\ttrain's online_auc: 0.714278\tvalid1's auc: 0.66714\tvalid1's online_auc: 0.687229\n",
      "[95]\ttrain's auc: 0.695217\ttrain's online_auc: 0.714721\tvalid1's auc: 0.667185\tvalid1's online_auc: 0.6873\n",
      "[96]\ttrain's auc: 0.695611\ttrain's online_auc: 0.715116\tvalid1's auc: 0.667205\tvalid1's online_auc: 0.687316\n",
      "[97]\ttrain's auc: 0.695955\ttrain's online_auc: 0.715479\tvalid1's auc: 0.667238\tvalid1's online_auc: 0.687346\n",
      "[98]\ttrain's auc: 0.696332\ttrain's online_auc: 0.715821\tvalid1's auc: 0.667249\tvalid1's online_auc: 0.687346\n",
      "[99]\ttrain's auc: 0.696685\ttrain's online_auc: 0.716242\tvalid1's auc: 0.667319\tvalid1's online_auc: 0.687464\n",
      "[100]\ttrain's auc: 0.697031\ttrain's online_auc: 0.716554\tvalid1's auc: 0.667339\tvalid1's online_auc: 0.687427\n",
      "[101]\ttrain's auc: 0.697389\ttrain's online_auc: 0.716894\tvalid1's auc: 0.667331\tvalid1's online_auc: 0.687374\n",
      "[102]\ttrain's auc: 0.697714\ttrain's online_auc: 0.717214\tvalid1's auc: 0.66732\tvalid1's online_auc: 0.68736\n",
      "[103]\ttrain's auc: 0.698073\ttrain's online_auc: 0.717602\tvalid1's auc: 0.667312\tvalid1's online_auc: 0.687328\n",
      "[104]\ttrain's auc: 0.698332\ttrain's online_auc: 0.717865\tvalid1's auc: 0.667332\tvalid1's online_auc: 0.687355\n",
      "[105]\ttrain's auc: 0.698746\ttrain's online_auc: 0.718304\tvalid1's auc: 0.667383\tvalid1's online_auc: 0.687336\n",
      "[106]\ttrain's auc: 0.69907\ttrain's online_auc: 0.718605\tvalid1's auc: 0.667388\tvalid1's online_auc: 0.687313\n",
      "[107]\ttrain's auc: 0.699372\ttrain's online_auc: 0.718898\tvalid1's auc: 0.667452\tvalid1's online_auc: 0.687369\n",
      "[108]\ttrain's auc: 0.699735\ttrain's online_auc: 0.719275\tvalid1's auc: 0.667497\tvalid1's online_auc: 0.687432\n",
      "[109]\ttrain's auc: 0.700057\ttrain's online_auc: 0.719586\tvalid1's auc: 0.667522\tvalid1's online_auc: 0.687491\n",
      "[110]\ttrain's auc: 0.700458\ttrain's online_auc: 0.720005\tvalid1's auc: 0.667535\tvalid1's online_auc: 0.687496\n",
      "[111]\ttrain's auc: 0.700779\ttrain's online_auc: 0.720308\tvalid1's auc: 0.667516\tvalid1's online_auc: 0.687464\n",
      "[112]\ttrain's auc: 0.701128\ttrain's online_auc: 0.720661\tvalid1's auc: 0.667521\tvalid1's online_auc: 0.687502\n",
      "[113]\ttrain's auc: 0.701501\ttrain's online_auc: 0.720976\tvalid1's auc: 0.667526\tvalid1's online_auc: 0.687518\n",
      "[114]\ttrain's auc: 0.701653\ttrain's online_auc: 0.72111\tvalid1's auc: 0.667511\tvalid1's online_auc: 0.687514\n",
      "[115]\ttrain's auc: 0.701928\ttrain's online_auc: 0.721357\tvalid1's auc: 0.66754\tvalid1's online_auc: 0.687554\n",
      "[116]\ttrain's auc: 0.702302\ttrain's online_auc: 0.721793\tvalid1's auc: 0.667572\tvalid1's online_auc: 0.687605\n",
      "[117]\ttrain's auc: 0.702698\ttrain's online_auc: 0.722231\tvalid1's auc: 0.667565\tvalid1's online_auc: 0.68758\n",
      "[118]\ttrain's auc: 0.702959\ttrain's online_auc: 0.722493\tvalid1's auc: 0.667555\tvalid1's online_auc: 0.687566\n",
      "[119]\ttrain's auc: 0.703469\ttrain's online_auc: 0.722996\tvalid1's auc: 0.667544\tvalid1's online_auc: 0.68753\n",
      "[120]\ttrain's auc: 0.703742\ttrain's online_auc: 0.723294\tvalid1's auc: 0.667573\tvalid1's online_auc: 0.687515\n",
      "[121]\ttrain's auc: 0.704049\ttrain's online_auc: 0.723574\tvalid1's auc: 0.66752\tvalid1's online_auc: 0.68745\n",
      "[122]\ttrain's auc: 0.704326\ttrain's online_auc: 0.723818\tvalid1's auc: 0.667509\tvalid1's online_auc: 0.687422\n",
      "[123]\ttrain's auc: 0.704641\ttrain's online_auc: 0.724126\tvalid1's auc: 0.667512\tvalid1's online_auc: 0.687417\n",
      "[124]\ttrain's auc: 0.705052\ttrain's online_auc: 0.72448\tvalid1's auc: 0.667424\tvalid1's online_auc: 0.68735\n",
      "[125]\ttrain's auc: 0.705362\ttrain's online_auc: 0.724771\tvalid1's auc: 0.667378\tvalid1's online_auc: 0.687287\n",
      "[126]\ttrain's auc: 0.705612\ttrain's online_auc: 0.724968\tvalid1's auc: 0.667347\tvalid1's online_auc: 0.687255\n",
      "[127]\ttrain's auc: 0.70585\ttrain's online_auc: 0.725199\tvalid1's auc: 0.667316\tvalid1's online_auc: 0.687207\n",
      "[128]\ttrain's auc: 0.706026\ttrain's online_auc: 0.725398\tvalid1's auc: 0.667322\tvalid1's online_auc: 0.687208\n",
      "[129]\ttrain's auc: 0.706294\ttrain's online_auc: 0.725644\tvalid1's auc: 0.667306\tvalid1's online_auc: 0.687185\n",
      "[130]\ttrain's auc: 0.706487\ttrain's online_auc: 0.725856\tvalid1's auc: 0.667287\tvalid1's online_auc: 0.687166\n",
      "[131]\ttrain's auc: 0.706708\ttrain's online_auc: 0.726033\tvalid1's auc: 0.667251\tvalid1's online_auc: 0.687171\n",
      "[132]\ttrain's auc: 0.707068\ttrain's online_auc: 0.726402\tvalid1's auc: 0.667206\tvalid1's online_auc: 0.687169\n",
      "[133]\ttrain's auc: 0.707453\ttrain's online_auc: 0.726814\tvalid1's auc: 0.667197\tvalid1's online_auc: 0.687092\n",
      "[134]\ttrain's auc: 0.707845\ttrain's online_auc: 0.727165\tvalid1's auc: 0.667205\tvalid1's online_auc: 0.687175\n",
      "[135]\ttrain's auc: 0.708212\ttrain's online_auc: 0.727573\tvalid1's auc: 0.667195\tvalid1's online_auc: 0.687152\n",
      "[136]\ttrain's auc: 0.708562\ttrain's online_auc: 0.727938\tvalid1's auc: 0.667215\tvalid1's online_auc: 0.68715\n",
      "[137]\ttrain's auc: 0.70889\ttrain's online_auc: 0.72826\tvalid1's auc: 0.667231\tvalid1's online_auc: 0.687159\n",
      "[138]\ttrain's auc: 0.709152\ttrain's online_auc: 0.728539\tvalid1's auc: 0.667206\tvalid1's online_auc: 0.687117\n",
      "[139]\ttrain's auc: 0.709442\ttrain's online_auc: 0.728802\tvalid1's auc: 0.667212\tvalid1's online_auc: 0.687125\n",
      "[140]\ttrain's auc: 0.709857\ttrain's online_auc: 0.729145\tvalid1's auc: 0.667292\tvalid1's online_auc: 0.687154\n",
      "[141]\ttrain's auc: 0.710226\ttrain's online_auc: 0.7295\tvalid1's auc: 0.667264\tvalid1's online_auc: 0.687101\n",
      "[142]\ttrain's auc: 0.710389\ttrain's online_auc: 0.729655\tvalid1's auc: 0.667263\tvalid1's online_auc: 0.687086\n",
      "[143]\ttrain's auc: 0.710704\ttrain's online_auc: 0.729982\tvalid1's auc: 0.667238\tvalid1's online_auc: 0.687089\n",
      "[144]\ttrain's auc: 0.711038\ttrain's online_auc: 0.730296\tvalid1's auc: 0.667241\tvalid1's online_auc: 0.6871\n",
      "[145]\ttrain's auc: 0.711408\ttrain's online_auc: 0.730641\tvalid1's auc: 0.667241\tvalid1's online_auc: 0.687121\n",
      "[146]\ttrain's auc: 0.711736\ttrain's online_auc: 0.73098\tvalid1's auc: 0.66722\tvalid1's online_auc: 0.687069\n",
      "[147]\ttrain's auc: 0.711976\ttrain's online_auc: 0.731175\tvalid1's auc: 0.667221\tvalid1's online_auc: 0.687024\n",
      "[148]\ttrain's auc: 0.712251\ttrain's online_auc: 0.731446\tvalid1's auc: 0.667212\tvalid1's online_auc: 0.687058\n",
      "[149]\ttrain's auc: 0.712449\ttrain's online_auc: 0.731635\tvalid1's auc: 0.667203\tvalid1's online_auc: 0.687069\n",
      "[150]\ttrain's auc: 0.712785\ttrain's online_auc: 0.731964\tvalid1's auc: 0.667177\tvalid1's online_auc: 0.687094\n"
     ]
    },
    {
     "name": "stdout",
     "output_type": "stream",
     "text": [
      "[151]\ttrain's auc: 0.71299\ttrain's online_auc: 0.732186\tvalid1's auc: 0.667179\tvalid1's online_auc: 0.68708\n",
      "[152]\ttrain's auc: 0.713207\ttrain's online_auc: 0.73235\tvalid1's auc: 0.667168\tvalid1's online_auc: 0.687139\n",
      "[153]\ttrain's auc: 0.713449\ttrain's online_auc: 0.732568\tvalid1's auc: 0.667169\tvalid1's online_auc: 0.687164\n",
      "[154]\ttrain's auc: 0.713768\ttrain's online_auc: 0.732904\tvalid1's auc: 0.667172\tvalid1's online_auc: 0.687119\n",
      "[155]\ttrain's auc: 0.714029\ttrain's online_auc: 0.733119\tvalid1's auc: 0.667184\tvalid1's online_auc: 0.687094\n",
      "[156]\ttrain's auc: 0.714307\ttrain's online_auc: 0.733373\tvalid1's auc: 0.667183\tvalid1's online_auc: 0.687115\n",
      "[157]\ttrain's auc: 0.714532\ttrain's online_auc: 0.733631\tvalid1's auc: 0.667191\tvalid1's online_auc: 0.687139\n",
      "[158]\ttrain's auc: 0.714893\ttrain's online_auc: 0.734051\tvalid1's auc: 0.667197\tvalid1's online_auc: 0.687113\n",
      "[159]\ttrain's auc: 0.715283\ttrain's online_auc: 0.734469\tvalid1's auc: 0.667224\tvalid1's online_auc: 0.687138\n",
      "[160]\ttrain's auc: 0.715707\ttrain's online_auc: 0.734834\tvalid1's auc: 0.667181\tvalid1's online_auc: 0.687071\n",
      "[161]\ttrain's auc: 0.716065\ttrain's online_auc: 0.735152\tvalid1's auc: 0.667153\tvalid1's online_auc: 0.687017\n",
      "[162]\ttrain's auc: 0.716351\ttrain's online_auc: 0.735392\tvalid1's auc: 0.667129\tvalid1's online_auc: 0.68704\n",
      "[163]\ttrain's auc: 0.716688\ttrain's online_auc: 0.73566\tvalid1's auc: 0.667161\tvalid1's online_auc: 0.687045\n",
      "[164]\ttrain's auc: 0.71689\ttrain's online_auc: 0.735826\tvalid1's auc: 0.66715\tvalid1's online_auc: 0.687034\n",
      "[165]\ttrain's auc: 0.717087\ttrain's online_auc: 0.736009\tvalid1's auc: 0.667108\tvalid1's online_auc: 0.686994\n",
      "[166]\ttrain's auc: 0.717253\ttrain's online_auc: 0.736162\tvalid1's auc: 0.66709\tvalid1's online_auc: 0.686978\n",
      "Early stopping, best iteration is:\n",
      "[116]\ttrain's auc: 0.702302\ttrain's online_auc: 0.721793\tvalid1's auc: 0.667572\tvalid1's online_auc: 0.687605\n"
     ]
    }
   ],
   "source": [
    "# v2 parameters\n",
    "params = {\n",
    "    'boosting_type': 'gbdt',\n",
    "    'objective': 'binary',\n",
    "    'metric': 'auc',\n",
    "    'max_depth': 15,\n",
    "    'num_leaves': 120,\n",
    "    'learning_rate': 0.15,\n",
    "    'feature_fraction': 0.9,\n",
    "    'bagging_fraction': 0.8,\n",
    "    'verbose': 0\n",
    "}\n",
    "num_rounds = 1000\n",
    "# # v3 parameters\n",
    "# params = {\n",
    "#     'boosting_type': 'gbdt',\n",
    "#     'objective': 'binary',\n",
    "#     'metric': 'auc',\n",
    "#     'max_depth': 6,\n",
    "#     'num_leaves': 64,\n",
    "#     'learning_rate': 0.1,\n",
    "#     'feature_fraction': 0.5,\n",
    "#     'bagging_fraction': 0.5,\n",
    "#     'verbose': 0\n",
    "# }\n",
    "# num_rounds = 5000\n",
    "eval_auc = eu.build_lightgbm_online_auc_eval(aids_train, aids_valid)\n",
    "\n",
    "with iu.DuplicatedLogger(log_path):\n",
    "    lgbm = lgb.train(params,\n",
    "                     lgb_train,\n",
    "                     num_boost_round=num_rounds,\n",
    "                     valid_sets=[lgb_train, lgb_valid], \n",
    "                     valid_names=['train', 'valid1'],\n",
    "                     feval = eval_auc,\n",
    "                     early_stopping_rounds=50)"
   ]
  },
  {
   "cell_type": "code",
   "execution_count": 11,
   "metadata": {
    "scrolled": true
   },
   "outputs": [
    {
     "data": {
      "text/html": [
       "<div>\n",
       "<style scoped>\n",
       "    .dataframe tbody tr th:only-of-type {\n",
       "        vertical-align: middle;\n",
       "    }\n",
       "\n",
       "    .dataframe tbody tr th {\n",
       "        vertical-align: top;\n",
       "    }\n",
       "\n",
       "    .dataframe thead th {\n",
       "        text-align: right;\n",
       "    }\n",
       "</style>\n",
       "<table border=\"1\" class=\"dataframe\">\n",
       "  <thead>\n",
       "    <tr style=\"text-align: right;\">\n",
       "      <th></th>\n",
       "      <th>feature</th>\n",
       "      <th>importance</th>\n",
       "    </tr>\n",
       "  </thead>\n",
       "  <tbody>\n",
       "    <tr>\n",
       "      <th>147</th>\n",
       "      <td>kw2_embedding_20</td>\n",
       "      <td>200</td>\n",
       "    </tr>\n",
       "    <tr>\n",
       "      <th>151</th>\n",
       "      <td>kw2_embedding_24</td>\n",
       "      <td>161</td>\n",
       "    </tr>\n",
       "    <tr>\n",
       "      <th>165</th>\n",
       "      <td>kw2_embedding_38</td>\n",
       "      <td>155</td>\n",
       "    </tr>\n",
       "    <tr>\n",
       "      <th>167</th>\n",
       "      <td>kw2_embedding_40</td>\n",
       "      <td>148</td>\n",
       "    </tr>\n",
       "    <tr>\n",
       "      <th>169</th>\n",
       "      <td>kw2_embedding_42</td>\n",
       "      <td>148</td>\n",
       "    </tr>\n",
       "    <tr>\n",
       "      <th>145</th>\n",
       "      <td>kw2_embedding_18</td>\n",
       "      <td>146</td>\n",
       "    </tr>\n",
       "    <tr>\n",
       "      <th>139</th>\n",
       "      <td>kw2_embedding_12</td>\n",
       "      <td>141</td>\n",
       "    </tr>\n",
       "    <tr>\n",
       "      <th>143</th>\n",
       "      <td>kw2_embedding_16</td>\n",
       "      <td>141</td>\n",
       "    </tr>\n",
       "    <tr>\n",
       "      <th>315</th>\n",
       "      <td>topic2_embedding_38</td>\n",
       "      <td>132</td>\n",
       "    </tr>\n",
       "    <tr>\n",
       "      <th>44</th>\n",
       "      <td>interest2_embedding_11</td>\n",
       "      <td>132</td>\n",
       "    </tr>\n",
       "    <tr>\n",
       "      <th>160</th>\n",
       "      <td>kw2_embedding_33</td>\n",
       "      <td>131</td>\n",
       "    </tr>\n",
       "    <tr>\n",
       "      <th>322</th>\n",
       "      <td>topic2_embedding_45</td>\n",
       "      <td>128</td>\n",
       "    </tr>\n",
       "    <tr>\n",
       "      <th>176</th>\n",
       "      <td>kw2_embedding_49</td>\n",
       "      <td>116</td>\n",
       "    </tr>\n",
       "    <tr>\n",
       "      <th>146</th>\n",
       "      <td>kw2_embedding_19</td>\n",
       "      <td>113</td>\n",
       "    </tr>\n",
       "    <tr>\n",
       "      <th>163</th>\n",
       "      <td>kw2_embedding_36</td>\n",
       "      <td>113</td>\n",
       "    </tr>\n",
       "    <tr>\n",
       "      <th>314</th>\n",
       "      <td>topic2_embedding_37</td>\n",
       "      <td>113</td>\n",
       "    </tr>\n",
       "    <tr>\n",
       "      <th>159</th>\n",
       "      <td>kw2_embedding_32</td>\n",
       "      <td>111</td>\n",
       "    </tr>\n",
       "    <tr>\n",
       "      <th>156</th>\n",
       "      <td>kw2_embedding_29</td>\n",
       "      <td>110</td>\n",
       "    </tr>\n",
       "    <tr>\n",
       "      <th>302</th>\n",
       "      <td>topic2_embedding_25</td>\n",
       "      <td>107</td>\n",
       "    </tr>\n",
       "    <tr>\n",
       "      <th>38</th>\n",
       "      <td>interest2_embedding_5</td>\n",
       "      <td>102</td>\n",
       "    </tr>\n",
       "    <tr>\n",
       "      <th>138</th>\n",
       "      <td>kw2_embedding_11</td>\n",
       "      <td>101</td>\n",
       "    </tr>\n",
       "    <tr>\n",
       "      <th>116</th>\n",
       "      <td>kw1_embedding_39</td>\n",
       "      <td>100</td>\n",
       "    </tr>\n",
       "    <tr>\n",
       "      <th>144</th>\n",
       "      <td>kw2_embedding_17</td>\n",
       "      <td>99</td>\n",
       "    </tr>\n",
       "    <tr>\n",
       "      <th>166</th>\n",
       "      <td>kw2_embedding_39</td>\n",
       "      <td>98</td>\n",
       "    </tr>\n",
       "    <tr>\n",
       "      <th>43</th>\n",
       "      <td>interest2_embedding_10</td>\n",
       "      <td>97</td>\n",
       "    </tr>\n",
       "    <tr>\n",
       "      <th>279</th>\n",
       "      <td>topic2_embedding_2</td>\n",
       "      <td>96</td>\n",
       "    </tr>\n",
       "    <tr>\n",
       "      <th>293</th>\n",
       "      <td>topic2_embedding_16</td>\n",
       "      <td>94</td>\n",
       "    </tr>\n",
       "    <tr>\n",
       "      <th>141</th>\n",
       "      <td>kw2_embedding_14</td>\n",
       "      <td>93</td>\n",
       "    </tr>\n",
       "    <tr>\n",
       "      <th>287</th>\n",
       "      <td>topic2_embedding_10</td>\n",
       "      <td>92</td>\n",
       "    </tr>\n",
       "    <tr>\n",
       "      <th>304</th>\n",
       "      <td>topic2_embedding_27</td>\n",
       "      <td>91</td>\n",
       "    </tr>\n",
       "  </tbody>\n",
       "</table>\n",
       "</div>"
      ],
      "text/plain": [
       "                    feature  importance\n",
       "147        kw2_embedding_20         200\n",
       "151        kw2_embedding_24         161\n",
       "165        kw2_embedding_38         155\n",
       "167        kw2_embedding_40         148\n",
       "169        kw2_embedding_42         148\n",
       "145        kw2_embedding_18         146\n",
       "139        kw2_embedding_12         141\n",
       "143        kw2_embedding_16         141\n",
       "315     topic2_embedding_38         132\n",
       "44   interest2_embedding_11         132\n",
       "160        kw2_embedding_33         131\n",
       "322     topic2_embedding_45         128\n",
       "176        kw2_embedding_49         116\n",
       "146        kw2_embedding_19         113\n",
       "163        kw2_embedding_36         113\n",
       "314     topic2_embedding_37         113\n",
       "159        kw2_embedding_32         111\n",
       "156        kw2_embedding_29         110\n",
       "302     topic2_embedding_25         107\n",
       "38    interest2_embedding_5         102\n",
       "138        kw2_embedding_11         101\n",
       "116        kw1_embedding_39         100\n",
       "144        kw2_embedding_17          99\n",
       "166        kw2_embedding_39          98\n",
       "43   interest2_embedding_10          97\n",
       "279      topic2_embedding_2          96\n",
       "293     topic2_embedding_16          94\n",
       "141        kw2_embedding_14          93\n",
       "287     topic2_embedding_10          92\n",
       "304     topic2_embedding_27          91"
      ]
     },
     "execution_count": 11,
     "metadata": {},
     "output_type": "execute_result"
    }
   ],
   "source": [
    "# these will cause LightGBM bug I don't know how to fix. Just skip it\n",
    "log_file = 'v4.feature_importance.csv'\n",
    "log_path = os.path.join(log_folder, log_file)\n",
    "\n",
    "# df_feature_importance = pd.DataFrame({\"feature\": cols_train, \"importance\": lgbm.feature_importance()})\n",
    "df_feature_importance = pd.DataFrame({\"feature\": cols_emb_train, \"importance\": lgbm.feature_importance()})\n",
    "df_feature_importance = df_feature_importance.sort_values(\"importance\", ascending=False)\n",
    "df_feature_importance.to_csv(log_path, index=False)\n",
    "df_feature_importance.head(30)"
   ]
  },
  {
   "cell_type": "code",
   "execution_count": 12,
   "metadata": {},
   "outputs": [
    {
     "name": "stdout",
     "output_type": "stream",
     "text": [
      "[13:40:31] Finish preparing valid set. △M: -39.09MB. △T: 2.2 minutes.\n"
     ]
    }
   ],
   "source": [
    "with pu.profiler(\"preparing valid set\"):\n",
    "    cols_emb_train, X_emb_tv = union_loader.load(\"train\")\n",
    "    X_valid = X_emb_tv[valid_index, :]\n",
    "    del X_emb_tv\n",
    "    gc.collect()"
   ]
  },
  {
   "cell_type": "code",
   "execution_count": 13,
   "metadata": {
    "scrolled": true
   },
   "outputs": [
    {
     "name": "stdout",
     "output_type": "stream",
     "text": [
      "[13:40:37] Finish making prediction on validation set. △M: +80.0KB. △T: 6.7 seconds.\n"
     ]
    }
   ],
   "source": [
    "with pu.profiler(\"making prediction on validation set\"):\n",
    "    df_valid = df_train.iloc[valid_index]\n",
    "    proba_valid = lgbm.predict(X_valid.astype(np.float32))\n",
    "\n",
    "log_file = 'v4.online_auc.csv'\n",
    "log_path = os.path.join(log_folder, log_file)\n",
    "df_score = eu.online_auc(df_valid['aid'], y_valid, proba_valid, ret_verbose=True)\n",
    "df_score.rename(columns={'selector': 'aid'}, inplace=True)\n",
    "df_score = df_score[['aid', 'auc']]  # sort columns\n",
    "df_score = df_score.sort_values(\"auc\", ascending=False)\n",
    "df_score.to_csv(log_path, index=False)"
   ]
  },
  {
   "cell_type": "code",
   "execution_count": 14,
   "metadata": {},
   "outputs": [
    {
     "name": "stdout",
     "output_type": "stream",
     "text": [
      "Online AUC: 0.687605\n",
      "Simple AUC: 0.667572\n"
     ]
    }
   ],
   "source": [
    "online_auc = df_score['auc'].mean()\n",
    "simple_auc = metrics.roc_auc_score(y_valid, proba_valid)\n",
    "print(\"Online AUC: {:.6f}\".format(online_auc))\n",
    "print(\"Simple AUC: {:.6f}\".format(simple_auc))"
   ]
  },
  {
   "cell_type": "code",
   "execution_count": 15,
   "metadata": {},
   "outputs": [
    {
     "name": "stdout",
     "output_type": "stream",
     "text": [
      "[13:40:40] Finish cleaning memory. △M: -7.21GB. △T: 0.8 seconds.\n"
     ]
    }
   ],
   "source": [
    "with pu.profiler(\"cleaning memory\"):\n",
    "    del lgb_train\n",
    "    del lgb_valid\n",
    "    # del X_train\n",
    "    del X_valid\n",
    "    gc.collect()"
   ]
  },
  {
   "cell_type": "code",
   "execution_count": 16,
   "metadata": {},
   "outputs": [
    {
     "name": "stdout",
     "output_type": "stream",
     "text": [
      "[13:42:05] Finish loading testing data. △M: +7.84GB. △T: 1.4 minutes.\n",
      "Test Data Shape: (2265989, 464)\n"
     ]
    }
   ],
   "source": [
    "with pu.profiler(\"loading testing data\"):\n",
    "    cols_test, X_test = union_loader.load(\"test1\")\n",
    "    X_test = sparse.csr_matrix(X_test)\n",
    "    gc.collect()\n",
    "\n",
    "print(\"Test Data Shape: {}\".format(X_test.shape))\n",
    "# print(\"Test Column Numbers: {}\".format(len(cols_test)))"
   ]
  },
  {
   "cell_type": "code",
   "execution_count": 17,
   "metadata": {
    "scrolled": true
   },
   "outputs": [
    {
     "name": "stdout",
     "output_type": "stream",
     "text": [
      "[13:42:18] Finish making prediction on testing set. △M: +0B. △T: 5.1 seconds.\n"
     ]
    }
   ],
   "source": [
    "df_test = du.load_raw_data(\"test\")\n",
    "X_test = X_test.astype(np.float32)\n",
    "\n",
    "with pu.profiler(\"making prediction on testing set\"):\n",
    "    proba_test = lgbm.predict(X_test)\n",
    "    assert len(proba_test.shape) == 1\n",
    "    assert proba_test.shape[0] == df_test.shape[0]"
   ]
  },
  {
   "cell_type": "code",
   "execution_count": 18,
   "metadata": {},
   "outputs": [],
   "source": [
    "subm_folder = '../subm/lgbm/0518_v4'\n",
    "subm_file = 'submission.csv'\n",
    "subm_path = os.path.join(subm_folder, subm_file)\n",
    "os.makedirs(subm_folder, exist_ok=True)\n",
    "\n",
    "subm = df_test.copy()\n",
    "subm[\"score\"] = proba_test\n",
    "subm.to_csv(subm_path, index=False)"
   ]
  },
  {
   "cell_type": "code",
   "execution_count": null,
   "metadata": {},
   "outputs": [],
   "source": []
  }
 ],
 "metadata": {
  "kernelspec": {
   "display_name": "Python 3",
   "language": "python",
   "name": "python3"
  },
  "language_info": {
   "codemirror_mode": {
    "name": "ipython",
    "version": 3
   },
   "file_extension": ".py",
   "mimetype": "text/x-python",
   "name": "python",
   "nbconvert_exporter": "python",
   "pygments_lexer": "ipython3",
   "version": "3.5.2"
  }
 },
 "nbformat": 4,
 "nbformat_minor": 2
}
