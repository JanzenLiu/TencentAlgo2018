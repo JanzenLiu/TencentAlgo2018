{
 "cells": [
  {
   "cell_type": "code",
   "execution_count": 1,
   "metadata": {},
   "outputs": [],
   "source": [
    "from sklearn.model_selection import StratifiedShuffleSplit, StratifiedKFold\n",
    "from sklearn import metrics\n",
    "from contextlib import redirect_stdout\n",
    "from itertools import compress\n",
    "import scipy.sparse as sparse\n",
    "import lightgbm as lgb\n",
    "import pandas as pd\n",
    "import numpy as np\n",
    "import tqdm\n",
    "import os\n",
    "import gc\n",
    "import sys\n",
    "sys.path.append('../code/pipeline/')\n",
    "sys.path.append('../code/utils/')\n",
    "sys.path.append('../code/')\n",
    "import data_pipeline as dp\n",
    "import data_utils as du\n",
    "import perf_utils as pu\n",
    "import eval_utils as eu\n",
    "import io_utils as iu\n",
    "import config"
   ]
  },
  {
   "cell_type": "code",
   "execution_count": 2,
   "metadata": {},
   "outputs": [],
   "source": [
    "pairs = [# ('productId', 'LBS'),  # no need in this case\n",
    "         ('productType', 'kw1'),  # 'kw1' looks very overfitting prone, to be decide whether to keep it\n",
    "         ('productType', 'kw2'),\n",
    "         ('productType', 'kw3'),\n",
    "         ('productType', 'topic1'),\n",
    "         ('aid', 'topic2'),\n",
    "         ('productType', 'topic2'),\n",
    "         # ('productType', 'topic3'),  # might help in predicting negative samples\n",
    "         # ('productType', 'appIdInstall'),  # might help in predicting negative samples\n",
    "         # ('productType', 'appIdAction'),  # might help in predicting negative samples\n",
    "         ('advertiserId', 'interest1'),\n",
    "         ('aid', 'interest2'),\n",
    "         ('creativeSize', 'interest2'), \n",
    "         ('campaignId', 'interest4'),  # whether to keep it? \n",
    "         ('aid', 'interest5'),  \n",
    "         ('aid', 'ct'),\n",
    "         ('aid', 'os')]"
   ]
  },
  {
   "cell_type": "code",
   "execution_count": 3,
   "metadata": {},
   "outputs": [
    {
     "name": "stdout",
     "output_type": "stream",
     "text": [
      "[10:14:05] Finish loading training data. △M: +9.66GB. △T: 2.1 minutes.\n",
      "Train Data Shape (Embedding): (8798814, 156)\n",
      "Train Column Numbers (Embedding): 156\n"
     ]
    }
   ],
   "source": [
    "# ================\n",
    "# Data Preparation\n",
    "# ================\n",
    "# instantiate data loader\n",
    "ckr_loaders = (dp.ListClickrateDataManager.build_data(ad_feat_name, user_feat_name) \n",
    "               for ad_feat_name, user_feat_name in pairs)\n",
    "union_loader = dp.DataUnion(*ckr_loaders)\n",
    "\n",
    "with pu.profiler(\"loading training data\"):\n",
    "    cols, X_tv = union_loader.load(\"train\")\n",
    "    X_tv = sparse.csr_matrix(X_tv)\n",
    "    gc.collect()\n",
    "\n",
    "print(\"Train Data Shape: {}\".format(X_tv.shape))\n",
    "print(\"Train Column Numbers: {}\".format(len(cols)))"
   ]
  },
  {
   "cell_type": "code",
   "execution_count": 4,
   "metadata": {},
   "outputs": [],
   "source": [
    "df_train = du.load_raw_data(\"train\")\n",
    "y = df_train['label'].values.copy()\n",
    "y = (y + 1) / 2  # -1, 1 -> 0, 1"
   ]
  },
  {
   "cell_type": "code",
   "execution_count": 5,
   "metadata": {},
   "outputs": [],
   "source": [
    "n_splits = 3\n",
    "sss = StratifiedShuffleSplit(n_splits=n_splits, test_size=1 / 3, random_state=20180505)  # for reproducibility\n",
    "split_indices = [(train_index, valid_index) for train_index, valid_index in sss.split(df_train, y)]\n",
    "\n",
    "# n_splits = 5  # use 3 instead of 5 to save time\n",
    "# skf = StratifiedKFold(n_splits=n_splits)\n",
    "# split_indices = [(train_index, valid_index) for train_index, valid_index in skf.split(df_train, y)]"
   ]
  },
  {
   "cell_type": "code",
   "execution_count": 6,
   "metadata": {},
   "outputs": [
    {
     "name": "stdout",
     "output_type": "stream",
     "text": [
      "[10:15:03] Finish splitting train/valid set. △M: +145.46MB. △T: 20.5 seconds.\n",
      "Training Set Size: (5865876, 156)\n",
      "Validation Set Size: (2932938, 156)\n"
     ]
    }
   ],
   "source": [
    "aids = df_train['aid'].values\n",
    "with pu.profiler(\"splitting train/valid set\"):\n",
    "    train_index, valid_index = split_indices[0]\n",
    "    X_train, X_valid = X_tv[train_index, :], X_tv[valid_index, :]\n",
    "    y_train, y_valid = y[train_index], y[valid_index]\n",
    "    aids_train, aids_valid = aids[train_index], aids[valid_index]\n",
    "    assert X_train.shape[0] + X_valid.shape[0] == X_tv.shape[0]\n",
    "    \n",
    "    del X_tv\n",
    "    gc.collect()\n",
    "\n",
    "print(\"Training Set Size: {}\".format(X_train.shape))\n",
    "print(\"Validation Set Size: {}\".format(X_valid.shape))"
   ]
  },
  {
   "cell_type": "code",
   "execution_count": 7,
   "metadata": {},
   "outputs": [
    {
     "name": "stdout",
     "output_type": "stream",
     "text": [
      "[10:15:15] Finish preparing LightGBM data. △M: +9.64GB. △T: 7.1 seconds.\n"
     ]
    }
   ],
   "source": [
    "with pu.profiler(\"preparing LightGBM data\"):\n",
    "    # lgb_train = lgb.Dataset(X_train.astype(np.float32), y_train, feature_name=cols_train)  # cause bugs I don't know how to fix\n",
    "    # lgb_valid = lgb.Dataset(X_valid.astype(np.float32), y_valid, feature_name=cols_train)\n",
    "    lgb_train = lgb.Dataset(X_train.astype(np.float32), y_train)\n",
    "    lgb_valid = lgb.Dataset(X_valid.astype(np.float32), y_valid)\n",
    "    gc.collect()"
   ]
  },
  {
   "cell_type": "code",
   "execution_count": 8,
   "metadata": {},
   "outputs": [
    {
     "name": "stdout",
     "output_type": "stream",
     "text": [
      "[10:15:21] Finish releasing memory. △M: -6.42GB. △T: 0.7 seconds.\n"
     ]
    }
   ],
   "source": [
    "with pu.profiler(\"releasing memory\"):\n",
    "    del X_train\n",
    "    # del X_valid\n",
    "    gc.collect()"
   ]
  },
  {
   "cell_type": "code",
   "execution_count": 9,
   "metadata": {},
   "outputs": [],
   "source": [
    "log_folder = os.path.join(config.LOG_DIR, 'lgbm/pipeline/0520/')\n",
    "log_file = 'v1.log'\n",
    "log_path = os.path.join(log_folder, log_file)\n",
    "os.makedirs(log_folder, exist_ok=True)"
   ]
  },
  {
   "cell_type": "code",
   "execution_count": 10,
   "metadata": {
    "scrolled": true
   },
   "outputs": [
    {
     "name": "stdout",
     "output_type": "stream",
     "text": [
      "[1]\ttrain's auc: 0.692953\ttrain's online_auc: 0.687775\tvalid1's auc: 0.691607\tvalid1's online_auc: 0.685972\n",
      "Training until validation scores don't improve for 50 rounds.\n",
      "[2]\ttrain's auc: 0.699903\ttrain's online_auc: 0.695142\tvalid1's auc: 0.697983\tvalid1's online_auc: 0.692608\n",
      "[3]\ttrain's auc: 0.703007\ttrain's online_auc: 0.69918\tvalid1's auc: 0.701009\tvalid1's online_auc: 0.696521\n",
      "[4]\ttrain's auc: 0.703966\ttrain's online_auc: 0.700638\tvalid1's auc: 0.702061\tvalid1's online_auc: 0.698048\n",
      "[5]\ttrain's auc: 0.70518\ttrain's online_auc: 0.701501\tvalid1's auc: 0.703077\tvalid1's online_auc: 0.6989\n",
      "[6]\ttrain's auc: 0.706284\ttrain's online_auc: 0.703153\tvalid1's auc: 0.704019\tvalid1's online_auc: 0.700354\n",
      "[7]\ttrain's auc: 0.707243\ttrain's online_auc: 0.704188\tvalid1's auc: 0.704794\tvalid1's online_auc: 0.701204\n",
      "[8]\ttrain's auc: 0.708071\ttrain's online_auc: 0.70507\tvalid1's auc: 0.70558\tvalid1's online_auc: 0.701991\n",
      "[9]\ttrain's auc: 0.708469\ttrain's online_auc: 0.70543\tvalid1's auc: 0.705922\tvalid1's online_auc: 0.702214\n",
      "[10]\ttrain's auc: 0.70899\ttrain's online_auc: 0.705977\tvalid1's auc: 0.706341\tvalid1's online_auc: 0.702675\n",
      "[11]\ttrain's auc: 0.709429\ttrain's online_auc: 0.706525\tvalid1's auc: 0.706871\tvalid1's online_auc: 0.703307\n",
      "[12]\ttrain's auc: 0.7101\ttrain's online_auc: 0.707212\tvalid1's auc: 0.707388\tvalid1's online_auc: 0.703808\n",
      "[13]\ttrain's auc: 0.710614\ttrain's online_auc: 0.707589\tvalid1's auc: 0.707828\tvalid1's online_auc: 0.704129\n",
      "[14]\ttrain's auc: 0.711226\ttrain's online_auc: 0.708172\tvalid1's auc: 0.708361\tvalid1's online_auc: 0.704472\n",
      "[15]\ttrain's auc: 0.711812\ttrain's online_auc: 0.708683\tvalid1's auc: 0.708831\tvalid1's online_auc: 0.70493\n",
      "[16]\ttrain's auc: 0.712676\ttrain's online_auc: 0.709351\tvalid1's auc: 0.709502\tvalid1's online_auc: 0.705339\n",
      "[17]\ttrain's auc: 0.713559\ttrain's online_auc: 0.710562\tvalid1's auc: 0.710222\tvalid1's online_auc: 0.706202\n",
      "[18]\ttrain's auc: 0.714312\ttrain's online_auc: 0.711405\tvalid1's auc: 0.710831\tvalid1's online_auc: 0.706661\n",
      "[19]\ttrain's auc: 0.714936\ttrain's online_auc: 0.712176\tvalid1's auc: 0.711326\tvalid1's online_auc: 0.707327\n",
      "[20]\ttrain's auc: 0.715584\ttrain's online_auc: 0.712918\tvalid1's auc: 0.711854\tvalid1's online_auc: 0.707838\n",
      "[21]\ttrain's auc: 0.71645\ttrain's online_auc: 0.714012\tvalid1's auc: 0.712513\tvalid1's online_auc: 0.708511\n",
      "[22]\ttrain's auc: 0.717156\ttrain's online_auc: 0.714775\tvalid1's auc: 0.713044\tvalid1's online_auc: 0.709173\n",
      "[23]\ttrain's auc: 0.717775\ttrain's online_auc: 0.715378\tvalid1's auc: 0.713568\tvalid1's online_auc: 0.709539\n",
      "[24]\ttrain's auc: 0.718481\ttrain's online_auc: 0.715995\tvalid1's auc: 0.714173\tvalid1's online_auc: 0.710112\n",
      "[25]\ttrain's auc: 0.719309\ttrain's online_auc: 0.716902\tvalid1's auc: 0.714784\tvalid1's online_auc: 0.710793\n",
      "[26]\ttrain's auc: 0.71994\ttrain's online_auc: 0.717561\tvalid1's auc: 0.715245\tvalid1's online_auc: 0.711115\n",
      "[27]\ttrain's auc: 0.720774\ttrain's online_auc: 0.718414\tvalid1's auc: 0.715946\tvalid1's online_auc: 0.711783\n",
      "[28]\ttrain's auc: 0.721471\ttrain's online_auc: 0.719092\tvalid1's auc: 0.716403\tvalid1's online_auc: 0.71212\n",
      "[29]\ttrain's auc: 0.722117\ttrain's online_auc: 0.719693\tvalid1's auc: 0.71688\tvalid1's online_auc: 0.712551\n",
      "[30]\ttrain's auc: 0.723085\ttrain's online_auc: 0.720787\tvalid1's auc: 0.717658\tvalid1's online_auc: 0.713205\n",
      "[31]\ttrain's auc: 0.723779\ttrain's online_auc: 0.721495\tvalid1's auc: 0.71814\tvalid1's online_auc: 0.713594\n",
      "[32]\ttrain's auc: 0.724471\ttrain's online_auc: 0.72218\tvalid1's auc: 0.718609\tvalid1's online_auc: 0.713976\n",
      "[33]\ttrain's auc: 0.725189\ttrain's online_auc: 0.722915\tvalid1's auc: 0.71909\tvalid1's online_auc: 0.714288\n",
      "[34]\ttrain's auc: 0.725927\ttrain's online_auc: 0.723693\tvalid1's auc: 0.719548\tvalid1's online_auc: 0.714671\n",
      "[35]\ttrain's auc: 0.726763\ttrain's online_auc: 0.724328\tvalid1's auc: 0.720143\tvalid1's online_auc: 0.715064\n",
      "[36]\ttrain's auc: 0.727409\ttrain's online_auc: 0.72503\tvalid1's auc: 0.720598\tvalid1's online_auc: 0.715477\n",
      "[37]\ttrain's auc: 0.728034\ttrain's online_auc: 0.725746\tvalid1's auc: 0.721001\tvalid1's online_auc: 0.71579\n",
      "[38]\ttrain's auc: 0.728609\ttrain's online_auc: 0.726516\tvalid1's auc: 0.721332\tvalid1's online_auc: 0.7162\n",
      "[39]\ttrain's auc: 0.729172\ttrain's online_auc: 0.727221\tvalid1's auc: 0.721618\tvalid1's online_auc: 0.716479\n",
      "[40]\ttrain's auc: 0.729671\ttrain's online_auc: 0.727821\tvalid1's auc: 0.721912\tvalid1's online_auc: 0.716563\n",
      "[41]\ttrain's auc: 0.730114\ttrain's online_auc: 0.728383\tvalid1's auc: 0.722164\tvalid1's online_auc: 0.716924\n",
      "[42]\ttrain's auc: 0.730578\ttrain's online_auc: 0.729027\tvalid1's auc: 0.722324\tvalid1's online_auc: 0.716983\n",
      "[43]\ttrain's auc: 0.731223\ttrain's online_auc: 0.729484\tvalid1's auc: 0.722758\tvalid1's online_auc: 0.717175\n",
      "[44]\ttrain's auc: 0.73167\ttrain's online_auc: 0.729988\tvalid1's auc: 0.723001\tvalid1's online_auc: 0.717362\n",
      "[45]\ttrain's auc: 0.732299\ttrain's online_auc: 0.730467\tvalid1's auc: 0.723398\tvalid1's online_auc: 0.717711\n",
      "[46]\ttrain's auc: 0.732863\ttrain's online_auc: 0.731061\tvalid1's auc: 0.723674\tvalid1's online_auc: 0.717901\n",
      "[47]\ttrain's auc: 0.733314\ttrain's online_auc: 0.73172\tvalid1's auc: 0.72384\tvalid1's online_auc: 0.718045\n",
      "[48]\ttrain's auc: 0.733824\ttrain's online_auc: 0.732378\tvalid1's auc: 0.724067\tvalid1's online_auc: 0.718345\n",
      "[49]\ttrain's auc: 0.734178\ttrain's online_auc: 0.732883\tvalid1's auc: 0.724215\tvalid1's online_auc: 0.718457\n",
      "[50]\ttrain's auc: 0.73477\ttrain's online_auc: 0.733439\tvalid1's auc: 0.724566\tvalid1's online_auc: 0.718739\n",
      "[51]\ttrain's auc: 0.735234\ttrain's online_auc: 0.734219\tvalid1's auc: 0.724715\tvalid1's online_auc: 0.718866\n",
      "[52]\ttrain's auc: 0.735689\ttrain's online_auc: 0.734948\tvalid1's auc: 0.724798\tvalid1's online_auc: 0.718987\n",
      "[53]\ttrain's auc: 0.736063\ttrain's online_auc: 0.735405\tvalid1's auc: 0.724892\tvalid1's online_auc: 0.719077\n",
      "[54]\ttrain's auc: 0.736434\ttrain's online_auc: 0.736023\tvalid1's auc: 0.724987\tvalid1's online_auc: 0.719148\n",
      "[55]\ttrain's auc: 0.736812\ttrain's online_auc: 0.736689\tvalid1's auc: 0.725059\tvalid1's online_auc: 0.719185\n",
      "[56]\ttrain's auc: 0.737256\ttrain's online_auc: 0.737384\tvalid1's auc: 0.725119\tvalid1's online_auc: 0.719235\n",
      "[57]\ttrain's auc: 0.737694\ttrain's online_auc: 0.737933\tvalid1's auc: 0.72533\tvalid1's online_auc: 0.719415\n",
      "[58]\ttrain's auc: 0.73811\ttrain's online_auc: 0.738596\tvalid1's auc: 0.725463\tvalid1's online_auc: 0.719509\n",
      "[59]\ttrain's auc: 0.738439\ttrain's online_auc: 0.739016\tvalid1's auc: 0.725566\tvalid1's online_auc: 0.719653\n",
      "[60]\ttrain's auc: 0.738925\ttrain's online_auc: 0.739761\tvalid1's auc: 0.725759\tvalid1's online_auc: 0.719817\n",
      "[61]\ttrain's auc: 0.739346\ttrain's online_auc: 0.74019\tvalid1's auc: 0.725843\tvalid1's online_auc: 0.719892\n",
      "[62]\ttrain's auc: 0.739673\ttrain's online_auc: 0.740616\tvalid1's auc: 0.725897\tvalid1's online_auc: 0.71989\n",
      "[63]\ttrain's auc: 0.739991\ttrain's online_auc: 0.740994\tvalid1's auc: 0.725984\tvalid1's online_auc: 0.719987\n",
      "[64]\ttrain's auc: 0.740365\ttrain's online_auc: 0.74158\tvalid1's auc: 0.726078\tvalid1's online_auc: 0.720092\n",
      "[65]\ttrain's auc: 0.740743\ttrain's online_auc: 0.742149\tvalid1's auc: 0.726205\tvalid1's online_auc: 0.720175\n",
      "[66]\ttrain's auc: 0.741142\ttrain's online_auc: 0.74278\tvalid1's auc: 0.726283\tvalid1's online_auc: 0.720251\n",
      "[67]\ttrain's auc: 0.741543\ttrain's online_auc: 0.743256\tvalid1's auc: 0.726323\tvalid1's online_auc: 0.720289\n",
      "[68]\ttrain's auc: 0.741889\ttrain's online_auc: 0.743666\tvalid1's auc: 0.726468\tvalid1's online_auc: 0.720372\n",
      "[69]\ttrain's auc: 0.742285\ttrain's online_auc: 0.744249\tvalid1's auc: 0.726578\tvalid1's online_auc: 0.720468\n",
      "[70]\ttrain's auc: 0.742653\ttrain's online_auc: 0.744721\tvalid1's auc: 0.726686\tvalid1's online_auc: 0.720552\n",
      "[71]\ttrain's auc: 0.743032\ttrain's online_auc: 0.745197\tvalid1's auc: 0.72668\tvalid1's online_auc: 0.720589\n",
      "[72]\ttrain's auc: 0.743264\ttrain's online_auc: 0.745642\tvalid1's auc: 0.726714\tvalid1's online_auc: 0.720659\n",
      "[73]\ttrain's auc: 0.743636\ttrain's online_auc: 0.746174\tvalid1's auc: 0.726698\tvalid1's online_auc: 0.720615\n",
      "[74]\ttrain's auc: 0.743931\ttrain's online_auc: 0.746648\tvalid1's auc: 0.72669\tvalid1's online_auc: 0.720628\n",
      "[75]\ttrain's auc: 0.744311\ttrain's online_auc: 0.746972\tvalid1's auc: 0.72669\tvalid1's online_auc: 0.720648\n"
     ]
    },
    {
     "name": "stdout",
     "output_type": "stream",
     "text": [
      "[76]\ttrain's auc: 0.744629\ttrain's online_auc: 0.74777\tvalid1's auc: 0.726725\tvalid1's online_auc: 0.720731\n",
      "[77]\ttrain's auc: 0.744882\ttrain's online_auc: 0.748074\tvalid1's auc: 0.726707\tvalid1's online_auc: 0.720727\n",
      "[78]\ttrain's auc: 0.74518\ttrain's online_auc: 0.748722\tvalid1's auc: 0.726754\tvalid1's online_auc: 0.720714\n",
      "[79]\ttrain's auc: 0.74555\ttrain's online_auc: 0.74903\tvalid1's auc: 0.726732\tvalid1's online_auc: 0.7207\n",
      "[80]\ttrain's auc: 0.745953\ttrain's online_auc: 0.749379\tvalid1's auc: 0.726817\tvalid1's online_auc: 0.720746\n",
      "[81]\ttrain's auc: 0.746329\ttrain's online_auc: 0.74945\tvalid1's auc: 0.726769\tvalid1's online_auc: 0.720743\n",
      "[82]\ttrain's auc: 0.746673\ttrain's online_auc: 0.749964\tvalid1's auc: 0.726876\tvalid1's online_auc: 0.720953\n",
      "[83]\ttrain's auc: 0.747076\ttrain's online_auc: 0.750631\tvalid1's auc: 0.726987\tvalid1's online_auc: 0.721066\n",
      "[84]\ttrain's auc: 0.747369\ttrain's online_auc: 0.750942\tvalid1's auc: 0.726973\tvalid1's online_auc: 0.721083\n",
      "[85]\ttrain's auc: 0.747518\ttrain's online_auc: 0.751183\tvalid1's auc: 0.726983\tvalid1's online_auc: 0.721086\n",
      "[86]\ttrain's auc: 0.747869\ttrain's online_auc: 0.751597\tvalid1's auc: 0.727022\tvalid1's online_auc: 0.721145\n",
      "[87]\ttrain's auc: 0.748158\ttrain's online_auc: 0.752272\tvalid1's auc: 0.726993\tvalid1's online_auc: 0.721082\n",
      "[88]\ttrain's auc: 0.748481\ttrain's online_auc: 0.752943\tvalid1's auc: 0.726962\tvalid1's online_auc: 0.721041\n",
      "[89]\ttrain's auc: 0.748809\ttrain's online_auc: 0.753792\tvalid1's auc: 0.726919\tvalid1's online_auc: 0.720922\n",
      "[90]\ttrain's auc: 0.749145\ttrain's online_auc: 0.754229\tvalid1's auc: 0.726871\tvalid1's online_auc: 0.720895\n",
      "[91]\ttrain's auc: 0.749482\ttrain's online_auc: 0.754665\tvalid1's auc: 0.726819\tvalid1's online_auc: 0.720832\n",
      "[92]\ttrain's auc: 0.749741\ttrain's online_auc: 0.755426\tvalid1's auc: 0.726789\tvalid1's online_auc: 0.720778\n",
      "[93]\ttrain's auc: 0.750061\ttrain's online_auc: 0.755872\tvalid1's auc: 0.726813\tvalid1's online_auc: 0.720784\n",
      "[94]\ttrain's auc: 0.750336\ttrain's online_auc: 0.756228\tvalid1's auc: 0.726801\tvalid1's online_auc: 0.720848\n",
      "[95]\ttrain's auc: 0.75053\ttrain's online_auc: 0.756499\tvalid1's auc: 0.726837\tvalid1's online_auc: 0.720886\n",
      "[96]\ttrain's auc: 0.750891\ttrain's online_auc: 0.756987\tvalid1's auc: 0.726881\tvalid1's online_auc: 0.72092\n",
      "[97]\ttrain's auc: 0.751206\ttrain's online_auc: 0.757295\tvalid1's auc: 0.726845\tvalid1's online_auc: 0.720926\n",
      "[98]\ttrain's auc: 0.751498\ttrain's online_auc: 0.757608\tvalid1's auc: 0.726824\tvalid1's online_auc: 0.720909\n",
      "[99]\ttrain's auc: 0.751795\ttrain's online_auc: 0.757952\tvalid1's auc: 0.726784\tvalid1's online_auc: 0.720908\n",
      "[100]\ttrain's auc: 0.752024\ttrain's online_auc: 0.758185\tvalid1's auc: 0.726782\tvalid1's online_auc: 0.720919\n",
      "[101]\ttrain's auc: 0.752285\ttrain's online_auc: 0.758504\tvalid1's auc: 0.726769\tvalid1's online_auc: 0.720892\n",
      "[102]\ttrain's auc: 0.752562\ttrain's online_auc: 0.758589\tvalid1's auc: 0.726756\tvalid1's online_auc: 0.720891\n",
      "[103]\ttrain's auc: 0.752758\ttrain's online_auc: 0.758884\tvalid1's auc: 0.726718\tvalid1's online_auc: 0.720861\n",
      "[104]\ttrain's auc: 0.752981\ttrain's online_auc: 0.759186\tvalid1's auc: 0.726686\tvalid1's online_auc: 0.720826\n",
      "[105]\ttrain's auc: 0.753236\ttrain's online_auc: 0.759965\tvalid1's auc: 0.726679\tvalid1's online_auc: 0.720862\n",
      "[106]\ttrain's auc: 0.753456\ttrain's online_auc: 0.760574\tvalid1's auc: 0.726665\tvalid1's online_auc: 0.720815\n",
      "[107]\ttrain's auc: 0.753675\ttrain's online_auc: 0.760815\tvalid1's auc: 0.726653\tvalid1's online_auc: 0.720796\n",
      "[108]\ttrain's auc: 0.753871\ttrain's online_auc: 0.761021\tvalid1's auc: 0.726639\tvalid1's online_auc: 0.720754\n",
      "[109]\ttrain's auc: 0.754099\ttrain's online_auc: 0.761327\tvalid1's auc: 0.726631\tvalid1's online_auc: 0.720763\n",
      "[110]\ttrain's auc: 0.754329\ttrain's online_auc: 0.761972\tvalid1's auc: 0.726637\tvalid1's online_auc: 0.720713\n",
      "[111]\ttrain's auc: 0.754419\ttrain's online_auc: 0.762067\tvalid1's auc: 0.726631\tvalid1's online_auc: 0.72072\n",
      "[112]\ttrain's auc: 0.754634\ttrain's online_auc: 0.762316\tvalid1's auc: 0.726617\tvalid1's online_auc: 0.720742\n",
      "[113]\ttrain's auc: 0.754937\ttrain's online_auc: 0.762691\tvalid1's auc: 0.726589\tvalid1's online_auc: 0.720742\n",
      "[114]\ttrain's auc: 0.755238\ttrain's online_auc: 0.762972\tvalid1's auc: 0.726556\tvalid1's online_auc: 0.72068\n",
      "[115]\ttrain's auc: 0.755416\ttrain's online_auc: 0.763188\tvalid1's auc: 0.726536\tvalid1's online_auc: 0.720659\n",
      "[116]\ttrain's auc: 0.755685\ttrain's online_auc: 0.763496\tvalid1's auc: 0.726484\tvalid1's online_auc: 0.72057\n",
      "[117]\ttrain's auc: 0.755898\ttrain's online_auc: 0.763719\tvalid1's auc: 0.726471\tvalid1's online_auc: 0.720535\n",
      "[118]\ttrain's auc: 0.756072\ttrain's online_auc: 0.764041\tvalid1's auc: 0.726461\tvalid1's online_auc: 0.720541\n",
      "[119]\ttrain's auc: 0.756249\ttrain's online_auc: 0.764284\tvalid1's auc: 0.726461\tvalid1's online_auc: 0.720569\n",
      "[120]\ttrain's auc: 0.756402\ttrain's online_auc: 0.764528\tvalid1's auc: 0.726467\tvalid1's online_auc: 0.720594\n",
      "[121]\ttrain's auc: 0.756758\ttrain's online_auc: 0.764985\tvalid1's auc: 0.726449\tvalid1's online_auc: 0.720621\n",
      "[122]\ttrain's auc: 0.757053\ttrain's online_auc: 0.765392\tvalid1's auc: 0.726428\tvalid1's online_auc: 0.720637\n",
      "[123]\ttrain's auc: 0.757245\ttrain's online_auc: 0.765538\tvalid1's auc: 0.726406\tvalid1's online_auc: 0.720623\n",
      "[124]\ttrain's auc: 0.757447\ttrain's online_auc: 0.765725\tvalid1's auc: 0.726377\tvalid1's online_auc: 0.720604\n",
      "[125]\ttrain's auc: 0.757647\ttrain's online_auc: 0.766001\tvalid1's auc: 0.726359\tvalid1's online_auc: 0.720569\n",
      "[126]\ttrain's auc: 0.757873\ttrain's online_auc: 0.766349\tvalid1's auc: 0.726346\tvalid1's online_auc: 0.72054\n",
      "[127]\ttrain's auc: 0.758094\ttrain's online_auc: 0.766618\tvalid1's auc: 0.726339\tvalid1's online_auc: 0.720539\n",
      "[128]\ttrain's auc: 0.758322\ttrain's online_auc: 0.767268\tvalid1's auc: 0.72632\tvalid1's online_auc: 0.720543\n",
      "[129]\ttrain's auc: 0.758548\ttrain's online_auc: 0.767838\tvalid1's auc: 0.726298\tvalid1's online_auc: 0.720474\n",
      "[130]\ttrain's auc: 0.758841\ttrain's online_auc: 0.768276\tvalid1's auc: 0.726288\tvalid1's online_auc: 0.720433\n",
      "[131]\ttrain's auc: 0.759109\ttrain's online_auc: 0.768517\tvalid1's auc: 0.726263\tvalid1's online_auc: 0.720409\n",
      "[132]\ttrain's auc: 0.759353\ttrain's online_auc: 0.769009\tvalid1's auc: 0.726234\tvalid1's online_auc: 0.72032\n",
      "[133]\ttrain's auc: 0.759578\ttrain's online_auc: 0.769622\tvalid1's auc: 0.726214\tvalid1's online_auc: 0.72024\n",
      "[134]\ttrain's auc: 0.759775\ttrain's online_auc: 0.770058\tvalid1's auc: 0.726195\tvalid1's online_auc: 0.720209\n",
      "[135]\ttrain's auc: 0.760004\ttrain's online_auc: 0.770293\tvalid1's auc: 0.726238\tvalid1's online_auc: 0.720259\n",
      "[136]\ttrain's auc: 0.76029\ttrain's online_auc: 0.770657\tvalid1's auc: 0.726265\tvalid1's online_auc: 0.720238\n",
      "Early stopping, best iteration is:\n",
      "[86]\ttrain's auc: 0.747869\ttrain's online_auc: 0.751597\tvalid1's auc: 0.727022\tvalid1's online_auc: 0.721145\n"
     ]
    }
   ],
   "source": [
    "# v2 parameters\n",
    "params = {\n",
    "    'boosting_type': 'gbdt',\n",
    "    'objective': 'binary',\n",
    "    'metric': 'auc',\n",
    "    'max_depth': 15,\n",
    "    'num_leaves': 120,\n",
    "    'learning_rate': 0.15,\n",
    "    'feature_fraction': 0.9,\n",
    "    'bagging_fraction': 0.8,\n",
    "    'verbose': 0\n",
    "}\n",
    "num_rounds = 1000\n",
    "# # v3 parameters\n",
    "# params = {\n",
    "#     'boosting_type': 'gbdt',\n",
    "#     'objective': 'binary',\n",
    "#     'metric': 'auc',\n",
    "#     'max_depth': 6,\n",
    "#     'num_leaves': 64,\n",
    "#     'learning_rate': 0.1,\n",
    "#     'feature_fraction': 0.5,\n",
    "#     'bagging_fraction': 0.5,\n",
    "#     'verbose': 0\n",
    "# }\n",
    "# num_rounds = 5000\n",
    "eval_auc = eu.build_lightgbm_online_auc_eval(aids_train, aids_valid)\n",
    "\n",
    "with iu.DuplicatedLogger(log_path):\n",
    "    lgbm = lgb.train(params,\n",
    "                     lgb_train,\n",
    "                     num_boost_round=num_rounds,\n",
    "                     valid_sets=[lgb_train, lgb_valid], \n",
    "                     valid_names=['train', 'valid1'],\n",
    "                     feval = eval_auc,\n",
    "                     early_stopping_rounds=50)"
   ]
  },
  {
   "cell_type": "code",
   "execution_count": 11,
   "metadata": {
    "scrolled": true
   },
   "outputs": [
    {
     "data": {
      "text/html": [
       "<div>\n",
       "<style scoped>\n",
       "    .dataframe tbody tr th:only-of-type {\n",
       "        vertical-align: middle;\n",
       "    }\n",
       "\n",
       "    .dataframe tbody tr th {\n",
       "        vertical-align: top;\n",
       "    }\n",
       "\n",
       "    .dataframe thead th {\n",
       "        text-align: right;\n",
       "    }\n",
       "</style>\n",
       "<table border=\"1\" class=\"dataframe\">\n",
       "  <thead>\n",
       "    <tr style=\"text-align: right;\">\n",
       "      <th></th>\n",
       "      <th>feature</th>\n",
       "      <th>importance</th>\n",
       "    </tr>\n",
       "  </thead>\n",
       "  <tbody>\n",
       "    <tr>\n",
       "      <th>88</th>\n",
       "      <td>bsClickrate@aid_x_interest2_q100</td>\n",
       "      <td>295</td>\n",
       "    </tr>\n",
       "    <tr>\n",
       "      <th>72</th>\n",
       "      <td>bsClickrate@advertiserId_x_interest1_q0</td>\n",
       "      <td>216</td>\n",
       "    </tr>\n",
       "    <tr>\n",
       "      <th>100</th>\n",
       "      <td>bsClickrate@creativeSize_x_interest2_q100</td>\n",
       "      <td>199</td>\n",
       "    </tr>\n",
       "    <tr>\n",
       "      <th>120</th>\n",
       "      <td>bsClickrate@aid_x_interest5_q0</td>\n",
       "      <td>197</td>\n",
       "    </tr>\n",
       "    <tr>\n",
       "      <th>104</th>\n",
       "      <td>impression@creativeSize_x_interest2_mean</td>\n",
       "      <td>183</td>\n",
       "    </tr>\n",
       "    <tr>\n",
       "      <th>76</th>\n",
       "      <td>bsClickrate@advertiserId_x_interest1_q100</td>\n",
       "      <td>179</td>\n",
       "    </tr>\n",
       "    <tr>\n",
       "      <th>16</th>\n",
       "      <td>bsClickrate@productType_x_kw2_q100</td>\n",
       "      <td>164</td>\n",
       "    </tr>\n",
       "    <tr>\n",
       "      <th>124</th>\n",
       "      <td>bsClickrate@aid_x_interest5_q100</td>\n",
       "      <td>162</td>\n",
       "    </tr>\n",
       "    <tr>\n",
       "      <th>18</th>\n",
       "      <td>bsClickrate@productType_x_kw2_mean</td>\n",
       "      <td>152</td>\n",
       "    </tr>\n",
       "    <tr>\n",
       "      <th>17</th>\n",
       "      <td>bsClickrate_weighted_avg@productType_x_kw2</td>\n",
       "      <td>145</td>\n",
       "    </tr>\n",
       "    <tr>\n",
       "      <th>22</th>\n",
       "      <td>max_bsClickrate_impression@productType_x_kw2</td>\n",
       "      <td>144</td>\n",
       "    </tr>\n",
       "    <tr>\n",
       "      <th>5</th>\n",
       "      <td>bsClickrate_weighted_avg@productType_x_kw1</td>\n",
       "      <td>139</td>\n",
       "    </tr>\n",
       "    <tr>\n",
       "      <th>53</th>\n",
       "      <td>bsClickrate_weighted_avg@aid_x_topic2</td>\n",
       "      <td>132</td>\n",
       "    </tr>\n",
       "    <tr>\n",
       "      <th>126</th>\n",
       "      <td>bsClickrate@aid_x_interest5_mean</td>\n",
       "      <td>131</td>\n",
       "    </tr>\n",
       "    <tr>\n",
       "      <th>54</th>\n",
       "      <td>bsClickrate@aid_x_topic2_mean</td>\n",
       "      <td>122</td>\n",
       "    </tr>\n",
       "    <tr>\n",
       "      <th>116</th>\n",
       "      <td>impression@campaignId_x_interest4_mean</td>\n",
       "      <td>120</td>\n",
       "    </tr>\n",
       "    <tr>\n",
       "      <th>12</th>\n",
       "      <td>bsClickrate@productType_x_kw2_q0</td>\n",
       "      <td>119</td>\n",
       "    </tr>\n",
       "    <tr>\n",
       "      <th>105</th>\n",
       "      <td>impression@creativeSize_x_interest2_std</td>\n",
       "      <td>114</td>\n",
       "    </tr>\n",
       "    <tr>\n",
       "      <th>84</th>\n",
       "      <td>bsClickrate@aid_x_interest2_q0</td>\n",
       "      <td>111</td>\n",
       "    </tr>\n",
       "    <tr>\n",
       "      <th>136</th>\n",
       "      <td>bsClickrate@aid_x_ct_q100</td>\n",
       "      <td>109</td>\n",
       "    </tr>\n",
       "    <tr>\n",
       "      <th>121</th>\n",
       "      <td>bsClickrate@aid_x_interest5_q25</td>\n",
       "      <td>109</td>\n",
       "    </tr>\n",
       "    <tr>\n",
       "      <th>79</th>\n",
       "      <td>bsClickrate@advertiserId_x_interest1_std</td>\n",
       "      <td>108</td>\n",
       "    </tr>\n",
       "    <tr>\n",
       "      <th>106</th>\n",
       "      <td>max_bsClickrate_impression@creativeSize_x_inte...</td>\n",
       "      <td>108</td>\n",
       "    </tr>\n",
       "    <tr>\n",
       "      <th>14</th>\n",
       "      <td>bsClickrate@productType_x_kw2_q50</td>\n",
       "      <td>107</td>\n",
       "    </tr>\n",
       "    <tr>\n",
       "      <th>73</th>\n",
       "      <td>bsClickrate@advertiserId_x_interest1_q25</td>\n",
       "      <td>106</td>\n",
       "    </tr>\n",
       "    <tr>\n",
       "      <th>48</th>\n",
       "      <td>bsClickrate@aid_x_topic2_q0</td>\n",
       "      <td>100</td>\n",
       "    </tr>\n",
       "    <tr>\n",
       "      <th>75</th>\n",
       "      <td>bsClickrate@advertiserId_x_interest1_q75</td>\n",
       "      <td>100</td>\n",
       "    </tr>\n",
       "    <tr>\n",
       "      <th>80</th>\n",
       "      <td>impression@advertiserId_x_interest1_mean</td>\n",
       "      <td>99</td>\n",
       "    </tr>\n",
       "    <tr>\n",
       "      <th>50</th>\n",
       "      <td>bsClickrate@aid_x_topic2_q50</td>\n",
       "      <td>94</td>\n",
       "    </tr>\n",
       "    <tr>\n",
       "      <th>96</th>\n",
       "      <td>bsClickrate@creativeSize_x_interest2_q0</td>\n",
       "      <td>93</td>\n",
       "    </tr>\n",
       "  </tbody>\n",
       "</table>\n",
       "</div>"
      ],
      "text/plain": [
       "                                               feature  importance\n",
       "88                    bsClickrate@aid_x_interest2_q100         295\n",
       "72             bsClickrate@advertiserId_x_interest1_q0         216\n",
       "100          bsClickrate@creativeSize_x_interest2_q100         199\n",
       "120                     bsClickrate@aid_x_interest5_q0         197\n",
       "104           impression@creativeSize_x_interest2_mean         183\n",
       "76           bsClickrate@advertiserId_x_interest1_q100         179\n",
       "16                  bsClickrate@productType_x_kw2_q100         164\n",
       "124                   bsClickrate@aid_x_interest5_q100         162\n",
       "18                  bsClickrate@productType_x_kw2_mean         152\n",
       "17          bsClickrate_weighted_avg@productType_x_kw2         145\n",
       "22        max_bsClickrate_impression@productType_x_kw2         144\n",
       "5           bsClickrate_weighted_avg@productType_x_kw1         139\n",
       "53               bsClickrate_weighted_avg@aid_x_topic2         132\n",
       "126                   bsClickrate@aid_x_interest5_mean         131\n",
       "54                       bsClickrate@aid_x_topic2_mean         122\n",
       "116             impression@campaignId_x_interest4_mean         120\n",
       "12                    bsClickrate@productType_x_kw2_q0         119\n",
       "105            impression@creativeSize_x_interest2_std         114\n",
       "84                      bsClickrate@aid_x_interest2_q0         111\n",
       "136                          bsClickrate@aid_x_ct_q100         109\n",
       "121                    bsClickrate@aid_x_interest5_q25         109\n",
       "79            bsClickrate@advertiserId_x_interest1_std         108\n",
       "106  max_bsClickrate_impression@creativeSize_x_inte...         108\n",
       "14                   bsClickrate@productType_x_kw2_q50         107\n",
       "73            bsClickrate@advertiserId_x_interest1_q25         106\n",
       "48                         bsClickrate@aid_x_topic2_q0         100\n",
       "75            bsClickrate@advertiserId_x_interest1_q75         100\n",
       "80            impression@advertiserId_x_interest1_mean          99\n",
       "50                        bsClickrate@aid_x_topic2_q50          94\n",
       "96             bsClickrate@creativeSize_x_interest2_q0          93"
      ]
     },
     "execution_count": 11,
     "metadata": {},
     "output_type": "execute_result"
    }
   ],
   "source": [
    "# these will cause LightGBM bug I don't know how to fix. Just skip it\n",
    "log_file = 'v1.feature_importance.csv'\n",
    "log_path = os.path.join(log_folder, log_file)\n",
    "\n",
    "df_feature_importance = pd.DataFrame({\"feature\": cols, \"importance\": lgbm.feature_importance()})\n",
    "df_feature_importance = df_feature_importance.sort_values(\"importance\", ascending=False)\n",
    "df_feature_importance.to_csv(log_path, index=False)\n",
    "df_feature_importance.head(30)"
   ]
  },
  {
   "cell_type": "code",
   "execution_count": 12,
   "metadata": {
    "scrolled": true
   },
   "outputs": [
    {
     "name": "stdout",
     "output_type": "stream",
     "text": [
      "[10:34:51] Finish making prediction on validation set. △M: +20.0KB. △T: 8.1 seconds.\n"
     ]
    }
   ],
   "source": [
    "with pu.profiler(\"making prediction on validation set\"):\n",
    "    df_valid = df_train.iloc[valid_index]\n",
    "    proba_valid = lgbm.predict(X_valid.astype(np.float32))\n",
    "\n",
    "log_file = 'v1.online_auc.csv'\n",
    "log_path = os.path.join(log_folder, log_file)\n",
    "df_score = eu.online_auc(df_valid['aid'], y_valid, proba_valid, ret_verbose=True)\n",
    "df_score.rename(columns={'selector': 'aid'}, inplace=True)\n",
    "df_score = df_score[['aid', 'auc']]  # sort columns\n",
    "df_score = df_score.sort_values(\"auc\", ascending=False)\n",
    "df_score.to_csv(log_path, index=False)"
   ]
  },
  {
   "cell_type": "code",
   "execution_count": 13,
   "metadata": {},
   "outputs": [
    {
     "name": "stdout",
     "output_type": "stream",
     "text": [
      "Online AUC: 0.721145\n",
      "Simple AUC: 0.727022\n"
     ]
    }
   ],
   "source": [
    "online_auc = df_score['auc'].mean()\n",
    "simple_auc = metrics.roc_auc_score(y_valid, proba_valid)\n",
    "print(\"Online AUC: {:.6f}\".format(online_auc))\n",
    "print(\"Simple AUC: {:.6f}\".format(simple_auc))"
   ]
  },
  {
   "cell_type": "code",
   "execution_count": 14,
   "metadata": {},
   "outputs": [
    {
     "name": "stdout",
     "output_type": "stream",
     "text": [
      "[10:35:07] Finish cleaning memory. △M: -4.46GB. △T: 0.7 seconds.\n"
     ]
    }
   ],
   "source": [
    "with pu.profiler(\"cleaning memory\"):\n",
    "    del lgb_train\n",
    "    del lgb_valid\n",
    "    # del X_train\n",
    "    del X_valid\n",
    "    gc.collect()"
   ]
  },
  {
   "cell_type": "code",
   "execution_count": null,
   "metadata": {},
   "outputs": [],
   "source": [
    "with pu.profiler(\"loading testing data\"):\n",
    "    _, X_test = union_loader.load(\"test1\")\n",
    "    X_test = sparse.csr_matrix(X_test)\n",
    "    gc.collect()\n",
    "\n",
    "print(\"Test Data Shape: {}\".format(X_test.shape))\n",
    "# print(\"Test Column Numbers: {}\".format(len(cols_test)))"
   ]
  },
  {
   "cell_type": "code",
   "execution_count": 17,
   "metadata": {
    "scrolled": true
   },
   "outputs": [
    {
     "name": "stdout",
     "output_type": "stream",
     "text": [
      "[13:42:18] Finish making prediction on testing set. △M: +0B. △T: 5.1 seconds.\n"
     ]
    }
   ],
   "source": [
    "df_test = du.load_raw_data(\"test\")\n",
    "X_test = X_test.astype(np.float32)\n",
    "\n",
    "with pu.profiler(\"making prediction on testing set\"):\n",
    "    proba_test = lgbm.predict(X_test)\n",
    "    assert len(proba_test.shape) == 1\n",
    "    assert proba_test.shape[0] == df_test.shape[0]"
   ]
  },
  {
   "cell_type": "code",
   "execution_count": 18,
   "metadata": {},
   "outputs": [],
   "source": [
    "subm_folder = '../subm/lgbm/0518_v4'\n",
    "subm_file = 'submission.csv'\n",
    "subm_path = os.path.join(subm_folder, subm_file)\n",
    "os.makedirs(subm_folder, exist_ok=True)\n",
    "\n",
    "subm = df_test.copy()\n",
    "subm[\"score\"] = proba_test\n",
    "subm.to_csv(subm_path, index=False)"
   ]
  },
  {
   "cell_type": "code",
   "execution_count": null,
   "metadata": {},
   "outputs": [],
   "source": []
  }
 ],
 "metadata": {
  "kernelspec": {
   "display_name": "Python 3",
   "language": "python",
   "name": "python3"
  },
  "language_info": {
   "codemirror_mode": {
    "name": "ipython",
    "version": 3
   },
   "file_extension": ".py",
   "mimetype": "text/x-python",
   "name": "python",
   "nbconvert_exporter": "python",
   "pygments_lexer": "ipython3",
   "version": "3.5.2"
  }
 },
 "nbformat": 4,
 "nbformat_minor": 2
}
