{
 "cells": [
  {
   "cell_type": "code",
   "execution_count": 1,
   "metadata": {},
   "outputs": [],
   "source": [
    "import numpy as np\n",
    "import os\n",
    "import gc\n",
    "import sys\n",
    "sys.path.append(\"../code/utils/\")\n",
    "import data_utils as du\n",
    "import perf_utils as pu"
   ]
  },
  {
   "cell_type": "code",
   "execution_count": 2,
   "metadata": {},
   "outputs": [],
   "source": [
    "def cnt_to_cooccurence(cnt_matrix):\n",
    "    return np.multiply(cnt_matrix.T.astype(np.float32), cnt_matrix.astype(np.float32)).astype(np.float32)"
   ]
  },
  {
   "cell_type": "code",
   "execution_count": 3,
   "metadata": {},
   "outputs": [],
   "source": [
    "cooc_folder = \"../data/nlp_cooccurrence/preliminary_contest_data/byUserFeatureName/\"\n",
    "os.makedirs(cooc_folder, exist_ok=True)"
   ]
  },
  {
   "cell_type": "code",
   "execution_count": 4,
   "metadata": {},
   "outputs": [],
   "source": [
    "multi_feat_names = ['marriageStatus', 'interest1', 'interest2', 'interest3',\n",
    "                   'interest4', 'interest5', 'kw1', 'kw2', 'kw3', 'topic1',\n",
    "                   'topic2', 'topic3', 'appIdInstall', 'appIdAction', 'ct', 'os']  # 16 in total"
   ]
  },
  {
   "cell_type": "code",
   "execution_count": 5,
   "metadata": {},
   "outputs": [
    {
     "name": "stdout",
     "output_type": "stream",
     "text": [
      "Memory usage at this moment: 71.49MB\n"
     ]
    }
   ],
   "source": [
    "print(\"Memory usage at this moment: {}\".format(pu.get_memory_str()))"
   ]
  },
  {
   "cell_type": "code",
   "execution_count": 6,
   "metadata": {
    "scrolled": true
   },
   "outputs": [
    {
     "name": "stdout",
     "output_type": "stream",
     "text": [
      "--------------------------------------------------------------------------------\n",
      "processing 'marriageStatus'...\n",
      "[09:10:40] Finish calculating coocurrence matrix. △M: +1.52MB. △T: 0.9 seconds.\n",
      "[09:10:40] Finish saving coocurrence matrix for. △M: +24.0KB. △T: 0.0 seconds.\n",
      "--------------------------------------------------------------------------------\n",
      "processing 'interest1'...\n",
      "[09:10:57] Finish calculating coocurrence matrix. △M: +244.0KB. △T: 16.5 seconds.\n",
      "[09:10:57] Finish saving coocurrence matrix for. △M: +268.0KB. △T: 0.1 seconds.\n",
      "--------------------------------------------------------------------------------\n",
      "processing 'interest2'...\n",
      "[09:11:01] Finish calculating coocurrence matrix. △M: +4.0KB. △T: 4.2 seconds.\n",
      "[09:11:01] Finish saving coocurrence matrix for. △M: +0B. △T: 0.0 seconds.\n",
      "--------------------------------------------------------------------------------\n",
      "processing 'interest3'...\n",
      "[09:11:02] Finish calculating coocurrence matrix. △M: +21.07MB. △T: 0.9 seconds.\n",
      "[09:11:02] Finish saving coocurrence matrix for. △M: +0B. △T: 0.0 seconds.\n",
      "--------------------------------------------------------------------------------\n",
      "processing 'interest4'...\n",
      "[09:11:03] Finish calculating coocurrence matrix. △M: +0B. △T: 0.8 seconds.\n",
      "[09:11:03] Finish saving coocurrence matrix for. △M: +0B. △T: 0.0 seconds.\n",
      "--------------------------------------------------------------------------------\n",
      "processing 'interest5'...\n",
      "[09:11:24] Finish calculating coocurrence matrix. △M: +4.0KB. △T: 21.2 seconds.\n",
      "[09:11:24] Finish saving coocurrence matrix for. △M: +0B. △T: 0.0 seconds.\n",
      "--------------------------------------------------------------------------------\n",
      "processing 'kw1'...\n",
      "[09:11:40] Finish calculating coocurrence matrix. △M: +449.76MB. △T: 16.3 seconds.\n",
      "[09:11:42] Finish saving coocurrence matrix for. △M: -449.11MB. △T: 1.4 seconds.\n",
      "--------------------------------------------------------------------------------\n",
      "processing 'kw2'...\n",
      "[09:11:53] Finish calculating coocurrence matrix. △M: +110.22MB. △T: 11.6 seconds.\n",
      "[09:11:53] Finish saving coocurrence matrix for. △M: -110.18MB. △T: 0.3 seconds.\n",
      "--------------------------------------------------------------------------------\n",
      "processing 'kw3'...\n",
      "[09:11:55] Finish calculating coocurrence matrix. △M: +2.14MB. △T: 1.2 seconds.\n",
      "[09:11:55] Finish saving coocurrence matrix for. △M: -21.94MB. △T: 0.0 seconds.\n",
      "--------------------------------------------------------------------------------\n",
      "processing 'topic1'...\n",
      "[09:12:06] Finish calculating coocurrence matrix. △M: +178.77MB. △T: 11.7 seconds.\n",
      "[09:12:07] Finish saving coocurrence matrix for. △M: -178.55MB. △T: 0.5 seconds.\n",
      "--------------------------------------------------------------------------------\n",
      "processing 'topic2'...\n",
      "[09:12:19] Finish calculating coocurrence matrix. △M: +105.11MB. △T: 11.9 seconds.\n",
      "[09:12:19] Finish saving coocurrence matrix for. △M: -104.89MB. △T: 0.3 seconds.\n",
      "--------------------------------------------------------------------------------\n",
      "processing 'topic3'...\n",
      "[09:12:20] Finish calculating coocurrence matrix. △M: +24.42MB. △T: 1.2 seconds.\n",
      "[09:12:20] Finish saving coocurrence matrix for. △M: -25.17MB. △T: 0.0 seconds.\n",
      "--------------------------------------------------------------------------------\n",
      "processing 'appIdInstall'...\n",
      "[09:13:20] Finish calculating coocurrence matrix. △M: +3.48GB. △T: 59.9 seconds.\n",
      "[09:13:34] Finish saving coocurrence matrix for. △M: -3.47GB. △T: 13.2 seconds.\n",
      "--------------------------------------------------------------------------------\n",
      "processing 'appIdAction'...\n",
      "[09:13:35] Finish calculating coocurrence matrix. △M: +68.83MB. △T: 1.3 seconds.\n",
      "[09:13:35] Finish saving coocurrence matrix for. △M: -75.96MB. △T: 0.2 seconds.\n",
      "--------------------------------------------------------------------------------\n",
      "processing 'ct'...\n",
      "[09:13:36] Finish calculating coocurrence matrix. △M: +34.51MB. △T: 1.3 seconds.\n",
      "[09:13:36] Finish saving coocurrence matrix for. △M: +0B. △T: 0.0 seconds.\n",
      "--------------------------------------------------------------------------------\n",
      "processing 'os'...\n",
      "[09:13:37] Finish calculating coocurrence matrix. △M: +8.0KB. △T: 0.7 seconds.\n",
      "[09:13:37] Finish saving coocurrence matrix for. △M: +0B. △T: 0.0 seconds.\n"
     ]
    }
   ],
   "source": [
    "for feat_name in multi_feat_names:\n",
    "    print(\"-\" * 80)\n",
    "    print(\"processing '{}'...\".format(feat_name))\n",
    "    with pu.profiler(\"calculating coocurrence matrix\"):\n",
    "        uid_index, (val_index, cnt) = du.load_user_cnt(feat_name)\n",
    "        cooc = cnt_to_cooccurence(cnt)\n",
    "        del cnt\n",
    "        del uid_index\n",
    "        gc.collect()\n",
    "        \n",
    "    with pu.profiler(\"saving coocurrence matrix for\"):\n",
    "        cooc_file = \"userFeature.[featureName='{}'].pkl\".format(feat_name)\n",
    "        cooc_path = os.path.join(cooc_folder, cooc_file)\n",
    "        du.save_pickle((val_index, cooc), cooc_path)\n",
    "        del cooc\n",
    "        del val_index\n",
    "        gc.collect()"
   ]
  },
  {
   "cell_type": "code",
   "execution_count": 7,
   "metadata": {},
   "outputs": [
    {
     "name": "stdout",
     "output_type": "stream",
     "text": [
      "Memory usage at this moment: 109.2MB\n"
     ]
    }
   ],
   "source": [
    "print(\"Memory usage at this moment: {}\".format(pu.get_memory_str()))"
   ]
  }
 ],
 "metadata": {
  "kernelspec": {
   "display_name": "Python 3",
   "language": "python",
   "name": "python3"
  },
  "language_info": {
   "codemirror_mode": {
    "name": "ipython",
    "version": 3
   },
   "file_extension": ".py",
   "mimetype": "text/x-python",
   "name": "python",
   "nbconvert_exporter": "python",
   "pygments_lexer": "ipython3",
   "version": "3.5.2"
  }
 },
 "nbformat": 4,
 "nbformat_minor": 2
}
