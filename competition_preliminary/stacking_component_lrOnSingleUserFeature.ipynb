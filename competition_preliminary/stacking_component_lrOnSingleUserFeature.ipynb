{
 "cells": [
  {
   "cell_type": "code",
   "execution_count": 1,
   "metadata": {},
   "outputs": [],
   "source": [
    "from sklearn.linear_model import LogisticRegression\n",
    "from sklearn.model_selection import StratifiedKFold\n",
    "from sklearn import metrics\n",
    "import pandas as pd\n",
    "import numpy as np\n",
    "import time\n",
    "import gc\n",
    "import os\n",
    "import sys\n",
    "sys.path.append(\"../code/utils\")\n",
    "sys.path.append(\"../code\")\n",
    "import data_utils as du\n",
    "import perf_utils as pu\n",
    "import config"
   ]
  },
  {
   "cell_type": "code",
   "execution_count": 2,
   "metadata": {},
   "outputs": [],
   "source": [
    "user_feat_names = config.USER_FEAT_NAMES"
   ]
  },
  {
   "cell_type": "code",
   "execution_count": 3,
   "metadata": {},
   "outputs": [],
   "source": [
    "df_train = du.load_raw_data(\"train\")\n",
    "df_test = du.load_raw_data(\"test\")\n",
    "y = df_train[\"label\"].values.copy()\n",
    "y = (y + 1) / 2  # 1/-1 to 1/0"
   ]
  },
  {
   "cell_type": "code",
   "execution_count": 4,
   "metadata": {},
   "outputs": [],
   "source": [
    "n_splits = 5  # 3? 5? Don't know which one will be better\n",
    "skf = StratifiedKFold(n_splits=n_splits, random_state=2018)  # for reproducibility\n",
    "split_indices = [(train_index, valid_index) for train_index, valid_index in skf.split(df_train, y)]"
   ]
  },
  {
   "cell_type": "code",
   "execution_count": 5,
   "metadata": {},
   "outputs": [],
   "source": [
    "# what should be customizable:\n",
    "# 1. model building\n",
    "# 2. model fitting\n",
    "# 3. model predicting"
   ]
  },
  {
   "cell_type": "code",
   "execution_count": 6,
   "metadata": {},
   "outputs": [
    {
     "name": "stderr",
     "output_type": "stream",
     "text": [
      "loading user matrices: 100%|██████████| 1/1 [00:21<00:00, 21.81s/it]\n",
      "loading user matrices: 100%|██████████| 1/1 [00:17<00:00, 17.01s/it]\n"
     ]
    },
    {
     "name": "stdout",
     "output_type": "stream",
     "text": [
      "[13:11:05] Finish loading 'age'. △M: +156.56MB. △T: 38.8 seconds.\n",
      "[13:11:29] Finish fitting LR (fold 1/5). △M: +268.0KB. △T: 23.7 seconds.\n"
     ]
    },
    {
     "name": "stderr",
     "output_type": "stream",
     "text": [
      "/usr/local/lib/python3.5/dist-packages/scipy/optimize/linesearch.py:312: LineSearchWarning: The line search algorithm did not converge\n",
      "  warn('The line search algorithm did not converge', LineSearchWarning)\n",
      "/usr/local/lib/python3.5/dist-packages/sklearn/utils/optimize.py:195: UserWarning: Line Search failed\n",
      "  warnings.warn('Line Search failed')\n"
     ]
    },
    {
     "name": "stdout",
     "output_type": "stream",
     "text": [
      "[13:12:55] Finish fitting LR (fold 2/5). △M: +144.0KB. △T: 1.4 minutes.\n",
      "[13:13:28] Finish fitting LR (fold 3/5). △M: +26.98MB. △T: 32.8 seconds.\n",
      "[13:13:55] Finish fitting LR (fold 4/5). △M: +128.0KB. △T: 26.3 seconds.\n",
      "[13:15:13] Finish fitting LR (fold 5/5). △M: +128.0KB. △T: 1.3 minutes.\n"
     ]
    },
    {
     "name": "stderr",
     "output_type": "stream",
     "text": [
      "\r",
      "loading user matrices:   0%|          | 0/1 [00:00<?, ?it/s]"
     ]
    },
    {
     "name": "stdout",
     "output_type": "stream",
     "text": [
      "AUC: 0.563780(+/-0.000803)\n"
     ]
    },
    {
     "name": "stderr",
     "output_type": "stream",
     "text": [
      "loading user matrices: 100%|██████████| 1/1 [00:21<00:00, 21.50s/it]\n",
      "loading user matrices: 100%|██████████| 1/1 [00:17<00:00, 17.73s/it]\n"
     ]
    },
    {
     "name": "stdout",
     "output_type": "stream",
     "text": [
      "[13:15:53] Finish loading 'gender'. △M: +34.08MB. △T: 39.2 seconds.\n",
      "[13:18:40] Finish fitting LR (fold 1/5). △M: +128.0KB. △T: 2.8 minutes.\n",
      "[13:19:13] Finish fitting LR (fold 2/5). △M: +26.98MB. △T: 32.9 seconds.\n",
      "[13:22:01] Finish fitting LR (fold 3/5). △M: +0B. △T: 2.8 minutes.\n",
      "[13:22:35] Finish fitting LR (fold 4/5). △M: +26.98MB. △T: 33.3 seconds.\n",
      "[13:23:40] Finish fitting LR (fold 5/5). △M: +26.86MB. △T: 1.1 minutes.\n"
     ]
    },
    {
     "name": "stderr",
     "output_type": "stream",
     "text": [
      "\r",
      "loading user matrices:   0%|          | 0/1 [00:00<?, ?it/s]"
     ]
    },
    {
     "name": "stdout",
     "output_type": "stream",
     "text": [
      "AUC: 0.511453(+/-0.000546)\n"
     ]
    },
    {
     "name": "stderr",
     "output_type": "stream",
     "text": [
      "loading user matrices: 100%|██████████| 1/1 [00:22<00:00, 22.10s/it]\n",
      "loading user matrices: 100%|██████████| 1/1 [00:17<00:00, 17.56s/it]\n"
     ]
    },
    {
     "name": "stdout",
     "output_type": "stream",
     "text": [
      "[13:24:20] Finish loading 'marriageStatus'. △M: +40.87MB. △T: 39.7 seconds.\n",
      "[13:25:22] Finish fitting LR (fold 1/5). △M: +4.0KB. △T: 1.0 minutes.\n",
      "[13:26:41] Finish fitting LR (fold 2/5). △M: +26.98MB. △T: 1.3 minutes.\n",
      "[13:30:28] Finish fitting LR (fold 3/5). △M: +26.85MB. △T: 3.8 minutes.\n",
      "[13:31:52] Finish fitting LR (fold 4/5). △M: +0B. △T: 1.4 minutes.\n",
      "[13:33:02] Finish fitting LR (fold 5/5). △M: +26.98MB. △T: 1.1 minutes.\n"
     ]
    },
    {
     "name": "stderr",
     "output_type": "stream",
     "text": [
      "\r",
      "loading user matrices:   0%|          | 0/1 [00:00<?, ?it/s]"
     ]
    },
    {
     "name": "stdout",
     "output_type": "stream",
     "text": [
      "AUC: 0.539667(+/-0.00096)\n"
     ]
    },
    {
     "name": "stderr",
     "output_type": "stream",
     "text": [
      "loading user matrices: 100%|██████████| 1/1 [00:21<00:00, 21.48s/it]\n",
      "loading user matrices: 100%|██████████| 1/1 [00:16<00:00, 16.97s/it]\n"
     ]
    },
    {
     "name": "stdout",
     "output_type": "stream",
     "text": [
      "[13:33:41] Finish loading 'education'. △M: +67.64MB. △T: 38.5 seconds.\n",
      "[13:34:12] Finish fitting LR (fold 1/5). △M: +128.0KB. △T: 30.9 seconds.\n",
      "[13:35:55] Finish fitting LR (fold 2/5). △M: +26.85MB. △T: 1.7 minutes.\n",
      "[13:36:31] Finish fitting LR (fold 3/5). △M: +0B. △T: 36.2 seconds.\n",
      "[13:38:32] Finish fitting LR (fold 4/5). △M: +26.98MB. △T: 2.0 minutes.\n",
      "[13:40:00] Finish fitting LR (fold 5/5). △M: +0B. △T: 1.5 minutes.\n"
     ]
    },
    {
     "name": "stderr",
     "output_type": "stream",
     "text": [
      "\r",
      "loading user matrices:   0%|          | 0/1 [00:00<?, ?it/s]"
     ]
    },
    {
     "name": "stdout",
     "output_type": "stream",
     "text": [
      "AUC: 0.539272(+/-0.000975)\n"
     ]
    },
    {
     "name": "stderr",
     "output_type": "stream",
     "text": [
      "loading user matrices: 100%|██████████| 1/1 [00:22<00:00, 22.05s/it]\n",
      "loading user matrices: 100%|██████████| 1/1 [00:17<00:00, 17.19s/it]\n"
     ]
    },
    {
     "name": "stdout",
     "output_type": "stream",
     "text": [
      "[13:40:40] Finish loading 'consumptionAbility'. △M: +67.63MB. △T: 39.2 seconds.\n",
      "[13:41:08] Finish fitting LR (fold 1/5). △M: +128.0KB. △T: 27.7 seconds.\n",
      "[13:41:47] Finish fitting LR (fold 2/5). △M: +26.98MB. △T: 38.4 seconds.\n",
      "[13:42:17] Finish fitting LR (fold 3/5). △M: +26.85MB. △T: 29.2 seconds.\n",
      "[13:42:48] Finish fitting LR (fold 4/5). △M: +0B. △T: 30.4 seconds.\n",
      "[13:43:28] Finish fitting LR (fold 5/5). △M: +0B. △T: 39.6 seconds.\n"
     ]
    },
    {
     "name": "stderr",
     "output_type": "stream",
     "text": [
      "\r",
      "loading user matrices:   0%|          | 0/1 [00:00<?, ?it/s]"
     ]
    },
    {
     "name": "stdout",
     "output_type": "stream",
     "text": [
      "AUC: 0.531474(+/-0.000534)\n"
     ]
    },
    {
     "name": "stderr",
     "output_type": "stream",
     "text": [
      "loading user matrices: 100%|██████████| 1/1 [00:21<00:00, 21.67s/it]\n",
      "loading user matrices: 100%|██████████| 1/1 [00:17<00:00, 17.28s/it]\n"
     ]
    },
    {
     "name": "stdout",
     "output_type": "stream",
     "text": [
      "[13:44:07] Finish loading 'LBS'. △M: +68.13MB. △T: 39.0 seconds.\n",
      "[13:45:29] Finish fitting LR (fold 1/5). △M: +128.0KB. △T: 1.3 minutes.\n",
      "[13:46:59] Finish fitting LR (fold 2/5). △M: +128.0KB. △T: 1.5 minutes.\n",
      "[13:50:02] Finish fitting LR (fold 3/5). △M: +160.0KB. △T: 3.0 minutes.\n",
      "[13:51:22] Finish fitting LR (fold 4/5). △M: +26.85MB. △T: 1.3 minutes.\n",
      "[13:52:48] Finish fitting LR (fold 5/5). △M: +128.0KB. △T: 1.4 minutes.\n"
     ]
    },
    {
     "name": "stderr",
     "output_type": "stream",
     "text": [
      "\r",
      "loading user matrices:   0%|          | 0/1 [00:00<?, ?it/s]"
     ]
    },
    {
     "name": "stdout",
     "output_type": "stream",
     "text": [
      "AUC: 0.527491(+/-0.00148)\n"
     ]
    },
    {
     "name": "stderr",
     "output_type": "stream",
     "text": [
      "loading user matrices: 100%|██████████| 1/1 [00:25<00:00, 25.35s/it]\n",
      "loading user matrices: 100%|██████████| 1/1 [00:19<00:00, 19.10s/it]\n"
     ]
    },
    {
     "name": "stdout",
     "output_type": "stream",
     "text": [
      "[13:53:33] Finish loading 'interest1'. △M: +688.74MB. △T: 44.5 seconds.\n",
      "[14:01:48] Finish fitting LR (fold 1/5). △M: +402.91MB. △T: 8.2 minutes.\n",
      "[14:10:34] Finish fitting LR (fold 2/5). △M: -55.3MB. △T: 8.7 minutes.\n",
      "[14:18:54] Finish fitting LR (fold 3/5). △M: +128.0KB. △T: 8.3 minutes.\n",
      "[14:27:59] Finish fitting LR (fold 4/5). △M: +128.0KB. △T: 9.0 minutes.\n",
      "[14:36:20] Finish fitting LR (fold 5/5). △M: +128.0KB. △T: 8.3 minutes.\n"
     ]
    },
    {
     "name": "stderr",
     "output_type": "stream",
     "text": [
      "\r",
      "loading user matrices:   0%|          | 0/1 [00:00<?, ?it/s]"
     ]
    },
    {
     "name": "stdout",
     "output_type": "stream",
     "text": [
      "AUC: 0.553203(+/-0.000424)\n"
     ]
    },
    {
     "name": "stderr",
     "output_type": "stream",
     "text": [
      "loading user matrices: 100%|██████████| 1/1 [00:22<00:00, 22.14s/it]\n",
      "loading user matrices: 100%|██████████| 1/1 [00:17<00:00, 17.89s/it]\n"
     ]
    },
    {
     "name": "stdout",
     "output_type": "stream",
     "text": [
      "[14:37:01] Finish loading 'interest2'. △M: +208.83MB. △T: 40.0 seconds.\n",
      "[14:41:33] Finish fitting LR (fold 1/5). △M: +132.0KB. △T: 4.5 minutes.\n",
      "[14:46:02] Finish fitting LR (fold 2/5). △M: -35.75MB. △T: 4.5 minutes.\n",
      "[14:50:31] Finish fitting LR (fold 3/5). △M: +128.0KB. △T: 4.5 minutes.\n",
      "[14:54:12] Finish fitting LR (fold 4/5). △M: +128.0KB. △T: 3.7 minutes.\n",
      "[14:58:23] Finish fitting LR (fold 5/5). △M: +128.0KB. △T: 4.2 minutes.\n"
     ]
    },
    {
     "name": "stderr",
     "output_type": "stream",
     "text": [
      "\r",
      "loading user matrices:   0%|          | 0/1 [00:00<?, ?it/s]"
     ]
    },
    {
     "name": "stdout",
     "output_type": "stream",
     "text": [
      "AUC: 0.604180(+/-0.000825)\n"
     ]
    },
    {
     "name": "stderr",
     "output_type": "stream",
     "text": [
      "loading user matrices: 100%|██████████| 1/1 [00:22<00:00, 22.29s/it]\n",
      "loading user matrices: 100%|██████████| 1/1 [00:17<00:00, 17.43s/it]\n"
     ]
    },
    {
     "name": "stdout",
     "output_type": "stream",
     "text": [
      "[14:59:03] Finish loading 'interest3'. △M: +73.29MB. △T: 39.7 seconds.\n",
      "[14:59:42] Finish fitting LR (fold 1/5). △M: +128.0KB. △T: 38.3 seconds.\n",
      "[15:00:21] Finish fitting LR (fold 2/5). △M: +26.98MB. △T: 38.4 seconds.\n",
      "[15:00:56] Finish fitting LR (fold 3/5). △M: +0B. △T: 34.9 seconds.\n",
      "[15:01:33] Finish fitting LR (fold 4/5). △M: +128.0KB. △T: 35.6 seconds.\n",
      "[15:02:07] Finish fitting LR (fold 5/5). △M: +26.98MB. △T: 34.0 seconds.\n"
     ]
    },
    {
     "name": "stderr",
     "output_type": "stream",
     "text": [
      "\r",
      "loading user matrices:   0%|          | 0/1 [00:00<?, ?it/s]"
     ]
    },
    {
     "name": "stdout",
     "output_type": "stream",
     "text": [
      "AUC: 0.502203(+/-0.000303)\n"
     ]
    },
    {
     "name": "stderr",
     "output_type": "stream",
     "text": [
      "loading user matrices: 100%|██████████| 1/1 [00:20<00:00, 20.76s/it]\n",
      "loading user matrices: 100%|██████████| 1/1 [00:17<00:00, 17.03s/it]\n"
     ]
    },
    {
     "name": "stdout",
     "output_type": "stream",
     "text": [
      "[15:02:46] Finish loading 'interest4'. △M: +69.34MB. △T: 37.8 seconds.\n",
      "[15:03:18] Finish fitting LR (fold 1/5). △M: +128.0KB. △T: 32.1 seconds.\n",
      "[15:03:53] Finish fitting LR (fold 2/5). △M: +456.61MB. △T: 34.3 seconds.\n",
      "[15:04:26] Finish fitting LR (fold 3/5). △M: -320.86MB. △T: 32.5 seconds.\n",
      "[15:04:59] Finish fitting LR (fold 4/5). △M: +55.07MB. △T: 32.5 seconds.\n",
      "[15:06:02] Finish fitting LR (fold 5/5). △M: +128.0KB. △T: 1.0 minutes.\n"
     ]
    },
    {
     "name": "stderr",
     "output_type": "stream",
     "text": [
      "\r",
      "loading user matrices:   0%|          | 0/1 [00:00<?, ?it/s]"
     ]
    },
    {
     "name": "stdout",
     "output_type": "stream",
     "text": [
      "AUC: 0.501541(+/-0.000288)\n"
     ]
    },
    {
     "name": "stderr",
     "output_type": "stream",
     "text": [
      "loading user matrices: 100%|██████████| 1/1 [00:24<00:00, 24.68s/it]\n",
      "loading user matrices: 100%|██████████| 1/1 [00:18<00:00, 18.69s/it]\n"
     ]
    },
    {
     "name": "stdout",
     "output_type": "stream",
     "text": [
      "[15:06:45] Finish loading 'interest5'. △M: +801.14MB. △T: 43.4 seconds.\n",
      "[15:57:55] Finish fitting LR (fold 1/5). △M: +26.97MB. △T: 51.1 minutes.\n",
      "[16:01:31] Finish fitting LR (fold 2/5). △M: -18.37MB. △T: 3.6 minutes.\n",
      "[16:05:49] Finish fitting LR (fold 3/5). △M: -19.05MB. △T: 4.3 minutes.\n",
      "[16:09:54] Finish fitting LR (fold 4/5). △M: -19.67MB. △T: 4.0 minutes.\n",
      "[16:14:15] Finish fitting LR (fold 5/5). △M: -57.32MB. △T: 4.3 minutes.\n"
     ]
    },
    {
     "name": "stderr",
     "output_type": "stream",
     "text": [
      "\r",
      "loading user matrices:   0%|          | 0/1 [00:00<?, ?it/s]"
     ]
    },
    {
     "name": "stdout",
     "output_type": "stream",
     "text": [
      "AUC: 0.571726(+/-0.00057)\n"
     ]
    },
    {
     "name": "stderr",
     "output_type": "stream",
     "text": [
      "loading user matrices: 100%|██████████| 1/1 [00:28<00:00, 28.46s/it]\n",
      "loading user matrices: 100%|██████████| 1/1 [00:19<00:00, 19.42s/it]\n"
     ]
    },
    {
     "name": "stdout",
     "output_type": "stream",
     "text": [
      "[16:15:05] Finish loading 'kw1'. △M: +252.14MB. △T: 47.9 seconds.\n",
      "[16:23:26] Finish fitting LR (fold 1/5). △M: +53.82MB. △T: 8.3 minutes.\n",
      "[16:29:22] Finish fitting LR (fold 2/5). △M: -24.09MB. △T: 5.9 minutes.\n",
      "[16:35:23] Finish fitting LR (fold 3/5). △M: -44.78MB. △T: 6.0 minutes.\n",
      "[16:40:58] Finish fitting LR (fold 4/5). △M: +128.0KB. △T: 5.6 minutes.\n",
      "[16:47:15] Finish fitting LR (fold 5/5). △M: +41.62MB. △T: 6.2 minutes.\n"
     ]
    },
    {
     "name": "stderr",
     "output_type": "stream",
     "text": [
      "\r",
      "loading user matrices:   0%|          | 0/1 [00:00<?, ?it/s]"
     ]
    },
    {
     "name": "stdout",
     "output_type": "stream",
     "text": [
      "AUC: 0.547741(+/-0.00108)\n"
     ]
    },
    {
     "name": "stderr",
     "output_type": "stream",
     "text": [
      "loading user matrices: 100%|██████████| 1/1 [00:24<00:00, 24.24s/it]\n",
      "loading user matrices: 100%|██████████| 1/1 [00:18<00:00, 18.84s/it]\n"
     ]
    },
    {
     "name": "stdout",
     "output_type": "stream",
     "text": [
      "[16:47:59] Finish loading 'kw2'. △M: +250.78MB. △T: 43.1 seconds.\n",
      "[16:53:15] Finish fitting LR (fold 1/5). △M: -26.73MB. △T: 5.2 minutes.\n",
      "[16:59:02] Finish fitting LR (fold 2/5). △M: -40.6MB. △T: 5.8 minutes.\n",
      "[17:03:39] Finish fitting LR (fold 3/5). △M: +0B. △T: 4.6 minutes.\n",
      "[17:08:32] Finish fitting LR (fold 4/5). △M: +0B. △T: 4.8 minutes.\n",
      "[17:12:53] Finish fitting LR (fold 5/5). △M: -5.0MB. △T: 4.3 minutes.\n"
     ]
    },
    {
     "name": "stderr",
     "output_type": "stream",
     "text": [
      "\r",
      "loading user matrices:   0%|          | 0/1 [00:00<?, ?it/s]"
     ]
    },
    {
     "name": "stdout",
     "output_type": "stream",
     "text": [
      "AUC: 0.648461(+/-0.00088)\n"
     ]
    },
    {
     "name": "stderr",
     "output_type": "stream",
     "text": [
      "loading user matrices: 100%|██████████| 1/1 [00:21<00:00, 21.60s/it]\n",
      "loading user matrices: 100%|██████████| 1/1 [00:17<00:00, 17.14s/it]\n"
     ]
    },
    {
     "name": "stdout",
     "output_type": "stream",
     "text": [
      "[17:13:33] Finish loading 'kw3'. △M: +69.55MB. △T: 38.7 seconds.\n",
      "[17:14:56] Finish fitting LR (fold 1/5). △M: +3.54MB. △T: 1.4 minutes.\n",
      "[17:16:21] Finish fitting LR (fold 2/5). △M: +128.0KB. △T: 1.4 minutes.\n",
      "[17:17:45] Finish fitting LR (fold 3/5). △M: +26.85MB. △T: 1.4 minutes.\n",
      "[17:19:13] Finish fitting LR (fold 4/5). △M: +0B. △T: 1.4 minutes.\n",
      "[17:20:48] Finish fitting LR (fold 5/5). △M: +128.0KB. △T: 1.6 minutes.\n"
     ]
    },
    {
     "name": "stderr",
     "output_type": "stream",
     "text": [
      "\r",
      "loading user matrices:   0%|          | 0/1 [00:00<?, ?it/s]"
     ]
    },
    {
     "name": "stdout",
     "output_type": "stream",
     "text": [
      "AUC: 0.502396(+/-0.00038)\n"
     ]
    },
    {
     "name": "stderr",
     "output_type": "stream",
     "text": [
      "loading user matrices: 100%|██████████| 1/1 [00:24<00:00, 24.51s/it]\n",
      "loading user matrices: 100%|██████████| 1/1 [00:19<00:00, 19.22s/it]\n"
     ]
    },
    {
     "name": "stdout",
     "output_type": "stream",
     "text": [
      "[17:21:33] Finish loading 'topic1'. △M: +229.91MB. △T: 43.7 seconds.\n",
      "[17:25:29] Finish fitting LR (fold 1/5). △M: +128.0KB. △T: 3.9 minutes.\n",
      "[17:29:16] Finish fitting LR (fold 2/5). △M: +128.0KB. △T: 3.8 minutes.\n",
      "[17:33:08] Finish fitting LR (fold 3/5). △M: +8.0KB. △T: 3.8 minutes.\n",
      "[17:37:10] Finish fitting LR (fold 4/5). △M: +128.0KB. △T: 4.0 minutes.\n",
      "[17:40:47] Finish fitting LR (fold 5/5). △M: +0B. △T: 3.6 minutes.\n"
     ]
    },
    {
     "name": "stderr",
     "output_type": "stream",
     "text": [
      "\r",
      "loading user matrices:   0%|          | 0/1 [00:00<?, ?it/s]"
     ]
    },
    {
     "name": "stdout",
     "output_type": "stream",
     "text": [
      "AUC: 0.537481(+/-0.000437)\n"
     ]
    },
    {
     "name": "stderr",
     "output_type": "stream",
     "text": [
      "loading user matrices: 100%|██████████| 1/1 [00:24<00:00, 24.64s/it]\n",
      "loading user matrices: 100%|██████████| 1/1 [00:19<00:00, 19.25s/it]\n"
     ]
    },
    {
     "name": "stdout",
     "output_type": "stream",
     "text": [
      "[17:41:31] Finish loading 'topic2'. △M: +297.81MB. △T: 43.9 seconds.\n",
      "[17:44:38] Finish fitting LR (fold 1/5). △M: +53.83MB. △T: 3.1 minutes.\n",
      "[17:47:22] Finish fitting LR (fold 2/5). △M: -21.11MB. △T: 2.7 minutes.\n",
      "[17:51:02] Finish fitting LR (fold 3/5). △M: +128.0KB. △T: 3.6 minutes.\n",
      "[17:53:52] Finish fitting LR (fold 4/5). △M: +128.0KB. △T: 2.8 minutes.\n",
      "[17:57:05] Finish fitting LR (fold 5/5). △M: +128.0KB. △T: 3.2 minutes.\n"
     ]
    },
    {
     "name": "stderr",
     "output_type": "stream",
     "text": [
      "\r",
      "loading user matrices:   0%|          | 0/1 [00:00<?, ?it/s]"
     ]
    },
    {
     "name": "stdout",
     "output_type": "stream",
     "text": [
      "AUC: 0.617483(+/-0.00052)\n"
     ]
    },
    {
     "name": "stderr",
     "output_type": "stream",
     "text": [
      "loading user matrices: 100%|██████████| 1/1 [00:22<00:00, 22.14s/it]\n",
      "loading user matrices: 100%|██████████| 1/1 [00:18<00:00, 18.61s/it]\n"
     ]
    },
    {
     "name": "stdout",
     "output_type": "stream",
     "text": [
      "[17:57:47] Finish loading 'topic3'. △M: +73.16MB. △T: 40.8 seconds.\n",
      "[17:59:10] Finish fitting LR (fold 1/5). △M: -7.55MB. △T: 1.4 minutes.\n",
      "[18:00:33] Finish fitting LR (fold 2/5). △M: +128.0KB. △T: 1.4 minutes.\n",
      "[18:02:05] Finish fitting LR (fold 3/5). △M: -4.92MB. △T: 1.5 minutes.\n",
      "[18:03:27] Finish fitting LR (fold 4/5). △M: +128.0KB. △T: 1.4 minutes.\n",
      "[18:05:16] Finish fitting LR (fold 5/5). △M: +128.0KB. △T: 1.8 minutes.\n"
     ]
    },
    {
     "name": "stderr",
     "output_type": "stream",
     "text": [
      "\r",
      "loading user matrices:   0%|          | 0/1 [00:00<?, ?it/s]"
     ]
    },
    {
     "name": "stdout",
     "output_type": "stream",
     "text": [
      "AUC: 0.502620(+/-0.000354)\n"
     ]
    },
    {
     "name": "stderr",
     "output_type": "stream",
     "text": [
      "loading user matrices: 100%|██████████| 1/1 [00:23<00:00, 23.41s/it]\n",
      "loading user matrices: 100%|██████████| 1/1 [00:19<00:00, 19.30s/it]\n"
     ]
    },
    {
     "name": "stdout",
     "output_type": "stream",
     "text": [
      "[18:05:59] Finish loading 'appIdInstall'. △M: +229.54MB. △T: 42.7 seconds.\n",
      "[18:09:14] Finish fitting LR (fold 1/5). △M: +128.0KB. △T: 3.2 minutes.\n",
      "[18:12:52] Finish fitting LR (fold 2/5). △M: +128.0KB. △T: 3.6 minutes.\n",
      "[18:17:00] Finish fitting LR (fold 3/5). △M: -22.16MB. △T: 4.1 minutes.\n",
      "[18:20:32] Finish fitting LR (fold 4/5). △M: -26.85MB. △T: 3.5 minutes.\n",
      "[18:23:55] Finish fitting LR (fold 5/5). △M: +128.0KB. △T: 3.3 minutes.\n"
     ]
    },
    {
     "name": "stderr",
     "output_type": "stream",
     "text": [
      "\r",
      "loading user matrices:   0%|          | 0/1 [00:00<?, ?it/s]"
     ]
    },
    {
     "name": "stdout",
     "output_type": "stream",
     "text": [
      "AUC: 0.500987(+/-0.000377)\n"
     ]
    },
    {
     "name": "stderr",
     "output_type": "stream",
     "text": [
      "loading user matrices: 100%|██████████| 1/1 [00:23<00:00, 23.16s/it]\n",
      "loading user matrices: 100%|██████████| 1/1 [00:18<00:00, 18.76s/it]\n"
     ]
    },
    {
     "name": "stdout",
     "output_type": "stream",
     "text": [
      "[18:24:37] Finish loading 'appIdAction'. △M: +31.27MB. △T: 41.9 seconds.\n",
      "[18:25:55] Finish fitting LR (fold 1/5). △M: +128.0KB. △T: 1.3 minutes.\n",
      "[18:27:17] Finish fitting LR (fold 2/5). △M: +30.68MB. △T: 1.4 minutes.\n",
      "[18:28:55] Finish fitting LR (fold 3/5). △M: +0B. △T: 1.6 minutes.\n",
      "[18:30:23] Finish fitting LR (fold 4/5). △M: +132.0KB. △T: 1.5 minutes.\n",
      "[18:31:49] Finish fitting LR (fold 5/5). △M: +128.0KB. △T: 1.4 minutes.\n"
     ]
    },
    {
     "name": "stderr",
     "output_type": "stream",
     "text": [
      "\r",
      "loading user matrices:   0%|          | 0/1 [00:00<?, ?it/s]"
     ]
    },
    {
     "name": "stdout",
     "output_type": "stream",
     "text": [
      "AUC: 0.501321(+/-0.000159)\n"
     ]
    },
    {
     "name": "stderr",
     "output_type": "stream",
     "text": [
      "loading user matrices: 100%|██████████| 1/1 [00:22<00:00, 22.59s/it]\n",
      "loading user matrices: 100%|██████████| 1/1 [00:18<00:00, 18.15s/it]\n"
     ]
    },
    {
     "name": "stdout",
     "output_type": "stream",
     "text": [
      "[18:32:30] Finish loading 'ct'. △M: +96.98MB. △T: 40.7 seconds.\n",
      "[18:33:32] Finish fitting LR (fold 1/5). △M: -51.36MB. △T: 1.0 minutes.\n",
      "[18:34:28] Finish fitting LR (fold 2/5). △M: +53.7MB. △T: 55.5 seconds.\n",
      "[18:35:37] Finish fitting LR (fold 3/5). △M: +132.0KB. △T: 1.1 minutes.\n",
      "[18:36:26] Finish fitting LR (fold 4/5). △M: +128.0KB. △T: 48.4 seconds.\n",
      "[18:37:23] Finish fitting LR (fold 5/5). △M: -42.85MB. △T: 56.3 seconds.\n"
     ]
    },
    {
     "name": "stderr",
     "output_type": "stream",
     "text": [
      "\r",
      "loading user matrices:   0%|          | 0/1 [00:00<?, ?it/s]"
     ]
    },
    {
     "name": "stdout",
     "output_type": "stream",
     "text": [
      "AUC: 0.531697(+/-0.000743)\n"
     ]
    },
    {
     "name": "stderr",
     "output_type": "stream",
     "text": [
      "loading user matrices: 100%|██████████| 1/1 [00:21<00:00, 21.92s/it]\n",
      "loading user matrices: 100%|██████████| 1/1 [00:17<00:00, 17.74s/it]\n"
     ]
    },
    {
     "name": "stdout",
     "output_type": "stream",
     "text": [
      "[18:38:03] Finish loading 'os'. △M: +70.15MB. △T: 39.7 seconds.\n",
      "[18:38:36] Finish fitting LR (fold 1/5). △M: +0B. △T: 31.9 seconds.\n",
      "[18:39:07] Finish fitting LR (fold 2/5). △M: +53.83MB. △T: 31.0 seconds.\n",
      "[18:39:39] Finish fitting LR (fold 3/5). △M: +53.7MB. △T: 30.7 seconds.\n",
      "[18:40:10] Finish fitting LR (fold 4/5). △M: +0B. △T: 30.8 seconds.\n",
      "[18:40:42] Finish fitting LR (fold 5/5). △M: +53.7MB. △T: 31.4 seconds.\n"
     ]
    },
    {
     "name": "stderr",
     "output_type": "stream",
     "text": [
      "\r",
      "loading user matrices:   0%|          | 0/1 [00:00<?, ?it/s]"
     ]
    },
    {
     "name": "stdout",
     "output_type": "stream",
     "text": [
      "AUC: 0.531602(+/-0.000756)\n"
     ]
    },
    {
     "name": "stderr",
     "output_type": "stream",
     "text": [
      "loading user matrices: 100%|██████████| 1/1 [00:22<00:00, 22.30s/it]\n",
      "loading user matrices: 100%|██████████| 1/1 [00:18<00:00, 18.03s/it]\n"
     ]
    },
    {
     "name": "stdout",
     "output_type": "stream",
     "text": [
      "[18:41:23] Finish loading 'carrier'. △M: +67.64MB. △T: 40.3 seconds.\n",
      "[18:41:44] Finish fitting LR (fold 1/5). △M: +456.61MB. △T: 20.7 seconds.\n",
      "[18:44:31] Finish fitting LR (fold 2/5). △M: -402.77MB. △T: 2.8 minutes.\n",
      "[18:44:54] Finish fitting LR (fold 3/5). △M: +0B. △T: 22.4 seconds.\n",
      "[18:45:23] Finish fitting LR (fold 4/5). △M: +128.0KB. △T: 28.6 seconds.\n",
      "[18:46:54] Finish fitting LR (fold 5/5). △M: +26.98MB. △T: 1.5 minutes.\n"
     ]
    },
    {
     "name": "stderr",
     "output_type": "stream",
     "text": [
      "\r",
      "loading user matrices:   0%|          | 0/1 [00:00<?, ?it/s]"
     ]
    },
    {
     "name": "stdout",
     "output_type": "stream",
     "text": [
      "AUC: 0.519550(+/-0.000934)\n"
     ]
    },
    {
     "name": "stderr",
     "output_type": "stream",
     "text": [
      "loading user matrices: 100%|██████████| 1/1 [00:22<00:00, 22.12s/it]\n",
      "loading user matrices: 100%|██████████| 1/1 [00:18<00:00, 18.51s/it]\n"
     ]
    },
    {
     "name": "stdout",
     "output_type": "stream",
     "text": [
      "[18:47:35] Finish loading 'house'. △M: +67.63MB. △T: 40.6 seconds.\n",
      "[18:48:04] Finish fitting LR (fold 1/5). △M: +128.0KB. △T: 28.6 seconds.\n",
      "[18:48:32] Finish fitting LR (fold 2/5). △M: +429.03MB. △T: 27.6 seconds.\n",
      "[18:48:58] Finish fitting LR (fold 3/5). △M: +53.7MB. △T: 25.6 seconds.\n",
      "[18:49:24] Finish fitting LR (fold 4/5). △M: -314.5MB. △T: 25.2 seconds.\n",
      "[18:49:52] Finish fitting LR (fold 5/5). △M: +0B. △T: 27.2 seconds.\n",
      "AUC: 0.508010(+/-0.00027)\n"
     ]
    }
   ],
   "source": [
    "df_stack_tv = pd.DataFrame()\n",
    "df_stack_test = pd.DataFrame()\n",
    "df_score = pd.DataFrame(columns=[\"featureName\", \"auc_mean\", \"auc_std\"])\n",
    "\n",
    "for j, user_feat_name in enumerate(user_feat_names):     \n",
    "    ### given a user feature ###\n",
    "    # load matrix as input to model\n",
    "    with pu.profiler(\"loading '{}'\".format(user_feat_name)):\n",
    "        X_tv, cols = du.quick_join(df_train, user_feat_names=[user_feat_name])\n",
    "        X_test, _ = du.quick_join(df_test, user_feat_names=[user_feat_name])\n",
    "\n",
    "    # prepare containers\n",
    "    stack_tv = np.zeros(X_tv.shape[0])\n",
    "    stack_test = np.zeros((X_test.shape[0], n_splits))\n",
    "    scores = np.zeros(n_splits)\n",
    "\n",
    "    for i, (train_index, valid_index) in enumerate(split_indices):\n",
    "        ### given a splitting ###\n",
    "        # split train/valid sets\n",
    "        X_train, y_train = X_tv[train_index], y[train_index]\n",
    "        X_valid, y_valid = X_tv[valid_index], y[valid_index]\n",
    "\n",
    "        # fit LR\n",
    "        with pu.profiler(\"fitting LR (fold {}/{})\".format(i + 1, n_splits)):\n",
    "            lr = LogisticRegression(solver=\"newton-cg\")  # use default setting: penalty='l2' and C=1\n",
    "            lr.fit(X_train, y_train)\n",
    "\n",
    "        # make prediction for validation set\n",
    "        proba_valid = lr.predict_proba(X_valid)[:, 1]\n",
    "        stack_tv[valid_index] = proba_valid\n",
    "\n",
    "        # make prediction for testing set\n",
    "        proba_test = lr.predict_proba(X_test)[:, 1]\n",
    "        stack_test[:, i] = proba_test\n",
    "\n",
    "        # calculate scores\n",
    "        auc = metrics.roc_auc_score(y_valid, proba_valid)\n",
    "        scores[i] = auc\n",
    "\n",
    "    # update dataframe for stacking\n",
    "    col_name = \"stackProba_{}\".format(user_feat_name)\n",
    "    score_row = {\"featureName\": user_feat_name, \"auc_mean\": scores.mean(), \"auc_std\": scores.std()}\n",
    "    df_stack_tv[col_name] = stack_tv\n",
    "    df_stack_test[col_name] = stack_test.mean(axis=1)\n",
    "    df_score.loc[df_score.shape[0]] = score_row\n",
    "    print(\"AUC: {:.6f}(+/-{:.3g})\".format(score_row[\"auc_mean\"], score_row[\"auc_std\"]))\n",
    "    \n",
    "    del X_tv\n",
    "    del X_test\n",
    "    gc.collect()"
   ]
  },
  {
   "cell_type": "code",
   "execution_count": 7,
   "metadata": {},
   "outputs": [
    {
     "data": {
      "text/html": [
       "<div>\n",
       "<style scoped>\n",
       "    .dataframe tbody tr th:only-of-type {\n",
       "        vertical-align: middle;\n",
       "    }\n",
       "\n",
       "    .dataframe tbody tr th {\n",
       "        vertical-align: top;\n",
       "    }\n",
       "\n",
       "    .dataframe thead th {\n",
       "        text-align: right;\n",
       "    }\n",
       "</style>\n",
       "<table border=\"1\" class=\"dataframe\">\n",
       "  <thead>\n",
       "    <tr style=\"text-align: right;\">\n",
       "      <th></th>\n",
       "      <th>stackProba_age</th>\n",
       "      <th>stackProba_gender</th>\n",
       "      <th>stackProba_marriageStatus</th>\n",
       "      <th>stackProba_education</th>\n",
       "      <th>stackProba_consumptionAbility</th>\n",
       "      <th>stackProba_LBS</th>\n",
       "      <th>stackProba_interest1</th>\n",
       "      <th>stackProba_interest2</th>\n",
       "      <th>stackProba_interest3</th>\n",
       "      <th>stackProba_interest4</th>\n",
       "      <th>...</th>\n",
       "      <th>stackProba_kw3</th>\n",
       "      <th>stackProba_topic1</th>\n",
       "      <th>stackProba_topic2</th>\n",
       "      <th>stackProba_topic3</th>\n",
       "      <th>stackProba_appIdInstall</th>\n",
       "      <th>stackProba_appIdAction</th>\n",
       "      <th>stackProba_ct</th>\n",
       "      <th>stackProba_os</th>\n",
       "      <th>stackProba_carrier</th>\n",
       "      <th>stackProba_house</th>\n",
       "    </tr>\n",
       "  </thead>\n",
       "  <tbody>\n",
       "    <tr>\n",
       "      <th>0</th>\n",
       "      <td>0.043626</td>\n",
       "      <td>0.049568</td>\n",
       "      <td>0.050510</td>\n",
       "      <td>0.051529</td>\n",
       "      <td>0.046068</td>\n",
       "      <td>0.048378</td>\n",
       "      <td>0.044500</td>\n",
       "      <td>0.035982</td>\n",
       "      <td>0.047759</td>\n",
       "      <td>0.047826</td>\n",
       "      <td>...</td>\n",
       "      <td>0.047639</td>\n",
       "      <td>0.066958</td>\n",
       "      <td>0.036644</td>\n",
       "      <td>0.047639</td>\n",
       "      <td>0.047781</td>\n",
       "      <td>0.047821</td>\n",
       "      <td>0.055624</td>\n",
       "      <td>0.055887</td>\n",
       "      <td>0.053454</td>\n",
       "      <td>0.048852</td>\n",
       "    </tr>\n",
       "    <tr>\n",
       "      <th>1</th>\n",
       "      <td>0.048879</td>\n",
       "      <td>0.044893</td>\n",
       "      <td>0.049437</td>\n",
       "      <td>0.041832</td>\n",
       "      <td>0.042099</td>\n",
       "      <td>0.042312</td>\n",
       "      <td>0.058136</td>\n",
       "      <td>0.035982</td>\n",
       "      <td>0.047759</td>\n",
       "      <td>0.047826</td>\n",
       "      <td>...</td>\n",
       "      <td>0.047639</td>\n",
       "      <td>0.048508</td>\n",
       "      <td>0.034728</td>\n",
       "      <td>0.047639</td>\n",
       "      <td>0.047781</td>\n",
       "      <td>0.047821</td>\n",
       "      <td>0.057762</td>\n",
       "      <td>0.050362</td>\n",
       "      <td>0.045917</td>\n",
       "      <td>0.048852</td>\n",
       "    </tr>\n",
       "    <tr>\n",
       "      <th>2</th>\n",
       "      <td>0.039171</td>\n",
       "      <td>0.049568</td>\n",
       "      <td>0.060539</td>\n",
       "      <td>0.051529</td>\n",
       "      <td>0.042099</td>\n",
       "      <td>0.044231</td>\n",
       "      <td>0.056604</td>\n",
       "      <td>0.035982</td>\n",
       "      <td>0.047759</td>\n",
       "      <td>0.047826</td>\n",
       "      <td>...</td>\n",
       "      <td>0.047639</td>\n",
       "      <td>0.049150</td>\n",
       "      <td>0.036644</td>\n",
       "      <td>0.047639</td>\n",
       "      <td>0.047781</td>\n",
       "      <td>0.047821</td>\n",
       "      <td>0.055624</td>\n",
       "      <td>0.055887</td>\n",
       "      <td>0.053454</td>\n",
       "      <td>0.048852</td>\n",
       "    </tr>\n",
       "    <tr>\n",
       "      <th>3</th>\n",
       "      <td>0.068508</td>\n",
       "      <td>0.049568</td>\n",
       "      <td>0.050510</td>\n",
       "      <td>0.056781</td>\n",
       "      <td>0.046068</td>\n",
       "      <td>0.049222</td>\n",
       "      <td>0.055196</td>\n",
       "      <td>0.069180</td>\n",
       "      <td>0.047759</td>\n",
       "      <td>0.047826</td>\n",
       "      <td>...</td>\n",
       "      <td>0.047639</td>\n",
       "      <td>0.059739</td>\n",
       "      <td>0.062617</td>\n",
       "      <td>0.047639</td>\n",
       "      <td>0.047781</td>\n",
       "      <td>0.047821</td>\n",
       "      <td>0.044522</td>\n",
       "      <td>0.050362</td>\n",
       "      <td>0.045917</td>\n",
       "      <td>0.043906</td>\n",
       "    </tr>\n",
       "    <tr>\n",
       "      <th>4</th>\n",
       "      <td>0.043626</td>\n",
       "      <td>0.049568</td>\n",
       "      <td>0.050510</td>\n",
       "      <td>0.041832</td>\n",
       "      <td>0.046068</td>\n",
       "      <td>0.047183</td>\n",
       "      <td>0.043690</td>\n",
       "      <td>0.025122</td>\n",
       "      <td>0.047759</td>\n",
       "      <td>0.047826</td>\n",
       "      <td>...</td>\n",
       "      <td>0.047639</td>\n",
       "      <td>0.050233</td>\n",
       "      <td>0.087254</td>\n",
       "      <td>0.047639</td>\n",
       "      <td>0.047781</td>\n",
       "      <td>0.047821</td>\n",
       "      <td>0.043807</td>\n",
       "      <td>0.050362</td>\n",
       "      <td>0.045917</td>\n",
       "      <td>0.048852</td>\n",
       "    </tr>\n",
       "    <tr>\n",
       "      <th>5</th>\n",
       "      <td>0.039171</td>\n",
       "      <td>0.049568</td>\n",
       "      <td>0.050510</td>\n",
       "      <td>0.051529</td>\n",
       "      <td>0.042099</td>\n",
       "      <td>0.049709</td>\n",
       "      <td>0.050287</td>\n",
       "      <td>0.049975</td>\n",
       "      <td>0.047759</td>\n",
       "      <td>0.047826</td>\n",
       "      <td>...</td>\n",
       "      <td>0.047639</td>\n",
       "      <td>0.053069</td>\n",
       "      <td>0.063902</td>\n",
       "      <td>0.047639</td>\n",
       "      <td>0.047781</td>\n",
       "      <td>0.047821</td>\n",
       "      <td>0.043807</td>\n",
       "      <td>0.050362</td>\n",
       "      <td>0.047285</td>\n",
       "      <td>0.048852</td>\n",
       "    </tr>\n",
       "    <tr>\n",
       "      <th>6</th>\n",
       "      <td>0.039171</td>\n",
       "      <td>0.049568</td>\n",
       "      <td>0.041525</td>\n",
       "      <td>0.051529</td>\n",
       "      <td>0.046068</td>\n",
       "      <td>0.047183</td>\n",
       "      <td>0.043198</td>\n",
       "      <td>0.056689</td>\n",
       "      <td>0.047759</td>\n",
       "      <td>0.047826</td>\n",
       "      <td>...</td>\n",
       "      <td>0.047639</td>\n",
       "      <td>0.025285</td>\n",
       "      <td>0.021495</td>\n",
       "      <td>0.047639</td>\n",
       "      <td>0.047781</td>\n",
       "      <td>0.047821</td>\n",
       "      <td>0.044522</td>\n",
       "      <td>0.050362</td>\n",
       "      <td>0.045917</td>\n",
       "      <td>0.048852</td>\n",
       "    </tr>\n",
       "    <tr>\n",
       "      <th>7</th>\n",
       "      <td>0.043626</td>\n",
       "      <td>0.049568</td>\n",
       "      <td>0.050510</td>\n",
       "      <td>0.051529</td>\n",
       "      <td>0.046068</td>\n",
       "      <td>0.045555</td>\n",
       "      <td>0.059526</td>\n",
       "      <td>0.038269</td>\n",
       "      <td>0.047759</td>\n",
       "      <td>0.047826</td>\n",
       "      <td>...</td>\n",
       "      <td>0.047639</td>\n",
       "      <td>0.035614</td>\n",
       "      <td>0.051980</td>\n",
       "      <td>0.047639</td>\n",
       "      <td>0.047781</td>\n",
       "      <td>0.047821</td>\n",
       "      <td>0.042238</td>\n",
       "      <td>0.038571</td>\n",
       "      <td>0.043453</td>\n",
       "      <td>0.048852</td>\n",
       "    </tr>\n",
       "    <tr>\n",
       "      <th>8</th>\n",
       "      <td>0.038886</td>\n",
       "      <td>0.049568</td>\n",
       "      <td>0.050510</td>\n",
       "      <td>0.041832</td>\n",
       "      <td>0.060178</td>\n",
       "      <td>0.048051</td>\n",
       "      <td>0.041389</td>\n",
       "      <td>0.040370</td>\n",
       "      <td>0.047759</td>\n",
       "      <td>0.047826</td>\n",
       "      <td>...</td>\n",
       "      <td>0.047639</td>\n",
       "      <td>0.054319</td>\n",
       "      <td>0.041487</td>\n",
       "      <td>0.047639</td>\n",
       "      <td>0.047781</td>\n",
       "      <td>0.047821</td>\n",
       "      <td>0.044522</td>\n",
       "      <td>0.050362</td>\n",
       "      <td>0.047285</td>\n",
       "      <td>0.048852</td>\n",
       "    </tr>\n",
       "    <tr>\n",
       "      <th>9</th>\n",
       "      <td>0.039171</td>\n",
       "      <td>0.049568</td>\n",
       "      <td>0.038829</td>\n",
       "      <td>0.045751</td>\n",
       "      <td>0.046068</td>\n",
       "      <td>0.052068</td>\n",
       "      <td>0.038580</td>\n",
       "      <td>0.036263</td>\n",
       "      <td>0.047759</td>\n",
       "      <td>0.047826</td>\n",
       "      <td>...</td>\n",
       "      <td>0.047639</td>\n",
       "      <td>0.040972</td>\n",
       "      <td>0.046189</td>\n",
       "      <td>0.047639</td>\n",
       "      <td>0.047781</td>\n",
       "      <td>0.047821</td>\n",
       "      <td>0.044522</td>\n",
       "      <td>0.050362</td>\n",
       "      <td>0.045917</td>\n",
       "      <td>0.043906</td>\n",
       "    </tr>\n",
       "  </tbody>\n",
       "</table>\n",
       "<p>10 rows × 23 columns</p>\n",
       "</div>"
      ],
      "text/plain": [
       "   stackProba_age  stackProba_gender  stackProba_marriageStatus  \\\n",
       "0        0.043626           0.049568                   0.050510   \n",
       "1        0.048879           0.044893                   0.049437   \n",
       "2        0.039171           0.049568                   0.060539   \n",
       "3        0.068508           0.049568                   0.050510   \n",
       "4        0.043626           0.049568                   0.050510   \n",
       "5        0.039171           0.049568                   0.050510   \n",
       "6        0.039171           0.049568                   0.041525   \n",
       "7        0.043626           0.049568                   0.050510   \n",
       "8        0.038886           0.049568                   0.050510   \n",
       "9        0.039171           0.049568                   0.038829   \n",
       "\n",
       "   stackProba_education  stackProba_consumptionAbility  stackProba_LBS  \\\n",
       "0              0.051529                       0.046068        0.048378   \n",
       "1              0.041832                       0.042099        0.042312   \n",
       "2              0.051529                       0.042099        0.044231   \n",
       "3              0.056781                       0.046068        0.049222   \n",
       "4              0.041832                       0.046068        0.047183   \n",
       "5              0.051529                       0.042099        0.049709   \n",
       "6              0.051529                       0.046068        0.047183   \n",
       "7              0.051529                       0.046068        0.045555   \n",
       "8              0.041832                       0.060178        0.048051   \n",
       "9              0.045751                       0.046068        0.052068   \n",
       "\n",
       "   stackProba_interest1  stackProba_interest2  stackProba_interest3  \\\n",
       "0              0.044500              0.035982              0.047759   \n",
       "1              0.058136              0.035982              0.047759   \n",
       "2              0.056604              0.035982              0.047759   \n",
       "3              0.055196              0.069180              0.047759   \n",
       "4              0.043690              0.025122              0.047759   \n",
       "5              0.050287              0.049975              0.047759   \n",
       "6              0.043198              0.056689              0.047759   \n",
       "7              0.059526              0.038269              0.047759   \n",
       "8              0.041389              0.040370              0.047759   \n",
       "9              0.038580              0.036263              0.047759   \n",
       "\n",
       "   stackProba_interest4        ...         stackProba_kw3  stackProba_topic1  \\\n",
       "0              0.047826        ...               0.047639           0.066958   \n",
       "1              0.047826        ...               0.047639           0.048508   \n",
       "2              0.047826        ...               0.047639           0.049150   \n",
       "3              0.047826        ...               0.047639           0.059739   \n",
       "4              0.047826        ...               0.047639           0.050233   \n",
       "5              0.047826        ...               0.047639           0.053069   \n",
       "6              0.047826        ...               0.047639           0.025285   \n",
       "7              0.047826        ...               0.047639           0.035614   \n",
       "8              0.047826        ...               0.047639           0.054319   \n",
       "9              0.047826        ...               0.047639           0.040972   \n",
       "\n",
       "   stackProba_topic2  stackProba_topic3  stackProba_appIdInstall  \\\n",
       "0           0.036644           0.047639                 0.047781   \n",
       "1           0.034728           0.047639                 0.047781   \n",
       "2           0.036644           0.047639                 0.047781   \n",
       "3           0.062617           0.047639                 0.047781   \n",
       "4           0.087254           0.047639                 0.047781   \n",
       "5           0.063902           0.047639                 0.047781   \n",
       "6           0.021495           0.047639                 0.047781   \n",
       "7           0.051980           0.047639                 0.047781   \n",
       "8           0.041487           0.047639                 0.047781   \n",
       "9           0.046189           0.047639                 0.047781   \n",
       "\n",
       "   stackProba_appIdAction  stackProba_ct  stackProba_os  stackProba_carrier  \\\n",
       "0                0.047821       0.055624       0.055887            0.053454   \n",
       "1                0.047821       0.057762       0.050362            0.045917   \n",
       "2                0.047821       0.055624       0.055887            0.053454   \n",
       "3                0.047821       0.044522       0.050362            0.045917   \n",
       "4                0.047821       0.043807       0.050362            0.045917   \n",
       "5                0.047821       0.043807       0.050362            0.047285   \n",
       "6                0.047821       0.044522       0.050362            0.045917   \n",
       "7                0.047821       0.042238       0.038571            0.043453   \n",
       "8                0.047821       0.044522       0.050362            0.047285   \n",
       "9                0.047821       0.044522       0.050362            0.045917   \n",
       "\n",
       "   stackProba_house  \n",
       "0          0.048852  \n",
       "1          0.048852  \n",
       "2          0.048852  \n",
       "3          0.043906  \n",
       "4          0.048852  \n",
       "5          0.048852  \n",
       "6          0.048852  \n",
       "7          0.048852  \n",
       "8          0.048852  \n",
       "9          0.043906  \n",
       "\n",
       "[10 rows x 23 columns]"
      ]
     },
     "execution_count": 7,
     "metadata": {},
     "output_type": "execute_result"
    }
   ],
   "source": [
    "df_stack_tv.head(10)"
   ]
  },
  {
   "cell_type": "code",
   "execution_count": 8,
   "metadata": {},
   "outputs": [
    {
     "data": {
      "text/html": [
       "<div>\n",
       "<style scoped>\n",
       "    .dataframe tbody tr th:only-of-type {\n",
       "        vertical-align: middle;\n",
       "    }\n",
       "\n",
       "    .dataframe tbody tr th {\n",
       "        vertical-align: top;\n",
       "    }\n",
       "\n",
       "    .dataframe thead th {\n",
       "        text-align: right;\n",
       "    }\n",
       "</style>\n",
       "<table border=\"1\" class=\"dataframe\">\n",
       "  <thead>\n",
       "    <tr style=\"text-align: right;\">\n",
       "      <th></th>\n",
       "      <th>stackProba_age</th>\n",
       "      <th>stackProba_gender</th>\n",
       "      <th>stackProba_marriageStatus</th>\n",
       "      <th>stackProba_education</th>\n",
       "      <th>stackProba_consumptionAbility</th>\n",
       "      <th>stackProba_LBS</th>\n",
       "      <th>stackProba_interest1</th>\n",
       "      <th>stackProba_interest2</th>\n",
       "      <th>stackProba_interest3</th>\n",
       "      <th>stackProba_interest4</th>\n",
       "      <th>...</th>\n",
       "      <th>stackProba_kw3</th>\n",
       "      <th>stackProba_topic1</th>\n",
       "      <th>stackProba_topic2</th>\n",
       "      <th>stackProba_topic3</th>\n",
       "      <th>stackProba_appIdInstall</th>\n",
       "      <th>stackProba_appIdAction</th>\n",
       "      <th>stackProba_ct</th>\n",
       "      <th>stackProba_os</th>\n",
       "      <th>stackProba_carrier</th>\n",
       "      <th>stackProba_house</th>\n",
       "    </tr>\n",
       "  </thead>\n",
       "  <tbody>\n",
       "    <tr>\n",
       "      <th>0</th>\n",
       "      <td>0.043549</td>\n",
       "      <td>0.049550</td>\n",
       "      <td>0.060526</td>\n",
       "      <td>0.045749</td>\n",
       "      <td>0.060227</td>\n",
       "      <td>0.044722</td>\n",
       "      <td>0.040039</td>\n",
       "      <td>0.053811</td>\n",
       "      <td>0.04775</td>\n",
       "      <td>0.047816</td>\n",
       "      <td>...</td>\n",
       "      <td>0.047631</td>\n",
       "      <td>0.057269</td>\n",
       "      <td>0.100503</td>\n",
       "      <td>0.047632</td>\n",
       "      <td>0.047775</td>\n",
       "      <td>0.047813</td>\n",
       "      <td>0.043568</td>\n",
       "      <td>0.050373</td>\n",
       "      <td>0.045872</td>\n",
       "      <td>0.048849</td>\n",
       "    </tr>\n",
       "    <tr>\n",
       "      <th>1</th>\n",
       "      <td>0.043549</td>\n",
       "      <td>0.049550</td>\n",
       "      <td>0.050499</td>\n",
       "      <td>0.056876</td>\n",
       "      <td>0.042137</td>\n",
       "      <td>0.051015</td>\n",
       "      <td>0.053069</td>\n",
       "      <td>0.036028</td>\n",
       "      <td>0.04775</td>\n",
       "      <td>0.047816</td>\n",
       "      <td>...</td>\n",
       "      <td>0.047631</td>\n",
       "      <td>0.076950</td>\n",
       "      <td>0.026675</td>\n",
       "      <td>0.047632</td>\n",
       "      <td>0.047775</td>\n",
       "      <td>0.047813</td>\n",
       "      <td>0.055520</td>\n",
       "      <td>0.055777</td>\n",
       "      <td>0.053415</td>\n",
       "      <td>0.048849</td>\n",
       "    </tr>\n",
       "    <tr>\n",
       "      <th>2</th>\n",
       "      <td>0.068580</td>\n",
       "      <td>0.049550</td>\n",
       "      <td>0.050181</td>\n",
       "      <td>0.048390</td>\n",
       "      <td>0.042137</td>\n",
       "      <td>0.050936</td>\n",
       "      <td>0.054178</td>\n",
       "      <td>0.036028</td>\n",
       "      <td>0.04775</td>\n",
       "      <td>0.047816</td>\n",
       "      <td>...</td>\n",
       "      <td>0.047631</td>\n",
       "      <td>0.054069</td>\n",
       "      <td>0.036771</td>\n",
       "      <td>0.047632</td>\n",
       "      <td>0.047775</td>\n",
       "      <td>0.047813</td>\n",
       "      <td>0.055520</td>\n",
       "      <td>0.055777</td>\n",
       "      <td>0.053415</td>\n",
       "      <td>0.048849</td>\n",
       "    </tr>\n",
       "    <tr>\n",
       "      <th>3</th>\n",
       "      <td>0.039088</td>\n",
       "      <td>0.049550</td>\n",
       "      <td>0.041540</td>\n",
       "      <td>0.041729</td>\n",
       "      <td>0.046042</td>\n",
       "      <td>0.053905</td>\n",
       "      <td>0.033694</td>\n",
       "      <td>0.065375</td>\n",
       "      <td>0.04775</td>\n",
       "      <td>0.047816</td>\n",
       "      <td>...</td>\n",
       "      <td>0.047631</td>\n",
       "      <td>0.036667</td>\n",
       "      <td>0.056069</td>\n",
       "      <td>0.047632</td>\n",
       "      <td>0.047775</td>\n",
       "      <td>0.047813</td>\n",
       "      <td>0.044512</td>\n",
       "      <td>0.038592</td>\n",
       "      <td>0.045872</td>\n",
       "      <td>0.043913</td>\n",
       "    </tr>\n",
       "    <tr>\n",
       "      <th>4</th>\n",
       "      <td>0.043549</td>\n",
       "      <td>0.044932</td>\n",
       "      <td>0.060526</td>\n",
       "      <td>0.056876</td>\n",
       "      <td>0.046042</td>\n",
       "      <td>0.051015</td>\n",
       "      <td>0.059178</td>\n",
       "      <td>0.152019</td>\n",
       "      <td>0.04775</td>\n",
       "      <td>0.047816</td>\n",
       "      <td>...</td>\n",
       "      <td>0.047631</td>\n",
       "      <td>0.064597</td>\n",
       "      <td>0.204996</td>\n",
       "      <td>0.047632</td>\n",
       "      <td>0.047775</td>\n",
       "      <td>0.047813</td>\n",
       "      <td>0.044512</td>\n",
       "      <td>0.050373</td>\n",
       "      <td>0.053415</td>\n",
       "      <td>0.048849</td>\n",
       "    </tr>\n",
       "    <tr>\n",
       "      <th>5</th>\n",
       "      <td>0.038887</td>\n",
       "      <td>0.049550</td>\n",
       "      <td>0.050499</td>\n",
       "      <td>0.041729</td>\n",
       "      <td>0.046042</td>\n",
       "      <td>0.042522</td>\n",
       "      <td>0.045434</td>\n",
       "      <td>0.036365</td>\n",
       "      <td>0.04775</td>\n",
       "      <td>0.047816</td>\n",
       "      <td>...</td>\n",
       "      <td>0.047631</td>\n",
       "      <td>0.041631</td>\n",
       "      <td>0.035532</td>\n",
       "      <td>0.047632</td>\n",
       "      <td>0.047775</td>\n",
       "      <td>0.047813</td>\n",
       "      <td>0.044512</td>\n",
       "      <td>0.050373</td>\n",
       "      <td>0.047415</td>\n",
       "      <td>0.043913</td>\n",
       "    </tr>\n",
       "    <tr>\n",
       "      <th>6</th>\n",
       "      <td>0.068580</td>\n",
       "      <td>0.044932</td>\n",
       "      <td>0.050499</td>\n",
       "      <td>0.045749</td>\n",
       "      <td>0.046042</td>\n",
       "      <td>0.055481</td>\n",
       "      <td>0.057569</td>\n",
       "      <td>0.036028</td>\n",
       "      <td>0.04775</td>\n",
       "      <td>0.047816</td>\n",
       "      <td>...</td>\n",
       "      <td>0.047631</td>\n",
       "      <td>0.053540</td>\n",
       "      <td>0.011830</td>\n",
       "      <td>0.047632</td>\n",
       "      <td>0.047775</td>\n",
       "      <td>0.047813</td>\n",
       "      <td>0.044512</td>\n",
       "      <td>0.038592</td>\n",
       "      <td>0.045872</td>\n",
       "      <td>0.048849</td>\n",
       "    </tr>\n",
       "    <tr>\n",
       "      <th>7</th>\n",
       "      <td>0.038887</td>\n",
       "      <td>0.049550</td>\n",
       "      <td>0.050499</td>\n",
       "      <td>0.041729</td>\n",
       "      <td>0.042137</td>\n",
       "      <td>0.049601</td>\n",
       "      <td>0.054178</td>\n",
       "      <td>0.036028</td>\n",
       "      <td>0.04775</td>\n",
       "      <td>0.047816</td>\n",
       "      <td>...</td>\n",
       "      <td>0.047631</td>\n",
       "      <td>0.054069</td>\n",
       "      <td>0.029502</td>\n",
       "      <td>0.047632</td>\n",
       "      <td>0.047775</td>\n",
       "      <td>0.047813</td>\n",
       "      <td>0.055520</td>\n",
       "      <td>0.055777</td>\n",
       "      <td>0.045872</td>\n",
       "      <td>0.048849</td>\n",
       "    </tr>\n",
       "    <tr>\n",
       "      <th>8</th>\n",
       "      <td>0.038887</td>\n",
       "      <td>0.044932</td>\n",
       "      <td>0.037101</td>\n",
       "      <td>0.041729</td>\n",
       "      <td>0.042137</td>\n",
       "      <td>0.049162</td>\n",
       "      <td>0.043642</td>\n",
       "      <td>0.036028</td>\n",
       "      <td>0.04775</td>\n",
       "      <td>0.047816</td>\n",
       "      <td>...</td>\n",
       "      <td>0.047631</td>\n",
       "      <td>0.038126</td>\n",
       "      <td>0.089958</td>\n",
       "      <td>0.047632</td>\n",
       "      <td>0.047775</td>\n",
       "      <td>0.047813</td>\n",
       "      <td>0.055520</td>\n",
       "      <td>0.055777</td>\n",
       "      <td>0.047415</td>\n",
       "      <td>0.048849</td>\n",
       "    </tr>\n",
       "    <tr>\n",
       "      <th>9</th>\n",
       "      <td>0.038887</td>\n",
       "      <td>0.049550</td>\n",
       "      <td>0.050499</td>\n",
       "      <td>0.056876</td>\n",
       "      <td>0.046042</td>\n",
       "      <td>0.043079</td>\n",
       "      <td>0.055701</td>\n",
       "      <td>0.052281</td>\n",
       "      <td>0.04775</td>\n",
       "      <td>0.047816</td>\n",
       "      <td>...</td>\n",
       "      <td>0.047631</td>\n",
       "      <td>0.047661</td>\n",
       "      <td>0.037075</td>\n",
       "      <td>0.047632</td>\n",
       "      <td>0.047775</td>\n",
       "      <td>0.047813</td>\n",
       "      <td>0.042416</td>\n",
       "      <td>0.050373</td>\n",
       "      <td>0.053415</td>\n",
       "      <td>0.048849</td>\n",
       "    </tr>\n",
       "  </tbody>\n",
       "</table>\n",
       "<p>10 rows × 23 columns</p>\n",
       "</div>"
      ],
      "text/plain": [
       "   stackProba_age  stackProba_gender  stackProba_marriageStatus  \\\n",
       "0        0.043549           0.049550                   0.060526   \n",
       "1        0.043549           0.049550                   0.050499   \n",
       "2        0.068580           0.049550                   0.050181   \n",
       "3        0.039088           0.049550                   0.041540   \n",
       "4        0.043549           0.044932                   0.060526   \n",
       "5        0.038887           0.049550                   0.050499   \n",
       "6        0.068580           0.044932                   0.050499   \n",
       "7        0.038887           0.049550                   0.050499   \n",
       "8        0.038887           0.044932                   0.037101   \n",
       "9        0.038887           0.049550                   0.050499   \n",
       "\n",
       "   stackProba_education  stackProba_consumptionAbility  stackProba_LBS  \\\n",
       "0              0.045749                       0.060227        0.044722   \n",
       "1              0.056876                       0.042137        0.051015   \n",
       "2              0.048390                       0.042137        0.050936   \n",
       "3              0.041729                       0.046042        0.053905   \n",
       "4              0.056876                       0.046042        0.051015   \n",
       "5              0.041729                       0.046042        0.042522   \n",
       "6              0.045749                       0.046042        0.055481   \n",
       "7              0.041729                       0.042137        0.049601   \n",
       "8              0.041729                       0.042137        0.049162   \n",
       "9              0.056876                       0.046042        0.043079   \n",
       "\n",
       "   stackProba_interest1  stackProba_interest2  stackProba_interest3  \\\n",
       "0              0.040039              0.053811               0.04775   \n",
       "1              0.053069              0.036028               0.04775   \n",
       "2              0.054178              0.036028               0.04775   \n",
       "3              0.033694              0.065375               0.04775   \n",
       "4              0.059178              0.152019               0.04775   \n",
       "5              0.045434              0.036365               0.04775   \n",
       "6              0.057569              0.036028               0.04775   \n",
       "7              0.054178              0.036028               0.04775   \n",
       "8              0.043642              0.036028               0.04775   \n",
       "9              0.055701              0.052281               0.04775   \n",
       "\n",
       "   stackProba_interest4        ...         stackProba_kw3  stackProba_topic1  \\\n",
       "0              0.047816        ...               0.047631           0.057269   \n",
       "1              0.047816        ...               0.047631           0.076950   \n",
       "2              0.047816        ...               0.047631           0.054069   \n",
       "3              0.047816        ...               0.047631           0.036667   \n",
       "4              0.047816        ...               0.047631           0.064597   \n",
       "5              0.047816        ...               0.047631           0.041631   \n",
       "6              0.047816        ...               0.047631           0.053540   \n",
       "7              0.047816        ...               0.047631           0.054069   \n",
       "8              0.047816        ...               0.047631           0.038126   \n",
       "9              0.047816        ...               0.047631           0.047661   \n",
       "\n",
       "   stackProba_topic2  stackProba_topic3  stackProba_appIdInstall  \\\n",
       "0           0.100503           0.047632                 0.047775   \n",
       "1           0.026675           0.047632                 0.047775   \n",
       "2           0.036771           0.047632                 0.047775   \n",
       "3           0.056069           0.047632                 0.047775   \n",
       "4           0.204996           0.047632                 0.047775   \n",
       "5           0.035532           0.047632                 0.047775   \n",
       "6           0.011830           0.047632                 0.047775   \n",
       "7           0.029502           0.047632                 0.047775   \n",
       "8           0.089958           0.047632                 0.047775   \n",
       "9           0.037075           0.047632                 0.047775   \n",
       "\n",
       "   stackProba_appIdAction  stackProba_ct  stackProba_os  stackProba_carrier  \\\n",
       "0                0.047813       0.043568       0.050373            0.045872   \n",
       "1                0.047813       0.055520       0.055777            0.053415   \n",
       "2                0.047813       0.055520       0.055777            0.053415   \n",
       "3                0.047813       0.044512       0.038592            0.045872   \n",
       "4                0.047813       0.044512       0.050373            0.053415   \n",
       "5                0.047813       0.044512       0.050373            0.047415   \n",
       "6                0.047813       0.044512       0.038592            0.045872   \n",
       "7                0.047813       0.055520       0.055777            0.045872   \n",
       "8                0.047813       0.055520       0.055777            0.047415   \n",
       "9                0.047813       0.042416       0.050373            0.053415   \n",
       "\n",
       "   stackProba_house  \n",
       "0          0.048849  \n",
       "1          0.048849  \n",
       "2          0.048849  \n",
       "3          0.043913  \n",
       "4          0.048849  \n",
       "5          0.043913  \n",
       "6          0.048849  \n",
       "7          0.048849  \n",
       "8          0.048849  \n",
       "9          0.048849  \n",
       "\n",
       "[10 rows x 23 columns]"
      ]
     },
     "execution_count": 8,
     "metadata": {},
     "output_type": "execute_result"
    }
   ],
   "source": [
    "df_stack_test.head(10)"
   ]
  },
  {
   "cell_type": "code",
   "execution_count": 9,
   "metadata": {},
   "outputs": [
    {
     "name": "stdout",
     "output_type": "stream",
     "text": [
      "Training Set Prediction Shape: (8798814, 23)\n",
      "Testing Set Prediction Shape: (2265989, 23)\n"
     ]
    }
   ],
   "source": [
    "print(\"Training Set Prediction Shape: {}\".format(df_stack_tv.shape))\n",
    "print(\"Testing Set Prediction Shape: {}\".format(df_stack_test.shape))"
   ]
  },
  {
   "cell_type": "code",
   "execution_count": 10,
   "metadata": {},
   "outputs": [
    {
     "data": {
      "text/html": [
       "<div>\n",
       "<style scoped>\n",
       "    .dataframe tbody tr th:only-of-type {\n",
       "        vertical-align: middle;\n",
       "    }\n",
       "\n",
       "    .dataframe tbody tr th {\n",
       "        vertical-align: top;\n",
       "    }\n",
       "\n",
       "    .dataframe thead th {\n",
       "        text-align: right;\n",
       "    }\n",
       "</style>\n",
       "<table border=\"1\" class=\"dataframe\">\n",
       "  <thead>\n",
       "    <tr style=\"text-align: right;\">\n",
       "      <th></th>\n",
       "      <th>auc_mean</th>\n",
       "      <th>auc_std</th>\n",
       "    </tr>\n",
       "  </thead>\n",
       "  <tbody>\n",
       "    <tr>\n",
       "      <th>0</th>\n",
       "      <td>0.563780</td>\n",
       "      <td>0.000803</td>\n",
       "    </tr>\n",
       "    <tr>\n",
       "      <th>1</th>\n",
       "      <td>0.511453</td>\n",
       "      <td>0.000546</td>\n",
       "    </tr>\n",
       "    <tr>\n",
       "      <th>2</th>\n",
       "      <td>0.539667</td>\n",
       "      <td>0.000960</td>\n",
       "    </tr>\n",
       "    <tr>\n",
       "      <th>3</th>\n",
       "      <td>0.539272</td>\n",
       "      <td>0.000975</td>\n",
       "    </tr>\n",
       "    <tr>\n",
       "      <th>4</th>\n",
       "      <td>0.531474</td>\n",
       "      <td>0.000534</td>\n",
       "    </tr>\n",
       "  </tbody>\n",
       "</table>\n",
       "</div>"
      ],
      "text/plain": [
       "   auc_mean   auc_std\n",
       "0  0.563780  0.000803\n",
       "1  0.511453  0.000546\n",
       "2  0.539667  0.000960\n",
       "3  0.539272  0.000975\n",
       "4  0.531474  0.000534"
      ]
     },
     "execution_count": 10,
     "metadata": {},
     "output_type": "execute_result"
    }
   ],
   "source": [
    "df_score.head(5)"
   ]
  },
  {
   "cell_type": "code",
   "execution_count": 12,
   "metadata": {},
   "outputs": [],
   "source": [
    "assert os.path.exists(config.DATA_DIR)\n",
    "out_folder = os.path.join(config.DATA_DIR, 'stacking/lr')\n",
    "os.makedirs(out_folder, exist_ok=True)\n",
    "\n",
    "# remember to format float number or you will find these really hard-disk consumptive\n",
    "# save prediction for training set\n",
    "out_file = 'train.singleUserFeature.csv'\n",
    "out_path = os.path.join(out_folder, out_file)\n",
    "df_stack_tv.to_csv(out_path, float_format=\"%.6f\", index=False)\n",
    "\n",
    "# save prediction for testing set\n",
    "out_file = 'test.singleUserFeature.csv'\n",
    "out_path = os.path.join(out_folder, out_file)\n",
    "df_stack_test.to_csv(out_path, float_format=\"%.6f\", index=False)"
   ]
  },
  {
   "cell_type": "code",
   "execution_count": 13,
   "metadata": {},
   "outputs": [],
   "source": [
    "# save score information\n",
    "out_file = 'score.singleUserFeature.csv'\n",
    "out_path = os.path.join(out_folder, out_file)\n",
    "df_score['featureName'] = user_feat_names\n",
    "df_score = df_score[[\"featureName\", \"auc_mean\", \"auc_std\"]]\n",
    "df_score.to_csv(out_path, float_format=\"%.6f\", index=False)"
   ]
  },
  {
   "cell_type": "code",
   "execution_count": 16,
   "metadata": {},
   "outputs": [
    {
     "name": "stdout",
     "output_type": "stream",
     "text": [
      "[05:01:51] Finish getting matrix represenation. △M: +234.96MB. △T: 0.6 seconds.\n",
      "[05:01:52] Finish saving matrix to hard disk. △M: -234.95MB. △T: 0.7 seconds.\n"
     ]
    }
   ],
   "source": [
    "use_feats = ['age', 'interest1', 'interest2', 'interest5', 'kw1', 'kw2', 'topic2']\n",
    "use_cols = ['stackProba_{}'.format(feat_name) for feat_name in use_feats]\n",
    "\n",
    "out_folder = config.INPUT_DIR\n",
    "out_file = \"train.stacking.lrSingleFeature_v1.pkl\"\n",
    "out_path = os.path.join(out_folder, out_file)\n",
    "os.makedirs(out_folder, exist_ok=True)\n",
    "\n",
    "with pu.profiler(\"getting matrix represenation\"):\n",
    "    X_train = df_stack_tv[use_cols].values.astype(np.float32)\n",
    "    assert X_train.shape[0] == df_train.shape[0]\n",
    "    assert X_train.shape[1] == len(use_feats)\n",
    "\n",
    "with pu.profiler(\"saving matrix to hard disk\"):\n",
    "    col_names = ['stackProba_LR_{}'.format(feat_name) for feat_name in use_feats]\n",
    "    du.save_pickle((col_names, X_train), out_path)\n",
    "    del X_train\n",
    "    gc.collect()"
   ]
  },
  {
   "cell_type": "code",
   "execution_count": 19,
   "metadata": {},
   "outputs": [
    {
     "name": "stdout",
     "output_type": "stream",
     "text": [
      "[05:03:18] Finish getting matrix represenation. △M: +397.63MB. △T: 0.7 seconds.\n",
      "[05:03:18] Finish saving matrix to hard disk. △M: +0B. △T: 0.1 seconds.\n"
     ]
    }
   ],
   "source": [
    "out_file = \"test1.stacking.lrSingleFeature_v1.pkl\"\n",
    "out_path = os.path.join(out_folder, out_file)\n",
    "\n",
    "with pu.profiler(\"getting matrix represenation\"):\n",
    "    X_test = df_stack_test[use_cols].values.astype(np.float32)\n",
    "    assert X_test.shape[0] == df_test.shape[0]\n",
    "    assert X_test.shape[1] == len(use_feats)\n",
    "\n",
    "with pu.profiler(\"saving matrix to hard disk\"):\n",
    "    # col_names = ['stackProba_LR_{}'.format(feat_name) for feat_name in use_feats]\n",
    "    du.save_pickle((col_names, X_test), out_path)\n",
    "    del X_test\n",
    "    gc.collect()"
   ]
  },
  {
   "cell_type": "code",
   "execution_count": null,
   "metadata": {},
   "outputs": [],
   "source": []
  }
 ],
 "metadata": {
  "kernelspec": {
   "display_name": "Python 3",
   "language": "python",
   "name": "python3"
  },
  "language_info": {
   "codemirror_mode": {
    "name": "ipython",
    "version": 3
   },
   "file_extension": ".py",
   "mimetype": "text/x-python",
   "name": "python",
   "nbconvert_exporter": "python",
   "pygments_lexer": "ipython3",
   "version": "3.5.2"
  }
 },
 "nbformat": 4,
 "nbformat_minor": 2
}
