{
 "cells": [
  {
   "cell_type": "code",
   "execution_count": 1,
   "metadata": {},
   "outputs": [],
   "source": [
    "import pandas as pd\n",
    "import numpy as np\n",
    "import pickle\n",
    "import time\n",
    "import os\n",
    "from scipy.sparse import hstack\n",
    "from fastFM import sgd\n",
    "from sklearn import metrics"
   ]
  },
  {
   "cell_type": "code",
   "execution_count": 2,
   "metadata": {},
   "outputs": [],
   "source": [
    "data_dir = '../data/raw/preliminary_contest_data/'\n",
    "ad_cnt_dir = '../data/nlp_count/preliminary_contest_data/byAdFeatureName/'\n",
    "user_cnt_dir = '../data/nlp_count/preliminary_contest_data/byUserFeatureName/'\n",
    "user_tfidf_dir = '../data/nlp_tfidf/preliminary_contest_data/byUserFeatureName/'"
   ]
  },
  {
   "cell_type": "code",
   "execution_count": 3,
   "metadata": {},
   "outputs": [],
   "source": [
    "def load(filename, **kw):\n",
    "    return pd.read_csv(os.path.join(data_dir, filename), **kw)"
   ]
  },
  {
   "cell_type": "code",
   "execution_count": 4,
   "metadata": {},
   "outputs": [],
   "source": [
    "def load_pickle(filepath):\n",
    "    obj = None\n",
    "    with open(filepath, \"rb\") as f:\n",
    "        obj = pickle.load(f)\n",
    "    return obj"
   ]
  },
  {
   "cell_type": "code",
   "execution_count": 5,
   "metadata": {},
   "outputs": [],
   "source": [
    "def load_ad_cnt(feat_name):\n",
    "    filename = \"adFeature.[featureName='{}'].pkl\".format(feat_name)\n",
    "    filepath = os.path.join(ad_cnt_dir, filename)\n",
    "    index, matrix = load_pickle(filepath)\n",
    "    \n",
    "    filename = \"aid.pkl\".format(feat_name)\n",
    "    filepath = os.path.join(ad_cnt_dir, filename)\n",
    "    uid = load_pickle(filepath)\n",
    "    \n",
    "    return uid, (index, matrix)"
   ]
  },
  {
   "cell_type": "code",
   "execution_count": 6,
   "metadata": {},
   "outputs": [],
   "source": [
    "def load_user_cnt(feat_name):\n",
    "    filename = \"userFeature.[featureName='{}'].pkl\".format(feat_name)\n",
    "    filepath = os.path.join(user_cnt_dir, filename)\n",
    "    index, matrix = load_pickle(filepath)\n",
    "    \n",
    "    filename = \"uid.pkl\".format(feat_name)\n",
    "    filepath = os.path.join(user_cnt_dir, filename)\n",
    "    uid = load_pickle(filepath)\n",
    "    \n",
    "    return uid, (index, matrix)"
   ]
  },
  {
   "cell_type": "code",
   "execution_count": 7,
   "metadata": {},
   "outputs": [],
   "source": [
    "def load_user_tfidf(feat_name):\n",
    "    filename = \"userFeature.[featureName='{}'].pkl\".format(feat_name)\n",
    "    filepath = os.path.join(user_tfidf_dir, filename)\n",
    "    index, idf, matrix = load_pickle(filepath)\n",
    "    \n",
    "    filename = \"uid.pkl\".format(feat_name)\n",
    "    filepath = os.path.join(user_tfidf_dir, filename)\n",
    "    uid = load_pickle(filepath)\n",
    "    \n",
    "    return uid, (index, idf, matrix)"
   ]
  },
  {
   "cell_type": "code",
   "execution_count": 8,
   "metadata": {},
   "outputs": [],
   "source": [
    "def get_time_str():\n",
    "    return time.strftime(\"%H:%M:%S\", time.gmtime())"
   ]
  },
  {
   "cell_type": "code",
   "execution_count": 9,
   "metadata": {},
   "outputs": [
    {
     "name": "stdout",
     "output_type": "stream",
     "text": [
      "age                 : min: 1 max:  1 nunique:     6 values: [[1 1 1 ... 1 1 1]]\n",
      "gender              : min: 1 max:  1 nunique:     3 values: [[1 1 1 ... 1 1 1]]\n",
      "marriageStatus      : min: 1 max:  3 nunique:    13 values: [[1 2 2 ... 1 2 2]]\n",
      "education           : min: 1 max:  1 nunique:     8 values: [[1 1 1 ... 1 1 1]]\n",
      "consumptionAbility  : min: 1 max:  1 nunique:     3 values: [[1 1 1 ... 1 1 1]]\n",
      "LBS                 : min: 1 max:  1 nunique:   856 values: [[1 1 1 ... 1 1 1]]\n",
      "interest1           : min: 1 max: 38 nunique:   123 values: [[31  2 15 ...  2 24 12]]\n",
      "interest2           : min: 1 max: 32 nunique:    81 values: [[ 4  1 10 ...  1  3  1]]\n",
      "interest3           : min: 1 max: 10 nunique:    11 values: [[1 1 1 ... 1 1 1]]\n",
      "interest4           : min: 1 max: 10 nunique:    11 values: [[1 1 1 ... 1 1 1]]\n",
      "interest5           : min: 1 max: 86 nunique:   137 values: [[23  1 36 ...  1 33  1]]\n",
      "kw1                 : min: 1 max:  5 nunique:259909 values: [[5 5 5 ... 3 5 5]]\n",
      "kw2                 : min: 1 max:  5 nunique: 49197 values: [[5 5 5 ... 5 5 1]]\n",
      "kw3                 : min: 1 max:  5 nunique: 11922 values: [[1 1 1 ... 5 1 1]]\n",
      "topic1              : min: 1 max:  5 nunique: 10001 values: [[5 5 5 ... 5 5 5]]\n",
      "topic2              : min: 1 max:  5 nunique:  9980 values: [[5 5 5 ... 5 5 5]]\n",
      "topic3              : min: 1 max:  5 nunique:  5873 values: [[1 1 1 ... 5 1 1]]\n",
      "appIdInstall        : min: 1 max:920 nunique: 64856 values: [[1 1 1 ... 1 1 1]]\n",
      "appIdAction         : min: 1 max:537 nunique:  6215 values: [[1 1 1 ... 1 1 1]]\n",
      "ct                  : min: 1 max:  4 nunique:     5 values: [[2 2 2 ... 1 2 2]]\n",
      "os                  : min: 1 max:  2 nunique:     3 values: [[1 1 1 ... 1 1 1]]\n",
      "carrier             : min: 1 max:  1 nunique:     4 values: [[1 1 1 ... 1 1 1]]\n",
      "house               : min: 1 max:  1 nunique:     2 values: [[1 1 1 ... 1 1 1]]\n"
     ]
    }
   ],
   "source": [
    "feat_names = [\"age\", \"gender\", \"marriageStatus\", \"education\", \"consumptionAbility\", \"LBS\",\n",
    "              \"interest1\", \"interest2\", \"interest3\", \"interest4\", \"interest5\",\n",
    "              \"kw1\", \"kw2\", \"kw3\", \"topic1\", \"topic2\", \"topic3\", \"appIdInstall\",\n",
    "              \"appIdAction\", \"ct\", \"os\", \"carrier\", \"house\"]\n",
    "\n",
    "for feat_name in feat_names:\n",
    "    uid, (ufeat_index, uvec) = load_user_cnt(feat_name)\n",
    "    uvec_sum = uvec.sum(axis=1).flatten()\n",
    "    print(\"{:<20}: min:{:>2} max:{:>3} nunique:{:>6} values: {}\".format(feat_name, uvec_sum.min(), uvec_sum.max(), uvec.shape[1], uvec_sum))"
   ]
  },
  {
   "cell_type": "code",
   "execution_count": 10,
   "metadata": {},
   "outputs": [],
   "source": [
    "one_feat_names = ['age', 'gender', 'education', 'consumptionAbility', 'LBS',\n",
    "                  'carrier', 'house']  # one user has only one value\n",
    "multi_feat_names = ['marriageStatus', 'interest1', 'interest2', 'interest3',\n",
    "                   'interest4', 'interest5', 'kw1', 'kw2', 'kw3', 'topic1',\n",
    "                   'topic2', 'topic3', 'appIdInstall', 'appIdAction', 'ct', 'os']  # one user can have more than one value"
   ]
  },
  {
   "cell_type": "code",
   "execution_count": 12,
   "metadata": {},
   "outputs": [],
   "source": [
    "assert len(one_feat_names) + len(multi_feat_names) == len(feat_names)"
   ]
  },
  {
   "cell_type": "code",
   "execution_count": null,
   "metadata": {},
   "outputs": [],
   "source": []
  }
 ],
 "metadata": {
  "kernelspec": {
   "display_name": "Python 3",
   "language": "python",
   "name": "python3"
  },
  "language_info": {
   "codemirror_mode": {
    "name": "ipython",
    "version": 3
   },
   "file_extension": ".py",
   "mimetype": "text/x-python",
   "name": "python",
   "nbconvert_exporter": "python",
   "pygments_lexer": "ipython3",
   "version": "3.5.2"
  }
 },
 "nbformat": 4,
 "nbformat_minor": 2
}
