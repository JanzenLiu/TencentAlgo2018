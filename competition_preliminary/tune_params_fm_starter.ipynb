{
 "cells": [
  {
   "cell_type": "code",
   "execution_count": 1,
   "metadata": {},
   "outputs": [],
   "source": [
    "from hyperopt import fmin, tpe, hp, STATUS_OK, Trials\n",
    "from sklearn.model_selection import StratifiedKFold\n",
    "from sklearn import metrics\n",
    "from collections import Counter\n",
    "from fastFM import sgd\n",
    "import lightgbm as lgb\n",
    "import scipy.sparse as sparse\n",
    "import pandas as pd\n",
    "import numpy as np\n",
    "import tqdm\n",
    "import gc\n",
    "import os\n",
    "import sys\n",
    "sys.path.append('../code/utils')\n",
    "import data_utils as du\n",
    "import perf_utils as pu"
   ]
  },
  {
   "cell_type": "code",
   "execution_count": 2,
   "metadata": {},
   "outputs": [],
   "source": [
    "df_train = du.load_raw_data(\"train\")\n",
    "df_test = du.load_raw_data(\"test\")\n",
    "df_ad = du.load_raw_data(\"ad\")"
   ]
  },
  {
   "cell_type": "code",
   "execution_count": 3,
   "metadata": {},
   "outputs": [],
   "source": [
    "user_one_feat_names = ['age', 'gender', 'education', 'consumptionAbility', 'LBS',\n",
    "                  'carrier', 'house']  # one user has only one value\n",
    "user_multi_feat_names = ['marriageStatus', 'interest1', 'interest2', 'interest3',\n",
    "                   'interest4', 'interest5', 'kw1', 'kw2', 'kw3', 'topic1',\n",
    "                   'topic2', 'topic3', 'appIdInstall', 'appIdAction', 'ct', 'os']  # one user can have more than one value\n",
    "user_feat_names = user_one_feat_names + user_multi_feat_names"
   ]
  },
  {
   "cell_type": "code",
   "execution_count": 4,
   "metadata": {},
   "outputs": [],
   "source": [
    "ad_num_feat_names = ['creativeSize']\n",
    "ad_cat_feat_names = ['advertiserId', 'campaignId', 'creativeId', 'adCategoryId', 'productId', 'productType']\n",
    "ad_feat_names = ad_num_feat_names + ad_cat_feat_names"
   ]
  },
  {
   "cell_type": "code",
   "execution_count": 5,
   "metadata": {},
   "outputs": [],
   "source": [
    "# both 'creativeId' and 'aid' are unique to advertise. so you can do nothing actually\n",
    "# I just remove 'creativeId' and add 'aid' to make my intention clearer\n",
    "ad_feat_names.remove(\"creativeId\")  # every ad has a unique 'creativeId', so it's useless\n",
    "ad_feat_names.append(\"aid\")"
   ]
  },
  {
   "cell_type": "code",
   "execution_count": 6,
   "metadata": {
    "scrolled": true
   },
   "outputs": [
    {
     "name": "stderr",
     "output_type": "stream",
     "text": [
      "loading user matrices: 100%|██████████| 7/7 [02:43<00:00, 23.41s/it]\n",
      "loading ad matrices: 100%|██████████| 1/1 [00:03<00:00,  3.09s/it]"
     ]
    },
    {
     "name": "stdout",
     "output_type": "stream",
     "text": [
      "[07:57:18] Finish loading and joining user and ad data. △M: +624.23MB. △T: 2.8 minutes.\n",
      "Combined Matrix Shape: (8798814, 897)\n",
      "Feature Names Count: 897\n",
      "Memory usage at this moment :964.36MB\n"
     ]
    },
    {
     "name": "stderr",
     "output_type": "stream",
     "text": [
      "\n"
     ]
    }
   ],
   "source": [
    "with pu.profiler(\"loading and joining user and ad data\"):\n",
    "    X, feat_names = du.quick_join(ad_user=df_train, \n",
    "#                                   user_feat_names=user_feat_names, \n",
    "                                  user_feat_names=user_one_feat_names,\n",
    "#                                   ad_feat_names=ad_feat_names\n",
    "                                  ad_feat_names=ad_num_feat_names)\n",
    "    gc.collect()\n",
    "print(\"Combined Matrix Shape: {}\".format(X.shape))\n",
    "print(\"Feature Names Count: {}\".format(len(feat_names)))\n",
    "print(\"Memory usage at this moment :{}\".format(pu.get_memory_str()))"
   ]
  },
  {
   "cell_type": "code",
   "execution_count": 7,
   "metadata": {},
   "outputs": [],
   "source": [
    "y = df_train['label'].values\n",
    "assert X.shape[0] == y.shape[0]"
   ]
  },
  {
   "cell_type": "code",
   "execution_count": 8,
   "metadata": {},
   "outputs": [],
   "source": [
    "X = sparse.csr_matrix(X)  # COO to CSR"
   ]
  },
  {
   "cell_type": "code",
   "execution_count": 9,
   "metadata": {},
   "outputs": [],
   "source": [
    "n_splits = 10  # use 10 for debug\n",
    "skf = StratifiedKFold(n_splits=n_splits)\n",
    "split_indices = [(train_index, valid_index) for train_index, valid_index in skf.split(df_train, y)]"
   ]
  },
  {
   "cell_type": "code",
   "execution_count": 10,
   "metadata": {},
   "outputs": [],
   "source": [
    "train_index, valid_index = split_indices[0]\n",
    "\n",
    "# X_train, y_train = X[train_index, :], y[train_index]\n",
    "# X_valid, y_valid = X[valid_index, :], y[valid_index]\n",
    "X_train, y_train = X[valid_index, :], y[valid_index]\n",
    "X_valid, y_valid = X[train_index, :], y[train_index]"
   ]
  },
  {
   "cell_type": "code",
   "execution_count": 20,
   "metadata": {},
   "outputs": [],
   "source": [
    "def objective(params):\n",
    "    for k, v in params.items():\n",
    "        if k in set([\"n_iter\", \"rank\"]):\n",
    "            params[k] = round(v)\n",
    "    \n",
    "    fm = sgd.FMClassification(**params)\n",
    "    fm.fit(X_train, y_train)\n",
    "    proba_valid = fm.predict_proba(X_valid)\n",
    "    fm_params = fm.get_params()\n",
    "    if np.isnan(proba_valid).sum() == 0:\n",
    "        auc = metrics.roc_auc_score(y_valid, proba_valid)\n",
    "        print(\"[{}] Params: {} => AUC: {:.6f}, Results: {}\".format(pu.get_time_str(), params, auc, proba_valid))\n",
    "        return {\n",
    "            'params': fm_params,\n",
    "            'loss': -auc,\n",
    "            'status': STATUS_OK\n",
    "            }\n",
    "    else:\n",
    "        print(\"[{}] Params: {} => Failed\".format(pu.get_time_str(), params))\n",
    "        return {\n",
    "            'params': fm_params,\n",
    "            'loss': 0,\n",
    "            'status': STATUS_OK\n",
    "            }"
   ]
  },
  {
   "cell_type": "code",
   "execution_count": 21,
   "metadata": {
    "scrolled": true
   },
   "outputs": [
    {
     "name": "stdout",
     "output_type": "stream",
     "text": [
      "[08:04:04] Params: {'init_stdev': 0.07105403381575823, 'step_size': 0.3680579747448019, 'l2_reg_w': 0.0041885356492519675, 'rank': 17, 'l2_reg_V': 0.013388892737126526, 'n_iter': 7} => AUC: 0.505914, Results: [0.00462332 0.01121735 0.0517332  ... 0.02592886 0.01453001 0.01088113]\n",
      "[08:04:22] Params: {'init_stdev': 0.02778810112617942, 'step_size': 0.19285123353127304, 'l2_reg_w': 1.695567302203993, 'rank': 43, 'l2_reg_V': 2.0461225223868222, 'n_iter': 10} => AUC: 0.518283, Results: [0.07186489 0.0914847  0.12446915 ... 0.12155941 0.08389619 0.08049025]\n",
      "[08:06:29] Params: {'init_stdev': 0.002437588007471658, 'step_size': 0.11487463549540866, 'l2_reg_w': 7.295549065802013, 'rank': 507, 'l2_reg_V': 0.00011823201149630977, 'n_iter': 2} => AUC: 0.520546, Results: [0.34263824 0.3840195  0.36814456 ... 0.38731833 0.36662643 0.36573594]\n"
     ]
    },
    {
     "name": "stderr",
     "output_type": "stream",
     "text": [
      "/usr/local/lib/python3.5/dist-packages/scipy/stats/_distn_infrastructure.py:879: RuntimeWarning: invalid value encountered in greater\n",
      "  return (self.a < x) & (x < self.b)\n",
      "/usr/local/lib/python3.5/dist-packages/scipy/stats/_distn_infrastructure.py:879: RuntimeWarning: invalid value encountered in less\n",
      "  return (self.a < x) & (x < self.b)\n",
      "/usr/local/lib/python3.5/dist-packages/scipy/stats/_distn_infrastructure.py:1738: RuntimeWarning: invalid value encountered in greater_equal\n",
      "  cond2 = (x >= self.b) & cond0\n"
     ]
    },
    {
     "name": "stdout",
     "output_type": "stream",
     "text": [
      "[08:06:39] Params: {'init_stdev': 0.03360711953325245, 'step_size': 0.4145583984287946, 'l2_reg_w': 96.46161930037411, 'rank': 22, 'l2_reg_V': 74.38266172560736, 'n_iter': 154} => Failed\n"
     ]
    },
    {
     "name": "stderr",
     "output_type": "stream",
     "text": [
      "/usr/local/lib/python3.5/dist-packages/scipy/stats/_distn_infrastructure.py:879: RuntimeWarning: invalid value encountered in greater\n",
      "  return (self.a < x) & (x < self.b)\n",
      "/usr/local/lib/python3.5/dist-packages/scipy/stats/_distn_infrastructure.py:879: RuntimeWarning: invalid value encountered in less\n",
      "  return (self.a < x) & (x < self.b)\n",
      "/usr/local/lib/python3.5/dist-packages/scipy/stats/_distn_infrastructure.py:1738: RuntimeWarning: invalid value encountered in greater_equal\n",
      "  cond2 = (x >= self.b) & cond0\n"
     ]
    },
    {
     "name": "stdout",
     "output_type": "stream",
     "text": [
      "[08:08:17] Params: {'init_stdev': 0.13001172300457475, 'step_size': 0.11194163856924393, 'l2_reg_w': 47350.542571127, 'rank': 394, 'l2_reg_V': 0.010011413543219267, 'n_iter': 289} => Failed\n"
     ]
    },
    {
     "name": "stderr",
     "output_type": "stream",
     "text": [
      "/usr/local/lib/python3.5/dist-packages/scipy/stats/_distn_infrastructure.py:879: RuntimeWarning: invalid value encountered in greater\n",
      "  return (self.a < x) & (x < self.b)\n",
      "/usr/local/lib/python3.5/dist-packages/scipy/stats/_distn_infrastructure.py:879: RuntimeWarning: invalid value encountered in less\n",
      "  return (self.a < x) & (x < self.b)\n",
      "/usr/local/lib/python3.5/dist-packages/scipy/stats/_distn_infrastructure.py:1738: RuntimeWarning: invalid value encountered in greater_equal\n",
      "  cond2 = (x >= self.b) & cond0\n"
     ]
    },
    {
     "name": "stdout",
     "output_type": "stream",
     "text": [
      "[08:08:23] Params: {'init_stdev': 0.009108280559890556, 'step_size': 0.10292453805968696, 'l2_reg_w': 387.68186977393776, 'rank': 9, 'l2_reg_V': 41035.564086970146, 'n_iter': 4441} => Failed\n",
      "[08:08:32] Params: {'init_stdev': 0.02809750977306818, 'step_size': 0.02291537288261753, 'l2_reg_w': 3.4498768098572295e-05, 'rank': 3, 'l2_reg_V': 0.0005662780505049341, 'n_iter': 1376} => AUC: 0.528803, Results: [0.00026429 0.00059562 0.00539782 ... 0.0021547  0.00085723 0.00036506]\n"
     ]
    },
    {
     "name": "stderr",
     "output_type": "stream",
     "text": [
      "/usr/local/lib/python3.5/dist-packages/scipy/stats/_distn_infrastructure.py:879: RuntimeWarning: invalid value encountered in greater\n",
      "  return (self.a < x) & (x < self.b)\n",
      "/usr/local/lib/python3.5/dist-packages/scipy/stats/_distn_infrastructure.py:879: RuntimeWarning: invalid value encountered in less\n",
      "  return (self.a < x) & (x < self.b)\n",
      "/usr/local/lib/python3.5/dist-packages/scipy/stats/_distn_infrastructure.py:1738: RuntimeWarning: invalid value encountered in greater_equal\n",
      "  cond2 = (x >= self.b) & cond0\n"
     ]
    },
    {
     "name": "stdout",
     "output_type": "stream",
     "text": [
      "[08:08:39] Params: {'init_stdev': 0.35095461120890964, 'step_size': 0.41467130945352315, 'l2_reg_w': 196.27607475067467, 'rank': 12, 'l2_reg_V': 0.00017543498991465868, 'n_iter': 395} => Failed\n",
      "[08:08:47] Params: {'init_stdev': 0.014975233164503396, 'step_size': 0.15916861214744701, 'l2_reg_w': 1.6288069451985907, 'rank': 3, 'l2_reg_V': 0.1569472435884191, 'n_iter': 1358} => AUC: 0.499938, Results: [0.00018454 0.00018784 0.00021605 ... 0.00016831 0.00022316 0.00016599]\n",
      "[08:09:13] Params: {'init_stdev': 0.09436733521663823, 'step_size': 0.18755105426636862, 'l2_reg_w': 228.4541860504112, 'rank': 86, 'l2_reg_V': 10514.471384103204, 'n_iter': 7} => AUC: 0.499234, Results: [1. 1. 1. ... 1. 1. 1.]\n",
      "[08:09:32] Params: {'init_stdev': 0.004098201436979722, 'step_size': 0.07787521684038981, 'l2_reg_w': 0.06173763557600378, 'rank': 55, 'l2_reg_V': 716.6741709738653, 'n_iter': 45} => AUC: 0.532118, Results: [0. 1. 0. ... 1. 1. 0.]\n",
      "[08:09:40] Params: {'init_stdev': 0.008342563500054759, 'step_size': 0.030494823022606664, 'l2_reg_w': 0.0010213516120167647, 'rank': 1, 'l2_reg_V': 0.01053989549948814, 'n_iter': 30} => AUC: 0.507459, Results: [0.13207727 0.14136309 0.18797081 ... 0.1681618  0.1427633  0.11769678]\n",
      "[08:09:58] Params: {'init_stdev': 0.03807434249700614, 'step_size': 0.026532592672076277, 'l2_reg_w': 0.01820929137366496, 'rank': 46, 'l2_reg_V': 0.0002985631896117187, 'n_iter': 22} => AUC: 0.499265, Results: [0.15276996 0.15896502 0.2622369  ... 0.18829779 0.18192872 0.14855568]\n",
      "[08:10:06] Params: {'init_stdev': 0.010866391211994115, 'step_size': 0.025428566302442678, 'l2_reg_w': 0.268893826504812, 'rank': 1, 'l2_reg_V': 1.1972588476326067, 'n_iter': 176} => AUC: 0.485046, Results: [0.02011061 0.02290185 0.0510745  ... 0.02497206 0.01790335 0.01759757]\n",
      "[08:10:45] Params: {'init_stdev': 0.7509111321905046, 'step_size': 0.05494858133501974, 'l2_reg_w': 126.92987327630443, 'rank': 138, 'l2_reg_V': 0.0005248877389854277, 'n_iter': 17} => AUC: 0.505805, Results: [1. 1. 1. ... 1. 1. 1.]\n",
      "[08:11:55] Params: {'init_stdev': 0.22446641683381738, 'step_size': 0.19986233738112918, 'l2_reg_w': 96643.76791526993, 'rank': 270, 'l2_reg_V': 179.68307813276482, 'n_iter': 2} => AUC: 0.498256, Results: [0. 0. 0. ... 0. 0. 0.]\n",
      "[08:12:15] Params: {'init_stdev': 0.0086213961724456, 'step_size': 0.01956749338729094, 'l2_reg_w': 1981.1271741548653, 'rank': 57, 'l2_reg_V': 2.5620400917556614, 'n_iter': 54} => AUC: 0.502250, Results: [1. 1. 1. ... 1. 1. 1.]\n"
     ]
    },
    {
     "name": "stderr",
     "output_type": "stream",
     "text": [
      "/usr/local/lib/python3.5/dist-packages/scipy/stats/_distn_infrastructure.py:879: RuntimeWarning: invalid value encountered in greater\n",
      "  return (self.a < x) & (x < self.b)\n",
      "/usr/local/lib/python3.5/dist-packages/scipy/stats/_distn_infrastructure.py:879: RuntimeWarning: invalid value encountered in less\n",
      "  return (self.a < x) & (x < self.b)\n",
      "/usr/local/lib/python3.5/dist-packages/scipy/stats/_distn_infrastructure.py:1738: RuntimeWarning: invalid value encountered in greater_equal\n",
      "  cond2 = (x >= self.b) & cond0\n"
     ]
    },
    {
     "name": "stdout",
     "output_type": "stream",
     "text": [
      "[08:12:26] Params: {'init_stdev': 0.001214460977132581, 'step_size': 0.01107215973005854, 'l2_reg_w': 2.3015788239515586e-05, 'rank': 31, 'l2_reg_V': 2738.987140989145, 'n_iter': 208} => Failed\n"
     ]
    },
    {
     "name": "stderr",
     "output_type": "stream",
     "text": [
      "/usr/local/lib/python3.5/dist-packages/scipy/stats/_distn_infrastructure.py:879: RuntimeWarning: invalid value encountered in greater\n",
      "  return (self.a < x) & (x < self.b)\n",
      "/usr/local/lib/python3.5/dist-packages/scipy/stats/_distn_infrastructure.py:879: RuntimeWarning: invalid value encountered in less\n",
      "  return (self.a < x) & (x < self.b)\n",
      "/usr/local/lib/python3.5/dist-packages/scipy/stats/_distn_infrastructure.py:1738: RuntimeWarning: invalid value encountered in greater_equal\n",
      "  cond2 = (x >= self.b) & cond0\n"
     ]
    },
    {
     "name": "stdout",
     "output_type": "stream",
     "text": [
      "[08:12:37] Params: {'init_stdev': 0.07238795622166841, 'step_size': 0.21774720973917372, 'l2_reg_w': 634.4930264647317, 'rank': 25, 'l2_reg_V': 0.00010835554063223497, 'n_iter': 9704} => Failed\n",
      "[08:13:47] Params: {'init_stdev': 0.019418879079823478, 'step_size': 0.09716454747831396, 'l2_reg_w': 0.00011998334598427504, 'rank': 267, 'l2_reg_V': 5.880196571483851, 'n_iter': 1151} => AUC: 0.544569, Results: [0.00157123 0.00236222 0.00734286 ... 0.00808381 0.00147526 0.00123008]\n",
      "[08:17:30] Params: {'init_stdev': 0.0033550073878856074, 'step_size': 0.04759631234857393, 'l2_reg_w': 0.00022674815423973273, 'rank': 909, 'l2_reg_V': 54.816467813668204, 'n_iter': 655} => AUC: 0.498254, Results: [1. 1. 1. ... 1. 1. 1.]\n",
      "[08:18:17] Params: {'init_stdev': 0.0039194710669231345, 'step_size': 0.07844791473763084, 'l2_reg_w': 0.05677252084433068, 'rank': 162, 'l2_reg_V': 19.182178306473425, 'n_iter': 53} => AUC: 0.504117, Results: [0.03327707 0.04776147 0.06677806 ... 0.0498875  0.03555613 0.02430593]\n"
     ]
    },
    {
     "name": "stderr",
     "output_type": "stream",
     "text": [
      "/usr/local/lib/python3.5/dist-packages/scipy/stats/_distn_infrastructure.py:879: RuntimeWarning: invalid value encountered in greater\n",
      "  return (self.a < x) & (x < self.b)\n",
      "/usr/local/lib/python3.5/dist-packages/scipy/stats/_distn_infrastructure.py:879: RuntimeWarning: invalid value encountered in less\n",
      "  return (self.a < x) & (x < self.b)\n",
      "/usr/local/lib/python3.5/dist-packages/scipy/stats/_distn_infrastructure.py:1738: RuntimeWarning: invalid value encountered in greater_equal\n",
      "  cond2 = (x >= self.b) & cond0\n"
     ]
    },
    {
     "name": "stdout",
     "output_type": "stream",
     "text": [
      "[08:18:47] Params: {'init_stdev': 0.0010117832407100114, 'step_size': 0.039994081047036695, 'l2_reg_w': 0.0002514381498619561, 'rank': 109, 'l2_reg_V': 1701.4516366313808, 'n_iter': 1673} => Failed\n"
     ]
    },
    {
     "name": "stderr",
     "output_type": "stream",
     "text": [
      "/usr/local/lib/python3.5/dist-packages/scipy/stats/_distn_infrastructure.py:879: RuntimeWarning: invalid value encountered in greater\n",
      "  return (self.a < x) & (x < self.b)\n",
      "/usr/local/lib/python3.5/dist-packages/scipy/stats/_distn_infrastructure.py:879: RuntimeWarning: invalid value encountered in less\n",
      "  return (self.a < x) & (x < self.b)\n",
      "/usr/local/lib/python3.5/dist-packages/scipy/stats/_distn_infrastructure.py:1738: RuntimeWarning: invalid value encountered in greater_equal\n",
      "  cond2 = (x >= self.b) & cond0\n"
     ]
    },
    {
     "name": "stdout",
     "output_type": "stream",
     "text": [
      "[08:22:11] Params: {'init_stdev': 0.0018872211243208296, 'step_size': 0.07072178636114312, 'l2_reg_w': 0.007972191496132281, 'rank': 828, 'l2_reg_V': 625.255497938052, 'n_iter': 4603} => Failed\n",
      "[08:23:17] Params: {'init_stdev': 0.005065856529877333, 'step_size': 0.01508353761489232, 'l2_reg_w': 0.13160095833927993, 'rank': 245, 'l2_reg_V': 8.994124311672026, 'n_iter': 76} => AUC: 0.507064, Results: [0.10152853 0.11783341 0.16548893 ... 0.13480811 0.1112197  0.0987246 ]\n",
      "[08:23:26] Params: {'init_stdev': 0.01858724046867616, 'step_size': 0.2853199196929706, 'l2_reg_w': 1.2568223082582242e-05, 'rank': 6, 'l2_reg_V': 0.10759639048988347, 'n_iter': 708} => AUC: 0.559380, Results: [5.90609610e-08 2.07818981e-05 9.88452696e-07 ... 3.92956006e-04\n",
      " 2.80130003e-05 1.73138084e-06]\n",
      "[08:23:35] Params: {'init_stdev': 0.01366147366529775, 'step_size': 0.29664914324595076, 'l2_reg_w': 1.8723374767500402e-05, 'rank': 7, 'l2_reg_V': 0.12538662543658818, 'n_iter': 691} => AUC: 0.559104, Results: [2.35338456e-07 6.44346484e-05 2.53351668e-06 ... 9.15396766e-04\n",
      " 8.52391888e-05 6.31479505e-06]\n",
      "[08:23:44] Params: {'init_stdev': 0.05073154687467282, 'step_size': 0.23717988120224998, 'l2_reg_w': 1.1253735639826548e-05, 'rank': 5, 'l2_reg_V': 0.15242724921833972, 'n_iter': 4722} => AUC: 0.553678, Results: [2.66469082e-09 3.40224972e-08 1.95777225e-08 ... 1.12129796e-02\n",
      " 2.81424465e-04 4.06522639e-07]\n",
      "[08:23:53] Params: {'init_stdev': 0.015032382918194469, 'step_size': 0.3118333666188582, 'l2_reg_w': 0.0010231353503852123, 'rank': 7, 'l2_reg_V': 0.13282471041889085, 'n_iter': 9880} => AUC: 0.546612, Results: [1.45220125e-07 1.28160110e-07 1.36965076e-05 ... 7.04271052e-03\n",
      " 4.09126498e-03 3.20649062e-06]\n",
      "[08:24:01] Params: {'init_stdev': 0.006197310237987841, 'step_size': 0.282840478543245, 'l2_reg_w': 1.0760511282653817e-05, 'rank': 2, 'l2_reg_V': 1.2901109865038471e-05, 'n_iter': 470} => AUC: 0.525340, Results: [6.32927809e-05 2.96796344e-04 1.61230007e-04 ... 1.11266388e-04\n",
      " 5.14167836e-06 9.49486875e-05]\n",
      "[08:24:13] Params: {'init_stdev': 0.018406582981150044, 'step_size': 0.15310999854938462, 'l2_reg_w': 0.002072164855265868, 'rank': 14, 'l2_reg_V': 0.0034210336920433683, 'n_iter': 2994} => AUC: 0.560600, Results: [3.64614109e-07 5.41326075e-05 2.70081101e-04 ... 1.85933460e-02\n",
      " 6.36510461e-03 5.07885752e-05]\n",
      "[08:24:22] Params: {'init_stdev': 0.021570747165858262, 'step_size': 0.4875300218013987, 'l2_reg_w': 0.0021346638826742685, 'rank': 14, 'l2_reg_V': 0.005446816806172582, 'n_iter': 2479} => AUC: 0.488338, Results: [0. 0. 0. ... 0. 0. 0.]\n",
      "[08:24:30] Params: {'init_stdev': 0.052369905399382265, 'step_size': 0.1403963522971659, 'l2_reg_w': 9.955752845394073e-05, 'rank': 2, 'l2_reg_V': 0.0026024076651670123, 'n_iter': 115} => AUC: 0.462127, Results: [0.00152396 0.0016835  0.00966649 ... 0.00067086 0.00019908 0.00018811]\n",
      "[08:24:42] Params: {'init_stdev': 0.15079003786175899, 'step_size': 0.15003105731702204, 'l2_reg_w': 11.886395468279284, 'rank': 18, 'l2_reg_V': 0.04329744303394518, 'n_iter': 2876} => AUC: 0.532861, Results: [0.00110733 0.00187079 0.00089525 ... 0.11305621 0.00565927 0.00099014]\n"
     ]
    },
    {
     "name": "stderr",
     "output_type": "stream",
     "text": [
      "/usr/local/lib/python3.5/dist-packages/scipy/stats/_distn_infrastructure.py:879: RuntimeWarning: invalid value encountered in greater\n",
      "  return (self.a < x) & (x < self.b)\n",
      "/usr/local/lib/python3.5/dist-packages/scipy/stats/_distn_infrastructure.py:879: RuntimeWarning: invalid value encountered in less\n",
      "  return (self.a < x) & (x < self.b)\n",
      "/usr/local/lib/python3.5/dist-packages/scipy/stats/_distn_infrastructure.py:1738: RuntimeWarning: invalid value encountered in greater_equal\n",
      "  cond2 = (x >= self.b) & cond0\n"
     ]
    },
    {
     "name": "stdout",
     "output_type": "stream",
     "text": [
      "[08:24:47] Params: {'init_stdev': 0.9056938868100679, 'step_size': 0.43380578298454586, 'l2_reg_w': 7.50850656463004, 'rank': 4, 'l2_reg_V': 3.760987594848267e-05, 'n_iter': 7128} => Failed\n",
      "[08:24:57] Params: {'init_stdev': 0.002018406561299713, 'step_size': 0.1285006433659412, 'l2_reg_w': 0.008805286576445087, 'rank': 10, 'l2_reg_V': 0.002043303349093722, 'n_iter': 863} => AUC: 0.551117, Results: [0.00676341 0.00315404 0.00301776 ... 0.04033955 0.03899613 0.01343044]\n",
      "[08:25:12] Params: {'init_stdev': 0.3660685843983075, 'step_size': 0.3429547105508697, 'l2_reg_w': 0.0007007557351088911, 'rank': 32, 'l2_reg_V': 0.33569530982244544, 'n_iter': 2462} => AUC: 0.544637, Results: [7.84297408e-10 1.45970111e-07 5.41660561e-04 ... 1.85266509e-03\n",
      " 1.12212996e-04 1.36830293e-04]\n",
      "[08:25:20] Params: {'init_stdev': 0.029737349729372316, 'step_size': 0.17533345124658087, 'l2_reg_w': 0.4251944384502314, 'rank': 2, 'l2_reg_V': 0.03281667968221661, 'n_iter': 7} => AUC: 0.505071, Results: [0.06878613 0.08606834 0.16737283 ... 0.12526198 0.08642471 0.08915434]\n",
      "[08:25:29] Params: {'init_stdev': 0.10475472240200878, 'step_size': 0.25690796269988314, 'l2_reg_w': 6.098058062408989e-05, 'rank': 6, 'l2_reg_V': 0.001406271829918647, 'n_iter': 417} => AUC: 0.508379, Results: [8.34134244e-05 4.70454374e-03 2.93000928e-03 ... 8.94632113e-04\n",
      " 6.61639663e-04 5.46348621e-03]\n",
      "[08:25:38] Params: {'init_stdev': 0.04604218149450078, 'step_size': 0.08787907962950957, 'l2_reg_w': 0.019861013488890272, 'rank': 4, 'l2_reg_V': 0.04165054328691496, 'n_iter': 262} => AUC: 0.498225, Results: [0.00150027 0.00339244 0.00583541 ... 0.00421768 0.00271239 0.00232179]\n",
      "[08:25:46] Params: {'init_stdev': 0.022155240397391553, 'step_size': 0.11663361133870535, 'l2_reg_w': 13895.13287919408, 'rank': 9, 'l2_reg_V': 0.5473073968890562, 'n_iter': 103} => AUC: 0.494550, Results: [0. 0. 0. ... 0. 0. 0.]\n",
      "[08:25:55] Params: {'init_stdev': 0.20437480755657472, 'step_size': 0.3827543034984254, 'l2_reg_w': 0.0028990757069308174, 'rank': 15, 'l2_reg_V': 2.8747795357564177e-05, 'n_iter': 5892} => AUC: 0.491268, Results: [0. 1. 1. ... 0. 0. 0.]\n",
      "[08:26:21] Params: {'init_stdev': 0.0067824999789652856, 'step_size': 0.05432494848419026, 'l2_reg_w': 26.61946962151428, 'rank': 77, 'l2_reg_V': 0.015670313956196696, 'n_iter': 3052} => AUC: 0.536616, Results: [0.00068992 0.00073644 0.00084284 ... 0.00101823 0.00079968 0.00066926]\n",
      "[08:26:32] Params: {'init_stdev': 0.06687043719139707, 'step_size': 0.48746260219743626, 'l2_reg_w': 2.6858708804731015, 'rank': 21, 'l2_reg_V': 0.0006780974150705228, 'n_iter': 1524} => AUC: 0.504670, Results: [1. 0. 1. ... 0. 0. 0.]\n",
      "[08:26:40] Params: {'init_stdev': 0.03557887764951476, 'step_size': 0.15749575507280208, 'l2_reg_w': 0.000366496317813577, 'rank': 1, 'l2_reg_V': 6.419192043992532e-05, 'n_iter': 323} => AUC: 0.503752, Results: [0.00034504 0.00045578 0.00053886 ... 0.00125613 0.00033644 0.00011984]\n",
      "[08:26:55] Params: {'init_stdev': 0.002937701334535132, 'step_size': 0.06196405084611982, 'l2_reg_w': 0.03357109055470227, 'rank': 35, 'l2_reg_V': 0.004890612432068959, 'n_iter': 12} => AUC: 0.506361, Results: [0.14960482 0.1430477  0.21505097 ... 0.19480419 0.14130842 0.12426213]\n",
      "[08:27:03] Params: {'init_stdev': 0.4165634202679534, 'step_size': 0.18394129581404353, 'l2_reg_w': 0.7333121742228123, 'rank': 3, 'l2_reg_V': 2.1002873410963163, 'n_iter': 1029} => AUC: 0.503374, Results: [0.00018729 0.00031578 0.00028025 ... 0.00015578 0.00014297 0.00038989]\n"
     ]
    },
    {
     "name": "stderr",
     "output_type": "stream",
     "text": [
      "/usr/local/lib/python3.5/dist-packages/scipy/stats/_distn_infrastructure.py:879: RuntimeWarning: invalid value encountered in greater\n",
      "  return (self.a < x) & (x < self.b)\n",
      "/usr/local/lib/python3.5/dist-packages/scipy/stats/_distn_infrastructure.py:879: RuntimeWarning: invalid value encountered in less\n",
      "  return (self.a < x) & (x < self.b)\n",
      "/usr/local/lib/python3.5/dist-packages/scipy/stats/_distn_infrastructure.py:1738: RuntimeWarning: invalid value encountered in greater_equal\n",
      "  cond2 = (x >= self.b) & cond0\n"
     ]
    },
    {
     "name": "stdout",
     "output_type": "stream",
     "text": [
      "[08:27:10] Params: {'init_stdev': 0.012912735115726293, 'step_size': 0.03466149106165477, 'l2_reg_w': 4.243611925844806e-05, 'rank': 9, 'l2_reg_V': 35183.665322267974, 'n_iter': 528} => Failed\n",
      "[08:27:20] Params: {'init_stdev': 0.010377220117147262, 'step_size': 0.10572297047629857, 'l2_reg_w': 0.0036427404961925413, 'rank': 12, 'l2_reg_V': 0.0002539215362687199, 'n_iter': 3} => AUC: 0.508877, Results: [0.28567576 0.31079723 0.3394497  ... 0.3175145  0.30338943 0.31431528]\n",
      "[08:27:41] Params: {'init_stdev': 0.0015348605930481224, 'step_size': 0.21276016951681892, 'l2_reg_w': 0.00909943220409154, 'rank': 55, 'l2_reg_V': 0.4220697000683669, 'n_iter': 146} => AUC: 0.446008, Results: [9.98914183e-04 1.18733403e-03 3.53209632e-03 ... 1.35067545e-04\n",
      " 4.88228739e-05 9.12836398e-04]\n"
     ]
    },
    {
     "name": "stderr",
     "output_type": "stream",
     "text": [
      "/usr/local/lib/python3.5/dist-packages/scipy/stats/_distn_infrastructure.py:879: RuntimeWarning: invalid value encountered in greater\n",
      "  return (self.a < x) & (x < self.b)\n",
      "/usr/local/lib/python3.5/dist-packages/scipy/stats/_distn_infrastructure.py:879: RuntimeWarning: invalid value encountered in less\n",
      "  return (self.a < x) & (x < self.b)\n",
      "/usr/local/lib/python3.5/dist-packages/scipy/stats/_distn_infrastructure.py:1738: RuntimeWarning: invalid value encountered in greater_equal\n",
      "  cond2 = (x >= self.b) & cond0\n"
     ]
    },
    {
     "name": "stdout",
     "output_type": "stream",
     "text": [
      "[08:27:46] Params: {'init_stdev': 0.0773179942041958, 'step_size': 0.13018022607918725, 'l2_reg_w': 0.08762207648179948, 'rank': 2, 'l2_reg_V': 33.167240991279584, 'n_iter': 1805} => Failed\n",
      "[08:27:56] Params: {'init_stdev': 0.017969312602126974, 'step_size': 0.25830203217329994, 'l2_reg_w': 0.0006469632855156171, 'rank': 7, 'l2_reg_V': 1.101745799716079e-05, 'n_iter': 7763} => AUC: 0.503464, Results: [7.44793439e-058 3.78526861e-109 3.13943895e-055 ... 3.29152805e-052\n",
      " 6.37254704e-037 2.21109552e-050]\n",
      "[08:28:08] Params: {'init_stdev': 0.007372931533047364, 'step_size': 0.3453668596639541, 'l2_reg_w': 39.45082555533349, 'rank': 25, 'l2_reg_V': 4.743782491493905, 'n_iter': 32} => AUC: 0.511359, Results: [0. 1. 0. ... 1. 1. 1.]\n"
     ]
    },
    {
     "name": "stderr",
     "output_type": "stream",
     "text": [
      "/usr/local/lib/python3.5/dist-packages/scipy/stats/_distn_infrastructure.py:879: RuntimeWarning: invalid value encountered in greater\n",
      "  return (self.a < x) & (x < self.b)\n",
      "/usr/local/lib/python3.5/dist-packages/scipy/stats/_distn_infrastructure.py:879: RuntimeWarning: invalid value encountered in less\n",
      "  return (self.a < x) & (x < self.b)\n",
      "/usr/local/lib/python3.5/dist-packages/scipy/stats/_distn_infrastructure.py:1738: RuntimeWarning: invalid value encountered in greater_equal\n",
      "  cond2 = (x >= self.b) & cond0\n"
     ]
    },
    {
     "name": "stdout",
     "output_type": "stream",
     "text": [
      "[08:28:12] Params: {'init_stdev': 0.005110854228219673, 'step_size': 0.08286751572226554, 'l2_reg_w': 2.912580695154022, 'rank': 1, 'l2_reg_V': 263.65087480120656, 'n_iter': 226} => Failed\n",
      "[08:30:17] Params: {'init_stdev': 0.4999360589795583, 'step_size': 0.4325409419531284, 'l2_reg_w': 0.00016128899448884885, 'rank': 501, 'l2_reg_V': 0.017404107881439496, 'n_iter': 69} => AUC: 0.500178, Results: [0. 0. 0. ... 0. 0. 0.]\n",
      "[08:30:44] Params: {'init_stdev': 0.02635938880033238, 'step_size': 0.09592034585294888, 'l2_reg_w': 0.0015445034152196289, 'rank': 82, 'l2_reg_V': 0.0007417415524383378, 'n_iter': 784} => AUC: 0.553954, Results: [0.00333844 0.01018139 0.0027019  ... 0.0334409  0.06730302 0.03312406]\n",
      "[08:30:52] Params: {'init_stdev': 0.15011438057857154, 'step_size': 0.04643119280654858, 'l2_reg_w': 0.18510635211352597, 'rank': 4, 'l2_reg_V': 0.8035423174813427, 'n_iter': 3168} => AUC: 0.555460, Results: [0.00101445 0.00202297 0.00172558 ... 0.00769848 0.00850734 0.00229457]\n",
      "[08:31:40] Params: {'init_stdev': 0.2296841302760612, 'step_size': 0.1734481143387471, 'l2_reg_w': 3.0160479054259876e-05, 'rank': 177, 'l2_reg_V': 13.006576730372753, 'n_iter': 336} => AUC: 0.502373, Results: [0. 0. 0. ... 0. 0. 0.]\n"
     ]
    },
    {
     "name": "stderr",
     "output_type": "stream",
     "text": [
      "/usr/local/lib/python3.5/dist-packages/scipy/stats/_distn_infrastructure.py:879: RuntimeWarning: invalid value encountered in greater\n",
      "  return (self.a < x) & (x < self.b)\n",
      "/usr/local/lib/python3.5/dist-packages/scipy/stats/_distn_infrastructure.py:879: RuntimeWarning: invalid value encountered in less\n",
      "  return (self.a < x) & (x < self.b)\n",
      "/usr/local/lib/python3.5/dist-packages/scipy/stats/_distn_infrastructure.py:1738: RuntimeWarning: invalid value encountered in greater_equal\n",
      "  cond2 = (x >= self.b) & cond0\n"
     ]
    },
    {
     "name": "stdout",
     "output_type": "stream",
     "text": [
      "[08:31:55] Params: {'init_stdev': 0.04164964686979382, 'step_size': 0.06970846516164911, 'l2_reg_w': 9153.448143308704, 'rank': 43, 'l2_reg_V': 0.07466519085817537, 'n_iter': 166} => Failed\n",
      "[08:32:07] Params: {'init_stdev': 0.0026195347757225988, 'step_size': 0.020679732085964894, 'l2_reg_w': 1.2206280190012737e-05, 'rank': 18, 'l2_reg_V': 0.005345764330129027, 'n_iter': 2030} => AUC: 0.533361, Results: [2.89059101e-05 1.57897073e-04 1.35397256e-03 ... 7.29193929e-04\n",
      " 1.89816804e-04 7.84706413e-05]\n"
     ]
    },
    {
     "name": "stderr",
     "output_type": "stream",
     "text": [
      "/usr/local/lib/python3.5/dist-packages/scipy/stats/_distn_infrastructure.py:879: RuntimeWarning: invalid value encountered in greater\n",
      "  return (self.a < x) & (x < self.b)\n",
      "/usr/local/lib/python3.5/dist-packages/scipy/stats/_distn_infrastructure.py:879: RuntimeWarning: invalid value encountered in less\n",
      "  return (self.a < x) & (x < self.b)\n",
      "/usr/local/lib/python3.5/dist-packages/scipy/stats/_distn_infrastructure.py:1738: RuntimeWarning: invalid value encountered in greater_equal\n",
      "  cond2 = (x >= self.b) & cond0\n"
     ]
    },
    {
     "name": "stdout",
     "output_type": "stream",
     "text": [
      "[08:32:12] Params: {'init_stdev': 0.10359656340595472, 'step_size': 0.22887448162212506, 'l2_reg_w': 6.878380365890044e-05, 'rank': 5, 'l2_reg_V': 119.48665007612955, 'n_iter': 549} => Failed\n",
      "[08:32:46] Params: {'init_stdev': 0.01084523093938199, 'step_size': 0.11901803184149025, 'l2_reg_w': 0.0002901320251582173, 'rank': 111, 'l2_reg_V': 0.23954494621136732, 'n_iter': 1106} => AUC: 0.548471, Results: [0.01994661 0.04168421 0.03835839 ... 0.05216304 0.01005377 0.01557955]\n",
      "[08:33:09] Params: {'init_stdev': 0.05864410165870816, 'step_size': 0.01342214626683623, 'l2_reg_w': 0.028572424445742924, 'rank': 62, 'l2_reg_V': 0.00011532479855850995, 'n_iter': 5301} => AUC: 0.567112, Results: [0.00025422 0.00149797 0.00252474 ... 0.02391994 0.0172801  0.002918  ]\n",
      "[08:34:35] Params: {'init_stdev': 0.06095745683505805, 'step_size': 0.014086541359512273, 'l2_reg_w': 0.42031474941545044, 'rank': 326, 'l2_reg_V': 0.00012228912356386344, 'n_iter': 9597} => AUC: 0.550194, Results: [6.44922796e-06 9.02746460e-05 3.45110082e-04 ... 2.95740935e-04\n",
      " 1.57447844e-04 3.06044485e-03]\n",
      "[08:37:40] Params: {'init_stdev': 0.12839000526581693, 'step_size': 0.010974955162588144, 'l2_reg_w': 1.3151730353171687, 'rank': 738, 'l2_reg_V': 0.0003001635168324007, 'n_iter': 1} => AUC: 0.496687, Results: [9.66446935e-01 4.97831799e-01 2.45557116e-01 ... 4.04823475e-04\n",
      " 6.06337828e-01 1.00000000e+00]\n",
      "[08:38:03] Params: {'init_stdev': 0.01684066282048101, 'step_size': 0.029914917473172844, 'l2_reg_w': 0.04228392531321465, 'rank': 58, 'l2_reg_V': 2.6054373558396952e-05, 'n_iter': 5422} => AUC: 0.545040, Results: [0.00323104 0.00332781 0.00429533 ... 0.02291257 0.01348016 0.00667529]\n",
      "[08:38:17] Params: {'init_stdev': 0.02589380632575668, 'step_size': 0.01616026712699388, 'l2_reg_w': 0.005121630426994317, 'rank': 27, 'l2_reg_V': 0.00792323833846864, 'n_iter': 3805} => AUC: 0.564268, Results: [0.00015886 0.00084072 0.00425799 ... 0.01184371 0.00474281 0.0005832 ]\n",
      "[08:38:33] Params: {'init_stdev': 0.0266094957801955, 'step_size': 0.013035424436370022, 'l2_reg_w': 0.010235740398288454, 'rank': 37, 'l2_reg_V': 0.0014254663580671038, 'n_iter': 3685} => AUC: 0.560028, Results: [0.00018285 0.00100534 0.00494634 ... 0.00911551 0.00398577 0.00071441]\n",
      "[08:39:25] Params: {'init_stdev': 0.0899707023339372, 'step_size': 0.01825333180876723, 'l2_reg_w': 0.004361191385924239, 'rank': 185, 'l2_reg_V': 7.266594962019397e-05, 'n_iter': 7281} => AUC: 0.538356, Results: [7.89423766e-06 7.27377972e-04 9.38477644e-04 ... 1.21887428e-03\n",
      " 1.96401240e-03 6.55690303e-03]\n",
      "[08:39:39] Params: {'init_stdev': 0.053498745843940716, 'step_size': 0.026754264994508937, 'l2_reg_w': 0.0268710786399769, 'rank': 28, 'l2_reg_V': 0.008089284370953877, 'n_iter': 3988} => AUC: 0.570386, Results: [0.00036289 0.00090627 0.00368854 ... 0.02163939 0.01092675 0.00144515]\n",
      "[08:40:03] Params: {'init_stdev': 0.2773423291374062, 'step_size': 0.016586527539866683, 'l2_reg_w': 0.020277277986343094, 'rank': 71, 'l2_reg_V': 0.012917562193285168, 'n_iter': 3690} => AUC: 0.524828, Results: [1.78823380e-09 2.63927850e-08 1.83451869e-07 ... 4.65111915e-04\n",
      " 7.01275676e-05 2.54221899e-03]\n",
      "[08:40:38] Params: {'init_stdev': 0.05729106379329954, 'step_size': 0.02371351551891043, 'l2_reg_w': 0.13764500333913746, 'rank': 116, 'l2_reg_V': 0.0012087364600841348, 'n_iter': 9985} => AUC: 0.561352, Results: [0.00017392 0.00124546 0.00127652 ... 0.00828322 0.00534061 0.00240064]\n",
      "[08:40:52] Params: {'init_stdev': 0.6222454740857358, 'step_size': 0.013132051100850485, 'l2_reg_w': 4.208427470708021, 'rank': 27, 'l2_reg_V': 0.0292839940096441, 'n_iter': 1348} => AUC: 0.515398, Results: [2.85008223e-45 1.46667896e-24 2.05736004e-24 ... 4.72383796e-17\n",
      " 4.51263188e-12 1.20814699e-11]\n",
      "[08:41:54] Params: {'init_stdev': 0.1812411687627461, 'step_size': 0.027403741928644223, 'l2_reg_w': 0.7207721945776586, 'rank': 226, 'l2_reg_V': 0.00043397226561696855, 'n_iter': 2165} => AUC: 0.537440, Results: [5.85405500e-23 1.84942237e-08 1.91804117e-10 ... 1.26968203e-01\n",
      " 7.07370271e-03 6.76724078e-02]\n",
      "[08:42:17] Params: {'init_stdev': 0.035637484686386084, 'step_size': 0.020419021109767843, 'l2_reg_w': 0.06572281577666492, 'rank': 65, 'l2_reg_V': 0.06828470701791872, 'n_iter': 4381} => AUC: 0.558849, Results: [0.00349892 0.00462906 0.00703213 ... 0.02325037 0.01509223 0.0073142 ]\n",
      "[08:42:37] Params: {'init_stdev': 0.11425500402956112, 'step_size': 0.03943326163517731, 'l2_reg_w': 0.005166542025402364, 'rank': 47, 'l2_reg_V': 0.0001577206223824928, 'n_iter': 5993} => AUC: 0.534145, Results: [2.37690438e-04 9.83076184e-06 1.76479767e-03 ... 4.11278651e-03\n",
      " 3.73866103e-03 1.30695226e-03]\n",
      "[08:43:17] Params: {'init_stdev': 0.2813702753568911, 'step_size': 0.012172248215544064, 'l2_reg_w': 0.30562899038324126, 'rank': 135, 'l2_reg_V': 1.9351632002987204e-05, 'n_iter': 881} => AUC: 0.524634, Results: [6.89363415e-22 7.78633404e-12 1.64977971e-22 ... 6.31501527e-03\n",
      " 5.93523302e-01 7.36386033e-04]\n",
      "[08:43:47] Params: {'init_stdev': 0.07830667841622055, 'step_size': 0.010379773166545979, 'l2_reg_w': 0.0010631888926515328, 'rank': 92, 'l2_reg_V': 1.4258253369474532, 'n_iter': 8419} => AUC: 0.554022, Results: [7.88599200e-05 1.65739274e-04 2.32114060e-03 ... 6.74531470e-03\n",
      " 3.85566282e-03 4.67996407e-04]\n",
      "[08:43:57] Params: {'init_stdev': 0.04492401906561182, 'step_size': 0.016080504243267027, 'l2_reg_w': 15.72829476129847, 'rank': 12, 'l2_reg_V': 5.5133307387789724e-05, 'n_iter': 3932} => AUC: 0.531550, Results: [0.0007457  0.00150871 0.00112215 ... 0.00232971 0.00218793 0.0013079 ]\n",
      "[08:44:11] Params: {'init_stdev': 0.025273136337853067, 'step_size': 0.03386425676580696, 'l2_reg_w': 0.0005243984341519146, 'rank': 28, 'l2_reg_V': 0.008066012414921053, 'n_iter': 1326} => AUC: 0.533234, Results: [0.00026286 0.00042284 0.00454039 ... 0.00194724 0.00067073 0.00024536]\n",
      "[08:44:41] Params: {'init_stdev': 0.03369765974734004, 'step_size': 0.01003406553661224, 'l2_reg_w': 0.03199497881074196, 'rank': 95, 'l2_reg_V': 0.02141707090249524, 'n_iter': 5531} => AUC: 0.567586, Results: [0.00185317 0.00322904 0.0093489  ... 0.02117105 0.01237547 0.00508743]\n",
      "[08:45:11] Params: {'init_stdev': 0.032545294335622886, 'step_size': 0.02270116630380101, 'l2_reg_w': 0.030704747263130248, 'rank': 97, 'l2_reg_V': 0.2250828251438538, 'n_iter': 4} => AUC: 0.485974, Results: [0.38198041 0.40280986 0.45803086 ... 0.40920866 0.43202001 0.47057477]\n",
      "[08:47:14] Params: {'init_stdev': 0.08727762504806998, 'step_size': 0.01835464480315708, 'l2_reg_w': 63.313718884413625, 'rank': 476, 'l2_reg_V': 0.002615108581357541, 'n_iter': 6493} => AUC: 0.544194, Results: [2.43056997e-06 1.68040114e-06 1.97517212e-04 ... 5.05087811e-06\n",
      " 2.04940634e-04 3.16491044e-04]\n",
      "[08:50:06] Params: {'init_stdev': 0.166341930442734, 'step_size': 0.010319997336719235, 'l2_reg_w': 0.10269338099748136, 'rank': 676, 'l2_reg_V': 0.021168628188198212, 'n_iter': 4908} => AUC: 0.521006, Results: [3.06704200e-06 7.92838919e-09 1.30181081e-15 ... 1.39324422e-06\n",
      " 2.14501851e-04 3.35709673e-02]\n",
      "[08:50:49] Params: {'init_stdev': 0.012251983364873476, 'step_size': 0.012285214612983434, 'l2_reg_w': 0.21252968920083867, 'rank': 143, 'l2_reg_V': 1.0113851261652778e-05, 'n_iter': 2256} => AUC: 0.551674, Results: [0.00216429 0.00328107 0.00657369 ... 0.0063224  0.00470684 0.00406974]\n"
     ]
    },
    {
     "name": "stderr",
     "output_type": "stream",
     "text": [
      "/usr/local/lib/python3.5/dist-packages/scipy/stats/_distn_infrastructure.py:879: RuntimeWarning: invalid value encountered in greater\n",
      "  return (self.a < x) & (x < self.b)\n",
      "/usr/local/lib/python3.5/dist-packages/scipy/stats/_distn_infrastructure.py:879: RuntimeWarning: invalid value encountered in less\n",
      "  return (self.a < x) & (x < self.b)\n",
      "/usr/local/lib/python3.5/dist-packages/scipy/stats/_distn_infrastructure.py:1738: RuntimeWarning: invalid value encountered in greater_equal\n",
      "  cond2 = (x >= self.b) & cond0\n"
     ]
    },
    {
     "name": "stdout",
     "output_type": "stream",
     "text": [
      "[08:52:27] Params: {'init_stdev': 0.021155205009023504, 'step_size': 0.025177077955771534, 'l2_reg_w': 252.10547656541678, 'rank': 386, 'l2_reg_V': 3.237983552268607, 'n_iter': 1760} => Failed\n",
      "[08:52:40] Params: {'init_stdev': 0.12607614648133914, 'step_size': 0.04503036136768696, 'l2_reg_w': 0.9193236931835687, 'rank': 21, 'l2_reg_V': 0.06539624535829586, 'n_iter': 34} => AUC: 0.499655, Results: [0.03748947 0.11145868 0.12978671 ... 0.12009137 0.13879377 0.07798419]\n",
      "[08:53:37] Params: {'init_stdev': 0.05065741019860255, 'step_size': 0.02917376362896031, 'l2_reg_w': 0.016252640478714497, 'rank': 209, 'l2_reg_V': 0.00021329375337281273, 'n_iter': 16} => AUC: 0.505405, Results: [0.11146551 0.14873821 0.18687061 ... 0.16869595 0.13130074 0.14085296]\n",
      "[08:55:01] Params: {'init_stdev': 0.015699566962448966, 'step_size': 0.014768815423202715, 'l2_reg_w': 3.622433358977491, 'rank': 316, 'l2_reg_V': 0.0037704619842328503, 'n_iter': 2719} => AUC: 0.513135, Results: [0.00083165 0.00196483 0.00229468 ... 0.00178959 0.001631   0.00113934]\n",
      "[08:55:18] Params: {'init_stdev': 0.009600106561849996, 'step_size': 0.03657170301327375, 'l2_reg_w': 1.727845977486108, 'rank': 37, 'l2_reg_V': 0.0011059516176598133, 'n_iter': 127} => AUC: 0.471548, Results: [0.05399904 0.05825055 0.07392531 ... 0.0538613  0.04501041 0.0473306 ]\n",
      "[08:55:38] Params: {'init_stdev': 0.06738087132698554, 'step_size': 0.05461082552628821, 'l2_reg_w': 8.999218686336837, 'rank': 51, 'l2_reg_V': 0.00038674740823997633, 'n_iter': 596} => AUC: 0.506875, Results: [0.00036339 0.00183468 0.00095014 ... 0.0007906  0.00805651 0.00602402]\n"
     ]
    },
    {
     "name": "stderr",
     "output_type": "stream",
     "text": [
      "/usr/local/lib/python3.5/dist-packages/scipy/stats/_distn_infrastructure.py:879: RuntimeWarning: invalid value encountered in greater\n",
      "  return (self.a < x) & (x < self.b)\n",
      "/usr/local/lib/python3.5/dist-packages/scipy/stats/_distn_infrastructure.py:879: RuntimeWarning: invalid value encountered in less\n",
      "  return (self.a < x) & (x < self.b)\n",
      "/usr/local/lib/python3.5/dist-packages/scipy/stats/_distn_infrastructure.py:1738: RuntimeWarning: invalid value encountered in greater_equal\n",
      "  cond2 = (x >= self.b) & cond0\n"
     ]
    },
    {
     "name": "stdout",
     "output_type": "stream",
     "text": [
      "[08:55:58] Params: {'init_stdev': 0.2568908491137346, 'step_size': 0.022081755908824576, 'l2_reg_w': 995.3754142815145, 'rank': 66, 'l2_reg_V': 0.687903244585158, 'n_iter': 8777} => Failed\n",
      "[08:56:37] Params: {'init_stdev': 0.005559190922129843, 'step_size': 0.011535415522545972, 'l2_reg_w': 0.0017868719614951205, 'rank': 131, 'l2_reg_V': 1.1545975093327447, 'n_iter': 376} => AUC: 0.499990, Results: [0.00610547 0.00914728 0.0254414  ... 0.01420995 0.0079133  0.00661974]\n",
      "[08:56:46] Params: {'init_stdev': 0.007887967335663626, 'step_size': 0.0182380848438914, 'l2_reg_w': 0.5120244073653696, 'rank': 8, 'l2_reg_V': 0.009300057475147696, 'n_iter': 8} => AUC: 0.504566, Results: [0.38629637 0.38471346 0.42757237 ... 0.41224427 0.39518315 0.39060594]\n",
      "[08:57:02] Params: {'init_stdev': 0.0039510990894326, 'step_size': 0.013835589357204432, 'l2_reg_w': 0.012413998615937056, 'rank': 33, 'l2_reg_V': 0.0007197920502349916, 'n_iter': 1032} => AUC: 0.516488, Results: [0.00051179 0.00101179 0.00446799 ... 0.00289102 0.00115662 0.00077132]\n",
      "[08:57:12] Params: {'init_stdev': 0.04094725365177128, 'step_size': 0.04224802452482896, 'l2_reg_w': 0.052730625455304485, 'rank': 15, 'l2_reg_V': 4690.854714080052, 'n_iter': 74} => AUC: 0.496828, Results: [1. 1. 1. ... 1. 1. 1.]\n",
      "[08:57:30] Params: {'init_stdev': 0.1475224120023725, 'step_size': 0.06309017219251085, 'l2_reg_w': 0.0001984052792986008, 'rank': 43, 'l2_reg_V': 9.330407950750784e-05, 'n_iter': 221} => AUC: 0.491933, Results: [0.00011668 0.00028593 0.00309038 ... 0.00020295 0.00576645 0.00628968]\n",
      "[08:58:16] Params: {'init_stdev': 0.03054401798176742, 'step_size': 0.03127258052793458, 'l2_reg_w': 0.028284357449527415, 'rank': 161, 'l2_reg_V': 0.0019856612533290163, 'n_iter': 466} => AUC: 0.508092, Results: [0.00055139 0.0016634  0.00535759 ... 0.00170743 0.000936   0.00117388]\n",
      "[08:58:29] Params: {'init_stdev': 0.3323075551080865, 'step_size': 0.010027761828650197, 'l2_reg_w': 1.8047930187446208, 'rank': 19, 'l2_reg_V': 32.833072869898544, 'n_iter': 1596} => AUC: 0.502791, Results: [0.00762853 0.01595794 0.01422886 ... 0.03153403 0.01885133 0.02550884]\n",
      "[08:59:00] Params: {'init_stdev': 0.197015213751168, 'step_size': 0.05077554772679659, 'l2_reg_w': 0.0066236781196923, 'rank': 98, 'l2_reg_V': 0.11716175035897174, 'n_iter': 259} => AUC: 0.513067, Results: [5.02791511e-05 1.21046365e-04 1.26208088e-03 ... 2.27069012e-03\n",
      " 2.59815740e-01 4.21945364e-02]\n",
      "[09:01:32] Params: {'init_stdev': 0.05670547461643047, 'step_size': 0.017278283342979657, 'l2_reg_w': 0.0029950474626277766, 'rank': 593, 'l2_reg_V': 0.29926563139693124, 'n_iter': 844} => AUC: 0.531227, Results: [0.0008767  0.00138305 0.00826964 ... 0.00457687 0.0050715  0.0045538 ]\n",
      "[09:02:54] Params: {'init_stdev': 0.8959195325620973, 'step_size': 0.026109464858069358, 'l2_reg_w': 9.980760193407679e-05, 'rank': 318, 'l2_reg_V': 1.7794966190294146e-05, 'n_iter': 44} => AUC: 0.499089, Results: [0. 0. 0. ... 0. 1. 0.]\n",
      "[09:03:16] Params: {'init_stdev': 0.5660880237624722, 'step_size': 0.02147265504407225, 'l2_reg_w': 25.536976896894714, 'rank': 60, 'l2_reg_V': 0.024081606249159247, 'n_iter': 21} => AUC: 0.492940, Results: [2.70298682e-060 3.82161526e-002 4.41380428e-133 ... 1.52981780e-078\n",
      " 1.00000000e+000 3.60742307e-033]\n",
      "[09:03:43] Params: {'init_stdev': 0.10397542652490117, 'step_size': 0.0321651624742742, 'l2_reg_w': 0.0003750283271494097, 'rank': 76, 'l2_reg_V': 5.077351209023292e-05, 'n_iter': 3146} => AUC: 0.556077, Results: [3.61473192e-06 1.58177400e-04 2.21697407e-04 ... 3.06012367e-02\n",
      " 4.29925056e-02 1.98551414e-03]\n",
      "[09:03:54] Params: {'init_stdev': 0.07282665781359181, 'step_size': 0.019412440647457226, 'l2_reg_w': 0.12617159458727445, 'rank': 16, 'l2_reg_V': 8.469045163626197, 'n_iter': 5180} => AUC: 0.565249, Results: [0.00070458 0.00117544 0.0015682  ... 0.00888326 0.00488849 0.00169653]\n",
      "[09:04:04] Params: {'init_stdev': 0.0141965907222366, 'step_size': 0.014961924080673606, 'l2_reg_w': 4.767262185510116, 'rank': 11, 'l2_reg_V': 0.012379777616637304, 'n_iter': 2} => AUC: 0.509589, Results: [0.45536824 0.46934817 0.49178602 ... 0.48026799 0.48214897 0.47737842]\n",
      "[09:04:17] Params: {'init_stdev': 0.022263335458131688, 'step_size': 0.011056410809770736, 'l2_reg_w': 0.0009392215871247176, 'rank': 24, 'l2_reg_V': 0.05376770703118159, 'n_iter': 686} => AUC: 0.508631, Results: [0.00093819 0.00211767 0.00946764 ... 0.00454061 0.00223527 0.00135141]\n",
      "[09:05:31] Params: {'init_stdev': 0.00332362379459687, 'step_size': 0.024302794743235018, 'l2_reg_w': 0.2507658377352412, 'rank': 277, 'l2_reg_V': 0.4889046283809194, 'n_iter': 1260} => AUC: 0.545655, Results: [0.00274161 0.00298276 0.00539273 ... 0.00488911 0.00296694 0.00263053]\n"
     ]
    },
    {
     "name": "stderr",
     "output_type": "stream",
     "text": [
      "/usr/local/lib/python3.5/dist-packages/scipy/stats/_distn_infrastructure.py:879: RuntimeWarning: invalid value encountered in greater\n",
      "  return (self.a < x) & (x < self.b)\n",
      "/usr/local/lib/python3.5/dist-packages/scipy/stats/_distn_infrastructure.py:879: RuntimeWarning: invalid value encountered in less\n",
      "  return (self.a < x) & (x < self.b)\n",
      "/usr/local/lib/python3.5/dist-packages/scipy/stats/_distn_infrastructure.py:1738: RuntimeWarning: invalid value encountered in greater_equal\n",
      "  cond2 = (x >= self.b) & cond0\n"
     ]
    },
    {
     "name": "stdout",
     "output_type": "stream",
     "text": [
      "[09:07:18] Params: {'init_stdev': 0.08779147443673502, 'step_size': 0.012442552973299412, 'l2_reg_w': 0.022226094326628528, 'rank': 425, 'l2_reg_V': 75221.49829419807, 'n_iter': 2009} => Failed\n",
      "[09:07:35] Params: {'init_stdev': 0.012128391052805916, 'step_size': 0.027186463674704273, 'l2_reg_w': 0.0854087109636064, 'rank': 40, 'l2_reg_V': 3.391988880028682e-05, 'n_iter': 7309} => AUC: 0.556691, Results: [0.00097516 0.00111313 0.00099649 ... 0.00356704 0.00630719 0.00226014]\n"
     ]
    },
    {
     "name": "stderr",
     "output_type": "stream",
     "text": [
      "/usr/local/lib/python3.5/dist-packages/scipy/stats/_distn_infrastructure.py:879: RuntimeWarning: invalid value encountered in greater\n",
      "  return (self.a < x) & (x < self.b)\n",
      "/usr/local/lib/python3.5/dist-packages/scipy/stats/_distn_infrastructure.py:879: RuntimeWarning: invalid value encountered in less\n",
      "  return (self.a < x) & (x < self.b)\n",
      "/usr/local/lib/python3.5/dist-packages/scipy/stats/_distn_infrastructure.py:1738: RuntimeWarning: invalid value encountered in greater_equal\n",
      "  cond2 = (x >= self.b) & cond0\n"
     ]
    },
    {
     "name": "stdout",
     "output_type": "stream",
     "text": [
      "[09:11:27] Params: {'init_stdev': 0.4531732720499353, 'step_size': 0.03879383920394379, 'l2_reg_w': 103.15368949595265, 'rank': 952, 'l2_reg_V': 0.1914302376520486, 'n_iter': 2743} => Failed\n"
     ]
    },
    {
     "name": "stderr",
     "output_type": "stream",
     "text": [
      "/usr/local/lib/python3.5/dist-packages/scipy/stats/_distn_infrastructure.py:879: RuntimeWarning: invalid value encountered in greater\n",
      "  return (self.a < x) & (x < self.b)\n",
      "/usr/local/lib/python3.5/dist-packages/scipy/stats/_distn_infrastructure.py:879: RuntimeWarning: invalid value encountered in less\n",
      "  return (self.a < x) & (x < self.b)\n",
      "/usr/local/lib/python3.5/dist-packages/scipy/stats/_distn_infrastructure.py:1738: RuntimeWarning: invalid value encountered in greater_equal\n",
      "  cond2 = (x >= self.b) & cond0\n"
     ]
    },
    {
     "name": "stdout",
     "output_type": "stream",
     "text": [
      "[09:11:35] Params: {'init_stdev': 0.049559951183100664, 'step_size': 0.06102122043713544, 'l2_reg_w': 4890.716934101103, 'rank': 13, 'l2_reg_V': 0.00015992345717339074, 'n_iter': 187} => Failed\n",
      "[09:12:02] Params: {'init_stdev': 0.11521631128702964, 'step_size': 0.015822363845488352, 'l2_reg_w': 0.0012747896093680173, 'rank': 84, 'l2_reg_V': 0.005984633616928366, 'n_iter': 6170} => AUC: 0.533256, Results: [1.32403993e-04 2.78630177e-05 8.40506399e-04 ... 2.10523874e-03\n",
      " 2.53196323e-03 2.09147952e-03]\n",
      "[09:12:38] Params: {'init_stdev': 0.03442127458602395, 'step_size': 0.013795341816969143, 'l2_reg_w': 4.602659315500664e-05, 'rank': 121, 'l2_reg_V': 0.0009722423730652105, 'n_iter': 4098} => AUC: 0.562317, Results: [8.21773019e-05 6.68788695e-04 3.21477277e-03 ... 9.90932786e-03\n",
      " 4.75730190e-03 4.15627937e-04]\n",
      "[09:13:35] Params: {'init_stdev': 0.04206659929187956, 'step_size': 0.019833674430853054, 'l2_reg_w': 0.42874407936746695, 'rank': 208, 'l2_reg_V': 0.0021944064226228793, 'n_iter': 5} => AUC: 0.496332, Results: [0.33625139 0.3786325  0.39420911 ... 0.36198811 0.35878347 0.41564948]\n",
      "[09:13:49] Params: {'init_stdev': 0.006408491318839929, 'step_size': 0.07041390434694583, 'l2_reg_w': 0.0027205750908501254, 'rank': 29, 'l2_reg_V': 3.916009201191599, 'n_iter': 8469} => AUC: 0.547784, Results: [1.69552841e-04 1.92086708e-05 3.91042701e-04 ... 1.21776322e-02\n",
      " 2.94227168e-02 5.07784168e-03]\n"
     ]
    },
    {
     "name": "stderr",
     "output_type": "stream",
     "text": [
      "/usr/local/lib/python3.5/dist-packages/scipy/stats/_distn_infrastructure.py:879: RuntimeWarning: invalid value encountered in greater\n",
      "  return (self.a < x) & (x < self.b)\n",
      "/usr/local/lib/python3.5/dist-packages/scipy/stats/_distn_infrastructure.py:879: RuntimeWarning: invalid value encountered in less\n",
      "  return (self.a < x) & (x < self.b)\n",
      "/usr/local/lib/python3.5/dist-packages/scipy/stats/_distn_infrastructure.py:1738: RuntimeWarning: invalid value encountered in greater_equal\n",
      "  cond2 = (x >= self.b) & cond0\n"
     ]
    },
    {
     "name": "stdout",
     "output_type": "stream",
     "text": [
      "[09:13:55] Params: {'init_stdev': 0.0631375254028848, 'step_size': 0.0289013138169012, 'l2_reg_w': 0.01332975342894065, 'rank': 6, 'l2_reg_V': 419.67490228370536, 'n_iter': 1617} => Failed\n",
      "[09:14:14] Params: {'init_stdev': 0.00850953312787144, 'step_size': 0.01004811645510306, 'l2_reg_w': 0.03846782144213038, 'rank': 51, 'l2_reg_V': 1.6935681334218395, 'n_iter': 1} => AUC: 0.500104, Results: [0.480909   0.48402397 0.5006991  ... 0.48869894 0.49322432 0.48962107]\n",
      "[09:14:57] Params: {'init_stdev': 0.020290492297380065, 'step_size': 0.011773376029285255, 'l2_reg_w': 0.0005735578111730647, 'rank': 153, 'l2_reg_V': 0.00043100583551801956, 'n_iter': 93} => AUC: 0.500271, Results: [0.10375688 0.1180092  0.18080438 ... 0.13442644 0.11340601 0.1006723 ]\n",
      "[09:15:29] Params: {'init_stdev': 0.3253045899435707, 'step_size': 0.09087554641572446, 'l2_reg_w': 1.7708112231774354e-05, 'rank': 102, 'l2_reg_V': 0.04572332243430529, 'n_iter': 458} => AUC: 0.522979, Results: [5.40550532e-09 6.30480011e-04 1.33173905e-11 ... 7.82430021e-26\n",
      " 2.35341351e-03 1.97757359e-06]\n",
      "[09:15:41] Params: {'init_stdev': 0.23811356069847836, 'step_size': 0.04327863824612584, 'l2_reg_w': 1.096637675840362, 'rank': 23, 'l2_reg_V': 0.10853573882797214, 'n_iter': 307} => AUC: 0.501575, Results: [0.00192863 0.02283907 0.03247655 ... 0.02685015 0.01852162 0.03733457]\n"
     ]
    },
    {
     "name": "stderr",
     "output_type": "stream",
     "text": [
      "/usr/local/lib/python3.5/dist-packages/scipy/stats/_distn_infrastructure.py:879: RuntimeWarning: invalid value encountered in greater\n",
      "  return (self.a < x) & (x < self.b)\n",
      "/usr/local/lib/python3.5/dist-packages/scipy/stats/_distn_infrastructure.py:879: RuntimeWarning: invalid value encountered in less\n",
      "  return (self.a < x) & (x < self.b)\n",
      "/usr/local/lib/python3.5/dist-packages/scipy/stats/_distn_infrastructure.py:1738: RuntimeWarning: invalid value encountered in greater_equal\n",
      "  cond2 = (x >= self.b) & cond0\n"
     ]
    },
    {
     "name": "stdout",
     "output_type": "stream",
     "text": [
      "[09:15:53] Params: {'init_stdev': 0.07735768249643273, 'step_size': 0.03527273253427907, 'l2_reg_w': 88647.70721651799, 'rank': 32, 'l2_reg_V': 0.004093773754551372, 'n_iter': 1002} => Failed\n"
     ]
    },
    {
     "name": "stderr",
     "output_type": "stream",
     "text": [
      "/usr/local/lib/python3.5/dist-packages/scipy/stats/_distn_infrastructure.py:879: RuntimeWarning: invalid value encountered in greater\n",
      "  return (self.a < x) & (x < self.b)\n",
      "/usr/local/lib/python3.5/dist-packages/scipy/stats/_distn_infrastructure.py:879: RuntimeWarning: invalid value encountered in less\n",
      "  return (self.a < x) & (x < self.b)\n",
      "/usr/local/lib/python3.5/dist-packages/scipy/stats/_distn_infrastructure.py:1738: RuntimeWarning: invalid value encountered in greater_equal\n",
      "  cond2 = (x >= self.b) & cond0\n"
     ]
    },
    {
     "name": "stdout",
     "output_type": "stream",
     "text": [
      "[09:15:58] Params: {'init_stdev': 0.024278446813624163, 'step_size': 0.05082828762611604, 'l2_reg_w': 6.003111553874443, 'rank': 4, 'l2_reg_V': 90.49597416010762, 'n_iter': 2269} => Failed\n",
      "[09:16:21] Params: {'init_stdev': 0.14653586509279043, 'step_size': 0.017710312416211692, 'l2_reg_w': 16.163236694632655, 'rank': 67, 'l2_reg_V': 20.420650133247523, 'n_iter': 3571} => AUC: 0.495252, Results: [0.0016198  0.00164908 0.0016951  ... 0.00167711 0.00170041 0.00166525]\n",
      "[09:16:31] Params: {'init_stdev': 0.00464738743119722, 'step_size': 0.013169756574864041, 'l2_reg_w': 0.16835587085119091, 'rank': 8, 'l2_reg_V': 0.00028667267469364554, 'n_iter': 5725} => AUC: 0.560443, Results: [0.0032289  0.00251581 0.00398051 ... 0.00687679 0.00650907 0.00353737]\n",
      "[09:17:37] Params: {'init_stdev': 0.016268351170063363, 'step_size': 0.022749248733415744, 'l2_reg_w': 0.6311318732180273, 'rank': 247, 'l2_reg_V': 0.02973789930212427, 'n_iter': 9856} => AUC: 0.548241, Results: [0.00086753 0.00103944 0.00098487 ... 0.00149362 0.00173136 0.00100812]\n",
      "[09:18:26] Params: {'init_stdev': 0.028600404551485683, 'step_size': 0.07499457739308177, 'l2_reg_w': 0.006894083718475156, 'rank': 179, 'l2_reg_V': 0.0006186976832409703, 'n_iter': 588} => AUC: 0.534613, Results: [0.00027927 0.0014272  0.00129895 ... 0.0010087  0.00136404 0.00252503]\n",
      "[09:18:38] Params: {'init_stdev': 0.002013718130002017, 'step_size': 0.015092777296189701, 'l2_reg_w': 0.05546825246354765, 'rank': 18, 'l2_reg_V': 0.000131797641027277, 'n_iter': 7049} => AUC: 0.554658, Results: [0.00061232 0.00037047 0.00113783 ... 0.00361985 0.00296705 0.00085681]\n",
      "[09:18:59] Params: {'init_stdev': 0.04625486987781674, 'step_size': 0.03787123616490954, 'l2_reg_w': 0.08736134321865892, 'rank': 60, 'l2_reg_V': 1.6936044212183738e-05, 'n_iter': 59} => AUC: 0.500339, Results: [0.03309477 0.05703652 0.09778544 ... 0.05783535 0.06308585 0.03937915]\n",
      "[09:19:09] Params: {'init_stdev': 0.039726669213615895, 'step_size': 0.011226060526698552, 'l2_reg_w': 1.7366706032256036, 'rank': 10, 'l2_reg_V': 0.015350313189770454, 'n_iter': 4334} => AUC: 0.513942, Results: [0.00337002 0.00390818 0.00315591 ... 0.00411408 0.00418386 0.00408603]\n",
      "[09:21:35] Params: {'init_stdev': 0.18348182145879857, 'step_size': 0.019121575086111894, 'l2_reg_w': 0.00014348397082379104, 'rank': 586, 'l2_reg_V': 0.0015592781881219168, 'n_iter': 1866} => AUC: 0.528131, Results: [2.08565108e-80 4.34272497e-56 2.90933729e-16 ... 1.01183216e-09\n",
      " 1.88075067e-02 3.98786876e-05]\n",
      "[09:21:53] Params: {'init_stdev': 0.018283679684562442, 'step_size': 0.017024540519566065, 'l2_reg_w': 54.29587904357171, 'rank': 47, 'l2_reg_V': 0.0034610653941681666, 'n_iter': 733} => AUC: 0.497539, Results: [0.01251137 0.01351291 0.01461221 ... 0.01386778 0.01365263 0.01304083]\n",
      "[09:22:02] Params: {'init_stdev': 0.0015277228760884143, 'step_size': 0.0331440425690911, 'l2_reg_w': 7.413190623361246e-05, 'rank': 4, 'l2_reg_V': 9.308962978166812e-05, 'n_iter': 144} => AUC: 0.491096, Results: [0.00630583 0.00833217 0.02456512 ... 0.01055191 0.00550225 0.00563438]\n",
      "[09:23:43] Params: {'init_stdev': 0.3836139606723691, 'step_size': 0.010460754960242057, 'l2_reg_w': 0.00403833553763921, 'rank': 402, 'l2_reg_V': 7.269112179646258, 'n_iter': 2538} => AUC: 0.516867, Results: [4.48394757e-06 9.29205059e-05 5.61175260e-02 ... 4.74352513e-03\n",
      " 3.00427981e-03 7.10792809e-04]\n",
      "[09:23:52] Params: {'init_stdev': 0.053365073829613016, 'step_size': 0.10680255200677702, 'l2_reg_w': 0.000396793191155088, 'rank': 3, 'l2_reg_V': 0.009602530085225646, 'n_iter': 91} => AUC: 0.473491, Results: [0.01384317 0.01467327 0.04268077 ... 0.00913978 0.00486922 0.00405123]\n",
      "[09:24:08] Params: {'init_stdev': 0.7910834848171067, 'step_size': 0.02392800464421171, 'l2_reg_w': 0.33628880028407004, 'rank': 37, 'l2_reg_V': 0.7352003031625568, 'n_iter': 13} => AUC: 0.493280, Results: [8.32799783e-022 7.52568948e-021 2.32151690e-109 ... 1.32197472e-085\n",
      " 1.00000000e+000 3.91123852e-052]\n"
     ]
    },
    {
     "name": "stderr",
     "output_type": "stream",
     "text": [
      "/usr/local/lib/python3.5/dist-packages/scipy/stats/_distn_infrastructure.py:879: RuntimeWarning: invalid value encountered in greater\n",
      "  return (self.a < x) & (x < self.b)\n",
      "/usr/local/lib/python3.5/dist-packages/scipy/stats/_distn_infrastructure.py:879: RuntimeWarning: invalid value encountered in less\n",
      "  return (self.a < x) & (x < self.b)\n",
      "/usr/local/lib/python3.5/dist-packages/scipy/stats/_distn_infrastructure.py:1738: RuntimeWarning: invalid value encountered in greater_equal\n",
      "  cond2 = (x >= self.b) & cond0\n"
     ]
    },
    {
     "name": "stdout",
     "output_type": "stream",
     "text": [
      "[09:24:15] Params: {'init_stdev': 0.009732512648153436, 'step_size': 0.0483545682058856, 'l2_reg_w': 0.014382859730450705, 'rank': 13, 'l2_reg_V': 17783.885145150995, 'n_iter': 1159} => Failed\n",
      "[09:24:41] Params: {'init_stdev': 0.09115621470700881, 'step_size': 0.021100110821328802, 'l2_reg_w': 0.0019622977291350735, 'rank': 78, 'l2_reg_V': 2.783401793675107e-05, 'n_iter': 360} => AUC: 0.490113, Results: [0.00064579 0.00156425 0.00904372 ... 0.0021015  0.00563025 0.00662246]\n",
      "[09:25:16] Params: {'init_stdev': 0.032156451984646804, 'step_size': 0.057804702299139796, 'l2_reg_w': 10.761303370511131, 'rank': 121, 'l2_reg_V': 4.483981172705618e-05, 'n_iter': 42} => AUC: 0.479101, Results: [0.1860228  0.1997896  0.19579608 ... 0.16228145 0.18360255 0.14848849]\n",
      "[09:25:29] Params: {'init_stdev': 0.011123593733574263, 'step_size': 0.012805665288779342, 'l2_reg_w': 0.000768180993591923, 'rank': 22, 'l2_reg_V': 0.07359892370934347, 'n_iter': 3203} => AUC: 0.549645, Results: [0.00028256 0.00130214 0.00545535 ... 0.00667331 0.00305799 0.00068743]\n"
     ]
    },
    {
     "name": "stderr",
     "output_type": "stream",
     "text": [
      "/usr/local/lib/python3.5/dist-packages/scipy/stats/_distn_infrastructure.py:879: RuntimeWarning: invalid value encountered in greater\n",
      "  return (self.a < x) & (x < self.b)\n",
      "/usr/local/lib/python3.5/dist-packages/scipy/stats/_distn_infrastructure.py:879: RuntimeWarning: invalid value encountered in less\n",
      "  return (self.a < x) & (x < self.b)\n",
      "/usr/local/lib/python3.5/dist-packages/scipy/stats/_distn_infrastructure.py:1738: RuntimeWarning: invalid value encountered in greater_equal\n",
      "  cond2 = (x >= self.b) & cond0\n"
     ]
    },
    {
     "name": "stdout",
     "output_type": "stream",
     "text": [
      "[09:26:20] Params: {'init_stdev': 0.20904935786679754, 'step_size': 0.028118872239362512, 'l2_reg_w': 2.985576434051938, 'rank': 196, 'l2_reg_V': 1270.985672604799, 'n_iter': 4510} => Failed\n"
     ]
    },
    {
     "name": "stderr",
     "output_type": "stream",
     "text": [
      "/usr/local/lib/python3.5/dist-packages/scipy/stats/_distn_infrastructure.py:879: RuntimeWarning: invalid value encountered in greater\n",
      "  return (self.a < x) & (x < self.b)\n",
      "/usr/local/lib/python3.5/dist-packages/scipy/stats/_distn_infrastructure.py:879: RuntimeWarning: invalid value encountered in less\n",
      "  return (self.a < x) & (x < self.b)\n",
      "/usr/local/lib/python3.5/dist-packages/scipy/stats/_distn_infrastructure.py:1738: RuntimeWarning: invalid value encountered in greater_equal\n",
      "  cond2 = (x >= self.b) & cond0\n"
     ]
    },
    {
     "name": "stdout",
     "output_type": "stream",
     "text": [
      "[09:26:27] Params: {'init_stdev': 0.1259807718450244, 'step_size': 0.03094232923478997, 'l2_reg_w': 178.32954985548648, 'rank': 12, 'l2_reg_V': 0.00018551540500269647, 'n_iter': 9832} => Failed\n",
      "[09:26:44] Params: {'init_stdev': 0.01409994290528613, 'step_size': 0.014535240397614597, 'l2_reg_w': 0.19632530247195054, 'rank': 41, 'l2_reg_V': 0.005731291898976786, 'n_iter': 1554} => AUC: 0.530785, Results: [0.0013245  0.00218857 0.00565304 ... 0.00329094 0.0019185  0.00193142]\n",
      "[09:26:59] Params: {'init_stdev': 0.16137754479668184, 'step_size': 0.08379557853948595, 'l2_reg_w': 0.01002947207851393, 'rank': 30, 'l2_reg_V': 1.1372916076498142e-05, 'n_iter': 26} => AUC: 0.503513, Results: [0.00130358 0.00325509 0.01666169 ... 0.00491055 0.01289188 0.00246635]\n",
      "[09:28:28] Params: {'init_stdev': 0.06740100218433025, 'step_size': 0.06603761271057487, 'l2_reg_w': 0.00025304415724996534, 'rank': 345, 'l2_reg_V': 2.2165688321273156, 'n_iter': 975} => AUC: 0.554165, Results: [0.00046379 0.00123249 0.00472608 ... 0.01111195 0.0045173  0.00279638]\n",
      "[09:28:39] Params: {'init_stdev': 0.07631176391555991, 'step_size': 0.019649253303778817, 'l2_reg_w': 0.0284397930670738, 'rank': 16, 'l2_reg_V': 10.083794017291726, 'n_iter': 5843} => AUC: 0.564220, Results: [0.00046857 0.00055963 0.00342483 ... 0.01180182 0.00667129 0.0016209 ]\n",
      "[09:28:59] Params: {'init_stdev': 0.10166201417958401, 'step_size': 0.026574765647272323, 'l2_reg_w': 0.14600225092659505, 'rank': 53, 'l2_reg_V': 45.27831315953574, 'n_iter': 6938} => AUC: 0.538051, Results: [0.00074388 0.00078778 0.00070043 ... 0.00358187 0.00315945 0.00141047]\n"
     ]
    },
    {
     "name": "stderr",
     "output_type": "stream",
     "text": [
      "/usr/local/lib/python3.5/dist-packages/scipy/stats/_distn_infrastructure.py:879: RuntimeWarning: invalid value encountered in greater\n",
      "  return (self.a < x) & (x < self.b)\n",
      "/usr/local/lib/python3.5/dist-packages/scipy/stats/_distn_infrastructure.py:879: RuntimeWarning: invalid value encountered in less\n",
      "  return (self.a < x) & (x < self.b)\n",
      "/usr/local/lib/python3.5/dist-packages/scipy/stats/_distn_infrastructure.py:1738: RuntimeWarning: invalid value encountered in greater_equal\n",
      "  cond2 = (x >= self.b) & cond0\n"
     ]
    },
    {
     "name": "stdout",
     "output_type": "stream",
     "text": [
      "[09:29:09] Params: {'init_stdev': 0.02278783489644823, 'step_size': 0.01657506921521086, 'l2_reg_w': 0.058636937451429075, 'rank': 26, 'l2_reg_V': 179.4453581617788, 'n_iter': 5013} => Failed\n",
      "[09:29:21] Params: {'init_stdev': 0.037369771307077033, 'step_size': 0.041086189116767126, 'l2_reg_w': 0.7931497276259892, 'rank': 17, 'l2_reg_V': 0.2842912838939458, 'n_iter': 9989} => AUC: 0.537476, Results: [0.00219801 0.00272054 0.00174057 ... 0.00337549 0.00470275 0.00225986]\n",
      "[09:29:49] Params: {'init_stdev': 0.028272453725238664, 'step_size': 0.013890061843768538, 'l2_reg_w': 0.10585435588985233, 'rank': 90, 'l2_reg_V': 14.104366389442157, 'n_iter': 5256} => AUC: 0.568187, Results: [0.00148712 0.00227456 0.00307467 ... 0.01150116 0.0071991  0.00293399]\n",
      "[09:31:03] Params: {'init_stdev': 0.028249181699519964, 'step_size': 0.011821190881253647, 'l2_reg_w': 0.005881026403479877, 'rank': 279, 'l2_reg_V': 18.053572950551175, 'n_iter': 3451} => AUC: 0.551545, Results: [0.000361   0.00136455 0.00751713 ... 0.00859755 0.00388217 0.00090936]\n"
     ]
    },
    {
     "name": "stderr",
     "output_type": "stream",
     "text": [
      "/usr/local/lib/python3.5/dist-packages/scipy/stats/_distn_infrastructure.py:879: RuntimeWarning: invalid value encountered in greater\n",
      "  return (self.a < x) & (x < self.b)\n",
      "/usr/local/lib/python3.5/dist-packages/scipy/stats/_distn_infrastructure.py:879: RuntimeWarning: invalid value encountered in less\n",
      "  return (self.a < x) & (x < self.b)\n",
      "/usr/local/lib/python3.5/dist-packages/scipy/stats/_distn_infrastructure.py:1738: RuntimeWarning: invalid value encountered in greater_equal\n",
      "  cond2 = (x >= self.b) & cond0\n"
     ]
    },
    {
     "name": "stdout",
     "output_type": "stream",
     "text": [
      "[09:31:33] Params: {'init_stdev': 0.06198823768207062, 'step_size': 0.010074994904072368, 'l2_reg_w': 0.017321239069511298, 'rank': 107, 'l2_reg_V': 313.7202993112882, 'n_iter': 2607} => Failed\n"
     ]
    },
    {
     "name": "stderr",
     "output_type": "stream",
     "text": [
      "/usr/local/lib/python3.5/dist-packages/scipy/stats/_distn_infrastructure.py:879: RuntimeWarning: invalid value encountered in greater\n",
      "  return (self.a < x) & (x < self.b)\n",
      "/usr/local/lib/python3.5/dist-packages/scipy/stats/_distn_infrastructure.py:879: RuntimeWarning: invalid value encountered in less\n",
      "  return (self.a < x) & (x < self.b)\n",
      "/usr/local/lib/python3.5/dist-packages/scipy/stats/_distn_infrastructure.py:1738: RuntimeWarning: invalid value encountered in greater_equal\n",
      "  cond2 = (x >= self.b) & cond0\n"
     ]
    },
    {
     "name": "stdout",
     "output_type": "stream",
     "text": [
      "[09:31:59] Params: {'init_stdev': 0.01820811424140349, 'step_size': 0.015577616648821234, 'l2_reg_w': 0.3083012276577073, 'rank': 91, 'l2_reg_V': 666.2797419406535, 'n_iter': 8276} => Failed\n",
      "[09:32:41] Params: {'init_stdev': 0.00713666933112464, 'step_size': 0.014044542754471189, 'l2_reg_w': 0.03791821842544722, 'rank': 142, 'l2_reg_V': 67.82434821666165, 'n_iter': 2234} => AUC: 0.544931, Results: [0.00034461 0.00092558 0.00397829 ... 0.00323381 0.00161005 0.00080341]\n",
      "[09:33:10] Params: {'init_stdev': 0.053674437036022545, 'step_size': 0.01092963341828151, 'l2_reg_w': 0.10707106457166404, 'rank': 87, 'l2_reg_V': 5.793222129395162, 'n_iter': 1291} => AUC: 0.525273, Results: [0.00200828 0.00392468 0.01747561 ... 0.00880876 0.00484214 0.00374933]\n"
     ]
    },
    {
     "name": "stderr",
     "output_type": "stream",
     "text": [
      "/usr/local/lib/python3.5/dist-packages/scipy/stats/_distn_infrastructure.py:879: RuntimeWarning: invalid value encountered in greater\n",
      "  return (self.a < x) & (x < self.b)\n",
      "/usr/local/lib/python3.5/dist-packages/scipy/stats/_distn_infrastructure.py:879: RuntimeWarning: invalid value encountered in less\n",
      "  return (self.a < x) & (x < self.b)\n",
      "/usr/local/lib/python3.5/dist-packages/scipy/stats/_distn_infrastructure.py:1738: RuntimeWarning: invalid value encountered in greater_equal\n",
      "  cond2 = (x >= self.b) & cond0\n"
     ]
    },
    {
     "name": "stdout",
     "output_type": "stream",
     "text": [
      "[09:33:54] Params: {'init_stdev': 0.03478048568461406, 'step_size': 0.013288430681769896, 'l2_reg_w': 1.2047582018824392, 'rank': 167, 'l2_reg_V': 1259.2153063596215, 'n_iter': 1866} => Failed\n"
     ]
    },
    {
     "name": "stderr",
     "output_type": "stream",
     "text": [
      "/usr/local/lib/python3.5/dist-packages/scipy/stats/_distn_infrastructure.py:879: RuntimeWarning: invalid value encountered in greater\n",
      "  return (self.a < x) & (x < self.b)\n",
      "/usr/local/lib/python3.5/dist-packages/scipy/stats/_distn_infrastructure.py:879: RuntimeWarning: invalid value encountered in less\n",
      "  return (self.a < x) & (x < self.b)\n",
      "/usr/local/lib/python3.5/dist-packages/scipy/stats/_distn_infrastructure.py:1738: RuntimeWarning: invalid value encountered in greater_equal\n",
      "  cond2 = (x >= self.b) & cond0\n"
     ]
    },
    {
     "name": "stdout",
     "output_type": "stream",
     "text": [
      "[09:34:52] Params: {'init_stdev': 0.045584969469070945, 'step_size': 0.021935670080572203, 'l2_reg_w': 0.001340695274084461, 'rank': 226, 'l2_reg_V': 2793.7662115616017, 'n_iter': 4847} => Failed\n",
      "[09:35:16] Params: {'init_stdev': 0.08317435151383208, 'step_size': 0.012307414186034354, 'l2_reg_w': 0.007776440324829097, 'rank': 69, 'l2_reg_V': 2.7581418144698446, 'n_iter': 1491} => AUC: 0.518177, Results: [0.00015572 0.00048289 0.00768568 ... 0.00215356 0.00085124 0.0003849 ]\n",
      "[09:35:31] Params: {'init_stdev': 0.015260897729526277, 'step_size': 0.024683780230048726, 'l2_reg_w': 0.0028206985350530556, 'rank': 34, 'l2_reg_V': 0.4407013836095907, 'n_iter': 806} => AUC: 0.524691, Results: [0.00045796 0.00106937 0.0034049  ... 0.00277474 0.0014765  0.00077131]\n",
      "[09:35:50] Params: {'init_stdev': 0.11389307779774728, 'step_size': 0.01769779319912106, 'l2_reg_w': 2.6420891005767344, 'rank': 49, 'l2_reg_V': 0.9929607927458484, 'n_iter': 7700} => AUC: 0.520401, Results: [0.00086775 0.00093248 0.00092628 ... 0.00097638 0.0009878  0.00088665]\n",
      "[09:36:12] Params: {'init_stdev': 0.026339396804898395, 'step_size': 0.010010174147598649, 'l2_reg_w': 0.07253759961950314, 'rank': 61, 'l2_reg_V': 29.416195629707293, 'n_iter': 3179} => AUC: 0.558811, Results: [0.00109981 0.00334542 0.00857746 ... 0.00958687 0.00556003 0.00286157]\n",
      "[09:36:37] Params: {'init_stdev': 0.020865481279578563, 'step_size': 0.015856958202058458, 'l2_reg_w': 0.4415073521282884, 'rank': 74, 'l2_reg_V': 0.1555851238809079, 'n_iter': 524} => AUC: 0.509789, Results: [0.00875807 0.01436758 0.02478698 ... 0.01715674 0.01105927 0.01301007]\n"
     ]
    },
    {
     "name": "stderr",
     "output_type": "stream",
     "text": [
      "/usr/local/lib/python3.5/dist-packages/scipy/stats/_distn_infrastructure.py:879: RuntimeWarning: invalid value encountered in greater\n",
      "  return (self.a < x) & (x < self.b)\n",
      "/usr/local/lib/python3.5/dist-packages/scipy/stats/_distn_infrastructure.py:879: RuntimeWarning: invalid value encountered in less\n",
      "  return (self.a < x) & (x < self.b)\n",
      "/usr/local/lib/python3.5/dist-packages/scipy/stats/_distn_infrastructure.py:1738: RuntimeWarning: invalid value encountered in greater_equal\n",
      "  cond2 = (x >= self.b) & cond0\n"
     ]
    },
    {
     "name": "stdout",
     "output_type": "stream",
     "text": [
      "[09:37:06] Params: {'init_stdev': 0.012679168856559633, 'step_size': 0.018548921543980093, 'l2_reg_w': 492.7103165445922, 'rank': 105, 'l2_reg_V': 0.028845644645900715, 'n_iter': 4008} => Failed\n",
      "[09:37:45] Params: {'init_stdev': 0.031830339098855125, 'step_size': 0.01076112276823526, 'l2_reg_w': 0.2347154480650093, 'rank': 131, 'l2_reg_V': 118.4582215550201, 'n_iter': 258} => AUC: 0.500395, Results: [0.02305613 0.0318399  0.07455255 ... 0.04592204 0.03511475 0.0293852 ]\n",
      "[09:38:02] Params: {'init_stdev': 0.057673523346683055, 'step_size': 0.02040819889701863, 'l2_reg_w': 0.045754513484242164, 'rank': 41, 'l2_reg_V': 0.0008596656604019833, 'n_iter': 5838} => AUC: 0.555940, Results: [0.00020593 0.00017511 0.00182243 ... 0.00636032 0.0053567  0.00092848]\n",
      "[09:38:48] Params: {'init_stdev': 0.0385046576010598, 'step_size': 0.014415840302236882, 'l2_reg_w': 0.02254114218597804, 'rank': 158, 'l2_reg_V': 0.09076648380997447, 'n_iter': 2080} => AUC: 0.541751, Results: [0.00021331 0.00078056 0.00535434 ... 0.00367425 0.00146922 0.00067313]\n",
      "[09:39:17] Params: {'init_stdev': 0.13764134304344414, 'step_size': 0.035574097823094265, 'l2_reg_w': 0.010166114354602488, 'rank': 90, 'l2_reg_V': 0.015340244173453229, 'n_iter': 2722} => AUC: 0.552588, Results: [2.36508916e-04 3.12643048e-02 2.36070235e-03 ... 3.81983524e-01\n",
      " 8.66619410e-02 6.35473403e-03]\n",
      "[09:42:45] Params: {'init_stdev': 0.008728984711477336, 'step_size': 0.011696564746559389, 'l2_reg_w': 0.0045814838776573755, 'rank': 840, 'l2_reg_V': 14.008368565898177, 'n_iter': 8453} => AUC: 0.559618, Results: [0.00011951 0.00017373 0.00131113 ... 0.00488518 0.00322886 0.00045254]\n",
      "[09:42:58] Params: {'init_stdev': 0.006003404126899492, 'step_size': 0.025278997030690566, 'l2_reg_w': 17.89753545137342, 'rank': 24, 'l2_reg_V': 0.04647468328281581, 'n_iter': 3} => AUC: 0.520919, Results: [0.44521744 0.45612702 0.46678864 ... 0.46485831 0.45918787 0.45855681]\n",
      "[09:43:08] Params: {'init_stdev': 0.29177088478968327, 'step_size': 0.013302654630867753, 'l2_reg_w': 0.0018875477749266533, 'rank': 9, 'l2_reg_V': 0.0021685438764788892, 'n_iter': 646} => AUC: 0.520755, Results: [1.11155695e-06 5.66374960e-04 2.24915169e-02 ... 1.39364080e-03\n",
      " 1.03526423e-01 1.21508310e-02]\n",
      "[09:43:43] Params: {'init_stdev': 0.10021120943639455, 'step_size': 0.023122947082322456, 'l2_reg_w': 6.434092855936563, 'rank': 116, 'l2_reg_V': 0.0004558151998017425, 'n_iter': 420} => AUC: 0.495083, Results: [0.00030623 0.00536775 0.0043484  ... 0.00098536 0.014232   0.0068467 ]\n",
      "[09:44:04] Params: {'init_stdev': 0.004680867927559222, 'step_size': 0.016501382351414524, 'l2_reg_w': 2.1353579232481956, 'rank': 58, 'l2_reg_V': 1.271676567919064, 'n_iter': 1246} => AUC: 0.530879, Results: [0.00762739 0.00787737 0.00819144 ... 0.00767158 0.0076082  0.00707187]\n",
      "[09:44:20] Params: {'init_stdev': 0.048162276204651744, 'step_size': 0.02977373933560718, 'l2_reg_w': 35.70009638887358, 'rank': 36, 'l2_reg_V': 3.585587812731628, 'n_iter': 6528} => AUC: 0.527947, Results: [0.00174135 0.00174223 0.00174251 ... 0.00174288 0.00174331 0.00173141]\n",
      "[09:44:32] Params: {'init_stdev': 0.02333104751506489, 'step_size': 0.012474871817086798, 'l2_reg_w': 0.1181681134373588, 'rank': 19, 'l2_reg_V': 7.260274678722582e-05, 'n_iter': 918} => AUC: 0.527870, Results: [0.00300243 0.00525768 0.01517407 ... 0.01073383 0.00649794 0.00509597]\n",
      "[09:44:49] Params: {'init_stdev': 0.07127231462366398, 'step_size': 0.021402284999648375, 'l2_reg_w': 1.0295790901867063, 'rank': 47, 'l2_reg_V': 8927.095639784364, 'n_iter': 1} => AUC: 0.508318, Results: [0. 0. 0. ... 0. 1. 0.]\n",
      "[09:46:46] Params: {'init_stdev': 0.1688118001946015, 'step_size': 0.12433302805622619, 'l2_reg_w': 0.022365031115677517, 'rank': 465, 'l2_reg_V': 0.2140696746334336, 'n_iter': 3809} => AUC: 0.548022, Results: [1.17590860e-05 2.71650737e-05 1.48387566e-04 ... 1.83826180e-02\n",
      " 4.74474599e-03 1.00729344e-04]\n",
      "[09:47:53] Params: {'init_stdev': 0.03037781377214133, 'step_size': 0.1370754874896686, 'l2_reg_w': 0.5952400961640548, 'rank': 249, 'l2_reg_V': 0.5667766808151267, 'n_iter': 4934} => AUC: 0.492043, Results: [0.00037487 0.00031322 0.00024647 ... 0.00017185 0.00017807 0.00021396]\n"
     ]
    },
    {
     "name": "stderr",
     "output_type": "stream",
     "text": [
      "/usr/local/lib/python3.5/dist-packages/scipy/stats/_distn_infrastructure.py:879: RuntimeWarning: invalid value encountered in greater\n",
      "  return (self.a < x) & (x < self.b)\n",
      "/usr/local/lib/python3.5/dist-packages/scipy/stats/_distn_infrastructure.py:879: RuntimeWarning: invalid value encountered in less\n",
      "  return (self.a < x) & (x < self.b)\n",
      "/usr/local/lib/python3.5/dist-packages/scipy/stats/_distn_infrastructure.py:1738: RuntimeWarning: invalid value encountered in greater_equal\n",
      "  cond2 = (x >= self.b) & cond0\n"
     ]
    },
    {
     "name": "stdout",
     "output_type": "stream",
     "text": [
      "[09:48:43] Params: {'init_stdev': 0.04130150454250609, 'step_size': 0.014701130710436308, 'l2_reg_w': 28899.815051759448, 'rank': 195, 'l2_reg_V': 0.006728181420454672, 'n_iter': 9825} => Failed\n"
     ]
    },
    {
     "name": "stderr",
     "output_type": "stream",
     "text": [
      "/usr/local/lib/python3.5/dist-packages/scipy/stats/_distn_infrastructure.py:879: RuntimeWarning: invalid value encountered in greater\n",
      "  return (self.a < x) & (x < self.b)\n",
      "/usr/local/lib/python3.5/dist-packages/scipy/stats/_distn_infrastructure.py:879: RuntimeWarning: invalid value encountered in less\n",
      "  return (self.a < x) & (x < self.b)\n",
      "/usr/local/lib/python3.5/dist-packages/scipy/stats/_distn_infrastructure.py:1738: RuntimeWarning: invalid value encountered in greater_equal\n",
      "  cond2 = (x >= self.b) & cond0\n"
     ]
    },
    {
     "name": "stdout",
     "output_type": "stream",
     "text": [
      "[09:48:54] Params: {'init_stdev': 0.01845548990335724, 'step_size': 0.033025531868245896, 'l2_reg_w': 1831.3317832643256, 'rank': 29, 'l2_reg_V': 0.002875262242589077, 'n_iter': 3005} => Failed\n",
      "[09:50:13] Params: {'init_stdev': 0.010720708542919306, 'step_size': 0.017740584545465884, 'l2_reg_w': 0.003497377529354872, 'rank': 303, 'l2_reg_V': 0.020242954754625616, 'n_iter': 1817} => AUC: 0.520462, Results: [6.07938669e-05 2.29810872e-04 2.15719172e-03 ... 6.44751194e-04\n",
      " 1.99509582e-04 1.18214926e-04]\n",
      "[09:51:50] Params: {'init_stdev': 0.08609831818145255, 'step_size': 0.011105043906290206, 'l2_reg_w': 0.013696040657948366, 'rank': 370, 'l2_reg_V': 0.0016495653296316015, 'n_iter': 9926} => AUC: 0.548905, Results: [2.19765638e-06 1.28833605e-04 1.08646258e-04 ... 4.39910767e-03\n",
      " 4.59189315e-04 5.60568824e-03]\n",
      "[09:52:16] Params: {'init_stdev': 0.06222872126612461, 'step_size': 0.026850095938899487, 'l2_reg_w': 0.0004626453435281434, 'rank': 80, 'l2_reg_V': 0.3374413180326078, 'n_iter': 2412} => AUC: 0.556250, Results: [8.87377979e-05 6.58076401e-04 6.68040999e-03 ... 7.07294622e-03\n",
      " 2.42405052e-03 4.98546761e-04]\n",
      "[09:52:27] Params: {'init_stdev': 0.11549958850965818, 'step_size': 0.04450730233601598, 'l2_reg_w': 0.0010940542367250947, 'rank': 14, 'l2_reg_V': 0.000285804584328747, 'n_iter': 1453} => AUC: 0.535461, Results: [1.37849935e-05 2.01663684e-04 2.89648994e-03 ... 5.74915499e-04\n",
      " 1.19076126e-03 1.73629301e-04]\n",
      "[09:52:46] Params: {'init_stdev': 0.015951557768641718, 'step_size': 0.018979991938378557, 'l2_reg_w': 0.08283331417201396, 'rank': 44, 'l2_reg_V': 0.13966855039027778, 'n_iter': 1115} => AUC: 0.542715, Results: [0.00486449 0.0075953  0.01798161 ... 0.01284656 0.00689097 0.00641533]\n"
     ]
    },
    {
     "name": "stderr",
     "output_type": "stream",
     "text": [
      "/usr/local/lib/python3.5/dist-packages/scipy/stats/_distn_infrastructure.py:879: RuntimeWarning: invalid value encountered in greater\n",
      "  return (self.a < x) & (x < self.b)\n",
      "/usr/local/lib/python3.5/dist-packages/scipy/stats/_distn_infrastructure.py:879: RuntimeWarning: invalid value encountered in less\n",
      "  return (self.a < x) & (x < self.b)\n",
      "/usr/local/lib/python3.5/dist-packages/scipy/stats/_distn_infrastructure.py:1738: RuntimeWarning: invalid value encountered in greater_equal\n",
      "  cond2 = (x >= self.b) & cond0\n"
     ]
    },
    {
     "name": "stdout",
     "output_type": "stream",
     "text": [
      "[09:53:06] Params: {'init_stdev': 0.011982207242827784, 'step_size': 0.19673992030803863, 'l2_reg_w': 0.1651032904718586, 'rank': 67, 'l2_reg_V': 223.14833507348192, 'n_iter': 7384} => Failed\n",
      "[09:53:47] Params: {'init_stdev': 0.2389403387352736, 'step_size': 0.015038213905348348, 'l2_reg_w': 0.00013959800802008438, 'rank': 143, 'l2_reg_V': 0.001076668620644481, 'n_iter': 4915} => AUC: 0.524488, Results: [1.40306546e-12 1.27196972e-06 3.87160075e-14 ... 2.98027435e-03\n",
      " 2.78103108e-08 1.58149250e-03]\n",
      "[09:56:03] Params: {'init_stdev': 0.03710573932301078, 'step_size': 0.0100887134195027, 'l2_reg_w': 0.000687847419780552, 'rank': 541, 'l2_reg_V': 0.01081462305441749, 'n_iter': 201} => AUC: 0.488987, Results: [0.01048965 0.01863154 0.06585516 ... 0.01524867 0.01714504 0.02061343]\n",
      "[09:56:12] Params: {'init_stdev': 0.003188955597235773, 'step_size': 0.013394283776379278, 'l2_reg_w': 0.04157439669519195, 'rank': 7, 'l2_reg_V': 0.038575424581610236, 'n_iter': 6123} => AUC: 0.560230, Results: [0.00119703 0.00097438 0.00346762 ... 0.00621312 0.00475375 0.00180778]\n",
      "[09:56:44] Params: {'init_stdev': 0.026534875149810386, 'step_size': 0.011848334857339098, 'l2_reg_w': 3.936178287339566, 'rank': 103, 'l2_reg_V': 49.86200395174939, 'n_iter': 3474} => AUC: 0.522152, Results: [0.00252541 0.00237107 0.00249541 ... 0.00272247 0.00282078 0.00245717]\n",
      "[09:57:04] Params: {'init_stdev': 0.0010147979402727802, 'step_size': 0.03679855836623601, 'l2_reg_w': 0.29074535913013105, 'rank': 53, 'l2_reg_V': 1.9158375634025309, 'n_iter': 5} => AUC: 0.499446, Results: [0.36554322 0.37270127 0.40597594 ... 0.3857183  0.3612648  0.36796605]\n",
      "[09:57:14] Params: {'init_stdev': 0.051883987682217296, 'step_size': 0.05283392851553718, 'l2_reg_w': 0.005622248138624704, 'rank': 11, 'l2_reg_V': 0.9356972715794296, 'n_iter': 120} => AUC: 0.486734, Results: [0.00354761 0.00455612 0.02519294 ... 0.00617775 0.0029697  0.00219493]\n",
      "[09:57:22] Params: {'init_stdev': 0.008103320576253282, 'step_size': 0.09640145457993941, 'l2_reg_w': 0.02902722894634687, 'rank': 2, 'l2_reg_V': 5.188919801681641, 'n_iter': 727} => AUC: 0.549093, Results: [9.78729301e-05 4.76618082e-04 3.19649288e-04 ... 9.47187655e-04\n",
      " 3.98083193e-04 2.83215145e-04]\n",
      "[09:57:38] Params: {'init_stdev': 0.06708736724063728, 'step_size': 0.016632324170603684, 'l2_reg_w': 1.4601683075751852, 'rank': 38, 'l2_reg_V': 0.06855166079055809, 'n_iter': 9} => AUC: 0.497454, Results: [0.29627031 0.31662003 0.43011347 ... 0.35381993 0.42264251 0.32764376]\n",
      "[09:57:52] Params: {'init_stdev': 0.002521133845439143, 'step_size': 0.020362195034040735, 'l2_reg_w': 2.060731177490761e-05, 'rank': 27, 'l2_reg_V': 0.0037945606880746513, 'n_iter': 2031} => AUC: 0.532856, Results: [2.91461191e-05 1.57494345e-04 1.35055243e-03 ... 7.22322263e-04\n",
      " 1.87982197e-04 7.81940284e-05]\n",
      "[09:58:04] Params: {'init_stdev': 0.02134194810123145, 'step_size': 0.0483747284526142, 'l2_reg_w': 0.00023980423820737379, 'rank': 21, 'l2_reg_V': 0.021856568503658542, 'n_iter': 521} => AUC: 0.510173, Results: [0.0001075  0.00039738 0.00147343 ... 0.00058914 0.00015438 0.00015079]\n",
      "[09:58:55] Params: {'init_stdev': 0.19815854556311663, 'step_size': 0.02415899038050934, 'l2_reg_w': 0.0023217204813255586, 'rank': 185, 'l2_reg_V': 0.0006540766997334412, 'n_iter': 4007} => AUC: 0.521809, Results: [8.82643976e-11 3.93159797e-07 1.22466506e-09 ... 5.10568382e-06\n",
      " 1.21463395e-08 5.97731554e-05]\n",
      "[10:01:45] Params: {'init_stdev': 0.12997240278698585, 'step_size': 0.029337543456823535, 'l2_reg_w': 3.8322245249837125e-05, 'rank': 690, 'l2_reg_V': 421.01737448013364, 'n_iter': 18} => AUC: 0.493142, Results: [0. 0. 0. ... 0. 0. 0.]\n",
      "[10:02:11] Params: {'init_stdev': 0.047250176181685845, 'step_size': 0.01000162227492736, 'l2_reg_w': 0.8075789203529713, 'rank': 80, 'l2_reg_V': 9.921600155955318e-05, 'n_iter': 1646} => AUC: 0.499037, Results: [0.00182343 0.00289124 0.00625602 ... 0.00425042 0.00424726 0.00278415]\n",
      "[10:03:12] Params: {'init_stdev': 0.014633135030864329, 'step_size': 0.022111430556140017, 'l2_reg_w': 0.46856674260977715, 'rank': 224, 'l2_reg_V': 10.060188161439727, 'n_iter': 9978} => AUC: 0.544271, Results: [0.00161331 0.00180698 0.00142674 ... 0.00277247 0.00340285 0.00170027]\n",
      "[10:03:50] Params: {'init_stdev': 0.09627943907426117, 'step_size': 0.040807596256229074, 'l2_reg_w': 0.059525759449859265, 'rank': 122, 'l2_reg_V': 25.558818044751447, 'n_iter': 2575} => AUC: 0.558339, Results: [0.00017918 0.00056485 0.00269333 ... 0.00467842 0.00233328 0.00115946]\n",
      "[10:04:11] Params: {'init_stdev': 0.031549619796968055, 'step_size': 0.013907950198590787, 'l2_reg_w': 79.81963646500073, 'rank': 59, 'l2_reg_V': 1.9392119014748333e-05, 'n_iter': 5541} => AUC: 0.556256, Results: [0.00140943 0.00239545 0.00264872 ... 0.00587681 0.00550152 0.00241656]\n",
      "[10:04:20] Params: {'init_stdev': 0.07900062759959643, 'step_size': 0.015695586709473484, 'l2_reg_w': 9.090762489684467, 'rank': 6, 'l2_reg_V': 0.00019543254358296835, 'n_iter': 161} => AUC: 0.480833, Results: [0.16134295 0.17507833 0.18512552 ... 0.16744627 0.1706637  0.17265376]\n",
      "[10:04:43] Params: {'init_stdev': 0.6496101275629962, 'step_size': 0.05707120278958053, 'l2_reg_w': 0.010365721419353746, 'rank': 65, 'l2_reg_V': 0.0069052801312915624, 'n_iter': 279} => AUC: 0.519470, Results: [0.00000000e+000 0.00000000e+000 5.84576225e-209 ... 3.79725385e-283\n",
      " 2.19649027e-001 9.53005851e-001]\n",
      "[10:04:59] Params: {'init_stdev': 0.00975193612360217, 'step_size': 0.01090094888775033, 'l2_reg_w': 0.23219066381756415, 'rank': 30, 'l2_reg_V': 161.06967335855703, 'n_iter': 7846} => AUC: 0.560430, Results: [0.00062865 0.00068554 0.00074799 ... 0.00159606 0.0016394  0.00075724]\n",
      "[10:05:48] Params: {'init_stdev': 0.01918882982619147, 'step_size': 0.01298579834161147, 'l2_reg_w': 9.697385080750024e-05, 'rank': 166, 'l2_reg_V': 4.731708646300849e-05, 'n_iter': 888} => AUC: 0.516739, Results: [0.00064514 0.00134906 0.00618368 ... 0.00372833 0.00205746 0.00108002]\n"
     ]
    },
    {
     "name": "stderr",
     "output_type": "stream",
     "text": [
      "/usr/local/lib/python3.5/dist-packages/scipy/stats/_distn_infrastructure.py:879: RuntimeWarning: invalid value encountered in greater\n",
      "  return (self.a < x) & (x < self.b)\n",
      "/usr/local/lib/python3.5/dist-packages/scipy/stats/_distn_infrastructure.py:879: RuntimeWarning: invalid value encountered in less\n",
      "  return (self.a < x) & (x < self.b)\n",
      "/usr/local/lib/python3.5/dist-packages/scipy/stats/_distn_infrastructure.py:1738: RuntimeWarning: invalid value encountered in greater_equal\n",
      "  cond2 = (x >= self.b) & cond0\n"
     ]
    },
    {
     "name": "stdout",
     "output_type": "stream",
     "text": [
      "[10:06:58] Params: {'init_stdev': 0.024181096318081553, 'step_size': 0.018810256818499713, 'l2_reg_w': 0.015360692485479496, 'rank': 277, 'l2_reg_V': 2402.2359213686314, 'n_iter': 4396} => Failed\n",
      "[10:07:28] Params: {'init_stdev': 0.04012869955667884, 'step_size': 0.01758042012375128, 'l2_reg_w': 0.0015791957025215974, 'rank': 96, 'l2_reg_V': 0.1000575193247349, 'n_iter': 3158} => AUC: 0.561144, Results: [0.00018609 0.00141258 0.00583732 ... 0.01170884 0.00541254 0.00085303]\n"
     ]
    },
    {
     "name": "stderr",
     "output_type": "stream",
     "text": [
      "/usr/local/lib/python3.5/dist-packages/scipy/stats/_distn_infrastructure.py:879: RuntimeWarning: invalid value encountered in greater\n",
      "  return (self.a < x) & (x < self.b)\n",
      "/usr/local/lib/python3.5/dist-packages/scipy/stats/_distn_infrastructure.py:879: RuntimeWarning: invalid value encountered in less\n",
      "  return (self.a < x) & (x < self.b)\n",
      "/usr/local/lib/python3.5/dist-packages/scipy/stats/_distn_infrastructure.py:1738: RuntimeWarning: invalid value encountered in greater_equal\n",
      "  cond2 = (x >= self.b) & cond0\n"
     ]
    },
    {
     "name": "stdout",
     "output_type": "stream",
     "text": [
      "[10:07:40] Params: {'init_stdev': 0.055402823636692536, 'step_size': 0.0752563022787798, 'l2_reg_w': 0.118839317405832, 'rank': 36, 'l2_reg_V': 91.10713844644572, 'n_iter': 1113} => Failed\n",
      "[10:07:52] Params: {'init_stdev': 0.15449310836636662, 'step_size': 0.026625107853524968, 'l2_reg_w': 0.007113897130934369, 'rank': 17, 'l2_reg_V': 0.0003552321094610953, 'n_iter': 6652} => AUC: 0.535213, Results: [5.32525685e-04 6.65914325e-05 1.04605061e-02 ... 5.87538448e-03\n",
      " 8.71065779e-03 1.31587207e-03]\n",
      "[10:08:30] Params: {'init_stdev': 0.016837792160415383, 'step_size': 0.011217964288453754, 'l2_reg_w': 23.70643603793715, 'rank': 132, 'l2_reg_V': 0.18444369758009058, 'n_iter': 1495} => AUC: 0.505575, Results: [0.00857041 0.00882889 0.00868035 ... 0.00869236 0.00882533 0.00868877]\n",
      "[10:08:49] Params: {'init_stdev': 0.02847385184854007, 'step_size': 0.0324460025675715, 'l2_reg_w': 0.004324881621118165, 'rank': 49, 'l2_reg_V': 0.5419495121504848, 'n_iter': 2175} => AUC: 0.564627, Results: [0.00026701 0.00101689 0.0060655  ... 0.00883434 0.00495233 0.00117493]\n",
      "[10:09:02] Params: {'init_stdev': 0.006734518751079519, 'step_size': 0.01009432618377547, 'l2_reg_w': 0.0415913768359779, 'rank': 26, 'l2_reg_V': 1.5756309029041122, 'n_iter': 371} => AUC: 0.500327, Results: [0.00984573 0.01447663 0.03552634 ... 0.02131955 0.01275671 0.01110374]\n",
      "[10:09:20] Params: {'init_stdev': 0.471643758067516, 'step_size': 0.012234841168361182, 'l2_reg_w': 1.002244538806595e-05, 'rank': 43, 'l2_reg_V': 0.03238775855039236, 'n_iter': 8418} => AUC: 0.524359, Results: [1.33953553e-09 4.91897043e-11 2.21264114e-08 ... 1.70273815e-03\n",
      " 5.22189482e-05 1.06590319e-03]\n",
      "[10:09:31] Params: {'init_stdev': 0.005455402098846374, 'step_size': 0.24976499463728985, 'l2_reg_w': 0.0008318134987194619, 'rank': 13, 'l2_reg_V': 0.001670881862930318, 'n_iter': 2956} => AUC: 0.555790, Results: [1.10372156e-08 1.87987707e-05 2.62291345e-05 ... 3.76313531e-02\n",
      " 1.08626610e-02 2.54213614e-05]\n"
     ]
    },
    {
     "name": "stderr",
     "output_type": "stream",
     "text": [
      "/usr/local/lib/python3.5/dist-packages/scipy/stats/_distn_infrastructure.py:879: RuntimeWarning: invalid value encountered in greater\n",
      "  return (self.a < x) & (x < self.b)\n",
      "/usr/local/lib/python3.5/dist-packages/scipy/stats/_distn_infrastructure.py:879: RuntimeWarning: invalid value encountered in less\n",
      "  return (self.a < x) & (x < self.b)\n",
      "/usr/local/lib/python3.5/dist-packages/scipy/stats/_distn_infrastructure.py:1738: RuntimeWarning: invalid value encountered in greater_equal\n",
      "  cond2 = (x >= self.b) & cond0\n"
     ]
    },
    {
     "name": "stdout",
     "output_type": "stream",
     "text": [
      "[10:09:54] Params: {'init_stdev': 0.03458880630353652, 'step_size': 0.3305479850605135, 'l2_reg_w': 4.874899069840093, 'rank': 83, 'l2_reg_V': 60538.00954170161, 'n_iter': 5460} => Failed\n"
     ]
    },
    {
     "name": "stderr",
     "output_type": "stream",
     "text": [
      "/usr/local/lib/python3.5/dist-packages/scipy/stats/_distn_infrastructure.py:879: RuntimeWarning: invalid value encountered in greater\n",
      "  return (self.a < x) & (x < self.b)\n",
      "/usr/local/lib/python3.5/dist-packages/scipy/stats/_distn_infrastructure.py:879: RuntimeWarning: invalid value encountered in less\n",
      "  return (self.a < x) & (x < self.b)\n",
      "/usr/local/lib/python3.5/dist-packages/scipy/stats/_distn_infrastructure.py:1738: RuntimeWarning: invalid value encountered in greater_equal\n",
      "  cond2 = (x >= self.b) & cond0\n"
     ]
    },
    {
     "name": "stdout",
     "output_type": "stream",
     "text": [
      "[10:10:06] Params: {'init_stdev': 0.0040112433180939135, 'step_size': 0.16407247819034265, 'l2_reg_w': 0.01847588833565414, 'rank': 33, 'l2_reg_V': 6955.766369437444, 'n_iter': 1302} => Failed\n",
      "[10:10:40] Params: {'init_stdev': 0.013885896887283495, 'step_size': 0.02063963591324003, 'l2_reg_w': 2.1242203327082794, 'rank': 112, 'l2_reg_V': 0.30931331215137375, 'n_iter': 3856} => AUC: 0.529737, Results: [0.001956   0.00185945 0.00149304 ... 0.00233168 0.00261712 0.00180789]\n",
      "[10:10:48] Params: {'init_stdev': 0.11139038983772628, 'step_size': 0.023009935689273727, 'l2_reg_w': 0.0780706674226404, 'rank': 1, 'l2_reg_V': 15.589206055090509, 'n_iter': 595} => AUC: 0.515674, Results: [0.00108534 0.00311349 0.0189704  ... 0.00816963 0.00501644 0.00424525]\n",
      "[10:11:12] Params: {'init_stdev': 0.04475491368938349, 'step_size': 0.015270310658977406, 'l2_reg_w': 0.00030906365614836025, 'rank': 72, 'l2_reg_V': 0.0005867712454467255, 'n_iter': 2425} => AUC: 0.547421, Results: [8.44743439e-05 6.45859551e-04 4.34780608e-03 ... 5.66515352e-03\n",
      " 2.38148920e-03 6.52969575e-04]\n",
      "[10:11:53] Params: {'init_stdev': 0.059691980241365176, 'step_size': 0.38634651212801346, 'l2_reg_w': 0.3301473737634279, 'rank': 147, 'l2_reg_V': 1.0920714146747312e-05, 'n_iter': 1706} => AUC: 0.516510, Results: [0. 1. 0. ... 1. 1. 0.]\n",
      "[10:12:05] Params: {'init_stdev': 0.2156808356741271, 'step_size': 0.013922717033706514, 'l2_reg_w': 0.5840546141877125, 'rank': 22, 'l2_reg_V': 0.012260326808663572, 'n_iter': 38} => AUC: 0.492810, Results: [0.01720065 0.16991303 0.12277582 ... 0.09123138 0.17388414 0.1077973 ]\n",
      "[10:12:14] Params: {'init_stdev': 0.07474201968322622, 'step_size': 0.028073997392940128, 'l2_reg_w': 0.0023553312417524852, 'rank': 5, 'l2_reg_V': 3.1663077356737496e-05, 'n_iter': 2} => AUC: 0.497669, Results: [0.33979057 0.38427772 0.51202865 ... 0.43799973 0.45001772 0.44391231]\n",
      "[10:12:33] Params: {'init_stdev': 0.09158124566957344, 'step_size': 0.01667658328750262, 'l2_reg_w': 5.7868616014627196e-05, 'rank': 55, 'l2_reg_V': 24944.639274091183, 'n_iter': 52} => AUC: 0.495924, Results: [0. 0. 0. ... 0. 0. 0.]\n",
      "[10:14:23] Params: {'init_stdev': 0.2922560643937201, 'step_size': 0.06381252252549006, 'l2_reg_w': 0.03088659021917392, 'rank': 440, 'l2_reg_V': 0.0026824815856478826, 'n_iter': 789} => AUC: 0.496654, Results: [5.78748893e-270 0.00000000e+000 0.00000000e+000 ... 2.24159716e-129\n",
      " 0.00000000e+000 1.00000000e+000]\n",
      "[10:14:32] Params: {'init_stdev': 0.17533682530173034, 'step_size': 0.030397618901709403, 'l2_reg_w': 0.9869113015984017, 'rank': 7, 'l2_reg_V': 0.004892291720911205, 'n_iter': 441} => AUC: 0.501329, Results: [0.00340442 0.00832946 0.01190886 ... 0.00764329 0.0159833  0.0267138 ]\n",
      "[10:14:42] Params: {'init_stdev': 0.35865037288929097, 'step_size': 0.025092451454868443, 'l2_reg_w': 0.1775865443524256, 'rank': 9, 'l2_reg_V': 0.050540505250825, 'n_iter': 27} => AUC: 0.508085, Results: [1.95838963e-04 5.17496627e-03 1.60553375e-01 ... 3.13931054e-02\n",
      " 6.90857525e-01 1.14407293e-01]\n",
      "[10:15:39] Params: {'init_stdev': 0.021405506930448164, 'step_size': 0.03952651934780614, 'l2_reg_w': 13.0606765712905, 'rank': 210, 'l2_reg_V': 0.0011045896266153753, 'n_iter': 4575} => AUC: 0.556109, Results: [0.0006349  0.00111187 0.00103419 ... 0.02317551 0.00681933 0.0007081 ]\n",
      "[10:15:50] Params: {'init_stdev': 0.025675908814652787, 'step_size': 0.10958168608180707, 'l2_reg_w': 0.008964674917620034, 'rank': 15, 'l2_reg_V': 3.372016076602122, 'n_iter': 8873} => AUC: 0.535331, Results: [2.82073929e-05 2.08186971e-06 1.02970757e-04 ... 1.46308679e-04\n",
      " 3.60949261e-04 8.97139067e-04]\n",
      "[10:16:54] Params: {'init_stdev': 0.06865115486791558, 'step_size': 0.019137736612989908, 'l2_reg_w': 0.003538003081306458, 'rank': 244, 'l2_reg_V': 0.00013448018426011332, 'n_iter': 3431} => AUC: 0.574368, Results: [3.10528375e-06 1.69261348e-04 6.21283834e-04 ... 4.76006254e-02\n",
      " 8.51066526e-02 4.38671642e-03]\n",
      "[10:19:16] Params: {'init_stdev': 0.013051991558505428, 'step_size': 0.03518485647098825, 'l2_reg_w': 0.00047183442013308156, 'rank': 569, 'l2_reg_V': 38.454610428173815, 'n_iter': 1954} => AUC: 0.545452, Results: [1.76779181e-05 1.52531860e-04 1.60708724e-03 ... 8.18093964e-04\n",
      " 2.25433844e-04 8.50965654e-05]\n",
      "[10:20:35] Params: {'init_stdev': 0.12547968849563326, 'step_size': 0.04592039146272179, 'l2_reg_w': 0.003305593868637786, 'rank': 309, 'l2_reg_V': 0.00022934819731541237, 'n_iter': 227} => AUC: 0.493756, Results: [5.50408369e-13 6.05060628e-09 7.25306755e-08 ... 6.15258556e-18\n",
      " 2.34160770e-08 6.99084474e-06]\n",
      "[10:21:23] Params: {'init_stdev': 0.06727133064532752, 'step_size': 0.019284576285206006, 'l2_reg_w': 0.0009618540555408779, 'rank': 171, 'l2_reg_V': 0.018320118551388157, 'n_iter': 968} => AUC: 0.538309, Results: [0.00022085 0.00161021 0.00488872 ... 0.00623374 0.00622007 0.00662217]\n"
     ]
    },
    {
     "name": "stderr",
     "output_type": "stream",
     "text": [
      "/usr/local/lib/python3.5/dist-packages/scipy/stats/_distn_infrastructure.py:879: RuntimeWarning: invalid value encountered in greater\n",
      "  return (self.a < x) & (x < self.b)\n",
      "/usr/local/lib/python3.5/dist-packages/scipy/stats/_distn_infrastructure.py:879: RuntimeWarning: invalid value encountered in less\n",
      "  return (self.a < x) & (x < self.b)\n",
      "/usr/local/lib/python3.5/dist-packages/scipy/stats/_distn_infrastructure.py:1738: RuntimeWarning: invalid value encountered in greater_equal\n",
      "  cond2 = (x >= self.b) & cond0\n"
     ]
    },
    {
     "name": "stdout",
     "output_type": "stream",
     "text": [
      "[10:22:51] Params: {'init_stdev': 0.5389095587445827, 'step_size': 0.06811306836956808, 'l2_reg_w': 0.00011487069915323302, 'rank': 357, 'l2_reg_V': 1041.674554227344, 'n_iter': 6684} => Failed\n",
      "[10:24:31] Params: {'init_stdev': 0.0366947723879394, 'step_size': 0.022407408707090105, 'l2_reg_w': 0.0013183903358056296, 'rank': 394, 'l2_reg_V': 7.354564931497522e-05, 'n_iter': 82} => AUC: 0.498524, Results: [0.01914772 0.03697786 0.06622586 ... 0.03697591 0.03358609 0.03846837]\n",
      "[10:28:16] Params: {'init_stdev': 0.04515025237645763, 'step_size': 0.05894078327787304, 'l2_reg_w': 0.0002082756162693014, 'rank': 928, 'l2_reg_V': 5.761924717985259, 'n_iter': 3345} => AUC: 0.568212, Results: [1.59782098e-05 2.62660425e-04 2.36248958e-03 ... 1.32042505e-02\n",
      " 9.02498984e-03 4.29414879e-04]\n",
      "[10:31:28] Params: {'init_stdev': 0.13452759434277725, 'step_size': 0.09076144020242012, 'l2_reg_w': 1.2792579980453004e-05, 'rank': 783, 'l2_reg_V': 7.043895208802539, 'n_iter': 1152} => AUC: 0.544206, Results: [0.00104092 0.00245742 0.01711535 ... 0.0129558  0.00249392 0.00180427]\n"
     ]
    },
    {
     "name": "stderr",
     "output_type": "stream",
     "text": [
      "/usr/local/lib/python3.5/dist-packages/scipy/stats/_distn_infrastructure.py:879: RuntimeWarning: invalid value encountered in greater\n",
      "  return (self.a < x) & (x < self.b)\n",
      "/usr/local/lib/python3.5/dist-packages/scipy/stats/_distn_infrastructure.py:879: RuntimeWarning: invalid value encountered in less\n",
      "  return (self.a < x) & (x < self.b)\n",
      "/usr/local/lib/python3.5/dist-packages/scipy/stats/_distn_infrastructure.py:1738: RuntimeWarning: invalid value encountered in greater_equal\n",
      "  cond2 = (x >= self.b) & cond0\n"
     ]
    },
    {
     "name": "stdout",
     "output_type": "stream",
     "text": [
      "[10:34:15] Params: {'init_stdev': 0.09961305092125479, 'step_size': 0.05895375130360714, 'l2_reg_w': 2.307611219914964e-05, 'rank': 693, 'l2_reg_V': 119.67617795430773, 'n_iter': 650} => Failed\n"
     ]
    },
    {
     "name": "stderr",
     "output_type": "stream",
     "text": [
      "/usr/local/lib/python3.5/dist-packages/scipy/stats/_distn_infrastructure.py:879: RuntimeWarning: invalid value encountered in greater\n",
      "  return (self.a < x) & (x < self.b)\n",
      "/usr/local/lib/python3.5/dist-packages/scipy/stats/_distn_infrastructure.py:879: RuntimeWarning: invalid value encountered in less\n",
      "  return (self.a < x) & (x < self.b)\n",
      "/usr/local/lib/python3.5/dist-packages/scipy/stats/_distn_infrastructure.py:1738: RuntimeWarning: invalid value encountered in greater_equal\n",
      "  cond2 = (x >= self.b) & cond0\n"
     ]
    },
    {
     "name": "stdout",
     "output_type": "stream",
     "text": [
      "[10:36:11] Params: {'init_stdev': 0.043316799824922834, 'step_size': 0.0753675341692013, 'l2_reg_w': 0.00022563366518996917, 'rank': 473, 'l2_reg_V': 66.05818164425875, 'n_iter': 3405} => Failed\n"
     ]
    },
    {
     "name": "stderr",
     "output_type": "stream",
     "text": [
      "/usr/local/lib/python3.5/dist-packages/scipy/stats/_distn_infrastructure.py:879: RuntimeWarning: invalid value encountered in greater\n",
      "  return (self.a < x) & (x < self.b)\n",
      "/usr/local/lib/python3.5/dist-packages/scipy/stats/_distn_infrastructure.py:879: RuntimeWarning: invalid value encountered in less\n",
      "  return (self.a < x) & (x < self.b)\n",
      "/usr/local/lib/python3.5/dist-packages/scipy/stats/_distn_infrastructure.py:1738: RuntimeWarning: invalid value encountered in greater_equal\n",
      "  cond2 = (x >= self.b) & cond0\n"
     ]
    },
    {
     "name": "stdout",
     "output_type": "stream",
     "text": [
      "[10:40:07] Params: {'init_stdev': 0.05070762828168335, 'step_size': 0.08020312358862171, 'l2_reg_w': 6.084302580432315e-05, 'rank': 987, 'l2_reg_V': 361.231864834476, 'n_iter': 507} => Failed\n"
     ]
    },
    {
     "name": "stderr",
     "output_type": "stream",
     "text": [
      "/usr/local/lib/python3.5/dist-packages/scipy/stats/_distn_infrastructure.py:879: RuntimeWarning: invalid value encountered in greater\n",
      "  return (self.a < x) & (x < self.b)\n",
      "/usr/local/lib/python3.5/dist-packages/scipy/stats/_distn_infrastructure.py:879: RuntimeWarning: invalid value encountered in less\n",
      "  return (self.a < x) & (x < self.b)\n",
      "/usr/local/lib/python3.5/dist-packages/scipy/stats/_distn_infrastructure.py:1738: RuntimeWarning: invalid value encountered in greater_equal\n",
      "  cond2 = (x >= self.b) & cond0\n"
     ]
    },
    {
     "name": "stdout",
     "output_type": "stream",
     "text": [
      "[10:42:41] Params: {'init_stdev': 0.028906974946592105, 'step_size': 0.03854119527559959, 'l2_reg_w': 3.648353127136194e-05, 'rank': 634, 'l2_reg_V': 698.2207942388243, 'n_iter': 141} => Failed\n",
      "[10:46:18] Params: {'init_stdev': 0.011126472040424579, 'step_size': 0.14374656100828417, 'l2_reg_w': 0.00017481691092400802, 'rank': 869, 'l2_reg_V': 11.52646465246365, 'n_iter': 313} => AUC: 0.501572, Results: [0.00085799 0.00094614 0.0008876  ... 0.00202491 0.00063699 0.00027508]\n",
      "[10:48:33] Params: {'init_stdev': 0.017361769683623504, 'step_size': 0.10119861707281987, 'l2_reg_w': 0.0005684755910263445, 'rank': 527, 'l2_reg_V': 19.69615343888775, 'n_iter': 61} => AUC: 0.504259, Results: [0.0114621  0.02000009 0.0351984  ... 0.01777714 0.01225743 0.00597221]\n",
      "[10:49:37] Params: {'init_stdev': 0.18730618915929592, 'step_size': 0.048596071345646384, 'l2_reg_w': 9.696660023748372e-05, 'rank': 240, 'l2_reg_V': 0.9226794156124098, 'n_iter': 2850} => AUC: 0.559494, Results: [6.13124028e-05 4.52924992e-03 2.89488620e-02 ... 8.56368205e-02\n",
      " 3.57342569e-02 5.36576809e-03]\n",
      "[10:52:40] Params: {'init_stdev': 0.250128209710911, 'step_size': 0.11807810144413664, 'l2_reg_w': 2.6681230023078734e-05, 'rank': 743, 'l2_reg_V': 5.05180397475972, 'n_iter': 109} => AUC: 0.495875, Results: [8.96438380e-05 3.77960410e-04 2.59248648e-02 ... 9.09140754e-04\n",
      " 2.18990082e-04 7.05737755e-05]\n"
     ]
    },
    {
     "name": "stderr",
     "output_type": "stream",
     "text": [
      "/usr/local/lib/python3.5/dist-packages/scipy/stats/_distn_infrastructure.py:879: RuntimeWarning: invalid value encountered in greater\n",
      "  return (self.a < x) & (x < self.b)\n",
      "/usr/local/lib/python3.5/dist-packages/scipy/stats/_distn_infrastructure.py:879: RuntimeWarning: invalid value encountered in less\n",
      "  return (self.a < x) & (x < self.b)\n",
      "/usr/local/lib/python3.5/dist-packages/scipy/stats/_distn_infrastructure.py:1738: RuntimeWarning: invalid value encountered in greater_equal\n",
      "  cond2 = (x >= self.b) & cond0\n"
     ]
    },
    {
     "name": "stdout",
     "output_type": "stream",
     "text": [
      "[10:53:43] Params: {'init_stdev': 0.0793337734119087, 'step_size': 0.042851564273112944, 'l2_reg_w': 0.00037204153252442244, 'rank': 252, 'l2_reg_V': 67.60668929113149, 'n_iter': 2204} => Failed\n",
      "[10:57:18] Params: {'init_stdev': 0.05148808050877221, 'step_size': 0.05068306675135739, 'l2_reg_w': 0.0007490469276563546, 'rank': 868, 'l2_reg_V': 2.7413234189870965, 'n_iter': 9860} => AUC: 0.564008, Results: [9.63568392e-05 5.23192350e-05 6.23586538e-04 ... 1.23601165e-02\n",
      " 2.02272059e-02 2.28793040e-03]\n"
     ]
    },
    {
     "name": "stderr",
     "output_type": "stream",
     "text": [
      "/usr/local/lib/python3.5/dist-packages/scipy/stats/_distn_infrastructure.py:879: RuntimeWarning: invalid value encountered in greater\n",
      "  return (self.a < x) & (x < self.b)\n",
      "/usr/local/lib/python3.5/dist-packages/scipy/stats/_distn_infrastructure.py:879: RuntimeWarning: invalid value encountered in less\n",
      "  return (self.a < x) & (x < self.b)\n",
      "/usr/local/lib/python3.5/dist-packages/scipy/stats/_distn_infrastructure.py:1738: RuntimeWarning: invalid value encountered in greater_equal\n",
      "  cond2 = (x >= self.b) & cond0\n"
     ]
    },
    {
     "name": "stdout",
     "output_type": "stream",
     "text": [
      "[10:58:25] Params: {'init_stdev': 0.060949217625568576, 'step_size': 0.05529007110582839, 'l2_reg_w': 267.1387455926167, 'rank': 268, 'l2_reg_V': 5361.282137304543, 'n_iter': 1375} => Failed\n"
     ]
    },
    {
     "name": "stderr",
     "output_type": "stream",
     "text": [
      "/usr/local/lib/python3.5/dist-packages/scipy/stats/_distn_infrastructure.py:879: RuntimeWarning: invalid value encountered in greater\n",
      "  return (self.a < x) & (x < self.b)\n",
      "/usr/local/lib/python3.5/dist-packages/scipy/stats/_distn_infrastructure.py:879: RuntimeWarning: invalid value encountered in less\n",
      "  return (self.a < x) & (x < self.b)\n",
      "/usr/local/lib/python3.5/dist-packages/scipy/stats/_distn_infrastructure.py:1738: RuntimeWarning: invalid value encountered in greater_equal\n",
      "  cond2 = (x >= self.b) & cond0\n"
     ]
    },
    {
     "name": "stdout",
     "output_type": "stream",
     "text": [
      "[11:00:27] Params: {'init_stdev': 0.001729041700304822, 'step_size': 0.28150815763715753, 'l2_reg_w': 0.003764237646612817, 'rank': 498, 'l2_reg_V': 3087.0876245357836, 'n_iter': 180} => Failed\n",
      "[11:04:31] Params: {'init_stdev': 0.42113954812953475, 'step_size': 0.03490933144351098, 'l2_reg_w': 0.00014595494452124407, 'rank': 992, 'l2_reg_V': 30.839914875468438, 'n_iter': 856} => AUC: 0.519826, Results: [4.86247716e-05 3.35394753e-04 9.35895548e-02 ... 2.16187839e-02\n",
      " 1.71912042e-02 4.05277372e-03]\n",
      "[11:04:38] Params: {'init_stdev': 0.023435881160559762, 'step_size': 0.18541873245232252, 'l2_reg_w': 1.3194373022069179e-05, 'rank': 3, 'l2_reg_V': 200.41500167201704, 'n_iter': 12} => AUC: 0.495051, Results: [1. 1. 0. ... 0. 1. 1.]\n"
     ]
    },
    {
     "name": "stderr",
     "output_type": "stream",
     "text": [
      "/usr/local/lib/python3.5/dist-packages/scipy/stats/_distn_infrastructure.py:879: RuntimeWarning: invalid value encountered in greater\n",
      "  return (self.a < x) & (x < self.b)\n",
      "/usr/local/lib/python3.5/dist-packages/scipy/stats/_distn_infrastructure.py:879: RuntimeWarning: invalid value encountered in less\n",
      "  return (self.a < x) & (x < self.b)\n",
      "/usr/local/lib/python3.5/dist-packages/scipy/stats/_distn_infrastructure.py:1738: RuntimeWarning: invalid value encountered in greater_equal\n",
      "  cond2 = (x >= self.b) & cond0\n"
     ]
    },
    {
     "name": "stdout",
     "output_type": "stream",
     "text": [
      "[11:06:04] Params: {'init_stdev': 0.009113477697441226, 'step_size': 0.031923520343224016, 'l2_reg_w': 0.0014253845255516476, 'rank': 342, 'l2_reg_V': 12626.774080273237, 'n_iter': 381} => Failed\n"
     ]
    },
    {
     "name": "stderr",
     "output_type": "stream",
     "text": [
      "/usr/local/lib/python3.5/dist-packages/scipy/stats/_distn_infrastructure.py:879: RuntimeWarning: invalid value encountered in greater\n",
      "  return (self.a < x) & (x < self.b)\n",
      "/usr/local/lib/python3.5/dist-packages/scipy/stats/_distn_infrastructure.py:879: RuntimeWarning: invalid value encountered in less\n",
      "  return (self.a < x) & (x < self.b)\n",
      "/usr/local/lib/python3.5/dist-packages/scipy/stats/_distn_infrastructure.py:1738: RuntimeWarning: invalid value encountered in greater_equal\n",
      "  cond2 = (x >= self.b) & cond0\n"
     ]
    },
    {
     "name": "stdout",
     "output_type": "stream",
     "text": [
      "[11:07:50] Params: {'init_stdev': 0.09338603231786985, 'step_size': 0.0610144715635523, 'l2_reg_w': 0.00702146872514223, 'rank': 427, 'l2_reg_V': 489.40567447414224, 'n_iter': 1801} => Failed\n",
      "[11:08:42] Params: {'init_stdev': 0.031121061579574203, 'step_size': 0.08335047964500279, 'l2_reg_w': 7.305211092241255e-05, 'rank': 188, 'l2_reg_V': 1.5292138368461043, 'n_iter': 4751} => AUC: 0.562728, Results: [9.81310621e-07 7.64707583e-06 1.79213902e-05 ... 2.39791391e-02\n",
      " 3.61705824e-03 2.27283414e-05]\n",
      "[11:11:19] Params: {'init_stdev': 0.16429887307442897, 'step_size': 0.21979545960114208, 'l2_reg_w': 0.012616913373218904, 'rank': 622, 'l2_reg_V': 0.4187844634991363, 'n_iter': 3700} => AUC: 0.516423, Results: [1.30809507e-05 3.94573788e-03 3.24788480e-05 ... 1.26213647e-02\n",
      " 1.41036967e-03 3.95147066e-05]\n",
      "[11:12:36] Params: {'init_stdev': 0.3204467113897243, 'step_size': 0.06895530607905152, 'l2_reg_w': 0.00040579912145589605, 'rank': 295, 'l2_reg_V': 7.4744203956283695, 'n_iter': 4} => AUC: 0.499469, Results: [2.48280598e-03 3.39192331e-07 2.45568508e-23 ... 4.02222242e-02\n",
      " 9.02179741e-01 1.00000000e+00]\n"
     ]
    },
    {
     "name": "stderr",
     "output_type": "stream",
     "text": [
      "/usr/local/lib/python3.5/dist-packages/scipy/stats/_distn_infrastructure.py:879: RuntimeWarning: invalid value encountered in greater\n",
      "  return (self.a < x) & (x < self.b)\n",
      "/usr/local/lib/python3.5/dist-packages/scipy/stats/_distn_infrastructure.py:879: RuntimeWarning: invalid value encountered in less\n",
      "  return (self.a < x) & (x < self.b)\n",
      "/usr/local/lib/python3.5/dist-packages/scipy/stats/_distn_infrastructure.py:1738: RuntimeWarning: invalid value encountered in greater_equal\n",
      "  cond2 = (x >= self.b) & cond0\n"
     ]
    },
    {
     "name": "stdout",
     "output_type": "stream",
     "text": [
      "[11:12:41] Params: {'init_stdev': 0.11811002184952842, 'step_size': 0.02568858734816199, 'l2_reg_w': 0.002348996805161417, 'rank': 4, 'l2_reg_V': 1592.4127501970213, 'n_iter': 1031} => Failed\n",
      "[11:13:18] Params: {'init_stdev': 0.06932454657954104, 'step_size': 0.044569051477554404, 'l2_reg_w': 0.00023924974780987842, 'rank': 124, 'l2_reg_V': 2.0796954958437377, 'n_iter': 717} => AUC: 0.526424, Results: [7.82143480e-05 3.55304079e-04 1.96171577e-03 ... 1.14075975e-03\n",
      " 5.00362935e-04 2.55914216e-04]\n",
      "[11:14:01] Params: {'init_stdev': 0.04599071070379673, 'step_size': 0.028366897561535428, 'l2_reg_w': 0.02090308667683758, 'rank': 150, 'l2_reg_V': 0.22759112312394097, 'n_iter': 5757} => AUC: 0.565373, Results: [0.00034178 0.00030851 0.00242333 ... 0.00976349 0.00584893 0.00108894]\n",
      "[11:14:30] Params: {'init_stdev': 0.020285131591536044, 'step_size': 0.018050125434811923, 'l2_reg_w': 0.0808890179779004, 'rank': 92, 'l2_reg_V': 0.10294211091563493, 'n_iter': 7778} => AUC: 0.566349, Results: [0.00029785 0.0003155  0.00048915 ... 0.00229258 0.0023813  0.00050565]\n",
      "[11:15:04] Params: {'init_stdev': 0.037154278394110896, 'step_size': 0.023942302830093538, 'l2_reg_w': 0.005650620449077306, 'rank': 108, 'l2_reg_V': 0.7111912411580141, 'n_iter': 6531} => AUC: 0.550093, Results: [0.00060991 0.00019886 0.00279935 ... 0.00985733 0.00794642 0.00104709]\n",
      "[11:16:02] Params: {'init_stdev': 0.03362428754163015, 'step_size': 0.021124151831131612, 'l2_reg_w': 0.03470505182394851, 'rank': 209, 'l2_reg_V': 3.3995051317440947, 'n_iter': 2475} => AUC: 0.560123, Results: [0.00024618 0.00098579 0.00480651 ... 0.00456023 0.00186899 0.00095941]\n",
      "[11:16:27] Params: {'init_stdev': 0.086065843192466, 'step_size': 0.015876815438873062, 'l2_reg_w': 0.12368349907149079, 'rank': 75, 'l2_reg_V': 15.124673750049649, 'n_iter': 3311} => AUC: 0.558771, Results: [0.00094396 0.0023449  0.00559712 ... 0.00902118 0.00613307 0.00284416]\n",
      "[11:16:50] Params: {'init_stdev': 0.04117165170295269, 'step_size': 0.012318540673440582, 'l2_reg_w': 0.010910168133818976, 'rank': 66, 'l2_reg_V': 1.3348172049578528, 'n_iter': 3948} => AUC: 0.554983, Results: [0.00024474 0.00100934 0.00577691 ... 0.00873648 0.00376825 0.00075028]\n",
      "[11:17:07] Params: {'init_stdev': 0.059568335686928, 'step_size': 0.019724889730367894, 'l2_reg_w': 0.05509544574517295, 'rank': 39, 'l2_reg_V': 0.07273711420963591, 'n_iter': 4749} => AUC: 0.568206, Results: [0.00034224 0.00081328 0.00154282 ... 0.01233743 0.00484829 0.00105881]\n",
      "[11:17:24] Params: {'init_stdev': 0.14826469575365145, 'step_size': 0.03340833650457135, 'l2_reg_w': 0.05201324348804779, 'rank': 40, 'l2_reg_V': 0.14685790026349024, 'n_iter': 2882} => AUC: 0.553922, Results: [0.00062468 0.00650427 0.00740693 ... 0.0517232  0.02130066 0.00920778]\n",
      "[11:17:44] Params: {'init_stdev': 0.054397016202380924, 'step_size': 0.0375097701292246, 'l2_reg_w': 0.3701677078079528, 'rank': 49, 'l2_reg_V': 0.0729008616317316, 'n_iter': 1425} => AUC: 0.517335, Results: [0.00142773 0.00207129 0.00251485 ... 0.0021632  0.00240596 0.0021651 ]\n",
      "[11:17:58] Params: {'init_stdev': 0.10334114218757853, 'step_size': 0.026518657395246028, 'l2_reg_w': 0.0016909875086305395, 'rank': 26, 'l2_reg_V': 0.009328683195857335, 'n_iter': 4431} => AUC: 0.560365, Results: [0.00024474 0.00153516 0.00664184 ... 0.06183988 0.02108246 0.00336248]\n",
      "[11:18:10] Params: {'init_stdev': 0.02642937458729394, 'step_size': 0.03131223895599664, 'l2_reg_w': 0.22173086834707445, 'rank': 19, 'l2_reg_V': 0.43127129649380325, 'n_iter': 9724} => AUC: 0.542550, Results: [0.00068398 0.00106744 0.0008127  ... 0.00198686 0.00240069 0.00118295]\n",
      "[11:18:20] Params: {'init_stdev': 0.07300622900018196, 'step_size': 0.1313239461666423, 'l2_reg_w': 0.003683816356460033, 'rank': 12, 'l2_reg_V': 0.040051428378762625, 'n_iter': 7203} => AUC: 0.527413, Results: [3.89711823e-05 2.57368465e-04 8.72865813e-05 ... 1.62074592e-02\n",
      " 2.88350422e-02 4.50962531e-03]\n",
      "[11:18:36] Params: {'init_stdev': 0.06173980969231975, 'step_size': 0.019439599647392204, 'l2_reg_w': 0.05886019604079396, 'rank': 32, 'l2_reg_V': 5.712049865308709, 'n_iter': 1962} => AUC: 0.540147, Results: [0.00017476 0.00077201 0.00455875 ... 0.00248732 0.00105657 0.00080465]\n",
      "[11:18:48] Params: {'init_stdev': 0.0803287507950131, 'step_size': 0.023436634116854503, 'l2_reg_w': 0.01453536023995303, 'rank': 21, 'l2_reg_V': 0.6681447332428113, 'n_iter': 5638} => AUC: 0.561343, Results: [0.00084266 0.00099289 0.00662089 ... 0.02250789 0.01335965 0.00397153]\n",
      "[11:19:03] Params: {'init_stdev': 0.04372884020770222, 'step_size': 0.041213757282275276, 'l2_reg_w': 0.0009673715387929495, 'rank': 29, 'l2_reg_V': 0.2700822550938825, 'n_iter': 2254} => AUC: 0.560952, Results: [0.00010597 0.00046669 0.00462034 ... 0.00615389 0.00314816 0.00084701]\n",
      "[11:19:20] Params: {'init_stdev': 0.13200470958881935, 'step_size': 0.02781567688396774, 'l2_reg_w': 0.020651861635197336, 'rank': 42, 'l2_reg_V': 40.968374864994594, 'n_iter': 1641} => AUC: 0.530997, Results: [3.54452433e-05 1.45861774e-04 4.50548839e-03 ... 1.12735630e-03\n",
      " 4.47091513e-04 1.41593635e-04]\n",
      "[11:19:32] Params: {'init_stdev': 0.11048072219988755, 'step_size': 0.01701722082002048, 'l2_reg_w': 0.006657183540200536, 'rank': 15, 'l2_reg_V': 10.942831095931526, 'n_iter': 2627} => AUC: 0.541289, Results: [4.28952928e-05 3.20200599e-04 6.54846071e-03 ... 3.36686557e-03\n",
      " 1.20512722e-03 3.35918896e-04]\n",
      "[11:19:53] Params: {'init_stdev': 0.057148277258172696, 'step_size': 0.02102532209570235, 'l2_reg_w': 0.02745175634248423, 'rank': 59, 'l2_reg_V': 2.1245613427316816, 'n_iter': 4795} => AUC: 0.569263, Results: [0.00011131 0.00042482 0.00132365 ... 0.01061238 0.0035349  0.00047411]\n",
      "[11:20:02] Params: {'init_stdev': 0.23017039794333846, 'step_size': 0.029721046632044154, 'l2_reg_w': 0.0017230768881284582, 'rank': 8, 'l2_reg_V': 0.18088701436873011, 'n_iter': 4293} => AUC: 0.549376, Results: [2.28661257e-05 2.17354025e-04 5.41753794e-03 ... 1.83156134e-02\n",
      " 6.90131456e-03 6.74845427e-04]\n",
      "[11:20:12] Params: {'init_stdev': 0.055588490948146954, 'step_size': 0.038092227020701266, 'l2_reg_w': 0.0005675511972976121, 'rank': 10, 'l2_reg_V': 0.03195448723230891, 'n_iter': 8540} => AUC: 0.552322, Results: [4.95916389e-05 1.14795598e-05 3.36009120e-04 ... 5.81831245e-03\n",
      " 7.69892615e-03 1.08262836e-03]\n",
      "[11:20:25] Params: {'init_stdev': 0.0682098089810084, 'step_size': 0.020979660529407324, 'l2_reg_w': 0.0025830339068582744, 'rank': 23, 'l2_reg_V': 0.9959643900600593, 'n_iter': 3056} => AUC: 0.555475, Results: [0.00010101 0.00125065 0.00680873 ... 0.00947552 0.00371911 0.00079813]\n",
      "[11:20:35] Params: {'init_stdev': 0.203590956540703, 'step_size': 0.02459755080852193, 'l2_reg_w': 4.622668035918824e-05, 'rank': 11, 'l2_reg_V': 0.07335384583070664, 'n_iter': 1203} => AUC: 0.531692, Results: [0.00013886 0.00032061 0.03008132 ... 0.00780534 0.0092039  0.0008545 ]\n",
      "[11:20:47] Params: {'init_stdev': 0.0904107738459818, 'step_size': 0.03487776776709326, 'l2_reg_w': 0.005122856655949328, 'rank': 17, 'l2_reg_V': 2.239821389184532, 'n_iter': 6712} => AUC: 0.543339, Results: [6.54898533e-04 9.96587191e-05 2.80205217e-03 ... 1.76338168e-02\n",
      " 1.48653231e-02 1.35090533e-03]\n",
      "[11:20:55] Params: {'init_stdev': 0.04711778404300566, 'step_size': 0.02202627722414658, 'l2_reg_w': 0.00028901854943308235, 'rank': 3, 'l2_reg_V': 0.005036370643518292, 'n_iter': 3465} => AUC: 0.565760, Results: [0.00022897 0.00128426 0.00796883 ... 0.01929725 0.01016819 0.00103772]\n",
      "[11:21:05] Params: {'init_stdev': 0.1428780216658605, 'step_size': 0.05308517826781136, 'l2_reg_w': 0.02669538054892769, 'rank': 13, 'l2_reg_V': 0.01796315750906209, 'n_iter': 1793} => AUC: 0.531167, Results: [1.19244830e-05 9.45638303e-05 2.53374376e-03 ... 4.78109945e-04\n",
      " 6.48237132e-04 2.26416733e-04]\n",
      "[11:21:14] Params: {'init_stdev': 0.03956980955697102, 'step_size': 0.019647704143927868, 'l2_reg_w': 0.1803814712931609, 'rank': 7, 'l2_reg_V': 4.5357326119376555, 'n_iter': 4988} => AUC: 0.556916, Results: [0.0007904  0.00104498 0.00086687 ... 0.00334316 0.00205607 0.00107042]\n",
      "[11:21:30] Params: {'init_stdev': 0.26606364724890824, 'step_size': 0.08851758869003097, 'l2_reg_w': 0.6344477020890481, 'rank': 36, 'l2_reg_V': 0.45930609978327586, 'n_iter': 9811} => AUC: 0.516747, Results: [0.00119237 0.00171427 0.0015319  ... 0.00201951 0.00229857 0.00186845]\n"
     ]
    },
    {
     "name": "stdout",
     "output_type": "stream",
     "text": [
      "[11:21:44] Params: {'init_stdev': 0.10634273430050106, 'step_size': 0.04481754678727837, 'l2_reg_w': 0.007863808311172414, 'rank': 24, 'l2_reg_V': 0.0025266010828382283, 'n_iter': 990} => AUC: 0.547951, Results: [3.96450209e-05 3.46935842e-04 4.23314120e-03 ... 9.28348786e-03\n",
      " 8.71843792e-03 2.72315758e-03]\n",
      "[11:22:04] Params: {'init_stdev': 0.08376121267328103, 'step_size': 0.03036062664009724, 'l2_reg_w': 0.0010587549545159113, 'rank': 55, 'l2_reg_V': 0.05635932828731667, 'n_iter': 1427} => AUC: 0.532538, Results: [0.00011797 0.00030103 0.00384266 ... 0.00150274 0.00150542 0.00035488]\n",
      "[11:22:18] Params: {'init_stdev': 0.17785739662879202, 'step_size': 0.02600136668576865, 'l2_reg_w': 0.09975796059141465, 'rank': 29, 'l2_reg_V': 0.008759430587038512, 'n_iter': 2320} => AUC: 0.535068, Results: [7.12828028e-06 5.20682928e-04 2.31428066e-03 ... 8.84742722e-03\n",
      " 1.04987386e-02 6.90804802e-03]\n",
      "[11:22:26] Params: {'init_stdev': 0.06590141218902422, 'step_size': 0.01823719559468968, 'l2_reg_w': 1.386162233392117, 'rank': 2, 'l2_reg_V': 0.13205120660150854, 'n_iter': 7} => AUC: 0.503527, Results: [0.31462188 0.35459341 0.48969668 ... 0.40850758 0.41845848 0.39588744]\n",
      "[11:22:37] Params: {'init_stdev': 0.03276908885915888, 'step_size': 0.1598363342884942, 'l2_reg_w': 0.003067497322501476, 'rank': 18, 'l2_reg_V': 0.2967123666248727, 'n_iter': 3706} => AUC: 0.544953, Results: [3.85195259e-07 9.96352115e-06 8.15192491e-05 ... 1.07427385e-02\n",
      " 1.69284072e-03 1.11865727e-05]\n",
      "[11:22:53] Params: {'init_stdev': 0.05695281667921398, 'step_size': 0.04711558320168937, 'l2_reg_w': 0.05034892034105037, 'rank': 33, 'l2_reg_V': 0.00012463868541266464, 'n_iter': 638} => AUC: 0.548142, Results: [0.00055064 0.00322229 0.00568231 ... 0.00649374 0.00727292 0.00442799]\n",
      "[11:23:11] Params: {'init_stdev': 0.12163667014691425, 'step_size': 0.04211296615856908, 'l2_reg_w': 0.0006055529618039878, 'rank': 43, 'l2_reg_V': 24.135661777173674, 'n_iter': 7496} => AUC: 0.567631, Results: [2.92399866e-05 4.80893743e-05 3.55909099e-04 ... 8.65886788e-03\n",
      " 9.10988433e-03 6.19273838e-04]\n",
      "[11:23:30] Params: {'init_stdev': 0.024488731058558148, 'step_size': 0.014810742023980649, 'l2_reg_w': 0.013327795343784879, 'rank': 47, 'l2_reg_V': 0.0003966782312156239, 'n_iter': 2641} => AUC: 0.543427, Results: [0.00014561 0.00058208 0.00419512 ... 0.00281205 0.00123561 0.00046824]\n",
      "[11:25:08] Params: {'init_stdev': 0.07740846236708526, 'step_size': 0.033987561753254514, 'l2_reg_w': 0.00015288941482266322, 'rank': 381, 'l2_reg_V': 0.0011744361519089844, 'n_iter': 790} => AUC: 0.546775, Results: [1.21281843e-05 2.60832469e-03 1.11705243e-05 ... 5.72841600e-03\n",
      " 6.85765188e-02 2.51039880e-01]\n",
      "[11:25:29] Params: {'init_stdev': 0.05074538816528025, 'step_size': 0.02409931899768369, 'l2_reg_w': 0.029722052594984484, 'rank': 57, 'l2_reg_V': 1.0338963324807604, 'n_iter': 4446} => AUC: 0.565233, Results: [0.00148868 0.003179   0.00773728 ... 0.03096918 0.01485344 0.00501969]\n",
      "[11:25:41] Params: {'init_stdev': 0.15612131033725177, 'step_size': 0.02853573779728053, 'l2_reg_w': 0.004411924668041262, 'rank': 21, 'l2_reg_V': 0.01270088891327035, 'n_iter': 1548} => AUC: 0.527658, Results: [1.62672682e-06 5.82824354e-05 3.01325155e-03 ... 4.98205687e-04\n",
      " 7.29442803e-04 1.26831579e-04]\n",
      "[11:25:50] Params: {'init_stdev': 0.09593743135376932, 'step_size': 0.016874904117724673, 'l2_reg_w': 0.3170228689481641, 'rank': 5, 'l2_reg_V': 1.7730851218714072, 'n_iter': 6615} => AUC: 0.520693, Results: [0.00333625 0.00220498 0.00266321 ... 0.0044345  0.00559273 0.00361931]\n",
      "[11:26:12] Params: {'init_stdev': 0.0387508407323209, 'step_size': 0.06437062021118177, 'l2_reg_w': 9.120327357164732e-05, 'rank': 64, 'l2_reg_V': 0.10443989458476333, 'n_iter': 2076} => AUC: 0.560625, Results: [7.08825697e-05 9.01595720e-04 6.89140416e-03 ... 8.99457780e-03\n",
      " 2.52504985e-03 6.53020998e-04]\n"
     ]
    },
    {
     "name": "stderr",
     "output_type": "stream",
     "text": [
      "/usr/local/lib/python3.5/dist-packages/scipy/stats/_distn_infrastructure.py:879: RuntimeWarning: invalid value encountered in greater\n",
      "  return (self.a < x) & (x < self.b)\n",
      "/usr/local/lib/python3.5/dist-packages/scipy/stats/_distn_infrastructure.py:879: RuntimeWarning: invalid value encountered in less\n",
      "  return (self.a < x) & (x < self.b)\n",
      "/usr/local/lib/python3.5/dist-packages/scipy/stats/_distn_infrastructure.py:1738: RuntimeWarning: invalid value encountered in greater_equal\n",
      "  cond2 = (x >= self.b) & cond0\n"
     ]
    },
    {
     "name": "stdout",
     "output_type": "stream",
     "text": [
      "[11:26:34] Params: {'init_stdev': 0.018028439088060625, 'step_size': 0.4908034764288191, 'l2_reg_w': 0.009654348494166576, 'rank': 74, 'l2_reg_V': 0.0007366400648967798, 'n_iter': 9998} => Failed\n",
      "[11:26:45] Params: {'init_stdev': 0.029743787095991743, 'step_size': 0.02210308718673943, 'l2_reg_w': 3.392072800853669, 'rank': 14, 'l2_reg_V': 0.0037497691423685727, 'n_iter': 5468} => AUC: 0.552033, Results: [0.0039114  0.00385101 0.00401368 ... 0.00732644 0.00680867 0.00440786]\n",
      "[11:27:01] Params: {'init_stdev': 0.020744449842117214, 'step_size': 0.05188368034037931, 'l2_reg_w': 3.0135247191720044e-05, 'rank': 38, 'l2_reg_V': 2.619775978139151, 'n_iter': 1223} => AUC: 0.546946, Results: [0.00022017 0.00049405 0.00301477 ... 0.00276184 0.00058514 0.00023789]\n",
      "[11:30:04] Params: {'init_stdev': 0.015217142243037298, 'step_size': 0.07237295047888384, 'l2_reg_w': 0.01840541625994777, 'rank': 737, 'l2_reg_V': 0.029228509929995813, 'n_iter': 471} => AUC: 0.520673, Results: [0.00041242 0.00091777 0.00175251 ... 0.00069994 0.00029419 0.00080792]\n",
      "[11:30:41] Params: {'init_stdev': 0.04549191222751213, 'step_size': 0.057566901533816994, 'l2_reg_w': 0.06235338687054128, 'rank': 128, 'l2_reg_V': 2.453888847076352e-05, 'n_iter': 3393} => AUC: 0.552012, Results: [5.41739709e-05 1.15257387e-04 7.90350371e-04 ... 6.92576281e-03\n",
      " 8.59006939e-03 4.05477133e-04]\n",
      "[11:34:42] Params: {'init_stdev': 0.0628986242783535, 'step_size': 0.02016359193630635, 'l2_reg_w': 0.1455263788170531, 'rank': 980, 'l2_reg_V': 0.6507009397881967, 'n_iter': 8243} => AUC: 0.549010, Results: [0.00061114 0.00076824 0.00080367 ... 0.00241992 0.00242092 0.00131696]\n",
      "[11:34:53] Params: {'init_stdev': 0.034534670402559475, 'step_size': 0.037916910105055344, 'l2_reg_w': 0.0024159930653123744, 'rank': 15, 'l2_reg_V': 8.309915307025092, 'n_iter': 2736} => AUC: 0.560834, Results: [0.00063596 0.00686603 0.01883792 ... 0.02563462 0.01330285 0.00483804]\n",
      "[11:35:07] Params: {'init_stdev': 0.07424815273182202, 'step_size': 0.01805519948149782, 'l2_reg_w': 0.0014621474869399628, 'rank': 25, 'l2_reg_V': 0.05290150139734148, 'n_iter': 4378} => AUC: 0.564019, Results: [0.00061966 0.00220018 0.01130697 ... 0.03350695 0.01594324 0.00278304]\n",
      "[11:35:34] Params: {'init_stdev': 0.21431396420264343, 'step_size': 0.03159636850226931, 'l2_reg_w': 0.00034661364275932765, 'rank': 83, 'l2_reg_V': 1.274424397774816e-05, 'n_iter': 242} => AUC: 0.488027, Results: [3.28337309e-05 4.91161108e-07 1.54268623e-05 ... 1.77072115e-08\n",
      " 3.18757012e-02 9.79878856e-02]\n",
      "[11:36:22] Params: {'init_stdev': 0.1333495917937487, 'step_size': 0.015545110123495168, 'l2_reg_w': 0.44005939383152826, 'rank': 168, 'l2_reg_V': 3.988757897742808, 'n_iter': 5640} => AUC: 0.512518, Results: [0.00310131 0.00277133 0.00352459 ... 0.0049292  0.00498386 0.00494205]\n",
      "[11:38:32] Params: {'init_stdev': 0.10769393127879812, 'step_size': 0.02732067895671104, 'l2_reg_w': 0.0001970803883999747, 'rank': 512, 'l2_reg_V': 0.20514141669180377, 'n_iter': 1835} => AUC: 0.529336, Results: [1.80613037e-05 1.35660094e-04 5.91321669e-03 ... 3.59557177e-03\n",
      " 1.69125400e-03 4.00748945e-04]\n",
      "[11:39:02] Params: {'init_stdev': 0.08845190007803823, 'step_size': 0.02340188836848751, 'l2_reg_w': 1.7681629317889117e-05, 'rank': 103, 'l2_reg_V': 111.6093776385278, 'n_iter': 309} => AUC: 0.515117, Results: [0. 1. 1. ... 1. 0. 0.]\n",
      "[11:40:28] Params: {'init_stdev': 0.023423913968418773, 'step_size': 0.014100615090216078, 'l2_reg_w': 0.0008266741938250139, 'rank': 333, 'l2_reg_V': 0.34932250534031795, 'n_iter': 557} => AUC: 0.505640, Results: [0.00127363 0.00235306 0.00994501 ... 0.00444481 0.00242331 0.00174349]\n",
      "[11:40:38] Params: {'init_stdev': 0.05165197244691523, 'step_size': 0.09464491271158332, 'l2_reg_w': 0.04333436137024482, 'rank': 11, 'l2_reg_V': 4.903609625129247e-05, 'n_iter': 919} => AUC: 0.555295, Results: [0.00155402 0.00098574 0.00434911 ... 0.01445857 0.01191368 0.00480549]\n",
      "[11:41:37] Params: {'init_stdev': 0.1720761482479961, 'step_size': 0.04037319318196866, 'l2_reg_w': 0.07742456494088899, 'rank': 220, 'l2_reg_V': 0.0019116277709671171, 'n_iter': 9819} => AUC: 0.531194, Results: [2.16052685e-08 2.16535300e-03 2.81530820e-08 ... 1.62267810e-03\n",
      " 1.63984256e-05 3.11750679e-04]\n",
      "[11:41:52] Params: {'init_stdev': 0.042013707674290926, 'step_size': 0.10369616306550469, 'l2_reg_w': 0.7847888822185591, 'rank': 32, 'l2_reg_V': 0.006214772599423201, 'n_iter': 3095} => AUC: 0.537032, Results: [0.00015286 0.00016822 0.00016063 ... 0.00515218 0.00088672 0.00032513]\n",
      "[11:42:12] Params: {'init_stdev': 0.3765084350840524, 'step_size': 0.020829310955704602, 'l2_reg_w': 2.04063238575957, 'rank': 52, 'l2_reg_V': 0.02246187873373962, 'n_iter': 1093} => AUC: 0.514371, Results: [3.57805932e-13 3.14953103e-07 2.63084880e-16 ... 1.13591436e-06\n",
      " 4.87296054e-04 2.82460515e-03]\n"
     ]
    },
    {
     "name": "stderr",
     "output_type": "stream",
     "text": [
      "/usr/local/lib/python3.5/dist-packages/scipy/stats/_distn_infrastructure.py:879: RuntimeWarning: invalid value encountered in greater\n",
      "  return (self.a < x) & (x < self.b)\n",
      "/usr/local/lib/python3.5/dist-packages/scipy/stats/_distn_infrastructure.py:879: RuntimeWarning: invalid value encountered in less\n",
      "  return (self.a < x) & (x < self.b)\n",
      "/usr/local/lib/python3.5/dist-packages/scipy/stats/_distn_infrastructure.py:1738: RuntimeWarning: invalid value encountered in greater_equal\n",
      "  cond2 = (x >= self.b) & cond0\n"
     ]
    },
    {
     "name": "stdout",
     "output_type": "stream",
     "text": [
      "[11:42:19] Params: {'init_stdev': 0.7620247085131843, 'step_size': 0.03631757730030527, 'l2_reg_w': 0.00825697589950356, 'rank': 9, 'l2_reg_V': 61.471808483642874, 'n_iter': 3895} => Failed\n",
      "[11:43:00] Params: {'init_stdev': 0.3053440145519278, 'step_size': 0.032366322592655074, 'l2_reg_w': 0.004839875003796713, 'rank': 141, 'l2_reg_V': 1.370985590667359, 'n_iter': 2367} => AUC: 0.534547, Results: [4.06464561e-06 8.13777068e-05 1.65325665e-02 ... 4.76040657e-03\n",
      " 2.10678473e-03 3.85489809e-04]\n",
      "[11:45:35] Params: {'init_stdev': 0.029917278017110513, 'step_size': 0.02650774888886811, 'l2_reg_w': 6.865819815846486, 'rank': 622, 'l2_reg_V': 21.5932699330407, 'n_iter': 6236} => AUC: 0.523172, Results: [0.00131253 0.00129273 0.00134765 ... 0.00137847 0.00136563 0.00137577]\n",
      "[11:45:46] Params: {'init_stdev': 0.059353926581270464, 'step_size': 0.1158604110400321, 'l2_reg_w': 0.021628269283548447, 'rank': 18, 'l2_reg_V': 0.139550799875706, 'n_iter': 7848} => AUC: 0.549057, Results: [4.36333348e-07 9.53955157e-07 7.31369322e-07 ... 1.04321872e-04\n",
      " 2.04972811e-04 1.29777829e-06]\n",
      "[11:46:01] Params: {'init_stdev': 0.06996527172553609, 'step_size': 0.04878535136419518, 'l2_reg_w': 5.5874136571457316e-05, 'rank': 28, 'l2_reg_V': 0.6596686482717398, 'n_iter': 1563} => AUC: 0.535866, Results: [1.88392786e-05 6.32619500e-05 1.55109678e-03 ... 4.28523535e-04\n",
      " 1.40730487e-04 3.22112434e-05]\n",
      "[11:46:14] Params: {'init_stdev': 0.9723581528908248, 'step_size': 0.08052243264903498, 'l2_reg_w': 0.21066877043639834, 'rank': 23, 'l2_reg_V': 0.0002450061971701151, 'n_iter': 5091} => AUC: 0.508027, Results: [2.37636977e-078 2.97679545e-148 2.05126231e-214 ... 1.55610976e-041\n",
      " 8.67004222e-128 6.64195674e-031]\n",
      "[11:46:23] Params: {'init_stdev': 0.1454417372172731, 'step_size': 0.019245832059155567, 'l2_reg_w': 0.00047088583444474967, 'rank': 6, 'l2_reg_V': 0.011890074627335226, 'n_iter': 2051} => AUC: 0.535155, Results: [1.38745747e-05 2.39428318e-04 6.81605696e-03 ... 1.82591094e-03\n",
      " 1.33963724e-03 2.27945700e-04]\n",
      "[11:46:42] Params: {'init_stdev': 0.036180559868607576, 'step_size': 0.01268448960990036, 'l2_reg_w': 0.0017885119241807495, 'rank': 46, 'l2_reg_V': 0.003616207815803286, 'n_iter': 1291} => AUC: 0.517944, Results: [0.00038385 0.00089004 0.00709164 ... 0.00267051 0.00148581 0.00061801]\n",
      "[11:50:17] Params: {'init_stdev': 0.026308917143030068, 'step_size': 0.016551095938638998, 'l2_reg_w': 0.03537097955089004, 'rank': 865, 'l2_reg_V': 7.509789456374169, 'n_iter': 705} => AUC: 0.515400, Results: [0.00055502 0.00147452 0.00628984 ... 0.00321733 0.00147543 0.0009507 ]\n",
      "[11:50:26] Params: {'init_stdev': 0.012427355210165428, 'step_size': 0.02528183702165618, 'l2_reg_w': 0.1276326739919407, 'rank': 8, 'l2_reg_V': 0.00015790573048025694, 'n_iter': 2749} => AUC: 0.552750, Results: [0.00292684 0.00752206 0.00689341 ... 0.01171316 0.01010376 0.00754019]\n"
     ]
    },
    {
     "name": "stderr",
     "output_type": "stream",
     "text": [
      "/usr/local/lib/python3.5/dist-packages/scipy/stats/_distn_infrastructure.py:879: RuntimeWarning: invalid value encountered in greater\n",
      "  return (self.a < x) & (x < self.b)\n",
      "/usr/local/lib/python3.5/dist-packages/scipy/stats/_distn_infrastructure.py:879: RuntimeWarning: invalid value encountered in less\n",
      "  return (self.a < x) & (x < self.b)\n",
      "/usr/local/lib/python3.5/dist-packages/scipy/stats/_distn_infrastructure.py:1738: RuntimeWarning: invalid value encountered in greater_equal\n",
      "  cond2 = (x >= self.b) & cond0\n"
     ]
    },
    {
     "name": "stdout",
     "output_type": "stream",
     "text": [
      "[11:50:53] Params: {'init_stdev': 0.1152945701917211, 'step_size': 0.06196514688213674, 'l2_reg_w': 4640.212484610739, 'rank': 95, 'l2_reg_V': 0.08818136103630599, 'n_iter': 4034} => Failed\n",
      "[11:51:15] Params: {'init_stdev': 0.0196868147286958, 'step_size': 0.029677487054926403, 'l2_reg_w': 896.2140880544792, 'rank': 64, 'l2_reg_V': 0.0005196486516358046, 'n_iter': 5} => AUC: 0.497645, Results: [0. 0. 0. ... 0. 0. 0.]\n",
      "[11:52:20] Params: {'init_stdev': 0.09689871304788995, 'step_size': 0.014402069832729568, 'l2_reg_w': 0.011800274805585185, 'rank': 245, 'l2_reg_V': 0.0013729680339095824, 'n_iter': 415} => AUC: 0.497766, Results: [3.24999697e-05 3.16907143e-04 9.22773183e-04 ... 7.56455914e-05\n",
      " 2.64391101e-04 1.28366597e-02]\n",
      "[11:52:54] Params: {'init_stdev': 0.016517155770240315, 'step_size': 0.011404786249127826, 'l2_reg_w': 1.0184658954158813e-05, 'rank': 113, 'l2_reg_V': 0.042419866197948256, 'n_iter': 8554} => AUC: 0.554151, Results: [8.60206619e-05 1.07101473e-04 1.14805573e-03 ... 3.80640381e-03\n",
      " 2.49456515e-03 3.30453018e-04]\n",
      "[11:53:11] Params: {'init_stdev': 0.2535693452689296, 'step_size': 0.17265300323970775, 'l2_reg_w': 0.003379770752622265, 'rank': 39, 'l2_reg_V': 3.2025850821720065, 'n_iter': 1} => AUC: 0.509205, Results: [0.02934528 0.42266985 0.28702016 ... 0.45556643 0.96932925 0.10832224]\n",
      "[11:54:03] Params: {'init_stdev': 0.04779100985075737, 'step_size': 0.14727674007759112, 'l2_reg_w': 0.0008552671918677924, 'rank': 189, 'l2_reg_V': 0.23753987787536082, 'n_iter': 850} => AUC: 0.542423, Results: [0.00819727 0.00264911 0.00497443 ... 0.03507131 0.03829415 0.01812365]\n",
      "[11:55:49] Params: {'init_stdev': 0.05816019285825228, 'step_size': 0.022495661273042082, 'l2_reg_w': 0.9916230375614087, 'rank': 412, 'l2_reg_V': 1.0328534685063417, 'n_iter': 6780} => AUC: 0.486802, Results: [0.00135917 0.00124799 0.00117189 ... 0.00146947 0.00156891 0.00121922]\n",
      "[11:56:15] Params: {'init_stdev': 0.0828497364734024, 'step_size': 0.01802558827478476, 'l2_reg_w': 0.016876440992966327, 'rank': 76, 'l2_reg_V': 8.565039016206026e-05, 'n_iter': 5142} => AUC: 0.560573, Results: [1.06874488e-05 3.45496212e-04 5.70553477e-04 ... 3.55955271e-02\n",
      " 9.54787262e-03 1.47427821e-03]\n",
      "[11:56:27] Params: {'init_stdev': 0.04043454319077196, 'step_size': 0.043599902636420954, 'l2_reg_w': 0.00011372024867303434, 'rank': 19, 'l2_reg_V': 33.49214299240959, 'n_iter': 3282} => AUC: 0.568661, Results: [1.69863953e-05 3.45779623e-04 1.80729041e-03 ... 1.01278680e-02\n",
      " 4.73440333e-03 1.86822595e-04]\n"
     ]
    },
    {
     "name": "stderr",
     "output_type": "stream",
     "text": [
      "/usr/local/lib/python3.5/dist-packages/scipy/stats/_distn_infrastructure.py:879: RuntimeWarning: invalid value encountered in greater\n",
      "  return (self.a < x) & (x < self.b)\n",
      "/usr/local/lib/python3.5/dist-packages/scipy/stats/_distn_infrastructure.py:879: RuntimeWarning: invalid value encountered in less\n",
      "  return (self.a < x) & (x < self.b)\n",
      "/usr/local/lib/python3.5/dist-packages/scipy/stats/_distn_infrastructure.py:1738: RuntimeWarning: invalid value encountered in greater_equal\n",
      "  cond2 = (x >= self.b) & cond0\n"
     ]
    },
    {
     "name": "stdout",
     "output_type": "stream",
     "text": [
      "[11:56:33] Params: {'init_stdev': 0.030600562903441056, 'step_size': 0.06682107356123883, 'l2_reg_w': 0.00012024120975547638, 'rank': 5, 'l2_reg_V': 43.71463577818641, 'n_iter': 1780} => Failed\n"
     ]
    },
    {
     "name": "stderr",
     "output_type": "stream",
     "text": [
      "/usr/local/lib/python3.5/dist-packages/scipy/stats/_distn_infrastructure.py:879: RuntimeWarning: invalid value encountered in greater\n",
      "  return (self.a < x) & (x < self.b)\n",
      "/usr/local/lib/python3.5/dist-packages/scipy/stats/_distn_infrastructure.py:879: RuntimeWarning: invalid value encountered in less\n",
      "  return (self.a < x) & (x < self.b)\n",
      "/usr/local/lib/python3.5/dist-packages/scipy/stats/_distn_infrastructure.py:1738: RuntimeWarning: invalid value encountered in greater_equal\n",
      "  cond2 = (x >= self.b) & cond0\n"
     ]
    },
    {
     "name": "stdout",
     "output_type": "stream",
     "text": [
      "[11:56:40] Params: {'init_stdev': 0.01038234640600505, 'step_size': 0.04337756995022854, 'l2_reg_w': 7.763590976229147e-05, 'rank': 10, 'l2_reg_V': 182.55686690017674, 'n_iter': 1093} => Failed\n"
     ]
    },
    {
     "name": "stderr",
     "output_type": "stream",
     "text": [
      "/usr/local/lib/python3.5/dist-packages/scipy/stats/_distn_infrastructure.py:879: RuntimeWarning: invalid value encountered in greater\n",
      "  return (self.a < x) & (x < self.b)\n",
      "/usr/local/lib/python3.5/dist-packages/scipy/stats/_distn_infrastructure.py:879: RuntimeWarning: invalid value encountered in less\n",
      "  return (self.a < x) & (x < self.b)\n",
      "/usr/local/lib/python3.5/dist-packages/scipy/stats/_distn_infrastructure.py:1738: RuntimeWarning: invalid value encountered in greater_equal\n",
      "  cond2 = (x >= self.b) & cond0\n"
     ]
    },
    {
     "name": "stdout",
     "output_type": "stream",
     "text": [
      "[11:56:44] Params: {'init_stdev': 0.014056255015955203, 'step_size': 0.05407797316807561, 'l2_reg_w': 4.0487037146580354e-05, 'rank': 1, 'l2_reg_V': 1056.5953361456131, 'n_iter': 3432} => Failed\n"
     ]
    },
    {
     "name": "stderr",
     "output_type": "stream",
     "text": [
      "/usr/local/lib/python3.5/dist-packages/scipy/stats/_distn_infrastructure.py:879: RuntimeWarning: invalid value encountered in greater\n",
      "  return (self.a < x) & (x < self.b)\n",
      "/usr/local/lib/python3.5/dist-packages/scipy/stats/_distn_infrastructure.py:879: RuntimeWarning: invalid value encountered in less\n",
      "  return (self.a < x) & (x < self.b)\n",
      "/usr/local/lib/python3.5/dist-packages/scipy/stats/_distn_infrastructure.py:1738: RuntimeWarning: invalid value encountered in greater_equal\n",
      "  cond2 = (x >= self.b) & cond0\n"
     ]
    },
    {
     "name": "stdout",
     "output_type": "stream",
     "text": [
      "[11:56:53] Params: {'init_stdev': 0.00785951746604406, 'step_size': 0.05752002743118824, 'l2_reg_w': 1.9102513909747325e-05, 'rank': 20, 'l2_reg_V': 91.62618978571423, 'n_iter': 578} => Failed\n"
     ]
    },
    {
     "name": "stderr",
     "output_type": "stream",
     "text": [
      "/usr/local/lib/python3.5/dist-packages/scipy/stats/_distn_infrastructure.py:879: RuntimeWarning: invalid value encountered in greater\n",
      "  return (self.a < x) & (x < self.b)\n",
      "/usr/local/lib/python3.5/dist-packages/scipy/stats/_distn_infrastructure.py:879: RuntimeWarning: invalid value encountered in less\n",
      "  return (self.a < x) & (x < self.b)\n",
      "/usr/local/lib/python3.5/dist-packages/scipy/stats/_distn_infrastructure.py:1738: RuntimeWarning: invalid value encountered in greater_equal\n",
      "  cond2 = (x >= self.b) & cond0\n"
     ]
    },
    {
     "name": "stdout",
     "output_type": "stream",
     "text": [
      "[11:56:59] Params: {'init_stdev': 0.021589134239574453, 'step_size': 0.04699698049558347, 'l2_reg_w': 0.00017031786263450822, 'rank': 7, 'l2_reg_V': 242.1682763430825, 'n_iter': 1534} => Failed\n",
      "[11:57:08] Params: {'init_stdev': 0.03964147758648667, 'step_size': 0.07304760379958546, 'l2_reg_w': 0.00025627067816231635, 'rank': 4, 'l2_reg_V': 13.503228245373059, 'n_iter': 3053} => AUC: 0.563653, Results: [9.41672893e-06 6.97419757e-04 1.94321673e-03 ... 1.79566495e-02\n",
      " 6.55823626e-03 3.88154671e-04]\n"
     ]
    },
    {
     "name": "stderr",
     "output_type": "stream",
     "text": [
      "/usr/local/lib/python3.5/dist-packages/scipy/stats/_distn_infrastructure.py:879: RuntimeWarning: invalid value encountered in greater\n",
      "  return (self.a < x) & (x < self.b)\n",
      "/usr/local/lib/python3.5/dist-packages/scipy/stats/_distn_infrastructure.py:879: RuntimeWarning: invalid value encountered in less\n",
      "  return (self.a < x) & (x < self.b)\n",
      "/usr/local/lib/python3.5/dist-packages/scipy/stats/_distn_infrastructure.py:1738: RuntimeWarning: invalid value encountered in greater_equal\n",
      "  cond2 = (x >= self.b) & cond0\n"
     ]
    },
    {
     "name": "stdout",
     "output_type": "stream",
     "text": [
      "[11:57:16] Params: {'init_stdev': 0.02728233040719849, 'step_size': 0.049636952429804926, 'l2_reg_w': 2.6080727467024277e-05, 'rank': 16, 'l2_reg_V': 279.75472363352185, 'n_iter': 2257} => Failed\n",
      "[11:57:27] Params: {'init_stdev': 0.03549908317498767, 'step_size': 0.08656471805086924, 'l2_reg_w': 1.4738047239362472e-05, 'rank': 14, 'l2_reg_V': 6.093182419882708, 'n_iter': 19} => AUC: 0.502915, Results: [0.03073669 0.03316529 0.09766935 ... 0.05474799 0.03289142 0.02844141]\n"
     ]
    },
    {
     "name": "stderr",
     "output_type": "stream",
     "text": [
      "/usr/local/lib/python3.5/dist-packages/scipy/stats/_distn_infrastructure.py:879: RuntimeWarning: invalid value encountered in greater\n",
      "  return (self.a < x) & (x < self.b)\n",
      "/usr/local/lib/python3.5/dist-packages/scipy/stats/_distn_infrastructure.py:879: RuntimeWarning: invalid value encountered in less\n",
      "  return (self.a < x) & (x < self.b)\n",
      "/usr/local/lib/python3.5/dist-packages/scipy/stats/_distn_infrastructure.py:1738: RuntimeWarning: invalid value encountered in greater_equal\n",
      "  cond2 = (x >= self.b) & cond0\n"
     ]
    },
    {
     "name": "stdout",
     "output_type": "stream",
     "text": [
      "[11:57:33] Params: {'init_stdev': 0.018808049594791543, 'step_size': 0.040241865679771345, 'l2_reg_w': 0.0003344913090733824, 'rank': 9, 'l2_reg_V': 869.6070007784755, 'n_iter': 738} => Failed\n",
      "[11:57:44] Params: {'init_stdev': 0.04517216602531049, 'step_size': 0.043723617213249355, 'l2_reg_w': 6.597977863669394e-05, 'rank': 11, 'l2_reg_V': 22.552171334471794, 'n_iter': 341} => AUC: 0.500387, Results: [0.00069956 0.00133195 0.00587817 ... 0.00240254 0.00098557 0.00058326]\n",
      "[11:57:55] Params: {'init_stdev': 0.1904953890709664, 'step_size': 0.06042536938245009, 'l2_reg_w': 1.0377178662859613e-05, 'rank': 23, 'l2_reg_V': 38.89932252563727, 'n_iter': 67} => AUC: 0.485453, Results: [1. 0. 1. ... 0. 0. 0.]\n"
     ]
    },
    {
     "name": "stderr",
     "output_type": "stream",
     "text": [
      "/usr/local/lib/python3.5/dist-packages/scipy/stats/_distn_infrastructure.py:879: RuntimeWarning: invalid value encountered in greater\n",
      "  return (self.a < x) & (x < self.b)\n",
      "/usr/local/lib/python3.5/dist-packages/scipy/stats/_distn_infrastructure.py:879: RuntimeWarning: invalid value encountered in less\n",
      "  return (self.a < x) & (x < self.b)\n",
      "/usr/local/lib/python3.5/dist-packages/scipy/stats/_distn_infrastructure.py:1738: RuntimeWarning: invalid value encountered in greater_equal\n",
      "  cond2 = (x >= self.b) & cond0\n"
     ]
    },
    {
     "name": "stdout",
     "output_type": "stream",
     "text": [
      "[11:58:02] Params: {'init_stdev': 0.06714988385628538, 'step_size': 0.06738115999882668, 'l2_reg_w': 3.723844678517214e-05, 'rank': 12, 'l2_reg_V': 430.1227478091231, 'n_iter': 1353} => Failed\n"
     ]
    },
    {
     "name": "stderr",
     "output_type": "stream",
     "text": [
      "/usr/local/lib/python3.5/dist-packages/scipy/stats/_distn_infrastructure.py:879: RuntimeWarning: invalid value encountered in greater\n",
      "  return (self.a < x) & (x < self.b)\n",
      "/usr/local/lib/python3.5/dist-packages/scipy/stats/_distn_infrastructure.py:879: RuntimeWarning: invalid value encountered in less\n",
      "  return (self.a < x) & (x < self.b)\n",
      "/usr/local/lib/python3.5/dist-packages/scipy/stats/_distn_infrastructure.py:1738: RuntimeWarning: invalid value encountered in greater_equal\n",
      "  cond2 = (x >= self.b) & cond0\n"
     ]
    },
    {
     "name": "stdout",
     "output_type": "stream",
     "text": [
      "[11:59:15] Params: {'init_stdev': 0.05159537805038175, 'step_size': 0.07662619052875254, 'l2_reg_w': 0.0004635772412825825, 'rank': 288, 'l2_reg_V': 4045.47218893678, 'n_iter': 2529} => Failed\n",
      "[11:59:23] Params: {'init_stdev': 0.023932899761396554, 'step_size': 0.03341591420760828, 'l2_reg_w': 0.0011387179045819846, 'rank': 3, 'l2_reg_V': 68.12199909815966, 'n_iter': 15} => AUC: 0.513511, Results: [0.17752015 0.2033207  0.26839121 ... 0.28742907 0.26546468 0.21457812]\n"
     ]
    },
    {
     "name": "stderr",
     "output_type": "stream",
     "text": [
      "/usr/local/lib/python3.5/dist-packages/scipy/stats/_distn_infrastructure.py:879: RuntimeWarning: invalid value encountered in greater\n",
      "  return (self.a < x) & (x < self.b)\n",
      "/usr/local/lib/python3.5/dist-packages/scipy/stats/_distn_infrastructure.py:879: RuntimeWarning: invalid value encountered in less\n",
      "  return (self.a < x) & (x < self.b)\n",
      "/usr/local/lib/python3.5/dist-packages/scipy/stats/_distn_infrastructure.py:1738: RuntimeWarning: invalid value encountered in greater_equal\n",
      "  cond2 = (x >= self.b) & cond0\n"
     ]
    },
    {
     "name": "stdout",
     "output_type": "stream",
     "text": [
      "[11:59:35] Params: {'init_stdev': 0.12310329328017769, 'step_size': 0.05609009875193017, 'l2_reg_w': 9.474883530661177e-05, 'rank': 29, 'l2_reg_V': 2310.581648167483, 'n_iter': 1803} => Failed\n",
      "[12:02:03] Params: {'init_stdev': 0.01675687039467007, 'step_size': 0.03493567705264162, 'l2_reg_w': 0.00016162295086339894, 'rank': 582, 'l2_reg_V': 10.355377948658637, 'n_iter': 9736} => AUC: 0.566572, Results: [8.60875365e-05 5.30868761e-05 5.58603930e-04 ... 6.86939675e-03\n",
      " 1.01666032e-02 1.40208424e-03]\n"
     ]
    },
    {
     "name": "stderr",
     "output_type": "stream",
     "text": [
      "/usr/local/lib/python3.5/dist-packages/scipy/stats/_distn_infrastructure.py:879: RuntimeWarning: invalid value encountered in greater\n",
      "  return (self.a < x) & (x < self.b)\n",
      "/usr/local/lib/python3.5/dist-packages/scipy/stats/_distn_infrastructure.py:879: RuntimeWarning: invalid value encountered in less\n",
      "  return (self.a < x) & (x < self.b)\n",
      "/usr/local/lib/python3.5/dist-packages/scipy/stats/_distn_infrastructure.py:1738: RuntimeWarning: invalid value encountered in greater_equal\n",
      "  cond2 = (x >= self.b) & cond0\n"
     ]
    },
    {
     "name": "stdout",
     "output_type": "stream",
     "text": [
      "[12:02:08] Params: {'init_stdev': 0.07486228872811154, 'step_size': 0.037159407043731434, 'l2_reg_w': 60977.141322211784, 'rank': 1, 'l2_reg_V': 128.25667525156445, 'n_iter': 957} => Failed\n",
      "[12:02:20] Params: {'init_stdev': 0.0011800121102874092, 'step_size': 0.05168282996807836, 'l2_reg_w': 0.0005253443340777628, 'rank': 18, 'l2_reg_V': 34.63804772440621, 'n_iter': 6177} => AUC: 0.546532, Results: [1.29882929e-04 1.65449795e-05 4.47760170e-04 ... 2.83840976e-03\n",
      " 3.09715301e-03 2.99012291e-04]\n",
      "[12:04:24] Params: {'init_stdev': 0.10094257227372894, 'step_size': 0.09796667117816855, 'l2_reg_w': 0.0027333965304906812, 'rank': 473, 'l2_reg_V': 16.662313606563714, 'n_iter': 4276} => AUC: 0.542428, Results: [1.95405646e-05 2.04408828e-05 3.29391641e-04 ... 3.88359190e-03\n",
      " 2.31541643e-03 5.21639853e-04]\n",
      "[12:07:40] Params: {'init_stdev': 0.03215104094346056, 'step_size': 0.045724797422602985, 'l2_reg_w': 0.0006625894797363529, 'rank': 776, 'l2_reg_V': 2.337132439311845, 'n_iter': 9975} => AUC: 0.568460, Results: [0.00045798 0.00025526 0.00155065 ... 0.03193148 0.04804406 0.00509025]\n",
      "[12:10:34] Params: {'init_stdev': 0.011158548566239466, 'step_size': 0.02876437572095581, 'l2_reg_w': 0.0014443256860452898, 'rank': 712, 'l2_reg_V': 3.8311137295058906, 'n_iter': 2} => AUC: 0.513806, Results: [0.43900264 0.45520971 0.46541297 ... 0.45433197 0.46016587 0.47182728]\n",
      "[12:10:49] Params: {'init_stdev': 0.013146321615750562, 'step_size': 0.031862498091061925, 'l2_reg_w': 0.005717847231851094, 'rank': 33, 'l2_reg_V': 1.911432130790884e-05, 'n_iter': 7307} => AUC: 0.564533, Results: [0.00031257 0.00023453 0.00104222 ... 0.00849531 0.01171518 0.00178811]\n",
      "[12:11:03] Params: {'init_stdev': 0.007371283406924295, 'step_size': 0.03977617836155092, 'l2_reg_w': 0.0017122154295919614, 'rank': 26, 'l2_reg_V': 2.228625874091611, 'n_iter': 31} => AUC: 0.508811, Results: [0.09028292 0.10058138 0.14294962 ... 0.12477075 0.09959194 0.07642012]\n",
      "[12:11:12] Params: {'init_stdev': 0.0326234373984537, 'step_size': 0.045585250888140874, 'l2_reg_w': 0.00030174342682580385, 'rank': 6, 'l2_reg_V': 1.506372117454303, 'n_iter': 8639} => AUC: 0.550477, Results: [9.75140269e-05 1.00097501e-05 4.73834316e-04 ... 5.14710513e-03\n",
      " 9.28647040e-03 2.02332218e-03]\n",
      "[12:12:40] Params: {'init_stdev': 0.015191357980427351, 'step_size': 0.027489699969791642, 'l2_reg_w': 0.0007358642172529681, 'rank': 344, 'l2_reg_V': 24.844581021979117, 'n_iter': 9684} => AUC: 0.560737, Results: [9.59201495e-05 4.01607366e-05 7.07331456e-04 ... 3.71971180e-03\n",
      " 5.65438033e-03 1.01540057e-03]\n",
      "[12:15:58] Params: {'init_stdev': 0.0236453166526493, 'step_size': 0.03586227937942231, 'l2_reg_w': 0.008953822642486817, 'rank': 805, 'l2_reg_V': 0.5626180087105513, 'n_iter': 6329} => AUC: 0.548918, Results: [0.00104541 0.00013233 0.00240746 ... 0.01183668 0.01235048 0.00157102]\n"
     ]
    },
    {
     "name": "stderr",
     "output_type": "stream",
     "text": [
      "/usr/local/lib/python3.5/dist-packages/scipy/stats/_distn_infrastructure.py:879: RuntimeWarning: invalid value encountered in greater\n",
      "  return (self.a < x) & (x < self.b)\n",
      "/usr/local/lib/python3.5/dist-packages/scipy/stats/_distn_infrastructure.py:879: RuntimeWarning: invalid value encountered in less\n",
      "  return (self.a < x) & (x < self.b)\n",
      "/usr/local/lib/python3.5/dist-packages/scipy/stats/_distn_infrastructure.py:1738: RuntimeWarning: invalid value encountered in greater_equal\n",
      "  cond2 = (x >= self.b) & cond0\n"
     ]
    },
    {
     "name": "stdout",
     "output_type": "stream",
     "text": [
      "[12:16:39] Params: {'init_stdev': 0.02789988995241312, 'step_size': 0.030007246081507184, 'l2_reg_w': 24201.77408001054, 'rank': 153, 'l2_reg_V': 1.0143471797796366e-05, 'n_iter': 5153} => Failed\n",
      "[12:16:50] Params: {'init_stdev': 0.009686018208587055, 'step_size': 0.024263340209156485, 'l2_reg_w': 0.004007893837959354, 'rank': 15, 'l2_reg_V': 61.56618928396097, 'n_iter': 3733} => AUC: 0.568175, Results: [0.00011197 0.00070942 0.00314096 ... 0.01233643 0.00441869 0.00037878]\n",
      "[12:16:57] Params: {'init_stdev': 0.0385115124477716, 'step_size': 0.041969481155984416, 'l2_reg_w': 0.0011073074174379521, 'rank': 5, 'l2_reg_V': 644.1282887444372, 'n_iter': 10} => AUC: 0.493533, Results: [1. 1. 1. ... 1. 1. 1.]\n",
      "[12:17:17] Params: {'init_stdev': 0.0059926013809309155, 'step_size': 0.03395744276319748, 'l2_reg_w': 5.128150472150523e-05, 'rank': 55, 'l2_reg_V': 10.430927186156543, 'n_iter': 9821} => AUC: 0.563603, Results: [1.30205327e-04 6.09256606e-05 7.01414866e-04 ... 6.97748488e-03\n",
      " 1.12981909e-02 1.99940919e-03]\n",
      "[12:21:18] Params: {'init_stdev': 0.08529508815556901, 'step_size': 0.047663431171344944, 'l2_reg_w': 0.0006308884564338482, 'rank': 990, 'l2_reg_V': 2.387245171407802, 'n_iter': 2986} => AUC: 0.563235, Results: [2.32958003e-05 1.00850971e-03 5.40370373e-03 ... 2.21643597e-02\n",
      " 7.45879317e-03 7.18504017e-04]\n",
      "[12:21:26] Params: {'init_stdev': 0.019215827450197544, 'step_size': 0.025775234352095416, 'l2_reg_w': 0.00013269949688191927, 'rank': 8, 'l2_reg_V': 144.282243093623, 'n_iter': 209} => AUC: 0.496055, Results: [1. 1. 0. ... 1. 1. 1.]\n",
      "[12:21:38] Params: {'init_stdev': 0.053436542629077995, 'step_size': 0.03748842756171347, 'l2_reg_w': 0.0026042446088123624, 'rank': 20, 'l2_reg_V': 0.4003642556188791, 'n_iter': 7031} => AUC: 0.549180, Results: [5.81618288e-05 1.42831016e-05 2.61701497e-04 ... 5.53766148e-03\n",
      " 4.04475036e-03 2.39388463e-04]\n",
      "[12:23:28] Params: {'init_stdev': 0.033105836296003395, 'step_size': 0.03016280869847092, 'l2_reg_w': 2.9895141174972683e-05, 'rank': 432, 'l2_reg_V': 4.406251305832928, 'n_iter': 8120} => AUC: 0.565319, Results: [3.23515524e-05 3.07948036e-05 2.78952469e-04 ... 4.39498085e-03\n",
      " 4.81123609e-03 2.38931612e-04]\n",
      "[12:23:37] Params: {'init_stdev': 0.14411809926199598, 'step_size': 0.05320853046014178, 'l2_reg_w': 0.005606981697904457, 'rank': 7, 'l2_reg_V': 1.0174616642715584, 'n_iter': 4359} => AUC: 0.557074, Results: [0.00382019 0.0069682  0.0177815  ... 0.14139524 0.07965042 0.0222055 ]\n"
     ]
    },
    {
     "name": "stderr",
     "output_type": "stream",
     "text": [
      "/usr/local/lib/python3.5/dist-packages/scipy/stats/_distn_infrastructure.py:879: RuntimeWarning: invalid value encountered in greater\n",
      "  return (self.a < x) & (x < self.b)\n",
      "/usr/local/lib/python3.5/dist-packages/scipy/stats/_distn_infrastructure.py:879: RuntimeWarning: invalid value encountered in less\n",
      "  return (self.a < x) & (x < self.b)\n",
      "/usr/local/lib/python3.5/dist-packages/scipy/stats/_distn_infrastructure.py:1738: RuntimeWarning: invalid value encountered in greater_equal\n",
      "  cond2 = (x >= self.b) & cond0\n"
     ]
    },
    {
     "name": "stdout",
     "output_type": "stream",
     "text": [
      "[12:23:44] Params: {'init_stdev': 0.04225084189200119, 'step_size': 0.022674124007965472, 'l2_reg_w': 0.026777441095884376, 'rank': 13, 'l2_reg_V': 1797.1271003542115, 'n_iter': 2223} => Failed\n"
     ]
    },
    {
     "name": "stderr",
     "output_type": "stream",
     "text": [
      "/usr/local/lib/python3.5/dist-packages/scipy/stats/_distn_infrastructure.py:879: RuntimeWarning: invalid value encountered in greater\n",
      "  return (self.a < x) & (x < self.b)\n",
      "/usr/local/lib/python3.5/dist-packages/scipy/stats/_distn_infrastructure.py:879: RuntimeWarning: invalid value encountered in less\n",
      "  return (self.a < x) & (x < self.b)\n",
      "/usr/local/lib/python3.5/dist-packages/scipy/stats/_distn_infrastructure.py:1738: RuntimeWarning: invalid value encountered in greater_equal\n",
      "  cond2 = (x >= self.b) & cond0\n"
     ]
    },
    {
     "name": "stdout",
     "output_type": "stream",
     "text": [
      "[12:23:51] Params: {'init_stdev': 0.02235612655658711, 'step_size': 0.06281016327515161, 'l2_reg_w': 0.00021798877156834707, 'rank': 10, 'l2_reg_V': 41670.86138965549, 'n_iter': 9956} => Failed\n",
      "[12:26:04] Params: {'init_stdev': 0.004384810437885266, 'step_size': 0.02083188496800155, 'l2_reg_w': 0.013554325229829606, 'rank': 539, 'l2_reg_V': 7.952694677424304, 'n_iter': 46} => AUC: 0.500312, Results: [0.1463122  0.15190034 0.20719406 ... 0.16996368 0.1477124  0.13296286]\n",
      "[12:27:15] Params: {'init_stdev': 0.07141837077985341, 'step_size': 0.039535625348000536, 'l2_reg_w': 9.392514614394348e-05, 'rank': 273, 'l2_reg_V': 295.77096899972094, 'n_iter': 132} => AUC: 0.494641, Results: [0. 0. 0. ... 0. 0. 0.]\n",
      "[12:28:15] Params: {'init_stdev': 0.027403999975255538, 'step_size': 0.04460562908848207, 'l2_reg_w': 0.0020922435752120656, 'rank': 227, 'l2_reg_V': 4.084086668577768e-05, 'n_iter': 23} => AUC: 0.499342, Results: [0.06339074 0.06598774 0.14075881 ... 0.08640425 0.05724019 0.05847909]\n"
     ]
    },
    {
     "name": "stderr",
     "output_type": "stream",
     "text": [
      "/usr/local/lib/python3.5/dist-packages/scipy/stats/_distn_infrastructure.py:879: RuntimeWarning: invalid value encountered in greater\n",
      "  return (self.a < x) & (x < self.b)\n",
      "/usr/local/lib/python3.5/dist-packages/scipy/stats/_distn_infrastructure.py:879: RuntimeWarning: invalid value encountered in less\n",
      "  return (self.a < x) & (x < self.b)\n",
      "/usr/local/lib/python3.5/dist-packages/scipy/stats/_distn_infrastructure.py:1738: RuntimeWarning: invalid value encountered in greater_equal\n",
      "  cond2 = (x >= self.b) & cond0\n"
     ]
    },
    {
     "name": "stdout",
     "output_type": "stream",
     "text": [
      "[12:28:30] Params: {'init_stdev': 0.06411161354152228, 'step_size': 0.033060579392776755, 'l2_reg_w': 48.64695699715572, 'rank': 45, 'l2_reg_V': 88.82246213131994, 'n_iter': 5784} => Failed\n",
      "[12:28:37] Params: {'init_stdev': 0.048873253959960124, 'step_size': 0.08030395601928214, 'l2_reg_w': 0.0004128262184175019, 'rank': 3, 'l2_reg_V': 31.500593782682717, 'n_iter': 278} => AUC: 0.500233, Results: [1. 1. 1. ... 1. 1. 1.]\n",
      "[12:29:04] Params: {'init_stdev': 0.0050604264630443475, 'step_size': 0.026689686918284234, 'l2_reg_w': 0.0009078176355572877, 'rank': 87, 'l2_reg_V': 17.363588200964728, 'n_iter': 1321} => AUC: 0.528331, Results: [0.00035649 0.00054984 0.00422754 ... 0.00195271 0.00066703 0.00028405]\n",
      "[12:29:55] Params: {'init_stdev': 0.11210655733088089, 'step_size': 0.07082854386654817, 'l2_reg_w': 0.09448485713731877, 'rank': 184, 'l2_reg_V': 0.0003104922910622666, 'n_iter': 2720} => AUC: 0.513246, Results: [1.59617607e-06 2.16995821e-01 1.58078511e-04 ... 1.24518808e-02\n",
      " 3.98375171e-05 6.49110779e-03]\n",
      "[12:31:31] Params: {'init_stdev': 0.22564007587508467, 'step_size': 0.028187054572333673, 'l2_reg_w': 0.009083792598955562, 'rank': 375, 'l2_reg_V': 1.8949455667577657, 'n_iter': 4809} => AUC: 0.558750, Results: [9.73269810e-06 1.25482012e-04 1.81566293e-03 ... 2.04295503e-02\n",
      " 5.15522912e-03 3.08497637e-04]\n",
      "[12:31:52] Params: {'init_stdev': 0.09343563720445283, 'step_size': 0.015555984980066063, 'l2_reg_w': 1.031139440591349e-05, 'rank': 60, 'l2_reg_V': 0.6894667054411151, 'n_iter': 3775} => AUC: 0.553186, Results: [0.00010554 0.00068003 0.00698847 ... 0.01191196 0.00438105 0.00052235]\n",
      "[12:32:29] Params: {'init_stdev': 0.17014301660462844, 'step_size': 0.02515238526015162, 'l2_reg_w': 0.0036654485433081255, 'rank': 125, 'l2_reg_V': 6.174506704266024e-05, 'n_iter': 175} => AUC: 0.476315, Results: [5.78797741e-04 3.62813753e-04 2.98370573e-04 ... 6.70639019e-06\n",
      " 7.13188676e-04 1.52932815e-03]\n",
      "[12:32:43] Params: {'init_stdev': 0.012307323590458682, 'step_size': 0.05066167888726228, 'l2_reg_w': 0.02324652458227145, 'rank': 25, 'l2_reg_V': 4.800515004857485, 'n_iter': 2050} => AUC: 0.555623, Results: [6.89565146e-05 9.12362901e-04 2.80350196e-03 ... 4.38102076e-03\n",
      " 1.22317473e-03 7.04389988e-04]\n",
      "[12:32:58] Params: {'init_stdev': 0.00863825199472182, 'step_size': 0.02178807200779107, 'l2_reg_w': 0.03842771589812334, 'rank': 35, 'l2_reg_V': 0.00013804816183862745, 'n_iter': 91} => AUC: 0.496871, Results: [0.05912738 0.06301603 0.10799348 ... 0.07099112 0.0534127  0.04653571]\n",
      "[12:33:13] Params: {'init_stdev': 0.03482076633100531, 'step_size': 0.01739820338766057, 'l2_reg_w': 1.875841796031239e-05, 'rank': 30, 'l2_reg_V': 0.1364677425353527, 'n_iter': 5984} => AUC: 0.565453, Results: [0.00021132 0.00031668 0.00268694 ... 0.01039517 0.00525335 0.00071738]\n",
      "[12:33:25] Params: {'init_stdev': 0.017312605686672887, 'step_size': 0.031241152033412843, 'l2_reg_w': 0.285416440945175, 'rank': 22, 'l2_reg_V': 0.0008363918043779117, 'n_iter': 7781} => AUC: 0.554256, Results: [0.00018207 0.00024944 0.00023623 ... 0.0008258  0.00094784 0.00020452]\n",
      "[12:36:10] Params: {'init_stdev': 0.056016686060737245, 'step_size': 0.05510980765430136, 'l2_reg_w': 0.0012234966882364198, 'rank': 672, 'l2_reg_V': 0.31256274222032177, 'n_iter': 414} => AUC: 0.507615, Results: [0.00049013 0.00089401 0.00481892 ... 0.00169028 0.00078698 0.00252085]\n",
      "[12:36:43] Params: {'init_stdev': 0.08391736489089437, 'step_size': 0.042454090087888384, 'l2_reg_w': 0.00034492371824441334, 'rank': 108, 'l2_reg_V': 13.676664246373976, 'n_iter': 1143} => AUC: 0.542846, Results: [0.00138093 0.00288106 0.01736635 ... 0.01200999 0.00446545 0.00224047]\n",
      "[12:36:52] Params: {'init_stdev': 0.003475224672675136, 'step_size': 0.037222870284348626, 'l2_reg_w': 0.0067275187077181125, 'rank': 9, 'l2_reg_V': 2.928177007661446e-05, 'n_iter': 518} => AUC: 0.507672, Results: [0.00021551 0.00060381 0.00202664 ... 0.00088593 0.0002579  0.00024292]\n",
      "[12:38:14] Params: {'init_stdev': 0.039471292529442405, 'step_size': 0.019159514823793276, 'l2_reg_w': 6.385735246715415e-05, 'rank': 317, 'l2_reg_V': 3.0092748930342474, 'n_iter': 3383} => AUC: 0.557682, Results: [0.00010268 0.00072349 0.00494895 ... 0.00692864 0.00325907 0.00048637]\n"
     ]
    },
    {
     "name": "stderr",
     "output_type": "stream",
     "text": [
      "/usr/local/lib/python3.5/dist-packages/scipy/stats/_distn_infrastructure.py:879: RuntimeWarning: invalid value encountered in greater\n",
      "  return (self.a < x) & (x < self.b)\n",
      "/usr/local/lib/python3.5/dist-packages/scipy/stats/_distn_infrastructure.py:879: RuntimeWarning: invalid value encountered in less\n",
      "  return (self.a < x) & (x < self.b)\n",
      "/usr/local/lib/python3.5/dist-packages/scipy/stats/_distn_infrastructure.py:1738: RuntimeWarning: invalid value encountered in greater_equal\n",
      "  cond2 = (x >= self.b) & cond0\n"
     ]
    },
    {
     "name": "stdout",
     "output_type": "stream",
     "text": [
      "[12:38:21] Params: {'init_stdev': 0.13177577471889446, 'step_size': 0.03490735229245439, 'l2_reg_w': 0.0006636232461481001, 'rank': 12, 'l2_reg_V': 12152.102726224053, 'n_iter': 630} => Failed\n"
     ]
    },
    {
     "name": "stderr",
     "output_type": "stream",
     "text": [
      "/usr/local/lib/python3.5/dist-packages/scipy/stats/_distn_infrastructure.py:879: RuntimeWarning: invalid value encountered in greater\n",
      "  return (self.a < x) & (x < self.b)\n",
      "/usr/local/lib/python3.5/dist-packages/scipy/stats/_distn_infrastructure.py:879: RuntimeWarning: invalid value encountered in less\n",
      "  return (self.a < x) & (x < self.b)\n",
      "/usr/local/lib/python3.5/dist-packages/scipy/stats/_distn_infrastructure.py:1738: RuntimeWarning: invalid value encountered in greater_equal\n",
      "  cond2 = (x >= self.b) & cond0\n"
     ]
    },
    {
     "name": "stdout",
     "output_type": "stream",
     "text": [
      "[12:38:30] Params: {'init_stdev': 0.020468461142041882, 'step_size': 0.048919691186964535, 'l2_reg_w': 0.07192354572185462, 'rank': 18, 'l2_reg_V': 150.67484793623575, 'n_iter': 1472} => Failed\n",
      "[12:38:49] Params: {'init_stdev': 0.01426941309491838, 'step_size': 0.023561020343844552, 'l2_reg_w': 0.0001310098208560269, 'rank': 50, 'l2_reg_V': 43.51844131643394, 'n_iter': 1800} => AUC: 0.521918, Results: [3.87247157e-05 1.30127372e-04 1.83184504e-03 ... 3.68847063e-04\n",
      " 1.17690311e-04 6.73905428e-05]\n"
     ]
    },
    {
     "name": "stderr",
     "output_type": "stream",
     "text": [
      "/usr/local/lib/python3.5/dist-packages/scipy/stats/_distn_infrastructure.py:879: RuntimeWarning: invalid value encountered in greater\n",
      "  return (self.a < x) & (x < self.b)\n",
      "/usr/local/lib/python3.5/dist-packages/scipy/stats/_distn_infrastructure.py:879: RuntimeWarning: invalid value encountered in less\n",
      "  return (self.a < x) & (x < self.b)\n",
      "/usr/local/lib/python3.5/dist-packages/scipy/stats/_distn_infrastructure.py:1738: RuntimeWarning: invalid value encountered in greater_equal\n",
      "  cond2 = (x >= self.b) & cond0\n"
     ]
    },
    {
     "name": "stdout",
     "output_type": "stream",
     "text": [
      "[12:39:09] Params: {'init_stdev': 0.02952295870820087, 'step_size': 0.06462645900061947, 'l2_reg_w': 0.5844863000757547, 'rank': 66, 'l2_reg_V': 584.5381942383974, 'n_iter': 804} => Failed\n"
     ]
    },
    {
     "name": "stderr",
     "output_type": "stream",
     "text": [
      "/usr/local/lib/python3.5/dist-packages/scipy/stats/_distn_infrastructure.py:879: RuntimeWarning: invalid value encountered in greater\n",
      "  return (self.a < x) & (x < self.b)\n",
      "/usr/local/lib/python3.5/dist-packages/scipy/stats/_distn_infrastructure.py:879: RuntimeWarning: invalid value encountered in less\n",
      "  return (self.a < x) & (x < self.b)\n",
      "/usr/local/lib/python3.5/dist-packages/scipy/stats/_distn_infrastructure.py:1738: RuntimeWarning: invalid value encountered in greater_equal\n",
      "  cond2 = (x >= self.b) & cond0\n"
     ]
    },
    {
     "name": "stdout",
     "output_type": "stream",
     "text": [
      "[12:39:51] Params: {'init_stdev': 0.43817794124372006, 'step_size': 0.02080398584583406, 'l2_reg_w': 139.17410695944986, 'rank': 160, 'l2_reg_V': 0.007928365891403359, 'n_iter': 4272} => Failed\n",
      "[12:40:04] Params: {'init_stdev': 0.06328575974241203, 'step_size': 0.44878318078352736, 'l2_reg_w': 0.0018920802268148705, 'rank': 27, 'l2_reg_V': 1.5798299772040945, 'n_iter': 2503} => AUC: 0.532010, Results: [1.83648680e-07 1.43782910e-05 1.04139970e-02 ... 1.21210569e-03\n",
      " 7.38834632e-05 2.95865632e-03]\n",
      "[12:40:21] Params: {'init_stdev': 0.07344341661033295, 'step_size': 0.013157730164623424, 'l2_reg_w': 0.01677032331902636, 'rank': 41, 'l2_reg_V': 7.1935671936714645, 'n_iter': 9769} => AUC: 0.563740, Results: [0.00033324 0.0004064  0.00289923 ... 0.00785232 0.00649392 0.00214782]\n",
      "[12:41:17] Params: {'init_stdev': 0.04572654205387555, 'step_size': 0.11000458953105421, 'l2_reg_w': 0.00025261847390351184, 'rank': 205, 'l2_reg_V': 0.1972797180021673, 'n_iter': 7203} => AUC: 0.531951, Results: [2.66349771e-05 7.55720724e-05 6.47266568e-05 ... 1.32778818e-02\n",
      " 2.25999955e-02 2.62975991e-03]\n",
      "[12:43:19] Params: {'init_stdev': 0.27956180867477487, 'step_size': 0.02824538442594199, 'l2_reg_w': 0.15652288871294354, 'rank': 488, 'l2_reg_V': 0.9869813153377286, 'n_iter': 1043} => AUC: 0.526690, Results: [0.00106607 0.002097   0.00815766 ... 0.00101063 0.00965327 0.01357503]\n",
      "[12:43:29] Params: {'init_stdev': 0.02378788230464772, 'step_size': 0.03939432118601255, 'l2_reg_w': 3.358632866904359e-05, 'rank': 14, 'l2_reg_V': 0.026550576980359984, 'n_iter': 8} => AUC: 0.504435, Results: [0.26664618 0.27027605 0.35929511 ... 0.32198849 0.29713694 0.28366943]\n",
      "[12:43:54] Params: {'init_stdev': 0.16160439091654658, 'step_size': 0.016478386213447938, 'l2_reg_w': 0.004295172327756084, 'rank': 74, 'l2_reg_V': 0.5279839187377133, 'n_iter': 5501} => AUC: 0.557149, Results: [0.00100071 0.00290251 0.02215952 ... 0.06524442 0.0295935  0.00598918]\n",
      "[12:44:06] Params: {'init_stdev': 0.026174093216271333, 'step_size': 0.024871507666565224, 'l2_reg_w': 0.012287246588630922, 'rank': 20, 'l2_reg_V': 58.206564762507, 'n_iter': 3167} => AUC: 0.570313, Results: [0.00022799 0.00191595 0.00541693 ... 0.01408263 0.00701756 0.00126927]\n"
     ]
    },
    {
     "name": "stderr",
     "output_type": "stream",
     "text": [
      "/usr/local/lib/python3.5/dist-packages/scipy/stats/_distn_infrastructure.py:879: RuntimeWarning: invalid value encountered in greater\n",
      "  return (self.a < x) & (x < self.b)\n",
      "/usr/local/lib/python3.5/dist-packages/scipy/stats/_distn_infrastructure.py:879: RuntimeWarning: invalid value encountered in less\n",
      "  return (self.a < x) & (x < self.b)\n",
      "/usr/local/lib/python3.5/dist-packages/scipy/stats/_distn_infrastructure.py:1738: RuntimeWarning: invalid value encountered in greater_equal\n",
      "  cond2 = (x >= self.b) & cond0\n"
     ]
    },
    {
     "name": "stdout",
     "output_type": "stream",
     "text": [
      "[12:44:12] Params: {'init_stdev': 0.011667570563988072, 'step_size': 0.019279566731822125, 'l2_reg_w': 0.09065906060895423, 'rank': 6, 'l2_reg_V': 1529.90159221803, 'n_iter': 475} => Failed\n"
     ]
    },
    {
     "name": "stderr",
     "output_type": "stream",
     "text": [
      "/usr/local/lib/python3.5/dist-packages/scipy/stats/_distn_infrastructure.py:879: RuntimeWarning: invalid value encountered in greater\n",
      "  return (self.a < x) & (x < self.b)\n",
      "/usr/local/lib/python3.5/dist-packages/scipy/stats/_distn_infrastructure.py:879: RuntimeWarning: invalid value encountered in less\n",
      "  return (self.a < x) & (x < self.b)\n",
      "/usr/local/lib/python3.5/dist-packages/scipy/stats/_distn_infrastructure.py:1738: RuntimeWarning: invalid value encountered in greater_equal\n",
      "  cond2 = (x >= self.b) & cond0\n"
     ]
    },
    {
     "name": "stdout",
     "output_type": "stream",
     "text": [
      "[12:44:21] Params: {'init_stdev': 0.025655563196015942, 'step_size': 0.023991035239098894, 'l2_reg_w': 0.0431940339259736, 'rank': 21, 'l2_reg_V': 363.8025898194647, 'n_iter': 3101} => Failed\n"
     ]
    },
    {
     "name": "stderr",
     "output_type": "stream",
     "text": [
      "/usr/local/lib/python3.5/dist-packages/scipy/stats/_distn_infrastructure.py:879: RuntimeWarning: invalid value encountered in greater\n",
      "  return (self.a < x) & (x < self.b)\n",
      "/usr/local/lib/python3.5/dist-packages/scipy/stats/_distn_infrastructure.py:879: RuntimeWarning: invalid value encountered in less\n",
      "  return (self.a < x) & (x < self.b)\n",
      "/usr/local/lib/python3.5/dist-packages/scipy/stats/_distn_infrastructure.py:1738: RuntimeWarning: invalid value encountered in greater_equal\n",
      "  cond2 = (x >= self.b) & cond0\n"
     ]
    },
    {
     "name": "stdout",
     "output_type": "stream",
     "text": [
      "[12:44:28] Params: {'init_stdev': 0.031758174168686835, 'step_size': 0.03134733537804837, 'l2_reg_w': 0.009188757255570341, 'rank': 12, 'l2_reg_V': 199.84980227874686, 'n_iter': 2132} => Failed\n",
      "[12:44:38] Params: {'init_stdev': 0.039079471658342566, 'step_size': 0.025368453048753195, 'l2_reg_w': 0.0029987719681321564, 'rank': 11, 'l2_reg_V': 77.64209171014271, 'n_iter': 3874} => AUC: 0.571188, Results: [0.00015965 0.00079949 0.00365976 ... 0.02130691 0.00892909 0.00059251]\n",
      "[12:44:46] Params: {'init_stdev': 0.05347518057771867, 'step_size': 0.0181159565551036, 'l2_reg_w': 0.022595958619065756, 'rank': 5, 'l2_reg_V': 78.37242542850547, 'n_iter': 2529} => AUC: 0.548662, Results: [0.0001866  0.00073672 0.0059091  ... 0.00377396 0.00144667 0.00074482]\n"
     ]
    },
    {
     "name": "stderr",
     "output_type": "stream",
     "text": [
      "/usr/local/lib/python3.5/dist-packages/scipy/stats/_distn_infrastructure.py:879: RuntimeWarning: invalid value encountered in greater\n",
      "  return (self.a < x) & (x < self.b)\n",
      "/usr/local/lib/python3.5/dist-packages/scipy/stats/_distn_infrastructure.py:879: RuntimeWarning: invalid value encountered in less\n",
      "  return (self.a < x) & (x < self.b)\n",
      "/usr/local/lib/python3.5/dist-packages/scipy/stats/_distn_infrastructure.py:1738: RuntimeWarning: invalid value encountered in greater_equal\n",
      "  cond2 = (x >= self.b) & cond0\n"
     ]
    },
    {
     "name": "stdout",
     "output_type": "stream",
     "text": [
      "[12:44:53] Params: {'init_stdev': 0.038118737560449374, 'step_size': 0.02557266044139709, 'l2_reg_w': 0.2081417766632783, 'rank': 10, 'l2_reg_V': 792.4506841093336, 'n_iter': 1581} => Failed\n"
     ]
    },
    {
     "name": "stderr",
     "output_type": "stream",
     "text": [
      "/usr/local/lib/python3.5/dist-packages/scipy/stats/_distn_infrastructure.py:879: RuntimeWarning: invalid value encountered in greater\n",
      "  return (self.a < x) & (x < self.b)\n",
      "/usr/local/lib/python3.5/dist-packages/scipy/stats/_distn_infrastructure.py:879: RuntimeWarning: invalid value encountered in less\n",
      "  return (self.a < x) & (x < self.b)\n",
      "/usr/local/lib/python3.5/dist-packages/scipy/stats/_distn_infrastructure.py:1738: RuntimeWarning: invalid value encountered in greater_equal\n",
      "  cond2 = (x >= self.b) & cond0\n"
     ]
    },
    {
     "name": "stdout",
     "output_type": "stream",
     "text": [
      "[12:44:59] Params: {'init_stdev': 0.04202604108448728, 'step_size': 0.021382365308888002, 'l2_reg_w': 0.006704147057952686, 'rank': 7, 'l2_reg_V': 275.0488777512208, 'n_iter': 3434} => Failed\n"
     ]
    },
    {
     "name": "stderr",
     "output_type": "stream",
     "text": [
      "/usr/local/lib/python3.5/dist-packages/scipy/stats/_distn_infrastructure.py:879: RuntimeWarning: invalid value encountered in greater\n",
      "  return (self.a < x) & (x < self.b)\n",
      "/usr/local/lib/python3.5/dist-packages/scipy/stats/_distn_infrastructure.py:879: RuntimeWarning: invalid value encountered in less\n",
      "  return (self.a < x) & (x < self.b)\n",
      "/usr/local/lib/python3.5/dist-packages/scipy/stats/_distn_infrastructure.py:1738: RuntimeWarning: invalid value encountered in greater_equal\n",
      "  cond2 = (x >= self.b) & cond0\n"
     ]
    },
    {
     "name": "stdout",
     "output_type": "stream",
     "text": [
      "[12:45:07] Params: {'init_stdev': 0.0155835338848643, 'step_size': 0.022722606020902793, 'l2_reg_w': 0.01222544563983251, 'rank': 16, 'l2_reg_V': 5433.715765265053, 'n_iter': 1909} => Failed\n",
      "[12:45:19] Params: {'init_stdev': 0.047723308544128595, 'step_size': 0.014759727547797889, 'l2_reg_w': 0.0026230020856681134, 'rank': 20, 'l2_reg_V': 58.06136421371144, 'n_iter': 4659} => AUC: 0.563505, Results: [0.00023901 0.00098395 0.00445336 ... 0.01606753 0.00589853 0.00073242]\n"
     ]
    },
    {
     "name": "stderr",
     "output_type": "stream",
     "text": [
      "/usr/local/lib/python3.5/dist-packages/scipy/stats/_distn_infrastructure.py:879: RuntimeWarning: invalid value encountered in greater\n",
      "  return (self.a < x) & (x < self.b)\n",
      "/usr/local/lib/python3.5/dist-packages/scipy/stats/_distn_infrastructure.py:879: RuntimeWarning: invalid value encountered in less\n",
      "  return (self.a < x) & (x < self.b)\n",
      "/usr/local/lib/python3.5/dist-packages/scipy/stats/_distn_infrastructure.py:1738: RuntimeWarning: invalid value encountered in greater_equal\n",
      "  cond2 = (x >= self.b) & cond0\n"
     ]
    },
    {
     "name": "stdout",
     "output_type": "stream",
     "text": [
      "[12:45:24] Params: {'init_stdev': 0.05974146292272295, 'step_size': 0.015619215702018907, 'l2_reg_w': 0.045889463731832156, 'rank': 2, 'l2_reg_V': 176.50865173281068, 'n_iter': 2860} => Failed\n",
      "[12:45:34] Params: {'init_stdev': 0.02192403795702106, 'step_size': 0.026668670525941747, 'l2_reg_w': 0.40631314236887517, 'rank': 11, 'l2_reg_V': 25.83351479443962, 'n_iter': 4061} => AUC: 0.534197, Results: [0.00057028 0.00058423 0.00068911 ... 0.00101293 0.00105834 0.0005421 ]\n",
      "[12:45:44] Params: {'init_stdev': 0.07744759068673655, 'step_size': 0.017590817112464307, 'l2_reg_w': 0.015168173022067714, 'rank': 14, 'l2_reg_V': 106.05961252417796, 'n_iter': 1294} => AUC: 0.526427, Results: [0.00040159 0.00097998 0.01058555 ... 0.00393881 0.00177308 0.00085714]\n"
     ]
    },
    {
     "name": "stderr",
     "output_type": "stream",
     "text": [
      "/usr/local/lib/python3.5/dist-packages/scipy/stats/_distn_infrastructure.py:879: RuntimeWarning: invalid value encountered in greater\n",
      "  return (self.a < x) & (x < self.b)\n",
      "/usr/local/lib/python3.5/dist-packages/scipy/stats/_distn_infrastructure.py:879: RuntimeWarning: invalid value encountered in less\n",
      "  return (self.a < x) & (x < self.b)\n",
      "/usr/local/lib/python3.5/dist-packages/scipy/stats/_distn_infrastructure.py:1738: RuntimeWarning: invalid value encountered in greater_equal\n",
      "  cond2 = (x >= self.b) & cond0\n"
     ]
    },
    {
     "name": "stdout",
     "output_type": "stream",
     "text": [
      "[12:45:51] Params: {'init_stdev': 0.017894769448199763, 'step_size': 0.02887610596823424, 'l2_reg_w': 0.02840668603807639, 'rank': 9, 'l2_reg_V': 353.97334109796714, 'n_iter': 1593} => Failed\n"
     ]
    },
    {
     "name": "stderr",
     "output_type": "stream",
     "text": [
      "/usr/local/lib/python3.5/dist-packages/scipy/stats/_distn_infrastructure.py:879: RuntimeWarning: invalid value encountered in greater\n",
      "  return (self.a < x) & (x < self.b)\n",
      "/usr/local/lib/python3.5/dist-packages/scipy/stats/_distn_infrastructure.py:879: RuntimeWarning: invalid value encountered in less\n",
      "  return (self.a < x) & (x < self.b)\n",
      "/usr/local/lib/python3.5/dist-packages/scipy/stats/_distn_infrastructure.py:1738: RuntimeWarning: invalid value encountered in greater_equal\n",
      "  cond2 = (x >= self.b) & cond0\n"
     ]
    },
    {
     "name": "stdout",
     "output_type": "stream",
     "text": [
      "[12:45:56] Params: {'init_stdev': 0.02600097125089055, 'step_size': 0.01996285529168545, 'l2_reg_w': 0.0050842647887515855, 'rank': 4, 'l2_reg_V': 497.8670736906595, 'n_iter': 2150} => Failed\n",
      "[12:46:06] Params: {'init_stdev': 0.03667999893551143, 'step_size': 0.023606547239071962, 'l2_reg_w': 0.06868949040625724, 'rank': 12, 'l2_reg_V': 38.826182260419685, 'n_iter': 3667} => AUC: 0.569280, Results: [0.00051214 0.00127628 0.00305227 ... 0.01088808 0.00576746 0.00149038]\n",
      "[12:46:14] Params: {'init_stdev': 0.03613976095818738, 'step_size': 0.012328437789846748, 'l2_reg_w': 0.1245546443563774, 'rank': 5, 'l2_reg_V': 128.2243361487941, 'n_iter': 4737} => AUC: 0.567997, Results: [0.00122895 0.00201531 0.00289012 ... 0.00944975 0.00523531 0.00225719]\n"
     ]
    },
    {
     "name": "stderr",
     "output_type": "stream",
     "text": [
      "/usr/local/lib/python3.5/dist-packages/scipy/stats/_distn_infrastructure.py:879: RuntimeWarning: invalid value encountered in greater\n",
      "  return (self.a < x) & (x < self.b)\n",
      "/usr/local/lib/python3.5/dist-packages/scipy/stats/_distn_infrastructure.py:879: RuntimeWarning: invalid value encountered in less\n",
      "  return (self.a < x) & (x < self.b)\n",
      "/usr/local/lib/python3.5/dist-packages/scipy/stats/_distn_infrastructure.py:1738: RuntimeWarning: invalid value encountered in greater_equal\n",
      "  cond2 = (x >= self.b) & cond0\n"
     ]
    },
    {
     "name": "stdout",
     "output_type": "stream",
     "text": [
      "[12:46:21] Params: {'init_stdev': 0.09882343966777164, 'step_size': 0.013679318191771934, 'l2_reg_w': 0.06016492107745951, 'rank': 8, 'l2_reg_V': 1958.1066756864923, 'n_iter': 6097} => Failed\n"
     ]
    },
    {
     "name": "stderr",
     "output_type": "stream",
     "text": [
      "/usr/local/lib/python3.5/dist-packages/scipy/stats/_distn_infrastructure.py:879: RuntimeWarning: invalid value encountered in greater\n",
      "  return (self.a < x) & (x < self.b)\n",
      "/usr/local/lib/python3.5/dist-packages/scipy/stats/_distn_infrastructure.py:879: RuntimeWarning: invalid value encountered in less\n",
      "  return (self.a < x) & (x < self.b)\n",
      "/usr/local/lib/python3.5/dist-packages/scipy/stats/_distn_infrastructure.py:1738: RuntimeWarning: invalid value encountered in greater_equal\n",
      "  cond2 = (x >= self.b) & cond0\n"
     ]
    },
    {
     "name": "stdout",
     "output_type": "stream",
     "text": [
      "[12:46:28] Params: {'init_stdev': 0.051758944479206336, 'step_size': 0.01660521730221682, 'l2_reg_w': 1.755923890343874, 'rank': 12, 'l2_reg_V': 816.7398326639496, 'n_iter': 2505} => Failed\n"
     ]
    },
    {
     "name": "stderr",
     "output_type": "stream",
     "text": [
      "/usr/local/lib/python3.5/dist-packages/scipy/stats/_distn_infrastructure.py:879: RuntimeWarning: invalid value encountered in greater\n",
      "  return (self.a < x) & (x < self.b)\n",
      "/usr/local/lib/python3.5/dist-packages/scipy/stats/_distn_infrastructure.py:879: RuntimeWarning: invalid value encountered in less\n",
      "  return (self.a < x) & (x < self.b)\n",
      "/usr/local/lib/python3.5/dist-packages/scipy/stats/_distn_infrastructure.py:1738: RuntimeWarning: invalid value encountered in greater_equal\n",
      "  cond2 = (x >= self.b) & cond0\n"
     ]
    },
    {
     "name": "stdout",
     "output_type": "stream",
     "text": [
      "[12:46:33] Params: {'init_stdev': 0.028936767311391144, 'step_size': 0.011305351282193376, 'l2_reg_w': 0.11598532221919534, 'rank': 6, 'l2_reg_V': 8316.717460524225, 'n_iter': 3869} => Failed\n"
     ]
    },
    {
     "name": "stderr",
     "output_type": "stream",
     "text": [
      "/usr/local/lib/python3.5/dist-packages/scipy/stats/_distn_infrastructure.py:879: RuntimeWarning: invalid value encountered in greater\n",
      "  return (self.a < x) & (x < self.b)\n",
      "/usr/local/lib/python3.5/dist-packages/scipy/stats/_distn_infrastructure.py:879: RuntimeWarning: invalid value encountered in less\n",
      "  return (self.a < x) & (x < self.b)\n",
      "/usr/local/lib/python3.5/dist-packages/scipy/stats/_distn_infrastructure.py:1738: RuntimeWarning: invalid value encountered in greater_equal\n",
      "  cond2 = (x >= self.b) & cond0\n"
     ]
    },
    {
     "name": "stdout",
     "output_type": "stream",
     "text": [
      "[12:46:41] Params: {'init_stdev': 0.06646099392809096, 'step_size': 0.01838720821578693, 'l2_reg_w': 0.34521056546795853, 'rank': 13, 'l2_reg_V': 3171.444559215969, 'n_iter': 7957} => Failed\n",
      "[12:46:49] Params: {'init_stdev': 0.01970750184862247, 'step_size': 0.014910170242553438, 'l2_reg_w': 0.04060324141923795, 'rank': 5, 'l2_reg_V': 60.13610582460029, 'n_iter': 5348} => AUC: 0.571442, Results: [0.00107688 0.00228881 0.004237   ... 0.01450543 0.00827176 0.00331445]\n"
     ]
    },
    {
     "name": "stderr",
     "output_type": "stream",
     "text": [
      "/usr/local/lib/python3.5/dist-packages/scipy/stats/_distn_infrastructure.py:879: RuntimeWarning: invalid value encountered in greater\n",
      "  return (self.a < x) & (x < self.b)\n",
      "/usr/local/lib/python3.5/dist-packages/scipy/stats/_distn_infrastructure.py:879: RuntimeWarning: invalid value encountered in less\n",
      "  return (self.a < x) & (x < self.b)\n",
      "/usr/local/lib/python3.5/dist-packages/scipy/stats/_distn_infrastructure.py:1738: RuntimeWarning: invalid value encountered in greater_equal\n",
      "  cond2 = (x >= self.b) & cond0\n"
     ]
    },
    {
     "name": "stdout",
     "output_type": "stream",
     "text": [
      "[12:46:54] Params: {'init_stdev': 0.010218381863981206, 'step_size': 0.010311933221371116, 'l2_reg_w': 0.2646403814585101, 'rank': 2, 'l2_reg_V': 996.4692449854688, 'n_iter': 909} => Failed\n"
     ]
    },
    {
     "name": "stderr",
     "output_type": "stream",
     "text": [
      "/usr/local/lib/python3.5/dist-packages/scipy/stats/_distn_infrastructure.py:879: RuntimeWarning: invalid value encountered in greater\n",
      "  return (self.a < x) & (x < self.b)\n",
      "/usr/local/lib/python3.5/dist-packages/scipy/stats/_distn_infrastructure.py:879: RuntimeWarning: invalid value encountered in less\n",
      "  return (self.a < x) & (x < self.b)\n",
      "/usr/local/lib/python3.5/dist-packages/scipy/stats/_distn_infrastructure.py:1738: RuntimeWarning: invalid value encountered in greater_equal\n",
      "  cond2 = (x >= self.b) & cond0\n"
     ]
    },
    {
     "name": "stdout",
     "output_type": "stream",
     "text": [
      "[12:46:59] Params: {'init_stdev': 0.0064089097551534024, 'step_size': 0.012946451508380597, 'l2_reg_w': 0.19456979205159522, 'rank': 2, 'l2_reg_V': 24069.845453133083, 'n_iter': 5614} => Failed\n"
     ]
    },
    {
     "name": "stderr",
     "output_type": "stream",
     "text": [
      "/usr/local/lib/python3.5/dist-packages/scipy/stats/_distn_infrastructure.py:879: RuntimeWarning: invalid value encountered in greater\n",
      "  return (self.a < x) & (x < self.b)\n",
      "/usr/local/lib/python3.5/dist-packages/scipy/stats/_distn_infrastructure.py:879: RuntimeWarning: invalid value encountered in less\n",
      "  return (self.a < x) & (x < self.b)\n",
      "/usr/local/lib/python3.5/dist-packages/scipy/stats/_distn_infrastructure.py:1738: RuntimeWarning: invalid value encountered in greater_equal\n",
      "  cond2 = (x >= self.b) & cond0\n"
     ]
    },
    {
     "name": "stdout",
     "output_type": "stream",
     "text": [
      "[12:47:03] Params: {'init_stdev': 0.016211464986396168, 'step_size': 0.014986541554601107, 'l2_reg_w': 1.0023019079301916, 'rank': 1, 'l2_reg_V': 4592.816800495005, 'n_iter': 1841} => Failed\n",
      "[12:47:11] Params: {'init_stdev': 0.013121812946227315, 'step_size': 0.016009149403613206, 'l2_reg_w': 0.061286180883020444, 'rank': 4, 'l2_reg_V': 45.45859006682155, 'n_iter': 2962} => AUC: 0.560772, Results: [0.00080027 0.00324578 0.00632842 ... 0.0095227  0.00493333 0.00270194]\n"
     ]
    },
    {
     "name": "stderr",
     "output_type": "stream",
     "text": [
      "/usr/local/lib/python3.5/dist-packages/scipy/stats/_distn_infrastructure.py:879: RuntimeWarning: invalid value encountered in greater\n",
      "  return (self.a < x) & (x < self.b)\n",
      "/usr/local/lib/python3.5/dist-packages/scipy/stats/_distn_infrastructure.py:879: RuntimeWarning: invalid value encountered in less\n",
      "  return (self.a < x) & (x < self.b)\n",
      "/usr/local/lib/python3.5/dist-packages/scipy/stats/_distn_infrastructure.py:1738: RuntimeWarning: invalid value encountered in greater_equal\n",
      "  cond2 = (x >= self.b) & cond0\n"
     ]
    },
    {
     "name": "stdout",
     "output_type": "stream",
     "text": [
      "[12:47:16] Params: {'init_stdev': 0.007312102173764899, 'step_size': 0.011832043762064846, 'l2_reg_w': 3.590173194547996, 'rank': 3, 'l2_reg_V': 1198.5018445403598, 'n_iter': 1163} => Failed\n",
      "[12:47:25] Params: {'init_stdev': 0.019601191977382148, 'step_size': 0.010705504376945028, 'l2_reg_w': 0.48797113632851186, 'rank': 3, 'l2_reg_V': 84.544721687073, 'n_iter': 7095} => AUC: 0.527006, Results: [0.00124968 0.00122996 0.00115495 ... 0.00179875 0.00186542 0.00139993]\n"
     ]
    },
    {
     "name": "stderr",
     "output_type": "stream",
     "text": [
      "/usr/local/lib/python3.5/dist-packages/scipy/stats/_distn_infrastructure.py:879: RuntimeWarning: invalid value encountered in greater\n",
      "  return (self.a < x) & (x < self.b)\n",
      "/usr/local/lib/python3.5/dist-packages/scipy/stats/_distn_infrastructure.py:879: RuntimeWarning: invalid value encountered in less\n",
      "  return (self.a < x) & (x < self.b)\n",
      "/usr/local/lib/python3.5/dist-packages/scipy/stats/_distn_infrastructure.py:1738: RuntimeWarning: invalid value encountered in greater_equal\n",
      "  cond2 = (x >= self.b) & cond0\n"
     ]
    },
    {
     "name": "stdout",
     "output_type": "stream",
     "text": [
      "[12:47:29] Params: {'init_stdev': 0.014858479668444075, 'step_size': 0.014262279042990197, 'l2_reg_w': 0.034258738088405065, 'rank': 2, 'l2_reg_V': 451.90642793940015, 'n_iter': 3612} => Failed\n"
     ]
    },
    {
     "name": "stderr",
     "output_type": "stream",
     "text": [
      "/usr/local/lib/python3.5/dist-packages/scipy/stats/_distn_infrastructure.py:879: RuntimeWarning: invalid value encountered in greater\n",
      "  return (self.a < x) & (x < self.b)\n",
      "/usr/local/lib/python3.5/dist-packages/scipy/stats/_distn_infrastructure.py:879: RuntimeWarning: invalid value encountered in less\n",
      "  return (self.a < x) & (x < self.b)\n",
      "/usr/local/lib/python3.5/dist-packages/scipy/stats/_distn_infrastructure.py:1738: RuntimeWarning: invalid value encountered in greater_equal\n",
      "  cond2 = (x >= self.b) & cond0\n"
     ]
    },
    {
     "name": "stdout",
     "output_type": "stream",
     "text": [
      "[12:47:34] Params: {'init_stdev': 0.008491270311678598, 'step_size': 0.013674946823268745, 'l2_reg_w': 0.015859762754282292, 'rank': 4, 'l2_reg_V': 87610.53479853345, 'n_iter': 2625} => Failed\n"
     ]
    },
    {
     "name": "stderr",
     "output_type": "stream",
     "text": [
      "/usr/local/lib/python3.5/dist-packages/scipy/stats/_distn_infrastructure.py:879: RuntimeWarning: invalid value encountered in greater\n",
      "  return (self.a < x) & (x < self.b)\n",
      "/usr/local/lib/python3.5/dist-packages/scipy/stats/_distn_infrastructure.py:879: RuntimeWarning: invalid value encountered in less\n",
      "  return (self.a < x) & (x < self.b)\n",
      "/usr/local/lib/python3.5/dist-packages/scipy/stats/_distn_infrastructure.py:1738: RuntimeWarning: invalid value encountered in greater_equal\n",
      "  cond2 = (x >= self.b) & cond0\n"
     ]
    },
    {
     "name": "stdout",
     "output_type": "stream",
     "text": [
      "[12:47:40] Params: {'init_stdev': 0.01064296455434795, 'step_size': 0.01878441497890056, 'l2_reg_w': 0.07056874945679455, 'rank': 7, 'l2_reg_V': 277.32221071741066, 'n_iter': 1557} => Failed\n"
     ]
    },
    {
     "name": "stderr",
     "output_type": "stream",
     "text": [
      "/usr/local/lib/python3.5/dist-packages/scipy/stats/_distn_infrastructure.py:879: RuntimeWarning: invalid value encountered in greater\n",
      "  return (self.a < x) & (x < self.b)\n",
      "/usr/local/lib/python3.5/dist-packages/scipy/stats/_distn_infrastructure.py:879: RuntimeWarning: invalid value encountered in less\n",
      "  return (self.a < x) & (x < self.b)\n",
      "/usr/local/lib/python3.5/dist-packages/scipy/stats/_distn_infrastructure.py:1738: RuntimeWarning: invalid value encountered in greater_equal\n",
      "  cond2 = (x >= self.b) & cond0\n"
     ]
    },
    {
     "name": "stdout",
     "output_type": "stream",
     "text": [
      "[12:47:46] Params: {'init_stdev': 0.019337899778143815, 'step_size': 0.022285050260561743, 'l2_reg_w': 0.009504855311160213, 'rank': 5, 'l2_reg_V': 178.88179014843107, 'n_iter': 5103} => Failed\n"
     ]
    },
    {
     "name": "stderr",
     "output_type": "stream",
     "text": [
      "/usr/local/lib/python3.5/dist-packages/scipy/stats/_distn_infrastructure.py:879: RuntimeWarning: invalid value encountered in greater\n",
      "  return (self.a < x) & (x < self.b)\n",
      "/usr/local/lib/python3.5/dist-packages/scipy/stats/_distn_infrastructure.py:879: RuntimeWarning: invalid value encountered in less\n",
      "  return (self.a < x) & (x < self.b)\n",
      "/usr/local/lib/python3.5/dist-packages/scipy/stats/_distn_infrastructure.py:1738: RuntimeWarning: invalid value encountered in greater_equal\n",
      "  cond2 = (x >= self.b) & cond0\n"
     ]
    },
    {
     "name": "stdout",
     "output_type": "stream",
     "text": [
      "[12:47:51] Params: {'init_stdev': 0.025640811173291988, 'step_size': 0.01701762423834671, 'l2_reg_w': 0.8050813915033751, 'rank': 3, 'l2_reg_V': 2880.621130469425, 'n_iter': 1999} => Failed\n",
      "[12:47:59] Params: {'init_stdev': 0.022663459414539802, 'step_size': 0.012143858978394175, 'l2_reg_w': 0.10879364020718195, 'rank': 4, 'l2_reg_V': 19.47454457965983, 'n_iter': 3971} => AUC: 0.569402, Results: [0.00156806 0.00249875 0.00535366 ... 0.00940566 0.00594485 0.00273932]\n",
      "[12:48:07] Params: {'init_stdev': 0.01204722793358431, 'step_size': 0.010785588013582143, 'l2_reg_w': 2.180071761582594, 'rank': 3, 'l2_reg_V': 16.474136670076707, 'n_iter': 8265} => AUC: 0.503165, Results: [0.00111919 0.00101007 0.00110475 ... 0.00111702 0.00113078 0.00109441]\n",
      "[12:48:15] Params: {'init_stdev': 0.009408193895408644, 'step_size': 0.011849503498856386, 'l2_reg_w': 0.17324292764945665, 'rank': 4, 'l2_reg_V': 66.00980585076366, 'n_iter': 6424} => AUC: 0.544278, Results: [0.00258184 0.00145836 0.00268368 ... 0.00494729 0.00533682 0.00264631]\n",
      "[12:48:23] Params: {'init_stdev': 0.022316507439399284, 'step_size': 0.01030050187194181, 'l2_reg_w': 10.608414044725455, 'rank': 1, 'l2_reg_V': 11.751334684939716, 'n_iter': 1330} => AUC: 0.501491, Results: [0.01433485 0.01493605 0.01503472 ... 0.01411785 0.01453136 0.01445283]\n",
      "[12:48:31] Params: {'init_stdev': 0.005513982474061378, 'step_size': 0.012337072241854822, 'l2_reg_w': 0.035922672718755315, 'rank': 2, 'l2_reg_V': 89.6410427961181, 'n_iter': 713} => AUC: 0.508796, Results: [0.00115944 0.00239059 0.00783958 ... 0.00438016 0.00214756 0.00151633]\n",
      "[12:48:39] Params: {'init_stdev': 0.01723850487235887, 'step_size': 0.013191259807811473, 'l2_reg_w': 0.020657940287568597, 'rank': 4, 'l2_reg_V': 22.737129900340513, 'n_iter': 4389} => AUC: 0.565344, Results: [0.00105598 0.00275015 0.007723   ... 0.01525382 0.00747813 0.00263114]\n",
      "[12:48:47] Params: {'init_stdev': 0.013505731532955194, 'step_size': 0.01101532960566873, 'l2_reg_w': 0.5679720524443063, 'rank': 2, 'l2_reg_V': 178.53639626043392, 'n_iter': 2970} => AUC: 0.552818, Results: [0.00427597 0.00562582 0.00522318 ... 0.00782415 0.00702265 0.0053633 ]\n"
     ]
    },
    {
     "name": "stderr",
     "output_type": "stream",
     "text": [
      "/usr/local/lib/python3.5/dist-packages/scipy/stats/_distn_infrastructure.py:879: RuntimeWarning: invalid value encountered in greater\n",
      "  return (self.a < x) & (x < self.b)\n",
      "/usr/local/lib/python3.5/dist-packages/scipy/stats/_distn_infrastructure.py:879: RuntimeWarning: invalid value encountered in less\n",
      "  return (self.a < x) & (x < self.b)\n",
      "/usr/local/lib/python3.5/dist-packages/scipy/stats/_distn_infrastructure.py:1738: RuntimeWarning: invalid value encountered in greater_equal\n",
      "  cond2 = (x >= self.b) & cond0\n"
     ]
    },
    {
     "name": "stdout",
     "output_type": "stream",
     "text": [
      "[12:48:52] Params: {'init_stdev': 0.007860248322990772, 'step_size': 0.015075106109237518, 'l2_reg_w': 0.10745872733812134, 'rank': 3, 'l2_reg_V': 557.4874335293727, 'n_iter': 1014} => Failed\n",
      "[12:48:59] Params: {'init_stdev': 0.006578328610967749, 'step_size': 0.014470296997980171, 'l2_reg_w': 1.4778485946483257, 'rank': 1, 'l2_reg_V': 8.495221048145712, 'n_iter': 9763} => AUC: 0.518399, Results: [0.00088835 0.00095398 0.00091585 ... 0.00111643 0.00114623 0.00091937]\n",
      "[12:49:07] Params: {'init_stdev': 0.02085024086695571, 'step_size': 0.01275068484086588, 'l2_reg_w': 0.0034608499289631666, 'rank': 3, 'l2_reg_V': 25.999216670065618, 'n_iter': 5929} => AUC: 0.561372, Results: [0.00029177 0.00052851 0.00367584 ... 0.00890321 0.00407699 0.00069074]\n"
     ]
    },
    {
     "name": "stderr",
     "output_type": "stream",
     "text": [
      "/usr/local/lib/python3.5/dist-packages/scipy/stats/_distn_infrastructure.py:879: RuntimeWarning: invalid value encountered in greater\n",
      "  return (self.a < x) & (x < self.b)\n",
      "/usr/local/lib/python3.5/dist-packages/scipy/stats/_distn_infrastructure.py:879: RuntimeWarning: invalid value encountered in less\n",
      "  return (self.a < x) & (x < self.b)\n",
      "/usr/local/lib/python3.5/dist-packages/scipy/stats/_distn_infrastructure.py:1738: RuntimeWarning: invalid value encountered in greater_equal\n",
      "  cond2 = (x >= self.b) & cond0\n"
     ]
    },
    {
     "name": "stdout",
     "output_type": "stream",
     "text": [
      "[12:49:13] Params: {'init_stdev': 0.028178579628767214, 'step_size': 0.01937510636130415, 'l2_reg_w': 5.109586110496362, 'rank': 7, 'l2_reg_V': 253.01133866891797, 'n_iter': 2423} => Failed\n",
      "[12:49:22] Params: {'init_stdev': 0.014396016712607363, 'step_size': 0.01142215059318396, 'l2_reg_w': 0.006704970760668418, 'rank': 5, 'l2_reg_V': 48.632381853903986, 'n_iter': 8438} => AUC: 0.560302, Results: [0.00014616 0.00021251 0.00155827 ... 0.00534566 0.00355978 0.00055636]\n",
      "[12:49:29] Params: {'init_stdev': 0.010811936270684733, 'step_size': 0.015969730230212024, 'l2_reg_w': 0.29165698994005224, 'rank': 2, 'l2_reg_V': 16.754852826299977, 'n_iter': 4221} => AUC: 0.551589, Results: [0.00131017 0.00141834 0.00166666 ... 0.00272335 0.00251174 0.00164601]\n",
      "[12:49:37] Params: {'init_stdev': 0.016887075425106417, 'step_size': 0.010050754226023815, 'l2_reg_w': 0.012957404803011179, 'rank': 2, 'l2_reg_V': 125.57367549287, 'n_iter': 852} => AUC: 0.513050, Results: [0.00169096 0.00287734 0.01129503 ... 0.00697798 0.00385916 0.00234958]\n"
     ]
    },
    {
     "name": "stderr",
     "output_type": "stream",
     "text": [
      "/usr/local/lib/python3.5/dist-packages/scipy/stats/_distn_infrastructure.py:879: RuntimeWarning: invalid value encountered in greater\n",
      "  return (self.a < x) & (x < self.b)\n",
      "/usr/local/lib/python3.5/dist-packages/scipy/stats/_distn_infrastructure.py:879: RuntimeWarning: invalid value encountered in less\n",
      "  return (self.a < x) & (x < self.b)\n",
      "/usr/local/lib/python3.5/dist-packages/scipy/stats/_distn_infrastructure.py:1738: RuntimeWarning: invalid value encountered in greater_equal\n",
      "  cond2 = (x >= self.b) & cond0\n"
     ]
    },
    {
     "name": "stdout",
     "output_type": "stream",
     "text": [
      "[12:49:43] Params: {'init_stdev': 0.00889717665121043, 'step_size': 0.01752609439403322, 'l2_reg_w': 0.04408732276392044, 'rank': 7, 'l2_reg_V': 670.2527038381444, 'n_iter': 1820} => Failed\n"
     ]
    },
    {
     "name": "stderr",
     "output_type": "stream",
     "text": [
      "/usr/local/lib/python3.5/dist-packages/scipy/stats/_distn_infrastructure.py:879: RuntimeWarning: invalid value encountered in greater\n",
      "  return (self.a < x) & (x < self.b)\n",
      "/usr/local/lib/python3.5/dist-packages/scipy/stats/_distn_infrastructure.py:879: RuntimeWarning: invalid value encountered in less\n",
      "  return (self.a < x) & (x < self.b)\n",
      "/usr/local/lib/python3.5/dist-packages/scipy/stats/_distn_infrastructure.py:1738: RuntimeWarning: invalid value encountered in greater_equal\n",
      "  cond2 = (x >= self.b) & cond0\n"
     ]
    },
    {
     "name": "stdout",
     "output_type": "stream",
     "text": [
      "[12:49:49] Params: {'init_stdev': 0.023028805495439633, 'step_size': 0.013951409533223097, 'l2_reg_w': 0.0023524684178289953, 'rank': 5, 'l2_reg_V': 1401.7247365393553, 'n_iter': 2207} => Failed\n",
      "[12:49:56] Params: {'init_stdev': 0.0021183103413710434, 'step_size': 0.020859933116319937, 'l2_reg_w': 0.1627241691475212, 'rank': 1, 'l2_reg_V': 67.86222605125171, 'n_iter': 7124} => AUC: 0.538038, Results: [0.00044061 0.00037034 0.00042904 ... 0.00127294 0.00149747 0.00052677]\n",
      "[12:50:05] Params: {'init_stdev': 0.003790772943166317, 'step_size': 0.011973975776097373, 'l2_reg_w': 0.02186629817289869, 'rank': 6, 'l2_reg_V': 5.394681467149878, 'n_iter': 3048} => AUC: 0.548513, Results: [0.00032086 0.00149591 0.00489176 ... 0.00501649 0.00205278 0.00084604]\n"
     ]
    },
    {
     "name": "stderr",
     "output_type": "stream",
     "text": [
      "/usr/local/lib/python3.5/dist-packages/scipy/stats/_distn_infrastructure.py:879: RuntimeWarning: invalid value encountered in greater\n",
      "  return (self.a < x) & (x < self.b)\n",
      "/usr/local/lib/python3.5/dist-packages/scipy/stats/_distn_infrastructure.py:879: RuntimeWarning: invalid value encountered in less\n",
      "  return (self.a < x) & (x < self.b)\n",
      "/usr/local/lib/python3.5/dist-packages/scipy/stats/_distn_infrastructure.py:1738: RuntimeWarning: invalid value encountered in greater_equal\n",
      "  cond2 = (x >= self.b) & cond0\n"
     ]
    },
    {
     "name": "stdout",
     "output_type": "stream",
     "text": [
      "[12:50:11] Params: {'init_stdev': 0.00291638625916427, 'step_size': 0.016046458726700727, 'l2_reg_w': 0.005824733707367896, 'rank': 5, 'l2_reg_V': 15219.850390167927, 'n_iter': 5131} => Failed\n"
     ]
    },
    {
     "name": "stderr",
     "output_type": "stream",
     "text": [
      "/usr/local/lib/python3.5/dist-packages/scipy/stats/_distn_infrastructure.py:879: RuntimeWarning: invalid value encountered in greater\n",
      "  return (self.a < x) & (x < self.b)\n",
      "/usr/local/lib/python3.5/dist-packages/scipy/stats/_distn_infrastructure.py:879: RuntimeWarning: invalid value encountered in less\n",
      "  return (self.a < x) & (x < self.b)\n",
      "/usr/local/lib/python3.5/dist-packages/scipy/stats/_distn_infrastructure.py:1738: RuntimeWarning: invalid value encountered in greater_equal\n",
      "  cond2 = (x >= self.b) & cond0\n"
     ]
    },
    {
     "name": "stdout",
     "output_type": "stream",
     "text": [
      "[12:50:18] Params: {'init_stdev': 0.018694516130684187, 'step_size': 0.025396156625581312, 'l2_reg_w': 0.010601677893274285, 'rank': 10, 'l2_reg_V': 434.023266750924, 'n_iter': 3640} => Failed\n",
      "[12:50:25] Params: {'init_stdev': 0.029467222348876523, 'step_size': 0.020188489631383106, 'l2_reg_w': 19.868967556440186, 'rank': 2, 'l2_reg_V': 31.288751997426775, 'n_iter': 1570} => AUC: 0.504140, Results: [0.00228014 0.00222411 0.00250296 ... 0.00222825 0.00245437 0.00224066]\n",
      "[12:50:34] Params: {'init_stdev': 0.03274932136782018, 'step_size': 0.016982517892794965, 'l2_reg_w': 0.08662742383871379, 'rank': 4, 'l2_reg_V': 11.83580427342513, 'n_iter': 9903} => AUC: 0.559371, Results: [0.00102348 0.00106976 0.0013364  ... 0.00459968 0.00541336 0.00253356]\n",
      "[12:50:43] Params: {'init_stdev': 0.013140988729589851, 'step_size': 0.010150718644264282, 'l2_reg_w': 1.3265012056656535, 'rank': 9, 'l2_reg_V': 107.06289576698906, 'n_iter': 1152} => AUC: 0.529529, Results: [0.02402833 0.02429841 0.02675412 ... 0.02636886 0.0226914  0.02379753]\n"
     ]
    },
    {
     "name": "stderr",
     "output_type": "stream",
     "text": [
      "/usr/local/lib/python3.5/dist-packages/scipy/stats/_distn_infrastructure.py:879: RuntimeWarning: invalid value encountered in greater\n",
      "  return (self.a < x) & (x < self.b)\n",
      "/usr/local/lib/python3.5/dist-packages/scipy/stats/_distn_infrastructure.py:879: RuntimeWarning: invalid value encountered in less\n",
      "  return (self.a < x) & (x < self.b)\n",
      "/usr/local/lib/python3.5/dist-packages/scipy/stats/_distn_infrastructure.py:1738: RuntimeWarning: invalid value encountered in greater_equal\n",
      "  cond2 = (x >= self.b) & cond0\n"
     ]
    },
    {
     "name": "stdout",
     "output_type": "stream",
     "text": [
      "[12:50:49] Params: {'init_stdev': 0.02528512421336657, 'step_size': 0.013093806178165733, 'l2_reg_w': 0.03120905363416523, 'rank': 6, 'l2_reg_V': 2071.4165682775943, 'n_iter': 5879} => Failed\n"
     ]
    },
    {
     "name": "stderr",
     "output_type": "stream",
     "text": [
      "/usr/local/lib/python3.5/dist-packages/scipy/stats/_distn_infrastructure.py:879: RuntimeWarning: invalid value encountered in greater\n",
      "  return (self.a < x) & (x < self.b)\n",
      "/usr/local/lib/python3.5/dist-packages/scipy/stats/_distn_infrastructure.py:879: RuntimeWarning: invalid value encountered in less\n",
      "  return (self.a < x) & (x < self.b)\n",
      "/usr/local/lib/python3.5/dist-packages/scipy/stats/_distn_infrastructure.py:1738: RuntimeWarning: invalid value encountered in greater_equal\n",
      "  cond2 = (x >= self.b) & cond0\n"
     ]
    },
    {
     "name": "stdout",
     "output_type": "stream",
     "text": [
      "[12:50:55] Params: {'init_stdev': 0.04483226341397203, 'step_size': 0.014908527908266696, 'l2_reg_w': 0.3554671859236274, 'rank': 7, 'l2_reg_V': 7810.651287406309, 'n_iter': 2501} => Failed\n"
     ]
    },
    {
     "name": "stderr",
     "output_type": "stream",
     "text": [
      "/usr/local/lib/python3.5/dist-packages/scipy/stats/_distn_infrastructure.py:879: RuntimeWarning: invalid value encountered in greater\n",
      "  return (self.a < x) & (x < self.b)\n",
      "/usr/local/lib/python3.5/dist-packages/scipy/stats/_distn_infrastructure.py:879: RuntimeWarning: invalid value encountered in less\n",
      "  return (self.a < x) & (x < self.b)\n",
      "/usr/local/lib/python3.5/dist-packages/scipy/stats/_distn_infrastructure.py:1738: RuntimeWarning: invalid value encountered in greater_equal\n",
      "  cond2 = (x >= self.b) & cond0\n"
     ]
    },
    {
     "name": "stdout",
     "output_type": "stream",
     "text": [
      "[12:51:00] Params: {'init_stdev': 0.015095133866569325, 'step_size': 0.018722007773835796, 'l2_reg_w': 0.001504424656569285, 'rank': 3, 'l2_reg_V': 227.79167033704863, 'n_iter': 7169} => Failed\n",
      "[12:51:08] Params: {'init_stdev': 0.03391491137055034, 'step_size': 0.02264826640680453, 'l2_reg_w': 0.004079311005970814, 'rank': 4, 'l2_reg_V': 50.25977892198846, 'n_iter': 4199} => AUC: 0.565691, Results: [7.34010682e-05 4.20225346e-04 2.45625936e-03 ... 7.59272852e-03\n",
      " 2.71635584e-03 3.21428926e-04]\n",
      "[12:51:17] Params: {'init_stdev': 0.021198997971784508, 'step_size': 0.011575931773383537, 'l2_reg_w': 0.014480540536908674, 'rank': 5, 'l2_reg_V': 20.76821510530603, 'n_iter': 596} => AUC: 0.504119, Results: [0.0018377  0.00331265 0.01322863 ... 0.00625156 0.00341    0.00258291]\n",
      "[12:51:26] Params: {'init_stdev': 0.004615135386026693, 'step_size': 0.01379951805900374, 'l2_reg_w': 0.7676820233923971, 'rank': 9, 'l2_reg_V': 1.5233039822739561e-05, 'n_iter': 3195} => AUC: 0.550190, Results: [0.0039119  0.00395771 0.00356949 ... 0.00500482 0.00602248 0.00379613]\n",
      "[12:51:34] Params: {'init_stdev': 0.011703318425903032, 'step_size': 0.024342207268019334, 'l2_reg_w': 2.6604543508523295, 'rank': 2, 'l2_reg_V': 6.715967795007948, 'n_iter': 5107} => AUC: 0.535244, Results: [0.00086826 0.00101439 0.00119014 ... 0.00133412 0.00121525 0.00098881]\n"
     ]
    },
    {
     "name": "stderr",
     "output_type": "stream",
     "text": [
      "/usr/local/lib/python3.5/dist-packages/scipy/stats/_distn_infrastructure.py:879: RuntimeWarning: invalid value encountered in greater\n",
      "  return (self.a < x) & (x < self.b)\n",
      "/usr/local/lib/python3.5/dist-packages/scipy/stats/_distn_infrastructure.py:879: RuntimeWarning: invalid value encountered in less\n",
      "  return (self.a < x) & (x < self.b)\n",
      "/usr/local/lib/python3.5/dist-packages/scipy/stats/_distn_infrastructure.py:1738: RuntimeWarning: invalid value encountered in greater_equal\n",
      "  cond2 = (x >= self.b) & cond0\n"
     ]
    },
    {
     "name": "stdout",
     "output_type": "stream",
     "text": [
      "[12:51:39] Params: {'init_stdev': 0.04180028282993024, 'step_size': 0.017996734567039346, 'l2_reg_w': 0.2243408006440898, 'rank': 1, 'l2_reg_V': 1025.4954906327616, 'n_iter': 1307} => Failed\n"
     ]
    },
    {
     "name": "stderr",
     "output_type": "stream",
     "text": [
      "/usr/local/lib/python3.5/dist-packages/scipy/stats/_distn_infrastructure.py:879: RuntimeWarning: invalid value encountered in greater\n",
      "  return (self.a < x) & (x < self.b)\n",
      "/usr/local/lib/python3.5/dist-packages/scipy/stats/_distn_infrastructure.py:879: RuntimeWarning: invalid value encountered in less\n",
      "  return (self.a < x) & (x < self.b)\n",
      "/usr/local/lib/python3.5/dist-packages/scipy/stats/_distn_infrastructure.py:1738: RuntimeWarning: invalid value encountered in greater_equal\n",
      "  cond2 = (x >= self.b) & cond0\n"
     ]
    },
    {
     "name": "stdout",
     "output_type": "stream",
     "text": [
      "[12:51:47] Params: {'init_stdev': 0.024648616566517106, 'step_size': 0.015653138176788116, 'l2_reg_w': 0.13075711152265956, 'rank': 16, 'l2_reg_V': 349.32143920061304, 'n_iter': 2041} => Failed\n",
      "[12:51:55] Params: {'init_stdev': 0.02996217016384842, 'step_size': 0.026935902610608915, 'l2_reg_w': 0.05744208347778732, 'rank': 4, 'l2_reg_V': 3.782491252107161, 'n_iter': 8566} => AUC: 0.543244, Results: [0.00029867 0.00012717 0.00045372 ... 0.00168426 0.00220561 0.00102602]\n",
      "[12:52:03] Params: {'init_stdev': 0.009360849451517609, 'step_size': 0.02135848818083077, 'l2_reg_w': 0.007343583768211348, 'rank': 2, 'l2_reg_V': 46.78281810050712, 'n_iter': 2} => AUC: 0.511093, Results: [0.4527189  0.46590393 0.47982517 ... 0.4726541  0.47132057 0.46899991]\n",
      "[12:52:12] Params: {'init_stdev': 0.04869120349310927, 'step_size': 0.02948119862511879, 'l2_reg_w': 0.0029996435892014266, 'rank': 6, 'l2_reg_V': 9.78818299709387, 'n_iter': 926} => AUC: 0.537322, Results: [0.00046853 0.00087498 0.00561743 ... 0.00460599 0.00221257 0.00097571]\n"
     ]
    },
    {
     "name": "stderr",
     "output_type": "stream",
     "text": [
      "/usr/local/lib/python3.5/dist-packages/scipy/stats/_distn_infrastructure.py:879: RuntimeWarning: invalid value encountered in greater\n",
      "  return (self.a < x) & (x < self.b)\n",
      "/usr/local/lib/python3.5/dist-packages/scipy/stats/_distn_infrastructure.py:879: RuntimeWarning: invalid value encountered in less\n",
      "  return (self.a < x) & (x < self.b)\n",
      "/usr/local/lib/python3.5/dist-packages/scipy/stats/_distn_infrastructure.py:1738: RuntimeWarning: invalid value encountered in greater_equal\n",
      "  cond2 = (x >= self.b) & cond0\n"
     ]
    },
    {
     "name": "stdout",
     "output_type": "stream",
     "text": [
      "[12:52:17] Params: {'init_stdev': 0.038237117187174034, 'step_size': 0.020404544539188947, 'l2_reg_w': 0.001320745093357599, 'rank': 3, 'l2_reg_V': 154.40956261425924, 'n_iter': 1701} => Failed\n"
     ]
    },
    {
     "name": "stderr",
     "output_type": "stream",
     "text": [
      "/usr/local/lib/python3.5/dist-packages/scipy/stats/_distn_infrastructure.py:879: RuntimeWarning: invalid value encountered in greater\n",
      "  return (self.a < x) & (x < self.b)\n",
      "/usr/local/lib/python3.5/dist-packages/scipy/stats/_distn_infrastructure.py:879: RuntimeWarning: invalid value encountered in less\n",
      "  return (self.a < x) & (x < self.b)\n",
      "/usr/local/lib/python3.5/dist-packages/scipy/stats/_distn_infrastructure.py:1738: RuntimeWarning: invalid value encountered in greater_equal\n",
      "  cond2 = (x >= self.b) & cond0\n"
     ]
    },
    {
     "name": "stdout",
     "output_type": "stream",
     "text": [
      "[12:52:25] Params: {'init_stdev': 0.018939304428672844, 'step_size': 0.010089754829820016, 'l2_reg_w': 0.4767910709980511, 'rank': 15, 'l2_reg_V': 3735.844099649366, 'n_iter': 4023} => Failed\n",
      "[12:52:33] Params: {'init_stdev': 0.05809304398905933, 'step_size': 0.012851689613978753, 'l2_reg_w': 0.022223690328956484, 'rank': 2, 'l2_reg_V': 108.18851853599386, 'n_iter': 345} => AUC: 0.501540, Results: [0.0048786  0.00843657 0.03799754 ... 0.01634887 0.01001891 0.00693632]\n",
      "[12:52:42] Params: {'init_stdev': 0.016579000939964766, 'step_size': 0.010911494955259922, 'l2_reg_w': 0.04262139729305631, 'rank': 7, 'l2_reg_V': 17.9542464733345, 'n_iter': 6419} => AUC: 0.559966, Results: [0.00123712 0.00104464 0.00447716 ... 0.00822928 0.00609777 0.00210245]\n",
      "[12:52:51] Params: {'init_stdev': 0.034920452769580126, 'step_size': 0.017226257479891434, 'l2_reg_w': 0.0928838325939095, 'rank': 4, 'l2_reg_V': 0.00021243375176824292, 'n_iter': 2684} => AUC: 0.557438, Results: [0.00083021 0.00212376 0.0050676  ... 0.00543353 0.00335869 0.00253689]\n"
     ]
    },
    {
     "name": "stderr",
     "output_type": "stream",
     "text": [
      "/usr/local/lib/python3.5/dist-packages/scipy/stats/_distn_infrastructure.py:879: RuntimeWarning: invalid value encountered in greater\n",
      "  return (self.a < x) & (x < self.b)\n",
      "/usr/local/lib/python3.5/dist-packages/scipy/stats/_distn_infrastructure.py:879: RuntimeWarning: invalid value encountered in less\n",
      "  return (self.a < x) & (x < self.b)\n",
      "/usr/local/lib/python3.5/dist-packages/scipy/stats/_distn_infrastructure.py:1738: RuntimeWarning: invalid value encountered in greater_equal\n",
      "  cond2 = (x >= self.b) & cond0\n"
     ]
    },
    {
     "name": "stdout",
     "output_type": "stream",
     "text": [
      "[12:52:58] Params: {'init_stdev': 0.006821724445826469, 'step_size': 0.010015283679847574, 'l2_reg_w': 0.016074077606814004, 'rank': 10, 'l2_reg_V': 51051.29354015266, 'n_iter': 724} => Failed\n",
      "[12:53:06] Params: {'init_stdev': 0.08199145240149615, 'step_size': 0.023856547602383385, 'l2_reg_w': 0.004526519569375447, 'rank': 5, 'l2_reg_V': 72.69326423860332, 'n_iter': 3208} => AUC: 0.563528, Results: [0.00021196 0.00195956 0.01017488 ... 0.0209268  0.0110528  0.00150699]\n",
      "[12:53:16] Params: {'init_stdev': 0.021663441266499862, 'step_size': 0.014515666106659995, 'l2_reg_w': 0.010397731670710704, 'rank': 11, 'l2_reg_V': 30.750389136710645, 'n_iter': 4989} => AUC: 0.566843, Results: [0.00016525 0.00066456 0.00219568 ... 0.00829659 0.00275603 0.00048521]\n",
      "[12:53:26] Params: {'init_stdev': 0.027254965460183325, 'step_size': 0.20801201265274283, 'l2_reg_w': 0.0009981975125261267, 'rank': 8, 'l2_reg_V': 0.002390839303101841, 'n_iter': 2167} => AUC: 0.567609, Results: [2.73500573e-06 1.13018600e-04 2.19498443e-03 ... 4.09186551e-02\n",
      " 3.44662886e-02 1.80858072e-03]\n"
     ]
    },
    {
     "name": "stderr",
     "output_type": "stream",
     "text": [
      "/usr/local/lib/python3.5/dist-packages/scipy/stats/_distn_infrastructure.py:879: RuntimeWarning: invalid value encountered in greater\n",
      "  return (self.a < x) & (x < self.b)\n",
      "/usr/local/lib/python3.5/dist-packages/scipy/stats/_distn_infrastructure.py:879: RuntimeWarning: invalid value encountered in less\n",
      "  return (self.a < x) & (x < self.b)\n",
      "/usr/local/lib/python3.5/dist-packages/scipy/stats/_distn_infrastructure.py:1738: RuntimeWarning: invalid value encountered in greater_equal\n",
      "  cond2 = (x >= self.b) & cond0\n"
     ]
    },
    {
     "name": "stdout",
     "output_type": "stream",
     "text": [
      "[12:53:32] Params: {'init_stdev': 0.06911331392222259, 'step_size': 0.019085268488283375, 'l2_reg_w': 0.0019908364368557622, 'rank': 6, 'l2_reg_V': 597.7444754396363, 'n_iter': 1447} => Failed\n",
      "[12:53:40] Params: {'init_stdev': 0.007760876522475119, 'step_size': 0.0314970056391113, 'l2_reg_w': 0.2610574576016885, 'rank': 2, 'l2_reg_V': 4.8798024404102724, 'n_iter': 9803} => AUC: 0.522095, Results: [0.00071455 0.00075084 0.00085498 ... 0.00129137 0.00155163 0.00102859]\n"
     ]
    },
    {
     "name": "stderr",
     "output_type": "stream",
     "text": [
      "/usr/local/lib/python3.5/dist-packages/scipy/stats/_distn_infrastructure.py:879: RuntimeWarning: invalid value encountered in greater\n",
      "  return (self.a < x) & (x < self.b)\n",
      "/usr/local/lib/python3.5/dist-packages/scipy/stats/_distn_infrastructure.py:879: RuntimeWarning: invalid value encountered in less\n",
      "  return (self.a < x) & (x < self.b)\n",
      "/usr/local/lib/python3.5/dist-packages/scipy/stats/_distn_infrastructure.py:1738: RuntimeWarning: invalid value encountered in greater_equal\n",
      "  cond2 = (x >= self.b) & cond0\n"
     ]
    },
    {
     "name": "stdout",
     "output_type": "stream",
     "text": [
      "[12:53:47] Params: {'init_stdev': 0.011182150592987014, 'step_size': 0.022364971402264094, 'l2_reg_w': 31.947032975992002, 'rank': 13, 'l2_reg_V': 214.37811916517083, 'n_iter': 7998} => Failed\n",
      "[12:54:00] Params: {'init_stdev': 0.049176942112150165, 'step_size': 0.012406141385514267, 'l2_reg_w': 0.027941289327528644, 'rank': 23, 'l2_reg_V': 0.00011101867936012104, 'n_iter': 9971} => AUC: 0.572230, Results: [0.00056911 0.00083043 0.00319004 ... 0.01226217 0.01041039 0.00325684]\n",
      "[12:54:13] Params: {'init_stdev': 0.08239236938765608, 'step_size': 0.02524019726828146, 'l2_reg_w': 0.00292011935342712, 'rank': 24, 'l2_reg_V': 9.569499012879137e-05, 'n_iter': 9879} => AUC: 0.562230, Results: [5.89913137e-05 1.02364549e-04 1.61631353e-03 ... 7.08648738e-03\n",
      " 5.48591321e-03 2.14860949e-03]\n",
      "[12:54:28] Params: {'init_stdev': 0.09950703482863227, 'step_size': 0.016657436965479947, 'l2_reg_w': 0.03062880919129486, 'rank': 29, 'l2_reg_V': 0.0003976047822662204, 'n_iter': 7049} => AUC: 0.545735, Results: [4.94964650e-05 1.12674182e-04 9.77148604e-04 ... 4.91841912e-03\n",
      " 3.61322273e-03 8.63094206e-04]\n",
      "[12:54:44] Params: {'init_stdev': 0.05018147550915776, 'step_size': 0.015760957098877114, 'l2_reg_w': 0.0006697173015756387, 'rank': 35, 'l2_reg_V': 3.756089522325233e-05, 'n_iter': 5424} => AUC: 0.565442, Results: [0.00044606 0.0016579  0.00531985 ... 0.03518455 0.01858452 0.00338768]\n",
      "[12:54:58] Params: {'init_stdev': 0.043421610423958146, 'step_size': 0.02852680572976346, 'l2_reg_w': 0.008291079001285702, 'rank': 25, 'l2_reg_V': 2.2436620338856658e-05, 'n_iter': 3} => AUC: 0.505509, Results: [0.3579816  0.39512911 0.46177379 ... 0.4238047  0.43463566 0.42419674]\n",
      "[12:55:10] Params: {'init_stdev': 0.12066106362410162, 'step_size': 0.03308429648220714, 'l2_reg_w': 0.0018994963851324403, 'rank': 19, 'l2_reg_V': 0.0005900784231825133, 'n_iter': 9913} => AUC: 0.548645, Results: [9.07408936e-05 2.95086277e-04 2.53224955e-03 ... 1.08496441e-02\n",
      " 6.95275069e-03 5.41995891e-03]\n",
      "[12:55:25] Params: {'init_stdev': 0.05707144161408732, 'step_size': 0.013646287958196933, 'l2_reg_w': 0.005446804278919459, 'rank': 31, 'l2_reg_V': 0.00017726861217390216, 'n_iter': 7969} => AUC: 0.567686, Results: [1.28943539e-05 4.42716617e-05 4.45637543e-04 ... 3.40932551e-03\n",
      " 2.45475515e-03 1.62698374e-04]\n",
      "[12:55:37] Params: {'init_stdev': 0.11305906032249041, 'step_size': 0.020114366850232185, 'l2_reg_w': 0.000913048597367761, 'rank': 21, 'l2_reg_V': 1.0662827968353459e-05, 'n_iter': 6698} => AUC: 0.541307, Results: [1.49490079e-04 4.93672709e-05 5.49945066e-03 ... 7.33359126e-03\n",
      " 8.16349482e-03 1.51901760e-03]\n",
      "[12:55:48] Params: {'init_stdev': 0.0719148240721506, 'step_size': 0.01837201995777501, 'l2_reg_w': 0.017936471045284758, 'rank': 16, 'l2_reg_V': 6.506448223467369e-05, 'n_iter': 5851} => AUC: 0.561924, Results: [0.00019327 0.00035492 0.00304328 ... 0.01162478 0.00860165 0.00119484]\n",
      "[12:56:01] Params: {'init_stdev': 0.08753769371401471, 'step_size': 0.014779437733996469, 'l2_reg_w': 0.0036192784037681353, 'rank': 26, 'l2_reg_V': 0.0015702512914161806, 'n_iter': 39} => AUC: 0.505115, Results: [0.12018675 0.1754853  0.27234404 ... 0.22739965 0.24262459 0.18168197]\n",
      "[12:56:14] Params: {'init_stdev': 0.06586356796438236, 'step_size': 0.026546561745685808, 'l2_reg_w': 0.05446314883634099, 'rank': 23, 'l2_reg_V': 0.00010951991998978663, 'n_iter': 8737} => AUC: 0.557940, Results: [7.96155526e-05 1.07154533e-04 5.37691023e-04 ... 2.41967001e-03\n",
      " 1.32578910e-03 9.77454435e-04]\n",
      "[12:56:31] Params: {'init_stdev': 0.19350422715936022, 'step_size': 0.011890654475549179, 'l2_reg_w': 0.011114848830086394, 'rank': 42, 'l2_reg_V': 5.6067943139780206e-05, 'n_iter': 104} => AUC: 0.483681, Results: [0.00309676 0.01075985 0.01702738 ... 0.00177962 0.0756911  0.00241838]\n",
      "[12:56:43] Params: {'init_stdev': 0.048847389439202284, 'step_size': 0.023251687126529235, 'l2_reg_w': 0.006846421997287945, 'rank': 17, 'l2_reg_V': 0.0012499822438268788, 'n_iter': 4807} => AUC: 0.568767, Results: [2.26741452e-05 2.19651089e-04 7.43228688e-04 ... 1.54903068e-02\n",
      " 4.12563959e-03 1.90118293e-04]\n",
      "[12:56:53] Params: {'init_stdev': 0.03183435801353745, 'step_size': 0.017520618072376492, 'l2_reg_w': 0.0018598428085130061, 'rank': 13, 'l2_reg_V': 0.00027903149912252934, 'n_iter': 3419} => AUC: 0.561733, Results: [0.00010448 0.00085385 0.00420643 ... 0.00898244 0.00461095 0.00056558]\n",
      "[12:57:08] Params: {'init_stdev': 0.14710121837571627, 'step_size': 0.03587694806225246, 'l2_reg_w': 0.026115836236685088, 'rank': 32, 'l2_reg_V': 0.0008093843065413122, 'n_iter': 6} => AUC: 0.501403, Results: [0.0952334  0.10319679 0.19614841 ... 0.16302919 0.29388261 0.21102567]\n",
      "[12:57:19] Params: {'init_stdev': 0.040087367050931, 'step_size': 0.011013312462026355, 'l2_reg_w': 0.0013202706482057579, 'rank': 15, 'l2_reg_V': 3.299934400593967e-05, 'n_iter': 2296} => AUC: 0.526711, Results: [8.34101392e-05 3.42050035e-04 3.34227853e-03 ... 1.66603574e-03\n",
      " 7.99953168e-04 2.76294671e-04]\n",
      "[12:57:31] Params: {'init_stdev': 0.10374842008517421, 'step_size': 0.021814822673338514, 'l2_reg_w': 0.042577529101608745, 'rank': 21, 'l2_reg_V': 1.565525295884626e-05, 'n_iter': 4343} => AUC: 0.548470, Results: [0.00066311 0.00370739 0.00652703 ... 0.03898759 0.01795806 0.00682813]\n",
      "[12:57:47] Params: {'init_stdev': 0.057436346370308845, 'step_size': 0.012868688496973375, 'l2_reg_w': 0.07556075435203043, 'rank': 36, 'l2_reg_V': 0.0001514110406149324, 'n_iter': 2803} => AUC: 0.548275, Results: [0.0005547  0.00470792 0.01005996 ... 0.01296219 0.00799976 0.00439018]\n",
      "[12:57:57] Params: {'init_stdev': 0.06410775251563197, 'step_size': 0.030618235900770067, 'l2_reg_w': 0.00044957465486207874, 'rank': 11, 'l2_reg_V': 0.0004214024230175545, 'n_iter': 1732} => AUC: 0.534787, Results: [2.68094533e-05 1.76440748e-04 2.87642573e-03 ... 6.28406855e-04\n",
      " 4.50696705e-04 1.21253571e-04]\n",
      "[12:58:11] Params: {'init_stdev': 0.1332160254759332, 'step_size': 0.027369839584093492, 'l2_reg_w': 0.1686304724633979, 'rank': 27, 'l2_reg_V': 0.0045690698154637645, 'n_iter': 6623} => AUC: 0.535738, Results: [0.00217388 0.00064858 0.00688919 ... 0.00690641 0.00902882 0.00295723]\n",
      "[12:58:23] Params: {'init_stdev': 0.034733067905965066, 'step_size': 0.020087542363161754, 'l2_reg_w': 0.0032341786683555336, 'rank': 18, 'l2_reg_V': 1.0129306996153802e-05, 'n_iter': 1} => AUC: 0.500091, Results: [0.43122688 0.45492882 0.50945691 ... 0.46800919 0.48236052 0.46902068]\n",
      "[12:58:40] Params: {'init_stdev': 0.09097108429035, 'step_size': 0.016288330761559357, 'l2_reg_w': 0.012895570901545498, 'rank': 44, 'l2_reg_V': 0.000980699543692389, 'n_iter': 3630} => AUC: 0.562953, Results: [3.15501365e-05 6.51294767e-04 4.17912711e-03 ... 3.04144214e-02\n",
      " 2.25675257e-02 1.64983849e-03]\n",
      "[12:58:50] Params: {'init_stdev': 0.04203447752572239, 'step_size': 0.025068284541433894, 'l2_reg_w': 0.00572610948877655, 'rank': 9, 'l2_reg_V': 0.00011116413086648514, 'n_iter': 1144} => AUC: 0.538272, Results: [0.00103571 0.00226318 0.0109559  ... 0.00684662 0.00328116 0.00165878]\n",
      "[12:59:00] Params: {'init_stdev': 0.07848354677200847, 'step_size': 0.01861410534598082, 'l2_reg_w': 0.020865626737196184, 'rank': 13, 'l2_reg_V': 0.0028931351172439296, 'n_iter': 8260} => AUC: 0.567137, Results: [9.06729122e-05 1.74935653e-04 8.66197368e-04 ... 8.03752014e-03\n",
      " 5.91036094e-03 6.98143838e-04]\n"
     ]
    },
    {
     "name": "stderr",
     "output_type": "stream",
     "text": [
      "/usr/local/lib/python3.5/dist-packages/scipy/stats/_distn_infrastructure.py:879: RuntimeWarning: invalid value encountered in greater\n",
      "  return (self.a < x) & (x < self.b)\n",
      "/usr/local/lib/python3.5/dist-packages/scipy/stats/_distn_infrastructure.py:879: RuntimeWarning: invalid value encountered in less\n",
      "  return (self.a < x) & (x < self.b)\n",
      "/usr/local/lib/python3.5/dist-packages/scipy/stats/_distn_infrastructure.py:1738: RuntimeWarning: invalid value encountered in greater_equal\n",
      "  cond2 = (x >= self.b) & cond0\n"
     ]
    },
    {
     "name": "stdout",
     "output_type": "stream",
     "text": [
      "[12:59:17] Params: {'init_stdev': 0.051878009205735584, 'step_size': 0.03417410315331438, 'l2_reg_w': 7.819542320551268, 'rank': 51, 'l2_reg_V': 20076.348085342575, 'n_iter': 4953} => Failed\n",
      "[12:59:29] Params: {'init_stdev': 0.027659878376966242, 'step_size': 0.014028108349125235, 'l2_reg_w': 0.5448995117851412, 'rank': 22, 'l2_reg_V': 5.132201798086905e-05, 'n_iter': 517} => AUC: 0.508996, Results: [0.01141686 0.01962477 0.03262363 ... 0.02281204 0.01518506 0.01732204]\n",
      "[12:59:44] Params: {'init_stdev': 0.037162449236991045, 'step_size': 0.015314109389347031, 'l2_reg_w': 0.00032205594373733927, 'rank': 30, 'l2_reg_V': 0.001704020432366832, 'n_iter': 3009} => AUC: 0.554156, Results: [0.00012723 0.00131644 0.00583778 ... 0.00886789 0.0037918  0.0007866 ]\n",
      "[12:59:55] Params: {'init_stdev': 0.07090052671595753, 'step_size': 0.021697613607230777, 'l2_reg_w': 0.03172879318348708, 'rank': 18, 'l2_reg_V': 0.0005796307086479184, 'n_iter': 6229} => AUC: 0.546424, Results: [0.00043136 0.00023359 0.00219925 ... 0.00571205 0.00512998 0.00137819]\n",
      "[13:00:06] Params: {'init_stdev': 0.024769788083423692, 'step_size': 0.010901620121486887, 'l2_reg_w': 0.0011736423915331324, 'rank': 15, 'l2_reg_V': 2.0045496867093912e-05, 'n_iter': 11} => AUC: 0.508232, Results: [0.37523445 0.38550715 0.45150306 ... 0.41788738 0.41418232 0.39415009]\n",
      "[13:00:16] Params: {'init_stdev': 0.04563795538627774, 'step_size': 0.029326142746265035, 'l2_reg_w': 1.02544093622135, 'rank': 11, 'l2_reg_V': 3.602897960728472e-05, 'n_iter': 1905} => AUC: 0.529927, Results: [0.0004237  0.00096747 0.00086948 ... 0.00118664 0.00135486 0.00100481]\n",
      "[13:00:25] Params: {'init_stdev': 0.03171693673210075, 'step_size': 0.0241484932302662, 'l2_reg_w': 0.002196890802526157, 'rank': 8, 'l2_reg_V': 0.0003407989469149684, 'n_iter': 54} => AUC: 0.503551, Results: [0.09771832 0.10819268 0.18734752 ... 0.13173219 0.11465259 0.099149  ]\n",
      "[13:00:39] Params: {'init_stdev': 0.019095574339365092, 'step_size': 0.013000832016889957, 'l2_reg_w': 0.008070815283986128, 'rank': 24, 'l2_reg_V': 0.0002319038407928246, 'n_iter': 9863} => AUC: 0.569688, Results: [0.0002002  0.000257   0.00174303 ... 0.00614994 0.00554877 0.00106145]\n",
      "[13:00:55] Params: {'init_stdev': 0.10782961588244612, 'step_size': 0.01759229815566896, 'l2_reg_w': 0.0005469809322581213, 'rank': 35, 'l2_reg_V': 7.190884327220874e-05, 'n_iter': 2517} => AUC: 0.552284, Results: [3.67299582e-06 2.62469315e-04 2.64136727e-03 ... 8.08470732e-03\n",
      " 5.55829375e-03 1.27075784e-03]\n",
      "[13:01:12] Params: {'init_stdev': 0.016935728859446966, 'step_size': 0.28245708246392737, 'l2_reg_w': 0.14077910848521638, 'rank': 40, 'l2_reg_V': 0.0057303914814143524, 'n_iter': 822} => AUC: 0.527705, Results: [4.06421036e-05 4.08692769e-05 8.73856779e-06 ... 9.79192882e-05\n",
      " 1.03750523e-04 2.88680251e-04]\n",
      "[13:01:22] Params: {'init_stdev': 0.014224717775558615, 'step_size': 0.012022726942920678, 'l2_reg_w': 0.004212980227321177, 'rank': 12, 'l2_reg_V': 0.0004780993548443082, 'n_iter': 2} => AUC: 0.507188, Results: [0.45928839 0.47182028 0.49528182 ... 0.48167008 0.48479552 0.48018934]\n"
     ]
    },
    {
     "name": "stderr",
     "output_type": "stream",
     "text": [
      "/usr/local/lib/python3.5/dist-packages/scipy/stats/_distn_infrastructure.py:879: RuntimeWarning: invalid value encountered in greater\n",
      "  return (self.a < x) & (x < self.b)\n",
      "/usr/local/lib/python3.5/dist-packages/scipy/stats/_distn_infrastructure.py:879: RuntimeWarning: invalid value encountered in less\n",
      "  return (self.a < x) & (x < self.b)\n",
      "/usr/local/lib/python3.5/dist-packages/scipy/stats/_distn_infrastructure.py:1738: RuntimeWarning: invalid value encountered in greater_equal\n",
      "  cond2 = (x >= self.b) & cond0\n"
     ]
    },
    {
     "name": "stdout",
     "output_type": "stream",
     "text": [
      "[13:01:28] Params: {'init_stdev': 0.05739725975900537, 'step_size': 0.010172841369617464, 'l2_reg_w': 7996.981707407526, 'rank': 8, 'l2_reg_V': 0.0001285033942237857, 'n_iter': 3849} => Failed\n",
      "[13:01:37] Params: {'init_stdev': 0.02696273351830513, 'step_size': 0.019933887978874337, 'l2_reg_w': 0.0618956823700933, 'rank': 10, 'l2_reg_V': 0.015117931057792876, 'n_iter': 1303} => AUC: 0.534374, Results: [0.00136724 0.00218115 0.01010551 ... 0.00514917 0.00259839 0.00178758]\n",
      "[13:01:52] Params: {'init_stdev': 0.12146984979581753, 'step_size': 0.03780411418002168, 'l2_reg_w': 0.016751242340648505, 'rank': 28, 'l2_reg_V': 0.003101196657522274, 'n_iter': 5728} => AUC: 0.542461, Results: [1.34035486e-04 6.90461063e-05 8.41663508e-03 ... 7.16804040e-03\n",
      " 6.24678237e-03 2.38421947e-03]\n"
     ]
    },
    {
     "name": "stderr",
     "output_type": "stream",
     "text": [
      "/usr/local/lib/python3.5/dist-packages/scipy/stats/_distn_infrastructure.py:879: RuntimeWarning: invalid value encountered in greater\n",
      "  return (self.a < x) & (x < self.b)\n",
      "/usr/local/lib/python3.5/dist-packages/scipy/stats/_distn_infrastructure.py:879: RuntimeWarning: invalid value encountered in less\n",
      "  return (self.a < x) & (x < self.b)\n",
      "/usr/local/lib/python3.5/dist-packages/scipy/stats/_distn_infrastructure.py:1738: RuntimeWarning: invalid value encountered in greater_equal\n",
      "  cond2 = (x >= self.b) & cond0\n"
     ]
    },
    {
     "name": "stdout",
     "output_type": "stream",
     "text": [
      "[13:01:59] Params: {'init_stdev': 0.09318294445693903, 'step_size': 0.014833727701197879, 'l2_reg_w': 0.2654102955198656, 'rank': 15, 'l2_reg_V': 31714.13061192823, 'n_iter': 991} => Failed\n",
      "[13:02:18] Params: {'init_stdev': 0.1608196410764519, 'step_size': 0.032565867261482154, 'l2_reg_w': 0.08752806968227736, 'rank': 48, 'l2_reg_V': 2.7108116076096857e-05, 'n_iter': 649} => AUC: 0.522138, Results: [1.82388805e-05 3.27363635e-03 1.16591981e-03 ... 4.97000036e-04\n",
      " 5.98417848e-02 1.50888801e-02]\n",
      "[13:02:30] Params: {'init_stdev': 0.04788692054305695, 'step_size': 0.02549831442488711, 'l2_reg_w': 0.010215562817083936, 'rank': 18, 'l2_reg_V': 0.008421883780583244, 'n_iter': 8222} => AUC: 0.571170, Results: [8.64932980e-05 1.44973224e-04 6.91006745e-04 ... 7.39604861e-03\n",
      " 6.29206396e-03 6.25563213e-04]\n",
      "[13:02:39] Params: {'init_stdev': 0.1377596996994404, 'step_size': 0.026521764231856627, 'l2_reg_w': 0.0011050833885819377, 'rank': 7, 'l2_reg_V': 0.012687804799304902, 'n_iter': 8174} => AUC: 0.562782, Results: [2.70692347e-05 3.81891869e-05 1.36745264e-03 ... 1.06195988e-02\n",
      " 1.49304942e-02 4.77780936e-04]\n",
      "[13:02:48] Params: {'init_stdev': 0.22226033754236102, 'step_size': 0.010010295227193206, 'l2_reg_w': 0.00020581132345027473, 'rank': 6, 'l2_reg_V': 0.008443197072961182, 'n_iter': 4} => AUC: 0.485639, Results: [0.11468554 0.16474351 0.46903758 ... 0.28763323 0.34603536 0.29673748]\n",
      "[13:02:59] Params: {'init_stdev': 0.06461489099174181, 'step_size': 0.016532150102939056, 'l2_reg_w': 0.002844596346829684, 'rank': 16, 'l2_reg_V': 0.0009968882095887184, 'n_iter': 7735} => AUC: 0.565161, Results: [2.83415038e-05 6.89227455e-05 8.42003691e-04 ... 5.63260619e-03\n",
      " 5.01074665e-03 2.35889441e-04]\n",
      "[13:03:11] Params: {'init_stdev': 0.07312899120113654, 'step_size': 0.020992161948069885, 'l2_reg_w': 0.04214201090449633, 'rank': 14, 'l2_reg_V': 0.02225635281067207, 'n_iter': 9379} => AUC: 0.551215, Results: [0.0003984  0.00022622 0.00118263 ... 0.00273834 0.00261431 0.0019789 ]\n"
     ]
    },
    {
     "name": "stderr",
     "output_type": "stream",
     "text": [
      "/usr/local/lib/python3.5/dist-packages/scipy/stats/_distn_infrastructure.py:879: RuntimeWarning: invalid value encountered in greater\n",
      "  return (self.a < x) & (x < self.b)\n",
      "/usr/local/lib/python3.5/dist-packages/scipy/stats/_distn_infrastructure.py:879: RuntimeWarning: invalid value encountered in less\n",
      "  return (self.a < x) & (x < self.b)\n",
      "/usr/local/lib/python3.5/dist-packages/scipy/stats/_distn_infrastructure.py:1738: RuntimeWarning: invalid value encountered in greater_equal\n",
      "  cond2 = (x >= self.b) & cond0\n"
     ]
    },
    {
     "name": "stdout",
     "output_type": "stream",
     "text": [
      "[13:03:18] Params: {'init_stdev': 0.08176042766183926, 'step_size': 0.022369676015163358, 'l2_reg_w': 2084.636402800257, 'rank': 12, 'l2_reg_V': 0.0020618145188402623, 'n_iter': 7046} => Failed\n",
      "[13:03:28] Params: {'init_stdev': 0.18666960167540164, 'step_size': 0.013614110413689507, 'l2_reg_w': 0.0007820930926046639, 'rank': 10, 'l2_reg_V': 0.004674590786893612, 'n_iter': 5061} => AUC: 0.553902, Results: [1.17346368e-05 3.84199762e-04 6.28892345e-03 ... 3.48287800e-02\n",
      " 3.95512331e-02 2.16723331e-03]\n",
      "[13:03:41] Params: {'init_stdev': 0.049958034623610786, 'step_size': 0.3840551513965552, 'l2_reg_w': 0.005019118436010451, 'rank': 19, 'l2_reg_V': 0.00020324123441147694, 'n_iter': 75} => AUC: 0.497300, Results: [1.86560082e-05 3.22461987e-04 1.87799502e-03 ... 4.65466915e-05\n",
      " 3.42129807e-05 9.63949847e-06]\n",
      "[13:03:54] Params: {'init_stdev': 0.09787406918018221, 'step_size': 0.02850181604852581, 'l2_reg_w': 0.008293019789177283, 'rank': 23, 'l2_reg_V': 0.057392120595916134, 'n_iter': 9840} => AUC: 0.564846, Results: [0.00016677 0.00016184 0.00141405 ... 0.01279689 0.01205682 0.00331782]\n",
      "[13:04:10] Params: {'init_stdev': 0.04219580118920926, 'step_size': 0.01907807334923696, 'l2_reg_w': 0.371805756723068, 'rank': 33, 'l2_reg_V': 0.0005957265451980338, 'n_iter': 4573} => AUC: 0.542436, Results: [0.00075269 0.00157557 0.00125311 ... 0.00683976 0.00438071 0.00134802]\n",
      "[13:04:20] Params: {'init_stdev': 0.574299049094186, 'step_size': 0.04036717831114744, 'l2_reg_w': 0.023069758543412658, 'rank': 8, 'l2_reg_V': 0.007835646957360306, 'n_iter': 5963} => AUC: 0.513032, Results: [1.81797759e-04 4.68794416e-05 4.58144901e-02 ... 3.87653923e-02\n",
      " 1.14524251e-02 2.18731790e-03]\n",
      "[13:04:36] Params: {'init_stdev': 0.05558218490678852, 'step_size': 0.03553204364135429, 'l2_reg_w': 3.292683015381801, 'rank': 38, 'l2_reg_V': 0.001185261673011232, 'n_iter': 7133} => AUC: 0.546691, Results: [7.47211235e-05 3.72749888e-04 3.36755865e-04 ... 1.05600057e-03\n",
      " 1.13057068e-03 2.09047837e-04]\n",
      "[13:04:58] Params: {'init_stdev': 0.11934767251271441, 'step_size': 0.03143560298389238, 'l2_reg_w': 0.0017758807807434043, 'rank': 58, 'l2_reg_V': 0.03326613137250292, 'n_iter': 253} => AUC: 0.491554, Results: [0.00049628 0.00137466 0.0048718  ... 0.00067813 0.02214861 0.00362824]\n",
      "[13:05:06] Params: {'init_stdev': 0.3555507824125462, 'step_size': 0.017444301630510608, 'l2_reg_w': 0.152986284474163, 'rank': 5, 'l2_reg_V': 7.338229460028366e-05, 'n_iter': 8456} => AUC: 0.522623, Results: [1.67884667e-04 1.08342368e-05 1.93889343e-03 ... 3.28903257e-03\n",
      " 5.22569800e-03 5.35751459e-04]\n",
      "[13:05:15] Params: {'init_stdev': 0.06263820323717752, 'step_size': 0.31274997421338374, 'l2_reg_w': 0.00039509670823151776, 'rank': 11, 'l2_reg_V': 1.0887811626782718e-05, 'n_iter': 4069} => AUC: 0.510224, Results: [0. 0. 1. ... 0. 0. 1.]\n",
      "[13:05:29] Params: {'init_stdev': 0.07616639085046237, 'step_size': 0.015241232883791755, 'l2_reg_w': 0.7562341217711575, 'rank': 26, 'l2_reg_V': 0.0002703484361577478, 'n_iter': 3477} => AUC: 0.546283, Results: [0.00031846 0.00183106 0.00190856 ... 0.00943935 0.00719197 0.00157566]\n",
      "[13:05:40] Params: {'init_stdev': 0.035610117415964836, 'step_size': 0.011358568670094566, 'l2_reg_w': 0.03056483893420182, 'rank': 17, 'l2_reg_V': 0.0024223028484646847, 'n_iter': 5489} => AUC: 0.569753, Results: [0.00208127 0.00418192 0.01073836 ... 0.02561484 0.01536555 0.00571773]\n",
      "[13:05:50] Params: {'init_stdev': 0.04757914194757464, 'step_size': 0.0232985829311371, 'l2_reg_w': 0.012626812326733836, 'rank': 13, 'l2_reg_V': 0.01325578102380311, 'n_iter': 2425} => AUC: 0.561116, Results: [0.00018532 0.0012261  0.00678048 ... 0.00828043 0.00390637 0.00115028]\n",
      "[13:05:59] Params: {'init_stdev': 0.0835457342425774, 'step_size': 0.012501852871175138, 'l2_reg_w': 0.05346204234663709, 'rank': 6, 'l2_reg_V': 0.004329940025948706, 'n_iter': 27} => AUC: 0.500650, Results: [0.19244459 0.21943276 0.38424055 ... 0.28247693 0.28326804 0.25272651]\n",
      "[13:06:17] Params: {'init_stdev': 0.14193117597721375, 'step_size': 0.02609010623242113, 'l2_reg_w': 1.5608994008957748, 'rank': 45, 'l2_reg_V': 0.0003738861681145391, 'n_iter': 6592} => AUC: 0.538491, Results: [0.00039936 0.0002174  0.00226177 ... 0.00118176 0.00351996 0.00080253]\n",
      "[13:06:32] Params: {'init_stdev': 0.2509200405277572, 'step_size': 0.0185262110502175, 'l2_reg_w': 0.0030620020713695694, 'rank': 29, 'l2_reg_V': 0.0007042502287530484, 'n_iter': 9757} => AUC: 0.533787, Results: [1.66113123e-06 2.72871487e-05 6.98293259e-03 ... 1.12527125e-03\n",
      " 4.62477858e-04 1.12511774e-02]\n",
      "[13:06:44] Params: {'init_stdev': 0.1042010343688117, 'step_size': 0.015911161648297558, 'l2_reg_w': 0.10513415736076237, 'rank': 18, 'l2_reg_V': 0.00010842045986890094, 'n_iter': 4661} => AUC: 0.553365, Results: [0.00020174 0.00267313 0.00145693 ... 0.03013583 0.01235538 0.0018623 ]\n",
      "[13:06:57] Params: {'init_stdev': 0.03076833696824523, 'step_size': 0.01423663820916019, 'l2_reg_w': 0.0006891477569414152, 'rank': 22, 'l2_reg_V': 4.110869274192694e-05, 'n_iter': 9963} => AUC: 0.571607, Results: [0.00025033 0.00031533 0.00225313 ... 0.01283094 0.01246638 0.00158301]\n",
      "[13:07:07] Params: {'init_stdev': 0.031670963063810315, 'step_size': 0.010957160319814125, 'l2_reg_w': 0.00031779421702029804, 'rank': 8, 'l2_reg_V': 1.6698774260988367e-05, 'n_iter': 8612} => AUC: 0.555804, Results: [7.66814783e-05 1.07562843e-04 1.32884107e-03 ... 4.13967409e-03\n",
      " 2.73888532e-03 3.70378405e-04]\n",
      "[13:07:20] Params: {'init_stdev': 0.02393303970804872, 'step_size': 0.010031624439836337, 'l2_reg_w': 0.00019027734498617763, 'rank': 22, 'l2_reg_V': 4.559916526460004e-05, 'n_iter': 147} => AUC: 0.498228, Results: [0.05270371 0.0665153  0.13148058 ... 0.0870565  0.06904854 0.06162104]\n",
      "[13:07:31] Params: {'init_stdev': 0.0194533191313755, 'step_size': 0.012358597454287551, 'l2_reg_w': 0.0001018920489145034, 'rank': 14, 'l2_reg_V': 2.555279448638202e-05, 'n_iter': 9510} => AUC: 0.559132, Results: [7.92392460e-05 8.88805812e-05 1.13288147e-03 ... 2.91759081e-03\n",
      " 2.40797675e-03 4.34784418e-04]\n",
      "[13:07:41] Params: {'init_stdev': 0.01604529245115323, 'step_size': 0.014132215557395625, 'l2_reg_w': 0.00017901019877812686, 'rank': 10, 'l2_reg_V': 1.2859498469214066e-05, 'n_iter': 6904} => AUC: 0.556899, Results: [0.0003422  0.00030397 0.00239012 ... 0.00881662 0.00538937 0.0006562 ]\n",
      "[13:07:50] Params: {'init_stdev': 0.030210885205907666, 'step_size': 0.013531905306300657, 'l2_reg_w': 0.000549018985977019, 'rank': 7, 'l2_reg_V': 7.140136446140145e-05, 'n_iter': 9558} => AUC: 0.560027, Results: [8.04622160e-05 7.48177445e-05 1.14648950e-03 ... 3.21785976e-03\n",
      " 3.16428490e-03 5.28629918e-04]\n",
      "[13:07:59] Params: {'init_stdev': 0.0013785990266599985, 'step_size': 0.011683069603967007, 'l2_reg_w': 6.809223669533951e-05, 'rank': 5, 'l2_reg_V': 1.015711480287367e-05, 'n_iter': 5845} => AUC: 0.560189, Results: [0.00037181 0.00074992 0.00376272 ... 0.00934306 0.00439874 0.00075981]\n",
      "[13:08:07] Params: {'init_stdev': 0.04069446152450173, 'step_size': 0.012928925008871143, 'l2_reg_w': 0.0011026210168700301, 'rank': 4, 'l2_reg_V': 0.00016536686932232478, 'n_iter': 7434} => AUC: 0.563682, Results: [9.44540962e-05 2.10940224e-04 1.70795384e-03 ... 5.36528322e-03\n",
      " 3.89539674e-03 4.86484536e-04]\n",
      "[13:08:17] Params: {'init_stdev': 0.02041733381943304, 'step_size': 0.01069721888572333, 'l2_reg_w': 0.0006933372863498472, 'rank': 11, 'l2_reg_V': 1.8038287581266075e-05, 'n_iter': 9666} => AUC: 0.557999, Results: [0.00011294 0.00014557 0.00152388 ... 0.00363166 0.0030065  0.00051626]\n",
      "[13:08:30] Params: {'init_stdev': 0.012131436977621528, 'step_size': 0.24530872153000502, 'l2_reg_w': 0.0003007377407168395, 'rank': 20, 'l2_reg_V': 4.627773741513546e-05, 'n_iter': 5074} => AUC: 0.538734, Results: [8.70425942e-08 8.35757463e-06 3.44892583e-07 ... 1.77506697e-02\n",
      " 4.44407874e-03 2.49447595e-03]\n",
      "[13:08:41] Params: {'init_stdev': 0.0385173876221961, 'step_size': 0.014660547279390508, 'l2_reg_w': 0.0019364086447342945, 'rank': 16, 'l2_reg_V': 3.242653186509526e-05, 'n_iter': 9990} => AUC: 0.572429, Results: [0.00029945 0.00042393 0.00258511 ... 0.01405614 0.01632683 0.00215625]\n",
      "[13:08:49] Params: {'init_stdev': 0.009664623597555405, 'step_size': 0.011516802510769244, 'l2_reg_w': 0.0005007060128118337, 'rank': 3, 'l2_reg_V': 3.6475794473888646e-05, 'n_iter': 3982} => AUC: 0.550582, Results: [0.00029042 0.00100537 0.0047233  ... 0.00752012 0.00307048 0.00056602]\n"
     ]
    },
    {
     "name": "stdout",
     "output_type": "stream",
     "text": [
      "[13:08:59] Params: {'init_stdev': 0.005902696673863223, 'step_size': 0.01442532402752021, 'l2_reg_w': 0.0001308831782181868, 'rank': 9, 'l2_reg_V': 2.582919863629805e-05, 'n_iter': 6306} => AUC: 0.557203, Results: [0.0003698  0.00033309 0.00284591 ... 0.00763909 0.00416265 0.00059642]\n",
      "[13:09:09] Params: {'init_stdev': 0.013713861210859686, 'step_size': 0.011988931266212994, 'l2_reg_w': 3.8571875740059185e-05, 'rank': 8, 'l2_reg_V': 1.0765636934650527e-05, 'n_iter': 2874} => AUC: 0.543735, Results: [0.00029977 0.00164304 0.00662139 ... 0.00662018 0.00246898 0.00086878]\n",
      "[13:09:20] Params: {'init_stdev': 0.03770683660478759, 'step_size': 0.010032512301601994, 'l2_reg_w': 5.4293401025831395e-05, 'rank': 14, 'l2_reg_V': 2.321753857386987e-05, 'n_iter': 7953} => AUC: 0.558686, Results: [3.06821889e-05 1.04227366e-04 8.51286615e-04 ... 3.35050204e-03\n",
      " 2.14302269e-03 1.51979390e-04]\n",
      "[13:09:29] Params: {'init_stdev': 0.02399283450480601, 'step_size': 0.010508062838902897, 'l2_reg_w': 0.0014444754492404705, 'rank': 6, 'l2_reg_V': 1.0012378351820682e-05, 'n_iter': 9567} => AUC: 0.556649, Results: [8.91228844e-05 1.07245470e-04 1.31918205e-03 ... 2.84188657e-03\n",
      " 2.24325163e-03 4.02074613e-04]\n",
      "[13:09:38] Params: {'init_stdev': 0.030020190089411834, 'step_size': 0.015448948232264443, 'l2_reg_w': 0.0002160271660213478, 'rank': 6, 'l2_reg_V': 9.749041844009958e-05, 'n_iter': 9846} => AUC: 0.567948, Results: [0.00014554 0.00016958 0.00160786 ... 0.00782477 0.00793061 0.00102036]\n",
      "[13:09:48] Params: {'init_stdev': 0.021368411429480174, 'step_size': 0.013615256136250867, 'l2_reg_w': 9.459394448413047e-05, 'rank': 12, 'l2_reg_V': 0.00018071895264126577, 'n_iter': 9964} => AUC: 0.569644, Results: [0.00024986 0.00031362 0.00210141 ... 0.01090808 0.01040922 0.00121653]\n",
      "[13:09:57] Params: {'init_stdev': 0.015152556944002492, 'step_size': 0.016223030796544923, 'l2_reg_w': 0.0007677504679055635, 'rank': 3, 'l2_reg_V': 0.00011293658758000954, 'n_iter': 4640} => AUC: 0.564346, Results: [0.00025532 0.00087824 0.00327898 ... 0.01358956 0.00507461 0.0006176 ]\n",
      "[13:10:12] Params: {'init_stdev': 0.03517012314855295, 'step_size': 0.010070886982678141, 'l2_reg_w': 0.0025267372224871344, 'rank': 33, 'l2_reg_V': 6.794542188062949e-05, 'n_iter': 3545} => AUC: 0.552968, Results: [0.00029338 0.00139932 0.00690785 ... 0.01023962 0.00534524 0.00100483]\n",
      "[13:10:23] Params: {'init_stdev': 0.05400480227837666, 'step_size': 0.012892192422494592, 'l2_reg_w': 0.00041191352021466537, 'rank': 16, 'l2_reg_V': 3.662056325716732e-05, 'n_iter': 5488} => AUC: 0.569839, Results: [0.0007794  0.00277583 0.00972153 ... 0.03693024 0.02549337 0.00402699]\n",
      "[13:10:33] Params: {'init_stdev': 0.017249833619997202, 'step_size': 0.011033207875457538, 'l2_reg_w': 0.001691197531409458, 'rank': 8, 'l2_reg_V': 1.3962400233401982e-05, 'n_iter': 6506} => AUC: 0.555191, Results: [0.00032468 0.00043225 0.00345941 ... 0.0071477  0.00399585 0.00057962]\n",
      "[13:10:43] Params: {'init_stdev': 0.04338346872451356, 'step_size': 0.014599815675028483, 'l2_reg_w': 0.00467512541745363, 'rank': 11, 'l2_reg_V': 0.0002845541432254764, 'n_iter': 7441} => AUC: 0.567731, Results: [8.52981238e-05 1.84118948e-04 1.39882977e-03 ... 5.50215501e-03\n",
      " 4.92982271e-03 5.76145281e-04]\n",
      "[13:10:58] Params: {'init_stdev': 0.029340989286864797, 'step_size': 0.012103394702753194, 'l2_reg_w': 0.0008527248931420166, 'rank': 26, 'l2_reg_V': 5.809544348360289e-05, 'n_iter': 15} => AUC: 0.508243, Results: [0.32741968 0.34476824 0.41248986 ... 0.3807722  0.37080745 0.35140126]\n",
      "[13:11:11] Params: {'init_stdev': 0.06430930631018192, 'step_size': 0.01699855268130687, 'l2_reg_w': 0.0003146926212210298, 'rank': 23, 'l2_reg_V': 2.1427690736462683e-05, 'n_iter': 4358} => AUC: 0.568957, Results: [0.00031872 0.00276594 0.00712458 ... 0.03973269 0.02141048 0.00324791]\n",
      "[13:11:20] Params: {'init_stdev': 0.010837325272210452, 'step_size': 0.013408487740844221, 'l2_reg_w': 0.00013218647032028357, 'rank': 5, 'l2_reg_V': 0.00014926455069437438, 'n_iter': 2118} => AUC: 0.530661, Results: [0.00014335 0.00045513 0.00348141 ... 0.0021384  0.00072927 0.0002868 ]\n",
      "[13:11:33] Params: {'init_stdev': 0.02489497056914032, 'step_size': 0.017418256462569996, 'l2_reg_w': 1.6171504129176103e-05, 'rank': 20, 'l2_reg_V': 0.0004172098365286542, 'n_iter': 2911} => AUC: 0.556833, Results: [0.00020327 0.00234176 0.00751517 ... 0.01260707 0.00491929 0.00118845]\n",
      "[13:11:45] Params: {'init_stdev': 0.01247988122335314, 'step_size': 0.015436374893612189, 'l2_reg_w': 0.0020431290762910285, 'rank': 13, 'l2_reg_V': 1.0107534720642656e-05, 'n_iter': 3293} => AUC: 0.553809, Results: [0.00011253 0.00070487 0.00325507 ... 0.00459899 0.00200117 0.00035297]\n",
      "[13:12:09] Params: {'init_stdev': 0.02141258402727358, 'step_size': 0.010906341515877532, 'l2_reg_w': 0.0009293250872889474, 'rank': 69, 'l2_reg_V': 8.051781166867994e-05, 'n_iter': 5653} => AUC: 0.563293, Results: [0.00063884 0.001414   0.00661528 ... 0.01559863 0.00897973 0.0021056 ]\n",
      "[13:12:18] Params: {'init_stdev': 0.040574718487384136, 'step_size': 0.014214278974138345, 'l2_reg_w': 0.0005595213852633746, 'rank': 7, 'l2_reg_V': 3.322309284163656e-05, 'n_iter': 45} => AUC: 0.500524, Results: [0.1851216  0.1972593  0.30615877 ... 0.23060223 0.22423746 0.20354177]\n",
      "[13:12:35] Params: {'init_stdev': 0.03336756601559453, 'step_size': 0.019273420588070144, 'l2_reg_w': 0.00020980488776988672, 'rank': 41, 'l2_reg_V': 0.0002847401466070694, 'n_iter': 9924} => AUC: 0.570518, Results: [0.00012679 0.00016657 0.00138517 ... 0.01006268 0.01065333 0.00163675]\n",
      "[13:12:56] Params: {'init_stdev': 0.017418947420717937, 'step_size': 0.012458373952006234, 'l2_reg_w': 6.727544811938968e-05, 'rank': 51, 'l2_reg_V': 5.152233416426108e-05, 'n_iter': 1669} => AUC: 0.515042, Results: [0.00011086 0.00029339 0.00283347 ... 0.00089148 0.00034207 0.0001526 ]\n",
      "[13:13:07] Params: {'init_stdev': 0.00843054704672937, 'step_size': 0.016401968342491087, 'l2_reg_w': 2.670374788135656e-05, 'rank': 16, 'l2_reg_V': 0.0005397341880731486, 'n_iter': 7461} => AUC: 0.566600, Results: [6.59858621e-05 1.14293052e-04 8.45548914e-04 ... 3.75894948e-03\n",
      " 2.80253450e-03 2.79317859e-04]\n",
      "[13:13:22] Params: {'init_stdev': 0.055203655857932465, 'step_size': 0.01156258574637735, 'l2_reg_w': 0.00473349391505844, 'rank': 32, 'l2_reg_V': 1.9045144857888686e-05, 'n_iter': 4049} => AUC: 0.558482, Results: [8.96401650e-05 6.03254960e-04 3.98186630e-03 ... 9.38147214e-03\n",
      " 5.11196368e-03 6.07666703e-04]\n",
      "[13:13:33] Params: {'init_stdev': 0.028458487804418026, 'step_size': 0.018528034726953347, 'l2_reg_w': 0.0029984675079183054, 'rank': 10, 'l2_reg_V': 0.0002114210514896655, 'n_iter': 118} => AUC: 0.492898, Results: [0.03003846 0.0355567  0.08783343 ... 0.04564559 0.03282259 0.02807127]\n",
      "[13:13:43] Params: {'init_stdev': 0.09152758053088082, 'step_size': 0.010193994662919757, 'l2_reg_w': 0.0013328423800511098, 'rank': 9, 'l2_reg_V': 1.0081033061662165e-05, 'n_iter': 2501} => AUC: 0.538299, Results: [4.39461345e-05 4.68292240e-04 5.80552547e-03 ... 2.86332807e-03\n",
      " 2.03540877e-03 5.50767698e-04]\n",
      "[13:13:55] Params: {'init_stdev': 0.05166849355905651, 'step_size': 0.017895346982338075, 'l2_reg_w': 0.007794305320273066, 'rank': 19, 'l2_reg_V': 0.0012581765917475014, 'n_iter': 8144} => AUC: 0.569661, Results: [5.75104752e-05 1.31018850e-04 8.26544806e-04 ... 6.52636671e-03\n",
      " 5.40297819e-03 5.19853016e-04]\n",
      "[13:14:09] Params: {'init_stdev': 0.04717287508946863, 'step_size': 0.02045335257780251, 'l2_reg_w': 0.006997438428533854, 'rank': 27, 'l2_reg_V': 0.00015830399259510476, 'n_iter': 9918} => AUC: 0.567916, Results: [0.00015989 0.00022798 0.00153134 ... 0.00872528 0.0082093  0.00244901]\n",
      "[13:14:23] Params: {'init_stdev': 0.03702205185977866, 'step_size': 0.020447581163093486, 'l2_reg_w': 0.004149669432198575, 'rank': 24, 'l2_reg_V': 0.00010247504852090492, 'n_iter': 5585} => AUC: 0.566251, Results: [0.00058233 0.0008874  0.0053411  ... 0.02599028 0.01634252 0.00372936]\n",
      "[13:14:35] Params: {'init_stdev': 0.06257816756334027, 'step_size': 0.015069063815490075, 'l2_reg_w': 0.001999456777714764, 'rank': 17, 'l2_reg_V': 8.561414870768502e-05, 'n_iter': 8326} => AUC: 0.562856, Results: [4.97711924e-05 1.13752870e-04 1.13802695e-03 ... 8.35993579e-03\n",
      " 6.88661220e-03 4.48617523e-04]\n"
     ]
    },
    {
     "name": "stdout",
     "output_type": "stream",
     "text": [
      "[13:14:46] Params: {'init_stdev': 0.06940775007131875, 'step_size': 0.02207049177340443, 'l2_reg_w': 0.01490567384832267, 'rank': 13, 'l2_reg_V': 0.0009355707858198191, 'n_iter': 5067} => AUC: 0.571880, Results: [7.95783243e-05 7.67917813e-04 1.50234993e-03 ... 2.57803172e-02\n",
      " 1.19425131e-02 1.26567996e-03]\n",
      "[13:14:57] Params: {'init_stdev': 0.06696077017602685, 'step_size': 0.016436184907120545, 'l2_reg_w': 0.01404285511940205, 'rank': 13, 'l2_reg_V': 4.171292251176997e-05, 'n_iter': 4611} => AUC: 0.568768, Results: [0.00021687 0.00146091 0.00392559 ... 0.02593965 0.01340005 0.00160543]\n",
      "[13:15:07] Params: {'init_stdev': 0.07366861034904335, 'step_size': 0.01381353316655009, 'l2_reg_w': 0.006281973182651303, 'rank': 11, 'l2_reg_V': 0.0007688880731800982, 'n_iter': 3603} => AUC: 0.563254, Results: [0.00015824 0.00175895 0.00783262 ... 0.02067491 0.016741   0.00190154]\n",
      "[13:15:20] Params: {'init_stdev': 0.08633934201943577, 'step_size': 0.019402634398488317, 'l2_reg_w': 0.0013810506986039462, 'rank': 22, 'l2_reg_V': 0.00021924902149411405, 'n_iter': 4993} => AUC: 0.568248, Results: [1.85715381e-05 3.89757735e-04 1.28813878e-03 ... 2.52154541e-02\n",
      " 8.25328647e-03 5.73783046e-04]\n",
      "[13:15:31] Params: {'init_stdev': 0.05949322461607885, 'step_size': 0.022610090258289094, 'l2_reg_w': 0.003107889710101825, 'rank': 16, 'l2_reg_V': 0.000346748748444739, 'n_iter': 6435} => AUC: 0.553508, Results: [2.44466391e-04 9.20624625e-05 2.66165488e-03 ... 1.03253130e-02\n",
      " 1.14131391e-02 8.37957157e-04]\n",
      "[13:15:46] Params: {'init_stdev': 0.04497110102637539, 'step_size': 0.0173673467942764, 'l2_reg_w': 0.020988874792243983, 'rank': 30, 'l2_reg_V': 3.083206941543444e-05, 'n_iter': 2927} => AUC: 0.560307, Results: [0.00022349 0.00315056 0.008181   ... 0.0183337  0.00870601 0.0025198 ]\n",
      "[13:15:57] Params: {'init_stdev': 0.10935381556660087, 'step_size': 0.014870561138232624, 'l2_reg_w': 0.010930623335095526, 'rank': 14, 'l2_reg_V': 1.7619944965287198e-05, 'n_iter': 9944} => AUC: 0.562088, Results: [0.0002964  0.00068331 0.00362716 ... 0.02063123 0.02117309 0.00460351]\n",
      "[13:16:07] Params: {'init_stdev': 0.033596637948135194, 'step_size': 0.021638784326931632, 'l2_reg_w': 0.0004988509281018444, 'rank': 14, 'l2_reg_V': 5.289178512375354e-05, 'n_iter': 6578} => AUC: 0.550082, Results: [0.00039969 0.0001416  0.00225676 ... 0.00892205 0.00839197 0.00080007]\n",
      "[13:16:17] Params: {'init_stdev': 0.07579855866772277, 'step_size': 0.015889314557716055, 'l2_reg_w': 0.002059491486797306, 'rank': 10, 'l2_reg_V': 0.00012554389553517516, 'n_iter': 9977} => AUC: 0.569663, Results: [0.00024    0.00027133 0.00316696 ... 0.01665657 0.01982357 0.00312077]\n",
      "[13:16:26] Params: {'init_stdev': 0.03964200677379693, 'step_size': 0.013308057276169906, 'l2_reg_w': 0.000951562829719248, 'rank': 8, 'l2_reg_V': 0.0006393657995866601, 'n_iter': 3840} => AUC: 0.557673, Results: [0.00015673 0.00084477 0.00482982 ... 0.01044577 0.00414103 0.00055172]\n",
      "[13:16:39] Params: {'init_stdev': 0.053971117557214204, 'step_size': 0.012874539064379726, 'l2_reg_w': 0.017876694885480725, 'rank': 21, 'l2_reg_V': 7.148756689623208e-05, 'n_iter': 5260} => AUC: 0.569263, Results: [0.0002114  0.00140007 0.00380841 ... 0.02370952 0.01187094 0.001876  ]\n",
      "[13:16:54] Params: {'init_stdev': 0.02599564943123602, 'step_size': 0.018302828205659344, 'l2_reg_w': 0.005367022140275248, 'rank': 36, 'l2_reg_V': 0.00015224635205499765, 'n_iter': 2376} => AUC: 0.546073, Results: [0.00010063 0.00039461 0.00334622 ... 0.00263418 0.00108789 0.00027973]\n",
      "[13:17:03] Params: {'init_stdev': 0.0969146458672456, 'step_size': 0.02028404285039447, 'l2_reg_w': 0.03214559378904211, 'rank': 6, 'l2_reg_V': 0.0008655008944317614, 'n_iter': 4349} => AUC: 0.557366, Results: [0.00093119 0.00263606 0.0077335  ... 0.0226946  0.01324446 0.00470006]\n",
      "[13:17:14] Params: {'init_stdev': 0.12572339442356192, 'step_size': 0.011943349956595652, 'l2_reg_w': 0.009220437517362477, 'rank': 15, 'l2_reg_V': 0.00033893613253284805, 'n_iter': 6970} => AUC: 0.548344, Results: [6.06875353e-05 2.02481989e-04 2.66860426e-03 ... 7.77863135e-03\n",
      " 1.03812202e-02 8.84893582e-04]\n",
      "[13:17:23] Params: {'init_stdev': 0.0460051261994151, 'step_size': 0.014441942479849541, 'l2_reg_w': 0.0033835494909088626, 'rank': 7, 'l2_reg_V': 2.6097926178532476e-05, 'n_iter': 21} => AUC: 0.503043, Results: [0.25223265 0.26376306 0.38536349 ... 0.31058691 0.30433288 0.28361955]\n",
      "[13:17:33] Params: {'init_stdev': 0.15897016656544047, 'step_size': 0.016481812249532164, 'l2_reg_w': 0.00025881238474277234, 'rank': 13, 'l2_reg_V': 1.632748105755329e-05, 'n_iter': 2848} => AUC: 0.554555, Results: [5.75530398e-06 5.58190756e-03 4.64805570e-03 ... 6.54570096e-02\n",
      " 1.14245233e-01 4.91555844e-03]\n",
      "[13:17:42] Params: {'init_stdev': 0.03136608860874196, 'step_size': 0.023749541244571508, 'l2_reg_w': 0.0008892772512982201, 'rank': 4, 'l2_reg_V': 0.0017845013310384987, 'n_iter': 1978} => AUC: 0.539496, Results: [2.54217141e-05 1.82622416e-04 2.11875311e-03 ... 1.03252063e-03\n",
      " 2.96242168e-04 1.28939845e-04]\n",
      "[13:17:55] Params: {'init_stdev': 0.03742932814731288, 'step_size': 0.02141975192588728, 'l2_reg_w': 0.000429774137984617, 'rank': 26, 'l2_reg_V': 3.977461143237044e-05, 'n_iter': 3492} => AUC: 0.569171, Results: [0.00018064 0.00109298 0.00660163 ... 0.02203971 0.01269158 0.001048  ]\n",
      "[13:18:05] Params: {'init_stdev': 0.059256915918534304, 'step_size': 0.018637437531671797, 'l2_reg_w': 0.018969822261757956, 'rank': 11, 'l2_reg_V': 0.00042966347852203867, 'n_iter': 5688} => AUC: 0.563387, Results: [0.00060463 0.00087614 0.00535262 ... 0.01792651 0.01327088 0.00310399]\n",
      "[13:18:17] Params: {'init_stdev': 0.022553964631569556, 'step_size': 0.011152256621004244, 'l2_reg_w': 0.0014816454069186647, 'rank': 19, 'l2_reg_V': 9.41221940113983e-05, 'n_iter': 9989} => AUC: 0.568242, Results: [0.00027334 0.00043131 0.00248252 ... 0.00963307 0.00905213 0.00127964]\n",
      "[13:18:26] Params: {'init_stdev': 0.06735984784306243, 'step_size': 0.010011591898836032, 'l2_reg_w': 0.04231218689257033, 'rank': 9, 'l2_reg_V': 1.0041012778809536e-05, 'n_iter': 7810} => AUC: 0.563449, Results: [0.00017317 0.00033636 0.00162781 ... 0.00460994 0.00373772 0.00075287]\n",
      "[13:18:39] Params: {'init_stdev': 0.07794425635384748, 'step_size': 0.015268655336275477, 'l2_reg_w': 0.0027098665925614452, 'rank': 22, 'l2_reg_V': 0.0002460572723724139, 'n_iter': 4604} => AUC: 0.566575, Results: [0.00010408 0.00136884 0.0039685  ... 0.03497319 0.01541623 0.00150329]\n",
      "[13:18:50] Params: {'init_stdev': 0.028065826665177974, 'step_size': 0.012781030524353849, 'l2_reg_w': 0.00568177787289962, 'rank': 16, 'l2_reg_V': 5.186098810442972e-05, 'n_iter': 6165} => AUC: 0.563301, Results: [0.0003298  0.00055167 0.00343107 ... 0.00780776 0.00490455 0.00089043]\n",
      "[13:18:59] Params: {'init_stdev': 0.045529092580847336, 'step_size': 0.01757837659441367, 'l2_reg_w': 0.07134432906847785, 'rank': 7, 'l2_reg_V': 0.001079229019493192, 'n_iter': 3406} => AUC: 0.569616, Results: [0.00058605 0.00184078 0.00422539 ... 0.00860424 0.0059752  0.00207365]\n",
      "[13:19:18] Params: {'init_stdev': 0.04272055165773939, 'step_size': 0.01357500023018198, 'l2_reg_w': 0.0006761252039848859, 'rank': 45, 'l2_reg_V': 2.4816415780293527e-05, 'n_iter': 1455} => AUC: 0.518055, Results: [0.00015625 0.00048283 0.0048754  ... 0.00146087 0.00076631 0.00030706]\n",
      "[13:19:34] Params: {'init_stdev': 0.01934167302212987, 'step_size': 0.019329618824185834, 'l2_reg_w': 0.011283033052362107, 'rank': 38, 'l2_reg_V': 1.0141421377119314e-05, 'n_iter': 8151} => AUC: 0.570826, Results: [8.31053995e-05 1.34337565e-04 6.64771800e-04 ... 4.87686003e-03\n",
      " 4.19386399e-03 4.45773061e-04]\n",
      "[13:19:50] Params: {'init_stdev': 0.09097362317352986, 'step_size': 0.010022826084784619, 'l2_reg_w': 0.00015195466995564848, 'rank': 32, 'l2_reg_V': 0.00015614379417720384, 'n_iter': 2226} => AUC: 0.531606, Results: [2.12381048e-05 2.76780582e-04 3.54759554e-03 ... 2.40243659e-03\n",
      " 2.51475755e-03 6.13272656e-04]\n",
      "[13:20:03] Params: {'init_stdev': 0.052577282023970294, 'step_size': 0.022858625065796816, 'l2_reg_w': 0.027934912945361576, 'rank': 25, 'l2_reg_V': 7.998595657057587e-05, 'n_iter': 4088} => AUC: 0.568585, Results: [0.00012775 0.00065856 0.00238093 ... 0.01218915 0.00552291 0.00077356]\n"
     ]
    },
    {
     "name": "stdout",
     "output_type": "stream",
     "text": [
      "[13:20:13] Params: {'init_stdev': 0.12005115147865875, 'step_size': 0.015842063729750056, 'l2_reg_w': 0.004297405284826789, 'rank': 10, 'l2_reg_V': 0.0015768936986596096, 'n_iter': 2690} => AUC: 0.550607, Results: [2.12823311e-05 7.29822585e-04 5.84684421e-03 ... 6.90866656e-03\n",
      " 9.37263603e-03 1.30174843e-03]\n",
      "[13:20:25] Params: {'init_stdev': 0.036450229944432894, 'step_size': 0.01414426949441375, 'l2_reg_w': 0.0022050956995282103, 'rank': 18, 'l2_reg_V': 1.4456431229726222e-05, 'n_iter': 4977} => AUC: 0.566848, Results: [9.58923925e-05 6.50921822e-04 2.14839658e-03 ... 1.08803372e-02\n",
      " 3.84633496e-03 4.43810696e-04]\n",
      "[13:20:36] Params: {'init_stdev': 0.026680281609757234, 'step_size': 0.011895077219535274, 'l2_reg_w': 0.0012011065589176, 'rank': 12, 'l2_reg_V': 0.0005181252578399553, 'n_iter': 6408} => AUC: 0.558409, Results: [0.00042339 0.00050009 0.00424078 ... 0.01044562 0.00702098 0.00097338]\n",
      "[13:20:45] Params: {'init_stdev': 0.0690215620213579, 'step_size': 0.017219771479197628, 'l2_reg_w': 0.006268983406627297, 'rank': 6, 'l2_reg_V': 0.00011395711359739166, 'n_iter': 8291} => AUC: 0.563118, Results: [9.20798149e-05 1.43588407e-04 1.34623288e-03 ... 8.60640843e-03\n",
      " 6.99598667e-03 6.37423333e-04]\n",
      "[13:20:55] Params: {'init_stdev': 0.023551618485944257, 'step_size': 0.021424747062344988, 'l2_reg_w': 0.00030429128778770934, 'rank': 9, 'l2_reg_V': 0.0002192978884764299, 'n_iter': 3078} => AUC: 0.559292, Results: [0.00010315 0.00131804 0.00436803 ... 0.00808909 0.00350638 0.0007577 ]\n",
      "[13:21:09] Params: {'init_stdev': 0.10384951349339562, 'step_size': 0.010950053735697865, 'l2_reg_w': 0.018810859601407538, 'rank': 21, 'l2_reg_V': 5.074338054117582e-05, 'n_iter': 1846} => AUC: 0.523189, Results: [2.77188541e-05 7.23266029e-04 5.09160887e-03 ... 3.29966115e-03\n",
      " 2.28447900e-03 7.30145627e-04]\n",
      "[13:21:17] Params: {'init_stdev': 0.03283311358710847, 'step_size': 0.012385039345237086, 'l2_reg_w': 0.044630209185002094, 'rank': 4, 'l2_reg_V': 2.5770787484091545e-05, 'n_iter': 5498} => AUC: 0.568120, Results: [0.00334893 0.00469467 0.01109664 ... 0.02556186 0.01531644 0.00701203]\n",
      "[13:21:29] Params: {'init_stdev': 0.06164567526507099, 'step_size': 0.024204151422435694, 'l2_reg_w': 0.009300615392754443, 'rank': 15, 'l2_reg_V': 0.0027499404238201597, 'n_iter': 9991} => AUC: 0.570239, Results: [0.00066657 0.0006807  0.00292292 ... 0.02062561 0.02414381 0.00498747]\n",
      "[13:21:43] Params: {'init_stdev': 0.08204290665554596, 'step_size': 0.020249605236709232, 'l2_reg_w': 0.000653584694426727, 'rank': 28, 'l2_reg_V': 0.0008235547956110516, 'n_iter': 7249} => AUC: 0.552970, Results: [2.90075610e-05 7.43742884e-05 7.87848452e-04 ... 4.55072620e-03\n",
      " 3.06561033e-03 8.86551291e-04]\n",
      "[13:21:52] Params: {'init_stdev': 0.1859420465429678, 'step_size': 0.014562736316884303, 'l2_reg_w': 0.003437369947202261, 'rank': 8, 'l2_reg_V': 0.0003136475372052096, 'n_iter': 4031} => AUC: 0.552194, Results: [1.95877482e-05 2.20406755e-04 7.58803474e-03 ... 2.01805030e-02\n",
      " 1.46292277e-02 1.01996214e-03]\n",
      "[13:22:01] Params: {'init_stdev': 0.04081196205083406, 'step_size': 0.12856626440152571, 'l2_reg_w': 0.0643209329035093, 'rank': 5, 'l2_reg_V': 1.619521337558093e-05, 'n_iter': 2392} => AUC: 0.560894, Results: [0.00038628 0.00124447 0.00231482 ... 0.02847166 0.01430687 0.00081926]\n",
      "[13:22:16] Params: {'init_stdev': 0.04986885668955213, 'step_size': 0.01597883283190799, 'l2_reg_w': 0.2192261763711633, 'rank': 34, 'l2_reg_V': 3.735611050837438e-05, 'n_iter': 1635} => AUC: 0.522277, Results: [0.00064846 0.00138068 0.00468595 ... 0.00244035 0.00222555 0.001374  ]\n",
      "[13:22:28] Params: {'init_stdev': 0.014636825180908657, 'step_size': 0.01919945533588615, 'l2_reg_w': 0.0019445332803875838, 'rank': 17, 'l2_reg_V': 7.46982598359518e-05, 'n_iter': 4558} => AUC: 0.568368, Results: [0.00028842 0.00116635 0.00364092 ... 0.01816177 0.00672126 0.00097759]\n",
      "[13:22:38] Params: {'init_stdev': 0.017781265524811952, 'step_size': 0.027224352954557062, 'l2_reg_w': 0.01365477095281847, 'rank': 11, 'l2_reg_V': 0.00019521757893068974, 'n_iter': 3344} => AUC: 0.568583, Results: [0.00011271 0.00079261 0.00322383 ... 0.00785545 0.00479682 0.00078589]\n",
      "[13:22:50] Params: {'init_stdev': 0.031497550702856994, 'step_size': 0.013512112685617864, 'l2_reg_w': 9.04519771364142e-05, 'rank': 14, 'l2_reg_V': 0.0001102109571007304, 'n_iter': 2116} => AUC: 0.533833, Results: [0.0001142  0.00047048 0.00406624 ... 0.00253089 0.00100345 0.00033482]\n",
      "[13:23:10] Params: {'init_stdev': 0.020946559165602174, 'step_size': 0.017126427257888828, 'l2_reg_w': 0.00041087189685150294, 'rank': 53, 'l2_reg_V': 0.00037865365071737707, 'n_iter': 5921} => AUC: 0.564639, Results: [0.00018244 0.00025868 0.00244711 ... 0.0096533  0.00493381 0.0005382 ]\n"
     ]
    },
    {
     "name": "stderr",
     "output_type": "stream",
     "text": [
      "/usr/local/lib/python3.5/dist-packages/scipy/stats/_distn_infrastructure.py:879: RuntimeWarning: invalid value encountered in greater\n",
      "  return (self.a < x) & (x < self.b)\n",
      "/usr/local/lib/python3.5/dist-packages/scipy/stats/_distn_infrastructure.py:879: RuntimeWarning: invalid value encountered in less\n",
      "  return (self.a < x) & (x < self.b)\n",
      "/usr/local/lib/python3.5/dist-packages/scipy/stats/_distn_infrastructure.py:1738: RuntimeWarning: invalid value encountered in greater_equal\n",
      "  cond2 = (x >= self.b) & cond0\n"
     ]
    },
    {
     "name": "stdout",
     "output_type": "stream",
     "text": [
      "[13:23:19] Params: {'init_stdev': 0.05591415922145005, 'step_size': 0.01003064463427983, 'l2_reg_w': 0.0012006346269410025, 'rank': 23, 'l2_reg_V': 5809.686618716317, 'n_iter': 9991} => Failed\n",
      "[13:23:27] Params: {'init_stdev': 0.14632371655009424, 'step_size': 0.01145875669915458, 'l2_reg_w': 0.09014254198081009, 'rank': 3, 'l2_reg_V': 5.491017218550499e-05, 'n_iter': 7174} => AUC: 0.537098, Results: [0.00033713 0.00059462 0.00184308 ... 0.00661035 0.00581414 0.00204701]\n",
      "[13:23:36] Params: {'init_stdev': 0.0708268935129439, 'step_size': 0.022383699694091066, 'l2_reg_w': 0.028333783145192526, 'rank': 5, 'l2_reg_V': 0.0005584690490675077, 'n_iter': 9960} => AUC: 0.568977, Results: [0.00104709 0.00085094 0.00232145 ... 0.01656761 0.01651621 0.00410594]\n"
     ]
    },
    {
     "name": "stderr",
     "output_type": "stream",
     "text": [
      "/usr/local/lib/python3.5/dist-packages/scipy/stats/_distn_infrastructure.py:879: RuntimeWarning: invalid value encountered in greater\n",
      "  return (self.a < x) & (x < self.b)\n",
      "/usr/local/lib/python3.5/dist-packages/scipy/stats/_distn_infrastructure.py:879: RuntimeWarning: invalid value encountered in less\n",
      "  return (self.a < x) & (x < self.b)\n",
      "/usr/local/lib/python3.5/dist-packages/scipy/stats/_distn_infrastructure.py:1738: RuntimeWarning: invalid value encountered in greater_equal\n",
      "  cond2 = (x >= self.b) & cond0\n"
     ]
    },
    {
     "name": "stdout",
     "output_type": "stream",
     "text": [
      "[13:23:47] Params: {'init_stdev': 0.03788846465666655, 'step_size': 0.01531436867688738, 'l2_reg_w': 0.0069142003841762, 'rank': 29, 'l2_reg_V': 10428.311499385354, 'n_iter': 8261} => Failed\n",
      "[13:24:05] Params: {'init_stdev': 0.02809423320639163, 'step_size': 0.017954423814550733, 'l2_reg_w': 4.575997618857059e-05, 'rank': 41, 'l2_reg_V': 0.0012814017509557246, 'n_iter': 2756} => AUC: 0.552720, Results: [0.00022005 0.00181057 0.007483   ... 0.00773671 0.0037086  0.00116941]\n",
      "[13:24:13] Params: {'init_stdev': 0.023962898910878386, 'step_size': 0.0240335621022814, 'l2_reg_w': 0.000176373606205897, 'rank': 6, 'l2_reg_V': 2.4402379866068123e-05, 'n_iter': 5116} => AUC: 0.575040, Results: [3.72880461e-05 3.73831434e-04 1.02760289e-03 ... 1.70502680e-02\n",
      " 5.08982975e-03 3.15307622e-04]\n",
      "[13:24:23] Params: {'init_stdev': 0.01334629721963898, 'step_size': 0.012965614581006183, 'l2_reg_w': 8.514186729163683e-05, 'rank': 6, 'l2_reg_V': 1.6786191333454744e-05, 'n_iter': 5487} => AUC: 0.568767, Results: [0.00132744 0.00289093 0.00943997 ... 0.02691781 0.01279881 0.00295557]\n",
      "[13:24:31] Params: {'init_stdev': 0.015145769395271775, 'step_size': 0.019557855099537166, 'l2_reg_w': 0.00027770600366426893, 'rank': 3, 'l2_reg_V': 2.971630935293105e-05, 'n_iter': 8683} => AUC: 0.557995, Results: [6.12531471e-05 3.43255889e-05 6.73821244e-04 ... 3.73173148e-03\n",
      " 3.29603564e-03 4.07989644e-04]\n",
      "[13:24:40] Params: {'init_stdev': 0.009804143488287209, 'step_size': 0.01421661978918256, 'l2_reg_w': 2.1099823700088337e-05, 'rank': 2, 'l2_reg_V': 2.6562739288646686e-05, 'n_iter': 7128} => AUC: 0.554149, Results: [0.00011304 0.00011949 0.00107554 ... 0.004393   0.0025126  0.00023868]\n",
      "[13:24:49] Params: {'init_stdev': 0.018285340157112275, 'step_size': 0.02108912258789555, 'l2_reg_w': 3.052807270890158e-05, 'rank': 4, 'l2_reg_V': 1.1342888302118087e-05, 'n_iter': 4832} => AUC: 0.569608, Results: [5.23353117e-05 2.98424793e-04 1.40102850e-03 ... 1.12900343e-02\n",
      " 3.31748037e-03 1.92488666e-04]\n",
      "[13:24:58] Params: {'init_stdev': 0.022089660902387495, 'step_size': 0.0107436524787931, 'l2_reg_w': 1.0419330301302116e-05, 'rank': 7, 'l2_reg_V': 1.0604118803824556e-05, 'n_iter': 6695} => AUC: 0.551153, Results: [0.00050466 0.00052257 0.00446835 ... 0.00879257 0.00556328 0.00082736]\n",
      "[13:25:07] Params: {'init_stdev': 0.012533741299525952, 'step_size': 0.02923479119155339, 'l2_reg_w': 0.00015862190918595041, 'rank': 2, 'l2_reg_V': 0.00016614310276180248, 'n_iter': 3620} => AUC: 0.568449, Results: [0.00016194 0.00108837 0.00502436 ... 0.02036885 0.00866682 0.00067826]\n",
      "[13:25:15] Params: {'init_stdev': 0.015081853987747217, 'step_size': 0.01631468091391356, 'l2_reg_w': 0.00012071847865785174, 'rank': 5, 'l2_reg_V': 3.9104919025023465e-05, 'n_iter': 8444} => AUC: 0.562007, Results: [8.17803956e-05 9.74241384e-05 9.68491314e-04 ... 6.60826801e-03\n",
      " 5.04549379e-03 4.63486231e-04]\n",
      "[13:25:24] Params: {'init_stdev': 0.02522722152071328, 'step_size': 0.011994487864200057, 'l2_reg_w': 6.222101861987214e-05, 'rank': 3, 'l2_reg_V': 8.024452245770511e-05, 'n_iter': 4433} => AUC: 0.554784, Results: [0.00038822 0.00143398 0.0062751  ... 0.0122526  0.00492856 0.00101961]\n",
      "[13:25:33] Params: {'init_stdev': 0.01102541506593533, 'step_size': 0.023595454494726366, 'l2_reg_w': 0.00022753431556544887, 'rank': 3, 'l2_reg_V': 1.548641334762972e-05, 'n_iter': 5899} => AUC: 0.564839, Results: [0.00015866 0.00017467 0.00164943 ... 0.00939095 0.00411986 0.00043266]\n",
      "[13:25:41] Params: {'init_stdev': 0.016518806758603375, 'step_size': 0.014891622058143634, 'l2_reg_w': 3.7697165987094066e-05, 'rank': 4, 'l2_reg_V': 0.0001376774026109432, 'n_iter': 3054} => AUC: 0.548269, Results: [0.0001548  0.00107516 0.00458664 ... 0.00518377 0.00200991 0.00054049]\n",
      "[13:25:51] Params: {'init_stdev': 0.01944749103048369, 'step_size': 0.01708539340247194, 'l2_reg_w': 5.509194679725495e-05, 'rank': 8, 'l2_reg_V': 6.0737830955125134e-05, 'n_iter': 4953} => AUC: 0.568341, Results: [0.00012503 0.00061871 0.00202111 ... 0.01162772 0.00358806 0.000397  ]\n",
      "[13:26:00] Params: {'init_stdev': 0.02359962513032786, 'step_size': 0.012472581524144455, 'l2_reg_w': 1.7668120961141776e-05, 'rank': 6, 'l2_reg_V': 0.00027514355149565437, 'n_iter': 6754} => AUC: 0.550701, Results: [0.00042975 0.00036337 0.00358492 ... 0.00828915 0.00512616 0.0006376 ]\n",
      "[13:26:09] Params: {'init_stdev': 0.030665998868158757, 'step_size': 0.0190181093582019, 'l2_reg_w': 0.0004884827210734538, 'rank': 7, 'l2_reg_V': 2.5454629575332077e-05, 'n_iter': 8415} => AUC: 0.561869, Results: [8.71043233e-05 8.08844336e-05 9.28181423e-04 ... 8.23970823e-03\n",
      " 7.55031070e-03 6.24535773e-04]\n",
      "[13:26:16] Params: {'init_stdev': 0.007248100749027074, 'step_size': 0.027829394943453878, 'l2_reg_w': 0.00012744895698585414, 'rank': 1, 'l2_reg_V': 0.0020305190998327195, 'n_iter': 9821} => AUC: 0.565871, Results: [1.36514433e-04 7.74960554e-05 8.30580535e-04 ... 6.87699172e-03\n",
      " 9.77971084e-03 1.64351914e-03]\n",
      "[13:26:24] Params: {'init_stdev': 0.045499370357566196, 'step_size': 0.021314701480258224, 'l2_reg_w': 0.00020706826906792693, 'rank': 4, 'l2_reg_V': 0.0007937573125042301, 'n_iter': 3514} => AUC: 0.564536, Results: [0.00023444 0.00116787 0.00730237 ... 0.01551424 0.00826152 0.00101951]\n",
      "[13:26:34] Params: {'init_stdev': 0.03403956290956709, 'step_size': 0.013384136473108875, 'l2_reg_w': 0.0007488704313486087, 'rank': 9, 'l2_reg_V': 4.583109966367508e-05, 'n_iter': 32} => AUC: 0.511932, Results: [0.22849454 0.24823638 0.33582989 ... 0.28737217 0.27881018 0.25029829]\n",
      "[13:26:42] Params: {'init_stdev': 0.02712940930155411, 'step_size': 0.010736140088767408, 'l2_reg_w': 0.0012661178844885993, 'rank': 3, 'l2_reg_V': 9.988626502610883e-05, 'n_iter': 1400} => AUC: 0.515332, Results: [0.00036872 0.00078458 0.00628818 ... 0.00244962 0.00099976 0.00049614]\n",
      "[13:26:50] Params: {'init_stdev': 0.02017944086689023, 'step_size': 0.017932164651323225, 'l2_reg_w': 0.00034442492968770586, 'rank': 5, 'l2_reg_V': 0.0004471928710402292, 'n_iter': 204} => AUC: 0.493475, Results: [0.00975955 0.01218711 0.0397968  ... 0.01818629 0.01206161 0.00953628]\n",
      "[13:26:59] Params: {'init_stdev': 0.008639555961004455, 'step_size': 0.024475583134936862, 'l2_reg_w': 0.0006441805102560485, 'rank': 6, 'l2_reg_V': 0.003239122178973408, 'n_iter': 8} => AUC: 0.503707, Results: [0.35274281 0.34987895 0.40251708 ... 0.38377322 0.36111887 0.35603438]\n",
      "[13:27:09] Params: {'init_stdev': 0.005361350426158448, 'step_size': 0.01521455449122826, 'l2_reg_w': 7.667311627241624e-05, 'rank': 13, 'l2_reg_V': 1.736532482263784e-05, 'n_iter': 3995} => AUC: 0.558856, Results: [0.00023852 0.00088943 0.00399447 ... 0.00907531 0.00368855 0.00049831]\n",
      "[13:27:19] Params: {'init_stdev': 0.09037889299598259, 'step_size': 0.011264204740826327, 'l2_reg_w': 2.4383078472019634e-05, 'rank': 8, 'l2_reg_V': 0.0002169975150791333, 'n_iter': 2604} => AUC: 0.538600, Results: [3.30030650e-05 2.62951816e-04 4.60953411e-03 ... 2.35340706e-03\n",
      " 1.18548947e-03 3.30779361e-04]\n",
      "[13:27:30] Params: {'init_stdev': 0.052389353288921095, 'step_size': 0.030734076234481662, 'l2_reg_w': 0.1364623346677254, 'rank': 7, 'l2_reg_V': 1.0465075376448514e-05, 'n_iter': 1867} => AUC: 0.546109, Results: [0.00055561 0.00183231 0.00299441 ... 0.00371241 0.00305888 0.00248941]\n",
      "[13:27:38] Params: {'init_stdev': 0.11508001664788711, 'step_size': 0.014142400614643797, 'l2_reg_w': 0.0021291229555766965, 'rank': 2, 'l2_reg_V': 3.43163599333771e-05, 'n_iter': 64} => AUC: 0.504886, Results: [0.07006983 0.11823037 0.29396108 ... 0.16867979 0.18566342 0.14912911]\n",
      "[13:27:51] Params: {'init_stdev': 0.06296813478778708, 'step_size': 0.025691497385620453, 'l2_reg_w': 0.004391858679100365, 'rank': 19, 'l2_reg_V': 7.058496088899827e-05, 'n_iter': 5221} => AUC: 0.570733, Results: [4.48284652e-05 5.19781379e-04 1.46713175e-03 ... 4.39714387e-02\n",
      " 2.30985774e-02 1.12519772e-03]\n",
      "[13:28:01] Params: {'init_stdev': 0.20929324222666806, 'step_size': 0.01662188999897437, 'l2_reg_w': 0.00016102990028758337, 'rank': 10, 'l2_reg_V': 0.00010389450898538343, 'n_iter': 5957} => AUC: 0.537267, Results: [3.25792255e-05 2.42981288e-05 1.50896460e-02 ... 9.10729704e-03\n",
      " 1.58147710e-02 2.66872914e-03]\n",
      "[13:28:27] Params: {'init_stdev': 0.012862546809175123, 'step_size': 0.012528987875809002, 'l2_reg_w': 0.00044832116425397946, 'rank': 81, 'l2_reg_V': 0.0001711396992018755, 'n_iter': 7395} => AUC: 0.565884, Results: [0.00015107 0.00029519 0.00172196 ... 0.00584044 0.00419859 0.00053421]\n"
     ]
    },
    {
     "name": "stdout",
     "output_type": "stream",
     "text": [
      "[13:28:39] Params: {'init_stdev': 0.03461040460454701, 'step_size': 0.01001078504947447, 'l2_reg_w': 0.000846871693553904, 'rank': 15, 'l2_reg_V': 1.0220045043807894e-05, 'n_iter': 9996} => AUC: 0.567594, Results: [0.00023219 0.0004789  0.00282228 ... 0.0102428  0.00964988 0.00128927]\n",
      "[13:28:49] Params: {'init_stdev': 0.04421132824742778, 'step_size': 0.021765567655580135, 'l2_reg_w': 0.0015367856167120106, 'rank': 11, 'l2_reg_V': 0.0008333986709566222, 'n_iter': 4423} => AUC: 0.568865, Results: [0.00036569 0.00172813 0.00582017 ... 0.03193659 0.01520514 0.00197155]\n",
      "[13:28:57] Params: {'init_stdev': 0.07760749388603733, 'step_size': 0.0185219324253445, 'l2_reg_w': 0.014288276948295493, 'rank': 2, 'l2_reg_V': 0.00030922537434382877, 'n_iter': 3132} => AUC: 0.558491, Results: [0.00016302 0.00168606 0.00712848 ... 0.0118695  0.00787534 0.0017851 ]\n",
      "[13:29:11] Params: {'init_stdev': 0.023990014895299484, 'step_size': 0.015771481681545914, 'l2_reg_w': 0.3541962393866675, 'rank': 26, 'l2_reg_V': 1.8021454805102578e-05, 'n_iter': 2107} => AUC: 0.563423, Results: [0.00347724 0.00485127 0.0061543  ... 0.00944324 0.00736503 0.00591944]\n",
      "[13:29:20] Params: {'init_stdev': 0.01651225193252875, 'step_size': 0.02007305389288082, 'l2_reg_w': 83.92403618456434, 'rank': 4, 'l2_reg_V': 0.0005169770733431058, 'n_iter': 8621} => AUC: 0.538509, Results: [0.00079546 0.00074885 0.00089406 ... 0.00087513 0.00079506 0.00076674]\n",
      "[13:29:42] Params: {'init_stdev': 0.1606789918536728, 'step_size': 0.01175375109824537, 'l2_reg_w': 1.1086486482968208e-05, 'rank': 60, 'l2_reg_V': 4.409353116144037e-05, 'n_iter': 6299} => AUC: 0.528257, Results: [4.45021529e-05 2.56928013e-06 6.11698211e-05 ... 3.10144835e-04\n",
      " 3.69993620e-03 7.43918110e-04]\n",
      "[13:29:51] Params: {'init_stdev': 0.02882968202297967, 'step_size': 0.023037709366926774, 'l2_reg_w': 0.008138314954994669, 'rank': 8, 'l2_reg_V': 0.001547213296139957, 'n_iter': 9787} => AUC: 0.565563, Results: [0.00028316 0.0001765  0.0015465  ... 0.00720212 0.00841262 0.00223192]\n",
      "[13:30:00] Params: {'init_stdev': 0.12752952726378375, 'step_size': 0.013676235187962599, 'l2_reg_w': 0.0034070419356387817, 'rank': 5, 'l2_reg_V': 6.370810013318308e-05, 'n_iter': 2536} => AUC: 0.538288, Results: [3.95385973e-05 3.39730069e-04 8.20529159e-03 ... 2.96712761e-03\n",
      " 2.04522450e-03 4.82151390e-04]\n",
      "[13:30:08] Params: {'init_stdev': 0.010205163964467323, 'step_size': 0.027182828931831608, 'l2_reg_w': 0.05079629911546472, 'rank': 1, 'l2_reg_V': 2.5009709517077626e-05, 'n_iter': 3859} => AUC: 0.572324, Results: [0.00091705 0.00138752 0.00260602 ... 0.01613826 0.01043125 0.00162677]\n",
      "[13:30:16] Params: {'init_stdev': 0.007477371582048381, 'step_size': 0.032177752935792524, 'l2_reg_w': 0.22088016500137395, 'rank': 1, 'l2_reg_V': 2.476566216373386e-05, 'n_iter': 1555} => AUC: 0.532080, Results: [0.00083333 0.001004   0.00170722 ... 0.00127671 0.00110289 0.00084397]\n",
      "[13:30:35] Params: {'init_stdev': 0.0065239279292456705, 'step_size': 0.03423144321944933, 'l2_reg_w': 4.86983854232587e-05, 'rank': 43, 'l2_reg_V': 1.0429279434419437e-05, 'n_iter': 2012} => AUC: 0.548439, Results: [1.88097985e-05 1.80994774e-04 1.44493211e-03 ... 1.10453910e-03\n",
      " 2.66649532e-04 9.88372364e-05]\n",
      "[13:30:43] Params: {'init_stdev': 0.005579480665989056, 'step_size': 0.028006853972502504, 'l2_reg_w': 0.0997862655416315, 'rank': 2, 'l2_reg_V': 1.9828456297720427e-05, 'n_iter': 3751} => AUC: 0.565008, Results: [0.00045427 0.00063139 0.00120638 ... 0.00470305 0.00301613 0.00060927]\n",
      "[13:30:51] Params: {'init_stdev': 0.003984376819056523, 'step_size': 0.030005069722514825, 'l2_reg_w': 0.038355773316222926, 'rank': 1, 'l2_reg_V': 0.00013551350436100077, 'n_iter': 1176} => AUC: 0.548270, Results: [0.00172795 0.00304847 0.00886889 ... 0.00715942 0.00290086 0.00207216]\n",
      "[13:31:07] Params: {'init_stdev': 0.005203738359798334, 'step_size': 0.041401516448350065, 'l2_reg_w': 0.000278911003696908, 'rank': 33, 'l2_reg_V': 3.5845600415721976e-05, 'n_iter': 942} => AUC: 0.542887, Results: [0.00060194 0.00090747 0.00315937 ... 0.00433324 0.00200825 0.00110995]\n",
      "[13:31:14] Params: {'init_stdev': 0.0036854690740816313, 'step_size': 0.025749201788336853, 'l2_reg_w': 0.00010041264998735344, 'rank': 1, 'l2_reg_V': 0.00021351624414796548, 'n_iter': 84} => AUC: 0.502960, Results: [0.04072517 0.04720284 0.08066469 ... 0.06174546 0.04371161 0.03579894]\n",
      "[13:31:35] Params: {'init_stdev': 0.010107643927323936, 'step_size': 0.03508192588893493, 'l2_reg_w': 0.02185753660610951, 'rank': 55, 'l2_reg_V': 6.865629236196865e-05, 'n_iter': 1296} => AUC: 0.537154, Results: [0.00096501 0.00125676 0.00728248 ... 0.00374337 0.00155358 0.00084988]\n",
      "[13:32:06] Params: {'init_stdev': 0.0018914627385860775, 'step_size': 0.030866822637066534, 'l2_reg_w': 0.00211193891784146, 'rank': 96, 'l2_reg_V': 1.659600208004673e-05, 'n_iter': 2410} => AUC: 0.561079, Results: [0.0001361  0.00083156 0.00455098 ... 0.00662613 0.00229351 0.00053655]\n",
      "[13:32:30] Params: {'init_stdev': 0.004461154405279567, 'step_size': 0.027442098909504154, 'l2_reg_w': 0.5595245560034354, 'rank': 67, 'l2_reg_V': 1.0530432898226667e-05, 'n_iter': 3040} => AUC: 0.543567, Results: [0.0007343  0.00099255 0.00106872 ... 0.00125662 0.00129822 0.00073803]\n",
      "[13:32:38] Params: {'init_stdev': 0.006738582089584514, 'step_size': 0.037693919546803664, 'l2_reg_w': 0.05332284744436238, 'rank': 1, 'l2_reg_V': 1.0025872286376729e-05, 'n_iter': 9989} => AUC: 0.558141, Results: [0.00179971 0.00185568 0.00160833 ... 0.01205412 0.02104932 0.00402868]\n",
      "[13:32:52] Params: {'init_stdev': 0.0034701380135975977, 'step_size': 0.023598806294249614, 'l2_reg_w': 0.0009862339517354437, 'rank': 22, 'l2_reg_V': 0.00011827530325598735, 'n_iter': 451} => AUC: 0.503076, Results: [0.00090348 0.00159323 0.00592322 ... 0.00252338 0.00106659 0.00091691]\n"
     ]
    },
    {
     "name": "stderr",
     "output_type": "stream",
     "text": [
      "/usr/local/lib/python3.5/dist-packages/scipy/stats/_distn_infrastructure.py:879: RuntimeWarning: invalid value encountered in greater\n",
      "  return (self.a < x) & (x < self.b)\n",
      "/usr/local/lib/python3.5/dist-packages/scipy/stats/_distn_infrastructure.py:879: RuntimeWarning: invalid value encountered in less\n",
      "  return (self.a < x) & (x < self.b)\n",
      "/usr/local/lib/python3.5/dist-packages/scipy/stats/_distn_infrastructure.py:1738: RuntimeWarning: invalid value encountered in greater_equal\n",
      "  cond2 = (x >= self.b) & cond0\n"
     ]
    },
    {
     "name": "stdout",
     "output_type": "stream",
     "text": [
      "[13:33:06] Params: {'init_stdev': 0.009323435294121801, 'step_size': 0.03316615923912852, 'l2_reg_w': 340.0778721218075, 'rank': 38, 'l2_reg_V': 2.6787679513322187e-05, 'n_iter': 1741} => Failed\n",
      "[13:33:25] Params: {'init_stdev': 0.10459524409422749, 'step_size': 0.026123910814801997, 'l2_reg_w': 0.0055360755001139265, 'rank': 48, 'l2_reg_V': 0.00033034389350039225, 'n_iter': 4234} => AUC: 0.544841, Results: [1.93133853e-05 1.93678560e-04 1.23122317e-03 ... 6.44529138e-03\n",
      " 3.80776941e-03 5.79158622e-04]\n",
      "[13:33:34] Params: {'init_stdev': 0.008067584914239504, 'step_size': 0.028346092548824812, 'l2_reg_w': 0.00927115257650104, 'rank': 1, 'l2_reg_V': 4.351525867146601e-05, 'n_iter': 317} => AUC: 0.498934, Results: [0.0015823  0.00231434 0.00788725 ... 0.00426231 0.00199428 0.0013099 ]\n",
      "[13:33:49] Params: {'init_stdev': 0.0049421945305109065, 'step_size': 0.024248045863150717, 'l2_reg_w': 0.00045829378720866135, 'rank': 29, 'l2_reg_V': 0.0006047234512627547, 'n_iter': 9985} => AUC: 0.572446, Results: [0.00032653 0.00024255 0.00155203 ... 0.01613284 0.0207256  0.00228241]\n",
      "[13:34:16] Params: {'init_stdev': 0.0027573790770686617, 'step_size': 0.036954103242719444, 'l2_reg_w': 0.00018090209856590726, 'rank': 82, 'l2_reg_V': 0.006456223108901348, 'n_iter': 5122} => AUC: 0.575254, Results: [1.67682403e-05 1.96656598e-04 3.82366259e-04 ... 2.02638251e-02\n",
      " 5.40860121e-03 2.17743846e-04]\n",
      "[13:34:53] Params: {'init_stdev': 0.001678927425625673, 'step_size': 0.048344220699139746, 'l2_reg_w': 2.8380665495294274e-05, 'rank': 121, 'l2_reg_V': 0.003951198394336542, 'n_iter': 7147} => AUC: 0.545452, Results: [7.11784368e-06 1.14851604e-06 3.05127733e-05 ... 1.49609733e-03\n",
      " 1.42576283e-03 3.81294082e-05]\n",
      "[13:35:20] Params: {'init_stdev': 0.0024668164652163708, 'step_size': 0.03754878823052297, 'l2_reg_w': 1.9052392985154374e-05, 'rank': 80, 'l2_reg_V': 0.002319396406314731, 'n_iter': 2841} => AUC: 0.565994, Results: [0.00039038 0.00738089 0.01261485 ... 0.04033724 0.01778745 0.00378137]\n",
      "[13:36:01] Params: {'init_stdev': 0.0026699233800129485, 'step_size': 0.039856453928212354, 'l2_reg_w': 4.166751921404917e-05, 'rank': 134, 'l2_reg_V': 0.005375991418116931, 'n_iter': 1124} => AUC: 0.544076, Results: [0.00323016 0.00510226 0.01307546 ... 0.0124946  0.00489255 0.00298167]\n",
      "[13:36:35] Params: {'init_stdev': 0.012503965504035907, 'step_size': 0.044656831566510416, 'l2_reg_w': 6.151244366896515e-05, 'rank': 105, 'l2_reg_V': 0.0005122648523259325, 'n_iter': 3758} => AUC: 0.567875, Results: [1.34185302e-05 1.12339418e-04 9.74315677e-04 ... 1.28036702e-02\n",
      " 3.49574516e-03 6.63239189e-05]\n",
      "[13:37:23] Params: {'init_stdev': 0.0010100032996116818, 'step_size': 0.035684218422928106, 'l2_reg_w': 0.00016945233921998172, 'rank': 167, 'l2_reg_V': 0.001191671666810848, 'n_iter': 4} => AUC: 0.492774, Results: [0.39708613 0.3982553  0.4256708  ... 0.40541169 0.39247468 0.40505927]\n",
      "[13:38:05] Params: {'init_stdev': 0.0015889619143117616, 'step_size': 0.03252023438897332, 'l2_reg_w': 0.00010552576207123172, 'rank': 139, 'l2_reg_V': 0.00367903123160956, 'n_iter': 1455} => AUC: 0.532426, Results: [0.00012362 0.0002836  0.0023153  ... 0.00087734 0.00028001 0.00012071]\n",
      "[13:38:34] Params: {'init_stdev': 0.002829135128753861, 'step_size': 0.04183941749358763, 'l2_reg_w': 3.688031489024058e-05, 'rank': 89, 'l2_reg_V': 0.0023506146778645032, 'n_iter': 2213} => AUC: 0.566791, Results: [8.63974830e-05 4.11328857e-04 2.67994278e-03 ... 5.92559616e-03\n",
      " 3.06605207e-03 4.69467914e-04]\n",
      "[13:39:00] Params: {'init_stdev': 0.00226100152599166, 'step_size': 0.05395686991319776, 'l2_reg_w': 0.00017897517878125233, 'rank': 75, 'l2_reg_V': 0.01884848919211773, 'n_iter': 5837} => AUC: 0.555405, Results: [2.44338364e-05 5.42284507e-06 4.17931819e-04 ... 4.44305583e-03\n",
      " 2.31084840e-03 1.01817209e-04]\n",
      "[13:40:18] Params: {'init_stdev': 0.0012657568071799362, 'step_size': 0.046969044206371366, 'l2_reg_w': 1.59454981028869e-05, 'rank': 281, 'l2_reg_V': 0.0061229817193836035, 'n_iter': 168} => AUC: 0.480908, Results: [0.005152   0.00447521 0.01674961 ... 0.00473665 0.00257616 0.00242203]\n",
      "[13:40:51] Params: {'init_stdev': 0.002866182543971486, 'step_size': 0.0312295896907158, 'l2_reg_w': 7.84218900244469e-05, 'rank': 104, 'l2_reg_V': 0.0007277587068725669, 'n_iter': 762} => AUC: 0.534671, Results: [0.00039842 0.00115167 0.00279671 ... 0.00318567 0.00141644 0.00078959]\n",
      "[13:41:57] Params: {'init_stdev': 0.0032859532107914545, 'step_size': 0.036218132875820264, 'l2_reg_w': 1.0984171875146353e-05, 'rank': 234, 'l2_reg_V': 0.0098942656177913, 'n_iter': 4537} => AUC: 0.569709, Results: [0.00021533 0.00070329 0.00202743 ... 0.03132015 0.01059658 0.00096316]\n",
      "[13:42:20] Params: {'init_stdev': 0.004189797680585495, 'step_size': 0.030111217366167623, 'l2_reg_w': 0.00029664339823495714, 'rank': 63, 'l2_reg_V': 0.001316483121375941, 'n_iter': 3564} => AUC: 0.570943, Results: [0.0003271  0.00185466 0.00564665 ... 0.0319853  0.01441114 0.00107455]\n",
      "[13:43:18] Params: {'init_stdev': 0.0031680294369018556, 'step_size': 0.06015841952019503, 'l2_reg_w': 2.666450307766629e-05, 'rank': 199, 'l2_reg_V': 0.00028217685710032396, 'n_iter': 7974} => AUC: 0.571109, Results: [2.35097357e-07 6.69252994e-07 2.80752773e-06 ... 1.08443322e-03\n",
      " 1.45441503e-03 7.92385606e-06]\n",
      "[13:43:48] Params: {'init_stdev': 0.0011417564431381554, 'step_size': 0.042445171471414175, 'l2_reg_w': 0.0002160796989511298, 'rank': 91, 'l2_reg_V': 0.000630695059522977, 'n_iter': 1804} => AUC: 0.533969, Results: [3.21903429e-05 1.79478966e-04 1.94625050e-03 ... 5.20235282e-04\n",
      " 1.29673237e-04 7.93940946e-05]\n",
      "[13:44:33] Params: {'init_stdev': 0.0021187675761000575, 'step_size': 0.03990201980753697, 'l2_reg_w': 0.0004021174891556518, 'rank': 148, 'l2_reg_V': 0.001689253419660034, 'n_iter': 6359} => AUC: 0.548206, Results: [1.21101953e-03 8.57682886e-05 2.53065597e-03 ... 2.11263905e-02\n",
      " 2.39305927e-02 1.74577158e-03]\n",
      "[13:46:04] Params: {'init_stdev': 0.0013446566658106588, 'step_size': 0.03411166704182012, 'l2_reg_w': 4.603433307111746e-05, 'rank': 337, 'l2_reg_V': 0.00019287653440267755, 'n_iter': 9927} => AUC: 0.567033, Results: [0.00014893 0.00010598 0.00079936 ... 0.01245898 0.01735471 0.00187835]\n",
      "[13:47:13] Params: {'init_stdev': 0.0046777681176924674, 'step_size': 0.027187569080359537, 'l2_reg_w': 1.0310842326706735e-05, 'rank': 249, 'l2_reg_V': 0.00034851376096658613, 'n_iter': 1019} => AUC: 0.531444, Results: [0.00023664 0.00052057 0.00226349 ... 0.00224062 0.00082649 0.00049275]\n",
      "[13:48:02] Params: {'init_stdev': 0.0023545387991340543, 'step_size': 0.02828142499179864, 'l2_reg_w': 0.0001224978366381962, 'rank': 171, 'l2_reg_V': 0.002960316537987465, 'n_iter': 2697} => AUC: 0.554028, Results: [8.65012760e-05 5.43993630e-04 3.02377212e-03 ... 3.23163720e-03\n",
      " 1.24975766e-03 3.65652901e-04]\n",
      "[13:48:27] Params: {'init_stdev': 0.0018160075856463356, 'step_size': 0.052246965641842, 'l2_reg_w': 0.0004993701001981174, 'rank': 67, 'l2_reg_V': 0.0009395147179656585, 'n_iter': 3265} => AUC: 0.570085, Results: [2.10219240e-05 3.80540599e-04 1.44008767e-03 ... 1.14948881e-02\n",
      " 6.52746938e-03 2.02038999e-04]\n",
      "[13:48:50] Params: {'init_stdev': 0.002982592686381534, 'step_size': 0.02435446907525723, 'l2_reg_w': 0.00025196049286158295, 'rank': 65, 'l2_reg_V': 0.00010766323454346008, 'n_iter': 5273} => AUC: 0.575582, Results: [0.00040104 0.00169118 0.00315843 ... 0.03831717 0.01547204 0.00168496]\n",
      "[13:49:27] Params: {'init_stdev': 0.002599306272717116, 'step_size': 0.0250103065116402, 'l2_reg_w': 1.619685778144596e-05, 'rank': 118, 'l2_reg_V': 0.0005280730164407873, 'n_iter': 1479} => AUC: 0.527185, Results: [0.00010745 0.00025482 0.00210612 ... 0.00079914 0.00025347 0.00011117]\n",
      "[13:49:55] Params: {'init_stdev': 0.0032520197114465966, 'step_size': 0.032533915668363826, 'l2_reg_w': 5.357181724254888e-05, 'rank': 81, 'l2_reg_V': 0.005539232938608342, 'n_iter': 1939} => AUC: 0.543859, Results: [2.44258051e-05 1.84188100e-04 1.64457975e-03 ... 8.74586995e-04\n",
      " 2.46569383e-04 9.57748836e-05]\n",
      "[13:50:33] Params: {'init_stdev': 0.00141567445449758, 'step_size': 0.036444161945422875, 'l2_reg_w': 0.00011461576472951539, 'rank': 127, 'l2_reg_V': 0.00017304279326710976, 'n_iter': 2358} => AUC: 0.554565, Results: [3.35234683e-05 1.44627718e-04 1.53163009e-03 ... 1.39775909e-03\n",
      " 5.80544620e-04 1.26163278e-04]\n"
     ]
    },
    {
     "name": "stdout",
     "output_type": "stream",
     "text": [
      "[13:51:02] Params: {'init_stdev': 0.001935971100773819, 'step_size': 0.045791034149408306, 'l2_reg_w': 8.37318878996944e-05, 'rank': 93, 'l2_reg_V': 9.528701749441961e-05, 'n_iter': 1151} => AUC: 0.542899, Results: [0.00149929 0.00241969 0.00737117 ... 0.00684826 0.00221808 0.0013508 ]\n",
      "[13:51:35] Params: {'init_stdev': 0.004945639496226935, 'step_size': 0.029453531855781003, 'l2_reg_w': 2.3311673437314446e-05, 'rank': 107, 'l2_reg_V': 0.0018777308965084903, 'n_iter': 4290} => AUC: 0.566325, Results: [7.61694253e-05 2.56288804e-04 1.48251738e-03 ... 5.78764839e-03\n",
      " 2.78645039e-03 3.22216822e-04]\n",
      "[13:51:55] Params: {'init_stdev': 0.0034863840991482095, 'step_size': 0.038357796227196955, 'l2_reg_w': 0.00014681541901657473, 'rank': 54, 'l2_reg_V': 0.0002457191570421823, 'n_iter': 837} => AUC: 0.534520, Results: [0.00022525 0.00058409 0.00124463 ... 0.00161038 0.00087855 0.0004306 ]\n",
      "[13:52:48] Params: {'init_stdev': 0.004326206755061719, 'step_size': 0.024920771538122364, 'l2_reg_w': 0.00025632748784838407, 'rank': 195, 'l2_reg_V': 0.0004372475079626691, 'n_iter': 401} => AUC: 0.500571, Results: [0.00081401 0.00152498 0.00569753 ... 0.00261879 0.00106309 0.00100612]\n",
      "[13:53:10] Params: {'init_stdev': 0.001619835139049574, 'step_size': 0.03409138054855613, 'l2_reg_w': 1.1915666325669522e-05, 'rank': 61, 'l2_reg_V': 6.629347437493596e-05, 'n_iter': 2836} => AUC: 0.564551, Results: [0.00028696 0.00496134 0.00985413 ... 0.02511795 0.01187101 0.00255821]\n",
      "[13:54:50] Params: {'init_stdev': 0.0010984048212458848, 'step_size': 0.029571196804412038, 'l2_reg_w': 7.308828233338993e-05, 'rank': 397, 'l2_reg_V': 0.0010989691724265479, 'n_iter': 1718} => AUC: 0.528295, Results: [6.28076873e-05 1.98020890e-04 2.16069941e-03 ... 5.15877925e-04\n",
      " 1.65754968e-04 7.38538525e-05]\n",
      "[13:55:33] Params: {'init_stdev': 0.003821377610836358, 'step_size': 0.026432420385155225, 'l2_reg_w': 3.435825005999916e-05, 'rank': 150, 'l2_reg_V': 0.0001456004514063467, 'n_iter': 4977} => AUC: 0.571383, Results: [5.75438190e-05 2.85247278e-04 7.70153028e-04 ... 1.18675455e-02\n",
      " 3.00018103e-03 2.00805966e-04]\n",
      "[13:55:57] Params: {'init_stdev': 0.0021825071848031985, 'step_size': 0.02417266294387143, 'l2_reg_w': 0.0003421741700585678, 'rank': 70, 'l2_reg_V': 0.015519959861624117, 'n_iter': 2259} => AUC: 0.547617, Results: [0.00012974 0.00040893 0.00288219 ... 0.0025933  0.00116702 0.00039925]\n",
      "[13:56:24] Params: {'init_stdev': 0.0028389084113822436, 'step_size': 0.03180949371294179, 'l2_reg_w': 4.882753562232494e-05, 'rank': 83, 'l2_reg_V': 7.627690636983101e-05, 'n_iter': 3534} => AUC: 0.571388, Results: [0.00055039 0.00280405 0.00772567 ... 0.03965912 0.01825656 0.00175707]\n",
      "[13:56:57] Params: {'init_stdev': 0.0023691571799582746, 'step_size': 0.044156875315966924, 'l2_reg_w': 0.0001577989726064752, 'rank': 107, 'l2_reg_V': 0.0003540990627152849, 'n_iter': 549} => AUC: 0.516831, Results: [0.00034484 0.00082823 0.00219118 ... 0.00123026 0.00053004 0.0003162 ]\n",
      "[13:57:17] Params: {'init_stdev': 0.005638565577114545, 'step_size': 0.03960427664971207, 'l2_reg_w': 0.00021347427414194543, 'rank': 55, 'l2_reg_V': 0.0007175941319163122, 'n_iter': 1387} => AUC: 0.538339, Results: [0.00022252 0.00044106 0.0037089  ... 0.0016495  0.00059346 0.00023247]\n",
      "[13:57:42] Params: {'init_stdev': 0.006010844304090244, 'step_size': 0.02666071722068847, 'l2_reg_w': 0.0004937652030034676, 'rank': 74, 'l2_reg_V': 2.5076978720898168e-05, 'n_iter': 3021} => AUC: 0.561803, Results: [9.86336712e-05 1.31862087e-03 4.10807845e-03 ... 9.93630439e-03\n",
      " 3.37619244e-03 5.63498452e-04]\n",
      "[13:58:01] Params: {'init_stdev': 0.003965876408185606, 'step_size': 0.05086566713344947, 'l2_reg_w': 1.0252921415972357e-05, 'rank': 50, 'l2_reg_V': 5.713543767544696e-05, 'n_iter': 5234} => AUC: 0.571644, Results: [0.0001728  0.00073009 0.00122774 ... 0.09409809 0.04262102 0.00169355]\n",
      "[13:59:18] Params: {'init_stdev': 0.002000458887387714, 'step_size': 0.022875162977113686, 'l2_reg_w': 7.813688824400062e-05, 'rank': 297, 'l2_reg_V': 1.0087707435214038e-05, 'n_iter': 6545} => AUC: 0.551018, Results: [0.00040293 0.00013401 0.00186593 ... 0.00712155 0.00554326 0.00056049]\n",
      "[13:59:55] Params: {'init_stdev': 0.002519161439527572, 'step_size': 0.030197933840753272, 'l2_reg_w': 0.0007040474681677202, 'rank': 125, 'l2_reg_V': 0.00011137315569807548, 'n_iter': 10} => AUC: 0.505209, Results: [0.30315984 0.29650091 0.3518783  ... 0.33375886 0.29718468 0.28560734]\n",
      "[14:00:41] Params: {'init_stdev': 0.004802818985031526, 'step_size': 0.03562823647047956, 'l2_reg_w': 2.530065569797212e-05, 'rank': 163, 'l2_reg_V': 0.00316614360708807, 'n_iter': 3849} => AUC: 0.572279, Results: [0.00015664 0.00069538 0.00259137 ... 0.03032006 0.01116038 0.00046294]\n",
      "[14:01:09] Params: {'init_stdev': 0.0031962281267297744, 'step_size': 0.033099845797879696, 'l2_reg_w': 0.0003645132523189728, 'rank': 88, 'l2_reg_V': 3.559528362489348e-05, 'n_iter': 2175} => AUC: 0.563699, Results: [0.00024674 0.00088775 0.00472356 ... 0.00746326 0.00407572 0.0008861 ]\n",
      "[14:01:27] Params: {'init_stdev': 0.0015526303447190805, 'step_size': 0.02839371198310828, 'l2_reg_w': 0.0012233331094781794, 'rank': 44, 'l2_reg_V': 0.007843404761670562, 'n_iter': 7824} => AUC: 0.565753, Results: [1.06700234e-05 1.16363265e-05 1.02885287e-04 ... 2.17244599e-03\n",
      " 2.02192559e-03 5.44774604e-05]\n",
      "[14:01:49] Params: {'init_stdev': 0.0030392864432225762, 'step_size': 0.02416053052385152, 'l2_reg_w': 0.0002073908335788306, 'rank': 64, 'l2_reg_V': 0.0002230767203864562, 'n_iter': 4336} => AUC: 0.568030, Results: [0.00060328 0.00151535 0.00564088 ... 0.02031487 0.00941048 0.00148053]\n",
      "[14:02:14] Params: {'init_stdev': 0.004302795128432059, 'step_size': 0.055903067747701804, 'l2_reg_w': 9.732047553881523e-05, 'rank': 73, 'l2_reg_V': 1.546368454970004e-05, 'n_iter': 5297} => AUC: 0.567182, Results: [0.00026298 0.00094497 0.0011176  ... 0.06914117 0.03468487 0.00364287]\n",
      "[14:03:07] Params: {'init_stdev': 0.006295535746437444, 'step_size': 0.02586712429534846, 'l2_reg_w': 0.0006507828253956821, 'rank': 193, 'l2_reg_V': 0.0017073000739077468, 'n_iter': 1657} => AUC: 0.528087, Results: [4.29098448e-05 1.16959207e-04 1.45192458e-03 ... 4.65271483e-04\n",
      " 1.46749025e-04 5.84841524e-05]\n",
      "[14:03:37] Params: {'init_stdev': 0.004755869043292244, 'step_size': 0.03846415619377166, 'l2_reg_w': 4.391356713295153e-05, 'rank': 96, 'l2_reg_V': 0.0006192058124834688, 'n_iter': 2703} => AUC: 0.556359, Results: [0.00031101 0.0017198  0.00657605 ... 0.00822021 0.00431289 0.00154976]\n",
      "[14:04:40] Params: {'init_stdev': 0.001761643414246219, 'step_size': 0.02215797089814876, 'l2_reg_w': 0.0009414451847520435, 'rank': 239, 'l2_reg_V': 0.00013555774427074255, 'n_iter': 3264} => AUC: 0.562862, Results: [0.00011032 0.00087764 0.00315513 ... 0.00703886 0.00323455 0.00040283]\n",
      "[14:05:20] Params: {'init_stdev': 0.0027620704100671193, 'step_size': 0.021043985403387845, 'l2_reg_w': 1.560504107892183e-05, 'rank': 137, 'l2_reg_V': 2.157130320911348e-05, 'n_iter': 1239} => AUC: 0.527476, Results: [0.00040305 0.00074719 0.00410345 ... 0.00248832 0.0008474  0.00039098]\n",
      "[14:07:13] Params: {'init_stdev': 0.0034831798120210826, 'step_size': 0.06561875663690497, 'l2_reg_w': 0.00013919344195695058, 'rank': 452, 'l2_reg_V': 5.08503034813216e-05, 'n_iter': 2} => AUC: 0.517509, Results: [0.39308693 0.41955407 0.41345072 ... 0.42135674 0.41097078 0.41107241]\n",
      "[14:07:32] Params: {'init_stdev': 0.004041421589063023, 'step_size': 0.033603145787926426, 'l2_reg_w': 0.0003031827483715448, 'rank': 48, 'l2_reg_V': 0.0003495316807822306, 'n_iter': 7242} => AUC: 0.557940, Results: [5.56811667e-05 3.68146874e-05 2.77066910e-04 ... 4.51450491e-03\n",
      " 4.46101598e-03 4.04840496e-04]\n",
      "[14:08:22] Params: {'init_stdev': 0.005370680572173397, 'step_size': 0.04192885297393874, 'l2_reg_w': 0.00010209937848931904, 'rank': 179, 'l2_reg_V': 0.001252583552128249, 'n_iter': 969} => AUC: 0.548455, Results: [0.00070215 0.00143239 0.00375724 ... 0.00662474 0.00290287 0.00179337]\n",
      "[14:08:44] Params: {'init_stdev': 0.0021524665430588, 'step_size': 0.048069074495781, 'l2_reg_w': 0.000490294424364107, 'rank': 64, 'l2_reg_V': 0.004185996214056274, 'n_iter': 6048} => AUC: 0.545019, Results: [3.25932625e-04 3.33262182e-05 1.43453038e-03 ... 6.82759161e-03\n",
      " 6.47154849e-03 7.89129142e-04]\n"
     ]
    },
    {
     "name": "stdout",
     "output_type": "stream",
     "text": [
      "[14:09:12] Params: {'init_stdev': 0.007207836410314853, 'step_size': 0.02758064383275327, 'l2_reg_w': 2.8814985385592183e-05, 'rank': 81, 'l2_reg_V': 8.546649995796889e-05, 'n_iter': 644} => AUC: 0.520316, Results: [0.00034897 0.00098548 0.00330385 ... 0.00202863 0.00087049 0.00051875]\n",
      "[14:09:33] Params: {'init_stdev': 0.001258748718791953, 'step_size': 0.023241305396955746, 'l2_reg_w': 6.27840657154883e-05, 'rank': 56, 'l2_reg_V': 0.00025877581111022444, 'n_iter': 1961} => AUC: 0.533699, Results: [2.82167984e-05 1.50681671e-04 1.42051727e-03 ... 6.25960441e-04\n",
      " 1.77912086e-04 7.55467391e-05]\n",
      "[14:09:50] Params: {'init_stdev': 0.006201485451032901, 'step_size': 0.02036775212198023, 'l2_reg_w': 0.001527652949328996, 'rank': 39, 'l2_reg_V': 0.03149604880839811, 'n_iter': 4355} => AUC: 0.568764, Results: [0.00075461 0.00231445 0.00665301 ... 0.01939128 0.00850605 0.00174561]\n",
      "[14:10:25] Params: {'init_stdev': 0.003846959724701915, 'step_size': 0.029415204165339055, 'l2_reg_w': 0.00028176422445203627, 'rank': 114, 'l2_reg_V': 2.9251271748922547e-05, 'n_iter': 8165} => AUC: 0.569645, Results: [4.22101057e-05 6.09015554e-05 3.45286774e-04 ... 7.34426344e-03\n",
      " 7.87307847e-03 3.54010580e-04]\n",
      "[14:11:22] Params: {'init_stdev': 0.005061462811646936, 'step_size': 0.024772093500691258, 'l2_reg_w': 0.0009654744136054941, 'rank': 210, 'l2_reg_V': 0.011334999841607088, 'n_iter': 2396} => AUC: 0.554015, Results: [0.00011726 0.00054272 0.00350237 ... 0.00391056 0.00141999 0.00032673]\n",
      "[14:12:56] Params: {'init_stdev': 0.0026692348330120195, 'step_size': 0.03714146704457421, 'l2_reg_w': 0.00018533904022553652, 'rank': 367, 'l2_reg_V': 1.4946110125207187e-05, 'n_iter': 3379} => AUC: 0.567522, Results: [6.65680462e-05 6.25319830e-04 3.15683047e-03 ... 1.05598097e-02\n",
      " 6.13647746e-03 4.57528012e-04]\n",
      "[14:13:27] Params: {'init_stdev': 0.0018063224548853763, 'step_size': 0.03129056401802286, 'l2_reg_w': 0.0005416077436876539, 'rank': 97, 'l2_reg_V': 0.0001650552337650206, 'n_iter': 5428} => AUC: 0.561269, Results: [0.00157482 0.00268417 0.00596214 ... 0.050905   0.02047288 0.00492458]\n",
      "[14:15:46] Params: {'init_stdev': 0.001023649900339438, 'step_size': 0.022279956563079677, 'l2_reg_w': 0.001673570611625452, 'rank': 560, 'l2_reg_V': 0.002424329481432291, 'n_iter': 6832} => AUC: 0.554390, Results: [0.00042533 0.00016057 0.00157763 ... 0.00998479 0.00660246 0.0005735 ]\n",
      "[14:16:53] Params: {'init_stdev': 0.001528446382940791, 'step_size': 0.026939930218577993, 'l2_reg_w': 2.3509686323730803e-05, 'rank': 253, 'l2_reg_V': 0.0007488397806123647, 'n_iter': 4269} => AUC: 0.565430, Results: [6.92576448e-05 2.84995716e-04 1.54286214e-03 ... 5.71601190e-03\n",
      " 2.34252410e-03 2.92133268e-04]\n",
      "[14:17:37] Params: {'init_stdev': 0.008130602355858232, 'step_size': 0.04274410960457235, 'l2_reg_w': 0.00034174202669125676, 'rank': 150, 'l2_reg_V': 0.0004900868321578311, 'n_iter': 2762} => AUC: 0.562362, Results: [0.00034299 0.00591985 0.01249892 ... 0.02552637 0.01182608 0.00339704]\n",
      "[14:18:13] Params: {'init_stdev': 0.0029176957888076543, 'step_size': 0.03472299428544884, 'l2_reg_w': 0.00011471984821924889, 'rank': 121, 'l2_reg_V': 4.722049182855218e-05, 'n_iter': 1507} => AUC: 0.533111, Results: [4.76851805e-05 1.29473362e-04 1.36881435e-03 ... 4.63345212e-04\n",
      " 1.26193322e-04 5.14871360e-05]\n",
      "[14:18:31] Params: {'init_stdev': 0.0020672847566953053, 'step_size': 0.01957204912716519, 'l2_reg_w': 4.563457571233865e-05, 'rank': 47, 'l2_reg_V': 9.562254336888302e-05, 'n_iter': 8331} => AUC: 0.563781, Results: [9.93625116e-05 1.06706620e-04 8.09992694e-04 ... 6.93232923e-03\n",
      " 5.54019170e-03 4.34161253e-04]\n",
      "[14:18:55] Params: {'init_stdev': 0.007270824838957178, 'step_size': 0.028823836760245608, 'l2_reg_w': 1.5436911833566656e-05, 'rank': 71, 'l2_reg_V': 1.020323651237196e-05, 'n_iter': 3807} => AUC: 0.569751, Results: [7.61456911e-05 4.91650416e-04 2.50616139e-03 ... 1.74232673e-02\n",
      " 6.18553023e-03 3.07630491e-04]\n",
      "[14:19:16] Params: {'init_stdev': 0.005825881605056207, 'step_size': 0.07296592791060404, 'l2_reg_w': 0.0008292925009990937, 'rank': 58, 'l2_reg_V': 0.0009367898840746779, 'n_iter': 5161} => AUC: 0.569509, Results: [1.10862420e-05 7.79679575e-05 2.02206625e-04 ... 4.97933217e-02\n",
      " 1.45604619e-02 4.01099364e-04]\n",
      "[14:20:32] Params: {'init_stdev': 0.004366605158159742, 'step_size': 0.02504950162621367, 'l2_reg_w': 0.002410977577308658, 'rank': 292, 'l2_reg_V': 0.00018282100194146495, 'n_iter': 2022} => AUC: 0.540856, Results: [2.72073033e-05 1.84616002e-04 1.43333523e-03 ... 8.94004147e-04\n",
      " 2.35097979e-04 9.98208287e-05]\n",
      "[14:20:50] Params: {'init_stdev': 0.0035998739215782538, 'step_size': 0.020986156962098584, 'l2_reg_w': 0.0001955303169069259, 'rank': 42, 'l2_reg_V': 3.3541681701450216e-05, 'n_iter': 6685} => AUC: 0.550467, Results: [0.00058542 0.00017691 0.00270138 ... 0.00953283 0.00772308 0.0007462 ]\n",
      "[14:21:16] Params: {'init_stdev': 0.002300445132558899, 'step_size': 0.022760276289256764, 'l2_reg_w': 7.112722544013571e-05, 'rank': 82, 'l2_reg_V': 1.9537123517718456e-05, 'n_iter': 3248} => AUC: 0.563334, Results: [0.00013435 0.00102048 0.00359848 ... 0.00831463 0.00391975 0.00047363]\n",
      "[14:21:32] Params: {'init_stdev': 0.0036422226827747075, 'step_size': 0.05709072339066119, 'l2_reg_w': 0.0004993794334308025, 'rank': 34, 'l2_reg_V': 6.294957873073336e-05, 'n_iter': 1195} => AUC: 0.548424, Results: [0.00050476 0.00098266 0.00420312 ... 0.00440917 0.00100973 0.00048499]\n",
      "[14:22:30] Params: {'init_stdev': 0.00142384160009416, 'step_size': 0.0832666317599788, 'l2_reg_w': 0.002585988181063606, 'rank': 217, 'l2_reg_V': 0.0002926334144337336, 'n_iter': 6} => AUC: 0.499734, Results: [0.21348799 0.21687196 0.2795036  ... 0.24514862 0.1984846  0.21796525]\n",
      "[14:22:38] Params: {'init_stdev': 0.0025151644638418684, 'step_size': 0.03183515219811875, 'l2_reg_w': 0.00027964147003475506, 'rank': 2, 'l2_reg_V': 0.0004887618429643405, 'n_iter': 9934} => AUC: 0.566433, Results: [0.00037097 0.00022828 0.00143746 ... 0.0166963  0.02509541 0.00373639]\n",
      "[14:23:19] Params: {'init_stdev': 0.0068190151966243595, 'step_size': 0.04687518759823044, 'l2_reg_w': 0.0011796596703817354, 'rank': 144, 'l2_reg_V': 0.00012702721700612966, 'n_iter': 9968} => AUC: 0.568824, Results: [0.0006346  0.00040502 0.00188686 ... 0.03340794 0.05267043 0.00648989]\n",
      "[14:23:53] Params: {'init_stdev': 0.005357734347638732, 'step_size': 0.03727078422499955, 'l2_reg_w': 3.665325727880771e-05, 'rank': 109, 'l2_reg_V': 0.04802361063467513, 'n_iter': 246} => AUC: 0.496298, Results: [0.00161296 0.00223819 0.00746843 ... 0.00375051 0.00222327 0.00145788]\n",
      "[14:24:00] Params: {'init_stdev': 0.0048938397137442335, 'step_size': 0.026692360225649976, 'l2_reg_w': 0.0001376407812517497, 'rank': 1, 'l2_reg_V': 0.005424624844005477, 'n_iter': 768} => AUC: 0.528431, Results: [0.00036576 0.00100912 0.00290301 ... 0.00271654 0.00117614 0.00067017]\n",
      "[14:26:36] Params: {'init_stdev': 0.00321756731611987, 'step_size': 0.030077564215042284, 'l2_reg_w': 0.0006813191940381513, 'rank': 631, 'l2_reg_V': 1.0270528446901077e-05, 'n_iter': 2499} => AUC: 0.557111, Results: [4.53693485e-05 3.08304263e-04 2.31749023e-03 ... 2.83468159e-03\n",
      " 7.94106945e-04 1.95519272e-04]\n",
      "[14:26:52] Params: {'init_stdev': 0.008294581658105756, 'step_size': 0.02384923817829677, 'l2_reg_w': 8.60284242726026e-05, 'rank': 37, 'l2_reg_V': 0.0018147870974435502, 'n_iter': 4926} => AUC: 0.572235, Results: [0.00011648 0.00049514 0.00129025 ... 0.0141411  0.00434404 0.00036099]\n",
      "[14:27:40] Params: {'init_stdev': 0.009386785277550441, 'step_size': 0.01935930829283406, 'l2_reg_w': 1.0165274526135662e-05, 'rank': 171, 'l2_reg_V': 8.075331259615423e-05, 'n_iter': 7631} => AUC: 0.570256, Results: [6.13861870e-05 9.94782898e-05 6.49033613e-04 ... 7.10128048e-03\n",
      " 5.96905688e-03 3.15857667e-04]\n",
      "[14:29:02] Params: {'init_stdev': 0.006607949076586989, 'step_size': 0.041091923029483474, 'l2_reg_w': 0.00023687879741960332, 'rank': 318, 'l2_reg_V': 3.059886173845766e-05, 'n_iter': 6135} => AUC: 0.547405, Results: [2.48651532e-04 4.03845489e-05 9.59825538e-04 ... 3.92598774e-03\n",
      " 3.89830942e-03 4.49365403e-04]\n",
      "[14:29:20] Params: {'init_stdev': 0.001815797520942774, 'step_size': 0.02085767464076175, 'l2_reg_w': 0.0011952671483034044, 'rank': 46, 'l2_reg_V': 0.0012744348858886932, 'n_iter': 4025} => AUC: 0.565617, Results: [0.0001389  0.00057783 0.00267004 ... 0.00960595 0.00370935 0.00032746]\n"
     ]
    },
    {
     "name": "stdout",
     "output_type": "stream",
     "text": [
      "[14:29:40] Params: {'init_stdev': 0.003179979050160902, 'step_size': 0.05047499399408136, 'l2_reg_w': 0.0004605059494283942, 'rank': 52, 'l2_reg_V': 5.103129763151896e-05, 'n_iter': 9915} => AUC: 0.558345, Results: [1.19197765e-04 7.78007312e-05 5.54225137e-04 ... 1.03954191e-02\n",
      " 1.89291763e-02 2.37734330e-03]\n",
      "[14:30:09] Params: {'init_stdev': 0.004460422366061117, 'step_size': 0.03196919635260619, 'l2_reg_w': 0.0031225910252974894, 'rank': 93, 'l2_reg_V': 0.00021633197852297996, 'n_iter': 1684} => AUC: 0.529111, Results: [7.36703611e-05 1.84234708e-04 2.34754136e-03 ... 5.30113076e-04\n",
      " 1.77034563e-04 9.07359065e-05]\n",
      "[15:18:02] Params: {'init_stdev': 0.002255766160968573, 'step_size': 0.02475966534948058, 'l2_reg_w': 1.9809630500683394e-05, 'rank': 73, 'l2_reg_V': 0.022802520288159843, 'n_iter': 100} => AUC: 0.493405, Results: [0.03575996 0.03808809 0.07259006 ... 0.0432616  0.0290762  0.02484906]\n",
      "[15:18:27] Params: {'init_stdev': 0.0012559931991245436, 'step_size': 0.09080916706554575, 'l2_reg_w': 0.0017143467489057747, 'rank': 60, 'l2_reg_V': 1.5315168008337723e-05, 'n_iter': 3179} => AUC: 0.573357, Results: [0.00012508 0.00177428 0.00489528 ... 0.09262968 0.08148335 0.00137254]\n",
      "[15:18:50] Params: {'init_stdev': 0.0011385744556067121, 'step_size': 0.07743938898191213, 'l2_reg_w': 162.09085237858702, 'rank': 71, 'l2_reg_V': 1.649628946521191e-05, 'n_iter': 18} => AUC: 0.494331, Results: [1. 0. 1. ... 0. 0. 0.]\n",
      "[15:19:14] Params: {'init_stdev': 0.0013291572390063827, 'step_size': 0.09313433995336041, 'l2_reg_w': 3.4075396799919584e-05, 'rank': 64, 'l2_reg_V': 0.0030004500527236163, 'n_iter': 921} => AUC: 0.555092, Results: [0.00110695 0.00094601 0.00215984 ... 0.01148025 0.0055816  0.00175122]\n"
     ]
    },
    {
     "name": "stderr",
     "output_type": "stream",
     "text": [
      "/usr/local/lib/python3.5/dist-packages/scipy/stats/_distn_infrastructure.py:879: RuntimeWarning: invalid value encountered in greater\n",
      "  return (self.a < x) & (x < self.b)\n",
      "/usr/local/lib/python3.5/dist-packages/scipy/stats/_distn_infrastructure.py:879: RuntimeWarning: invalid value encountered in less\n",
      "  return (self.a < x) & (x < self.b)\n",
      "/usr/local/lib/python3.5/dist-packages/scipy/stats/_distn_infrastructure.py:1738: RuntimeWarning: invalid value encountered in greater_equal\n",
      "  cond2 = (x >= self.b) & cond0\n"
     ]
    },
    {
     "name": "stdout",
     "output_type": "stream",
     "text": [
      "[15:19:56] Params: {'init_stdev': 0.0010342274744466376, 'step_size': 0.11584708408936455, 'l2_reg_w': 26352.584648120992, 'rank': 125, 'l2_reg_V': 0.0003720541984041678, 'n_iter': 1385} => Failed\n"
     ]
    },
    {
     "name": "stderr",
     "output_type": "stream",
     "text": [
      "/usr/local/lib/python3.5/dist-packages/scipy/stats/_distn_infrastructure.py:879: RuntimeWarning: invalid value encountered in greater\n",
      "  return (self.a < x) & (x < self.b)\n",
      "/usr/local/lib/python3.5/dist-packages/scipy/stats/_distn_infrastructure.py:879: RuntimeWarning: invalid value encountered in less\n",
      "  return (self.a < x) & (x < self.b)\n",
      "/usr/local/lib/python3.5/dist-packages/scipy/stats/_distn_infrastructure.py:1738: RuntimeWarning: invalid value encountered in greater_equal\n",
      "  cond2 = (x >= self.b) & cond0\n"
     ]
    },
    {
     "name": "stdout",
     "output_type": "stream",
     "text": [
      "[15:20:19] Params: {'init_stdev': 0.0014215567929868236, 'step_size': 0.0977910342529484, 'l2_reg_w': 807.6371893724125, 'rank': 57, 'l2_reg_V': 0.008219844316672375, 'n_iter': 2032} => Failed\n",
      "[15:20:59] Params: {'init_stdev': 0.0016447769416282692, 'step_size': 0.11276088931722965, 'l2_reg_w': 6.694697969160505e-05, 'rank': 90, 'l2_reg_V': 0.00012604340685347853, 'n_iter': 2910} => AUC: 0.559441, Results: [2.35796239e-06 1.67356518e-03 2.90555749e-03 ... 8.31417120e-02\n",
      " 1.94182772e-02 6.13616886e-04]\n"
     ]
    },
    {
     "name": "stderr",
     "output_type": "stream",
     "text": [
      "/usr/local/lib/python3.5/dist-packages/scipy/stats/_distn_infrastructure.py:879: RuntimeWarning: invalid value encountered in greater\n",
      "  return (self.a < x) & (x < self.b)\n",
      "/usr/local/lib/python3.5/dist-packages/scipy/stats/_distn_infrastructure.py:879: RuntimeWarning: invalid value encountered in less\n",
      "  return (self.a < x) & (x < self.b)\n",
      "/usr/local/lib/python3.5/dist-packages/scipy/stats/_distn_infrastructure.py:1738: RuntimeWarning: invalid value encountered in greater_equal\n",
      "  cond2 = (x >= self.b) & cond0\n"
     ]
    },
    {
     "name": "stdout",
     "output_type": "stream",
     "text": [
      "[15:21:21] Params: {'init_stdev': 0.0018826544418113712, 'step_size': 0.1486580952610397, 'l2_reg_w': 85033.58225620043, 'rank': 50, 'l2_reg_V': 1.0460450519627785e-05, 'n_iter': 363} => Failed\n"
     ]
    },
    {
     "name": "stderr",
     "output_type": "stream",
     "text": [
      "/usr/local/lib/python3.5/dist-packages/scipy/stats/_distn_infrastructure.py:879: RuntimeWarning: invalid value encountered in greater\n",
      "  return (self.a < x) & (x < self.b)\n",
      "/usr/local/lib/python3.5/dist-packages/scipy/stats/_distn_infrastructure.py:879: RuntimeWarning: invalid value encountered in less\n",
      "  return (self.a < x) & (x < self.b)\n",
      "/usr/local/lib/python3.5/dist-packages/scipy/stats/_distn_infrastructure.py:1738: RuntimeWarning: invalid value encountered in greater_equal\n",
      "  cond2 = (x >= self.b) & cond0\n"
     ]
    },
    {
     "name": "stdout",
     "output_type": "stream",
     "text": [
      "[15:21:39] Params: {'init_stdev': 0.00111762376162161, 'step_size': 0.16067123174231868, 'l2_reg_w': 3367.5839378578007, 'rank': 42, 'l2_reg_V': 0.0006549450936348763, 'n_iter': 1064} => Failed\n",
      "[15:22:13] Params: {'init_stdev': 0.0014104200730933661, 'step_size': 0.10513323802280204, 'l2_reg_w': 0.00011230765905268576, 'rank': 82, 'l2_reg_V': 4.549685209918547e-05, 'n_iter': 649} => AUC: 0.553054, Results: [0.00023494 0.00188864 0.00104754 ... 0.0038251  0.0015927  0.00067736]\n",
      "[15:23:01] Params: {'init_stdev': 0.0011547513967329328, 'step_size': 0.18807779816910913, 'l2_reg_w': 0.00016655252085470007, 'rank': 112, 'l2_reg_V': 8.182323722516973e-05, 'n_iter': 2551} => AUC: 0.555578, Results: [6.06496144e-06 1.02341855e-04 8.16654746e-03 ... 1.77244179e-02\n",
      " 8.67863852e-03 7.26240760e-04]\n",
      "[15:23:30] Params: {'init_stdev': 0.0012627870865671899, 'step_size': 0.0869659718349128, 'l2_reg_w': 6.226310688377449e-05, 'rank': 60, 'l2_reg_V': 1.8350265197051743e-05, 'n_iter': 4640} => AUC: 0.556330, Results: [9.03968312e-06 7.82019365e-06 4.75371837e-05 ... 1.36935318e-02\n",
      " 3.14620672e-03 4.89601112e-05]\n",
      "[15:23:50] Params: {'init_stdev': 0.0010444289375401298, 'step_size': 0.1699045419783289, 'l2_reg_w': 0.00043632270946326, 'rank': 30, 'l2_reg_V': 0.0009621942296678397, 'n_iter': 5970} => AUC: 0.524488, Results: [6.66813353e-04 1.64620408e-06 6.51014201e-04 ... 5.35405480e-03\n",
      " 1.44606206e-02 1.87608389e-03]\n",
      "[15:24:12] Params: {'init_stdev': 0.002034653366281887, 'step_size': 0.10154517704097771, 'l2_reg_w': 1.3824806672728412e-05, 'rank': 37, 'l2_reg_V': 0.00018556106379234157, 'n_iter': 7876} => AUC: 0.555266, Results: [1.87199584e-08 3.08828662e-08 1.29036001e-07 ... 1.47377560e-04\n",
      " 3.61593047e-04 3.76192549e-07]\n",
      "[15:25:11] Params: {'init_stdev': 0.0025375035234775074, 'step_size': 0.10661153555927211, 'l2_reg_w': 0.000769999991516461, 'rank': 146, 'l2_reg_V': 0.00042327630203425274, 'n_iter': 1710} => AUC: 0.533714, Results: [9.05989504e-05 6.03807857e-04 9.37510811e-03 ... 5.60790657e-04\n",
      " 2.26646556e-04 1.66333545e-04]\n",
      "[15:26:00] Params: {'init_stdev': 0.0016082737236389252, 'step_size': 0.1213635455496097, 'l2_reg_w': 1.0650796072579106e-05, 'rank': 106, 'l2_reg_V': 0.0036776409808088567, 'n_iter': 3161} => AUC: 0.574506, Results: [9.00675222e-05 1.83251737e-03 4.45508693e-03 ... 1.26981493e-01\n",
      " 1.16292971e-01 1.52985954e-03]\n",
      "[15:27:02] Params: {'init_stdev': 0.0011713150597217955, 'step_size': 0.123575126401706, 'l2_reg_w': 2.0688236579966005e-05, 'rank': 179, 'l2_reg_V': 0.10346042240141191, 'n_iter': 1282} => AUC: 0.537575, Results: [0.00051445 0.00051041 0.00559771 ... 0.00205822 0.00064066 0.00035223]\n",
      "[15:27:45] Params: {'init_stdev': 0.0014596477320615155, 'step_size': 0.1353522760814825, 'l2_reg_w': 3.185593198385806e-05, 'rank': 99, 'l2_reg_V': 0.019817392535878428, 'n_iter': 800} => AUC: 0.554924, Results: [0.00097034 0.00279537 0.00046882 ... 0.01032521 0.00976667 0.00324337]\n",
      "[15:29:05] Params: {'init_stdev': 0.001946051689821459, 'step_size': 0.20173113549415178, 'l2_reg_w': 2.838530805102419e-05, 'rank': 198, 'l2_reg_V': 0.013701543838432927, 'n_iter': 469} => AUC: 0.522961, Results: [1.13442117e-04 4.07146296e-04 3.11947584e-04 ... 1.77254490e-04\n",
      " 1.96950488e-05 1.48638601e-04]\n",
      "[15:29:58] Params: {'init_stdev': 0.0010128704753684995, 'step_size': 0.2241020955174283, 'l2_reg_w': 1.3814510308837261e-05, 'rank': 130, 'l2_reg_V': 0.04169321576598486, 'n_iter': 1133} => AUC: 0.532119, Results: [0.00714768 0.00705668 0.02225453 ... 0.00730306 0.00043046 0.00277571]\n",
      "[15:31:19] Params: {'init_stdev': 0.0017649340867560799, 'step_size': 0.13709788898718686, 'l2_reg_w': 1.0280573292588106e-05, 'rank': 230, 'l2_reg_V': 0.005229991206784546, 'n_iter': 566} => AUC: 0.535636, Results: [0.00213781 0.00745196 0.00278414 ... 0.00534987 0.00405795 0.0052864 ]\n",
      "[15:32:06] Params: {'init_stdev': 0.0015938884921162957, 'step_size': 0.08122089642816972, 'l2_reg_w': 1.1930627545363257e-05, 'rank': 112, 'l2_reg_V': 0.08140924987030673, 'n_iter': 1711} => AUC: 0.536668, Results: [7.04376583e-05 3.74075177e-04 5.31299524e-03 ... 5.43884900e-04\n",
      " 1.89549689e-04 1.04778441e-04]\n",
      "[15:32:42] Params: {'init_stdev': 0.0012556703459670369, 'step_size': 0.11697639403232664, 'l2_reg_w': 5.690612776907725e-05, 'rank': 88, 'l2_reg_V': 0.009584803555219956, 'n_iter': 3161} => AUC: 0.574551, Results: [8.96873848e-05 1.85773577e-03 4.48667847e-03 ... 1.20628184e-01\n",
      " 1.07387825e-01 1.52184297e-03]\n",
      "[15:33:23] Params: {'init_stdev': 0.001255056177123093, 'step_size': 0.12006374747642527, 'l2_reg_w': 4.6474923749261886e-05, 'rank': 101, 'l2_reg_V': 0.02581367569785165, 'n_iter': 2339} => AUC: 0.558820, Results: [2.29720277e-06 1.24638476e-05 9.52510580e-04 ... 1.28683882e-03\n",
      " 8.31357280e-04 4.74524074e-05]\n",
      "[15:34:19] Params: {'init_stdev': 0.0010296182943305308, 'step_size': 0.15056598109423752, 'l2_reg_w': 1.7908815655933815e-05, 'rank': 135, 'l2_reg_V': 0.007602854782679674, 'n_iter': 2300} => AUC: 0.556058, Results: [3.65802110e-07 1.34042323e-06 2.48268335e-04 ... 6.06237724e-04\n",
      " 6.88111991e-04 5.86698912e-05]\n",
      "[15:35:21] Params: {'init_stdev': 0.002226153286263807, 'step_size': 0.12935746064709006, 'l2_reg_w': 4.300880575301471e-05, 'rank': 153, 'l2_reg_V': 0.013122982423051918, 'n_iter': 1991} => AUC: 0.551914, Results: [2.25609189e-06 5.37061017e-04 2.87309325e-03 ... 7.37541345e-03\n",
      " 1.17451862e-03 4.53207040e-04]\n",
      "[15:36:01] Params: {'init_stdev': 0.0015423840785526513, 'step_size': 0.08988196341319586, 'l2_reg_w': 7.109038624427861e-05, 'rank': 81, 'l2_reg_V': 0.011352842903127896, 'n_iter': 3136} => AUC: 0.570535, Results: [2.57322930e-05 8.68589883e-04 1.90154426e-03 ... 3.72762702e-02\n",
      " 2.71425615e-02 7.57252575e-04]\n",
      "[15:37:07] Params: {'init_stdev': 0.0012328564294952064, 'step_size': 0.14543833089609667, 'l2_reg_w': 1.9785002253842113e-05, 'rank': 170, 'l2_reg_V': 0.03809034697830523, 'n_iter': 2872} => AUC: 0.560202, Results: [9.22469601e-06 5.11001792e-03 4.85422941e-03 ... 1.88388003e-01\n",
      " 5.86449016e-02 2.32027334e-03]\n",
      "[15:37:44] Params: {'init_stdev': 0.0017435483361005785, 'step_size': 0.09646154394153245, 'l2_reg_w': 2.68016619849316e-05, 'rank': 88, 'l2_reg_V': 0.004323266043233187, 'n_iter': 1404} => AUC: 0.541024, Results: [7.66372309e-05 1.38611393e-04 2.68252078e-03 ... 7.44909447e-04\n",
      " 1.92299511e-04 7.79328857e-05]\n",
      "[15:38:34] Params: {'init_stdev': 0.0010119292828989844, 'step_size': 0.10977007095799157, 'l2_reg_w': 0.00011076421346125609, 'rank': 115, 'l2_reg_V': 0.0797795178665379, 'n_iter': 3326} => AUC: 0.570584, Results: [2.43008264e-06 4.41063441e-05 9.69179635e-04 ... 9.99230580e-03\n",
      " 1.23044532e-02 4.28121711e-05]\n",
      "[15:39:13] Params: {'init_stdev': 0.002804231316620198, 'step_size': 0.12256730230396261, 'l2_reg_w': 1.123870623248809e-05, 'rank': 70, 'l2_reg_V': 0.0037511534109247475, 'n_iter': 1873} => AUC: 0.553291, Results: [8.60794122e-06 6.67912538e-04 4.47138422e-03 ... 4.43445679e-03\n",
      " 1.90756625e-03 4.22430117e-04]\n",
      "[15:40:02] Params: {'init_stdev': 0.0023247453425671786, 'step_size': 0.13474875742516657, 'l2_reg_w': 6.015357705699345e-05, 'rank': 103, 'l2_reg_V': 0.01805392340870327, 'n_iter': 2596} => AUC: 0.556978, Results: [3.26540301e-07 7.29660336e-06 8.74414279e-04 ... 1.91688593e-03\n",
      " 5.52474208e-04 4.15195745e-05]\n",
      "[15:41:02] Params: {'init_stdev': 0.0015630115971199425, 'step_size': 0.17208314635117933, 'l2_reg_w': 4.2032080234291027e-05, 'rank': 135, 'l2_reg_V': 0.006655197663684094, 'n_iter': 1531} => AUC: 0.530517, Results: [2.07469949e-07 1.85334001e-06 2.01571544e-04 ... 3.72438561e-06\n",
      " 4.01533060e-07 4.17765130e-07]\n",
      "[15:41:44] Params: {'init_stdev': 0.0020400803242195545, 'step_size': 0.08642410487586161, 'l2_reg_w': 0.00015577287262715214, 'rank': 90, 'l2_reg_V': 0.0020061394292119404, 'n_iter': 3385} => AUC: 0.566417, Results: [2.38686423e-05 1.90826219e-04 2.06967426e-03 ... 1.54009211e-02\n",
      " 1.70522706e-02 4.00605679e-04]\n",
      "[15:43:27] Params: {'init_stdev': 0.0013635813757287981, 'step_size': 0.18259503804539723, 'l2_reg_w': 7.84642381259389e-05, 'rank': 272, 'l2_reg_V': 0.0037327449834049916, 'n_iter': 2190} => AUC: 0.567254, Results: [2.00008032e-06 1.09209823e-05 7.88513085e-04 ... 1.42084680e-02\n",
      " 2.39129262e-02 3.03404478e-04]\n"
     ]
    },
    {
     "name": "stdout",
     "output_type": "stream",
     "text": [
      "[15:44:04] Params: {'init_stdev': 0.0016667110447332173, 'step_size': 0.15659764082513866, 'l2_reg_w': 1.8371025706111936e-05, 'rank': 75, 'l2_reg_V': 0.02302428961680193, 'n_iter': 3581} => AUC: 0.549818, Results: [2.48685633e-05 3.42049380e-05 3.35806464e-04 ... 5.02359425e-02\n",
      " 3.09118805e-02 1.77165600e-04]\n",
      "[15:45:26] Params: {'init_stdev': 0.0019268961213985299, 'step_size': 0.10052859516984682, 'l2_reg_w': 0.00023411268841640317, 'rank': 204, 'l2_reg_V': 0.0070699738338538395, 'n_iter': 4476} => AUC: 0.554258, Results: [0.00054647 0.00053593 0.0016031  ... 0.08034965 0.04081334 0.00825292]\n",
      "[15:46:29] Params: {'init_stdev': 0.0025902439124566527, 'step_size': 0.11280335053240047, 'l2_reg_w': 0.0001239322462590885, 'rank': 149, 'l2_reg_V': 0.047768182186000305, 'n_iter': 2701} => AUC: 0.550945, Results: [0.00031129 0.00158508 0.01381984 ... 0.01805198 0.01312082 0.00593476]\n",
      "[15:47:00] Params: {'init_stdev': 0.0011816256384497674, 'step_size': 0.09200861631181667, 'l2_reg_w': 3.040587643022855e-05, 'rank': 63, 'l2_reg_V': 0.12276286954808832, 'n_iter': 3866} => AUC: 0.563593, Results: [9.70368063e-05 1.15225718e-04 5.63040037e-04 ... 6.59870407e-02\n",
      " 3.65537742e-02 3.03653940e-04]\n",
      "[15:47:54] Params: {'init_stdev': 0.002893031329675582, 'step_size': 0.26291241897410705, 'l2_reg_w': 5.299495407219351e-05, 'rank': 120, 'l2_reg_V': 0.009382121072670066, 'n_iter': 1832} => AUC: 0.535092, Results: [2.16007910e-05 1.42762052e-02 3.85778906e-02 ... 4.56142274e-02\n",
      " 4.05451828e-02 1.14036782e-02]\n",
      "[15:48:46] Params: {'init_stdev': 0.0013241360917630235, 'step_size': 0.07625137513275462, 'l2_reg_w': 1.0409081110980157e-05, 'rank': 101, 'l2_reg_V': 0.031661513403473875, 'n_iter': 4815} => AUC: 0.564713, Results: [9.48862303e-07 5.81612515e-06 3.14389867e-05 ... 1.24871342e-02\n",
      " 1.71417771e-03 9.35826613e-06]\n",
      "[15:49:53] Params: {'init_stdev': 0.0014776421495993688, 'step_size': 0.07026345710169044, 'l2_reg_w': 0.0002706312268723396, 'rank': 168, 'l2_reg_V': 0.0019421136709432284, 'n_iter': 3046} => AUC: 0.564028, Results: [3.04177912e-06 2.35081790e-04 9.50473942e-04 ... 9.33418882e-03\n",
      " 2.21965902e-03 8.20875624e-05]\n",
      "[15:50:31] Params: {'init_stdev': 0.0010128346119905407, 'step_size': 0.13549349746528178, 'l2_reg_w': 9.169316938939546e-05, 'rank': 79, 'l2_reg_V': 0.07129405506351191, 'n_iter': 988} => AUC: 0.556799, Results: [0.00016916 0.00042474 0.00061227 ... 0.00837228 0.00166592 0.00157333]\n",
      "[15:52:04] Params: {'init_stdev': 0.002502997796716043, 'step_size': 0.11772111972468301, 'l2_reg_w': 2.2917705083058715e-05, 'rank': 255, 'l2_reg_V': 0.179588001657019, 'n_iter': 2336} => AUC: 0.559091, Results: [2.83420394e-06 1.52502873e-05 1.02877497e-03 ... 1.44536998e-03\n",
      " 9.37827047e-04 5.74570915e-05]\n",
      "[15:52:38] Params: {'init_stdev': 0.0021870355351717194, 'step_size': 0.10271327878074805, 'l2_reg_w': 1.1223078985478865e-05, 'rank': 56, 'l2_reg_V': 0.002539603789072825, 'n_iter': 1440} => AUC: 0.539971, Results: [5.83154853e-05 1.69583069e-04 2.31565086e-03 ... 4.60970949e-04\n",
      " 1.12365065e-04 5.79545436e-05]\n",
      "[15:53:08] Params: {'init_stdev': 0.0029492283440750713, 'step_size': 0.12494254842563156, 'l2_reg_w': 0.00016478843747240807, 'rank': 69, 'l2_reg_V': 0.011109401885921076, 'n_iter': 3858} => AUC: 0.556257, Results: [0.00017591 0.00010658 0.00040618 ... 0.09862388 0.06621349 0.00048383]\n",
      "[15:53:52] Params: {'init_stdev': 0.0017645266862827494, 'step_size': 0.0834357950711394, 'l2_reg_w': 0.00036203798099865194, 'rank': 88, 'l2_reg_V': 0.016527030026250875, 'n_iter': 5331} => AUC: 0.551241, Results: [0.00074192 0.00077768 0.0012459  ... 0.04680753 0.03560606 0.01111375]\n",
      "[15:55:20] Params: {'init_stdev': 0.0034156504060503016, 'step_size': 0.17988491622395786, 'l2_reg_w': 4.8511241655127106e-05, 'rank': 226, 'l2_reg_V': 0.0015633780959907766, 'n_iter': 2012} => AUC: 0.549275, Results: [5.57281225e-08 7.63426542e-05 9.95009700e-04 ... 2.98441103e-03\n",
      " 3.84846498e-04 1.09841625e-04]\n",
      "[15:56:35] Params: {'init_stdev': 0.0011866039772034283, 'step_size': 0.1934963594690345, 'l2_reg_w': 9.693093806027893e-05, 'rank': 184, 'l2_reg_V': 0.004959314609253404, 'n_iter': 2717} => AUC: 0.541196, Results: [0.000569   0.01199234 0.03416556 ... 0.03277292 0.05438396 0.03057766]\n",
      "[15:57:26] Params: {'init_stdev': 0.0023939489129370813, 'step_size': 0.14477159658305547, 'l2_reg_w': 3.144252086525694e-05, 'rank': 105, 'l2_reg_V': 0.0023244150107884893, 'n_iter': 1247} => AUC: 0.543236, Results: [5.18860687e-05 7.23563514e-05 9.46370361e-04 ... 8.61602453e-04\n",
      " 5.55537127e-05 2.66936623e-05]\n",
      "[15:58:23] Params: {'init_stdev': 0.0014674987078673323, 'step_size': 0.15420976155510374, 'l2_reg_w': 1.0054881612255291e-05, 'rank': 124, 'l2_reg_V': 0.0011656372658673448, 'n_iter': 1694} => AUC: 0.526942, Results: [4.75885762e-05 1.54068481e-04 1.13399269e-02 ... 1.61076964e-04\n",
      " 8.25658521e-05 9.87982247e-05]\n",
      "[16:00:32] Params: {'init_stdev': 0.0020248572730600235, 'step_size': 0.0906449854779478, 'l2_reg_w': 0.00018750849069750712, 'rank': 344, 'l2_reg_V': 0.05046172273363595, 'n_iter': 3142} => AUC: 0.569768, Results: [1.66124230e-05 5.25915414e-04 1.38147081e-03 ... 2.43122887e-02\n",
      " 1.82378780e-02 4.50917898e-04]\n",
      "[16:01:33] Params: {'init_stdev': 0.0010263767921692894, 'step_size': 0.10855453867505685, 'l2_reg_w': 0.00030796119574417205, 'rank': 157, 'l2_reg_V': 0.006123737254860511, 'n_iter': 4170} => AUC: 0.549552, Results: [1.62240524e-06 3.21172838e-06 7.18201781e-05 ... 1.33352218e-03\n",
      " 5.43525091e-04 3.15791782e-05]\n",
      "[16:02:01] Params: {'init_stdev': 0.0017484751688116075, 'step_size': 0.07060106090614957, 'l2_reg_w': 1.0078381615729764e-05, 'rank': 60, 'l2_reg_V': 0.003956708080633304, 'n_iter': 5331} => AUC: 0.556273, Results: [0.00069886 0.00094191 0.00148336 ... 0.05352703 0.03692167 0.00916657]\n",
      "[16:04:30] Params: {'init_stdev': 0.0013420773406157096, 'step_size': 0.216403987496422, 'l2_reg_w': 0.0001171620528962432, 'rank': 405, 'l2_reg_V': 0.0029248387139324907, 'n_iter': 2336} => AUC: 0.550955, Results: [6.20176887e-07 7.33844579e-07 8.96912503e-04 ... 5.22674856e-04\n",
      " 8.73343928e-04 1.67667730e-05]\n",
      "[16:04:56] Params: {'init_stdev': 0.0030283769331118475, 'step_size': 0.06349465057062846, 'l2_reg_w': 1.7939633462434717e-05, 'rank': 49, 'l2_reg_V': 0.02524747638058708, 'n_iter': 889} => AUC: 0.549600, Results: [0.00076546 0.00085665 0.00151602 ... 0.00567614 0.00423474 0.00123618]\n",
      "[16:05:35] Params: {'init_stdev': 0.0020693730171015617, 'step_size': 0.09591048508881729, 'l2_reg_w': 5.8902664868807036e-05, 'rank': 79, 'l2_reg_V': 0.0013237283545761164, 'n_iter': 3487} => AUC: 0.563958, Results: [0.00032232 0.0003059  0.00690356 ... 0.06280478 0.05522057 0.00112477]\n",
      "[16:06:12] Params: {'init_stdev': 0.004137721857706159, 'step_size': 0.07798649897142484, 'l2_reg_w': 0.0004107930159801157, 'rank': 66, 'l2_reg_V': 0.009765378339714392, 'n_iter': 4438} => AUC: 0.553636, Results: [9.69082055e-05 1.94232725e-04 1.01385816e-03 ... 3.38731161e-02\n",
      " 9.65916668e-03 9.31358189e-04]\n",
      "[16:06:54] Params: {'init_stdev': 0.0016282685272881615, 'step_size': 0.16612350755169855, 'l2_reg_w': 0.00020539649212164467, 'rank': 91, 'l2_reg_V': 0.01550885852296883, 'n_iter': 6394} => AUC: 0.526961, Results: [2.08589917e-04 1.66720603e-07 2.41113861e-04 ... 6.59443240e-03\n",
      " 2.47613323e-02 5.33861891e-04]\n",
      "[16:07:52] Params: {'init_stdev': 0.003700768989989565, 'step_size': 0.13282578520285646, 'l2_reg_w': 0.0006307061487678496, 'rank': 132, 'l2_reg_V': 0.0009672565875177354, 'n_iter': 1593} => AUC: 0.534307, Results: [1.31661579e-05 2.62867762e-05 1.86440087e-03 ... 1.46766920e-04\n",
      " 1.06054290e-04 7.85183038e-06]\n",
      "[16:08:39] Params: {'init_stdev': 0.00231802196475812, 'step_size': 0.11502813009584335, 'l2_reg_w': 7.525496282670565e-05, 'rank': 100, 'l2_reg_V': 0.0031166300731203635, 'n_iter': 1110} => AUC: 0.548843, Results: [0.01149527 0.02424477 0.0220269  ... 0.03362344 0.00607799 0.00833197]\n",
      "[16:09:39] Params: {'init_stdev': 0.002639553093116954, 'step_size': 0.10264292731015971, 'l2_reg_w': 3.193597467399763e-05, 'rank': 143, 'l2_reg_V': 0.0006762936615046115, 'n_iter': 2717} => AUC: 0.551491, Results: [0.00072701 0.00909141 0.02801362 ... 0.03819277 0.03563996 0.0135821 ]\n",
      "[16:10:06] Params: {'init_stdev': 0.0012569565820696343, 'step_size': 0.08371893861940871, 'l2_reg_w': 0.00012326056929843653, 'rank': 54, 'l2_reg_V': 0.03348636272078243, 'n_iter': 1953} => AUC: 0.554153, Results: [2.74789943e-06 1.21846996e-04 1.44734266e-03 ... 1.01873795e-03\n",
      " 2.36239330e-04 8.01138695e-05]\n"
     ]
    },
    {
     "name": "stdout",
     "output_type": "stream",
     "text": [
      "[16:10:54] Params: {'init_stdev': 0.0032112587139457045, 'step_size': 0.12741081026473627, 'l2_reg_w': 1.5908863013615633e-05, 'rank': 113, 'l2_reg_V': 0.005436578732666788, 'n_iter': 5058} => AUC: 0.559460, Results: [2.63403449e-05 5.62126137e-04 1.13614932e-04 ... 9.64333736e-02\n",
      " 3.91845874e-02 4.09523976e-03]\n",
      "[16:12:08] Params: {'init_stdev': 0.0017533367225922238, 'step_size': 0.23329222044454787, 'l2_reg_w': 1.0209530137025863e-05, 'rank': 216, 'l2_reg_V': 0.0016069843400467782, 'n_iter': 3714} => AUC: 0.537011, Results: [7.84194659e-09 1.01508364e-06 9.87930802e-06 ... 4.24299442e-03\n",
      " 3.01385914e-04 7.65383728e-07]\n",
      "[16:13:11] Params: {'init_stdev': 0.0010176442596027534, 'step_size': 0.09077424752595627, 'l2_reg_w': 3.900243343138571e-05, 'rank': 181, 'l2_reg_V': 0.0007863876397600707, 'n_iter': 3092} => AUC: 0.562356, Results: [4.09230858e-06 3.59213014e-04 8.74494272e-04 ... 1.23665805e-02\n",
      " 5.74736748e-03 3.00476242e-04]\n",
      "[16:13:49] Params: {'init_stdev': 0.0015209036317898024, 'step_size': 0.13977594970998253, 'l2_reg_w': 0.00029894335906027427, 'rank': 76, 'l2_reg_V': 0.008685380913684548, 'n_iter': 5955} => AUC: 0.522881, Results: [7.41471744e-04 3.66897840e-06 8.16468404e-04 ... 4.49409463e-03\n",
      " 7.68708528e-03 6.28865672e-04]\n",
      "[16:15:32] Params: {'init_stdev': 0.002013702898683377, 'step_size': 0.10929532186104651, 'l2_reg_w': 0.000584938938444528, 'rank': 281, 'l2_reg_V': 0.05424496705281301, 'n_iter': 2163} => AUC: 0.571300, Results: [7.63765701e-05 1.08534495e-03 6.67906595e-03 ... 4.47103104e-02\n",
      " 2.61535584e-02 3.14652096e-03]\n",
      "[16:16:00] Params: {'init_stdev': 0.001195217414991761, 'step_size': 0.07438196612622816, 'l2_reg_w': 0.000178459268074781, 'rank': 62, 'l2_reg_V': 0.24129317857866628, 'n_iter': 731} => AUC: 0.547156, Results: [0.00011379 0.00057008 0.00064207 ... 0.00185577 0.00059059 0.00031869]\n",
      "[16:16:24] Params: {'init_stdev': 0.0036930191820454396, 'step_size': 0.16035546078405208, 'l2_reg_w': 7.443165843184897e-05, 'rank': 49, 'l2_reg_V': 0.14430666833923186, 'n_iter': 1366} => AUC: 0.529459, Results: [6.30152600e-06 3.76309697e-06 6.10127204e-04 ... 5.07266859e-05\n",
      " 2.83505599e-06 1.24360037e-06]\n",
      "[16:17:07] Params: {'init_stdev': 0.6807513535249872, 'step_size': 0.12087249802773392, 'l2_reg_w': 0.0009953345283330065, 'rank': 87, 'l2_reg_V': 0.00028951606302979256, 'n_iter': 4558} => AUC: 0.506317, Results: [0.00000000e+000 3.34776341e-114 0.00000000e+000 ... 0.00000000e+000\n",
      " 0.00000000e+000 0.00000000e+000]\n",
      "[16:18:18] Params: {'init_stdev': 0.0026242375560040446, 'step_size': 0.14665553592245117, 'l2_reg_w': 2.0925413203803354e-05, 'rank': 157, 'l2_reg_V': 0.0005007330025487912, 'n_iter': 6888} => AUC: 0.536912, Results: [5.57930648e-05 5.89483335e-06 2.02972593e-05 ... 6.38731846e-03\n",
      " 6.95264805e-03 2.45738754e-04]\n",
      "[16:19:08] Params: {'init_stdev': 0.0010101855006505974, 'step_size': 0.06735702948041634, 'l2_reg_w': 5.285053675532197e-05, 'rank': 121, 'l2_reg_V': 0.002677630093843741, 'n_iter': 3404} => AUC: 0.571629, Results: [4.20130542e-05 3.96766047e-04 2.16955449e-03 ... 2.45190515e-02\n",
      " 1.61086920e-02 3.92894932e-04]\n",
      "[16:19:43] Params: {'init_stdev': 0.0023004978464076366, 'step_size': 0.08202546936175388, 'l2_reg_w': 0.00023861267266542377, 'rank': 76, 'l2_reg_V': 0.016788590053193872, 'n_iter': 2460} => AUC: 0.564159, Results: [1.80150203e-05 3.53006404e-04 3.86728812e-03 ... 1.16720697e-02\n",
      " 2.82419909e-03 3.79390080e-04]\n",
      "[16:20:07] Params: {'init_stdev': 0.0018595143220668411, 'step_size': 0.09125928755564541, 'l2_reg_w': 0.000509269791070325, 'rank': 43, 'l2_reg_V': 0.006326933065289691, 'n_iter': 5577} => AUC: 0.530448, Results: [6.11906296e-05 2.17629891e-06 3.42162518e-04 ... 2.02340098e-03\n",
      " 8.23625729e-04 3.19333632e-04]\n",
      "[16:20:50] Params: {'init_stdev': 0.0030793566653143116, 'step_size': 0.1240678391852844, 'l2_reg_w': 0.0001431150227655368, 'rank': 98, 'l2_reg_V': 0.00098082515441279, 'n_iter': 1680} => AUC: 0.530465, Results: [0.00011975 0.00034468 0.0119951  ... 0.00042209 0.00019109 0.00021113]\n",
      "[16:21:49] Params: {'init_stdev': 0.004173595205093365, 'step_size': 0.11511543094364439, 'l2_reg_w': 0.00037886809184804217, 'rank': 134, 'l2_reg_V': 0.0012913083933139126, 'n_iter': 2760} => AUC: 0.555644, Results: [0.00010289 0.00951376 0.01396619 ... 0.0494625  0.02392592 0.00529253]\n",
      "[16:24:43] Params: {'init_stdev': 0.0011397898801321909, 'step_size': 0.05922212194351407, 'l2_reg_w': 3.465312165562933e-05, 'rank': 489, 'l2_reg_V': 0.0004386470329226393, 'n_iter': 4288} => AUC: 0.560695, Results: [6.07629438e-05 7.97192762e-05 7.46718500e-04 ... 5.35084414e-03\n",
      " 3.78594005e-03 3.90635278e-04]\n",
      "[16:25:16] Params: {'init_stdev': 0.0020280552493916392, 'step_size': 0.07099439302602822, 'l2_reg_w': 0.0013601802482032287, 'rank': 70, 'l2_reg_V': 0.003223384901573831, 'n_iter': 5833} => AUC: 0.549599, Results: [1.91085759e-05 1.97172759e-06 3.53251024e-04 ... 3.57569000e-03\n",
      " 2.12235594e-03 7.92108409e-05]\n",
      "[16:26:30] Params: {'init_stdev': 0.0026784640392622265, 'step_size': 0.0985400237444488, 'l2_reg_w': 8.889117469645819e-05, 'rank': 195, 'l2_reg_V': 0.07126429536960417, 'n_iter': 7825} => AUC: 0.556478, Results: [8.78093705e-08 1.25829016e-07 3.51444927e-07 ... 3.72400292e-04\n",
      " 9.08313602e-04 1.36633647e-06]\n",
      "[16:26:59] Params: {'init_stdev': 0.0012852200850083598, 'step_size': 0.1736853994506244, 'l2_reg_w': 0.0006202029093626699, 'rank': 55, 'l2_reg_V': 0.01279514556711754, 'n_iter': 3610} => AUC: 0.545731, Results: [1.76061551e-06 6.23003060e-06 2.66520224e-04 ... 1.44495701e-02\n",
      " 6.25835554e-03 2.68984276e-05]\n",
      "[16:27:46] Params: {'init_stdev': 0.0016527272768857703, 'step_size': 0.1924973605279628, 'l2_reg_w': 2.2733137472278363e-05, 'rank': 114, 'l2_reg_V': 0.0016711481594277793, 'n_iter': 2066} => AUC: 0.554006, Results: [0.00036064 0.00974223 0.06165776 ... 0.10305408 0.04068215 0.00972694]\n",
      "[16:29:52] Params: {'init_stdev': 0.0014407487387951502, 'step_size': 0.13818902024967855, 'l2_reg_w': 0.0002476893058510443, 'rank': 310, 'l2_reg_V': 0.026867648261788928, 'n_iter': 932} => AUC: 0.554226, Results: [0.00045119 0.00024512 0.00068829 ... 0.00877639 0.00305522 0.00082343]\n",
      "[16:30:35] Params: {'init_stdev': 0.0035302431587226316, 'step_size': 0.0992899390473551, 'l2_reg_w': 0.0009391102069698852, 'rank': 88, 'l2_reg_V': 0.0006322580844134211, 'n_iter': 1177} => AUC: 0.550866, Results: [0.00069754 0.00141467 0.00581718 ... 0.00736537 0.00114322 0.000576  ]\n",
      "[16:32:13] Params: {'init_stdev': 0.004947542294741841, 'step_size': 0.20194036437107668, 'l2_reg_w': 5.1454580762627746e-05, 'rank': 266, 'l2_reg_V': 0.00025572821922276043, 'n_iter': 4719} => AUC: 0.553082, Results: [4.50135163e-09 9.17196004e-08 3.85693805e-08 ... 1.09180495e-02\n",
      " 2.54418697e-04 2.05642117e-07]\n",
      "[16:32:42] Params: {'init_stdev': 0.0023736623713398646, 'step_size': 0.06448330501901138, 'l2_reg_w': 0.00011333004336634169, 'rank': 64, 'l2_reg_V': 0.002131024331758223, 'n_iter': 3021} => AUC: 0.564590, Results: [1.07876342e-05 6.20702159e-04 1.89247503e-03 ... 1.61584971e-02\n",
      " 4.40549844e-03 2.33058791e-04]\n",
      "[16:33:05] Params: {'init_stdev': 0.002921157730442367, 'step_size': 0.07682162398002759, 'l2_reg_w': 0.0015242181416866625, 'rank': 46, 'l2_reg_V': 0.0059305375685465575, 'n_iter': 7002} => AUC: 0.539268, Results: [1.42993598e-05 1.23927316e-06 2.48770042e-05 ... 2.11980536e-03\n",
      " 1.66029562e-03 5.35809884e-05]\n",
      "[16:33:31] Params: {'init_stdev': 0.0014378570365789574, 'step_size': 0.16242609493271898, 'l2_reg_w': 0.00033567980319376385, 'rank': 57, 'l2_reg_V': 0.1098625318267311, 'n_iter': 1516} => AUC: 0.531848, Results: [4.75585599e-07 3.88641451e-06 2.88382714e-04 ... 7.98689518e-06\n",
      " 9.77723908e-07 9.10325195e-07]\n",
      "[16:34:15] Params: {'init_stdev': 0.001029759130184682, 'step_size': 0.12526283055919876, 'l2_reg_w': 3.462629759672806e-05, 'rank': 104, 'l2_reg_V': 0.0008614099975522492, 'n_iter': 3979} => AUC: 0.551571, Results: [0.00026978 0.00011733 0.00127086 ... 0.04351538 0.03291275 0.00061001]\n",
      "[16:35:17] Params: {'init_stdev': 0.0018749848506406138, 'step_size': 0.11142208866114864, 'l2_reg_w': 0.00013638483781276922, 'rank': 160, 'l2_reg_V': 0.00037880732075709454, 'n_iter': 5480} => AUC: 0.537974, Results: [0.01016998 0.00057224 0.01139233 ... 0.0779806  0.03484919 0.01461649]\n"
     ]
    },
    {
     "name": "stdout",
     "output_type": "stream",
     "text": [
      "[16:35:51] Params: {'init_stdev': 0.0038088746773964673, 'step_size': 0.08564557162559358, 'l2_reg_w': 1.036614609726151e-05, 'rank': 79, 'l2_reg_V': 0.000222654073383854, 'n_iter': 2496} => AUC: 0.563235, Results: [3.30169636e-06 8.55674551e-05 1.59812734e-03 ... 5.18501120e-03\n",
      " 9.48445952e-04 9.83472415e-05]\n",
      "[16:37:16] Params: {'init_stdev': 0.001579578478483223, 'step_size': 0.35860831213279837, 'l2_reg_w': 1.512059485803134e-05, 'rank': 235, 'l2_reg_V': 0.009822810732435098, 'n_iter': 6727} => AUC: 0.500256, Results: [0. 0. 0. ... 0. 0. 0.]\n",
      "[16:37:38] Params: {'init_stdev': 0.003245918210457998, 'step_size': 0.14514116993160014, 'l2_reg_w': 0.00019737348074079907, 'rank': 40, 'l2_reg_V': 0.00012362114924190922, 'n_iter': 8437} => AUC: 0.543079, Results: [3.17006068e-05 1.38629789e-06 1.21242406e-04 ... 9.01742904e-03\n",
      " 1.46162014e-02 3.78637043e-03]\n",
      "[16:38:07] Params: {'init_stdev': 0.0013091631292710601, 'step_size': 0.1031538984317428, 'l2_reg_w': 0.00039387233895273906, 'rank': 66, 'l2_reg_V': 0.03520471107247821, 'n_iter': 1875} => AUC: 0.554233, Results: [1.46681668e-05 6.44495854e-04 4.07119433e-03 ... 3.84404752e-03\n",
      " 1.54822064e-03 3.81269255e-04]\n",
      "[16:39:05] Params: {'init_stdev': 0.002151379995263852, 'step_size': 0.09035072689328459, 'l2_reg_w': 0.0009104103032328985, 'rank': 141, 'l2_reg_V': 0.003388387710233462, 'n_iter': 4151} => AUC: 0.555339, Results: [7.47559486e-06 1.72899918e-05 2.30110569e-04 ... 3.89095815e-03\n",
      " 1.70241538e-03 1.05940302e-04]\n",
      "[16:40:33] Params: {'init_stdev': 0.004373615027385079, 'step_size': 0.05902640137599978, 'l2_reg_w': 7.742194566634801e-05, 'rank': 178, 'l2_reg_V': 0.001553785373730413, 'n_iter': 3134} => AUC: 0.570619, Results: [4.00105825e-05 1.09013050e-03 2.44269886e-03 ... 2.37030575e-02\n",
      " 1.30649841e-02 7.19924029e-04]\n",
      "[16:41:07] Params: {'init_stdev': 0.002498124713660616, 'step_size': 0.07901136416593392, 'l2_reg_w': 0.0005471501725847473, 'rank': 53, 'l2_reg_V': 0.0005272658436319994, 'n_iter': 2337} => AUC: 0.561591, Results: [9.78338148e-06 5.75942316e-05 1.28965648e-03 ... 1.94688544e-03\n",
      " 9.88456998e-04 1.06192185e-04]\n",
      "[16:43:37] Params: {'init_stdev': 0.0018062765181353765, 'step_size': 0.12002050093538688, 'l2_reg_w': 2.596245632643576e-05, 'rank': 359, 'l2_reg_V': 0.018682324931854115, 'n_iter': 5018} => AUC: 0.565646, Results: [1.99463386e-06 1.55574216e-05 6.52428497e-06 ... 1.19541270e-02\n",
      " 3.33212756e-03 1.36643510e-04]\n",
      "[16:45:16] Params: {'init_stdev': 0.005668071784240899, 'step_size': 0.13611301825416922, 'l2_reg_w': 0.0019034545306248984, 'rank': 205, 'l2_reg_V': 0.34740477606077974, 'n_iter': 671} => AUC: 0.555317, Results: [4.78424299e-05 7.56428495e-04 2.83150918e-04 ... 2.05305249e-03\n",
      " 6.58651030e-04 1.83281544e-04]\n",
      "[16:46:06] Params: {'init_stdev': 0.0031959435259303623, 'step_size': 0.26205627441900425, 'l2_reg_w': 4.423088882441667e-05, 'rank': 97, 'l2_reg_V': 0.00015700749242148593, 'n_iter': 1041} => AUC: 0.556217, Results: [0.00142766 0.00921198 0.00100097 ... 0.14404931 0.00329009 0.0012431 ]\n",
      "[16:47:13] Params: {'init_stdev': 0.0012361162390071014, 'step_size': 0.15606574471921822, 'l2_reg_w': 0.00015143656977855237, 'rank': 123, 'l2_reg_V': 0.003910624417862771, 'n_iter': 6356} => AUC: 0.528053, Results: [2.15162754e-03 8.87091695e-07 7.87597183e-04 ... 2.15795496e-02\n",
      " 7.11613318e-02 1.99044870e-03]\n",
      "[16:47:55] Params: {'init_stdev': 0.0010022426380079175, 'step_size': 0.1060388043376929, 'l2_reg_w': 8.84307816547445e-05, 'rank': 66, 'l2_reg_V': 0.0002923068049423852, 'n_iter': 1344} => AUC: 0.534545, Results: [5.34650955e-05 4.57260246e-05 1.55125844e-03 ... 4.02400658e-04\n",
      " 5.04733825e-05 1.68909747e-05]\n",
      "[16:48:43] Params: {'init_stdev': 0.0015968563781737252, 'step_size': 0.0939918995625846, 'l2_reg_w': 1.0250370148262744e-05, 'rank': 83, 'l2_reg_V': 0.0010598399994269612, 'n_iter': 8434} => AUC: 0.547642, Results: [4.71598679e-05 5.05792349e-06 1.30270606e-04 ... 9.28187836e-03\n",
      " 2.29632440e-02 2.95807533e-03]\n",
      "[16:49:16] Params: {'init_stdev': 0.002677852134780914, 'step_size': 0.07349915501749182, 'l2_reg_w': 0.00026121376344801894, 'rank': 47, 'l2_reg_V': 7.702207791382395e-05, 'n_iter': 3697} => AUC: 0.564764, Results: [1.59276455e-06 1.96488911e-05 4.06047101e-04 ... 1.11692377e-02\n",
      " 2.67595385e-03 2.71323910e-05]\n",
      "[16:50:19] Params: {'init_stdev': 0.0021700920148640585, 'step_size': 0.06623923329794126, 'l2_reg_w': 0.0007102496410031707, 'rank': 116, 'l2_reg_V': 0.0006543286241144879, 'n_iter': 2763} => AUC: 0.560050, Results: [0.00030785 0.00829095 0.01505967 ... 0.03770429 0.0184946  0.00494781]\n",
      "[16:50:47] Params: {'init_stdev': 0.003906590828139432, 'step_size': 0.11885691955312203, 'l2_reg_w': 5.693239056067812e-05, 'rank': 36, 'l2_reg_V': 0.0022642987502217026, 'n_iter': 1766} => AUC: 0.532027, Results: [4.90272707e-06 5.82290114e-05 2.29719324e-03 ... 5.75041116e-05\n",
      " 1.94848490e-05 1.28350391e-05]\n",
      "[16:54:10] Params: {'init_stdev': 0.0011590373795160424, 'step_size': 0.0836572962181054, 'l2_reg_w': 0.001172466165090165, 'rank': 447, 'l2_reg_V': 0.009788468114600619, 'n_iter': 4716} => AUC: 0.560827, Results: [2.50177078e-06 7.57152528e-06 2.12422536e-05 ... 1.39770004e-02\n",
      " 2.07368068e-03 1.94389682e-05]\n",
      "[16:55:23] Params: {'init_stdev': 0.004659165307932745, 'step_size': 0.09896066692905531, 'l2_reg_w': 1.83738138736974e-05, 'rank': 147, 'l2_reg_V': 0.0001511042300210536, 'n_iter': 9970} => AUC: 0.558833, Results: [0.00026119 0.00016231 0.00083729 ... 0.04317585 0.05959783 0.00340012]\n",
      "[16:56:16] Params: {'init_stdev': 0.001003762235732532, 'step_size': 0.16923687604998527, 'l2_reg_w': 0.0003691066120209827, 'rank': 96, 'l2_reg_V': 0.00038564575533857754, 'n_iter': 2139} => AUC: 0.569996, Results: [2.97591651e-05 9.04103358e-04 7.34206300e-03 ... 8.28989743e-02\n",
      " 4.19540017e-02 2.17654999e-03]\n",
      "[16:57:03] Params: {'init_stdev': 0.0019228680205516263, 'step_size': 0.15378449037107447, 'l2_reg_w': 0.00013299551193145186, 'rank': 75, 'l2_reg_V': 5.841578527331684e-05, 'n_iter': 7198} => AUC: 0.528883, Results: [2.84032912e-06 2.18194679e-05 3.67276806e-06 ... 5.92689045e-03\n",
      " 1.52080802e-02 1.02697511e-03]\n",
      "[16:57:33] Params: {'init_stdev': 0.0010018919770674835, 'step_size': 0.13143998664318893, 'l2_reg_w': 0.0019514812239268293, 'rank': 41, 'l2_reg_V': 0.004721024162147301, 'n_iter': 3354} => AUC: 0.560345, Results: [4.51768906e-05 3.41725244e-04 1.88236158e-03 ... 2.32477596e-02\n",
      " 5.79967793e-02 1.68700145e-03]\n",
      "[16:58:09] Params: {'init_stdev': 0.001479177104205431, 'step_size': 0.10952904838885576, 'l2_reg_w': 0.00019748067247712326, 'rank': 57, 'l2_reg_V': 0.0016472950500154408, 'n_iter': 5472} => AUC: 0.528309, Results: [0.00311494 0.00013273 0.00354845 ... 0.02987498 0.0066077  0.00408661]\n",
      "[17:00:02] Params: {'init_stdev': 0.002901745238299378, 'step_size': 0.21342026710705733, 'l2_reg_w': 1.0130958655521105e-05, 'rank': 223, 'l2_reg_V': 0.06684173432130519, 'n_iter': 4114} => AUC: 0.522034, Results: [3.59903520e-06 2.21864797e-06 3.44567637e-05 ... 5.13300742e-04\n",
      " 6.11318260e-04 4.67407363e-05]\n",
      "[17:01:32] Params: {'init_stdev': 0.0024730070472475415, 'step_size': 0.06304423206909728, 'l2_reg_w': 2.5953226363454372e-05, 'rank': 171, 'l2_reg_V': 0.00022723356554269405, 'n_iter': 849} => AUC: 0.546065, Results: [0.00196875 0.00204123 0.00380415 ... 0.00817074 0.00641236 0.00320613]\n",
      "[17:02:12] Params: {'init_stdev': 0.0035618215756915775, 'step_size': 0.07690517609844659, 'l2_reg_w': 7.191214479362988e-05, 'rank': 86, 'l2_reg_V': 0.00011117413009931983, 'n_iter': 1524} => AUC: 0.539934, Results: [6.41012302e-06 2.43531555e-05 5.45388677e-04 ... 1.06255993e-04\n",
      " 1.84512699e-05 7.41192873e-06]\n",
      "[17:02:43] Params: {'init_stdev': 0.0013541067165064346, 'step_size': 0.3028188857556873, 'l2_reg_w': 0.000710305793408486, 'rank': 49, 'l2_reg_V': 0.007473209640697699, 'n_iter': 2766} => AUC: 0.537185, Results: [2.37758095e-05 3.46101831e-02 1.47269705e-03 ... 1.76309628e-01\n",
      " 5.42536379e-02 7.33375350e-03]\n",
      "[17:03:37] Params: {'init_stdev': 0.0022592594801158538, 'step_size': 0.09219771622343953, 'l2_reg_w': 5.314606792442315e-05, 'rank': 137, 'l2_reg_V': 0.0009132603722769334, 'n_iter': 5884} => AUC: 0.541787, Results: [1.40919424e-05 6.58618826e-07 1.47618870e-04 ... 3.74954261e-03\n",
      " 2.55399171e-03 7.71438343e-05]\n"
     ]
    },
    {
     "name": "stdout",
     "output_type": "stream",
     "text": [
      "[17:04:10] Params: {'init_stdev': 0.005496578614088735, 'step_size': 0.1021993056086229, 'l2_reg_w': 0.00037755007368056256, 'rank': 72, 'l2_reg_V': 0.020028878071290498, 'n_iter': 7662} => AUC: 0.565779, Results: [9.66888496e-06 1.73436066e-05 4.43747175e-05 ... 2.19215578e-02\n",
      " 4.28282440e-02 2.79167239e-04]\n",
      "[17:06:03] Params: {'init_stdev': 0.0015799464786933103, 'step_size': 0.07280046460088466, 'l2_reg_w': 1.6220302381493546e-05, 'rank': 312, 'l2_reg_V': 0.0025034492757737862, 'n_iter': 541} => AUC: 0.514655, Results: [4.31474958e-05 1.95310861e-04 4.48909189e-04 ... 2.27009669e-04\n",
      " 3.95130566e-05 4.67098795e-05]\n",
      "[17:06:48] Params: {'init_stdev': 0.0019601084411939836, 'step_size': 0.05464137796800756, 'l2_reg_w': 9.819302442644395e-05, 'rank': 104, 'l2_reg_V': 0.0005942980859995039, 'n_iter': 1201} => AUC: 0.548251, Results: [0.00040633 0.0008227  0.00364574 ... 0.0038647  0.0008811  0.00040488]\n",
      "[17:07:18] Params: {'init_stdev': 0.0011367832489697508, 'step_size': 0.09537260109597177, 'l2_reg_w': 0.0002242642944070315, 'rank': 58, 'l2_reg_V': 0.0357082444718117, 'n_iter': 2362} => AUC: 0.559084, Results: [1.60014246e-06 1.03935812e-05 5.37126259e-04 ... 6.94115722e-04\n",
      " 3.60587695e-04 2.84912914e-05]\n",
      "[17:08:04] Params: {'init_stdev': 0.003380432584524989, 'step_size': 0.1814920842002064, 'l2_reg_w': 0.0011774558549825964, 'rank': 113, 'l2_reg_V': 0.19815641314113222, 'n_iter': 287} => AUC: 0.507709, Results: [0.00212659 0.00280035 0.00093103 ... 0.00596712 0.00607292 0.00267889]\n",
      "[17:10:03] Params: {'init_stdev': 0.001810071631432509, 'step_size': 0.23348865298889393, 'l2_reg_w': 0.003613257178198268, 'rank': 409, 'l2_reg_V': 8.839731675106231e-05, 'n_iter': 4650} => AUC: 0.553820, Results: [8.56806583e-07 8.90693724e-06 5.13603108e-07 ... 6.03006039e-02\n",
      " 5.62888356e-03 5.55266966e-06]\n",
      "[17:11:17] Params: {'init_stdev': 0.005042158576510293, 'step_size': 0.08811101989639626, 'l2_reg_w': 0.0004939690546427901, 'rank': 246, 'l2_reg_V': 4.549706290441076e-05, 'n_iter': 25} => AUC: 0.502268, Results: [0.01936187 0.01886786 0.05256867 ... 0.03152475 0.01453834 0.01221197]\n",
      "[17:11:34] Params: {'init_stdev': 0.00287982048340558, 'step_size': 0.12904551373768616, 'l2_reg_w': 3.5580384018081096e-05, 'rank': 33, 'l2_reg_V': 0.0003304516796176702, 'n_iter': 5} => AUC: 0.498673, Results: [0.15352251 0.16752818 0.23390816 ... 0.19129192 0.14660272 0.16110701]\n",
      "[17:11:54] Params: {'init_stdev': 0.0022984174616911264, 'step_size': 0.14420064391656456, 'l2_reg_w': 0.001631172185746873, 'rank': 44, 'l2_reg_V': 0.0041586456313520235, 'n_iter': 8793} => AUC: 0.540266, Results: [1.96861518e-07 4.07842445e-09 3.86700690e-06 ... 2.28138946e-05\n",
      " 3.22623264e-05 1.45759050e-04]\n",
      "[17:12:20] Params: {'init_stdev': 0.0013801131404587003, 'step_size': 0.11165690515180632, 'l2_reg_w': 0.00017743880958829991, 'rank': 66, 'l2_reg_V': 0.0011664822345546753, 'n_iter': 3385} => AUC: 0.564294, Results: [1.91405130e-05 1.09123061e-04 1.76528584e-03 ... 1.50690551e-02\n",
      " 2.36372410e-02 3.87334968e-04]\n",
      "[17:12:52] Params: {'init_stdev': 0.8233022607180593, 'step_size': 0.06736723505791589, 'l2_reg_w': 0.0023271871144965096, 'rank': 92, 'l2_reg_V': 0.013547716209341167, 'n_iter': 1940} => AUC: 0.507079, Results: [0.00000000e+000 1.39920761e-281 0.00000000e+000 ... 1.49427827e-071\n",
      " 1.18869157e-198 6.36872947e-185]\n",
      "[17:13:52] Params: {'init_stdev': 0.004078752733970058, 'step_size': 0.06012861007424559, 'l2_reg_w': 0.000708493047468828, 'rank': 190, 'l2_reg_V': 0.0001615876223927164, 'n_iter': 54} => AUC: 0.500998, Results: [0.03639871 0.04437607 0.07128019 ... 0.04829984 0.03427935 0.02552316]\n"
     ]
    },
    {
     "name": "stderr",
     "output_type": "stream",
     "text": [
      "/usr/local/lib/python3.5/dist-packages/scipy/stats/_distn_infrastructure.py:879: RuntimeWarning: invalid value encountered in greater\n",
      "  return (self.a < x) & (x < self.b)\n",
      "/usr/local/lib/python3.5/dist-packages/scipy/stats/_distn_infrastructure.py:879: RuntimeWarning: invalid value encountered in less\n",
      "  return (self.a < x) & (x < self.b)\n",
      "/usr/local/lib/python3.5/dist-packages/scipy/stats/_distn_infrastructure.py:1738: RuntimeWarning: invalid value encountered in greater_equal\n",
      "  cond2 = (x >= self.b) & cond0\n"
     ]
    },
    {
     "name": "stdout",
     "output_type": "stream",
     "text": [
      "[17:14:11] Params: {'init_stdev': 0.0016303936613072671, 'step_size': 0.08034816272363315, 'l2_reg_w': 11272.566011680174, 'rank': 51, 'l2_reg_V': 0.006745850381912939, 'n_iter': 9974} => Failed\n"
     ]
    },
    {
     "name": "stderr",
     "output_type": "stream",
     "text": [
      "/usr/local/lib/python3.5/dist-packages/scipy/stats/_distn_infrastructure.py:879: RuntimeWarning: invalid value encountered in greater\n",
      "  return (self.a < x) & (x < self.b)\n",
      "/usr/local/lib/python3.5/dist-packages/scipy/stats/_distn_infrastructure.py:879: RuntimeWarning: invalid value encountered in less\n",
      "  return (self.a < x) & (x < self.b)\n",
      "/usr/local/lib/python3.5/dist-packages/scipy/stats/_distn_infrastructure.py:1738: RuntimeWarning: invalid value encountered in greater_equal\n",
      "  cond2 = (x >= self.b) & cond0\n"
     ]
    },
    {
     "name": "stdout",
     "output_type": "stream",
     "text": [
      "[17:14:58] Params: {'init_stdev': 0.30939207685006165, 'step_size': 0.18317491648326323, 'l2_reg_w': 17.230755967762594, 'rank': 158, 'l2_reg_V': 2.4755921063122768e-05, 'n_iter': 6034} => Failed\n",
      "[17:15:28] Params: {'init_stdev': 0.006213068318249485, 'step_size': 0.1559785165759134, 'l2_reg_w': 0.0003024305102446368, 'rank': 80, 'l2_reg_V': 0.0002612299081328478, 'n_iter': 3071} => AUC: 0.560858, Results: [6.94209253e-06 7.57900505e-04 8.50513156e-04 ... 4.31604928e-02\n",
      " 3.73376251e-02 1.33706071e-03]\n",
      "[17:18:00] Params: {'init_stdev': 0.0028101563884556906, 'step_size': 0.11536014434059103, 'l2_reg_w': 4.6631546349672326e-05, 'rank': 529, 'l2_reg_V': 0.000491750969276514, 'n_iter': 143} => AUC: 0.460121, Results: [0.00126512 0.00176725 0.00605535 ... 0.00075457 0.00027128 0.00098222]\n",
      "[17:18:40] Params: {'init_stdev': 0.001253615904916179, 'step_size': 0.12357231636309894, 'l2_reg_w': 0.00012577950059003954, 'rank': 122, 'l2_reg_V': 0.0019123265805868464, 'n_iter': 3960} => AUC: 0.556104, Results: [1.04861333e-04 5.75910016e-05 1.27246303e-03 ... 4.11360271e-02\n",
      " 2.64832070e-02 3.20765588e-04]\n",
      "[17:19:05] Params: {'init_stdev': 0.004477238655656922, 'step_size': 0.055818527571780435, 'l2_reg_w': 2.3431160486745854e-05, 'rank': 59, 'l2_reg_V': 3.831238807480405e-05, 'n_iter': 7282} => AUC: 0.551702, Results: [0.00031407 0.00013582 0.00070163 ... 0.01108429 0.02441062 0.0038166 ]\n",
      "[17:19:50] Params: {'init_stdev': 0.00211552389268571, 'step_size': 0.051047992900579695, 'l2_reg_w': 1.0282627626549088e-05, 'rank': 139, 'l2_reg_V': 7.170689451261671e-05, 'n_iter': 1584} => AUC: 0.535344, Results: [3.95264725e-05 8.22341998e-05 1.50019144e-03 ... 4.00977033e-04\n",
      " 1.56271245e-04 2.93283383e-05]\n",
      "[17:20:09] Params: {'init_stdev': 0.0017049595713212245, 'step_size': 0.14785135686655249, 'l2_reg_w': 7.83665241735555e-05, 'rank': 38, 'l2_reg_V': 0.0008295700290846163, 'n_iter': 4834} => AUC: 0.566435, Results: [3.04221590e-07 2.69144050e-06 1.56578362e-05 ... 2.88523581e-02\n",
      " 4.58527124e-03 1.35128061e-05]\n"
     ]
    },
    {
     "name": "stderr",
     "output_type": "stream",
     "text": [
      "/usr/local/lib/python3.5/dist-packages/scipy/stats/_distn_infrastructure.py:879: RuntimeWarning: invalid value encountered in greater\n",
      "  return (self.a < x) & (x < self.b)\n",
      "/usr/local/lib/python3.5/dist-packages/scipy/stats/_distn_infrastructure.py:879: RuntimeWarning: invalid value encountered in less\n",
      "  return (self.a < x) & (x < self.b)\n",
      "/usr/local/lib/python3.5/dist-packages/scipy/stats/_distn_infrastructure.py:1738: RuntimeWarning: invalid value encountered in greater_equal\n",
      "  cond2 = (x >= self.b) & cond0\n"
     ]
    },
    {
     "name": "stdout",
     "output_type": "stream",
     "text": [
      "[17:21:26] Params: {'init_stdev': 0.0035028572409213695, 'step_size': 0.10563242480558668, 'l2_reg_w': 54.190877147610756, 'rank': 273, 'l2_reg_V': 0.0014613393367124085, 'n_iter': 2597} => Failed\n",
      "[17:22:02] Params: {'init_stdev': 0.0019458157784335824, 'step_size': 0.1393388252983608, 'l2_reg_w': 0.003656296508364991, 'rank': 103, 'l2_reg_V': 1.5764647714766682e-05, 'n_iter': 2074} => AUC: 0.557797, Results: [7.51987818e-05 1.88367630e-03 1.23334836e-02 ... 2.70175670e-02\n",
      " 9.39012002e-03 1.91520808e-03]\n",
      "[17:22:30] Params: {'init_stdev': 0.0014243236143059597, 'step_size': 0.1692068269860237, 'l2_reg_w': 0.0009327634143724122, 'rank': 74, 'l2_reg_V': 0.11093876103794016, 'n_iter': 38} => AUC: 0.516300, Results: [0.00667276 0.02052044 0.03693958 ... 0.04086614 0.0262894  0.00599759]\n",
      "[17:23:35] Params: {'init_stdev': 0.0010665316760880427, 'step_size': 0.06706563249289559, 'l2_reg_w': 0.0004978653235423982, 'rank': 214, 'l2_reg_V': 0.00012065590598223683, 'n_iter': 9968} => AUC: 0.563177, Results: [0.00073612 0.00034822 0.00173186 ... 0.04832429 0.08117685 0.00674722]\n",
      "[17:23:52] Params: {'init_stdev': 0.0010077113572020927, 'step_size': 0.1057540287381754, 'l2_reg_w': 0.00020981107467334735, 'rank': 31, 'l2_reg_V': 0.05600526690313632, 'n_iter': 3884} => AUC: 0.554482, Results: [0.00032522 0.00022425 0.00268512 ... 0.07685171 0.04528754 0.00047227]\n",
      "[17:24:11] Params: {'init_stdev': 0.0023685469931055956, 'step_size': 0.20253666927474046, 'l2_reg_w': 0.00011239374116437471, 'rank': 45, 'l2_reg_V': 0.0004138167015365792, 'n_iter': 6149} => AUC: 0.504114, Results: [1.22720408e-04 1.06949013e-07 2.60270620e-05 ... 1.10937258e-05\n",
      " 1.84802728e-04 4.96477563e-05]\n",
      "[17:25:56] Params: {'init_stdev': 0.0030210367160393332, 'step_size': 0.07971012448301386, 'l2_reg_w': 3.2414818716782735e-05, 'rank': 357, 'l2_reg_V': 0.00020181215650579343, 'n_iter': 965} => AUC: 0.558698, Results: [0.0011796  0.00222526 0.00351645 ... 0.01802299 0.00715696 0.00461767]\n",
      "[17:26:21] Params: {'init_stdev': 0.003988925270031603, 'step_size': 0.13160607810111324, 'l2_reg_w': 0.0010974818759321057, 'rank': 63, 'l2_reg_V': 0.02218997789207064, 'n_iter': 8246} => AUC: 0.541528, Results: [2.85207753e-05 3.34233105e-05 8.60775908e-05 ... 5.37036298e-03\n",
      " 8.64815703e-03 7.71349936e-04]\n",
      "[17:26:54] Params: {'init_stdev': 0.0011269758828371188, 'step_size': 0.08665669787806551, 'l2_reg_w': 1.7499118010858992e-05, 'rank': 91, 'l2_reg_V': 0.0032529568601231897, 'n_iter': 1} => AUC: 0.491002, Results: [0.4467227  0.4302352  0.44940819 ... 0.43101588 0.43137551 0.43114742]\n",
      "[17:27:44] Params: {'init_stdev': 0.005173795299779973, 'step_size': 0.09719535301100106, 'l2_reg_w': 6.56247078791743e-05, 'rank': 159, 'l2_reg_V': 0.01379342892458483, 'n_iter': 5242} => AUC: 0.562294, Results: [0.00036919 0.00097379 0.00129201 ... 0.20131808 0.12325443 0.00558308]\n",
      "[17:28:07] Params: {'init_stdev': 0.002569172050028495, 'step_size': 0.11676793349098834, 'l2_reg_w': 0.0015018779667859256, 'rank': 52, 'l2_reg_V': 5.628678321133248e-05, 'n_iter': 3091} => AUC: 0.560879, Results: [3.15489789e-06 2.80819078e-04 6.33377623e-04 ... 1.35581281e-02\n",
      " 8.15151380e-03 3.22399468e-04]\n",
      "[17:28:49] Params: {'init_stdev': 0.001754444636247722, 'step_size': 0.4434472414782121, 'l2_reg_w': 0.0003157832741768069, 'rank': 130, 'l2_reg_V': 0.005090963023734498, 'n_iter': 1274} => AUC: 0.491009, Results: [7.58021672e-04 2.81172986e-08 3.51124672e-03 ... 4.46175262e-07\n",
      " 3.60442618e-06 4.36153729e-03]\n",
      "[17:29:19] Params: {'init_stdev': 0.0012731399920074774, 'step_size': 0.06766110462718136, 'l2_reg_w': 0.002656287731383746, 'rank': 81, 'l2_reg_V': 1.0499850224082694e-05, 'n_iter': 1786} => AUC: 0.535872, Results: [1.04148936e-05 6.37105714e-05 1.24994711e-03 ... 1.24001773e-04\n",
      " 3.47437249e-05 1.65921304e-05]\n",
      "[17:30:18] Params: {'init_stdev': 0.007255906741159999, 'step_size': 0.08886757542450849, 'l2_reg_w': 0.0007224708218360091, 'rank': 186, 'l2_reg_V': 3.2547402847781485e-05, 'n_iter': 2518} => AUC: 0.559519, Results: [4.96018782e-06 1.34164785e-04 2.54081591e-03 ... 5.50916641e-03\n",
      " 8.77197223e-04 2.69561319e-04]\n",
      "[17:30:55] Params: {'init_stdev': 0.005957357856394892, 'step_size': 0.060644920811575256, 'l2_reg_w': 0.0001546605556136647, 'rank': 109, 'l2_reg_V': 0.0006364531015298821, 'n_iter': 714} => AUC: 0.535679, Results: [9.60508867e-05 4.43725254e-04 6.58579645e-04 ... 8.65941843e-04\n",
      " 3.75171568e-04 2.07884087e-04]\n",
      "[17:31:23] Params: {'init_stdev': 0.003279362934936013, 'step_size': 0.09560352905889018, 'l2_reg_w': 3.722674474060822e-05, 'rank': 71, 'l2_reg_V': 0.00010155698485121993, 'n_iter': 3767} => AUC: 0.557154, Results: [4.08966006e-05 5.58051587e-05 1.14513000e-03 ... 3.28136218e-02\n",
      " 1.55657385e-02 1.34756359e-04]\n",
      "[17:31:40] Params: {'init_stdev': 0.47554576469276894, 'step_size': 0.08340736056548892, 'l2_reg_w': 0.00043168495968983823, 'rank': 34, 'l2_reg_V': 0.002189419503306732, 'n_iter': 6754} => AUC: 0.511372, Results: [5.15198025e-09 1.57447646e-15 1.29075768e-11 ... 1.47110004e-08\n",
      " 8.03149743e-04 3.07010182e-06]\n",
      "[17:32:05] Params: {'init_stdev': 0.001005121107794669, 'step_size': 0.04506042478497887, 'l2_reg_w': 1.3973765773098671e-05, 'rank': 62, 'l2_reg_V': 2.247933058217634e-05, 'n_iter': 4827} => AUC: 0.571455, Results: [1.05436164e-05 5.74105668e-05 2.87590997e-04 ... 1.48892294e-02\n",
      " 3.41609121e-03 5.95561832e-05]\n",
      "[17:32:43] Params: {'init_stdev': 0.0014760631848020236, 'step_size': 0.10931862692426077, 'l2_reg_w': 8.528570825923875e-05, 'rank': 113, 'l2_reg_V': 0.00853389990113791, 'n_iter': 2141} => AUC: 0.570761, Results: [0.00010959 0.00178877 0.00944281 ... 0.05809969 0.02578379 0.00280062]\n",
      "[17:33:02] Params: {'init_stdev': 0.002577588211934276, 'step_size': 0.07500672030556411, 'l2_reg_w': 0.00018924441448147072, 'rank': 41, 'l2_reg_V': 0.0011299016475085231, 'n_iter': 9973} => AUC: 0.561351, Results: [0.00041502 0.00019096 0.00108538 ... 0.03832885 0.06405038 0.00400725]\n",
      "[17:36:24] Params: {'init_stdev': 0.0020437649514336133, 'step_size': 0.12384416477758993, 'l2_reg_w': 0.0047624560616843096, 'rank': 719, 'l2_reg_V': 0.0002819888657282007, 'n_iter': 431} => AUC: 0.511411, Results: [1.21691206e-04 5.50324930e-04 7.08882560e-04 ... 5.22594203e-04\n",
      " 9.61995864e-05 4.35485627e-04]\n",
      "[17:36:56] Params: {'init_stdev': 0.004474978890146176, 'step_size': 0.16024307789216555, 'l2_reg_w': 5.4524512905629334e-05, 'rank': 90, 'l2_reg_V': 0.03861297361414547, 'n_iter': 8344} => AUC: 0.529524, Results: [6.47328958e-05 3.38186788e-06 2.90785460e-05 ... 1.72848190e-03\n",
      " 5.03100857e-03 9.68883696e-04]\n",
      "[17:38:08] Params: {'init_stdev': 0.002239352339444279, 'step_size': 0.07220451197907016, 'l2_reg_w': 0.00029960974662884235, 'rank': 237, 'l2_reg_V': 0.00019775783177105878, 'n_iter': 3074} => AUC: 0.563857, Results: [1.53645279e-05 9.38718718e-04 1.87820501e-03 ... 1.84785047e-02\n",
      " 8.39126290e-03 6.85023484e-04]\n",
      "[17:38:30] Params: {'init_stdev': 0.0016463323037967062, 'step_size': 0.14118846408963948, 'l2_reg_w': 0.0016938275305064716, 'rank': 51, 'l2_reg_V': 7.331559840038142e-05, 'n_iter': 5995} => AUC: 0.531522, Results: [1.87258212e-04 1.02683805e-06 5.07909472e-04 ... 4.06535912e-03\n",
      " 7.67485690e-03 5.12302695e-04]\n",
      "[17:40:02] Params: {'init_stdev': 0.0012636274594640205, 'step_size': 0.05509365796250107, 'l2_reg_w': 0.0005677590732611311, 'rank': 312, 'l2_reg_V': 0.0006872738914403076, 'n_iter': 1364} => AUC: 0.535852, Results: [8.63773101e-05 1.11932038e-04 1.52277789e-03 ... 7.10509190e-04\n",
      " 1.53709177e-04 4.57218683e-05]\n",
      "[17:40:55] Params: {'init_stdev': 0.38512885430171867, 'step_size': 0.18704991018361017, 'l2_reg_w': 1.9858272793573685e-05, 'rank': 171, 'l2_reg_V': 4.0477168071749246e-05, 'n_iter': 4689} => AUC: 0.524719, Results: [0. 0. 0. ... 1. 1. 0.]\n",
      "[17:41:24] Params: {'init_stdev': 0.004034121683921439, 'step_size': 0.24632426970218554, 'l2_reg_w': 0.00010748509641362327, 'rank': 78, 'l2_reg_V': 1.4624531025753591e-05, 'n_iter': 15} => AUC: 0.501453, Results: [0.00340653 0.00396482 0.01595522 ... 0.00904937 0.00274286 0.00233873]\n",
      "[17:42:11] Params: {'init_stdev': 0.0027634905023669323, 'step_size': 0.02252395895016601, 'l2_reg_w': 0.0010302443975347137, 'rank': 142, 'l2_reg_V': 0.0024298360026453474, 'n_iter': 1643} => AUC: 0.523706, Results: [4.58941469e-05 1.06085754e-04 1.33273790e-03 ... 4.13352764e-04\n",
      " 1.40561974e-04 4.36912605e-05]\n"
     ]
    },
    {
     "name": "stdout",
     "output_type": "stream",
     "text": [
      "[17:42:31] Params: {'init_stdev': 0.00304352145838831, 'step_size': 0.049876553518559526, 'l2_reg_w': 2.630422268636883e-05, 'rank': 44, 'l2_reg_V': 0.5063282890280317, 'n_iter': 1112} => AUC: 0.550764, Results: [0.00215332 0.00472257 0.0090863  ... 0.01009239 0.00289931 0.00212364]\n",
      "[17:43:12] Params: {'init_stdev': 0.0019449752192340721, 'step_size': 0.12994648369137676, 'l2_reg_w': 0.0023825971540608385, 'rank': 125, 'l2_reg_V': 0.00016138917511617136, 'n_iter': 3597} => AUC: 0.552697, Results: [3.40174460e-05 1.01916805e-04 1.64254075e-03 ... 3.78568761e-02\n",
      " 2.15012527e-02 2.74733872e-04]\n",
      "[17:45:59] Params: {'init_stdev': 0.003695932821164248, 'step_size': 0.10030394870056308, 'l2_reg_w': 4.558241958837272e-05, 'rank': 589, 'l2_reg_V': 0.00043113060235668824, 'n_iter': 2386} => AUC: 0.561898, Results: [9.74251548e-06 5.97249797e-05 1.79362579e-03 ... 6.80312923e-03\n",
      " 2.15148986e-03 6.41009816e-05]\n",
      "[17:46:33] Params: {'init_stdev': 0.0014384571073998243, 'step_size': 0.062246179610988474, 'l2_reg_w': 0.0002536253760161244, 'rank': 99, 'l2_reg_V': 0.004812186053069051, 'n_iter': 4221} => AUC: 0.566923, Results: [1.67745879e-05 6.06595849e-05 6.26344833e-04 ... 8.40601080e-03\n",
      " 3.62919289e-03 1.65415617e-04]\n",
      "[17:47:37] Params: {'init_stdev': 0.00481354501156912, 'step_size': 0.02884313458251296, 'l2_reg_w': 0.00016142986436347325, 'rank': 206, 'l2_reg_V': 0.2813623852730773, 'n_iter': 6772} => AUC: 0.545836, Results: [2.98164765e-04 4.59413698e-05 1.11649725e-03 ... 6.43297650e-03\n",
      " 5.30299471e-03 3.24830432e-04]\n",
      "[17:47:55] Params: {'init_stdev': 0.0018055566009077177, 'step_size': 0.17363380763495034, 'l2_reg_w': 0.0004288471308205857, 'rank': 38, 'l2_reg_V': 0.0011468798597373752, 'n_iter': 8567} => AUC: 0.520927, Results: [2.69093712e-06 6.49647710e-10 1.32942364e-06 ... 2.20562646e-05\n",
      " 8.65314534e-05 3.44296760e-04]\n",
      "[17:48:19] Params: {'init_stdev': 0.002315952630421888, 'step_size': 0.03576597687222537, 'l2_reg_w': 0.0007846478374224976, 'rank': 57, 'l2_reg_V': 0.028518960462793556, 'n_iter': 2694} => AUC: 0.558207, Results: [8.46574466e-05 6.46175592e-04 3.30308143e-03 ... 4.37017748e-03\n",
      " 1.75639542e-03 4.81207451e-04]\n",
      "[17:48:44] Params: {'init_stdev': 0.00111277918193119, 'step_size': 0.02033766025192918, 'l2_reg_w': 8.929977834947546e-05, 'rank': 61, 'l2_reg_V': 0.09424417341417463, 'n_iter': 5473} => AUC: 0.570772, Results: [0.00170712 0.00285059 0.00803925 ... 0.04027001 0.01818921 0.00381163]\n"
     ]
    },
    {
     "name": "stderr",
     "output_type": "stream",
     "text": [
      "/usr/local/lib/python3.5/dist-packages/scipy/stats/_distn_infrastructure.py:879: RuntimeWarning: invalid value encountered in greater\n",
      "  return (self.a < x) & (x < self.b)\n",
      "/usr/local/lib/python3.5/dist-packages/scipy/stats/_distn_infrastructure.py:879: RuntimeWarning: invalid value encountered in less\n",
      "  return (self.a < x) & (x < self.b)\n",
      "/usr/local/lib/python3.5/dist-packages/scipy/stats/_distn_infrastructure.py:1738: RuntimeWarning: invalid value encountered in greater_equal\n",
      "  cond2 = (x >= self.b) & cond0\n"
     ]
    },
    {
     "name": "stdout",
     "output_type": "stream",
     "text": [
      "[17:48:57] Params: {'init_stdev': 0.0016401181912821527, 'step_size': 0.21642740660170764, 'l2_reg_w': 1678.868911582589, 'rank': 30, 'l2_reg_V': 1.01250444519946e-05, 'n_iter': 824} => Failed\n",
      "[17:49:28] Params: {'init_stdev': 0.0032394525510419762, 'step_size': 0.02561642367985026, 'l2_reg_w': 0.0038166683214010126, 'rank': 84, 'l2_reg_V': 0.012017662347486937, 'n_iter': 205} => AUC: 0.490559, Results: [0.00524352 0.00601473 0.02029258 ... 0.00841537 0.00499218 0.00400707]\n",
      "[17:49:55] Params: {'init_stdev': 0.9686499625134887, 'step_size': 0.01841761710954504, 'l2_reg_w': 1.3668893890031517e-05, 'rank': 74, 'l2_reg_V': 2.3751897352945402e-05, 'n_iter': 2012} => AUC: 0.514537, Results: [0.00000000e+000 0.00000000e+000 0.00000000e+000 ... 5.00986369e-027\n",
      " 1.83579112e-258 1.43434484e-083]\n",
      "[17:50:34] Params: {'init_stdev': 0.005848019355362997, 'step_size': 0.08409295373597579, 'l2_reg_w': 3.211873258045e-05, 'rank': 114, 'l2_reg_V': 0.00011848045235715968, 'n_iter': 3435} => AUC: 0.572518, Results: [0.0015115  0.00452806 0.02044829 ... 0.22083632 0.21063241 0.00812158]\n",
      "[17:51:26] Params: {'init_stdev': 0.007943773251846652, 'step_size': 0.08250438284314136, 'l2_reg_w': 2.403677960658247e-05, 'rank': 162, 'l2_reg_V': 1.0215784738855189e-05, 'n_iter': 1446} => AUC: 0.540837, Results: [5.57732519e-05 1.73752899e-04 2.14194203e-03 ... 4.84407985e-04\n",
      " 1.27532742e-04 5.92709478e-05]\n",
      "[17:52:43] Params: {'init_stdev': 0.0027580431168831242, 'step_size': 0.07436800868443448, 'l2_reg_w': 1.0301067358835307e-05, 'rank': 259, 'l2_reg_V': 0.16920652212315124, 'n_iter': 1137} => AUC: 0.545293, Results: [0.00519524 0.00666097 0.01480971 ... 0.01703766 0.00523919 0.00346522]\n",
      "[17:53:31] Params: {'init_stdev': 0.006250881300413351, 'step_size': 0.06848376899368665, 'l2_reg_w': 1.5103450320675957e-05, 'rank': 147, 'l2_reg_V': 7.44744106823335e-05, 'n_iter': 641} => AUC: 0.547762, Results: [0.0003393  0.00172444 0.00204173 ... 0.0032265  0.00147408 0.00079126]\n",
      "[17:54:30] Params: {'init_stdev': 0.0013133861997700988, 'step_size': 0.10484256761093484, 'l2_reg_w': 3.6192178298390383e-05, 'rank': 188, 'l2_reg_V': 2.9970570492088655e-05, 'n_iter': 1842} => AUC: 0.549307, Results: [3.18373295e-05 8.75458945e-04 6.47738634e-03 ... 3.88154665e-03\n",
      " 1.38847600e-03 4.99753614e-04]\n"
     ]
    },
    {
     "name": "stderr",
     "output_type": "stream",
     "text": [
      "/usr/local/lib/python3.5/dist-packages/scipy/stats/_distn_infrastructure.py:879: RuntimeWarning: invalid value encountered in greater\n",
      "  return (self.a < x) & (x < self.b)\n",
      "/usr/local/lib/python3.5/dist-packages/scipy/stats/_distn_infrastructure.py:879: RuntimeWarning: invalid value encountered in less\n",
      "  return (self.a < x) & (x < self.b)\n",
      "/usr/local/lib/python3.5/dist-packages/scipy/stats/_distn_infrastructure.py:1738: RuntimeWarning: invalid value encountered in greater_equal\n",
      "  cond2 = (x >= self.b) & cond0\n"
     ]
    },
    {
     "name": "stdout",
     "output_type": "stream",
     "text": [
      "[17:55:10] Params: {'init_stdev': 0.0055478665796153985, 'step_size': 0.08908099743151304, 'l2_reg_w': 457.97952006561354, 'rank': 132, 'l2_reg_V': 1.6890024672986303e-05, 'n_iter': 931} => Failed\n",
      "[17:55:47] Params: {'init_stdev': 0.0010025903789707012, 'step_size': 0.08083480828753492, 'l2_reg_w': 1.0314540894479361e-05, 'rank': 105, 'l2_reg_V': 1.0063286657994081e-05, 'n_iter': 1586} => AUC: 0.536496, Results: [2.71417393e-05 5.27687113e-05 1.57922619e-03 ... 2.93693402e-04\n",
      " 1.30706451e-04 1.65394818e-05]\n",
      "[17:56:27] Params: {'init_stdev': 0.0023788524008667967, 'step_size': 0.11583378440064208, 'l2_reg_w': 2.3846793417384068e-05, 'rank': 117, 'l2_reg_V': 4.916186393253919e-05, 'n_iter': 2222} => AUC: 0.571720, Results: [1.50938349e-06 1.76420301e-05 4.94897698e-04 ... 5.95964580e-03\n",
      " 4.42020754e-03 8.90597514e-05]\n",
      "[17:57:35] Params: {'init_stdev': 0.0036539471640801508, 'step_size': 0.06162210471509808, 'l2_reg_w': 1.0264830754437737e-05, 'rank': 222, 'l2_reg_V': 0.389229476139223, 'n_iter': 3025} => AUC: 0.564476, Results: [1.02048600e-05 5.70989996e-04 1.82774790e-03 ... 1.43795669e-02\n",
      " 3.82553312e-03 2.14093296e-04]\n",
      "[17:58:26] Params: {'init_stdev': 0.002014528745437495, 'step_size': 0.09363910268905772, 'l2_reg_w': 6.040816982309131e-05, 'rank': 159, 'l2_reg_V': 1.5275342646500087e-05, 'n_iter': 1394} => AUC: 0.541460, Results: [0.00012549 0.00023899 0.00378648 ... 0.001102   0.0002995  0.00012982]\n",
      "[17:59:44] Params: {'init_stdev': 0.006795730225393677, 'step_size': 0.07735867355941178, 'l2_reg_w': 1.6354908753781972e-05, 'rank': 260, 'l2_reg_V': 0.00010468396601112415, 'n_iter': 2543} => AUC: 0.557260, Results: [1.13802741e-05 1.25445878e-04 2.80488902e-03 ... 4.71947006e-03\n",
      " 9.21838493e-04 2.22568274e-04]\n",
      "[18:00:25] Params: {'init_stdev': 0.0011441726229654353, 'step_size': 0.09829121066452742, 'l2_reg_w': 3.3678446646694265e-05, 'rank': 121, 'l2_reg_V': 3.466322308273655e-05, 'n_iter': 1859} => AUC: 0.553448, Results: [4.50756096e-05 1.36997823e-03 6.85642149e-03 ... 6.33602536e-03\n",
      " 2.83369567e-03 9.35010843e-04]\n",
      "[18:00:58] Params: {'init_stdev': 0.00149534878445138, 'step_size': 0.07065685705504925, 'l2_reg_w': 6.0215954556085595e-05, 'rank': 95, 'l2_reg_V': 2.0927166973108972e-05, 'n_iter': 3380} => AUC: 0.567078, Results: [3.88858362e-05 3.45412276e-04 2.75266696e-03 ... 1.61880375e-02\n",
      " 1.44971656e-02 5.00531973e-04]\n",
      "[18:01:57] Params: {'init_stdev': 0.0031563215988342553, 'step_size': 0.056848724820837984, 'l2_reg_w': 3.236632323573631e-05, 'rank': 191, 'l2_reg_V': 5.49477946435059e-05, 'n_iter': 786} => AUC: 0.551724, Results: [0.00130049 0.00346719 0.00295595 ... 0.00804362 0.00600893 0.00285489]\n",
      "[18:02:29] Params: {'init_stdev': 0.008491425594161543, 'step_size': 0.08969548517207568, 'l2_reg_w': 9.761388039790753e-05, 'rank': 88, 'l2_reg_V': 0.7250646727365598, 'n_iter': 1041} => AUC: 0.561966, Results: [0.00051286 0.00162717 0.00140425 ... 0.0158888  0.00239285 0.00097873]\n",
      "[18:04:20] Params: {'init_stdev': 0.0017740676593618818, 'step_size': 0.11050735861458219, 'l2_reg_w': 2.0392663777937177e-05, 'rank': 384, 'l2_reg_V': 9.71715074001278e-05, 'n_iter': 2257} => AUC: 0.561997, Results: [1.83490511e-05 7.48115968e-05 1.97578672e-03 ... 6.25971187e-03\n",
      " 5.14133224e-03 7.91475921e-04]\n",
      "[18:05:51] Params: {'init_stdev': 0.004629042877683653, 'step_size': 0.08680325853244968, 'l2_reg_w': 5.2348186506540776e-05, 'rank': 310, 'l2_reg_V': 3.877710452293337e-05, 'n_iter': 2850} => AUC: 0.563823, Results: [5.60483709e-05 7.17773252e-03 9.16174447e-03 ... 9.91777232e-02\n",
      " 3.92929350e-02 3.52065598e-03]\n",
      "[18:06:28] Params: {'init_stdev': 0.004134852332139249, 'step_size': 0.1256847634105194, 'l2_reg_w': 1.099970102991457e-05, 'rank': 107, 'l2_reg_V': 1.5810375123757536e-05, 'n_iter': 3818} => AUC: 0.563892, Results: [3.17305844e-05 8.39551345e-05 3.74074784e-04 ... 8.18267816e-02\n",
      " 4.21780592e-02 2.39780121e-04]\n",
      "[18:07:14] Params: {'init_stdev': 0.0025752927297925704, 'step_size': 0.07153089403324996, 'l2_reg_w': 0.00010412712932414349, 'rank': 141, 'l2_reg_V': 2.5655265618098352e-05, 'n_iter': 487} => AUC: 0.510712, Results: [1.24482840e-04 2.76791275e-04 7.58731258e-04 ... 2.91370849e-04\n",
      " 7.78507559e-05 1.29688092e-04]\n",
      "[18:07:40] Params: {'init_stdev': 0.0020285549210950476, 'step_size': 0.14181562153919466, 'l2_reg_w': 1.589518618650229e-05, 'rank': 69, 'l2_reg_V': 0.05325471609824332, 'n_iter': 1325} => AUC: 0.530497, Results: [1.27599084e-04 6.27359893e-05 3.66303083e-03 ... 4.82938300e-04\n",
      " 5.39494918e-05 2.90512572e-05]\n",
      "[18:08:37] Params: {'init_stdev': 0.0015422223479828157, 'step_size': 0.105747191592197, 'l2_reg_w': 3.634945889660202e-05, 'rank': 181, 'l2_reg_V': 6.493745499040389e-05, 'n_iter': 1828} => AUC: 0.549549, Results: [9.35314662e-05 2.00764001e-03 1.17728330e-02 ... 8.14672880e-03\n",
      " 3.27304296e-03 1.17708582e-03]\n",
      "[18:09:07] Params: {'init_stdev': 0.0012616368144963786, 'step_size': 0.06504227179192834, 'l2_reg_w': 0.000142939737417885, 'rank': 84, 'l2_reg_V': 0.00017486365398532803, 'n_iter': 4248} => AUC: 0.561066, Results: [3.21886771e-05 5.33072031e-05 6.51051013e-04 ... 5.65763300e-03\n",
      " 2.70451229e-03 1.43807158e-04]\n",
      "[18:09:50] Params: {'init_stdev': 0.00355084241851091, 'step_size': 0.07952791238812162, 'l2_reg_w': 6.31313911484283e-05, 'rank': 129, 'l2_reg_V': 0.00025216421374714177, 'n_iter': 581} => AUC: 0.529977, Results: [0.00036665 0.00124698 0.00136286 ... 0.00126749 0.00070862 0.00073378]\n",
      "[18:10:16] Params: {'init_stdev': 0.002222376133754706, 'step_size': 0.11970389667468767, 'l2_reg_w': 2.5060701432942532e-05, 'rank': 68, 'l2_reg_V': 9.935803453092514e-05, 'n_iter': 3426} => AUC: 0.570110, Results: [9.95582216e-05 3.72975865e-04 3.33946683e-03 ... 9.79418194e-02\n",
      " 9.65136702e-02 7.02764744e-04]\n",
      "[18:10:53] Params: {'init_stdev': 0.001742918049828533, 'step_size': 0.050899012986527783, 'l2_reg_w': 0.00021255289281751032, 'rank': 108, 'l2_reg_V': 0.11798842934078149, 'n_iter': 2731} => AUC: 0.560212, Results: [0.00120488 0.01462651 0.02704437 ... 0.04617988 0.02642969 0.01002526]\n",
      "[18:12:00] Params: {'init_stdev': 0.005450941489052713, 'step_size': 0.09967556957748668, 'l2_reg_w': 4.5760093293948036e-05, 'rank': 218, 'l2_reg_V': 0.0001342674919900276, 'n_iter': 2295} => AUC: 0.561382, Results: [3.12222265e-06 1.74925577e-05 6.20570420e-04 ... 1.63805821e-03\n",
      " 1.16266267e-03 1.66549811e-04]\n",
      "[18:12:50] Params: {'init_stdev': 0.002928251810062448, 'step_size': 0.13476927005319483, 'l2_reg_w': 8.660527524454663e-05, 'rank': 159, 'l2_reg_V': 4.8780021153242254e-05, 'n_iter': 4555} => AUC: 0.548302, Results: [2.92361607e-07 1.07927576e-06 6.91088925e-06 ... 5.44243562e-03\n",
      " 5.10889860e-04 2.85512969e-05]\n",
      "[18:13:24] Params: {'init_stdev': 0.002482106813332397, 'step_size': 0.08467190146911144, 'l2_reg_w': 0.0002607559854630941, 'rank': 93, 'l2_reg_V': 1.4690322645770896e-05, 'n_iter': 1610} => AUC: 0.536490, Results: [1.20208645e-05 2.57045684e-05 1.01034345e-03 ... 1.65403668e-04\n",
      " 7.09062597e-05 7.68983789e-06]\n",
      "[18:13:46] Params: {'init_stdev': 0.25417899490447304, 'step_size': 0.15422575867044638, 'l2_reg_w': 0.0001325918184788555, 'rank': 52, 'l2_reg_V': 0.19586436475569752, 'n_iter': 3349} => AUC: 0.554647, Results: [3.35574562e-06 4.02155077e-05 1.78770253e-03 ... 1.64843795e-02\n",
      " 3.32224190e-02 5.81991904e-03]\n"
     ]
    },
    {
     "name": "stderr",
     "output_type": "stream",
     "text": [
      "/usr/local/lib/python3.5/dist-packages/scipy/stats/_distn_infrastructure.py:879: RuntimeWarning: invalid value encountered in greater\n",
      "  return (self.a < x) & (x < self.b)\n",
      "/usr/local/lib/python3.5/dist-packages/scipy/stats/_distn_infrastructure.py:879: RuntimeWarning: invalid value encountered in less\n",
      "  return (self.a < x) & (x < self.b)\n",
      "/usr/local/lib/python3.5/dist-packages/scipy/stats/_distn_infrastructure.py:1738: RuntimeWarning: invalid value encountered in greater_equal\n",
      "  cond2 = (x >= self.b) & cond0\n"
     ]
    },
    {
     "name": "stdout",
     "output_type": "stream",
     "text": [
      "[18:15:06] Params: {'init_stdev': 0.0010130195529530117, 'step_size': 0.06093911672057654, 'l2_reg_w': 39738.38078791644, 'rank': 280, 'l2_reg_V': 3.4105503225349276e-05, 'n_iter': 1237} => Failed\n",
      "[18:15:46] Params: {'init_stdev': 0.007389597201360314, 'step_size': 0.11940405252758365, 'l2_reg_w': 1.0020628164925667e-05, 'rank': 118, 'l2_reg_V': 0.00030190437626853085, 'n_iter': 5370} => AUC: 0.536429, Results: [2.45556470e-04 6.50195399e-05 7.71401053e-04 ... 1.20036306e-02\n",
      " 7.05913400e-03 3.06357315e-03]\n"
     ]
    },
    {
     "name": "stderr",
     "output_type": "stream",
     "text": [
      "/usr/local/lib/python3.5/dist-packages/scipy/stats/_distn_infrastructure.py:879: RuntimeWarning: invalid value encountered in greater\n",
      "  return (self.a < x) & (x < self.b)\n",
      "/usr/local/lib/python3.5/dist-packages/scipy/stats/_distn_infrastructure.py:879: RuntimeWarning: invalid value encountered in less\n",
      "  return (self.a < x) & (x < self.b)\n",
      "/usr/local/lib/python3.5/dist-packages/scipy/stats/_distn_infrastructure.py:1738: RuntimeWarning: invalid value encountered in greater_equal\n",
      "  cond2 = (x >= self.b) & cond0\n"
     ]
    },
    {
     "name": "stdout",
     "output_type": "stream",
     "text": [
      "[18:17:46] Params: {'init_stdev': 0.004145812881595208, 'step_size': 0.09637868577269963, 'l2_reg_w': 35.345141953551796, 'rank': 433, 'l2_reg_V': 2.0572865657278406e-05, 'n_iter': 2082} => Failed\n",
      "[18:18:17] Params: {'init_stdev': 0.001365999597512276, 'step_size': 0.07141134030898169, 'l2_reg_w': 1.6730614319367115e-05, 'rank': 83, 'l2_reg_V': 0.00015770555679484993, 'n_iter': 2754} => AUC: 0.559191, Results: [0.00047295 0.0135976  0.02065992 ... 0.05527403 0.02924705 0.00837817]\n",
      "[18:18:44] Params: {'init_stdev': 0.0011591139964668875, 'step_size': 0.05253663637303801, 'l2_reg_w': 2.8240906410690554e-05, 'rank': 72, 'l2_reg_V': 1.0955584816998021e-05, 'n_iter': 328} => AUC: 0.498499, Results: [0.00119786 0.00193348 0.00406506 ... 0.00242293 0.00095589 0.00061448]\n",
      "[18:20:25] Params: {'init_stdev': 0.0020663896054916417, 'step_size': 0.11179307219092342, 'l2_reg_w': 6.971227989875099e-05, 'rank': 342, 'l2_reg_V': 6.439887944520118e-05, 'n_iter': 1585} => AUC: 0.534874, Results: [2.31742154e-05 4.27204854e-05 2.12889324e-03 ... 2.28088887e-04\n",
      " 1.34982992e-04 1.29674654e-05]\n",
      "[18:20:49] Params: {'init_stdev': 0.0010057687322807148, 'step_size': 0.07741871219425761, 'l2_reg_w': 0.00015275256280967926, 'rank': 62, 'l2_reg_V': 1.0450887705439914e-05, 'n_iter': 3958} => AUC: 0.565802, Results: [0.00011046 0.00016833 0.001944   ... 0.04055384 0.02135404 0.00038602]\n",
      "[18:21:37] Params: {'init_stdev': 0.00318259296992097, 'step_size': 0.09114543335463753, 'l2_reg_w': 4.4831278706583086e-05, 'rank': 148, 'l2_reg_V': 0.00034051321885650423, 'n_iter': 1051} => AUC: 0.560885, Results: [0.00030165 0.00100624 0.00082929 ... 0.01105213 0.00149747 0.00057088]\n",
      "[18:22:47] Params: {'init_stdev': 0.009264846864379749, 'step_size': 0.06420734015588615, 'l2_reg_w': 1.0440443961198064e-05, 'rank': 235, 'l2_reg_V': 9.930378245019319e-05, 'n_iter': 3119} => AUC: 0.571554, Results: [6.89677101e-05 1.61713570e-03 3.43825827e-03 ... 4.04118085e-02\n",
      " 2.46594831e-02 1.44965684e-03]\n",
      "[18:23:20] Params: {'init_stdev': 0.0026555635066621724, 'step_size': 0.3326841353751375, 'l2_reg_w': 0.00029130206224505786, 'rank': 99, 'l2_reg_V': 2.6674700004379405e-05, 'n_iter': 4393} => AUC: 0.485122, Results: [1. 0. 1. ... 0. 0. 0.]\n",
      "[18:24:22] Params: {'init_stdev': 0.010765500881794265, 'step_size': 0.15040158561774475, 'l2_reg_w': 9.751078670235165e-05, 'rank': 200, 'l2_reg_V': 0.02366370627725386, 'n_iter': 5475} => AUC: 0.520853, Results: [1.93505114e-03 1.65245363e-05 2.56266230e-03 ... 1.47362105e-02\n",
      " 1.43692838e-03 1.48828928e-03]\n",
      "[18:24:45] Params: {'init_stdev': 0.0015418386272314352, 'step_size': 0.1303090304522002, 'l2_reg_w': 0.0003921364537682637, 'rank': 57, 'l2_reg_V': 0.07576278739060874, 'n_iter': 2365} => AUC: 0.556540, Results: [3.49412152e-07 1.84343514e-06 3.25822688e-04 ... 3.51500809e-04\n",
      " 2.40462409e-04 1.10519526e-05]\n",
      "[18:25:26] Params: {'init_stdev': 0.0063482966703900376, 'step_size': 0.1048105071971706, 'l2_reg_w': 1.7002530540442525e-05, 'rank': 128, 'l2_reg_V': 0.27414300859316854, 'n_iter': 857} => AUC: 0.551752, Results: [0.00694788 0.0049986  0.00422937 ... 0.03995431 0.04009976 0.01407773]\n",
      "[18:25:47] Params: {'init_stdev': 0.0018495080667676194, 'step_size': 0.16514300074002197, 'l2_reg_w': 0.00018738839883449232, 'rank': 48, 'l2_reg_V': 0.0423054202900771, 'n_iter': 6723} => AUC: 0.516161, Results: [6.01641005e-05 1.34421032e-07 3.58500234e-05 ... 2.45541905e-03\n",
      " 3.26967155e-03 2.65870153e-05]\n",
      "[18:26:16] Params: {'init_stdev': 0.0034226729622025146, 'step_size': 0.08445918622071823, 'l2_reg_w': 1.0504362886012158e-05, 'rank': 77, 'l2_reg_V': 1.033179017262866e-05, 'n_iter': 3909} => AUC: 0.559712, Results: [3.27716383e-05 4.11272855e-05 8.20825415e-04 ... 2.48050859e-02\n",
      " 1.07098096e-02 7.02385174e-05]\n",
      "[18:27:14] Params: {'init_stdev': 0.0044036436465915265, 'step_size': 0.19858976678239357, 'l2_reg_w': 5.9265177161418965, 'rank': 186, 'l2_reg_V': 0.8746058551645339, 'n_iter': 3} => AUC: 0.541748, Results: [0.22833885 0.30404253 0.28249155 ... 0.34921388 0.3157257  0.29560812]\n",
      "[18:27:48] Params: {'init_stdev': 0.001192161358214745, 'step_size': 0.0474000883210226, 'l2_reg_w': 0.000682151608737551, 'rank': 97, 'l2_reg_V': 0.00021158848347159712, 'n_iter': 1867} => AUC: 0.551575, Results: [4.78509925e-05 4.23929972e-04 2.71677847e-03 ... 1.86587802e-03\n",
      " 6.85400415e-04 2.26436231e-04]\n",
      "[18:28:08] Params: {'init_stdev': 0.0022003977776190076, 'step_size': 0.07350798858171172, 'l2_reg_w': 4.5648665724312286e-05, 'rank': 44, 'l2_reg_V': 5.281731629530673e-05, 'n_iter': 3302} => AUC: 0.569246, Results: [2.00507856e-06 5.02133282e-05 3.56178383e-04 ... 5.33702307e-03\n",
      " 3.21973979e-03 3.31113757e-05]\n",
      "[18:28:33] Params: {'init_stdev': 0.005180046460726031, 'step_size': 0.0953506052362789, 'l2_reg_w': 2.4478528824952366e-05, 'rank': 64, 'l2_reg_V': 0.0004214478475931858, 'n_iter': 4817} => AUC: 0.563591, Results: [3.07428866e-07 2.25335825e-06 1.23950351e-05 ... 1.19388870e-02\n",
      " 1.43284165e-03 4.53186212e-06]\n",
      "[18:29:18] Params: {'init_stdev': 0.0013258760759884, 'step_size': 0.11928704637424693, 'l2_reg_w': 7.138148266407609e-05, 'rank': 128, 'l2_reg_V': 0.00013404737027780585, 'n_iter': 2675} => AUC: 0.552540, Results: [1.87340074e-05 3.28566724e-04 5.77082999e-03 ... 7.01743489e-03\n",
      " 2.76859755e-03 7.21053165e-04]\n",
      "[18:30:03] Params: {'init_stdev': 0.0016315944383080505, 'step_size': 0.1431560007104994, 'l2_reg_w': 0.0011945371205099747, 'rank': 110, 'l2_reg_V': 0.0006924664243409401, 'n_iter': 1267} => AUC: 0.533769, Results: [0.00053255 0.00016973 0.00328051 ... 0.0012663  0.00042769 0.00020366]\n",
      "[18:30:40] Params: {'init_stdev': 0.003885396793730938, 'step_size': 0.05725582077420292, 'l2_reg_w': 0.00014964398628956077, 'rank': 88, 'l2_reg_V': 0.007305519250296127, 'n_iter': 2116} => AUC: 0.570437, Results: [0.0003313  0.00212368 0.01041919 ... 0.02739821 0.01052375 0.00237685]\n",
      "[18:31:40] Params: {'init_stdev': 0.0026116263118630308, 'step_size': 0.06939335437424274, 'l2_reg_w': 0.00029842205930615424, 'rank': 159, 'l2_reg_V': 3.8528568340921974e-05, 'n_iter': 79} => AUC: 0.505506, Results: [0.00415272 0.00838779 0.01735246 ... 0.01071921 0.00537617 0.00310229]\n",
      "[18:33:13] Params: {'init_stdev': 0.0010116522613587411, 'step_size': 0.11333839191396464, 'l2_reg_w': 3.259445818407638e-05, 'rank': 258, 'l2_reg_V': 2.2679130190577175e-05, 'n_iter': 1} => AUC: 0.491044, Results: [0.43108435 0.40946908 0.43347776 ... 0.41015804 0.41049156 0.41029559]\n",
      "[18:33:40] Params: {'init_stdev': 0.0014341856166254065, 'step_size': 0.08058228623470874, 'l2_reg_w': 11.385981371288334, 'rank': 54, 'l2_reg_V': 0.015516199936583529, 'n_iter': 5850} => AUC: 0.518569, Results: [0.00116443 0.00116385 0.00116213 ... 0.00151013 0.00116512 0.00117782]\n",
      "[18:34:15] Params: {'init_stdev': 0.0019284877735712572, 'step_size': 0.17452086013305027, 'l2_reg_w': 0.0016676530326708763, 'rank': 76, 'l2_reg_V': 7.593414587541394e-05, 'n_iter': 7063} => AUC: 0.523098, Results: [3.16872402e-06 3.58420302e-07 5.42882664e-07 ... 6.01165769e-04\n",
      " 8.24796732e-04 7.52603343e-05]\n",
      "[18:35:21] Params: {'init_stdev': 0.006003275506434833, 'step_size': 0.13157053293334098, 'l2_reg_w': 1.0418515554882962e-05, 'rank': 173, 'l2_reg_V': 0.0012224420305505643, 'n_iter': 1591} => AUC: 0.534070, Results: [1.39627253e-05 2.76792032e-05 2.02351875e-03 ... 1.51865433e-04\n",
      " 1.21916304e-04 8.47916176e-06]\n",
      "[18:35:44] Params: {'init_stdev': 0.003096518240244081, 'step_size': 0.10434435625871173, 'l2_reg_w': 0.0004967935189701764, 'rank': 40, 'l2_reg_V': 0.003363672097298644, 'n_iter': 3646} => AUC: 0.559307, Results: [3.51776256e-06 2.88395782e-05 6.69032634e-04 ... 2.81792923e-02\n",
      " 8.56844750e-03 8.57016478e-05]\n",
      "[18:38:31] Params: {'init_stdev': 0.002320783717821519, 'step_size': 0.05937829673019067, 'l2_reg_w': 0.00010580865996894999, 'rank': 488, 'l2_reg_V': 0.00025756052163566364, 'n_iter': 116} => AUC: 0.481939, Results: [0.00469138 0.00503983 0.01590771 ... 0.00468862 0.00188992 0.00161639]\n",
      "[18:39:03] Params: {'init_stdev': 0.008621388361910908, 'step_size': 0.08969336372092092, 'l2_reg_w': 0.00021982510895384604, 'rank': 70, 'l2_reg_V': 0.0004844640647832946, 'n_iter': 2726} => AUC: 0.556517, Results: [0.00218445 0.0418318  0.04363126 ... 0.12820709 0.08800271 0.03622706]\n"
     ]
    },
    {
     "name": "stdout",
     "output_type": "stream",
     "text": [
      "[18:39:58] Params: {'init_stdev': 0.007536014455713216, 'step_size': 0.05449053037761237, 'l2_reg_w': 6.1994643364121e-05, 'rank': 141, 'l2_reg_V': 1.4802012927994585e-05, 'n_iter': 5035} => AUC: 0.571266, Results: [2.21169638e-05 1.17465927e-04 1.60039104e-04 ... 1.96856144e-02\n",
      " 6.39360139e-03 2.30326308e-04]\n",
      "[18:40:44] Params: {'init_stdev': 0.0011614855245165021, 'step_size': 0.09451896234075992, 'l2_reg_w': 0.0009172608941607521, 'rank': 111, 'l2_reg_V': 0.00014218760792469737, 'n_iter': 404} => AUC: 0.503870, Results: [0.00014601 0.00045678 0.00073758 ... 0.0004919  0.00011769 0.00035809]\n"
     ]
    }
   ],
   "source": [
    "trials = Trials()\n",
    "best = fmin(objective,\n",
    "            space={\n",
    "                'n_iter': hp.loguniform('n_iter', 0, np.log(10000)),\n",
    "                'init_stdev': hp.loguniform('init_stdev', np.log(1e-3), 0),\n",
    "                'rank': hp.loguniform('rank', 0, np.log(1000)),\n",
    "                'l2_reg_w': hp.loguniform('l2_reg_w', np.log(1e-5), np.log(1e5)),\n",
    "                'l2_reg_V': hp.loguniform('l2_reg_V', np.log(1e-5), np.log(1e5)),\n",
    "                'step_size': hp.loguniform('step_size', np.log(1e-2), np.log(5e-1))\n",
    "            }，\n",
    "            algo=tpe.suggest,\n",
    "            max_evals=1000,\n",
    "            trials=trials)"
   ]
  },
  {
   "cell_type": "code",
   "execution_count": 38,
   "metadata": {
    "scrolled": true
   },
   "outputs": [
    {
     "name": "stdout",
     "output_type": "stream",
     "text": [
      "Best Attempt:\n",
      "{'loss': -0.5755815658707961, 'params': {'init_stdev': 0.002982592686381534, 'random_state': 123, 'step_size': 0.02435446907525723, 'l2_reg_w': 0.00025196049286158295, 'rank': 65, 'l2_reg_V': 0.00010766323454346008, 'n_iter': 5273, 'l2_reg': None}, 'status': 'ok'}\n"
     ]
    }
   ],
   "source": [
    "print(\"Best Attempt:\")\n",
    "print(trials.best_trial['result'])"
   ]
  },
  {
   "cell_type": "code",
   "execution_count": 46,
   "metadata": {},
   "outputs": [],
   "source": [
    "log_folder = \"../log/fm/params_tunning\"\n",
    "log_file = \"0501.csv\"\n",
    "log_path = os.path.join(log_folder, log_file)\n",
    "os.makedirs(log_folder, exist_ok=True)"
   ]
  },
  {
   "cell_type": "code",
   "execution_count": 54,
   "metadata": {},
   "outputs": [],
   "source": [
    "rows = []\n",
    "for result in trials.results:\n",
    "    row = {'auc': -result['loss']}\n",
    "    for k, v in result['params'].items():\n",
    "        row[k] = round(v, 7) if type(v) == float else v\n",
    "    rows.append(row)\n",
    "df_log = pd.DataFrame(rows)\n",
    "df_log = df_log.sort_values(\"auc\", ascending=False)"
   ]
  },
  {
   "cell_type": "code",
   "execution_count": 55,
   "metadata": {},
   "outputs": [],
   "source": [
    "df_log.to_csv(log_path, index=False)"
   ]
  },
  {
   "cell_type": "code",
   "execution_count": null,
   "metadata": {
    "scrolled": true
   },
   "outputs": [],
   "source": [
    "# print(\"[{}] Start training FM with SGD optimizer\".format(pu.get_time_str()))\n",
    "# with pu.profiler(\"training FM Classifier\"):\n",
    "#     fm = sgd.FMClassification(n_iter=100, init_stdev=0.1, l2_reg_w=0,\n",
    "#                               l2_reg_V=0, rank=20, step_size=0.1)\n",
    "#     fm.fit(X_train, y_train)\n",
    "#     proba_valid = fm.predict_proba(X_valid)\n",
    "#     print(\"AUC: {:.6f}\".format(metrics.roc_auc_score(y_valid, proba_valid)))"
   ]
  },
  {
   "cell_type": "code",
   "execution_count": null,
   "metadata": {},
   "outputs": [],
   "source": [
    "# On the whole dataset\n",
    "# problem found in FM: most value are either 1 or 0\n",
    "# 0.49674888197162625\n",
    "# 0.486489\n",
    "# 0.504014  # l2_reg_w=1, l2_reg_V=1 \n",
    "# 0.542916  # l2_reg_w=1, l2_reg_V=10  (n_iter=1000, rank=5, same below if not specified)\n",
    "# NaN       # l2_reg_w=1, l2_reg_V=100\n",
    "# 0.540082  # l2_reg_w=1, l2_reg_V=30\n",
    "# 0.539159  # l2_reg_w=1, l2_reg_V=20\n",
    "# 0.537865  # l2_reg_w=1, l2_reg_V=5\n",
    "# 0.510271  # l2_reg_w=1, l2_reg_V=10, n_iter=10000\n",
    "# 0.498640  # l2_reg_w=1, l2_reg_V=10, n_iter=100\n",
    "# 0.512793  # l2_reg_w=1, l2_reg_V=10, rank=10\n",
    "# 0.497214  # l2_reg_w=1, l2_reg_V=30, rank=10\n",
    "# 0.509446  # l2_reg_w=1, l2_reg_V=5, rank=10\n",
    "# 0.497834  # l2_reg_w=10, l2_reg_V=1, rank=5\n",
    "# 0.491871  # l2_reg_w=10, l2_reg_V=1, rank=5\n",
    "# 0.524053  # l2_reg_w=10, l2_reg_V=0.1, rank=20\n",
    "# 0.506883  # l2_reg_w=10, l2_reg_V=0.01, rank=20\n",
    "# 0.502137  # l2_reg_w=0, l2_reg_V=0, rank=20"
   ]
  }
 ],
 "metadata": {
  "kernelspec": {
   "display_name": "Python 3",
   "language": "python",
   "name": "python3"
  },
  "language_info": {
   "codemirror_mode": {
    "name": "ipython",
    "version": 3
   },
   "file_extension": ".py",
   "mimetype": "text/x-python",
   "name": "python",
   "nbconvert_exporter": "python",
   "pygments_lexer": "ipython3",
   "version": "3.5.2"
  }
 },
 "nbformat": 4,
 "nbformat_minor": 2
}
