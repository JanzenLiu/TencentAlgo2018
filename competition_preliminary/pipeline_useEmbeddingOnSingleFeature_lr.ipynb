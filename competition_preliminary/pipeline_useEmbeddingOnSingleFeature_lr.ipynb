{
 "cells": [
  {
   "cell_type": "code",
   "execution_count": 2,
   "metadata": {},
   "outputs": [],
   "source": [
    "from sklearn.model_selection import StratifiedKFold\n",
    "from sklearn.linear_model import LogisticRegression\n",
    "from sklearn import metrics\n",
    "from glove import Glove\n",
    "import scipy.sparse as sparse\n",
    "import pandas as pd\n",
    "import numpy as np\n",
    "import tqdm\n",
    "import gc\n",
    "import os\n",
    "import sys\n",
    "sys.path.append(\"../code/utils/\")\n",
    "sys.path.append(\"../code/analysis/\")\n",
    "sys.path.append('../code/pipeline/')\n",
    "sys.path.append('../code')\n",
    "import data_jointer as dj\n",
    "import eval_utils as eu\n",
    "import data_utils as du\n",
    "import perf_utils as pu\n",
    "import config"
   ]
  },
  {
   "cell_type": "code",
   "execution_count": 3,
   "metadata": {},
   "outputs": [],
   "source": [
    "emb_folder = os.path.join(config.DATA_DIR, \"embedding\")\n",
    "\n",
    "def avg_pooling_path(feat_name, version_no=1):\n",
    "    folder = os.path.join(emb_folder, \"[featureName='{}']\".format(feat_name))\n",
    "    file = \"train.avg_v{}.pkl\".format(version_no)\n",
    "    path = os.path.join(folder, file)\n",
    "    return path\n",
    "\n",
    "def max_pooling_path(feat_name, version_no=1):\n",
    "    folder = os.path.join(emb_folder, \"[featureName='{}']\".format(feat_name))\n",
    "    file = \"train.max_v{}.pkl\".format(version_no)\n",
    "    path = os.path.join(folder, file)\n",
    "    return path\n",
    "\n",
    "def min_pooling_path(feat_name, version_no=1):\n",
    "    folder = os.path.join(emb_folder, \"[featureName='{}']\".format(feat_name))\n",
    "    file = \"train.min_v{}.pkl\".format(version_no)\n",
    "    path = os.path.join(folder, file)\n",
    "    return path"
   ]
  },
  {
   "cell_type": "code",
   "execution_count": 4,
   "metadata": {},
   "outputs": [],
   "source": [
    "user_jointer = dj.PandasMatrixJointer(on=\"uid\")\n",
    "df_train = du.load_raw_data(\"train\")\n",
    "y = df_train['label'].values.copy()\n",
    "y = (y + 1) / 2"
   ]
  },
  {
   "cell_type": "code",
   "execution_count": 5,
   "metadata": {},
   "outputs": [],
   "source": [
    "n_splits = 5  # use 3 instead of 5 to save time\n",
    "skf = StratifiedKFold(n_splits=n_splits, random_state=2018)  # should set random_state\n",
    "split_indices = [(train_index, valid_index) for train_index, valid_index in skf.split(df_train, y)]"
   ]
  },
  {
   "cell_type": "code",
   "execution_count": 6,
   "metadata": {},
   "outputs": [],
   "source": [
    "def run_lr_on_embedding(feat_name, version_no=1):\n",
    "    print(\"Start '{}'\".format(feat_name))\n",
    "    # =========\n",
    "    # load data\n",
    "    # =========\n",
    "    col_names_avg, X_avg = du.load_pickle(avg_pooling_path(feat_name, version_no))\n",
    "    col_names_max, X_max = du.load_pickle(max_pooling_path(feat_name, version_no))\n",
    "    col_names_min, X_min = du.load_pickle(min_pooling_path(feat_name, version_no))\n",
    "\n",
    "    # =========\n",
    "    # join data\n",
    "    # =========\n",
    "    row_uids, (_, matrix_bin) = du.load_user_cnt(feat_name)\n",
    "    X_bin = user_jointer.join(df_train, matrix_bin, row_names=row_uids)\n",
    "    del matrix_bin\n",
    "    gc.collect()\n",
    "\n",
    "    # =====================\n",
    "    # split train/valid set\n",
    "    # =====================\n",
    "    aids = df_train['aid'].values\n",
    "    with pu.profiler(\"splitting train/valid set\"):\n",
    "        train_index, valid_index = split_indices[0]\n",
    "        X_bin_train, X_bin_valid = X_bin[train_index, :], X_bin[valid_index, :]\n",
    "        X_avg_train, X_avg_valid = X_avg[train_index, :], X_avg[valid_index, :]\n",
    "        X_max_train, X_max_valid = X_max[train_index, :], X_max[valid_index, :]\n",
    "        X_min_train, X_min_valid = X_min[train_index, :], X_min[valid_index, :]\n",
    "        y_train, y_valid = y[train_index], y[valid_index]\n",
    "        aids_train, aids_valid = aids[train_index], aids[valid_index]\n",
    "\n",
    "        del X_bin\n",
    "        del X_avg\n",
    "        del X_max\n",
    "        del X_min\n",
    "        gc.collect()\n",
    "    print(\"Training Set Size: {}\".format(X_bin_train.shape))\n",
    "    print(\"Validation Set Size: {}\".format(X_bin_valid.shape))\n",
    "\n",
    "    # =========================\n",
    "    # fit LR on binary features\n",
    "    # =========================\n",
    "    with pu.profiler(\"fitting LR on binary data\"):\n",
    "        lr_bin = LogisticRegression(solver='newton-cg')\n",
    "        lr_bin.fit(X_bin_train, y_train)\n",
    "    proba_bin_valid = lr_bin.predict_proba(X_bin_valid)\n",
    "    auc_bin = metrics.roc_auc_score(y_valid, proba_bin_valid[:, 1])\n",
    "    auc_online_bin = eu.online_auc(aids_valid, y_valid, proba_bin_valid[:, 1])\n",
    "    print(\"online AUC: {:.6f} overall AUC: {:.6f}\".format(auc_online_bin, auc_bin))\n",
    "\n",
    "    # ==============================\n",
    "    # fit LR on avg pooling features\n",
    "    # ==============================\n",
    "    with pu.profiler(\"fitting LR on avg pooling data\"):\n",
    "        lr_avg = LogisticRegression(solver='newton-cg')\n",
    "        lr_avg.fit(X_avg_train, y_train)\n",
    "    proba_avg_valid = lr_avg.predict_proba(X_avg_valid)\n",
    "    auc_avg = metrics.roc_auc_score(y_valid, proba_avg_valid[:, 1])\n",
    "    auc_online_avg = eu.online_auc(aids_valid, y_valid, proba_avg_valid[:, 1])\n",
    "    print(\"online AUC: {:.6f} overall AUC: {:.6f}\".format(auc_online_avg, auc_avg))\n",
    "\n",
    "    # ==============================\n",
    "    # fit LR on max pooling features\n",
    "    # ==============================\n",
    "    with pu.profiler(\"fitting LR on max pooling data\"):\n",
    "        lr_max = LogisticRegression(solver='newton-cg')\n",
    "        lr_max.fit(X_max_train, y_train)\n",
    "    proba_max_valid = lr_max.predict_proba(X_max_valid)\n",
    "    auc_max = metrics.roc_auc_score(y_valid, proba_max_valid[:, 1])\n",
    "    auc_online_max = eu.online_auc(aids_valid, y_valid, proba_max_valid[:, 1])\n",
    "    print(\"online AUC: {:.6f} overall AUC: {:.6f}\".format(auc_online_max, auc_max))\n",
    "\n",
    "    # ==============================\n",
    "    # fit LR on min pooling features\n",
    "    # ==============================\n",
    "    with pu.profiler(\"fitting LR on min pooling data\"):\n",
    "        lr_min = LogisticRegression(solver='newton-cg')\n",
    "        lr_min.fit(X_min_train, y_train)\n",
    "    proba_min_valid = lr_min.predict_proba(X_min_valid)\n",
    "    auc_min = metrics.roc_auc_score(y_valid, proba_min_valid[:, 1])\n",
    "    auc_online_min = eu.online_auc(aids_valid, y_valid, proba_min_valid[:, 1])\n",
    "    print(\"online AUC: {:.6f} overall AUC: {:.6f}\".format(auc_online_min, auc_min))"
   ]
  },
  {
   "cell_type": "code",
   "execution_count": 6,
   "metadata": {},
   "outputs": [
    {
     "name": "stdout",
     "output_type": "stream",
     "text": [
      "Start 'marriageStatus'\n",
      "[16:28:34] Finish splitting train/valid set. △M: +143.09MB. △T: 2.1 seconds.\n",
      "Training Set Size: (7039050, 13)\n",
      "Validation Set Size: (1759764, 13)\n",
      "[16:29:48] Finish fitting LR on binary data. △M: +27.12MB. △T: 1.2 minutes.\n",
      "online AUC: 0.534100 overall AUC: 0.539769\n"
     ]
    },
    {
     "name": "stderr",
     "output_type": "stream",
     "text": [
      "/usr/local/lib/python3.5/dist-packages/sklearn/utils/optimize.py:203: ConvergenceWarning: newton-cg failed to converge. Increase the number of iterations.\n",
      "  \"number of iterations.\", ConvergenceWarning)\n"
     ]
    },
    {
     "name": "stdout",
     "output_type": "stream",
     "text": [
      "[16:37:53] Finish fitting LR on avg pooling data. △M: -26.64MB. △T: 8.1 minutes.\n",
      "online AUC: 0.533642 overall AUC: 0.538242\n",
      "[16:46:32] Finish fitting LR on max pooling data. △M: -26.73MB. △T: 8.6 minutes.\n",
      "online AUC: 0.533516 overall AUC: 0.539087\n",
      "[16:54:56] Finish fitting LR on min pooling data. △M: -26.73MB. △T: 8.4 minutes.\n",
      "online AUC: 0.533397 overall AUC: 0.539040\n"
     ]
    }
   ],
   "source": [
    "run_lr_on_embedding(\"marriageStatus\", 1)"
   ]
  },
  {
   "cell_type": "code",
   "execution_count": 7,
   "metadata": {},
   "outputs": [
    {
     "name": "stdout",
     "output_type": "stream",
     "text": [
      "Start 'interest1'\n",
      "[16:55:36] Finish splitting train/valid set. △M: +117.54MB. △T: 3.7 seconds.\n",
      "Training Set Size: (7039050, 123)\n",
      "Validation Set Size: (1759764, 123)\n",
      "[17:07:07] Finish fitting LR on binary data. △M: +27.02MB. △T: 11.5 minutes.\n",
      "online AUC: 0.546140 overall AUC: 0.553479\n"
     ]
    },
    {
     "name": "stderr",
     "output_type": "stream",
     "text": [
      "/usr/local/lib/python3.5/dist-packages/sklearn/utils/optimize.py:203: ConvergenceWarning: newton-cg failed to converge. Increase the number of iterations.\n",
      "  \"number of iterations.\", ConvergenceWarning)\n"
     ]
    },
    {
     "name": "stdout",
     "output_type": "stream",
     "text": [
      "[17:15:46] Finish fitting LR on avg pooling data. △M: -34.61MB. △T: 8.6 minutes.\n",
      "online AUC: 0.529071 overall AUC: 0.534084\n",
      "[17:22:44] Finish fitting LR on max pooling data. △M: -26.73MB. △T: 6.9 minutes.\n",
      "online AUC: 0.529160 overall AUC: 0.535543\n",
      "[17:29:59] Finish fitting LR on min pooling data. △M: -40.15MB. △T: 7.2 minutes.\n",
      "online AUC: 0.525293 overall AUC: 0.529668\n"
     ]
    }
   ],
   "source": [
    "run_lr_on_embedding(\"interest1\", 1)"
   ]
  },
  {
   "cell_type": "code",
   "execution_count": null,
   "metadata": {},
   "outputs": [
    {
     "name": "stdout",
     "output_type": "stream",
     "text": [
      "Start 'interest2'\n",
      "[17:30:34] Finish splitting train/valid set. △M: +104.27MB. △T: 2.5 seconds.\n",
      "Training Set Size: (7039050, 81)\n",
      "Validation Set Size: (1759764, 81)\n",
      "[17:35:51] Finish fitting LR on binary data. △M: +26.98MB. △T: 5.3 minutes.\n",
      "online AUC: 0.628470 overall AUC: 0.603646\n"
     ]
    },
    {
     "name": "stderr",
     "output_type": "stream",
     "text": [
      "/usr/local/lib/python3.5/dist-packages/sklearn/utils/optimize.py:203: ConvergenceWarning: newton-cg failed to converge. Increase the number of iterations.\n",
      "  \"number of iterations.\", ConvergenceWarning)\n"
     ]
    },
    {
     "name": "stdout",
     "output_type": "stream",
     "text": [
      "[17:44:46] Finish fitting LR on avg pooling data. △M: +128.0KB. △T: 8.9 minutes.\n",
      "online AUC: 0.604777 overall AUC: 0.585076\n",
      "[17:53:09] Finish fitting LR on max pooling data. △M: -40.15MB. △T: 8.3 minutes.\n",
      "online AUC: 0.604315 overall AUC: 0.582341\n"
     ]
    },
    {
     "name": "stderr",
     "output_type": "stream",
     "text": [
      "/usr/local/lib/python3.5/dist-packages/scipy/optimize/linesearch.py:312: LineSearchWarning: The line search algorithm did not converge\n",
      "  warn('The line search algorithm did not converge', LineSearchWarning)\n",
      "/usr/local/lib/python3.5/dist-packages/sklearn/utils/optimize.py:195: UserWarning: Line Search failed\n",
      "  warnings.warn('Line Search failed')\n"
     ]
    },
    {
     "name": "stdout",
     "output_type": "stream",
     "text": [
      "[17:57:29] Finish fitting LR on min pooling data. △M: -40.13MB. △T: 4.3 minutes.\n",
      "online AUC: 0.603939 overall AUC: 0.581508\n"
     ]
    }
   ],
   "source": [
    "run_lr_on_embedding(\"interest2\", 1)"
   ]
  },
  {
   "cell_type": "code",
   "execution_count": 6,
   "metadata": {},
   "outputs": [
    {
     "name": "stdout",
     "output_type": "stream",
     "text": [
      "Start 'interest3'\n",
      "[05:17:55] Finish splitting train/valid set. △M: +143.04MB. △T: 1.5 seconds.\n",
      "Training Set Size: (7039050, 11)\n",
      "Validation Set Size: (1759764, 11)\n",
      "[05:18:37] Finish fitting LR on binary data. △M: +272.0KB. △T: 42.1 seconds.\n",
      "online AUC: 0.502058 overall AUC: 0.502593\n"
     ]
    },
    {
     "name": "stderr",
     "output_type": "stream",
     "text": [
      "/usr/local/lib/python3.5/dist-packages/scipy/optimize/linesearch.py:312: LineSearchWarning: The line search algorithm did not converge\n",
      "  warn('The line search algorithm did not converge', LineSearchWarning)\n",
      "/usr/local/lib/python3.5/dist-packages/sklearn/utils/optimize.py:195: UserWarning: Line Search failed\n",
      "  warnings.warn('Line Search failed')\n"
     ]
    },
    {
     "name": "stdout",
     "output_type": "stream",
     "text": [
      "[05:21:09] Finish fitting LR on avg pooling data. △M: +27.09MB. △T: 2.5 minutes.\n",
      "online AUC: 0.502058 overall AUC: 0.502590\n",
      "[05:23:22] Finish fitting LR on max pooling data. △M: +0B. △T: 2.2 minutes.\n",
      "online AUC: 0.502067 overall AUC: 0.502597\n",
      "[05:29:39] Finish fitting LR on min pooling data. △M: +13.43MB. △T: 6.3 minutes.\n",
      "online AUC: 0.502047 overall AUC: 0.502590\n"
     ]
    }
   ],
   "source": [
    "run_lr_on_embedding(\"interest3\", 1)"
   ]
  },
  {
   "cell_type": "code",
   "execution_count": 7,
   "metadata": {},
   "outputs": [
    {
     "name": "stdout",
     "output_type": "stream",
     "text": [
      "Start 'interest4'\n",
      "[05:30:11] Finish splitting train/valid set. △M: +120.51MB. △T: 1.8 seconds.\n",
      "Training Set Size: (7039050, 11)\n",
      "Validation Set Size: (1759764, 11)\n",
      "[05:30:52] Finish fitting LR on binary data. △M: +128.0KB. △T: 41.2 seconds.\n",
      "online AUC: 0.501932 overall AUC: 0.501946\n"
     ]
    },
    {
     "name": "stderr",
     "output_type": "stream",
     "text": [
      "/usr/local/lib/python3.5/dist-packages/scipy/optimize/linesearch.py:312: LineSearchWarning: The line search algorithm did not converge\n",
      "  warn('The line search algorithm did not converge', LineSearchWarning)\n",
      "/usr/local/lib/python3.5/dist-packages/sklearn/utils/optimize.py:195: UserWarning: Line Search failed\n",
      "  warnings.warn('Line Search failed')\n"
     ]
    },
    {
     "name": "stdout",
     "output_type": "stream",
     "text": [
      "[05:33:05] Finish fitting LR on avg pooling data. △M: +140.0KB. △T: 2.2 minutes.\n",
      "online AUC: 0.501780 overall AUC: 0.501961\n"
     ]
    },
    {
     "name": "stderr",
     "output_type": "stream",
     "text": [
      "/usr/local/lib/python3.5/dist-packages/sklearn/utils/optimize.py:203: ConvergenceWarning: newton-cg failed to converge. Increase the number of iterations.\n",
      "  \"number of iterations.\", ConvergenceWarning)\n"
     ]
    },
    {
     "name": "stdout",
     "output_type": "stream",
     "text": [
      "[05:37:47] Finish fitting LR on max pooling data. △M: +13.55MB. △T: 4.7 minutes.\n",
      "online AUC: 0.501787 overall AUC: 0.501964\n",
      "[05:39:10] Finish fitting LR on min pooling data. △M: +0B. △T: 1.4 minutes.\n",
      "online AUC: 0.501783 overall AUC: 0.501961\n"
     ]
    }
   ],
   "source": [
    "run_lr_on_embedding(\"interest4\", 1)"
   ]
  },
  {
   "cell_type": "code",
   "execution_count": 8,
   "metadata": {},
   "outputs": [
    {
     "name": "stdout",
     "output_type": "stream",
     "text": [
      "Start 'interest5'\n",
      "[05:39:47] Finish splitting train/valid set. △M: +113.83MB. △T: 3.1 seconds.\n",
      "Training Set Size: (7039050, 137)\n",
      "Validation Set Size: (1759764, 137)\n",
      "[05:47:15] Finish fitting LR on binary data. △M: +168.0KB. △T: 7.5 minutes.\n",
      "online AUC: 0.575147 overall AUC: 0.572632\n"
     ]
    },
    {
     "name": "stderr",
     "output_type": "stream",
     "text": [
      "/usr/local/lib/python3.5/dist-packages/sklearn/utils/optimize.py:203: ConvergenceWarning: newton-cg failed to converge. Increase the number of iterations.\n",
      "  \"number of iterations.\", ConvergenceWarning)\n"
     ]
    },
    {
     "name": "stdout",
     "output_type": "stream",
     "text": [
      "[05:51:31] Finish fitting LR on avg pooling data. △M: +4.7MB. △T: 4.2 minutes.\n",
      "online AUC: 0.514943 overall AUC: 0.516792\n"
     ]
    },
    {
     "name": "stderr",
     "output_type": "stream",
     "text": [
      "/usr/local/lib/python3.5/dist-packages/scipy/optimize/linesearch.py:312: LineSearchWarning: The line search algorithm did not converge\n",
      "  warn('The line search algorithm did not converge', LineSearchWarning)\n",
      "/usr/local/lib/python3.5/dist-packages/sklearn/utils/optimize.py:195: UserWarning: Line Search failed\n",
      "  warnings.warn('Line Search failed')\n"
     ]
    },
    {
     "name": "stdout",
     "output_type": "stream",
     "text": [
      "[05:58:11] Finish fitting LR on max pooling data. △M: +4.0KB. △T: 6.6 minutes.\n",
      "online AUC: 0.517660 overall AUC: 0.523211\n",
      "[06:04:04] Finish fitting LR on min pooling data. △M: +4.0KB. △T: 5.9 minutes.\n",
      "online AUC: 0.524761 overall AUC: 0.530063\n"
     ]
    }
   ],
   "source": [
    "run_lr_on_embedding(\"interest5\", 1)"
   ]
  },
  {
   "cell_type": "code",
   "execution_count": 12,
   "metadata": {},
   "outputs": [
    {
     "name": "stdout",
     "output_type": "stream",
     "text": [
      "Start 'ct'\n",
      "[07:02:03] Finish splitting train/valid set. △M: +104.2MB. △T: 1.4 seconds.\n",
      "Training Set Size: (7039050, 5)\n",
      "Validation Set Size: (1759764, 5)\n",
      "[07:03:15] Finish fitting LR on binary data. △M: +128.0KB. △T: 1.2 minutes.\n",
      "online AUC: 0.526482 overall AUC: 0.532387\n"
     ]
    },
    {
     "name": "stderr",
     "output_type": "stream",
     "text": [
      "/usr/local/lib/python3.5/dist-packages/scipy/optimize/linesearch.py:312: LineSearchWarning: The line search algorithm did not converge\n",
      "  warn('The line search algorithm did not converge', LineSearchWarning)\n",
      "/usr/local/lib/python3.5/dist-packages/sklearn/utils/optimize.py:195: UserWarning: Line Search failed\n",
      "  warnings.warn('Line Search failed')\n"
     ]
    },
    {
     "name": "stdout",
     "output_type": "stream",
     "text": [
      "[07:08:50] Finish fitting LR on avg pooling data. △M: +26.98MB. △T: 5.5 minutes.\n",
      "online AUC: 0.523301 overall AUC: 0.528339\n"
     ]
    },
    {
     "name": "stderr",
     "output_type": "stream",
     "text": [
      "/usr/local/lib/python3.5/dist-packages/sklearn/utils/optimize.py:203: ConvergenceWarning: newton-cg failed to converge. Increase the number of iterations.\n",
      "  \"number of iterations.\", ConvergenceWarning)\n"
     ]
    },
    {
     "name": "stdout",
     "output_type": "stream",
     "text": [
      "[07:12:45] Finish fitting LR on max pooling data. △M: +0B. △T: 3.9 minutes.\n",
      "online AUC: 0.526151 overall AUC: 0.532243\n",
      "[07:17:12] Finish fitting LR on min pooling data. △M: +0B. △T: 4.4 minutes.\n",
      "online AUC: 0.526143 overall AUC: 0.532251\n"
     ]
    }
   ],
   "source": [
    "run_lr_on_embedding(\"ct\", 1)"
   ]
  },
  {
   "cell_type": "code",
   "execution_count": 13,
   "metadata": {},
   "outputs": [
    {
     "name": "stdout",
     "output_type": "stream",
     "text": [
      "Start 'kw1'\n",
      "[08:54:25] Finish splitting train/valid set. △M: +120.39MB. △T: 7.8 seconds.\n",
      "Training Set Size: (7039050, 259909)\n",
      "Validation Set Size: (1759764, 259909)\n"
     ]
    },
    {
     "name": "stderr",
     "output_type": "stream",
     "text": [
      "/usr/local/lib/python3.5/dist-packages/scipy/optimize/linesearch.py:312: LineSearchWarning: The line search algorithm did not converge\n",
      "  warn('The line search algorithm did not converge', LineSearchWarning)\n",
      "/usr/local/lib/python3.5/dist-packages/sklearn/utils/optimize.py:195: UserWarning: Line Search failed\n",
      "  warnings.warn('Line Search failed')\n"
     ]
    },
    {
     "name": "stdout",
     "output_type": "stream",
     "text": [
      "[09:05:01] Finish fitting LR on binary data. △M: +128.0KB. △T: 10.6 minutes.\n",
      "online AUC: 0.550057 overall AUC: 0.548704\n",
      "[09:12:31] Finish fitting LR on avg pooling data. △M: -32.38MB. △T: 7.5 minutes.\n",
      "online AUC: 0.540223 overall AUC: 0.547055\n",
      "[09:22:01] Finish fitting LR on max pooling data. △M: +18.43MB. △T: 9.5 minutes.\n",
      "online AUC: 0.536563 overall AUC: 0.541304\n",
      "[09:33:44] Finish fitting LR on min pooling data. △M: +0B. △T: 11.7 minutes.\n",
      "online AUC: 0.534985 overall AUC: 0.541529\n"
     ]
    }
   ],
   "source": [
    "run_lr_on_embedding(\"kw1\", 1)"
   ]
  },
  {
   "cell_type": "code",
   "execution_count": 14,
   "metadata": {},
   "outputs": [
    {
     "name": "stdout",
     "output_type": "stream",
     "text": [
      "Start 'kw2'\n",
      "[09:54:04] Finish splitting train/valid set. △M: +72.23MB. △T: 7.0 seconds.\n",
      "Training Set Size: (7039050, 49197)\n",
      "Validation Set Size: (1759764, 49197)\n",
      "[09:59:52] Finish fitting LR on binary data. △M: +26.98MB. △T: 5.8 minutes.\n",
      "online AUC: 0.664064 overall AUC: 0.647717\n"
     ]
    },
    {
     "name": "stderr",
     "output_type": "stream",
     "text": [
      "/usr/local/lib/python3.5/dist-packages/scipy/optimize/linesearch.py:312: LineSearchWarning: The line search algorithm did not converge\n",
      "  warn('The line search algorithm did not converge', LineSearchWarning)\n",
      "/usr/local/lib/python3.5/dist-packages/sklearn/utils/optimize.py:195: UserWarning: Line Search failed\n",
      "  warnings.warn('Line Search failed')\n"
     ]
    },
    {
     "name": "stdout",
     "output_type": "stream",
     "text": [
      "[10:08:21] Finish fitting LR on avg pooling data. △M: -14.08MB. △T: 8.4 minutes.\n",
      "online AUC: 0.653359 overall AUC: 0.634279\n",
      "[10:26:54] Finish fitting LR on max pooling data. △M: +17.25MB. △T: 18.5 minutes.\n",
      "online AUC: 0.644345 overall AUC: 0.622837\n",
      "[10:34:01] Finish fitting LR on min pooling data. △M: +0B. △T: 7.1 minutes.\n",
      "online AUC: 0.644360 overall AUC: 0.626391\n"
     ]
    }
   ],
   "source": [
    "run_lr_on_embedding(\"kw2\", 1)"
   ]
  },
  {
   "cell_type": "code",
   "execution_count": 7,
   "metadata": {},
   "outputs": [
    {
     "name": "stdout",
     "output_type": "stream",
     "text": [
      "Start 'kw3'\n",
      "[11:54:58] Finish splitting train/valid set. △M: +150.98MB. △T: 6.7 seconds.\n",
      "Training Set Size: (7039050, 11922)\n",
      "Validation Set Size: (1759764, 11922)\n",
      "[11:56:57] Finish fitting LR on binary data. △M: +27.16MB. △T: 2.0 minutes.\n",
      "online AUC: 0.502343 overall AUC: 0.502829\n"
     ]
    },
    {
     "name": "stderr",
     "output_type": "stream",
     "text": [
      "/usr/local/lib/python3.5/dist-packages/scipy/optimize/linesearch.py:312: LineSearchWarning: The line search algorithm did not converge\n",
      "  warn('The line search algorithm did not converge', LineSearchWarning)\n",
      "/usr/local/lib/python3.5/dist-packages/sklearn/utils/optimize.py:195: UserWarning: Line Search failed\n",
      "  warnings.warn('Line Search failed')\n"
     ]
    },
    {
     "name": "stdout",
     "output_type": "stream",
     "text": [
      "[12:06:36] Finish fitting LR on avg pooling data. △M: +27.09MB. △T: 9.6 minutes.\n",
      "online AUC: 0.502562 overall AUC: 0.502128\n",
      "[12:27:21] Finish fitting LR on max pooling data. △M: +0B. △T: 20.7 minutes.\n",
      "online AUC: 0.503382 overall AUC: 0.503591\n",
      "[12:31:21] Finish fitting LR on min pooling data. △M: +0B. △T: 4.0 minutes.\n",
      "online AUC: 0.502510 overall AUC: 0.502082\n"
     ]
    }
   ],
   "source": [
    "run_lr_on_embedding(\"kw3\", 1)"
   ]
  },
  {
   "cell_type": "code",
   "execution_count": 8,
   "metadata": {},
   "outputs": [
    {
     "name": "stdout",
     "output_type": "stream",
     "text": [
      "Start 'topic1'\n",
      "[13:53:17] Finish splitting train/valid set. △M: +94.91MB. △T: 7.6 seconds.\n",
      "Training Set Size: (7039050, 10001)\n",
      "Validation Set Size: (1759764, 10001)\n",
      "[13:58:05] Finish fitting LR on binary data. △M: +33.7MB. △T: 4.8 minutes.\n",
      "online AUC: 0.537458 overall AUC: 0.538209\n"
     ]
    },
    {
     "name": "stderr",
     "output_type": "stream",
     "text": [
      "/usr/local/lib/python3.5/dist-packages/scipy/optimize/linesearch.py:312: LineSearchWarning: The line search algorithm did not converge\n",
      "  warn('The line search algorithm did not converge', LineSearchWarning)\n",
      "/usr/local/lib/python3.5/dist-packages/sklearn/utils/optimize.py:195: UserWarning: Line Search failed\n",
      "  warnings.warn('Line Search failed')\n"
     ]
    },
    {
     "name": "stdout",
     "output_type": "stream",
     "text": [
      "[14:06:24] Finish fitting LR on avg pooling data. △M: -25.86MB. △T: 8.3 minutes.\n",
      "online AUC: 0.535427 overall AUC: 0.540196\n",
      "[14:18:37] Finish fitting LR on max pooling data. △M: -16.4MB. △T: 12.2 minutes.\n",
      "online AUC: 0.534128 overall AUC: 0.538042\n",
      "[14:36:39] Finish fitting LR on min pooling data. △M: -16.26MB. △T: 18.0 minutes.\n",
      "online AUC: 0.531775 overall AUC: 0.535339\n"
     ]
    }
   ],
   "source": [
    "run_lr_on_embedding(\"topic1\", 1)"
   ]
  },
  {
   "cell_type": "code",
   "execution_count": 9,
   "metadata": {},
   "outputs": [
    {
     "name": "stdout",
     "output_type": "stream",
     "text": [
      "Start 'topic2'\n",
      "[15:18:38] Finish splitting train/valid set. △M: +93.26MB. △T: 8.2 seconds.\n",
      "Training Set Size: (7039050, 9980)\n",
      "Validation Set Size: (1759764, 9980)\n",
      "[15:22:58] Finish fitting LR on binary data. △M: +33.69MB. △T: 4.3 minutes.\n",
      "online AUC: 0.631544 overall AUC: 0.617089\n"
     ]
    },
    {
     "name": "stderr",
     "output_type": "stream",
     "text": [
      "/usr/local/lib/python3.5/dist-packages/scipy/optimize/linesearch.py:312: LineSearchWarning: The line search algorithm did not converge\n",
      "  warn('The line search algorithm did not converge', LineSearchWarning)\n",
      "/usr/local/lib/python3.5/dist-packages/sklearn/utils/optimize.py:195: UserWarning: Line Search failed\n",
      "  warnings.warn('Line Search failed')\n"
     ]
    },
    {
     "name": "stdout",
     "output_type": "stream",
     "text": [
      "[15:34:27] Finish fitting LR on avg pooling data. △M: -14.4MB. △T: 11.4 minutes.\n",
      "online AUC: 0.610037 overall AUC: 0.593369\n",
      "[15:43:58] Finish fitting LR on max pooling data. △M: -13.85MB. △T: 9.5 minutes.\n",
      "online AUC: 0.603722 overall AUC: 0.587165\n",
      "[15:54:00] Finish fitting LR on min pooling data. △M: -13.92MB. △T: 10.0 minutes.\n",
      "online AUC: 0.600704 overall AUC: 0.583861\n"
     ]
    }
   ],
   "source": [
    "run_lr_on_embedding(\"topic2\", 1)"
   ]
  },
  {
   "cell_type": "code",
   "execution_count": 10,
   "metadata": {},
   "outputs": [
    {
     "name": "stdout",
     "output_type": "stream",
     "text": [
      "Start 'topic3'\n",
      "[16:39:10] Finish splitting train/valid set. △M: +119.61MB. △T: 6.8 seconds.\n",
      "Training Set Size: (7039050, 5873)\n",
      "Validation Set Size: (1759764, 5873)\n",
      "[16:40:56] Finish fitting LR on binary data. △M: +26.98MB. △T: 1.8 minutes.\n",
      "online AUC: 0.503807 overall AUC: 0.503117\n"
     ]
    },
    {
     "name": "stderr",
     "output_type": "stream",
     "text": [
      "/usr/local/lib/python3.5/dist-packages/sklearn/utils/optimize.py:203: ConvergenceWarning: newton-cg failed to converge. Increase the number of iterations.\n",
      "  \"number of iterations.\", ConvergenceWarning)\n"
     ]
    },
    {
     "name": "stdout",
     "output_type": "stream",
     "text": [
      "[16:54:50] Finish fitting LR on avg pooling data. △M: +26.98MB. △T: 13.9 minutes.\n",
      "online AUC: 0.503207 overall AUC: 0.502456\n",
      "[17:10:39] Finish fitting LR on max pooling data. △M: +0B. △T: 15.8 minutes.\n",
      "online AUC: 0.502682 overall AUC: 0.503196\n",
      "[17:24:21] Finish fitting LR on min pooling data. △M: +0B. △T: 13.7 minutes.\n",
      "online AUC: 0.502532 overall AUC: 0.503124\n"
     ]
    }
   ],
   "source": [
    "run_lr_on_embedding(\"topic3\", 1)"
   ]
  },
  {
   "cell_type": "code",
   "execution_count": 11,
   "metadata": {},
   "outputs": [
    {
     "name": "stdout",
     "output_type": "stream",
     "text": [
      "Start 'appIdInstall'\n",
      "[19:22:30] Finish splitting train/valid set. △M: +105.51MB. △T: 4.1 seconds.\n",
      "Training Set Size: (7039050, 64856)\n",
      "Validation Set Size: (1759764, 64856)\n",
      "[19:25:41] Finish fitting LR on binary data. △M: +128.0KB. △T: 3.2 minutes.\n",
      "online AUC: 0.501202 overall AUC: 0.500495\n"
     ]
    },
    {
     "name": "stderr",
     "output_type": "stream",
     "text": [
      "/usr/local/lib/python3.5/dist-packages/scipy/optimize/linesearch.py:312: LineSearchWarning: The line search algorithm did not converge\n",
      "  warn('The line search algorithm did not converge', LineSearchWarning)\n",
      "/usr/local/lib/python3.5/dist-packages/sklearn/utils/optimize.py:195: UserWarning: Line Search failed\n",
      "  warnings.warn('Line Search failed')\n"
     ]
    },
    {
     "name": "stdout",
     "output_type": "stream",
     "text": [
      "[19:38:41] Finish fitting LR on avg pooling data. △M: +13.55MB. △T: 13.0 minutes.\n",
      "online AUC: 0.501739 overall AUC: 0.502227\n",
      "[19:53:28] Finish fitting LR on max pooling data. △M: +26.85MB. △T: 14.8 minutes.\n",
      "online AUC: 0.501868 overall AUC: 0.502233\n",
      "[20:03:39] Finish fitting LR on min pooling data. △M: +0B. △T: 10.2 minutes.\n",
      "online AUC: 0.501573 overall AUC: 0.502056\n"
     ]
    }
   ],
   "source": [
    "run_lr_on_embedding(\"appIdInstall\", 1)"
   ]
  },
  {
   "cell_type": "code",
   "execution_count": 12,
   "metadata": {},
   "outputs": [
    {
     "name": "stdout",
     "output_type": "stream",
     "text": [
      "Start 'appIdAction'\n",
      "[20:04:15] Finish splitting train/valid set. △M: +119.92MB. △T: 5.5 seconds.\n",
      "Training Set Size: (7039050, 6215)\n",
      "Validation Set Size: (1759764, 6215)\n",
      "[20:05:31] Finish fitting LR on binary data. △M: +57.54MB. △T: 1.3 minutes.\n",
      "online AUC: 0.502193 overall AUC: 0.501611\n"
     ]
    },
    {
     "name": "stderr",
     "output_type": "stream",
     "text": [
      "/usr/local/lib/python3.5/dist-packages/sklearn/utils/optimize.py:203: ConvergenceWarning: newton-cg failed to converge. Increase the number of iterations.\n",
      "  \"number of iterations.\", ConvergenceWarning)\n"
     ]
    },
    {
     "name": "stdout",
     "output_type": "stream",
     "text": [
      "[20:18:46] Finish fitting LR on avg pooling data. △M: +26.98MB. △T: 13.2 minutes.\n",
      "online AUC: 0.500572 overall AUC: 0.500448\n",
      "[20:31:52] Finish fitting LR on max pooling data. △M: +0B. △T: 13.1 minutes.\n",
      "online AUC: 0.501209 overall AUC: 0.501049\n"
     ]
    },
    {
     "name": "stderr",
     "output_type": "stream",
     "text": [
      "/usr/local/lib/python3.5/dist-packages/scipy/optimize/linesearch.py:312: LineSearchWarning: The line search algorithm did not converge\n",
      "  warn('The line search algorithm did not converge', LineSearchWarning)\n",
      "/usr/local/lib/python3.5/dist-packages/sklearn/utils/optimize.py:195: UserWarning: Line Search failed\n",
      "  warnings.warn('Line Search failed')\n"
     ]
    },
    {
     "name": "stdout",
     "output_type": "stream",
     "text": [
      "[20:45:16] Finish fitting LR on min pooling data. △M: +0B. △T: 13.4 minutes.\n",
      "online AUC: 0.501477 overall AUC: 0.501299\n"
     ]
    }
   ],
   "source": [
    "run_lr_on_embedding(\"appIdAction\", 1)"
   ]
  },
  {
   "cell_type": "code",
   "execution_count": null,
   "metadata": {},
   "outputs": [],
   "source": []
  }
 ],
 "metadata": {
  "kernelspec": {
   "display_name": "Python 3",
   "language": "python",
   "name": "python3"
  },
  "language_info": {
   "codemirror_mode": {
    "name": "ipython",
    "version": 3
   },
   "file_extension": ".py",
   "mimetype": "text/x-python",
   "name": "python",
   "nbconvert_exporter": "python",
   "pygments_lexer": "ipython3",
   "version": "3.5.2"
  }
 },
 "nbformat": 4,
 "nbformat_minor": 2
}
