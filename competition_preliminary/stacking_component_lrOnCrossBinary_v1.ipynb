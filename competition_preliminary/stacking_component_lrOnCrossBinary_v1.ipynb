{
 "cells": [
  {
   "cell_type": "code",
   "execution_count": 1,
   "metadata": {},
   "outputs": [],
   "source": [
    "from sklearn.linear_model import LogisticRegression\n",
    "from sklearn.model_selection import StratifiedKFold\n",
    "from sklearn import metrics\n",
    "import pandas as pd\n",
    "import numpy as np\n",
    "import time\n",
    "import gc\n",
    "import os\n",
    "import sys\n",
    "sys.path.append('../code/pipeline/')\n",
    "sys.path.append('../code/utils/')\n",
    "sys.path.append('../code/')\n",
    "import data_pipeline as dp\n",
    "import data_utils as du\n",
    "import perf_utils as pu\n",
    "import eval_utils as eu\n",
    "import io_utils as iu\n",
    "import config"
   ]
  },
  {
   "cell_type": "code",
   "execution_count": 2,
   "metadata": {},
   "outputs": [],
   "source": [
    "# ================\n",
    "# Data Preparation\n",
    "# ================\n",
    "# defined feature pairs to load cross product transformation\n",
    "pairs = [(\"aid\", \"age\"), (\"aid\", \"education\"), (\"aid\", \"consumptionAbility\"), (\"aid\", \"LBS\")]"
   ]
  },
  {
   "cell_type": "code",
   "execution_count": 3,
   "metadata": {},
   "outputs": [],
   "source": [
    "df_train = du.load_raw_data(\"train\")\n",
    "df_test = du.load_raw_data(\"test\")\n",
    "y = df_train[\"label\"].values.copy()\n",
    "y = (y + 1) / 2  # 1/-1 to 1/0"
   ]
  },
  {
   "cell_type": "code",
   "execution_count": 4,
   "metadata": {},
   "outputs": [],
   "source": [
    "n_splits = 5  # 3? 5? Don't know which one will be better\n",
    "skf = StratifiedKFold(n_splits=n_splits, random_state=2018)  # for reproducibility\n",
    "split_indices = [(train_index, valid_index) for train_index, valid_index in skf.split(df_train, y)]"
   ]
  },
  {
   "cell_type": "code",
   "execution_count": 5,
   "metadata": {},
   "outputs": [],
   "source": [
    "# what should be customizable:\n",
    "# 1. model building\n",
    "# 2. model fitting\n",
    "# 3. model predicting"
   ]
  },
  {
   "cell_type": "code",
   "execution_count": 6,
   "metadata": {
    "scrolled": false
   },
   "outputs": [
    {
     "name": "stdout",
     "output_type": "stream",
     "text": [
      "[09:17:26] Finish loading 'age' x 'aid'. △M: +109.95MB. △T: 0.2 seconds.\n",
      "[09:19:10] Finish fitting LR (fold 1/5). △M: +296.0KB. △T: 1.7 minutes.\n",
      "[09:20:50] Finish fitting LR (fold 2/5). △M: +27.01MB. △T: 1.6 minutes.\n"
     ]
    },
    {
     "name": "stderr",
     "output_type": "stream",
     "text": [
      "/usr/local/lib/python3.5/dist-packages/scipy/optimize/linesearch.py:312: LineSearchWarning: The line search algorithm did not converge\n",
      "  warn('The line search algorithm did not converge', LineSearchWarning)\n",
      "/usr/local/lib/python3.5/dist-packages/sklearn/utils/optimize.py:195: UserWarning: Line Search failed\n",
      "  warnings.warn('Line Search failed')\n"
     ]
    },
    {
     "name": "stdout",
     "output_type": "stream",
     "text": [
      "[09:24:01] Finish fitting LR (fold 3/5). △M: +224.0KB. △T: 3.2 minutes.\n",
      "[09:25:36] Finish fitting LR (fold 4/5). △M: +128.0KB. △T: 1.6 minutes.\n",
      "[09:27:14] Finish fitting LR (fold 5/5). △M: +128.0KB. △T: 1.6 minutes.\n",
      "AUC: 0.615922(+/-0.00127)\n",
      "[09:27:15] Finish loading 'education' x 'aid'. △M: +67.13MB. △T: 0.2 seconds.\n",
      "[09:29:55] Finish fitting LR (fold 1/5). △M: +128.0KB. △T: 2.7 minutes.\n",
      "[09:31:27] Finish fitting LR (fold 2/5). △M: -13.3MB. △T: 1.5 minutes.\n",
      "[09:32:57] Finish fitting LR (fold 3/5). △M: +26.98MB. △T: 1.5 minutes.\n",
      "[09:34:23] Finish fitting LR (fold 4/5). △M: +26.98MB. △T: 1.4 minutes.\n",
      "[09:35:57] Finish fitting LR (fold 5/5). △M: +0B. △T: 1.6 minutes.\n",
      "AUC: 0.562716(+/-0.000967)\n",
      "[09:35:58] Finish loading 'consumptionAbility' x 'aid'. △M: +33.57MB. △T: 0.1 seconds.\n",
      "[09:39:45] Finish fitting LR (fold 1/5). △M: +128.0KB. △T: 3.8 minutes.\n",
      "[09:41:12] Finish fitting LR (fold 2/5). △M: -32.55MB. △T: 1.4 minutes.\n",
      "[09:42:34] Finish fitting LR (fold 3/5). △M: +128.0KB. △T: 1.4 minutes.\n",
      "[09:44:03] Finish fitting LR (fold 4/5). △M: +0B. △T: 1.5 minutes.\n",
      "[09:45:24] Finish fitting LR (fold 5/5). △M: +128.0KB. △T: 1.3 minutes.\n",
      "AUC: 0.561909(+/-0.000808)\n",
      "[09:45:25] Finish loading 'LBS' x 'aid'. △M: +20.33MB. △T: 0.2 seconds.\n",
      "[09:46:58] Finish fitting LR (fold 1/5). △M: +132.0KB. △T: 1.5 minutes.\n",
      "[09:48:49] Finish fitting LR (fold 2/5). △M: +116.0KB. △T: 1.8 minutes.\n",
      "[09:50:43] Finish fitting LR (fold 3/5). △M: +26.8MB. △T: 1.9 minutes.\n",
      "[09:52:34] Finish fitting LR (fold 4/5). △M: +116.0KB. △T: 1.8 minutes.\n",
      "[09:54:26] Finish fitting LR (fold 5/5). △M: -28.0KB. △T: 1.8 minutes.\n",
      "AUC: 0.540101(+/-0.000591)\n"
     ]
    }
   ],
   "source": [
    "df_stack_tv = pd.DataFrame()\n",
    "df_stack_test = pd.DataFrame()\n",
    "df_score = pd.DataFrame(columns=[\"featureName\", \"auc_mean\", \"auc_std\"])\n",
    "\n",
    "for j, (ad_feat_name, user_feat_name) in enumerate(pairs):\n",
    "    ### given a user feature ###\n",
    "    # load matrix as input to model\n",
    "    with pu.profiler(\"loading '{}' x '{}'\".format(user_feat_name, ad_feat_name)):\n",
    "        cross_bin_loader = dp.CrossBinaryDataManager.build_data(ad_feat_name, user_feat_name) \n",
    "        cols, X_tv,  = cross_bin_loader.load(\"train\")\n",
    "        _, X_test = cross_bin_loader.load(\"test1\")\n",
    "\n",
    "    # prepare containers\n",
    "    stack_tv = np.zeros(X_tv.shape[0])\n",
    "    stack_test = np.zeros((X_test.shape[0], n_splits))\n",
    "    scores = np.zeros(n_splits)\n",
    "\n",
    "    for i, (train_index, valid_index) in enumerate(split_indices):\n",
    "        ### given a splitting ###\n",
    "        # split train/valid sets\n",
    "        X_train, y_train = X_tv[train_index], y[train_index]\n",
    "        X_valid, y_valid = X_tv[valid_index], y[valid_index]\n",
    "\n",
    "        # fit LR\n",
    "        with pu.profiler(\"fitting LR (fold {}/{})\".format(i + 1, n_splits)):\n",
    "            lr = LogisticRegression(solver=\"newton-cg\")  # use default setting: penalty='l2' and C=1\n",
    "            lr.fit(X_train, y_train)\n",
    "\n",
    "        # make prediction for validation set\n",
    "        proba_valid = lr.predict_proba(X_valid)[:, 1]\n",
    "        stack_tv[valid_index] = proba_valid\n",
    "\n",
    "        # make prediction for testing set\n",
    "        proba_test = lr.predict_proba(X_test)[:, 1]\n",
    "        stack_test[:, i] = proba_test\n",
    "\n",
    "        # calculate scores\n",
    "        auc = metrics.roc_auc_score(y_valid, proba_valid)\n",
    "        scores[i] = auc\n",
    "\n",
    "    # update dataframe for stacking\n",
    "    cross_name = \"{}_x_{}\".format(ad_feat_name, user_feat_name)\n",
    "    col_name = \"stackProba_{}\".format(cross_name)\n",
    "    score_row = {\"featureName\": cross_name, \n",
    "                 \"auc_mean\": scores.mean(), \"auc_std\": scores.std()}\n",
    "    df_stack_tv[col_name] = stack_tv\n",
    "    df_stack_test[col_name] = stack_test.mean(axis=1)\n",
    "    df_score.loc[df_score.shape[0]] = score_row\n",
    "    print(\"AUC: {:.6f}(+/-{:.3g})\".format(score_row[\"auc_mean\"], score_row[\"auc_std\"]))\n",
    "    \n",
    "    del X_tv\n",
    "    del X_test\n",
    "    gc.collect()"
   ]
  },
  {
   "cell_type": "code",
   "execution_count": 7,
   "metadata": {},
   "outputs": [
    {
     "name": "stdout",
     "output_type": "stream",
     "text": [
      "Training Set Prediction Shape: (8798814, 4)\n",
      "Testing Set Prediction Shape: (2265989, 4)\n"
     ]
    }
   ],
   "source": [
    "print(\"Training Set Prediction Shape: {}\".format(df_stack_tv.shape))\n",
    "print(\"Testing Set Prediction Shape: {}\".format(df_stack_test.shape))"
   ]
  },
  {
   "cell_type": "code",
   "execution_count": 8,
   "metadata": {},
   "outputs": [],
   "source": [
    "assert os.path.exists(config.DATA_DIR)\n",
    "out_folder = os.path.join(config.DATA_DIR, 'stacking/lr')\n",
    "os.makedirs(out_folder, exist_ok=True)\n",
    "\n",
    "# remember to format float number or you will find these really hard-disk consumptive\n",
    "# save prediction for training set\n",
    "out_file = 'train.crossBinary_v1.csv'\n",
    "out_path = os.path.join(out_folder, out_file)\n",
    "df_stack_tv.to_csv(out_path, float_format=\"%.6f\", index=False)\n",
    "\n",
    "# save prediction for testing set\n",
    "out_file = 'test.crossBinary_v1.csv'\n",
    "out_path = os.path.join(out_folder, out_file)\n",
    "df_stack_test.to_csv(out_path, float_format=\"%.6f\", index=False)"
   ]
  },
  {
   "cell_type": "code",
   "execution_count": 9,
   "metadata": {},
   "outputs": [],
   "source": [
    "# save score information\n",
    "out_file = 'score.crossBinary_v1.csv'\n",
    "out_path = os.path.join(out_folder, out_file)\n",
    "df_score = df_score[[\"featureName\", \"auc_mean\", \"auc_std\"]]\n",
    "df_score = df_score.sort_values(\"auc_mean\", ascending=False)\n",
    "df_score.to_csv(out_path, float_format=\"%.6f\", index=False)"
   ]
  },
  {
   "cell_type": "code",
   "execution_count": 13,
   "metadata": {
    "scrolled": true
   },
   "outputs": [],
   "source": [
    "use_pairs = [(\"aid\", \"age\"), (\"aid\", \"education\"), (\"aid\", \"consumptionAbility\"), (\"aid\", \"LBS\")]\n",
    "use_cols = ['stackProba_{}_x_{}'.format(ad_feat_name, user_feat_name) \n",
    "            for ad_feat_name, user_feat_name in use_pairs]"
   ]
  },
  {
   "cell_type": "code",
   "execution_count": 18,
   "metadata": {},
   "outputs": [
    {
     "name": "stdout",
     "output_type": "stream",
     "text": [
      "[09:04:52] Finish getting matrix represenation. △M: +0B. △T: 1.1 seconds.\n",
      "[09:04:54] Finish saving matrix to hard disk. △M: -402.57MB. △T: 1.3 seconds.\n"
     ]
    }
   ],
   "source": [
    "out_folder = config.INPUT_DIR\n",
    "out_file = \"train.stacking.lrCrossBinary_v1.pkl\"\n",
    "out_path = os.path.join(out_folder, out_file)\n",
    "os.makedirs(out_folder, exist_ok=True)\n",
    "\n",
    "with pu.profiler(\"getting matrix represenation\"):\n",
    "    X_train = df_stack_tv[use_cols].values.astype(np.float32)\n",
    "    assert X_train.shape[0] == df_train.shape[0]\n",
    "    assert X_train.shape[1] == len(use_pairs)\n",
    "\n",
    "with pu.profiler(\"saving matrix to hard disk\"):\n",
    "    col_names = ['stackProba_LR_{}_x_{}'.format(ad_feat_name, user_feat_name) for \n",
    "                 ad_feat_name, user_feat_name in use_pairs]\n",
    "    du.save_pickle((col_names, X_train), out_path)\n",
    "    del X_train\n",
    "    gc.collect()"
   ]
  },
  {
   "cell_type": "code",
   "execution_count": 19,
   "metadata": {},
   "outputs": [
    {
     "name": "stdout",
     "output_type": "stream",
     "text": [
      "[09:04:59] Finish getting matrix represenation. △M: +164.34MB. △T: 0.5 seconds.\n",
      "[09:05:00] Finish saving matrix to hard disk. △M: +0B. △T: 0.2 seconds.\n"
     ]
    }
   ],
   "source": [
    "out_file = \"test1.stacking.lrCrossBinary_v1.pkl\"\n",
    "out_path = os.path.join(out_folder, out_file)\n",
    "\n",
    "with pu.profiler(\"getting matrix represenation\"):\n",
    "    X_test = df_stack_test[use_cols].values.astype(np.float32)\n",
    "    assert X_test.shape[0] == df_test.shape[0]\n",
    "    assert X_test.shape[1] == len(use_pairs)\n",
    "\n",
    "with pu.profiler(\"saving matrix to hard disk\"):\n",
    "    # col_names = ['stackProba_LR_{}'.format(feat_name) for feat_name in use_feats]\n",
    "    du.save_pickle((col_names, X_test), out_path)\n",
    "    del X_test\n",
    "    gc.collect()"
   ]
  },
  {
   "cell_type": "code",
   "execution_count": null,
   "metadata": {},
   "outputs": [],
   "source": []
  }
 ],
 "metadata": {
  "kernelspec": {
   "display_name": "Python 3",
   "language": "python",
   "name": "python3"
  },
  "language_info": {
   "codemirror_mode": {
    "name": "ipython",
    "version": 3
   },
   "file_extension": ".py",
   "mimetype": "text/x-python",
   "name": "python",
   "nbconvert_exporter": "python",
   "pygments_lexer": "ipython3",
   "version": "3.5.2"
  }
 },
 "nbformat": 4,
 "nbformat_minor": 2
}
