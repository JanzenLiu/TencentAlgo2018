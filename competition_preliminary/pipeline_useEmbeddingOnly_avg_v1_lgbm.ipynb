{
 "cells": [
  {
   "cell_type": "code",
   "execution_count": 1,
   "metadata": {},
   "outputs": [],
   "source": [
    "from sklearn.model_selection import StratifiedShuffleSplit, StratifiedKFold\n",
    "from sklearn import metrics\n",
    "from contextlib import redirect_stdout\n",
    "from itertools import compress\n",
    "import scipy.sparse as sparse\n",
    "import lightgbm as lgb\n",
    "import pandas as pd\n",
    "import numpy as np\n",
    "import tqdm\n",
    "import os\n",
    "import gc\n",
    "import sys\n",
    "sys.path.append('../../../code/pipeline/')\n",
    "sys.path.append('../../../code/utils/')\n",
    "sys.path.append('../../../code/')\n",
    "import data_pipeline as dp\n",
    "import data_utils as du\n",
    "import perf_utils as pu\n",
    "import eval_utils as eu\n",
    "import io_utils as iu\n",
    "import config"
   ]
  },
  {
   "cell_type": "code",
   "execution_count": 2,
   "metadata": {},
   "outputs": [],
   "source": [
    "user_one_feat_names = config.USER_SINGLE_FEAT_NAMES\n",
    "user_multi_feat_names = config.USER_MULTI_FEAT_NAMES\n",
    "ad_feat_names = config.AD_FEAT_NAMES"
   ]
  },
  {
   "cell_type": "code",
   "execution_count": 3,
   "metadata": {},
   "outputs": [
    {
     "name": "stdout",
     "output_type": "stream",
     "text": [
      "[01:26:11] Finish loading training data. △M: +15.21GB. △T: 2.3 minutes.\n",
      "Train Data Shape (Embedding): (8798814, 464)\n",
      "Train Column Numbers (Embedding): 464\n"
     ]
    }
   ],
   "source": [
    "# ================\n",
    "# Data Preparation\n",
    "# ================\n",
    "# instantiate data loader\n",
    "emb_loaders = (dp.EmbeddingDataManager.build_data(feat_name, \"avg\", 1) \n",
    "               for feat_name in user_multi_feat_names)\n",
    "union_loader = dp.DataUnion(*emb_loaders)\n",
    "\n",
    "with pu.profiler(\"loading training data\"):\n",
    "    cols_emb_train, X_emb_tv = union_loader.load(\"train\")\n",
    "    # X_emb_tv = sparse.csr_matrix(X_emb_tv)\n",
    "    gc.collect()\n",
    "\n",
    "print(\"Train Data Shape (Embedding): {}\".format(X_emb_tv.shape))\n",
    "print(\"Train Column Numbers (Embedding): {}\".format(len(cols_emb_train)))"
   ]
  },
  {
   "cell_type": "code",
   "execution_count": 4,
   "metadata": {},
   "outputs": [],
   "source": [
    "df_train = du.load_raw_data(\"train\")\n",
    "y = df_train['label'].values.copy()\n",
    "y = (y + 1) / 2  # -1, 1 -> 0, 1"
   ]
  },
  {
   "cell_type": "code",
   "execution_count": 5,
   "metadata": {},
   "outputs": [],
   "source": [
    "# n_splits = 3\n",
    "# sss = StratifiedShuffleSplit(n_splits=n_splits, test_size=1 / 3, random_state=20180505)  # for reproducibility\n",
    "# split_indices = [(train_index, valid_index) for train_index, valid_index in sss.split(df_train, y)]\n",
    "\n",
    "n_splits = 5  # use 3 instead of 5 to save time\n",
    "skf = StratifiedKFold(n_splits=n_splits)\n",
    "split_indices = [(train_index, valid_index) for train_index, valid_index in skf.split(df_train, y)]"
   ]
  },
  {
   "cell_type": "code",
   "execution_count": 6,
   "metadata": {},
   "outputs": [
    {
     "name": "stdout",
     "output_type": "stream",
     "text": [
      "[01:26:31] Finish splitting train/valid set. △M: +120.85MB. △T: 13.9 seconds.\n",
      "Training Set Size: (7039050, 464)\n",
      "Validation Set Size: (1759764, 464)\n"
     ]
    }
   ],
   "source": [
    "aids = df_train['aid'].values\n",
    "with pu.profiler(\"splitting train/valid set\"):\n",
    "    train_index, valid_index = split_indices[0]\n",
    "    # X_train, X_valid = X_tv[train_index, :], X_tv[valid_index, :]\n",
    "    X_train, X_valid = X_emb_tv[train_index, :], X_emb_tv[valid_index, :]\n",
    "    y_train, y_valid = y[train_index], y[valid_index]\n",
    "    aids_train, aids_valid = aids[train_index], aids[valid_index]\n",
    "    # assert X_train.shape[0] + X_valid.shape[0] == X_tv.shape[0]\n",
    "    assert X_train.shape[0] + X_valid.shape[0] == X_emb_tv.shape[0]\n",
    "    \n",
    "    # del X_tv\n",
    "    del X_emb_tv\n",
    "    gc.collect()\n",
    "\n",
    "print(\"Training Set Size: {}\".format(X_train.shape))\n",
    "print(\"Validation Set Size: {}\".format(X_valid.shape))"
   ]
  },
  {
   "cell_type": "code",
   "execution_count": 7,
   "metadata": {},
   "outputs": [
    {
     "name": "stdout",
     "output_type": "stream",
     "text": [
      "[01:26:50] Finish preparing LightGBM data. △M: +15.21GB. △T: 11.5 seconds.\n"
     ]
    }
   ],
   "source": [
    "with pu.profiler(\"preparing LightGBM data\"):\n",
    "    # lgb_train = lgb.Dataset(X_train.astype(np.float32), y_train, feature_name=cols_train)  # cause bugs I don't know how to fix\n",
    "    # lgb_valid = lgb.Dataset(X_valid.astype(np.float32), y_valid, feature_name=cols_train)\n",
    "    lgb_train = lgb.Dataset(X_train.astype(np.float32), y_train)\n",
    "    lgb_valid = lgb.Dataset(X_valid.astype(np.float32), y_valid)\n",
    "    gc.collect()"
   ]
  },
  {
   "cell_type": "code",
   "execution_count": 8,
   "metadata": {},
   "outputs": [
    {
     "name": "stdout",
     "output_type": "stream",
     "text": [
      "[01:27:42] Finish releasing memory. △M: -15.21GB. △T: 1.3 seconds.\n"
     ]
    }
   ],
   "source": [
    "with pu.profiler(\"releasing memory\"):\n",
    "    del X_train\n",
    "    # del X_valid\n",
    "    gc.collect()"
   ]
  },
  {
   "cell_type": "code",
   "execution_count": 9,
   "metadata": {},
   "outputs": [],
   "source": [
    "log_folder = os.path.join(config.LOG_DIR, 'lgbm/pipeline/0518/')\n",
    "log_file = 'v1.log'\n",
    "log_path = os.path.join(log_folder, log_file)\n",
    "os.makedirs(log_folder, exist_ok=True)"
   ]
  },
  {
   "cell_type": "code",
   "execution_count": 10,
   "metadata": {
    "scrolled": true
   },
   "outputs": [
    {
     "name": "stdout",
     "output_type": "stream",
     "text": [
      "[1]\ttrain's auc: 0.622823\ttrain's online_auc: 0.640361\tvalid1's auc: 0.620361\tvalid1's online_auc: 0.636116\n",
      "Training until validation scores don't improve for 50 rounds.\n",
      "[2]\ttrain's auc: 0.632134\ttrain's online_auc: 0.650915\tvalid1's auc: 0.629681\tvalid1's online_auc: 0.647251\n",
      "[3]\ttrain's auc: 0.637704\ttrain's online_auc: 0.65893\tvalid1's auc: 0.63425\tvalid1's online_auc: 0.65438\n",
      "[4]\ttrain's auc: 0.639175\ttrain's online_auc: 0.660513\tvalid1's auc: 0.635457\tvalid1's online_auc: 0.655854\n",
      "[5]\ttrain's auc: 0.641321\ttrain's online_auc: 0.663465\tvalid1's auc: 0.637521\tvalid1's online_auc: 0.658102\n",
      "[6]\ttrain's auc: 0.641966\ttrain's online_auc: 0.66411\tvalid1's auc: 0.638117\tvalid1's online_auc: 0.65865\n",
      "[7]\ttrain's auc: 0.64355\ttrain's online_auc: 0.665303\tvalid1's auc: 0.639642\tvalid1's online_auc: 0.65979\n",
      "[8]\ttrain's auc: 0.645657\ttrain's online_auc: 0.668227\tvalid1's auc: 0.641907\tvalid1's online_auc: 0.662213\n",
      "[9]\ttrain's auc: 0.646757\ttrain's online_auc: 0.66959\tvalid1's auc: 0.643022\tvalid1's online_auc: 0.66392\n",
      "[10]\ttrain's auc: 0.64762\ttrain's online_auc: 0.670797\tvalid1's auc: 0.643784\tvalid1's online_auc: 0.664995\n",
      "[11]\ttrain's auc: 0.648371\ttrain's online_auc: 0.671429\tvalid1's auc: 0.644356\tvalid1's online_auc: 0.665537\n",
      "[12]\ttrain's auc: 0.648769\ttrain's online_auc: 0.671916\tvalid1's auc: 0.644584\tvalid1's online_auc: 0.66579\n",
      "[13]\ttrain's auc: 0.649885\ttrain's online_auc: 0.672922\tvalid1's auc: 0.645568\tvalid1's online_auc: 0.667059\n",
      "[14]\ttrain's auc: 0.650697\ttrain's online_auc: 0.673816\tvalid1's auc: 0.646502\tvalid1's online_auc: 0.668137\n",
      "[15]\ttrain's auc: 0.651869\ttrain's online_auc: 0.67507\tvalid1's auc: 0.647602\tvalid1's online_auc: 0.66922\n",
      "[16]\ttrain's auc: 0.652601\ttrain's online_auc: 0.675572\tvalid1's auc: 0.647987\tvalid1's online_auc: 0.669419\n",
      "[17]\ttrain's auc: 0.653761\ttrain's online_auc: 0.676694\tvalid1's auc: 0.648914\tvalid1's online_auc: 0.670312\n",
      "[18]\ttrain's auc: 0.65481\ttrain's online_auc: 0.677868\tvalid1's auc: 0.649845\tvalid1's online_auc: 0.671279\n",
      "[19]\ttrain's auc: 0.655925\ttrain's online_auc: 0.679056\tvalid1's auc: 0.650623\tvalid1's online_auc: 0.672069\n",
      "[20]\ttrain's auc: 0.657074\ttrain's online_auc: 0.680061\tvalid1's auc: 0.651608\tvalid1's online_auc: 0.673006\n",
      "[21]\ttrain's auc: 0.658129\ttrain's online_auc: 0.681178\tvalid1's auc: 0.652559\tvalid1's online_auc: 0.67391\n",
      "[22]\ttrain's auc: 0.659107\ttrain's online_auc: 0.681933\tvalid1's auc: 0.653232\tvalid1's online_auc: 0.674496\n",
      "[23]\ttrain's auc: 0.660087\ttrain's online_auc: 0.682754\tvalid1's auc: 0.653998\tvalid1's online_auc: 0.675132\n",
      "[24]\ttrain's auc: 0.661068\ttrain's online_auc: 0.683548\tvalid1's auc: 0.654795\tvalid1's online_auc: 0.675711\n",
      "[25]\ttrain's auc: 0.662227\ttrain's online_auc: 0.684633\tvalid1's auc: 0.655822\tvalid1's online_auc: 0.676702\n",
      "[26]\ttrain's auc: 0.662999\ttrain's online_auc: 0.685386\tvalid1's auc: 0.656397\tvalid1's online_auc: 0.677148\n",
      "[27]\ttrain's auc: 0.663956\ttrain's online_auc: 0.686276\tvalid1's auc: 0.656971\tvalid1's online_auc: 0.677682\n",
      "[28]\ttrain's auc: 0.664882\ttrain's online_auc: 0.687086\tvalid1's auc: 0.657609\tvalid1's online_auc: 0.678227\n",
      "[29]\ttrain's auc: 0.665575\ttrain's online_auc: 0.687697\tvalid1's auc: 0.658041\tvalid1's online_auc: 0.67862\n",
      "[30]\ttrain's auc: 0.666374\ttrain's online_auc: 0.68841\tvalid1's auc: 0.658543\tvalid1's online_auc: 0.679194\n",
      "[31]\ttrain's auc: 0.667009\ttrain's online_auc: 0.688966\tvalid1's auc: 0.658896\tvalid1's online_auc: 0.679536\n",
      "[32]\ttrain's auc: 0.667957\ttrain's online_auc: 0.68959\tvalid1's auc: 0.659511\tvalid1's online_auc: 0.679857\n",
      "[33]\ttrain's auc: 0.66855\ttrain's online_auc: 0.69013\tvalid1's auc: 0.659782\tvalid1's online_auc: 0.680022\n",
      "[34]\ttrain's auc: 0.669169\ttrain's online_auc: 0.690702\tvalid1's auc: 0.660161\tvalid1's online_auc: 0.680403\n",
      "[35]\ttrain's auc: 0.669936\ttrain's online_auc: 0.691097\tvalid1's auc: 0.660565\tvalid1's online_auc: 0.680607\n",
      "[36]\ttrain's auc: 0.670635\ttrain's online_auc: 0.6918\tvalid1's auc: 0.660897\tvalid1's online_auc: 0.680921\n",
      "[37]\ttrain's auc: 0.671279\ttrain's online_auc: 0.692302\tvalid1's auc: 0.661178\tvalid1's online_auc: 0.681247\n",
      "[38]\ttrain's auc: 0.671829\ttrain's online_auc: 0.692791\tvalid1's auc: 0.661386\tvalid1's online_auc: 0.681284\n",
      "[39]\ttrain's auc: 0.672404\ttrain's online_auc: 0.693346\tvalid1's auc: 0.66161\tvalid1's online_auc: 0.681444\n",
      "[40]\ttrain's auc: 0.673081\ttrain's online_auc: 0.693802\tvalid1's auc: 0.661922\tvalid1's online_auc: 0.681545\n",
      "[41]\ttrain's auc: 0.673671\ttrain's online_auc: 0.694339\tvalid1's auc: 0.662181\tvalid1's online_auc: 0.68176\n",
      "[42]\ttrain's auc: 0.674247\ttrain's online_auc: 0.6948\tvalid1's auc: 0.662349\tvalid1's online_auc: 0.681893\n",
      "[43]\ttrain's auc: 0.674725\ttrain's online_auc: 0.695204\tvalid1's auc: 0.662536\tvalid1's online_auc: 0.681998\n",
      "[44]\ttrain's auc: 0.675306\ttrain's online_auc: 0.695654\tvalid1's auc: 0.66276\tvalid1's online_auc: 0.682199\n",
      "[45]\ttrain's auc: 0.675831\ttrain's online_auc: 0.696117\tvalid1's auc: 0.662886\tvalid1's online_auc: 0.682311\n",
      "[46]\ttrain's auc: 0.676339\ttrain's online_auc: 0.696534\tvalid1's auc: 0.663113\tvalid1's online_auc: 0.682431\n",
      "[47]\ttrain's auc: 0.676845\ttrain's online_auc: 0.697005\tvalid1's auc: 0.66331\tvalid1's online_auc: 0.682658\n",
      "[48]\ttrain's auc: 0.677318\ttrain's online_auc: 0.697488\tvalid1's auc: 0.663554\tvalid1's online_auc: 0.682853\n",
      "[49]\ttrain's auc: 0.67788\ttrain's online_auc: 0.697905\tvalid1's auc: 0.663697\tvalid1's online_auc: 0.682892\n",
      "[50]\ttrain's auc: 0.678416\ttrain's online_auc: 0.698457\tvalid1's auc: 0.663861\tvalid1's online_auc: 0.68301\n",
      "[51]\ttrain's auc: 0.678857\ttrain's online_auc: 0.69893\tvalid1's auc: 0.66403\tvalid1's online_auc: 0.68321\n",
      "[52]\ttrain's auc: 0.679343\ttrain's online_auc: 0.699242\tvalid1's auc: 0.664205\tvalid1's online_auc: 0.68321\n",
      "[53]\ttrain's auc: 0.679852\ttrain's online_auc: 0.699663\tvalid1's auc: 0.66438\tvalid1's online_auc: 0.683379\n",
      "[54]\ttrain's auc: 0.680252\ttrain's online_auc: 0.700052\tvalid1's auc: 0.664483\tvalid1's online_auc: 0.683411\n",
      "[55]\ttrain's auc: 0.680731\ttrain's online_auc: 0.700503\tvalid1's auc: 0.664585\tvalid1's online_auc: 0.683451\n",
      "[56]\ttrain's auc: 0.681209\ttrain's online_auc: 0.700972\tvalid1's auc: 0.664706\tvalid1's online_auc: 0.683547\n",
      "[57]\ttrain's auc: 0.681663\ttrain's online_auc: 0.701401\tvalid1's auc: 0.664819\tvalid1's online_auc: 0.683566\n",
      "[58]\ttrain's auc: 0.682145\ttrain's online_auc: 0.701836\tvalid1's auc: 0.664922\tvalid1's online_auc: 0.683602\n",
      "[59]\ttrain's auc: 0.682598\ttrain's online_auc: 0.702207\tvalid1's auc: 0.664978\tvalid1's online_auc: 0.683595\n",
      "[60]\ttrain's auc: 0.683106\ttrain's online_auc: 0.70267\tvalid1's auc: 0.665044\tvalid1's online_auc: 0.683657\n",
      "[61]\ttrain's auc: 0.68355\ttrain's online_auc: 0.703126\tvalid1's auc: 0.665103\tvalid1's online_auc: 0.683715\n",
      "[62]\ttrain's auc: 0.684008\ttrain's online_auc: 0.703582\tvalid1's auc: 0.665175\tvalid1's online_auc: 0.683858\n",
      "[63]\ttrain's auc: 0.684419\ttrain's online_auc: 0.703941\tvalid1's auc: 0.665266\tvalid1's online_auc: 0.683936\n",
      "[64]\ttrain's auc: 0.684856\ttrain's online_auc: 0.704392\tvalid1's auc: 0.665414\tvalid1's online_auc: 0.684142\n",
      "[65]\ttrain's auc: 0.685238\ttrain's online_auc: 0.704728\tvalid1's auc: 0.66549\tvalid1's online_auc: 0.684186\n",
      "[66]\ttrain's auc: 0.68564\ttrain's online_auc: 0.705088\tvalid1's auc: 0.665586\tvalid1's online_auc: 0.684262\n",
      "[67]\ttrain's auc: 0.685992\ttrain's online_auc: 0.70537\tvalid1's auc: 0.665606\tvalid1's online_auc: 0.68426\n",
      "[68]\ttrain's auc: 0.686384\ttrain's online_auc: 0.70573\tvalid1's auc: 0.665694\tvalid1's online_auc: 0.68435\n",
      "[69]\ttrain's auc: 0.686776\ttrain's online_auc: 0.706137\tvalid1's auc: 0.665831\tvalid1's online_auc: 0.684447\n",
      "[70]\ttrain's auc: 0.687169\ttrain's online_auc: 0.706562\tvalid1's auc: 0.665913\tvalid1's online_auc: 0.684494\n",
      "[71]\ttrain's auc: 0.687573\ttrain's online_auc: 0.706967\tvalid1's auc: 0.665904\tvalid1's online_auc: 0.684448\n",
      "[72]\ttrain's auc: 0.687958\ttrain's online_auc: 0.707372\tvalid1's auc: 0.66596\tvalid1's online_auc: 0.684515\n",
      "[73]\ttrain's auc: 0.688378\ttrain's online_auc: 0.707711\tvalid1's auc: 0.666011\tvalid1's online_auc: 0.684469\n",
      "[74]\ttrain's auc: 0.688798\ttrain's online_auc: 0.708045\tvalid1's auc: 0.666065\tvalid1's online_auc: 0.684461\n",
      "[75]\ttrain's auc: 0.689212\ttrain's online_auc: 0.708404\tvalid1's auc: 0.666131\tvalid1's online_auc: 0.684494\n",
      "[76]\ttrain's auc: 0.689624\ttrain's online_auc: 0.708793\tvalid1's auc: 0.666173\tvalid1's online_auc: 0.684566\n"
     ]
    },
    {
     "name": "stdout",
     "output_type": "stream",
     "text": [
      "[77]\ttrain's auc: 0.69002\ttrain's online_auc: 0.709138\tvalid1's auc: 0.666212\tvalid1's online_auc: 0.684588\n",
      "[78]\ttrain's auc: 0.690414\ttrain's online_auc: 0.709549\tvalid1's auc: 0.666275\tvalid1's online_auc: 0.684619\n",
      "[79]\ttrain's auc: 0.69083\ttrain's online_auc: 0.709988\tvalid1's auc: 0.666303\tvalid1's online_auc: 0.684628\n",
      "[80]\ttrain's auc: 0.69122\ttrain's online_auc: 0.710305\tvalid1's auc: 0.66633\tvalid1's online_auc: 0.684661\n",
      "[81]\ttrain's auc: 0.69168\ttrain's online_auc: 0.710703\tvalid1's auc: 0.666344\tvalid1's online_auc: 0.684643\n",
      "[82]\ttrain's auc: 0.692059\ttrain's online_auc: 0.711091\tvalid1's auc: 0.666365\tvalid1's online_auc: 0.6847\n",
      "[83]\ttrain's auc: 0.692507\ttrain's online_auc: 0.711567\tvalid1's auc: 0.666385\tvalid1's online_auc: 0.684735\n",
      "[84]\ttrain's auc: 0.69293\ttrain's online_auc: 0.712028\tvalid1's auc: 0.666501\tvalid1's online_auc: 0.68499\n",
      "[85]\ttrain's auc: 0.693385\ttrain's online_auc: 0.712521\tvalid1's auc: 0.666538\tvalid1's online_auc: 0.684969\n",
      "[86]\ttrain's auc: 0.693743\ttrain's online_auc: 0.712885\tvalid1's auc: 0.66655\tvalid1's online_auc: 0.684976\n",
      "[87]\ttrain's auc: 0.694087\ttrain's online_auc: 0.713214\tvalid1's auc: 0.666639\tvalid1's online_auc: 0.685071\n",
      "[88]\ttrain's auc: 0.694406\ttrain's online_auc: 0.713555\tvalid1's auc: 0.666717\tvalid1's online_auc: 0.685142\n",
      "[89]\ttrain's auc: 0.694891\ttrain's online_auc: 0.714003\tvalid1's auc: 0.666778\tvalid1's online_auc: 0.685222\n",
      "[90]\ttrain's auc: 0.695324\ttrain's online_auc: 0.714503\tvalid1's auc: 0.666752\tvalid1's online_auc: 0.68521\n",
      "[91]\ttrain's auc: 0.695835\ttrain's online_auc: 0.715004\tvalid1's auc: 0.666768\tvalid1's online_auc: 0.685189\n",
      "[92]\ttrain's auc: 0.696131\ttrain's online_auc: 0.715307\tvalid1's auc: 0.666792\tvalid1's online_auc: 0.685168\n",
      "[93]\ttrain's auc: 0.69644\ttrain's online_auc: 0.715646\tvalid1's auc: 0.66677\tvalid1's online_auc: 0.685155\n",
      "[94]\ttrain's auc: 0.69684\ttrain's online_auc: 0.716028\tvalid1's auc: 0.666724\tvalid1's online_auc: 0.685095\n",
      "[95]\ttrain's auc: 0.69717\ttrain's online_auc: 0.71632\tvalid1's auc: 0.666716\tvalid1's online_auc: 0.685114\n",
      "[96]\ttrain's auc: 0.697682\ttrain's online_auc: 0.716992\tvalid1's auc: 0.666707\tvalid1's online_auc: 0.685034\n",
      "[97]\ttrain's auc: 0.697922\ttrain's online_auc: 0.717242\tvalid1's auc: 0.666728\tvalid1's online_auc: 0.685064\n",
      "[98]\ttrain's auc: 0.698302\ttrain's online_auc: 0.717571\tvalid1's auc: 0.66673\tvalid1's online_auc: 0.685036\n",
      "[99]\ttrain's auc: 0.698693\ttrain's online_auc: 0.717945\tvalid1's auc: 0.666747\tvalid1's online_auc: 0.685026\n",
      "[100]\ttrain's auc: 0.699164\ttrain's online_auc: 0.718438\tvalid1's auc: 0.666747\tvalid1's online_auc: 0.685006\n",
      "[101]\ttrain's auc: 0.699441\ttrain's online_auc: 0.718792\tvalid1's auc: 0.666765\tvalid1's online_auc: 0.685023\n",
      "[102]\ttrain's auc: 0.699803\ttrain's online_auc: 0.719174\tvalid1's auc: 0.666804\tvalid1's online_auc: 0.68508\n",
      "[103]\ttrain's auc: 0.700134\ttrain's online_auc: 0.719472\tvalid1's auc: 0.666824\tvalid1's online_auc: 0.685099\n",
      "[104]\ttrain's auc: 0.700544\ttrain's online_auc: 0.719841\tvalid1's auc: 0.666869\tvalid1's online_auc: 0.68518\n",
      "[105]\ttrain's auc: 0.701063\ttrain's online_auc: 0.720372\tvalid1's auc: 0.666838\tvalid1's online_auc: 0.685124\n",
      "[106]\ttrain's auc: 0.701416\ttrain's online_auc: 0.72077\tvalid1's auc: 0.666857\tvalid1's online_auc: 0.685161\n",
      "[107]\ttrain's auc: 0.701933\ttrain's online_auc: 0.721271\tvalid1's auc: 0.666929\tvalid1's online_auc: 0.685225\n",
      "[108]\ttrain's auc: 0.702256\ttrain's online_auc: 0.721569\tvalid1's auc: 0.666879\tvalid1's online_auc: 0.6852\n",
      "[109]\ttrain's auc: 0.702667\ttrain's online_auc: 0.721973\tvalid1's auc: 0.666862\tvalid1's online_auc: 0.685144\n",
      "[110]\ttrain's auc: 0.702989\ttrain's online_auc: 0.72231\tvalid1's auc: 0.666878\tvalid1's online_auc: 0.68516\n",
      "[111]\ttrain's auc: 0.703306\ttrain's online_auc: 0.722571\tvalid1's auc: 0.666824\tvalid1's online_auc: 0.6851\n",
      "[112]\ttrain's auc: 0.703697\ttrain's online_auc: 0.722956\tvalid1's auc: 0.666892\tvalid1's online_auc: 0.685098\n",
      "[113]\ttrain's auc: 0.704073\ttrain's online_auc: 0.723338\tvalid1's auc: 0.666894\tvalid1's online_auc: 0.685084\n",
      "[114]\ttrain's auc: 0.704335\ttrain's online_auc: 0.723621\tvalid1's auc: 0.666869\tvalid1's online_auc: 0.685097\n",
      "[115]\ttrain's auc: 0.704715\ttrain's online_auc: 0.723876\tvalid1's auc: 0.666874\tvalid1's online_auc: 0.685127\n",
      "[116]\ttrain's auc: 0.705052\ttrain's online_auc: 0.724161\tvalid1's auc: 0.666905\tvalid1's online_auc: 0.685137\n",
      "[117]\ttrain's auc: 0.705374\ttrain's online_auc: 0.724486\tvalid1's auc: 0.666932\tvalid1's online_auc: 0.685158\n",
      "[118]\ttrain's auc: 0.705744\ttrain's online_auc: 0.724818\tvalid1's auc: 0.666907\tvalid1's online_auc: 0.685158\n",
      "[119]\ttrain's auc: 0.706019\ttrain's online_auc: 0.725093\tvalid1's auc: 0.666888\tvalid1's online_auc: 0.685174\n",
      "[120]\ttrain's auc: 0.706371\ttrain's online_auc: 0.725433\tvalid1's auc: 0.666886\tvalid1's online_auc: 0.685148\n",
      "[121]\ttrain's auc: 0.706737\ttrain's online_auc: 0.725716\tvalid1's auc: 0.666898\tvalid1's online_auc: 0.685166\n",
      "[122]\ttrain's auc: 0.707091\ttrain's online_auc: 0.726109\tvalid1's auc: 0.666882\tvalid1's online_auc: 0.685136\n",
      "[123]\ttrain's auc: 0.707351\ttrain's online_auc: 0.726392\tvalid1's auc: 0.666935\tvalid1's online_auc: 0.68523\n",
      "[124]\ttrain's auc: 0.70757\ttrain's online_auc: 0.726614\tvalid1's auc: 0.666909\tvalid1's online_auc: 0.685206\n",
      "[125]\ttrain's auc: 0.70787\ttrain's online_auc: 0.726868\tvalid1's auc: 0.666967\tvalid1's online_auc: 0.685241\n",
      "[126]\ttrain's auc: 0.70818\ttrain's online_auc: 0.727172\tvalid1's auc: 0.66695\tvalid1's online_auc: 0.685213\n",
      "[127]\ttrain's auc: 0.708576\ttrain's online_auc: 0.72768\tvalid1's auc: 0.666949\tvalid1's online_auc: 0.685168\n",
      "[128]\ttrain's auc: 0.708797\ttrain's online_auc: 0.727932\tvalid1's auc: 0.66692\tvalid1's online_auc: 0.685113\n",
      "[129]\ttrain's auc: 0.709164\ttrain's online_auc: 0.728295\tvalid1's auc: 0.666925\tvalid1's online_auc: 0.685103\n",
      "[130]\ttrain's auc: 0.709475\ttrain's online_auc: 0.728582\tvalid1's auc: 0.666908\tvalid1's online_auc: 0.685072\n",
      "[131]\ttrain's auc: 0.709817\ttrain's online_auc: 0.728914\tvalid1's auc: 0.666876\tvalid1's online_auc: 0.68504\n",
      "[132]\ttrain's auc: 0.710139\ttrain's online_auc: 0.729212\tvalid1's auc: 0.666903\tvalid1's online_auc: 0.685083\n",
      "[133]\ttrain's auc: 0.710553\ttrain's online_auc: 0.729618\tvalid1's auc: 0.666863\tvalid1's online_auc: 0.685028\n",
      "[134]\ttrain's auc: 0.710847\ttrain's online_auc: 0.729956\tvalid1's auc: 0.666834\tvalid1's online_auc: 0.685014\n",
      "[135]\ttrain's auc: 0.71106\ttrain's online_auc: 0.730169\tvalid1's auc: 0.666855\tvalid1's online_auc: 0.685021\n",
      "[136]\ttrain's auc: 0.711426\ttrain's online_auc: 0.730559\tvalid1's auc: 0.666841\tvalid1's online_auc: 0.68509\n",
      "[137]\ttrain's auc: 0.711716\ttrain's online_auc: 0.730836\tvalid1's auc: 0.666838\tvalid1's online_auc: 0.685078\n",
      "[138]\ttrain's auc: 0.712013\ttrain's online_auc: 0.731139\tvalid1's auc: 0.666895\tvalid1's online_auc: 0.685159\n",
      "[139]\ttrain's auc: 0.712364\ttrain's online_auc: 0.731506\tvalid1's auc: 0.666886\tvalid1's online_auc: 0.68517\n",
      "[140]\ttrain's auc: 0.712647\ttrain's online_auc: 0.731773\tvalid1's auc: 0.666857\tvalid1's online_auc: 0.685117\n",
      "[141]\ttrain's auc: 0.712854\ttrain's online_auc: 0.731984\tvalid1's auc: 0.666824\tvalid1's online_auc: 0.68508\n",
      "[142]\ttrain's auc: 0.713182\ttrain's online_auc: 0.732346\tvalid1's auc: 0.666826\tvalid1's online_auc: 0.685062\n",
      "[143]\ttrain's auc: 0.713478\ttrain's online_auc: 0.732646\tvalid1's auc: 0.66681\tvalid1's online_auc: 0.685064\n",
      "[144]\ttrain's auc: 0.713746\ttrain's online_auc: 0.732947\tvalid1's auc: 0.66681\tvalid1's online_auc: 0.684984\n",
      "[145]\ttrain's auc: 0.714088\ttrain's online_auc: 0.733265\tvalid1's auc: 0.666822\tvalid1's online_auc: 0.684979\n",
      "[146]\ttrain's auc: 0.714343\ttrain's online_auc: 0.733521\tvalid1's auc: 0.666799\tvalid1's online_auc: 0.684957\n",
      "[147]\ttrain's auc: 0.714562\ttrain's online_auc: 0.733732\tvalid1's auc: 0.66681\tvalid1's online_auc: 0.684996\n",
      "[148]\ttrain's auc: 0.714853\ttrain's online_auc: 0.733948\tvalid1's auc: 0.666775\tvalid1's online_auc: 0.684947\n",
      "[149]\ttrain's auc: 0.715051\ttrain's online_auc: 0.734157\tvalid1's auc: 0.666767\tvalid1's online_auc: 0.684954\n",
      "[150]\ttrain's auc: 0.715479\ttrain's online_auc: 0.734567\tvalid1's auc: 0.666773\tvalid1's online_auc: 0.684917\n",
      "[151]\ttrain's auc: 0.715805\ttrain's online_auc: 0.734858\tvalid1's auc: 0.666753\tvalid1's online_auc: 0.684899\n",
      "[152]\ttrain's auc: 0.716053\ttrain's online_auc: 0.735154\tvalid1's auc: 0.666748\tvalid1's online_auc: 0.684881\n"
     ]
    },
    {
     "name": "stdout",
     "output_type": "stream",
     "text": [
      "[153]\ttrain's auc: 0.716285\ttrain's online_auc: 0.735368\tvalid1's auc: 0.666745\tvalid1's online_auc: 0.684865\n",
      "[154]\ttrain's auc: 0.716591\ttrain's online_auc: 0.735688\tvalid1's auc: 0.666769\tvalid1's online_auc: 0.684943\n",
      "[155]\ttrain's auc: 0.716878\ttrain's online_auc: 0.735957\tvalid1's auc: 0.666767\tvalid1's online_auc: 0.684941\n",
      "[156]\ttrain's auc: 0.717022\ttrain's online_auc: 0.736129\tvalid1's auc: 0.666715\tvalid1's online_auc: 0.684871\n",
      "[157]\ttrain's auc: 0.717296\ttrain's online_auc: 0.736358\tvalid1's auc: 0.666696\tvalid1's online_auc: 0.684879\n",
      "[158]\ttrain's auc: 0.717648\ttrain's online_auc: 0.736722\tvalid1's auc: 0.666717\tvalid1's online_auc: 0.684931\n",
      "[159]\ttrain's auc: 0.717997\ttrain's online_auc: 0.737094\tvalid1's auc: 0.666722\tvalid1's online_auc: 0.684899\n",
      "[160]\ttrain's auc: 0.718347\ttrain's online_auc: 0.737466\tvalid1's auc: 0.666738\tvalid1's online_auc: 0.684861\n",
      "[161]\ttrain's auc: 0.718774\ttrain's online_auc: 0.737843\tvalid1's auc: 0.666682\tvalid1's online_auc: 0.684765\n",
      "[162]\ttrain's auc: 0.719085\ttrain's online_auc: 0.738233\tvalid1's auc: 0.66669\tvalid1's online_auc: 0.684757\n",
      "[163]\ttrain's auc: 0.719422\ttrain's online_auc: 0.738561\tvalid1's auc: 0.66667\tvalid1's online_auc: 0.684764\n",
      "[164]\ttrain's auc: 0.719665\ttrain's online_auc: 0.738815\tvalid1's auc: 0.666613\tvalid1's online_auc: 0.684718\n",
      "[165]\ttrain's auc: 0.719933\ttrain's online_auc: 0.739074\tvalid1's auc: 0.666586\tvalid1's online_auc: 0.684705\n",
      "[166]\ttrain's auc: 0.720243\ttrain's online_auc: 0.73934\tvalid1's auc: 0.666578\tvalid1's online_auc: 0.684695\n",
      "[167]\ttrain's auc: 0.720526\ttrain's online_auc: 0.739588\tvalid1's auc: 0.666558\tvalid1's online_auc: 0.6847\n",
      "[168]\ttrain's auc: 0.720776\ttrain's online_auc: 0.739797\tvalid1's auc: 0.666572\tvalid1's online_auc: 0.684753\n",
      "[169]\ttrain's auc: 0.721132\ttrain's online_auc: 0.740054\tvalid1's auc: 0.666546\tvalid1's online_auc: 0.684728\n",
      "[170]\ttrain's auc: 0.721463\ttrain's online_auc: 0.740342\tvalid1's auc: 0.666558\tvalid1's online_auc: 0.684685\n",
      "[171]\ttrain's auc: 0.721803\ttrain's online_auc: 0.740664\tvalid1's auc: 0.666555\tvalid1's online_auc: 0.684657\n",
      "[172]\ttrain's auc: 0.722164\ttrain's online_auc: 0.741034\tvalid1's auc: 0.666542\tvalid1's online_auc: 0.68463\n",
      "[173]\ttrain's auc: 0.722413\ttrain's online_auc: 0.741254\tvalid1's auc: 0.666548\tvalid1's online_auc: 0.684613\n",
      "[174]\ttrain's auc: 0.722735\ttrain's online_auc: 0.741654\tvalid1's auc: 0.666529\tvalid1's online_auc: 0.684615\n",
      "[175]\ttrain's auc: 0.723049\ttrain's online_auc: 0.741915\tvalid1's auc: 0.666526\tvalid1's online_auc: 0.684648\n",
      "Early stopping, best iteration is:\n",
      "[125]\ttrain's auc: 0.70787\ttrain's online_auc: 0.726868\tvalid1's auc: 0.666967\tvalid1's online_auc: 0.685241\n"
     ]
    }
   ],
   "source": [
    "# v2 parameters\n",
    "params = {\n",
    "    'boosting_type': 'gbdt',\n",
    "    'objective': 'binary',\n",
    "    'metric': 'auc',\n",
    "    'max_depth': 15,\n",
    "    'num_leaves': 120,\n",
    "    'learning_rate': 0.15,\n",
    "    'feature_fraction': 0.9,\n",
    "    'bagging_fraction': 0.8,\n",
    "    'verbose': 0\n",
    "}\n",
    "num_rounds = 1000\n",
    "# # v3 parameters\n",
    "# params = {\n",
    "#     'boosting_type': 'gbdt',\n",
    "#     'objective': 'binary',\n",
    "#     'metric': 'auc',\n",
    "#     'max_depth': 6,\n",
    "#     'num_leaves': 64,\n",
    "#     'learning_rate': 0.1,\n",
    "#     'feature_fraction': 0.5,\n",
    "#     'bagging_fraction': 0.5,\n",
    "#     'verbose': 0\n",
    "# }\n",
    "# num_rounds = 5000\n",
    "eval_auc = eu.build_lightgbm_online_auc_eval(aids_train, aids_valid)\n",
    "\n",
    "with iu.DuplicatedLogger(log_path):\n",
    "    lgbm = lgb.train(params,\n",
    "                     lgb_train,\n",
    "                     num_boost_round=num_rounds,\n",
    "                     valid_sets=[lgb_train, lgb_valid], \n",
    "                     valid_names=['train', 'valid1'],\n",
    "                     feval = eval_auc,\n",
    "                     early_stopping_rounds=50)"
   ]
  },
  {
   "cell_type": "code",
   "execution_count": 12,
   "metadata": {
    "scrolled": true
   },
   "outputs": [
    {
     "data": {
      "text/html": [
       "<div>\n",
       "<style scoped>\n",
       "    .dataframe tbody tr th:only-of-type {\n",
       "        vertical-align: middle;\n",
       "    }\n",
       "\n",
       "    .dataframe tbody tr th {\n",
       "        vertical-align: top;\n",
       "    }\n",
       "\n",
       "    .dataframe thead th {\n",
       "        text-align: right;\n",
       "    }\n",
       "</style>\n",
       "<table border=\"1\" class=\"dataframe\">\n",
       "  <thead>\n",
       "    <tr style=\"text-align: right;\">\n",
       "      <th></th>\n",
       "      <th>feature</th>\n",
       "      <th>importance</th>\n",
       "    </tr>\n",
       "  </thead>\n",
       "  <tbody>\n",
       "    <tr>\n",
       "      <th>147</th>\n",
       "      <td>kw2_embedding_20</td>\n",
       "      <td>234</td>\n",
       "    </tr>\n",
       "    <tr>\n",
       "      <th>156</th>\n",
       "      <td>kw2_embedding_29</td>\n",
       "      <td>158</td>\n",
       "    </tr>\n",
       "    <tr>\n",
       "      <th>151</th>\n",
       "      <td>kw2_embedding_24</td>\n",
       "      <td>153</td>\n",
       "    </tr>\n",
       "    <tr>\n",
       "      <th>165</th>\n",
       "      <td>kw2_embedding_38</td>\n",
       "      <td>152</td>\n",
       "    </tr>\n",
       "    <tr>\n",
       "      <th>322</th>\n",
       "      <td>topic2_embedding_45</td>\n",
       "      <td>151</td>\n",
       "    </tr>\n",
       "    <tr>\n",
       "      <th>314</th>\n",
       "      <td>topic2_embedding_37</td>\n",
       "      <td>144</td>\n",
       "    </tr>\n",
       "    <tr>\n",
       "      <th>296</th>\n",
       "      <td>topic2_embedding_19</td>\n",
       "      <td>134</td>\n",
       "    </tr>\n",
       "    <tr>\n",
       "      <th>146</th>\n",
       "      <td>kw2_embedding_19</td>\n",
       "      <td>134</td>\n",
       "    </tr>\n",
       "    <tr>\n",
       "      <th>175</th>\n",
       "      <td>kw2_embedding_48</td>\n",
       "      <td>133</td>\n",
       "    </tr>\n",
       "    <tr>\n",
       "      <th>41</th>\n",
       "      <td>interest2_embedding_8</td>\n",
       "      <td>133</td>\n",
       "    </tr>\n",
       "    <tr>\n",
       "      <th>44</th>\n",
       "      <td>interest2_embedding_11</td>\n",
       "      <td>131</td>\n",
       "    </tr>\n",
       "    <tr>\n",
       "      <th>33</th>\n",
       "      <td>interest2_embedding_0</td>\n",
       "      <td>131</td>\n",
       "    </tr>\n",
       "    <tr>\n",
       "      <th>176</th>\n",
       "      <td>kw2_embedding_49</td>\n",
       "      <td>124</td>\n",
       "    </tr>\n",
       "    <tr>\n",
       "      <th>132</th>\n",
       "      <td>kw2_embedding_5</td>\n",
       "      <td>122</td>\n",
       "    </tr>\n",
       "    <tr>\n",
       "      <th>139</th>\n",
       "      <td>kw2_embedding_12</td>\n",
       "      <td>121</td>\n",
       "    </tr>\n",
       "    <tr>\n",
       "      <th>169</th>\n",
       "      <td>kw2_embedding_42</td>\n",
       "      <td>121</td>\n",
       "    </tr>\n",
       "    <tr>\n",
       "      <th>36</th>\n",
       "      <td>interest2_embedding_3</td>\n",
       "      <td>120</td>\n",
       "    </tr>\n",
       "    <tr>\n",
       "      <th>116</th>\n",
       "      <td>kw1_embedding_39</td>\n",
       "      <td>118</td>\n",
       "    </tr>\n",
       "    <tr>\n",
       "      <th>138</th>\n",
       "      <td>kw2_embedding_11</td>\n",
       "      <td>117</td>\n",
       "    </tr>\n",
       "    <tr>\n",
       "      <th>159</th>\n",
       "      <td>kw2_embedding_32</td>\n",
       "      <td>114</td>\n",
       "    </tr>\n",
       "    <tr>\n",
       "      <th>37</th>\n",
       "      <td>interest2_embedding_4</td>\n",
       "      <td>113</td>\n",
       "    </tr>\n",
       "    <tr>\n",
       "      <th>145</th>\n",
       "      <td>kw2_embedding_18</td>\n",
       "      <td>112</td>\n",
       "    </tr>\n",
       "    <tr>\n",
       "      <th>127</th>\n",
       "      <td>kw2_embedding_0</td>\n",
       "      <td>110</td>\n",
       "    </tr>\n",
       "    <tr>\n",
       "      <th>288</th>\n",
       "      <td>topic2_embedding_11</td>\n",
       "      <td>109</td>\n",
       "    </tr>\n",
       "    <tr>\n",
       "      <th>141</th>\n",
       "      <td>kw2_embedding_14</td>\n",
       "      <td>108</td>\n",
       "    </tr>\n",
       "    <tr>\n",
       "      <th>302</th>\n",
       "      <td>topic2_embedding_25</td>\n",
       "      <td>103</td>\n",
       "    </tr>\n",
       "    <tr>\n",
       "      <th>152</th>\n",
       "      <td>kw2_embedding_25</td>\n",
       "      <td>101</td>\n",
       "    </tr>\n",
       "    <tr>\n",
       "      <th>315</th>\n",
       "      <td>topic2_embedding_38</td>\n",
       "      <td>100</td>\n",
       "    </tr>\n",
       "    <tr>\n",
       "      <th>168</th>\n",
       "      <td>kw2_embedding_41</td>\n",
       "      <td>100</td>\n",
       "    </tr>\n",
       "    <tr>\n",
       "      <th>143</th>\n",
       "      <td>kw2_embedding_16</td>\n",
       "      <td>98</td>\n",
       "    </tr>\n",
       "  </tbody>\n",
       "</table>\n",
       "</div>"
      ],
      "text/plain": [
       "                    feature  importance\n",
       "147        kw2_embedding_20         234\n",
       "156        kw2_embedding_29         158\n",
       "151        kw2_embedding_24         153\n",
       "165        kw2_embedding_38         152\n",
       "322     topic2_embedding_45         151\n",
       "314     topic2_embedding_37         144\n",
       "296     topic2_embedding_19         134\n",
       "146        kw2_embedding_19         134\n",
       "175        kw2_embedding_48         133\n",
       "41    interest2_embedding_8         133\n",
       "44   interest2_embedding_11         131\n",
       "33    interest2_embedding_0         131\n",
       "176        kw2_embedding_49         124\n",
       "132         kw2_embedding_5         122\n",
       "139        kw2_embedding_12         121\n",
       "169        kw2_embedding_42         121\n",
       "36    interest2_embedding_3         120\n",
       "116        kw1_embedding_39         118\n",
       "138        kw2_embedding_11         117\n",
       "159        kw2_embedding_32         114\n",
       "37    interest2_embedding_4         113\n",
       "145        kw2_embedding_18         112\n",
       "127         kw2_embedding_0         110\n",
       "288     topic2_embedding_11         109\n",
       "141        kw2_embedding_14         108\n",
       "302     topic2_embedding_25         103\n",
       "152        kw2_embedding_25         101\n",
       "315     topic2_embedding_38         100\n",
       "168        kw2_embedding_41         100\n",
       "143        kw2_embedding_16          98"
      ]
     },
     "execution_count": 12,
     "metadata": {},
     "output_type": "execute_result"
    }
   ],
   "source": [
    "# these will cause LightGBM bug I don't know how to fix. Just skip it\n",
    "log_file = 'v1.feature_importance.csv'\n",
    "log_path = os.path.join(log_folder, log_file)\n",
    "\n",
    "# df_feature_importance = pd.DataFrame({\"feature\": cols_train, \"importance\": lgbm.feature_importance()})\n",
    "df_feature_importance = pd.DataFrame({\"feature\": cols_emb_train, \"importance\": lgbm.feature_importance()})\n",
    "df_feature_importance = df_feature_importance.sort_values(\"importance\", ascending=False)\n",
    "df_feature_importance.to_csv(log_path, index=False)\n",
    "df_feature_importance.head(30)"
   ]
  },
  {
   "cell_type": "code",
   "execution_count": 16,
   "metadata": {},
   "outputs": [
    {
     "name": "stdout",
     "output_type": "stream",
     "text": [
      "[02:31:13] Finish preparing valid set. △M: +3.06GB. △T: 2.4 minutes.\n"
     ]
    }
   ],
   "source": [
    "with pu.profiler(\"preparing valid set\"):\n",
    "    cols_emb_train, X_emb_tv = union_loader.load(\"train\")\n",
    "    X_valid = X_emb_tv[valid_index, :]\n",
    "    del X_emb_tv\n",
    "    gc.collect()"
   ]
  },
  {
   "cell_type": "code",
   "execution_count": 17,
   "metadata": {
    "scrolled": true
   },
   "outputs": [
    {
     "name": "stdout",
     "output_type": "stream",
     "text": [
      "[02:31:30] Finish making prediction on validation set. △M: +12.0KB. △T: 7.0 seconds.\n"
     ]
    }
   ],
   "source": [
    "with pu.profiler(\"making prediction on validation set\"):\n",
    "    df_valid = df_train.iloc[valid_index]\n",
    "    proba_valid = lgbm.predict(X_valid.astype(np.float32))\n",
    "\n",
    "log_file = 'v1.online_auc.csv'\n",
    "log_path = os.path.join(log_folder, log_file)\n",
    "df_score = eu.online_auc(df_valid['aid'], y_valid, proba_valid, ret_verbose=True)\n",
    "df_score.rename(columns={'selector': 'aid'}, inplace=True)\n",
    "df_score = df_score[['aid', 'auc']]  # sort columns\n",
    "df_score = df_score.sort_values(\"auc\", ascending=False)\n",
    "df_score.to_csv(log_path, index=False)"
   ]
  },
  {
   "cell_type": "code",
   "execution_count": 18,
   "metadata": {},
   "outputs": [
    {
     "name": "stdout",
     "output_type": "stream",
     "text": [
      "Online AUC: 0.685241\n",
      "Simple AUC: 0.666967\n"
     ]
    }
   ],
   "source": [
    "online_auc = df_score['auc'].mean()\n",
    "simple_auc = metrics.roc_auc_score(y_valid, proba_valid)\n",
    "print(\"Online AUC: {:.6f}\".format(online_auc))\n",
    "print(\"Simple AUC: {:.6f}\".format(simple_auc))"
   ]
  },
  {
   "cell_type": "code",
   "execution_count": 19,
   "metadata": {},
   "outputs": [
    {
     "name": "stdout",
     "output_type": "stream",
     "text": [
      "[02:35:07] Finish cleaning memory. △M: -6.19GB. △T: 0.7 seconds.\n"
     ]
    }
   ],
   "source": [
    "with pu.profiler(\"cleaning memory\"):\n",
    "    del lgb_train\n",
    "    del lgb_valid\n",
    "    # del X_train\n",
    "    del X_valid\n",
    "    gc.collect()"
   ]
  },
  {
   "cell_type": "code",
   "execution_count": 17,
   "metadata": {},
   "outputs": [
    {
     "name": "stdout",
     "output_type": "stream",
     "text": [
      "[15:23:44] Finish loading testing data. △M: +1.6GB. △T: 1.2 minutes.\n",
      "[15:24:12] Finish trimming testing set. △M: -1.22GB. △T: 27.6 seconds.\n",
      "Test Data Shape (After masking): (2265989, 1791142)\n"
     ]
    }
   ],
   "source": [
    "with pu.profiler(\"loading testing data\"):\n",
    "    cols_test, X_test = union_loader.load(\"test1\")\n",
    "    X_test = sparse.csr_matrix(X_test)\n",
    "    gc.collect()\n",
    "\n",
    "print(\"Test Data Shape: {}\".format(X_test.shape))\n",
    "# print(\"Test Column Numbers: {}\".format(len(cols_test)))"
   ]
  },
  {
   "cell_type": "code",
   "execution_count": 18,
   "metadata": {
    "scrolled": true
   },
   "outputs": [
    {
     "name": "stdout",
     "output_type": "stream",
     "text": [
      "[15:25:56] Finish making prediction on testing set. △M: -5.14GB. △T: 1.5 minutes.\n"
     ]
    }
   ],
   "source": [
    "df_test = du.load_raw_data(\"test\")\n",
    "X_test = X_test.astype(np.float32)\n",
    "\n",
    "with pu.profiler(\"making prediction on testing set\"):\n",
    "    proba_test = lgbm.predict(X_test)\n",
    "    assert len(proba_test.shape) == 1\n",
    "    assert proba_test.shape[0] == df_test.shape[0]"
   ]
  },
  {
   "cell_type": "code",
   "execution_count": 19,
   "metadata": {},
   "outputs": [],
   "source": [
    "subm_folder = '../../../subm/lgbm/0518_v1'\n",
    "subm_file = 'submission.csv'\n",
    "subm_path = os.path.join(subm_folder, subm_file)\n",
    "os.makedirs(subm_folder, exist_ok=True)\n",
    "\n",
    "subm = df_test.copy()\n",
    "subm[\"score\"] = proba_test\n",
    "subm.to_csv(subm_path, index=False)"
   ]
  },
  {
   "cell_type": "code",
   "execution_count": null,
   "metadata": {},
   "outputs": [],
   "source": []
  }
 ],
 "metadata": {
  "kernelspec": {
   "display_name": "Python 3",
   "language": "python",
   "name": "python3"
  },
  "language_info": {
   "codemirror_mode": {
    "name": "ipython",
    "version": 3
   },
   "file_extension": ".py",
   "mimetype": "text/x-python",
   "name": "python",
   "nbconvert_exporter": "python",
   "pygments_lexer": "ipython3",
   "version": "3.5.2"
  }
 },
 "nbformat": 4,
 "nbformat_minor": 2
}
