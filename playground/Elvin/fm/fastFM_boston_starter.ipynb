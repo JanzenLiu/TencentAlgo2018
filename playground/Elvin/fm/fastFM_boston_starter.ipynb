{
  "cells": [
    {
      "metadata": {
        "_uuid": "8f2839f25d086af736a60e9eeb907d3b93b6e0e5",
        "_cell_guid": "b1076dfc-b9ad-4769-8c92-a6c4dae69d19",
        "collapsed": true,
        "trusted": true
      },
      "cell_type": "code",
      "source": "import numpy as np\nimport pandas as pd\nimport matplotlib.pyplot as plt\nimport fastFM\nfrom fastFM import als\nfrom sklearn.preprocessing import OneHotEncoder\nfrom sklearn import datasets\nfrom sklearn.model_selection import train_test_split\nfrom sklearn.preprocessing import RobustScaler, OneHotEncoder\nfrom sklearn.metrics import mean_squared_error\nfrom sklearn.linear_model import Ridge\nfrom scipy.sparse import hstack",
      "execution_count": 1,
      "outputs": []
    },
    {
      "metadata": {
        "_uuid": "d629ff2d2480ee46fbb7e2d37f6b5fab8052498a",
        "_cell_guid": "79c7e3d0-c299-4dcb-8224-4455121ee9b0",
        "trusted": true,
        "collapsed": true
      },
      "cell_type": "code",
      "source": "# load example data\nboston = datasets.load_boston()\ndf = pd.DataFrame(data=np.c_[boston['data'], boston['target']],\n             columns=boston['feature_names'].tolist() + ['target']) \nX = df.drop(['target'], axis=1)\ny = df['target']",
      "execution_count": 2,
      "outputs": []
    },
    {
      "metadata": {
        "_uuid": "e04f3af4e81f1af2d4bafd8af84dedd04394e973",
        "_cell_guid": "0f2bc886-a847-410f-9b75-3a8f19bdc4ef",
        "collapsed": true,
        "trusted": true
      },
      "cell_type": "code",
      "source": "X_train, X_valid, y_train, y_valid = train_test_split(\n    X, y, test_size=0.2, random_state=20180418)",
      "execution_count": 3,
      "outputs": []
    },
    {
      "metadata": {
        "_uuid": "459c0b2c6af239862750593d200f0de3331832a1",
        "_cell_guid": "fa0ae157-f933-4904-845e-6eda5240bd1f",
        "collapsed": true,
        "trusted": true
      },
      "cell_type": "code",
      "source": "# fastFM requires sparse input, so just regard some features categorical ones and do encoding\nmask = X_train.nunique() <= 30\nsparse_cols = X_train.columns[mask]\ndense_cols = X_train.columns[~mask]\n\n# encode \"categorical\" features\nonehot_encoder = OneHotEncoder()\nX_train_sparse = onehot_encoder.fit_transform(X_train[sparse_cols])\nX_valid_sparse = onehot_encoder.transform(X_valid[sparse_cols])\n\n# rescale the remaining features\nrobust_scaler = RobustScaler()\nX_train_dense_fm = robust_scaler.fit_transform(X_train[dense_cols])\nX_valid_dense_fm = robust_scaler.transform(X_valid[dense_cols])\nX_train_dense = robust_scaler.fit_transform(X_train)\nX_valid_dense = robust_scaler.transform(X_valid)",
      "execution_count": 4,
      "outputs": []
    },
    {
      "metadata": {
        "_uuid": "7b1c24218b556c2980a16b123a220fcfbadc8734",
        "_cell_guid": "6be5bda0-5d18-43d4-8fc9-d2b406a11430",
        "trusted": true,
        "collapsed": true
      },
      "cell_type": "code",
      "source": "X_train_fm = hstack([X_train_sparse, X_train_dense_fm])\nX_valid_fm = hstack([X_valid_sparse, X_valid_dense_fm])",
      "execution_count": 5,
      "outputs": []
    },
    {
      "metadata": {
        "_uuid": "974b28d365376a3b00b9d26fb8617eb7d4a79d80",
        "_cell_guid": "c1c02654-2a99-4bbf-ad4e-afa4de763978",
        "trusted": true
      },
      "cell_type": "code",
      "source": "# Adapted from http://ibayer.github.io/fastFM/tutorial.html\nfm = als.FMRegression(n_iter=1000, init_stdev=0.1, \n                      rank=3, l2_reg_w=0.5, l2_reg_V=1)\nfm.fit(X_train_fm, y_train)\npred_valid_fm = fm.predict(X_valid_fm)\nrmse_fm = np.sqrt(mean_squared_error(pred_valid_fm, y_valid))\nprint(\"RMSE (FM): {:.5f}\".format(rmse_fm))",
      "execution_count": 6,
      "outputs": [
        {
          "output_type": "stream",
          "text": "RMSE (FM): 3.48930\n",
          "name": "stdout"
        }
      ]
    },
    {
      "metadata": {
        "_uuid": "3fedec5e49ab9fd279f56adc9985c16f98935647",
        "_cell_guid": "5f727fd8-30a1-4db7-a3a1-d3619495c27b",
        "trusted": true
      },
      "cell_type": "code",
      "source": "ridge = Ridge(alpha=1)\nridge.fit(X_train_dense, y_train)\npred_valid_r = ridge.predict(X_valid_dense)\nrmse_r = np.sqrt(mean_squared_error(pred_valid_r, y_valid))\nprint(\"RMSE (Ridge): {:.5f}\".format(rmse_r))",
      "execution_count": 7,
      "outputs": [
        {
          "output_type": "stream",
          "text": "RMSE (Ridge): 4.49382\n",
          "name": "stdout"
        }
      ]
    },
    {
      "metadata": {
        "_uuid": "7fb08764cba39348f4da74b067e82075b78c5104",
        "_cell_guid": "0f754c41-d287-4da7-ae87-520a74d0e911",
        "trusted": true
      },
      "cell_type": "code",
      "source": "ridge_fm = Ridge(alpha=1)\nridge_fm.fit(X_train_fm, y_train)\npred_valid_rfm = ridge_fm.predict(X_valid_fm)\nrmse_rfm = np.sqrt(mean_squared_error(pred_valid_rfm, y_valid))\nprint(\"RMSE (Ridge with FM features): {:.5f}\".format(rmse_rfm))",
      "execution_count": 8,
      "outputs": [
        {
          "output_type": "stream",
          "text": "RMSE (Ridge with FM features): 4.41519\n",
          "name": "stdout"
        }
      ]
    },
    {
      "metadata": {
        "_uuid": "1308329643971831dc9dddce035da310c5866735",
        "_cell_guid": "cc7a413e-d582-4c16-86f4-ac1681f36e6d",
        "collapsed": true,
        "trusted": true
      },
      "cell_type": "code",
      "source": "",
      "execution_count": null,
      "outputs": []
    }
  ],
  "metadata": {
    "kernelspec": {
      "display_name": "Python 3",
      "language": "python",
      "name": "python3"
    },
    "language_info": {
      "name": "python",
      "version": "3.6.4",
      "mimetype": "text/x-python",
      "codemirror_mode": {
        "name": "ipython",
        "version": 3
      },
      "pygments_lexer": "ipython3",
      "nbconvert_exporter": "python",
      "file_extension": ".py"
    }
  },
  "nbformat": 4,
  "nbformat_minor": 1
}