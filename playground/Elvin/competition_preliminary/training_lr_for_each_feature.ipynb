{
 "cells": [
  {
   "cell_type": "code",
   "execution_count": 24,
   "metadata": {
    "collapsed": true
   },
   "outputs": [],
   "source": [
    "import lightgbm as lgb\n",
    "import pandas as pd\n",
    "import numpy as np\n",
    "import multiprocessing as mp\n",
    "import time\n",
    "import pickle\n",
    "import os\n",
    "import gc\n",
    "from scipy.sparse import hstack\n",
    "from sklearn.linear_model import LogisticRegression   \n",
    "from sklearn import metrics"
   ]
  },
  {
   "cell_type": "code",
   "execution_count": 25,
   "metadata": {
    "collapsed": true
   },
   "outputs": [],
   "source": [
    "data_dir = '../../../data/raw/preliminary_contest_data/'\n",
    "ad_cnt_dir = '../../../data/nlp_count/preliminary_contest_data/byAdFeatureName/'\n",
    "user_cnt_dir = '../../../data/nlp_count/preliminary_contest_data/byUserFeatureName/'\n",
    "user_tfidf_dir = '../../../data/nlp_tfidf/preliminary_contest_data/byUserFeatureName/'"
   ]
  },
  {
   "cell_type": "code",
   "execution_count": 26,
   "metadata": {
    "collapsed": true
   },
   "outputs": [],
   "source": [
    "def load(filename, **kw):\n",
    "    return pd.read_csv(os.path.join(data_dir, filename), **kw)"
   ]
  },
  {
   "cell_type": "code",
   "execution_count": 27,
   "metadata": {
    "collapsed": true
   },
   "outputs": [],
   "source": [
    "def load_pickle(filepath):\n",
    "    obj = None\n",
    "    with open(filepath, \"rb\") as f:\n",
    "        obj = pickle.load(f)\n",
    "    return obj"
   ]
  },
  {
   "cell_type": "code",
   "execution_count": 28,
   "metadata": {
    "collapsed": true
   },
   "outputs": [],
   "source": [
    "def load_ad_cnt(feat_name):\n",
    "    filename = \"adFeature.[featureName='{}'].pkl\".format(feat_name)\n",
    "    filepath = os.path.join(ad_cnt_dir, filename)\n",
    "    index, matrix = load_pickle(filepath)\n",
    "    \n",
    "    filename = \"aid.pkl\".format(feat_name)\n",
    "    filepath = os.path.join(ad_cnt_dir, filename)\n",
    "    uid = load_pickle(filepath)\n",
    "    \n",
    "    return uid, (index, matrix)"
   ]
  },
  {
   "cell_type": "code",
   "execution_count": 29,
   "metadata": {
    "collapsed": true
   },
   "outputs": [],
   "source": [
    "def load_user_cnt(feat_name):\n",
    "    filename = \"userFeature.[featureName='{}'].pkl\".format(feat_name)\n",
    "    filepath = os.path.join(user_cnt_dir, filename)\n",
    "    index, matrix = load_pickle(filepath)\n",
    "    \n",
    "    filename = \"uid.pkl\".format(feat_name)\n",
    "    filepath = os.path.join(user_cnt_dir, filename)\n",
    "    uid = load_pickle(filepath)\n",
    "    \n",
    "    return uid, (index, matrix)"
   ]
  },
  {
   "cell_type": "code",
   "execution_count": 30,
   "metadata": {
    "collapsed": true
   },
   "outputs": [],
   "source": [
    "def load_user_tfidf(feat_name):\n",
    "    filename = \"userFeature.[featureName='{}'].pkl\".format(feat_name)\n",
    "    filepath = os.path.join(user_tfidf_dir, filename)\n",
    "    index, idf, matrix = load_pickle(filepath)\n",
    "    \n",
    "    filename = \"uid.pkl\".format(feat_name)\n",
    "    filepath = os.path.join(user_tfidf_dir, filename)\n",
    "    uid = load_pickle(filepath)\n",
    "    \n",
    "    return uid, (index, idf, matrix)"
   ]
  },
  {
   "cell_type": "code",
   "execution_count": 31,
   "metadata": {
    "collapsed": true
   },
   "outputs": [],
   "source": [
    "def get_time_str():\n",
    "    return time.strftime(\"%H:%M:%S\", time.gmtime())"
   ]
  },
  {
   "cell_type": "code",
   "execution_count": 32,
   "metadata": {
    "collapsed": true
   },
   "outputs": [],
   "source": [
    "df_train = load(\"train.csv\")"
   ]
  },
  {
   "cell_type": "code",
   "execution_count": null,
   "metadata": {
    "collapsed": true
   },
   "outputs": [],
   "source": [
    "features = ['age','gender','marriageStatus','LBS','education','interest1','interest2','interest3','interest4','interest5',\n",
    "            'kw1','kw2','kw3','appIdAction','appIdInstall','house','topic1', 'topic2','topic3']\n",
    "def auc4features(feature):\n",
    "    uid, (ufeat_index, uvec) = load_user_cnt(feature)\n",
    "    aid, (afeat_index, avec) = load_ad_cnt('aid')\n",
    "    uid_to_index = dict(zip(uid, list(range(len(uid)))))  # mapping from uids to distinct indices\n",
    "    aid_to_index = dict(zip(aid, list(range(len(aid)))))  # mapping from aids to distinct indices\n",
    "\n",
    "    a_index = df_train['aid'].map(aid_to_index).values  # list of indices for matrix joining\n",
    "    u_index = df_train['uid'].map(uid_to_index).values  # list of indices for matrix joining\n",
    "\n",
    "    X = hstack((avec[a_index,:], uvec[u_index,:])).tocsr()  # joined user and advertise matrix\n",
    "    y = (df_train['label'].values + 1) / 2\n",
    "\n",
    "    X_train, y_train = X[:6000000], y[:6000000]\n",
    "    X_valid, y_valid = X[6000000:], y[6000000:]\n",
    "    print(\"[{}] {} data prepared\".format(get_time_str(), feature))\n",
    "\n",
    "    lr = LogisticRegression(penalty = 'l2', solver = 'sag',max_iter = 200, class_weight = 'balanced', verbose = 1)\n",
    "    logisticR = lr.fit(X_train, y_train)\n",
    "    print(\"[{}] {}: training completed\".format(get_time_str(), feature))\n",
    "    \n",
    "    lr_pred = logisticR.predict_proba(X_valid)\n",
    "    lr_auc = metrics.roc_auc_score(y_valid, lr_pred[:,1])\n",
    "    print(\"[{}] {}: Predicting AUC is {}\".format(get_time_str(), feature, lr_auc))\n",
    "    \n",
    "    gc.collect()\n",
    "    return lr_auc"
   ]
  },
  {
   "cell_type": "code",
   "execution_count": null,
   "metadata": {},
   "outputs": [],
   "source": [
    "auc_scores = dict(zip(features, list(range(len(features)))))\n",
    "for feature in features:\n",
    "    auc_scores[feature] = auc4features(feature)\n",
    "print(auc_scores)"
   ]
  },
  {
   "cell_type": "code",
   "execution_count": null,
   "metadata": {
    "collapsed": true
   },
   "outputs": [],
   "source": [
    "# sort the dict based on values\n"
   ]
  }
 ],
 "metadata": {
  "kernelspec": {
   "display_name": "Python 3",
   "language": "python",
   "name": "python3"
  },
  "language_info": {
   "codemirror_mode": {
    "name": "ipython",
    "version": 3
   },
   "file_extension": ".py",
   "mimetype": "text/x-python",
   "name": "python",
   "nbconvert_exporter": "python",
   "pygments_lexer": "ipython3",
   "version": "3.6.1"
  }
 },
 "nbformat": 4,
 "nbformat_minor": 2
}
