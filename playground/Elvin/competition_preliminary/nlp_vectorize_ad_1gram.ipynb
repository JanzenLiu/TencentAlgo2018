{
 "cells": [
  {
   "cell_type": "code",
   "execution_count": 1,
   "metadata": {
    "collapsed": true
   },
   "outputs": [],
   "source": [
    "import pandas as pd\n",
    "import numpy as np\n",
    "import pickle\n",
    "import os\n",
    "from collections import Counter\n",
    "from sklearn.preprocessing import LabelBinarizer"
   ]
  },
  {
   "cell_type": "code",
   "execution_count": 2,
   "metadata": {
    "collapsed": true
   },
   "outputs": [],
   "source": [
    "data_dir = '../../../data/raw/preliminary_contest_data/'"
   ]
  },
  {
   "cell_type": "code",
   "execution_count": 3,
   "metadata": {
    "collapsed": true
   },
   "outputs": [],
   "source": [
    "def load(filename, **kw):\n",
    "    return pd.read_csv(os.path.join(data_dir, filename), **kw)"
   ]
  },
  {
   "cell_type": "code",
   "execution_count": 4,
   "metadata": {
    "collapsed": true
   },
   "outputs": [],
   "source": [
    "def counter_to_csv(counter, filepath):\n",
    "    with open(filepath, \"w\") as f:\n",
    "        f.write(\"value,counts\\n\")\n",
    "        for k, v in counter.most_common():\n",
    "            f.write(\"{},{}\\n\".format(k, v))"
   ]
  },
  {
   "cell_type": "code",
   "execution_count": 5,
   "metadata": {
    "collapsed": true
   },
   "outputs": [],
   "source": [
    "def save_as_pickle(obj, filepath):\n",
    "    with open(filepath, \"wb\") as f:\n",
    "        pickle.dump(obj, f)"
   ]
  },
  {
   "cell_type": "code",
   "execution_count": 6,
   "metadata": {
    "collapsed": true
   },
   "outputs": [],
   "source": [
    "df_ad = load('adFeature.csv')"
   ]
  },
  {
   "cell_type": "code",
   "execution_count": 7,
   "metadata": {
    "scrolled": true
   },
   "outputs": [
    {
     "name": "stdout",
     "output_type": "stream",
     "text": [
      "aid\n",
      "---\n",
      "Unique Value Counts: 173\n",
      "Unique Value: [ 177 2050 1716  336  671  529  927 1714  977  450 1749  404  302 1202  838\n",
      " 1842  875  846 1962 1171 1781 1622 1254  231  191  113 1057  145 1284   86\n",
      "  686 1291  853  765 2031 1507 2054 1599 1338 1672 1350 1415  420 1021 1931\n",
      " 1925  432 1044  117 1930 1950 1621  206 2196  121 1508 2068  894 1317 1871\n",
      "  471  436  174  681 1957 1468 1242 1023 1991 1998 1966  903 2154  951 1407\n",
      " 1215 1429 1017  647  205 2048 1107  966 2216 1904 1277  562  272  561  164\n",
      " 1375  519 1819 1335  960 1847 1503  792 2205 1351 1728 1496  369  725  727\n",
      "  699  313 2197 1027 2047 1119 1449  886 1580  975   74  136  311 1140 1910\n",
      "    7 1827 1483  613 1746 1790 1230  692 1596 1671  212  543  939  932 1379\n",
      "  411 2112   18 1970 1894 2201 1841    6  516 2066  624 1605 1377  914   12\n",
      " 2169 1182   70   98 1201  286 2118  173 1512  748 1566 2044 1085  454  916\n",
      "  688  660 1635 1918 1530  389 1940 2013]\n",
      "\n",
      "advertiserId\n",
      "------------\n",
      "Unique Value Counts: 79\n",
      "Unique Value: [  8203  19441   5552    370  45705  10122     79   5758  21359    821\n",
      "  18621    452  27367     60   8864  25420  17597   8350  11487  25485\n",
      "    388   6841   1082  29704  83042    327    915   3993    702   7565\n",
      " 133292   2676   7300  11437  18630  58643  41806    990  13915  20943\n",
      "    243  14315   9106   7926    728   8494  15174    285  22802  47823\n",
      "   5459  10055   9571   2775  21017  44008   2509   7229  66025  11459\n",
      "   8668  43189  23805   3387  75748   9619   6946  24704   1025    149\n",
      "  71505 101662  14818  11195  16770   6937  49772 104071 158679]\n",
      "\n",
      "campaignId\n",
      "----------\n",
      "Unique Value Counts: 138\n",
      "Unique Value: [ 76104 178687 158101   4833 352827 163352 219802  25739 199508 361928\n",
      "    888 745599  47118 131853  95990 128701 310473 262085 135565  51385\n",
      " 244601 159012  50138 134068 154634 159118 696695  40405  60929 280832\n",
      " 358536  31020  63752  12724 110094 353610 464828 692763 243160  36763\n",
      "  18237  33813  18552 407774 233191  51315  23303 445098  10460 115759\n",
      "  73450  38391  15634 734054     80 378648 668182 174407    404    994\n",
      "  12711  42104  26003  59293 295567 475236 172796  86429 741453   7527\n",
      " 538818  37818  68476  12128 167166 100565 241577  67127 358059 169332\n",
      " 645468  52258 141893   2295 331396 286844  17378  42625 170445 170485\n",
      "   7686 295940 531344 132657  18296  13953  49189  27030  76011  13044\n",
      "  50305  98158  61383 163957 204378  40877 296367  48236  84178   1123\n",
      "  90700 163120 155063  74452 188857 308103  57846 766460  20048 286065\n",
      "  18683  19215 209098 111645 420987  38402  42614   5616   3372 104406\n",
      " 186348 487541 134120  76252 473537 643438 662422  30399]\n",
      "\n",
      "creativeId\n",
      "----------\n",
      "Unique Value Counts: 173\n",
      "Unique Value: [1500666  245165 1080850  119845  660519  220558  492484 1608684 1080962\n",
      "  565415  585909 1353465 1628574 1083112 1640724 1211265  832650 1073411\n",
      "  608495  717054 1606251  838455 1383456  991964   58465 1202263 1340722\n",
      "  981822 1758880  416399 1464074 1434096  154811 1271219  425385  745048\n",
      "  794412  792238 1147463  942499 1554384 1334609 1451219 1249596 1401261\n",
      " 1765755 1081485   38299  619519  683342 1016027 1462184  440096  767513\n",
      " 1494257 1367823 1661158   43862  480095 1589088  731893  621766 1512679\n",
      " 1638352 1513931 1610899  883304  192305 1441131 1260597 1116089  210057\n",
      " 1772271  993205  962151 1360276  641118 1614385  910853 1040130  240336\n",
      "  476885  666210 1321733  414738 1205997  864509 1108416  808799  474978\n",
      "  249293  577602 1562482 1769240 1655556 1394962 1230210 1564743 1149439\n",
      " 1203413  884105 1673644 1229175 1485462 1473655  731679  979528  700445\n",
      " 1266652   20199  798752 1724522  333622   72027  913588  108752 1187573\n",
      "   27461 1305307  326633  221432 1236432  418462  546986  287080 1636465\n",
      "   46884  455396  181137  332490 1083491 1391569  104188 1806760  469197\n",
      "  220179  750122  857791  797661  638911  477814  904288 1702986 1106145\n",
      " 1075635 1735807 1755470 1146648  141973 1612095   43877  818363    5977\n",
      "  130171 1172593  131847 1012717  267290 1246897  202309  520004  869346\n",
      "  644672 1442655  838056 1753448 1160702  145496 1690612 1099732 1354071\n",
      "  530889 1427984]\n",
      "\n",
      "creativeSize\n",
      "------------\n",
      "Unique Value Counts: 15\n",
      "Unique Value: [ 59  53  35  22  42 100  91  95  93  20 105 109  77  79  60]\n",
      "\n",
      "adCategoryId\n",
      "------------\n",
      "Unique Value Counts: 40\n",
      "Unique Value: [282   1  27  67  10  21 218  25  34  43   4  59  51  13 108  70  94  74\n",
      "   8  24 265 125  30 204 142  48 179 102 192  81 149 137 121  40  22 100\n",
      "  77 140  89   9]\n",
      "\n",
      "productId\n",
      "---------\n",
      "Unique Value Counts: 33\n",
      "Unique Value: [    0   113  3733  1455   439 12193 16791  3194 25730 15454 19256  4669\n",
      "  5615 27855 13727    38 11636  4666  5336  1313  6131  4772  7992 28986\n",
      " 14314  3826  3794 24947   542    70 17614  9760  3791]\n",
      "\n",
      "productType\n",
      "-----------\n",
      "Unique Value Counts: 4\n",
      "Unique Value: [ 6  9  4 11]\n",
      "\n"
     ]
    }
   ],
   "source": [
    "# show unique value counts and unique values\n",
    "for feat_name in df_ad.columns:\n",
    "    print(feat_name)\n",
    "    print(\"-\" * len(feat_name))\n",
    "    series = df_ad[feat_name]\n",
    "    print(\"Unique Value Counts: {}\".format(series.nunique()))\n",
    "    print(\"Unique Value: {}\".format(series.unique()))\n",
    "    print()"
   ]
  },
  {
   "cell_type": "code",
   "execution_count": 8,
   "metadata": {},
   "outputs": [
    {
     "name": "stdout",
     "output_type": "stream",
     "text": [
      "Processing 'aid'...\n",
      "Processing 'advertiserId'...\n",
      "Processing 'campaignId'...\n",
      "Processing 'creativeId'...\n",
      "Processing 'creativeSize'...\n",
      "Processing 'adCategoryId'...\n",
      "Processing 'productId'...\n",
      "Processing 'productType'...\n"
     ]
    }
   ],
   "source": [
    "counter_dir = '../../../data/counter/preliminary_contest_data/'  # to save counter\n",
    "vocab_dir = '../../../data/vocabulary/preliminary_contest_data/'  # to save vocabulary\n",
    "os.makedirs(counter_dir, exist_ok=True)\n",
    "os.makedirs(vocab_dir, exist_ok=True)\n",
    "\n",
    "counter_dict = {}\n",
    "vocab_dict = {}\n",
    "for feat_name in df_ad.columns:\n",
    "    print(\"Processing '{}'...\".format(feat_name))\n",
    "    series = df_ad[feat_name]\n",
    "    counter = Counter(series)\n",
    "    \n",
    "    # save counter\n",
    "    counter_file = \"adFeature.[featureName='{}'].csv\".format(feat_name)\n",
    "    counter_path = os.path.join(counter_dir, counter_file)\n",
    "    counter_to_csv(counter, counter_path)\n",
    "    \n",
    "    # save vocabulary\n",
    "    vocab = list(counter.keys())\n",
    "    vocab_file = \"adFeature.[featureName='{}'].pkl\".format(feat_name)\n",
    "    vocab_path = os.path.join(vocab_dir, vocab_file)\n",
    "    save_as_pickle(vocab, vocab_path)\n",
    "    \n",
    "    counter_dict[feat_name] = counter\n",
    "    vocab_dict[feat_name] = vocab"
   ]
  },
  {
   "cell_type": "code",
   "execution_count": 9,
   "metadata": {
    "collapsed": true
   },
   "outputs": [],
   "source": [
    "def merge_counter_dict(counter_dict):\n",
    "    final_counter = Counter()\n",
    "    for name, counter in counter_dict.items():\n",
    "        new_counter = Counter({\"{}_{}\".format(name, k): v for k, v in counter.items()})\n",
    "        final_counter += new_counter\n",
    "    return final_counter"
   ]
  },
  {
   "cell_type": "code",
   "execution_count": 10,
   "metadata": {
    "collapsed": true
   },
   "outputs": [],
   "source": [
    "counter_file = \"adFeature.csv\"\n",
    "counter_path = os.path.join(counter_dir, counter_file)\n",
    "large_counter = merge_counter_dict(counter_dict)\n",
    "counter_to_csv(large_counter, counter_path)"
   ]
  },
  {
   "cell_type": "code",
   "execution_count": 11,
   "metadata": {
    "collapsed": true
   },
   "outputs": [],
   "source": [
    "vocab_file = \"adFeature.pkl\"\n",
    "vocab_path = os.path.join(vocab_dir, vocab_file)    \n",
    "large_vocab = list(large_counter.keys())\n",
    "save_as_pickle(large_vocab, vocab_path)"
   ]
  },
  {
   "cell_type": "code",
   "execution_count": 12,
   "metadata": {
    "collapsed": true
   },
   "outputs": [],
   "source": [
    "cntvec_dir = '../../../data/nlp_count/preliminary_contest_data/byAdFeatureName/'\n",
    "os.makedirs(cntvec_dir, exist_ok=True)\n",
    "aid_file = \"aid.pkl\"\n",
    "aid_path = os.path.join(cntvec_dir, aid_file)\n",
    "save_as_pickle(df_ad['aid'].values, aid_path)  # save aid for further analysis\n",
    "\n",
    "for feat_name in df_ad.columns:\n",
    "    series = df_ad[feat_name]\n",
    "    lb_vectorizer = LabelBinarizer(sparse_output=True)\n",
    "    lb_vec = lb_vectorizer.fit_transform(series).astype(np.int8)\n",
    "    cntvec_file = \"adFeature.[featureName='{}'].pkl\".format(feat_name)\n",
    "    cntvec_path = os.path.join(cntvec_dir, cntvec_file)\n",
    "    save_as_pickle((lb_vectorizer.classes_, lb_vec), cntvec_path)"
   ]
  },
  {
   "cell_type": "code",
   "execution_count": null,
   "metadata": {
    "collapsed": true
   },
   "outputs": [],
   "source": []
  }
 ],
 "metadata": {
  "kernelspec": {
   "display_name": "Python 3",
   "language": "python",
   "name": "python3"
  },
  "language_info": {
   "codemirror_mode": {
    "name": "ipython",
    "version": 3
   },
   "file_extension": ".py",
   "mimetype": "text/x-python",
   "name": "python",
   "nbconvert_exporter": "python",
   "pygments_lexer": "ipython3",
   "version": "3.6.1"
  }
 },
 "nbformat": 4,
 "nbformat_minor": 2
}
