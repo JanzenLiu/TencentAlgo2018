{
 "cells": [
  {
   "cell_type": "code",
   "execution_count": 1,
   "metadata": {},
   "outputs": [
    {
     "name": "stderr",
     "output_type": "stream",
     "text": [
      "Using TensorFlow backend.\n"
     ]
    }
   ],
   "source": [
    "from keras.datasets import mnist"
   ]
  },
  {
   "cell_type": "code",
   "execution_count": 2,
   "metadata": {},
   "outputs": [],
   "source": [
    "import sys\n",
    "sys.path.append(\"../\")\n",
    "from common import Toolkit"
   ]
  },
  {
   "cell_type": "code",
   "execution_count": 3,
   "metadata": {},
   "outputs": [],
   "source": [
    "import numpy as np"
   ]
  },
  {
   "cell_type": "code",
   "execution_count": 4,
   "metadata": {},
   "outputs": [],
   "source": [
    "import keras as ks"
   ]
  },
  {
   "cell_type": "code",
   "execution_count": 5,
   "metadata": {},
   "outputs": [],
   "source": [
    "import matplotlib.pyplot as plt"
   ]
  },
  {
   "cell_type": "code",
   "execution_count": 6,
   "metadata": {},
   "outputs": [],
   "source": [
    "from keras.callbacks import TensorBoard"
   ]
  },
  {
   "cell_type": "code",
   "execution_count": 7,
   "metadata": {},
   "outputs": [],
   "source": [
    "import subprocess"
   ]
  },
  {
   "cell_type": "code",
   "execution_count": 8,
   "metadata": {},
   "outputs": [],
   "source": [
    "import os"
   ]
  },
  {
   "cell_type": "code",
   "execution_count": 9,
   "metadata": {},
   "outputs": [],
   "source": [
    "def copy_globals():\n",
    "    glb = globals()\n",
    "    \n",
    "    def func():\n",
    "        return glb\n",
    "    \n",
    "    return func"
   ]
  },
  {
   "cell_type": "code",
   "execution_count": 10,
   "metadata": {},
   "outputs": [],
   "source": [
    "# ================================\n",
    "# Part 1 - Vanilla MLP Autoencoder\n",
    "# ================================"
   ]
  },
  {
   "cell_type": "code",
   "execution_count": 11,
   "metadata": {},
   "outputs": [],
   "source": [
    "(x_train, _), (x_test, _) = mnist.load_data()"
   ]
  },
  {
   "cell_type": "code",
   "execution_count": 12,
   "metadata": {},
   "outputs": [
    {
     "name": "stdout",
     "output_type": "stream",
     "text": [
      "Shape\n",
      "-----\n",
      "x_train: (60000, 28, 28)\n",
      "x_test: (10000, 28, 28)\n",
      "\n"
     ]
    }
   ],
   "source": [
    "tk = Toolkit()\n",
    "tk.set_global(copy_globals())\n",
    "tk.batch_print_shape(x_train, x_test)"
   ]
  },
  {
   "cell_type": "code",
   "execution_count": 13,
   "metadata": {},
   "outputs": [],
   "source": [
    "x_train = x_train.astype('float32') / 255.\n",
    "x_test = x_test.astype('float32') / 255.\n",
    "x_train = x_train.reshape((len(x_train), np.prod(x_train.shape[1:])))  # flatten x_train\n",
    "x_test = x_test.reshape((len(x_test), np.prod(x_test.shape[1:])))  # flatten x_test"
   ]
  },
  {
   "cell_type": "code",
   "execution_count": 14,
   "metadata": {},
   "outputs": [
    {
     "name": "stdout",
     "output_type": "stream",
     "text": [
      "Shape\n",
      "-----\n",
      "x_train: (60000, 784)\n",
      "x_test: (10000, 784)\n",
      "\n"
     ]
    }
   ],
   "source": [
    "tk.batch_print_shape(x_train, x_test)"
   ]
  },
  {
   "cell_type": "code",
   "execution_count": 15,
   "metadata": {},
   "outputs": [],
   "source": [
    "# Adapted from https://blog.keras.io/building-autoencoders-in-keras.html\n",
    "encoding_dim = 32\n",
    "input_img = ks.layers.Input(shape=(784,))  # input placeholder\n",
    "encoded = ks.layers.Dense(encoding_dim, activation='relu')(input_img)  # encoded representation of the input\n",
    "decoded = ks.layers.Dense(784, activation='sigmoid')(encoded)  # lossy reconstruction of the input\n",
    "autoencoder = ks.models.Model(input_img, decoded)  # model that maps an input to its reconstruction"
   ]
  },
  {
   "cell_type": "code",
   "execution_count": 16,
   "metadata": {},
   "outputs": [],
   "source": [
    "encoder = ks.models.Model(input_img, encoded)  # seperate encoder\n",
    "encoded_input = ks.layers.Input(shape=(encoding_dim,))  # encoded input placeholder\n",
    "decoder_layer = autoencoder.layers[-1]\n",
    "decoder = ks.models.Model(encoded_input, decoder_layer(encoded_input))  # seperate decoder"
   ]
  },
  {
   "cell_type": "code",
   "execution_count": 17,
   "metadata": {},
   "outputs": [],
   "source": [
    "autoencoder.compile(optimizer='adadelta', loss='binary_crossentropy')"
   ]
  },
  {
   "cell_type": "code",
   "execution_count": 18,
   "metadata": {
    "scrolled": true
   },
   "outputs": [
    {
     "name": "stdout",
     "output_type": "stream",
     "text": [
      "Train on 60000 samples, validate on 10000 samples\n",
      "Epoch 1/50\n",
      "60000/60000 [==============================] - 3s - loss: 0.3809 - val_loss: 0.2734\n",
      "Epoch 2/50\n",
      "60000/60000 [==============================] - 3s - loss: 0.2665 - val_loss: 0.2565\n",
      "Epoch 3/50\n",
      "60000/60000 [==============================] - 3s - loss: 0.2472 - val_loss: 0.2362\n",
      "Epoch 4/50\n",
      "60000/60000 [==============================] - 3s - loss: 0.2290 - val_loss: 0.2194\n",
      "Epoch 5/50\n",
      "60000/60000 [==============================] - 3s - loss: 0.2140 - val_loss: 0.2060\n",
      "Epoch 6/50\n",
      "60000/60000 [==============================] - 3s - loss: 0.2022 - val_loss: 0.1958\n",
      "Epoch 7/50\n",
      "60000/60000 [==============================] - 3s - loss: 0.1934 - val_loss: 0.1881\n",
      "Epoch 8/50\n",
      "60000/60000 [==============================] - 3s - loss: 0.1864 - val_loss: 0.1817\n",
      "Epoch 9/50\n",
      "60000/60000 [==============================] - 3s - loss: 0.1803 - val_loss: 0.1762\n",
      "Epoch 10/50\n",
      "60000/60000 [==============================] - 3s - loss: 0.1749 - val_loss: 0.1709\n",
      "Epoch 11/50\n",
      "60000/60000 [==============================] - 3s - loss: 0.1701 - val_loss: 0.1663\n",
      "Epoch 12/50\n",
      "60000/60000 [==============================] - 3s - loss: 0.1656 - val_loss: 0.1621\n",
      "Epoch 13/50\n",
      "60000/60000 [==============================] - 3s - loss: 0.1616 - val_loss: 0.1581\n",
      "Epoch 14/50\n",
      "60000/60000 [==============================] - 3s - loss: 0.1578 - val_loss: 0.1546\n",
      "Epoch 15/50\n",
      "60000/60000 [==============================] - 3s - loss: 0.1543 - val_loss: 0.1512\n",
      "Epoch 16/50\n",
      "60000/60000 [==============================] - 3s - loss: 0.1511 - val_loss: 0.1481\n",
      "Epoch 17/50\n",
      "60000/60000 [==============================] - 3s - loss: 0.1481 - val_loss: 0.1452\n",
      "Epoch 18/50\n",
      "60000/60000 [==============================] - 3s - loss: 0.1453 - val_loss: 0.1424\n",
      "Epoch 19/50\n",
      "60000/60000 [==============================] - 3s - loss: 0.1427 - val_loss: 0.1400\n",
      "Epoch 20/50\n",
      "60000/60000 [==============================] - 3s - loss: 0.1402 - val_loss: 0.1375\n",
      "Epoch 21/50\n",
      "60000/60000 [==============================] - 3s - loss: 0.1380 - val_loss: 0.1353\n",
      "Epoch 22/50\n",
      "60000/60000 [==============================] - 3s - loss: 0.1358 - val_loss: 0.1333\n",
      "Epoch 23/50\n",
      "60000/60000 [==============================] - 3s - loss: 0.1338 - val_loss: 0.1313\n",
      "Epoch 24/50\n",
      "60000/60000 [==============================] - 3s - loss: 0.1319 - val_loss: 0.1294\n",
      "Epoch 25/50\n",
      "60000/60000 [==============================] - 3s - loss: 0.1300 - val_loss: 0.1276\n",
      "Epoch 26/50\n",
      "60000/60000 [==============================] - 3s - loss: 0.1283 - val_loss: 0.1258\n",
      "Epoch 27/50\n",
      "60000/60000 [==============================] - 3s - loss: 0.1266 - val_loss: 0.1242\n",
      "Epoch 28/50\n",
      "60000/60000 [==============================] - 3s - loss: 0.1249 - val_loss: 0.1225\n",
      "Epoch 29/50\n",
      "60000/60000 [==============================] - 3s - loss: 0.1234 - val_loss: 0.1210\n",
      "Epoch 30/50\n",
      "60000/60000 [==============================] - 3s - loss: 0.1219 - val_loss: 0.1196\n",
      "Epoch 31/50\n",
      "60000/60000 [==============================] - 3s - loss: 0.1204 - val_loss: 0.1182\n",
      "Epoch 32/50\n",
      "60000/60000 [==============================] - 3s - loss: 0.1191 - val_loss: 0.1168\n",
      "Epoch 33/50\n",
      "60000/60000 [==============================] - 3s - loss: 0.1178 - val_loss: 0.1155\n",
      "Epoch 34/50\n",
      "60000/60000 [==============================] - 3s - loss: 0.1166 - val_loss: 0.1143\n",
      "Epoch 35/50\n",
      "60000/60000 [==============================] - 3s - loss: 0.1154 - val_loss: 0.1132\n",
      "Epoch 36/50\n",
      "60000/60000 [==============================] - 3s - loss: 0.1143 - val_loss: 0.1121\n",
      "Epoch 37/50\n",
      "60000/60000 [==============================] - 3s - loss: 0.1133 - val_loss: 0.1111\n",
      "Epoch 38/50\n",
      "60000/60000 [==============================] - 3s - loss: 0.1124 - val_loss: 0.1102\n",
      "Epoch 39/50\n",
      "60000/60000 [==============================] - 3s - loss: 0.1115 - val_loss: 0.1094\n",
      "Epoch 40/50\n",
      "60000/60000 [==============================] - 3s - loss: 0.1107 - val_loss: 0.1086\n",
      "Epoch 41/50\n",
      "60000/60000 [==============================] - 3s - loss: 0.1099 - val_loss: 0.1079\n",
      "Epoch 42/50\n",
      "60000/60000 [==============================] - 3s - loss: 0.1092 - val_loss: 0.1072\n",
      "Epoch 43/50\n",
      "60000/60000 [==============================] - 3s - loss: 0.1085 - val_loss: 0.1066\n",
      "Epoch 44/50\n",
      "60000/60000 [==============================] - 3s - loss: 0.1079 - val_loss: 0.1059\n",
      "Epoch 45/50\n",
      "60000/60000 [==============================] - 3s - loss: 0.1074 - val_loss: 0.1054\n",
      "Epoch 46/50\n",
      "60000/60000 [==============================] - 3s - loss: 0.1068 - val_loss: 0.1049\n",
      "Epoch 47/50\n",
      "60000/60000 [==============================] - 3s - loss: 0.1064 - val_loss: 0.1044\n",
      "Epoch 48/50\n",
      "60000/60000 [==============================] - 3s - loss: 0.1059 - val_loss: 0.1040\n",
      "Epoch 49/50\n",
      "60000/60000 [==============================] - 3s - loss: 0.1055 - val_loss: 0.1036\n",
      "Epoch 50/50\n",
      "60000/60000 [==============================] - 3s - loss: 0.1051 - val_loss: 0.1032\n"
     ]
    },
    {
     "data": {
      "text/plain": [
       "<keras.callbacks.History at 0x7f894a601940>"
      ]
     },
     "execution_count": 18,
     "metadata": {},
     "output_type": "execute_result"
    }
   ],
   "source": [
    "autoencoder.fit(x_train, x_train,\n",
    "                epochs=50,\n",
    "                batch_size=256,\n",
    "                shuffle=True,\n",
    "                validation_data=(x_test, x_test))"
   ]
  },
  {
   "cell_type": "code",
   "execution_count": 19,
   "metadata": {},
   "outputs": [],
   "source": [
    "encoded_imgs = encoder.predict(x_test)\n",
    "decoded_imgs = decoder.predict(encoded_imgs)"
   ]
  },
  {
   "cell_type": "code",
   "execution_count": 20,
   "metadata": {},
   "outputs": [
    {
     "data": {
      "image/png": "[encoded data removed]",
      "text/plain": [
       "<Figure size 1440x288 with 20 Axes>"
      ]
     },
     "metadata": {},
     "output_type": "display_data"
    }
   ],
   "source": [
    "n = 10  # how many digits we will display\n",
    "plt.figure(figsize=(20, 4))\n",
    "for i in range(n):\n",
    "    # display original\n",
    "    ax = plt.subplot(2, n, i + 1)\n",
    "    plt.imshow(x_test[i].reshape(28, 28))\n",
    "    plt.gray()\n",
    "    ax.get_xaxis().set_visible(False)\n",
    "    ax.get_yaxis().set_visible(False)\n",
    "\n",
    "    # display reconstruction\n",
    "    ax = plt.subplot(2, n, i + 1 + n)\n",
    "    plt.imshow(decoded_imgs[i].reshape(28, 28))\n",
    "    plt.gray()\n",
    "    ax.get_xaxis().set_visible(False)\n",
    "    ax.get_yaxis().set_visible(False)\n",
    "plt.show()"
   ]
  },
  {
   "cell_type": "code",
   "execution_count": 21,
   "metadata": {},
   "outputs": [],
   "source": [
    "# ===============================\n",
    "# Part 2 - Sparse MLP Autoencoder\n",
    "# ==============================="
   ]
  },
  {
   "cell_type": "code",
   "execution_count": 22,
   "metadata": {},
   "outputs": [],
   "source": [
    "encoding_dim_sparse = 32\n",
    "input_img_sparse = ks.layers.Input(shape=(784,))\n",
    "encoded_sparse = ks.layers.Dense(encoding_dim_sparse, activation='relu',\n",
    "                activity_regularizer=ks.regularizers.l1(10e-6))(input_img_sparse)  # encoder layer with a L1 regularizer\n",
    "decoded_sparse = ks.layers.Dense(784, activation='sigmoid')(encoded_sparse)\n",
    "autoencoder_sparse = ks.models.Model(input_img_sparse, decoded_sparse)\n",
    "\n",
    "encoder_sparse = ks.models.Model(input_img_sparse, encoded_sparse)  # seperate encoder\n",
    "encoded_input_sparse = ks.layers.Input(shape=(encoding_dim_sparse,))  # encoded input placeholder\n",
    "decoder_layer_sparse = autoencoder_sparse.layers[-1]\n",
    "decoder_sparse = ks.models.Model(encoded_input_sparse, decoder_layer_sparse(encoded_input_sparse))  # seperate decoder"
   ]
  },
  {
   "cell_type": "code",
   "execution_count": 23,
   "metadata": {
    "scrolled": true
   },
   "outputs": [
    {
     "name": "stdout",
     "output_type": "stream",
     "text": [
      "Train on 60000 samples, validate on 10000 samples\n",
      "Epoch 1/50\n",
      "60000/60000 [==============================] - 3s - loss: 0.4218 - val_loss: 0.2963\n",
      "Epoch 2/50\n",
      "60000/60000 [==============================] - 3s - loss: 0.2646 - val_loss: 0.2390\n",
      "Epoch 3/50\n",
      "60000/60000 [==============================] - 3s - loss: 0.2298 - val_loss: 0.2203\n",
      "Epoch 4/50\n",
      "60000/60000 [==============================] - 3s - loss: 0.2150 - val_loss: 0.2083\n",
      "Epoch 5/50\n",
      "60000/60000 [==============================] - 3s - loss: 0.2049 - val_loss: 0.1997\n",
      "Epoch 6/50\n",
      "60000/60000 [==============================] - 3s - loss: 0.1975 - val_loss: 0.1933\n",
      "Epoch 7/50\n",
      "60000/60000 [==============================] - 3s - loss: 0.1919 - val_loss: 0.1882\n",
      "Epoch 8/50\n",
      "60000/60000 [==============================] - 3s - loss: 0.1875 - val_loss: 0.1844\n",
      "Epoch 9/50\n",
      "60000/60000 [==============================] - 3s - loss: 0.1841 - val_loss: 0.1813\n",
      "Epoch 10/50\n",
      "60000/60000 [==============================] - 3s - loss: 0.1814 - val_loss: 0.1787\n",
      "Epoch 11/50\n",
      "60000/60000 [==============================] - 3s - loss: 0.1790 - val_loss: 0.1765\n",
      "Epoch 12/50\n",
      "60000/60000 [==============================] - 3s - loss: 0.1769 - val_loss: 0.1745\n",
      "Epoch 13/50\n",
      "60000/60000 [==============================] - 3s - loss: 0.1751 - val_loss: 0.1729\n",
      "Epoch 14/50\n",
      "60000/60000 [==============================] - 3s - loss: 0.1735 - val_loss: 0.1714\n",
      "Epoch 15/50\n",
      "60000/60000 [==============================] - 3s - loss: 0.1721 - val_loss: 0.1700\n",
      "Epoch 16/50\n",
      "60000/60000 [==============================] - 3s - loss: 0.1708 - val_loss: 0.1688\n",
      "Epoch 17/50\n",
      "60000/60000 [==============================] - 3s - loss: 0.1696 - val_loss: 0.1675\n",
      "Epoch 18/50\n",
      "60000/60000 [==============================] - 3s - loss: 0.1684 - val_loss: 0.1664\n",
      "Epoch 19/50\n",
      "60000/60000 [==============================] - 3s - loss: 0.1674 - val_loss: 0.1654\n",
      "Epoch 20/50\n",
      "60000/60000 [==============================] - 3s - loss: 0.1664 - val_loss: 0.1646\n",
      "Epoch 21/50\n",
      "60000/60000 [==============================] - 3s - loss: 0.1655 - val_loss: 0.1637\n",
      "Epoch 22/50\n",
      "60000/60000 [==============================] - 3s - loss: 0.1647 - val_loss: 0.1628\n",
      "Epoch 23/50\n",
      "60000/60000 [==============================] - 3s - loss: 0.1638 - val_loss: 0.1621\n",
      "Epoch 24/50\n",
      "60000/60000 [==============================] - 3s - loss: 0.1631 - val_loss: 0.1612\n",
      "Epoch 25/50\n",
      "60000/60000 [==============================] - 3s - loss: 0.1624 - val_loss: 0.1605\n",
      "Epoch 26/50\n",
      "60000/60000 [==============================] - 3s - loss: 0.1617 - val_loss: 0.1598\n",
      "Epoch 27/50\n",
      "60000/60000 [==============================] - 3s - loss: 0.1611 - val_loss: 0.1592\n",
      "Epoch 28/50\n",
      "60000/60000 [==============================] - 3s - loss: 0.1604 - val_loss: 0.1586\n",
      "Epoch 29/50\n",
      "60000/60000 [==============================] - 3s - loss: 0.1599 - val_loss: 0.1581\n",
      "Epoch 30/50\n",
      "60000/60000 [==============================] - 3s - loss: 0.1593 - val_loss: 0.1575\n",
      "Epoch 31/50\n",
      "60000/60000 [==============================] - 3s - loss: 0.1588 - val_loss: 0.1571\n",
      "Epoch 32/50\n",
      "60000/60000 [==============================] - 3s - loss: 0.1583 - val_loss: 0.1565\n",
      "Epoch 33/50\n",
      "60000/60000 [==============================] - 3s - loss: 0.1578 - val_loss: 0.1561\n",
      "Epoch 34/50\n",
      "60000/60000 [==============================] - 3s - loss: 0.1574 - val_loss: 0.1556\n",
      "Epoch 35/50\n",
      "60000/60000 [==============================] - 3s - loss: 0.1569 - val_loss: 0.1552\n",
      "Epoch 36/50\n",
      "60000/60000 [==============================] - 3s - loss: 0.1565 - val_loss: 0.1548\n",
      "Epoch 37/50\n",
      "60000/60000 [==============================] - 3s - loss: 0.1561 - val_loss: 0.1544\n",
      "Epoch 38/50\n",
      "60000/60000 [==============================] - 3s - loss: 0.1558 - val_loss: 0.1543\n",
      "Epoch 39/50\n",
      "60000/60000 [==============================] - 3s - loss: 0.1554 - val_loss: 0.1538\n",
      "Epoch 40/50\n",
      "60000/60000 [==============================] - 3s - loss: 0.1551 - val_loss: 0.1533\n",
      "Epoch 41/50\n",
      "60000/60000 [==============================] - 3s - loss: 0.1547 - val_loss: 0.1532\n",
      "Epoch 42/50\n",
      "60000/60000 [==============================] - 3s - loss: 0.1544 - val_loss: 0.1529\n",
      "Epoch 43/50\n",
      "60000/60000 [==============================] - 3s - loss: 0.1541 - val_loss: 0.1524\n",
      "Epoch 44/50\n",
      "60000/60000 [==============================] - 3s - loss: 0.1538 - val_loss: 0.1521\n",
      "Epoch 45/50\n",
      "60000/60000 [==============================] - 3s - loss: 0.1535 - val_loss: 0.1518\n",
      "Epoch 46/50\n",
      "60000/60000 [==============================] - 3s - loss: 0.1533 - val_loss: 0.1516\n",
      "Epoch 47/50\n",
      "60000/60000 [==============================] - 3s - loss: 0.1530 - val_loss: 0.1513\n",
      "Epoch 48/50\n",
      "60000/60000 [==============================] - 3s - loss: 0.1528 - val_loss: 0.1512\n",
      "Epoch 49/50\n",
      "60000/60000 [==============================] - 3s - loss: 0.1525 - val_loss: 0.1509\n",
      "Epoch 50/50\n",
      "60000/60000 [==============================] - 3s - loss: 0.1523 - val_loss: 0.1506\n"
     ]
    },
    {
     "data": {
      "text/plain": [
       "<keras.callbacks.History at 0x7f8946fee7b8>"
      ]
     },
     "execution_count": 23,
     "metadata": {},
     "output_type": "execute_result"
    }
   ],
   "source": [
    "autoencoder_sparse.compile(optimizer='adam', loss='binary_crossentropy')\n",
    "autoencoder_sparse.fit(x_train, x_train,\n",
    "                       epochs=50,\n",
    "                       batch_size=256,\n",
    "                       shuffle=True,\n",
    "                       validation_data=(x_test, x_test))"
   ]
  },
  {
   "cell_type": "code",
   "execution_count": 24,
   "metadata": {},
   "outputs": [],
   "source": [
    "encoded_imgs_sparse = encoder_sparse.predict(x_test)\n",
    "decoded_imgs_sparse = decoder_sparse.predict(encoded_imgs_sparse)"
   ]
  },
  {
   "cell_type": "code",
   "execution_count": 25,
   "metadata": {},
   "outputs": [
    {
     "data": {
      "image/png": "[encoded data removed]",
      "text/plain": [
       "<Figure size 1440x288 with 20 Axes>"
      ]
     },
     "metadata": {},
     "output_type": "display_data"
    }
   ],
   "source": [
    "n = 10  # how many digits we will display\n",
    "plt.figure(figsize=(20, 4))\n",
    "for i in range(n):\n",
    "    # display original\n",
    "    ax = plt.subplot(2, n, i + 1)\n",
    "    plt.imshow(x_test[i].reshape(28, 28))\n",
    "    plt.gray()\n",
    "    ax.get_xaxis().set_visible(False)\n",
    "    ax.get_yaxis().set_visible(False)\n",
    "\n",
    "    # display reconstruction\n",
    "    ax = plt.subplot(2, n, i + 1 + n)\n",
    "    plt.imshow(decoded_imgs_sparse[i].reshape(28, 28))\n",
    "    plt.gray()\n",
    "    ax.get_xaxis().set_visible(False)\n",
    "    ax.get_yaxis().set_visible(False)\n",
    "plt.show()"
   ]
  },
  {
   "cell_type": "code",
   "execution_count": 26,
   "metadata": {},
   "outputs": [],
   "source": [
    "# ===============================\n",
    "# Part 3 - Deep MLP Autoencoder\n",
    "# ==============================="
   ]
  },
  {
   "cell_type": "code",
   "execution_count": 27,
   "metadata": {},
   "outputs": [],
   "source": [
    "input_img_deep = ks.layers.Input(shape=(784,))\n",
    "encoded_deep = ks.layers.Dense(128, activation='relu')(input_img_deep)\n",
    "encoded_deep = ks.layers.Dense(64, activation='relu')(encoded_deep)\n",
    "encoded_deep = ks.layers.Dense(32, activation='relu')(encoded_deep)\n",
    "\n",
    "decoded_deep = ks.layers.Dense(64, activation='relu')(encoded_deep)\n",
    "decoded_deep = ks.layers.Dense(128, activation='relu')(decoded_deep)\n",
    "decoded_deep = ks.layers.Dense(784, activation='sigmoid')(decoded_deep)\n",
    "autoencoder_deep = ks.models.Model(input_img_deep, decoded_deep)"
   ]
  },
  {
   "cell_type": "code",
   "execution_count": 28,
   "metadata": {},
   "outputs": [],
   "source": [
    "encoder_deep = ks.models.Model(input_img_deep, encoded_deep)  # seperate encoder\n",
    "encoded_input_deep = ks.layers.Input(shape=(32,))  # encoded input placeholder\n",
    "decoder_layer_deep = encoded_input_deep\n",
    "for i, layer in enumerate(autoencoder_deep.layers[-3:]):\n",
    "    decoder_layer_deep = layer(decoder_layer_deep)\n",
    "decoder_deep = ks.models.Model(encoded_input_deep, decoder_layer_deep)  # seperate decoder"
   ]
  },
  {
   "cell_type": "code",
   "execution_count": 29,
   "metadata": {
    "scrolled": true
   },
   "outputs": [
    {
     "name": "stdout",
     "output_type": "stream",
     "text": [
      "Train on 60000 samples, validate on 10000 samples\n",
      "Epoch 1/50\n",
      "60000/60000 [==============================] - 4s - loss: 0.3616 - val_loss: 0.2629\n",
      "Epoch 2/50\n",
      "60000/60000 [==============================] - 4s - loss: 0.2559 - val_loss: 0.2454\n",
      "Epoch 3/50\n",
      "60000/60000 [==============================] - 4s - loss: 0.2331 - val_loss: 0.2230\n",
      "Epoch 4/50\n",
      "60000/60000 [==============================] - 4s - loss: 0.2151 - val_loss: 0.2079\n",
      "Epoch 5/50\n",
      "60000/60000 [==============================] - 4s - loss: 0.2030 - val_loss: 0.1958\n",
      "Epoch 6/50\n",
      "60000/60000 [==============================] - 4s - loss: 0.1926 - val_loss: 0.1859\n",
      "Epoch 7/50\n",
      "60000/60000 [==============================] - 4s - loss: 0.1821 - val_loss: 0.1758\n",
      "Epoch 8/50\n",
      "60000/60000 [==============================] - 4s - loss: 0.1749 - val_loss: 0.1712\n",
      "Epoch 9/50\n",
      "60000/60000 [==============================] - 4s - loss: 0.1690 - val_loss: 0.1648\n",
      "Epoch 10/50\n",
      "60000/60000 [==============================] - 4s - loss: 0.1634 - val_loss: 0.1598\n",
      "Epoch 11/50\n",
      "60000/60000 [==============================] - 4s - loss: 0.1592 - val_loss: 0.1551\n",
      "Epoch 12/50\n",
      "60000/60000 [==============================] - 4s - loss: 0.1554 - val_loss: 0.1521\n",
      "Epoch 13/50\n",
      "60000/60000 [==============================] - 4s - loss: 0.1521 - val_loss: 0.1480\n",
      "Epoch 14/50\n",
      "60000/60000 [==============================] - 4s - loss: 0.1490 - val_loss: 0.1472\n",
      "Epoch 15/50\n",
      "60000/60000 [==============================] - 4s - loss: 0.1462 - val_loss: 0.1447\n",
      "Epoch 16/50\n",
      "60000/60000 [==============================] - 4s - loss: 0.1440 - val_loss: 0.1428\n",
      "Epoch 17/50\n",
      "60000/60000 [==============================] - 4s - loss: 0.1423 - val_loss: 0.1395\n",
      "Epoch 18/50\n",
      "60000/60000 [==============================] - 4s - loss: 0.1406 - val_loss: 0.1391\n",
      "Epoch 19/50\n",
      "60000/60000 [==============================] - 4s - loss: 0.1393 - val_loss: 0.1372\n",
      "Epoch 20/50\n",
      "60000/60000 [==============================] - 4s - loss: 0.1378 - val_loss: 0.1361\n",
      "Epoch 21/50\n",
      "60000/60000 [==============================] - 4s - loss: 0.1363 - val_loss: 0.1331\n",
      "Epoch 22/50\n",
      "60000/60000 [==============================] - 4s - loss: 0.1347 - val_loss: 0.1322\n",
      "Epoch 23/50\n",
      "60000/60000 [==============================] - 4s - loss: 0.1329 - val_loss: 0.1303\n",
      "Epoch 24/50\n",
      "60000/60000 [==============================] - 4s - loss: 0.1314 - val_loss: 0.1284\n",
      "Epoch 25/50\n",
      "60000/60000 [==============================] - 4s - loss: 0.1299 - val_loss: 0.1282\n",
      "Epoch 26/50\n",
      "60000/60000 [==============================] - 4s - loss: 0.1286 - val_loss: 0.1258\n",
      "Epoch 27/50\n",
      "60000/60000 [==============================] - 4s - loss: 0.1273 - val_loss: 0.1247\n",
      "Epoch 28/50\n",
      "60000/60000 [==============================] - 4s - loss: 0.1260 - val_loss: 0.1234\n",
      "Epoch 29/50\n",
      "60000/60000 [==============================] - 4s - loss: 0.1249 - val_loss: 0.1243\n",
      "Epoch 30/50\n",
      "60000/60000 [==============================] - 4s - loss: 0.1237 - val_loss: 0.1212\n",
      "Epoch 31/50\n",
      "60000/60000 [==============================] - 4s - loss: 0.1227 - val_loss: 0.1212\n",
      "Epoch 32/50\n",
      "60000/60000 [==============================] - 4s - loss: 0.1218 - val_loss: 0.1194\n",
      "Epoch 33/50\n",
      "60000/60000 [==============================] - 4s - loss: 0.1208 - val_loss: 0.1186\n",
      "Epoch 34/50\n",
      "60000/60000 [==============================] - 4s - loss: 0.1199 - val_loss: 0.1166\n",
      "Epoch 35/50\n",
      "60000/60000 [==============================] - 4s - loss: 0.1191 - val_loss: 0.1178\n",
      "Epoch 36/50\n",
      "60000/60000 [==============================] - 4s - loss: 0.1183 - val_loss: 0.1181\n",
      "Epoch 37/50\n",
      "60000/60000 [==============================] - 4s - loss: 0.1177 - val_loss: 0.1162\n",
      "Epoch 38/50\n",
      "60000/60000 [==============================] - 4s - loss: 0.1170 - val_loss: 0.1160\n",
      "Epoch 39/50\n",
      "60000/60000 [==============================] - 4s - loss: 0.1163 - val_loss: 0.1138\n",
      "Epoch 40/50\n",
      "60000/60000 [==============================] - 4s - loss: 0.1157 - val_loss: 0.1132\n",
      "Epoch 41/50\n",
      "60000/60000 [==============================] - 4s - loss: 0.1150 - val_loss: 0.1135\n",
      "Epoch 42/50\n",
      "60000/60000 [==============================] - 4s - loss: 0.1146 - val_loss: 0.1134\n",
      "Epoch 43/50\n",
      "60000/60000 [==============================] - 4s - loss: 0.1141 - val_loss: 0.1142\n",
      "Epoch 44/50\n",
      "60000/60000 [==============================] - 4s - loss: 0.1135 - val_loss: 0.1114\n",
      "Epoch 45/50\n",
      "60000/60000 [==============================] - 4s - loss: 0.1128 - val_loss: 0.1114\n",
      "Epoch 46/50\n",
      "60000/60000 [==============================] - 4s - loss: 0.1126 - val_loss: 0.1099\n",
      "Epoch 47/50\n",
      "60000/60000 [==============================] - 4s - loss: 0.1117 - val_loss: 0.1102\n",
      "Epoch 48/50\n",
      "60000/60000 [==============================] - 4s - loss: 0.1114 - val_loss: 0.1097\n",
      "Epoch 49/50\n",
      "60000/60000 [==============================] - 4s - loss: 0.1109 - val_loss: 0.1091\n",
      "Epoch 50/50\n",
      "60000/60000 [==============================] - 4s - loss: 0.1103 - val_loss: 0.1089\n"
     ]
    },
    {
     "data": {
      "text/plain": [
       "<keras.callbacks.History at 0x7f894827cd30>"
      ]
     },
     "execution_count": 29,
     "metadata": {},
     "output_type": "execute_result"
    }
   ],
   "source": [
    "autoencoder_deep.compile(optimizer='adadelta', loss='binary_crossentropy')\n",
    "autoencoder_deep.fit(x_train, x_train,\n",
    "                     epochs=50,\n",
    "                     batch_size=256,\n",
    "                     shuffle=True,\n",
    "                     validation_data=(x_test, x_test))"
   ]
  },
  {
   "cell_type": "code",
   "execution_count": 30,
   "metadata": {},
   "outputs": [],
   "source": [
    "encoded_imgs_deep = encoder_deep.predict(x_test)\n",
    "decoded_imgs_deep = decoder_deep.predict(encoded_imgs_deep)"
   ]
  },
  {
   "cell_type": "code",
   "execution_count": 31,
   "metadata": {},
   "outputs": [
    {
     "data": {
      "image/png": "[encoded data removed]",
      "text/plain": [
       "<Figure size 1440x288 with 20 Axes>"
      ]
     },
     "metadata": {},
     "output_type": "display_data"
    }
   ],
   "source": [
    "n = 10  # how many digits we will display\n",
    "plt.figure(figsize=(20, 4))\n",
    "for i in range(n):\n",
    "    # display original\n",
    "    ax = plt.subplot(2, n, i + 1)\n",
    "    plt.imshow(x_test[i].reshape(28, 28))\n",
    "    plt.gray()\n",
    "    ax.get_xaxis().set_visible(False)\n",
    "    ax.get_yaxis().set_visible(False)\n",
    "\n",
    "    # display reconstruction\n",
    "    ax = plt.subplot(2, n, i + 1 + n)\n",
    "    plt.imshow(decoded_imgs_deep[i].reshape(28, 28))\n",
    "    plt.gray()\n",
    "    ax.get_xaxis().set_visible(False)\n",
    "    ax.get_yaxis().set_visible(False)\n",
    "plt.show()"
   ]
  },
  {
   "cell_type": "code",
   "execution_count": 32,
   "metadata": {},
   "outputs": [],
   "source": [
    "# ===================================\n",
    "# Part 4 -  Convolutional Autoencoder\n",
    "# ==================================="
   ]
  },
  {
   "cell_type": "code",
   "execution_count": 33,
   "metadata": {},
   "outputs": [],
   "source": [
    "sp = subprocess.Popen([\"tensorboard\", \"--logdir=./log/\"], stdout=subprocess.PIPE)"
   ]
  },
  {
   "cell_type": "code",
   "execution_count": 34,
   "metadata": {},
   "outputs": [],
   "source": [
    "input_img_conv = ks.layers.Input(shape=(28, 28, 1))  # adapt this if using `channels_first` image data format\n",
    "\n",
    "x = ks.layers.Conv2D(16, (3, 3), activation='relu', padding='same')(input_img_conv)\n",
    "x = ks.layers.MaxPooling2D((2, 2), padding='same')(x)\n",
    "x = ks.layers.Conv2D(8, (3, 3), activation='relu', padding='same')(x)\n",
    "x = ks.layers.MaxPooling2D((2, 2), padding='same')(x)\n",
    "x = ks.layers.Conv2D(8, (3, 3), activation='relu', padding='same')(x)\n",
    "encoded_conv = ks.layers.MaxPooling2D((2, 2), padding='same')(x)\n",
    "\n",
    "# at this point the representation is (4, 4, 8) i.e. 128-dimensional\n",
    "\n",
    "x = ks.layers.Conv2D(8, (3, 3), activation='relu', padding='same')(encoded_conv)\n",
    "x = ks.layers.UpSampling2D((2, 2))(x)\n",
    "x = ks.layers.Conv2D(8, (3, 3), activation='relu', padding='same')(x)\n",
    "x = ks.layers.UpSampling2D((2, 2))(x)\n",
    "x = ks.layers.Conv2D(16, (3, 3), activation='relu')(x)\n",
    "x = ks.layers.UpSampling2D((2, 2))(x)\n",
    "decoded_conv = ks.layers.Conv2D(1, (3, 3), activation='sigmoid', padding='same')(x)\n",
    "\n",
    "autoencoder_conv = ks.models.Model(input_img_conv, decoded_conv)"
   ]
  },
  {
   "cell_type": "code",
   "execution_count": 35,
   "metadata": {},
   "outputs": [
    {
     "name": "stdout",
     "output_type": "stream",
     "text": [
      "_________________________________________________________________\n",
      "Layer (type)                 Output Shape              Param #   \n",
      "=================================================================\n",
      "input_7 (InputLayer)         (None, 28, 28, 1)         0         \n",
      "_________________________________________________________________\n",
      "conv2d_1 (Conv2D)            (None, 28, 28, 16)        160       \n",
      "_________________________________________________________________\n",
      "max_pooling2d_1 (MaxPooling2 (None, 14, 14, 16)        0         \n",
      "_________________________________________________________________\n",
      "conv2d_2 (Conv2D)            (None, 14, 14, 8)         1160      \n",
      "_________________________________________________________________\n",
      "max_pooling2d_2 (MaxPooling2 (None, 7, 7, 8)           0         \n",
      "_________________________________________________________________\n",
      "conv2d_3 (Conv2D)            (None, 7, 7, 8)           584       \n",
      "_________________________________________________________________\n",
      "max_pooling2d_3 (MaxPooling2 (None, 4, 4, 8)           0         \n",
      "_________________________________________________________________\n",
      "conv2d_4 (Conv2D)            (None, 4, 4, 8)           584       \n",
      "_________________________________________________________________\n",
      "up_sampling2d_1 (UpSampling2 (None, 8, 8, 8)           0         \n",
      "_________________________________________________________________\n",
      "conv2d_5 (Conv2D)            (None, 8, 8, 8)           584       \n",
      "_________________________________________________________________\n",
      "up_sampling2d_2 (UpSampling2 (None, 16, 16, 8)         0         \n",
      "_________________________________________________________________\n",
      "conv2d_6 (Conv2D)            (None, 14, 14, 16)        1168      \n",
      "_________________________________________________________________\n",
      "up_sampling2d_3 (UpSampling2 (None, 28, 28, 16)        0         \n",
      "_________________________________________________________________\n",
      "conv2d_7 (Conv2D)            (None, 28, 28, 1)         145       \n",
      "=================================================================\n",
      "Total params: 4,385\n",
      "Trainable params: 4,385\n",
      "Non-trainable params: 0\n",
      "_________________________________________________________________\n"
     ]
    }
   ],
   "source": [
    "autoencoder_conv.summary()"
   ]
  },
  {
   "cell_type": "code",
   "execution_count": 36,
   "metadata": {},
   "outputs": [],
   "source": [
    "encoder_conv = ks.models.Model(input_img_conv, encoded_conv)  # seperate encoder\n",
    "encoded_input_conv = ks.layers.Input(shape=(4, 4, 8))   # encoded input placeholder\n",
    "decoder_layer_conv = encoded_input_conv\n",
    "for i, layer in enumerate(autoencoder_conv.layers[-7:]):\n",
    "    decoder_layer_conv = layer(decoder_layer_conv)\n",
    "decoder_conv = ks.models.Model(encoded_input_conv, decoder_layer_conv)  # seperate decoder"
   ]
  },
  {
   "cell_type": "code",
   "execution_count": 37,
   "metadata": {},
   "outputs": [],
   "source": [
    "x_train_2d = np.reshape(x_train, (len(x_train), 28, 28, 1))\n",
    "x_test_2d = np.reshape(x_test, (len(x_test), 28, 28, 1))"
   ]
  },
  {
   "cell_type": "code",
   "execution_count": 38,
   "metadata": {
    "scrolled": true
   },
   "outputs": [
    {
     "name": "stdout",
     "output_type": "stream",
     "text": [
      "Train on 60000 samples, validate on 10000 samples\n",
      "Epoch 1/50\n",
      "60000/60000 [==============================] - 96s - loss: 0.2309 - val_loss: 0.1813\n",
      "Epoch 2/50\n",
      "60000/60000 [==============================] - 96s - loss: 0.1651 - val_loss: 0.1526\n",
      "Epoch 3/50\n",
      "60000/60000 [==============================] - 96s - loss: 0.1472 - val_loss: 0.1413\n",
      "Epoch 4/50\n",
      "60000/60000 [==============================] - 96s - loss: 0.1373 - val_loss: 0.1311\n",
      "Epoch 5/50\n",
      "60000/60000 [==============================] - 96s - loss: 0.1306 - val_loss: 0.1270\n",
      "Epoch 6/50\n",
      "60000/60000 [==============================] - 96s - loss: 0.1258 - val_loss: 0.1202\n",
      "Epoch 7/50\n",
      "60000/60000 [==============================] - 96s - loss: 0.1224 - val_loss: 0.1215\n",
      "Epoch 8/50\n",
      "60000/60000 [==============================] - 96s - loss: 0.1197 - val_loss: 0.1180\n",
      "Epoch 9/50\n",
      "60000/60000 [==============================] - 96s - loss: 0.1174 - val_loss: 0.1162\n",
      "Epoch 10/50\n",
      "60000/60000 [==============================] - 97s - loss: 0.1159 - val_loss: 0.1121\n",
      "Epoch 11/50\n",
      "60000/60000 [==============================] - 98s - loss: 0.1140 - val_loss: 0.1130s: \n",
      "Epoch 12/50\n",
      "60000/60000 [==============================] - 99s - loss: 0.1132 - val_loss: 0.1118\n",
      "Epoch 13/50\n",
      "60000/60000 [==============================] - 97s - loss: 0.1121 - val_loss: 0.1095\n",
      "Epoch 14/50\n",
      "60000/60000 [==============================] - 97s - loss: 0.1109 - val_loss: 0.1084\n",
      "Epoch 15/50\n",
      "60000/60000 [==============================] - 97s - loss: 0.1102 - val_loss: 0.1078\n",
      "Epoch 16/50\n",
      "60000/60000 [==============================] - 98s - loss: 0.1094 - val_loss: 0.1085\n",
      "Epoch 17/50\n",
      "60000/60000 [==============================] - 97s - loss: 0.1083 - val_loss: 0.1062\n",
      "Epoch 18/50\n",
      "60000/60000 [==============================] - 97s - loss: 0.1077 - val_loss: 0.1058\n",
      "Epoch 19/50\n",
      "60000/60000 [==============================] - 97s - loss: 0.1069 - val_loss: 0.1063\n",
      "Epoch 20/50\n",
      "60000/60000 [==============================] - 97s - loss: 0.1065 - val_loss: 0.1081\n",
      "Epoch 21/50\n",
      "60000/60000 [==============================] - 97s - loss: 0.1063 - val_loss: 0.1050\n",
      "Epoch 22/50\n",
      "60000/60000 [==============================] - 97s - loss: 0.1055 - val_loss: 0.1056\n",
      "Epoch 23/50\n",
      "60000/60000 [==============================] - 96s - loss: 0.1051 - val_loss: 0.1039\n",
      "Epoch 24/50\n",
      "60000/60000 [==============================] - 95s - loss: 0.1048 - val_loss: 0.1053\n",
      "Epoch 25/50\n",
      "60000/60000 [==============================] - 95s - loss: 0.1044 - val_loss: 0.1023\n",
      "Epoch 26/50\n",
      "60000/60000 [==============================] - 95s - loss: 0.1041 - val_loss: 0.1034\n",
      "Epoch 27/50\n",
      "60000/60000 [==============================] - 95s - loss: 0.1037 - val_loss: 0.1016\n",
      "Epoch 28/50\n",
      "60000/60000 [==============================] - 95s - loss: 0.1033 - val_loss: 0.1014\n",
      "Epoch 29/50\n",
      "60000/60000 [==============================] - 95s - loss: 0.1033 - val_loss: 0.1022\n",
      "Epoch 30/50\n",
      "60000/60000 [==============================] - 95s - loss: 0.1028 - val_loss: 0.1018\n",
      "Epoch 31/50\n",
      "60000/60000 [==============================] - 95s - loss: 0.1026 - val_loss: 0.1010\n",
      "Epoch 32/50\n",
      "60000/60000 [==============================] - 95s - loss: 0.1025 - val_loss: 0.1010\n",
      "Epoch 33/50\n",
      "60000/60000 [==============================] - 95s - loss: 0.1019 - val_loss: 0.1009\n",
      "Epoch 34/50\n",
      "60000/60000 [==============================] - 95s - loss: 0.1020 - val_loss: 0.1021\n",
      "Epoch 35/50\n",
      "60000/60000 [==============================] - 1929s - loss: 0.1017 - val_loss: 0.1003\n",
      "Epoch 36/50\n",
      "60000/60000 [==============================] - 100s - loss: 0.1013 - val_loss: 0.1012\n",
      "Epoch 37/50\n",
      "60000/60000 [==============================] - 101s - loss: 0.1007 - val_loss: 0.1026\n",
      "Epoch 38/50\n",
      "60000/60000 [==============================] - 99s - loss: 0.1006 - val_loss: 0.1005\n",
      "Epoch 39/50\n",
      "60000/60000 [==============================] - 101s - loss: 0.1008 - val_loss: 0.0995\n",
      "Epoch 40/50\n",
      "60000/60000 [==============================] - 100s - loss: 0.1003 - val_loss: 0.0996\n",
      "Epoch 41/50\n",
      "60000/60000 [==============================] - 100s - loss: 0.1004 - val_loss: 0.0994\n",
      "Epoch 42/50\n",
      "60000/60000 [==============================] - 99s - loss: 0.1000 - val_loss: 0.0990\n",
      "Epoch 43/50\n",
      "60000/60000 [==============================] - 100s - loss: 0.0998 - val_loss: 0.0992\n",
      "Epoch 44/50\n",
      "60000/60000 [==============================] - 98s - loss: 0.0996 - val_loss: 0.0989\n",
      "Epoch 45/50\n",
      "60000/60000 [==============================] - 103s - loss: 0.0993 - val_loss: 0.0997\n",
      "Epoch 46/50\n",
      "60000/60000 [==============================] - 98s - loss: 0.0991 - val_loss: 0.0967\n",
      "Epoch 47/50\n",
      "60000/60000 [==============================] - 96s - loss: 0.0987 - val_loss: 0.0977\n",
      "Epoch 48/50\n",
      "60000/60000 [==============================] - 99s - loss: 0.0986 - val_loss: 0.0972\n",
      "Epoch 49/50\n",
      "60000/60000 [==============================] - 98s - loss: 0.0987 - val_loss: 0.0987\n",
      "Epoch 50/50\n",
      "60000/60000 [==============================] - 99s - loss: 0.0987 - val_loss: 0.0976\n"
     ]
    },
    {
     "data": {
      "text/plain": [
       "<keras.callbacks.History at 0x7f88f12bbda0>"
      ]
     },
     "execution_count": 38,
     "metadata": {},
     "output_type": "execute_result"
    }
   ],
   "source": [
    "autoencoder_conv.compile(optimizer='adadelta', loss='binary_crossentropy')\n",
    "autoencoder_conv.fit(x_train_2d, x_train_2d,  # This is fucking slow on CPU, let's try GPU later\n",
    "                epochs=50,\n",
    "                batch_size=128,\n",
    "                shuffle=True,\n",
    "                validation_data=(x_test_2d, x_test_2d),\n",
    "                callbacks=[TensorBoard(log_dir='./log/')])  "
   ]
  },
  {
   "cell_type": "code",
   "execution_count": 39,
   "metadata": {},
   "outputs": [],
   "source": [
    "try:\n",
    "    sp.terminate()\n",
    "except ProcessLookupError:\n",
    "    pass"
   ]
  },
  {
   "cell_type": "code",
   "execution_count": 40,
   "metadata": {},
   "outputs": [],
   "source": [
    "encoded_imgs_conv = encoder_conv.predict(x_test_2d)\n",
    "decoded_imgs_conv = decoder_conv.predict(encoded_imgs_conv)"
   ]
  },
  {
   "cell_type": "code",
   "execution_count": 41,
   "metadata": {},
   "outputs": [
    {
     "data": {
      "image/png": "[encoded data removed]",
      "text/plain": [
       "<Figure size 1440x288 with 20 Axes>"
      ]
     },
     "metadata": {},
     "output_type": "display_data"
    }
   ],
   "source": [
    "n = 10  # how many digits we will display\n",
    "plt.figure(figsize=(20, 4))\n",
    "for i in range(n):\n",
    "    # display original\n",
    "    ax = plt.subplot(2, n, i + 1)\n",
    "    plt.imshow(x_test[i].reshape(28, 28))\n",
    "    plt.gray()\n",
    "    ax.get_xaxis().set_visible(False)\n",
    "    ax.get_yaxis().set_visible(False)\n",
    "\n",
    "    # display reconstruction\n",
    "    ax = plt.subplot(2, n, i + 1 + n)\n",
    "    plt.imshow(decoded_imgs_conv[i].reshape(28, 28))\n",
    "    plt.gray()\n",
    "    ax.get_xaxis().set_visible(False)\n",
    "    ax.get_yaxis().set_visible(False)\n",
    "plt.show()"
   ]
  },
  {
   "cell_type": "code",
   "execution_count": 42,
   "metadata": {},
   "outputs": [],
   "source": [
    "# ===============================================\n",
    "# Part 4 -  Denoising (Convolutional) Autoencoder\n",
    "# ==============================================="
   ]
  },
  {
   "cell_type": "code",
   "execution_count": 43,
   "metadata": {},
   "outputs": [],
   "source": [
    "noise_factor = 0.5\n",
    "x_train_2d_noisy = x_train_2d + noise_factor * np.random.normal(loc=0.0, scale=1.0, size=x_train_2d.shape) \n",
    "x_test_2d_noisy = x_test_2d + noise_factor * np.random.normal(loc=0.0, scale=1.0, size=x_test_2d.shape) \n",
    "\n",
    "x_train_2d_noisy = np.clip(x_train_2d_noisy, 0., 1.)\n",
    "x_test_2d_noisy = np.clip(x_test_2d_noisy, 0., 1.)"
   ]
  },
  {
   "cell_type": "code",
   "execution_count": 47,
   "metadata": {},
   "outputs": [
    {
     "data": {
      "image/png": "[encoded data removed]",
      "text/plain": [
       "<Figure size 1440x144 with 10 Axes>"
      ]
     },
     "metadata": {},
     "output_type": "display_data"
    }
   ],
   "source": [
    "n = 10\n",
    "plt.figure(figsize=(20, 2))\n",
    "for i in range(n):\n",
    "    ax = plt.subplot(1, n, i + 1)\n",
    "    plt.imshow(x_test_2d_noisy[i].reshape(28, 28))\n",
    "    plt.gray()\n",
    "    ax.get_xaxis().set_visible(False)\n",
    "    ax.get_yaxis().set_visible(False)\n",
    "plt.show()"
   ]
  },
  {
   "cell_type": "code",
   "execution_count": 49,
   "metadata": {
    "scrolled": true
   },
   "outputs": [
    {
     "name": "stdout",
     "output_type": "stream",
     "text": [
      "Train on 60000 samples, validate on 10000 samples\n",
      "Epoch 1/100\n",
      "60000/60000 [==============================] - 86s - loss: 0.1605 - val_loss: 0.1511\n",
      "Epoch 2/100\n",
      "60000/60000 [==============================] - 85s - loss: 0.1452 - val_loss: 0.1436\n",
      "Epoch 3/100\n",
      "60000/60000 [==============================] - 85s - loss: 0.1402 - val_loss: 0.1362\n",
      "Epoch 4/100\n",
      "60000/60000 [==============================] - 85s - loss: 0.1374 - val_loss: 0.1372\n",
      "Epoch 5/100\n",
      "60000/60000 [==============================] - 87s - loss: 0.1353 - val_loss: 0.1370\n",
      "Epoch 6/100\n",
      "60000/60000 [==============================] - 87s - loss: 0.1336 - val_loss: 0.1339\n",
      "Epoch 7/100\n",
      "60000/60000 [==============================] - 87s - loss: 0.1327 - val_loss: 0.1336\n",
      "Epoch 8/100\n",
      "60000/60000 [==============================] - 87s - loss: 0.1312 - val_loss: 0.1302\n",
      "Epoch 9/100\n",
      "60000/60000 [==============================] - 89s - loss: 0.1303 - val_loss: 0.1289\n",
      "Epoch 10/100\n",
      "60000/60000 [==============================] - 89s - loss: 0.1292 - val_loss: 0.1302\n",
      "Epoch 11/100\n",
      "60000/60000 [==============================] - 88s - loss: 0.1288 - val_loss: 0.1289\n",
      "Epoch 12/100\n",
      "60000/60000 [==============================] - 87s - loss: 0.1279 - val_loss: 0.1270\n",
      "Epoch 13/100\n",
      "60000/60000 [==============================] - 87s - loss: 0.1276 - val_loss: 0.1278\n",
      "Epoch 14/100\n",
      "60000/60000 [==============================] - 85s - loss: 0.1270 - val_loss: 0.1259\n",
      "Epoch 15/100\n",
      "60000/60000 [==============================] - 87s - loss: 0.1266 - val_loss: 0.1254\n",
      "Epoch 16/100\n",
      "60000/60000 [==============================] - 85s - loss: 0.1263 - val_loss: 0.1240\n",
      "Epoch 17/100\n",
      "60000/60000 [==============================] - 85s - loss: 0.1259 - val_loss: 0.1254\n",
      "Epoch 18/100\n",
      "60000/60000 [==============================] - 85s - loss: 0.1256 - val_loss: 0.1243\n",
      "Epoch 19/100\n",
      "60000/60000 [==============================] - 85s - loss: 0.1254 - val_loss: 0.1246\n",
      "Epoch 20/100\n",
      "60000/60000 [==============================] - 85s - loss: 0.1251 - val_loss: 0.1240\n",
      "Epoch 21/100\n",
      "60000/60000 [==============================] - 85s - loss: 0.1246 - val_loss: 0.1239\n",
      "Epoch 22/100\n",
      "60000/60000 [==============================] - 85s - loss: 0.1247 - val_loss: 0.1261\n",
      "Epoch 23/100\n",
      "60000/60000 [==============================] - 84s - loss: 0.1245 - val_loss: 0.1248\n",
      "Epoch 24/100\n",
      "60000/60000 [==============================] - 84s - loss: 0.1244 - val_loss: 0.1231\n",
      "Epoch 25/100\n",
      "60000/60000 [==============================] - 84s - loss: 0.1242 - val_loss: 0.1229\n",
      "Epoch 26/100\n",
      "60000/60000 [==============================] - 84s - loss: 0.1240 - val_loss: 0.1233\n",
      "Epoch 27/100\n",
      "60000/60000 [==============================] - 84s - loss: 0.1238 - val_loss: 0.1222\n",
      "Epoch 28/100\n",
      "60000/60000 [==============================] - 87s - loss: 0.1233 - val_loss: 0.1232\n",
      "Epoch 29/100\n",
      "60000/60000 [==============================] - 85s - loss: 0.1235 - val_loss: 0.1219\n",
      "Epoch 30/100\n",
      "60000/60000 [==============================] - 85s - loss: 0.1232 - val_loss: 0.1221\n",
      "Epoch 31/100\n",
      "60000/60000 [==============================] - 89s - loss: 0.1232 - val_loss: 0.1225\n",
      "Epoch 32/100\n",
      "60000/60000 [==============================] - 89s - loss: 0.1231 - val_loss: 0.1226\n",
      "Epoch 33/100\n",
      "60000/60000 [==============================] - 87s - loss: 0.1230 - val_loss: 0.1224\n",
      "Epoch 34/100\n",
      "60000/60000 [==============================] - 87s - loss: 0.1227 - val_loss: 0.1218\n",
      "Epoch 35/100\n",
      "60000/60000 [==============================] - 87s - loss: 0.1227 - val_loss: 0.1240\n",
      "Epoch 36/100\n",
      "60000/60000 [==============================] - 88s - loss: 0.1225 - val_loss: 0.1216\n",
      "Epoch 37/100\n",
      "60000/60000 [==============================] - 87s - loss: 0.1225 - val_loss: 0.1221\n",
      "Epoch 38/100\n",
      "60000/60000 [==============================] - 88s - loss: 0.1225 - val_loss: 0.1205\n",
      "Epoch 39/100\n",
      "60000/60000 [==============================] - 88s - loss: 0.1223 - val_loss: 0.1216\n",
      "Epoch 40/100\n",
      "60000/60000 [==============================] - 88s - loss: 0.1220 - val_loss: 0.1210\n",
      "Epoch 41/100\n",
      "60000/60000 [==============================] - 90s - loss: 0.1219 - val_loss: 0.1206\n",
      "Epoch 42/100\n",
      "60000/60000 [==============================] - 91s - loss: 0.1217 - val_loss: 0.1198\n",
      "Epoch 43/100\n",
      "60000/60000 [==============================] - 93s - loss: 0.1216 - val_loss: 0.1205\n",
      "Epoch 44/100\n",
      "60000/60000 [==============================] - 96s - loss: 0.1215 - val_loss: 0.1203\n",
      "Epoch 45/100\n",
      "60000/60000 [==============================] - 89s - loss: 0.1215 - val_loss: 0.1197\n",
      "Epoch 46/100\n",
      "60000/60000 [==============================] - 90s - loss: 0.1215 - val_loss: 0.1201\n",
      "Epoch 47/100\n",
      "60000/60000 [==============================] - 91s - loss: 0.1215 - val_loss: 0.1198\n",
      "Epoch 48/100\n",
      "60000/60000 [==============================] - 91s - loss: 0.1212 - val_loss: 0.1210\n",
      "Epoch 49/100\n",
      "60000/60000 [==============================] - 91s - loss: 0.1213 - val_loss: 0.1197\n",
      "Epoch 50/100\n",
      "60000/60000 [==============================] - 92s - loss: 0.1210 - val_loss: 0.1202\n",
      "Epoch 51/100\n",
      "60000/60000 [==============================] - 91s - loss: 0.1208 - val_loss: 0.1216\n",
      "Epoch 52/100\n",
      "60000/60000 [==============================] - 92s - loss: 0.1208 - val_loss: 0.1200\n",
      "Epoch 53/100\n",
      "60000/60000 [==============================] - 86s - loss: 0.1207 - val_loss: 0.1206\n",
      "Epoch 54/100\n",
      "60000/60000 [==============================] - 86s - loss: 0.1207 - val_loss: 0.1206\n",
      "Epoch 55/100\n",
      "60000/60000 [==============================] - 86s - loss: 0.1205 - val_loss: 0.1193\n",
      "Epoch 56/100\n",
      "60000/60000 [==============================] - 86s - loss: 0.1207 - val_loss: 0.1191\n",
      "Epoch 57/100\n",
      "60000/60000 [==============================] - 85s - loss: 0.1207 - val_loss: 0.1195\n",
      "Epoch 58/100\n",
      "60000/60000 [==============================] - 86s - loss: 0.1204 - val_loss: 0.1189\n",
      "Epoch 59/100\n",
      "60000/60000 [==============================] - 85s - loss: 0.1204 - val_loss: 0.1199\n",
      "Epoch 60/100\n",
      "60000/60000 [==============================] - 86s - loss: 0.1205 - val_loss: 0.1198\n",
      "Epoch 61/100\n",
      "60000/60000 [==============================] - 86s - loss: 0.1203 - val_loss: 0.1193\n",
      "Epoch 62/100\n",
      "60000/60000 [==============================] - 85s - loss: 0.1201 - val_loss: 0.1191\n",
      "Epoch 63/100\n",
      "60000/60000 [==============================] - 85s - loss: 0.1202 - val_loss: 0.1188\n",
      "Epoch 64/100\n",
      "60000/60000 [==============================] - 85s - loss: 0.1200 - val_loss: 0.1184\n",
      "Epoch 65/100\n",
      "60000/60000 [==============================] - 85s - loss: 0.1200 - val_loss: 0.1189\n",
      "Epoch 66/100\n",
      "60000/60000 [==============================] - 85s - loss: 0.1200 - val_loss: 0.1191\n",
      "Epoch 67/100\n",
      "60000/60000 [==============================] - 85s - loss: 0.1199 - val_loss: 0.1193\n",
      "Epoch 68/100\n",
      "60000/60000 [==============================] - 85s - loss: 0.1196 - val_loss: 0.1192\n",
      "Epoch 69/100\n",
      "60000/60000 [==============================] - 85s - loss: 0.1198 - val_loss: 0.1195\n",
      "Epoch 70/100\n",
      "60000/60000 [==============================] - 86s - loss: 0.1198 - val_loss: 0.1191\n",
      "Epoch 71/100\n",
      "60000/60000 [==============================] - 86s - loss: 0.1196 - val_loss: 0.1198\n",
      "Epoch 72/100\n",
      "60000/60000 [==============================] - 86s - loss: 0.1194 - val_loss: 0.1182\n",
      "Epoch 73/100\n",
      "60000/60000 [==============================] - 86s - loss: 0.1194 - val_loss: 0.1181\n",
      "Epoch 74/100\n",
      "60000/60000 [==============================] - 86s - loss: 0.1192 - val_loss: 0.1194\n",
      "Epoch 75/100\n",
      "60000/60000 [==============================] - 86s - loss: 0.1194 - val_loss: 0.1195\n",
      "Epoch 76/100\n",
      "60000/60000 [==============================] - 86s - loss: 0.1193 - val_loss: 0.1200\n",
      "Epoch 77/100\n",
      "60000/60000 [==============================] - 85s - loss: 0.1193 - val_loss: 0.1180\n",
      "Epoch 78/100\n",
      "60000/60000 [==============================] - 86s - loss: 0.1192 - val_loss: 0.1177\n",
      "Epoch 79/100\n",
      "60000/60000 [==============================] - 86s - loss: 0.1190 - val_loss: 0.1186\n",
      "Epoch 80/100\n",
      "60000/60000 [==============================] - 86s - loss: 0.1191 - val_loss: 0.1177\n",
      "Epoch 81/100\n",
      "60000/60000 [==============================] - 86s - loss: 0.1192 - val_loss: 0.1186\n",
      "Epoch 82/100\n",
      "60000/60000 [==============================] - 85s - loss: 0.1190 - val_loss: 0.1180\n",
      "Epoch 83/100\n",
      "60000/60000 [==============================] - 86s - loss: 0.1191 - val_loss: 0.1186\n",
      "Epoch 84/100\n",
      "60000/60000 [==============================] - 94s - loss: 0.1190 - val_loss: 0.1178\n",
      "Epoch 85/100\n",
      "60000/60000 [==============================] - 90s - loss: 0.1188 - val_loss: 0.1183\n",
      "Epoch 86/100\n",
      "60000/60000 [==============================] - 89s - loss: 0.1189 - val_loss: 0.1168\n",
      "Epoch 87/100\n",
      "60000/60000 [==============================] - 87s - loss: 0.1185 - val_loss: 0.1180\n",
      "Epoch 88/100\n",
      "60000/60000 [==============================] - 86s - loss: 0.1185 - val_loss: 0.1174\n",
      "Epoch 89/100\n",
      "60000/60000 [==============================] - 87s - loss: 0.1186 - val_loss: 0.1171\n",
      "Epoch 90/100\n",
      "60000/60000 [==============================] - 88s - loss: 0.1185 - val_loss: 0.1174\n",
      "Epoch 91/100\n",
      "60000/60000 [==============================] - 86s - loss: 0.1184 - val_loss: 0.1167\n",
      "Epoch 92/100\n",
      "60000/60000 [==============================] - 86s - loss: 0.1181 - val_loss: 0.1181\n",
      "Epoch 93/100\n",
      "60000/60000 [==============================] - 86s - loss: 0.1183 - val_loss: 0.1169\n",
      "Epoch 94/100\n",
      "60000/60000 [==============================] - 86s - loss: 0.1181 - val_loss: 0.1168\n",
      "Epoch 95/100\n",
      "60000/60000 [==============================] - 86s - loss: 0.1179 - val_loss: 0.1178\n",
      "Epoch 96/100\n",
      "60000/60000 [==============================] - 86s - loss: 0.1180 - val_loss: 0.1171\n",
      "Epoch 97/100\n",
      "60000/60000 [==============================] - 86s - loss: 0.1180 - val_loss: 0.1160\n",
      "Epoch 98/100\n",
      "60000/60000 [==============================] - 86s - loss: 0.1180 - val_loss: 0.1170\n",
      "Epoch 99/100\n",
      "60000/60000 [==============================] - 86s - loss: 0.1178 - val_loss: 0.1167\n",
      "Epoch 100/100\n",
      "60000/60000 [==============================] - 86s - loss: 0.1175 - val_loss: 0.1169\n"
     ]
    },
    {
     "data": {
      "text/plain": [
       "<keras.callbacks.History at 0x7f88efb38fd0>"
      ]
     },
     "execution_count": 49,
     "metadata": {},
     "output_type": "execute_result"
    }
   ],
   "source": [
    "# Use the convolutional autoencoder trained previously as a pretrained model\n",
    "autoencoder_conv_d = ks.models.clone_model(autoencoder_conv)\n",
    "autoencoder_conv_d.set_weights(autoencoder_conv.get_weights())  # copy weights\n",
    "autoencoder_conv_d.compile(optimizer='adadelta', loss='binary_crossentropy')\n",
    "autoencoder_conv_d.fit(x_train_2d_noisy, x_train_2d,\n",
    "                       epochs=100,\n",
    "                       batch_size=256,\n",
    "                       shuffle=True,\n",
    "                       validation_data=(x_test_2d_noisy, x_test_2d))\n",
    "#                        callbacks=[TensorBoard(log_dir='./log/', histogram_freq=0, write_graph=False)])"
   ]
  },
  {
   "cell_type": "code",
   "execution_count": 50,
   "metadata": {},
   "outputs": [],
   "source": [
    "decoded_imgs_conv_d = autoencoder_conv_d.predict(x_test_2d_noisy)"
   ]
  },
  {
   "cell_type": "code",
   "execution_count": 51,
   "metadata": {},
   "outputs": [
    {
     "data": {
      "image/png": "[encoded data removed]",
      "text/plain": [
       "<Figure size 1440x288 with 20 Axes>"
      ]
     },
     "metadata": {},
     "output_type": "display_data"
    }
   ],
   "source": [
    "n = 10  # how many digits we will display\n",
    "plt.figure(figsize=(20, 4))\n",
    "for i in range(n):\n",
    "    # display original\n",
    "    ax = plt.subplot(2, n, i + 1)\n",
    "    plt.imshow(x_test_2d_noisy[i].reshape(28, 28))\n",
    "    plt.gray()\n",
    "    ax.get_xaxis().set_visible(False)\n",
    "    ax.get_yaxis().set_visible(False)\n",
    "\n",
    "    # display reconstruction\n",
    "    ax = plt.subplot(2, n, i + 1 + n)\n",
    "    plt.imshow(decoded_imgs_conv_d[i].reshape(28, 28))\n",
    "    plt.gray()\n",
    "    ax.get_xaxis().set_visible(False)\n",
    "    ax.get_yaxis().set_visible(False)\n",
    "plt.show()"
   ]
  },
  {
   "cell_type": "code",
   "execution_count": 52,
   "metadata": {},
   "outputs": [],
   "source": [
    "input_img_conv_d2 = ks.layers.Input(shape=(28, 28, 1))  # adapt this if using `channels_first` image data format\n",
    "\n",
    "x = ks.layers.Conv2D(16, (3, 3), activation='relu', padding='same')(input_img_conv_d2)\n",
    "x = ks.layers.MaxPooling2D((2, 2), padding='same')(x)\n",
    "x = ks.layers.Conv2D(8, (3, 3), activation='relu', padding='same')(x)\n",
    "x = ks.layers.MaxPooling2D((2, 2), padding='same')(x)\n",
    "x = ks.layers.Conv2D(8, (3, 3), activation='relu', padding='same')(x)\n",
    "encoded_conv_d2 = ks.layers.MaxPooling2D((2, 2), padding='same')(x)\n",
    "\n",
    "# at this point the representation is (4, 4, 8) i.e. 128-dimensional\n",
    "\n",
    "x = ks.layers.Conv2D(8, (3, 3), activation='relu', padding='same')(encoded_conv_d2)\n",
    "x = ks.layers.UpSampling2D((2, 2))(x)\n",
    "x = ks.layers.Conv2D(8, (3, 3), activation='relu', padding='same')(x)\n",
    "x = ks.layers.UpSampling2D((2, 2))(x)\n",
    "x = ks.layers.Conv2D(16, (3, 3), activation='relu')(x)\n",
    "x = ks.layers.UpSampling2D((2, 2))(x)\n",
    "decoded_conv_d2 = ks.layers.Conv2D(1, (3, 3), activation='sigmoid', padding='same')(x)\n",
    "\n",
    "autoencoder_conv_d2 = ks.models.Model(input_img_conv_d2, decoded_conv_d2)"
   ]
  },
  {
   "cell_type": "code",
   "execution_count": 53,
   "metadata": {},
   "outputs": [],
   "source": [
    "encoder_conv_d2 = ks.models.Model(input_img_conv_d2, encoded_conv_d2)  # seperate encoder\n",
    "encoded_input_conv_d2 = ks.layers.Input(shape=(4, 4, 8))   # encoded input placeholder\n",
    "decoder_layer_conv_d2 = encoded_input_conv_d2\n",
    "for i, layer in enumerate(autoencoder_conv_d2.layers[-7:]):\n",
    "    decoder_layer_conv_d2 = layer(decoder_layer_conv_d2)\n",
    "decoder_conv_d2 = ks.models.Model(encoded_input_conv_d2, decoder_layer_conv_d2)  # seperate decoder"
   ]
  },
  {
   "cell_type": "code",
   "execution_count": 55,
   "metadata": {
    "scrolled": true
   },
   "outputs": [
    {
     "name": "stdout",
     "output_type": "stream",
     "text": [
      "Train on 60000 samples, validate on 10000 samples\n",
      "Epoch 1/50\n",
      "60000/60000 [==============================] - 98s - loss: 0.2704 - val_loss: 0.2161\n",
      "Epoch 2/50\n",
      "60000/60000 [==============================] - 98s - loss: 0.2008 - val_loss: 0.1858\n",
      "Epoch 3/50\n",
      "60000/60000 [==============================] - 96s - loss: 0.1818 - val_loss: 0.1751\n",
      "Epoch 4/50\n",
      "60000/60000 [==============================] - 98s - loss: 0.1724 - val_loss: 0.1687\n",
      "Epoch 5/50\n",
      "60000/60000 [==============================] - 96s - loss: 0.1663 - val_loss: 0.1612\n",
      "Epoch 6/50\n",
      "60000/60000 [==============================] - 96s - loss: 0.1612 - val_loss: 0.1570\n",
      "Epoch 7/50\n",
      "60000/60000 [==============================] - 97s - loss: 0.1578 - val_loss: 0.1543\n",
      "Epoch 8/50\n",
      "60000/60000 [==============================] - 96s - loss: 0.1547 - val_loss: 0.1509\n",
      "Epoch 9/50\n",
      "60000/60000 [==============================] - 97s - loss: 0.1524 - val_loss: 0.1486\n",
      "Epoch 10/50\n",
      "60000/60000 [==============================] - 97s - loss: 0.1502 - val_loss: 0.1464\n",
      "Epoch 11/50\n",
      "60000/60000 [==============================] - 99s - loss: 0.1480 - val_loss: 0.1458\n",
      "Epoch 12/50\n",
      "60000/60000 [==============================] - 99s - loss: 0.1459 - val_loss: 0.1427\n",
      "Epoch 13/50\n",
      "60000/60000 [==============================] - 99s - loss: 0.1445 - val_loss: 0.1417\n",
      "Epoch 14/50\n",
      "60000/60000 [==============================] - 99s - loss: 0.1430 - val_loss: 0.1411\n",
      "Epoch 15/50\n",
      "60000/60000 [==============================] - 99s - loss: 0.1418 - val_loss: 0.1401\n",
      "Epoch 16/50\n",
      "60000/60000 [==============================] - 99s - loss: 0.1409 - val_loss: 0.1394s: \n",
      "Epoch 17/50\n",
      "60000/60000 [==============================] - 99s - loss: 0.1400 - val_loss: 0.1378\n",
      "Epoch 18/50\n",
      "60000/60000 [==============================] - 99s - loss: 0.1393 - val_loss: 0.1384\n",
      "Epoch 19/50\n",
      "60000/60000 [==============================] - 99s - loss: 0.1383 - val_loss: 0.1358\n",
      "Epoch 20/50\n",
      "60000/60000 [==============================] - 99s - loss: 0.1374 - val_loss: 0.1354\n",
      "Epoch 21/50\n",
      "60000/60000 [==============================] - 100s - loss: 0.1370 - val_loss: 0.1356\n",
      "Epoch 22/50\n",
      "60000/60000 [==============================] - 97s - loss: 0.1365 - val_loss: 0.1362\n",
      "Epoch 23/50\n",
      "60000/60000 [==============================] - 96s - loss: 0.1359 - val_loss: 0.1349\n",
      "Epoch 24/50\n",
      "60000/60000 [==============================] - 97s - loss: 0.1352 - val_loss: 0.1339\n",
      "Epoch 25/50\n",
      "60000/60000 [==============================] - 96s - loss: 0.1345 - val_loss: 0.1326\n",
      "Epoch 26/50\n",
      "60000/60000 [==============================] - 96s - loss: 0.1344 - val_loss: 0.1332\n",
      "Epoch 27/50\n",
      "60000/60000 [==============================] - 96s - loss: 0.1339 - val_loss: 0.1323\n",
      "Epoch 28/50\n",
      "60000/60000 [==============================] - 96s - loss: 0.1335 - val_loss: 0.1347\n",
      "Epoch 29/50\n",
      "60000/60000 [==============================] - 96s - loss: 0.1331 - val_loss: 0.1317\n",
      "Epoch 30/50\n",
      "60000/60000 [==============================] - 96s - loss: 0.1328 - val_loss: 0.1314\n",
      "Epoch 31/50\n",
      "60000/60000 [==============================] - 95s - loss: 0.1323 - val_loss: 0.1309\n",
      "Epoch 32/50\n",
      "60000/60000 [==============================] - 95s - loss: 0.1319 - val_loss: 0.1311\n",
      "Epoch 33/50\n",
      "60000/60000 [==============================] - 95s - loss: 0.1317 - val_loss: 0.1304\n",
      "Epoch 34/50\n",
      "60000/60000 [==============================] - 95s - loss: 0.1313 - val_loss: 0.1300\n",
      "Epoch 35/50\n",
      "60000/60000 [==============================] - 95s - loss: 0.1310 - val_loss: 0.1293\n",
      "Epoch 36/50\n",
      "60000/60000 [==============================] - 95s - loss: 0.1309 - val_loss: 0.1296\n",
      "Epoch 37/50\n",
      "60000/60000 [==============================] - 99s - loss: 0.1306 - val_loss: 0.1305\n",
      "Epoch 38/50\n",
      "60000/60000 [==============================] - 96s - loss: 0.1304 - val_loss: 0.1286\n",
      "Epoch 39/50\n",
      "60000/60000 [==============================] - 96s - loss: 0.1303 - val_loss: 0.1276\n",
      "Epoch 40/50\n",
      "60000/60000 [==============================] - 96s - loss: 0.1297 - val_loss: 0.1279\n",
      "Epoch 41/50\n",
      "60000/60000 [==============================] - 96s - loss: 0.1297 - val_loss: 0.1284\n",
      "Epoch 42/50\n",
      "60000/60000 [==============================] - 96s - loss: 0.1293 - val_loss: 0.1270\n",
      "Epoch 43/50\n",
      "60000/60000 [==============================] - 97s - loss: 0.1296 - val_loss: 0.1273s: 0.1\n",
      "Epoch 44/50\n",
      "60000/60000 [==============================] - 98s - loss: 0.1289 - val_loss: 0.1276\n",
      "Epoch 45/50\n",
      "60000/60000 [==============================] - 96s - loss: 0.1285 - val_loss: 0.1277\n",
      "Epoch 46/50\n",
      "60000/60000 [==============================] - 97s - loss: 0.1286 - val_loss: 0.1279\n",
      "Epoch 47/50\n",
      "60000/60000 [==============================] - 97s - loss: 0.1285 - val_loss: 0.1266\n",
      "Epoch 48/50\n",
      "60000/60000 [==============================] - 97s - loss: 0.1284 - val_loss: 0.1263\n",
      "Epoch 49/50\n",
      "60000/60000 [==============================] - 99s - loss: 0.1284 - val_loss: 0.1263\n",
      "Epoch 50/50\n",
      "60000/60000 [==============================] - 99s - loss: 0.1280 - val_loss: 0.1265\n"
     ]
    },
    {
     "data": {
      "text/plain": [
       "<keras.callbacks.History at 0x7f88eeef6a20>"
      ]
     },
     "execution_count": 55,
     "metadata": {},
     "output_type": "execute_result"
    }
   ],
   "source": [
    "# first 50 epoches\n",
    "autoencoder_conv_d2.compile(optimizer='adadelta', loss='binary_crossentropy')\n",
    "autoencoder_conv_d2.fit(x_train_2d_noisy, x_train_2d,  # This is fucking slow on CPU, let's try GPU later\n",
    "                        epochs=50,\n",
    "                        batch_size=128,\n",
    "                        shuffle=True,\n",
    "                        validation_data=(x_test_2d_noisy, x_test_2d),\n",
    "                        callbacks=[ks.callbacks.EarlyStopping(monitor='val_loss', min_delta=0.0001, patience=10)])\n",
    "#                         callbacks=[TensorBoard(log_dir='./log/')])  "
   ]
  },
  {
   "cell_type": "code",
   "execution_count": 56,
   "metadata": {},
   "outputs": [],
   "source": [
    "encoded_imgs_conv_d2 = encoder_conv.predict(x_test_2d_noisy)\n",
    "decoded_imgs_conv_d2 = decoder_conv.predict(encoded_imgs_conv_d2)"
   ]
  },
  {
   "cell_type": "code",
   "execution_count": 57,
   "metadata": {},
   "outputs": [
    {
     "data": {
      "image/png": "[encoded data removed]",
      "text/plain": [
       "<Figure size 1440x288 with 20 Axes>"
      ]
     },
     "metadata": {},
     "output_type": "display_data"
    }
   ],
   "source": [
    "n = 10  # how many digits we will display\n",
    "plt.figure(figsize=(20, 4))\n",
    "for i in range(n):\n",
    "    # display original\n",
    "    ax = plt.subplot(2, n, i + 1)\n",
    "    plt.imshow(x_test_2d_noisy[i].reshape(28, 28))\n",
    "    plt.gray()\n",
    "    ax.get_xaxis().set_visible(False)\n",
    "    ax.get_yaxis().set_visible(False)\n",
    "\n",
    "    # display reconstruction\n",
    "    ax = plt.subplot(2, n, i + 1 + n)\n",
    "    plt.imshow(decoded_imgs_conv_d2[i].reshape(28, 28))\n",
    "    plt.gray()\n",
    "    ax.get_xaxis().set_visible(False)\n",
    "    ax.get_yaxis().set_visible(False)\n",
    "plt.show()"
   ]
  },
  {
   "cell_type": "code",
   "execution_count": 66,
   "metadata": {},
   "outputs": [],
   "source": [
    "# 100 more epochs for comparison with pretrained model\n",
    "# Due to some reason I clear the output, but the model is already trained for 100 more epoches, let's see the outcome\n",
    "autoencoder_conv_d2.fit(x_train_2d_noisy, x_train_2d,  # This is fucking slow on CPU, let's try GPU later\n",
    "                        epochs=100,\n",
    "                        batch_size=128,\n",
    "                        shuffle=True,\n",
    "                        validation_data=(x_test_2d_noisy, x_test_2d),\n",
    "                        callbacks=[ks.callbacks.EarlyStopping(monitor='val_loss', min_delta=0.0001, patience=10)])\n",
    "#                         callbacks=[TensorBoard(log_dir='./log/')])  "
   ]
  },
  {
   "cell_type": "code",
   "execution_count": 67,
   "metadata": {},
   "outputs": [],
   "source": [
    "encoded_imgs_conv_d2 = encoder_conv.predict(x_test_2d_noisy)\n",
    "decoded_imgs_conv_d2 = decoder_conv.predict(encoded_imgs_conv_d2)"
   ]
  },
  {
   "cell_type": "code",
   "execution_count": 68,
   "metadata": {},
   "outputs": [
    {
     "data": {
      "image/png": "[encoded data removed]",
      "text/plain": [
       "<Figure size 1440x288 with 20 Axes>"
      ]
     },
     "metadata": {},
     "output_type": "display_data"
    }
   ],
   "source": [
    "n = 10  # how many digits we will display\n",
    "plt.figure(figsize=(20, 4))\n",
    "for i in range(n):\n",
    "    # display original\n",
    "    ax = plt.subplot(2, n, i + 1)\n",
    "    plt.imshow(x_test_2d_noisy[i].reshape(28, 28))\n",
    "    plt.gray()\n",
    "    ax.get_xaxis().set_visible(False)\n",
    "    ax.get_yaxis().set_visible(False)\n",
    "\n",
    "    # display reconstruction\n",
    "    ax = plt.subplot(2, n, i + 1 + n)\n",
    "    plt.imshow(decoded_imgs_conv_d2[i].reshape(28, 28))\n",
    "    plt.gray()\n",
    "    ax.get_xaxis().set_visible(False)\n",
    "    ax.get_yaxis().set_visible(False)\n",
    "plt.show()"
   ]
  },
  {
   "cell_type": "code",
   "execution_count": 70,
   "metadata": {},
   "outputs": [
    {
     "name": "stdout",
     "output_type": "stream",
     "text": [
      " 9888/10000 [============================>.] - ETA: 0s\n",
      "train_loss: 0.12035187985897064, valid_loss: 0.11942175211906433\n"
     ]
    }
   ],
   "source": [
    "train_loss = autoencoder_conv_d2.evaluate(x_train_2d_noisy, x_train_2d) \n",
    "valid_loss = autoencoder_conv_d2.evaluate(x_test_2d_noisy, x_test_2d)\n",
    "print()\n",
    "print(\"train_loss: {}, valid_loss: {}\".format(train_loss, valid_loss))  # see? the losses drops compared with the 50th epoch"
   ]
  },
  {
   "cell_type": "code",
   "execution_count": null,
   "metadata": {},
   "outputs": [],
   "source": []
  }
 ],
 "metadata": {
  "kernelspec": {
   "display_name": "Python 3",
   "language": "python",
   "name": "python3"
  },
  "language_info": {
   "codemirror_mode": {
    "name": "ipython",
    "version": 3
   },
   "file_extension": ".py",
   "mimetype": "text/x-python",
   "name": "python",
   "nbconvert_exporter": "python",
   "pygments_lexer": "ipython3",
   "version": "3.5.2"
  }
 },
 "nbformat": 4,
 "nbformat_minor": 2
}
