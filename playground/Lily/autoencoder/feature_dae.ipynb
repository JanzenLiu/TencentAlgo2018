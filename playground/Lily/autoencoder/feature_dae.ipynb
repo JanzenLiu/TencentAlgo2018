{
 "cells": [
  {
   "cell_type": "code",
   "execution_count": 1,
   "metadata": {},
   "outputs": [],
   "source": [
    "import torch\n",
    "import torch.nn as nn\n",
    "import torch.utils.data as Data\n",
    "import torchvision\n",
    "import matplotlib.pyplot as plt\n",
    "from mpl_toolkits.mplot3d import Axes3D\n",
    "from matplotlib import cm\n",
    "import numpy as np\n",
    "import sys\n",
    "sys.path.append('../../../code/utils/')\n",
    "sys.path.append('../../../code/feature/')\n",
    "import data_utils as du\n",
    "import perf_utils as pu\n",
    "import gc\n",
    "from scipy.sparse import find"
   ]
  },
  {
   "cell_type": "code",
   "execution_count": 2,
   "metadata": {},
   "outputs": [],
   "source": [
    "# Here we should probably define the auto-encoder\n",
    "class AutoEncoder(nn.Module):\n",
    "    def __init__(self, input_size):\n",
    "        super(AutoEncoder, self).__init__()\n",
    "        self.encoder = nn.Sequential(\n",
    "            nn.Linear(input_size, 128),\n",
    "            nn.Tanh(),\n",
    "            nn.Linear(128, 32),\n",
    "        )\n",
    "        self.decoder = nn.Sequential(\n",
    "            nn.Linear(32, 128),\n",
    "            nn.Tanh(),\n",
    "            nn.Linear(128, input_size),\n",
    "        )\n",
    "\n",
    "    def forward(self, x):\n",
    "        encoded = self.encoder(x)\n",
    "        decoded = self.decoder(encoded)\n",
    "        return encoded, decoded"
   ]
  },
  {
   "cell_type": "code",
   "execution_count": 3,
   "metadata": {},
   "outputs": [],
   "source": [
    "torch.manual_seed(20180429)    # reproducible\n",
    "# Hyper Parameters\n",
    "EPOCH = 100                                       #Haven't figured out, let these just be here\n",
    "BATCH_SIZE = 256\n",
    "LR = 5e-5         # learning rate"
   ]
  },
  {
   "cell_type": "code",
   "execution_count": 5,
   "metadata": {},
   "outputs": [
    {
     "name": "stdout",
     "output_type": "stream",
     "text": [
      "Start formatting data: 09:44:13\n",
      "End formatting data: 09:46:55\n",
      "  (0, 1)\t1\n",
      "  (0, 82)\t1\n",
      "  (0, 110016)\t1\n",
      "  (0, 164008)\t1\n",
      "  (0, 209053)\t1\n",
      "  (0, 214665)\t1\n",
      "  (0, 238362)\t1\n",
      "  (0, 309188)\t1\n",
      "  (0, 374044)\t1\n",
      "  (0, 374098)\t1\n",
      "  (0, 374218)\t1\n"
     ]
    },
    {
     "data": {
      "text/plain": [
       "56"
      ]
     },
     "execution_count": 5,
     "metadata": {},
     "output_type": "execute_result"
    }
   ],
   "source": [
    "df_train = du.load_raw_data(\"train\")\n",
    "gc.collect()\n",
    "print('Start formatting data: {}'.format(pu.get_time_str()))\n",
    "X, y = du.get_set(df_train, test = False, features_u_want = ['house', 'interest2', 'kw1', 'kw2',  'appIdInstall'], a_features_u_want = ['aid', 'productId'])\n",
    "print('End formatting data: {}'.format(pu.get_time_str()))\n",
    "print(X[0])\n",
    "del df_train\n",
    "gc.collect()"
   ]
  },
  {
   "cell_type": "code",
   "execution_count": 8,
   "metadata": {},
   "outputs": [
    {
     "name": "stdout",
     "output_type": "stream",
     "text": [
      "[09:47:53] Finish Setting up autoencoder. △M: -364.05MB. △T: 1.1 seconds.\n"
     ]
    }
   ],
   "source": [
    "with pu.profiler(\"Setting up autoencoder\"):\n",
    "    autoencoder = AutoEncoder(X.shape[1])\n",
    "    optimizer = torch.optim.Adam(autoencoder.parameters(), lr=LR, weight_decay = 1e-5)\n",
    "    criterion = nn.MSELoss()"
   ]
  },
  {
   "cell_type": "code",
   "execution_count": null,
   "metadata": {},
   "outputs": [
    {
     "name": "stdout",
     "output_type": "stream",
     "text": [
      "epoch [1/100], samples[256/8798814], loss:0.00506179\n",
      "epoch [1/100], samples[512/8798814], loss:0.00504267\n",
      "epoch [1/100], samples[768/8798814], loss:0.00499937\n",
      "epoch [1/100], samples[1024/8798814], loss:0.00496282\n",
      "epoch [1/100], samples[1280/8798814], loss:0.00492862\n"
     ]
    }
   ],
   "source": [
    "y = torch.Tensor(y)\n",
    "for epoch in range(EPOCH):\n",
    "    batch = []\n",
    "    for i in range(X.shape[0]):\n",
    "        if(i%BATCH_SIZE!=0 or i==0):\n",
    "            batch.append(X[i].toarray())\n",
    "        else:\n",
    "            encoded, decoded = autoencoder(torch.FloatTensor(batch))\n",
    "            loss = criterion(decoded.view(1,-1), torch.Tensor(batch).view(1,-1))\n",
    "            optimizer.zero_grad()\n",
    "            loss.backward()\n",
    "            optimizer.step()\n",
    "            batch = []\n",
    "            # ===================log========================\n",
    "            print('epoch [{}/{}], samples[{}/{}], loss:{:.8f}'\n",
    "                  .format(epoch + 1, EPOCH, i ,X.shape[0], loss.item()))"
   ]
  }
 ],
 "metadata": {
  "kernelspec": {
   "display_name": "Python 3",
   "language": "python",
   "name": "python3"
  },
  "language_info": {
   "codemirror_mode": {
    "name": "ipython",
    "version": 3
   },
   "file_extension": ".py",
   "mimetype": "text/x-python",
   "name": "python",
   "nbconvert_exporter": "python",
   "pygments_lexer": "ipython3",
   "version": "3.6.4"
  }
 },
 "nbformat": 4,
 "nbformat_minor": 2
}
