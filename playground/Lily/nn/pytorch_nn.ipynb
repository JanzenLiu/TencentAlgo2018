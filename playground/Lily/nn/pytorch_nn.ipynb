{
 "cells": [
  {
   "cell_type": "code",
   "execution_count": 1,
   "metadata": {},
   "outputs": [],
   "source": [
    "import torch\n",
    "import torch.nn as nn\n",
    "import torch.utils.data as Data\n",
    "from sklearn.model_selection import StratifiedKFold\n",
    "import os\n",
    "import gc\n",
    "import sys\n",
    "from sklearn.externals import joblib\n",
    "sys.path.append('../../../code/utils')\n",
    "import data_utils as du\n",
    "import perf_utils as pu"
   ]
  },
  {
   "cell_type": "code",
   "execution_count": 2,
   "metadata": {},
   "outputs": [
    {
     "data": {
      "text/plain": [
       "<torch._C.Generator at 0x7fe15dc3bc70>"
      ]
     },
     "execution_count": 2,
     "metadata": {},
     "output_type": "execute_result"
    }
   ],
   "source": [
    "torch.manual_seed(20180429) # reproducible"
   ]
  },
  {
   "cell_type": "code",
   "execution_count": 3,
   "metadata": {},
   "outputs": [
    {
     "name": "stdout",
     "output_type": "stream",
     "text": [
      "cuda:1\n"
     ]
    }
   ],
   "source": [
    "device = torch.device(\"cuda:1\" if torch.cuda.is_available() else \"cpu\")\n",
    "print(device)"
   ]
  },
  {
   "cell_type": "code",
   "execution_count": 4,
   "metadata": {},
   "outputs": [],
   "source": [
    "# ================\n",
    "# Hyper Parameters\n",
    "# ================\n",
    "# To be figured out\n",
    "EPOCH = 3\n",
    "BATCH_SIZE = 512\n",
    "LR = 0.005     # learning rate"
   ]
  },
  {
   "cell_type": "code",
   "execution_count": 5,
   "metadata": {},
   "outputs": [],
   "source": [
    "# =========\n",
    "# Load data\n",
    "# =========\n",
    "\n",
    "# run locally\n",
    "# -----------\n",
    "# input_folder = '../../../data/input'\n",
    "# input_file = 'train.raw.binary.pkl'\n",
    "# input_path = os.path.join(input_folder, input_file)\n",
    "\n",
    "# with pu.profiler('loading train binary data'):\n",
    "#     (feat_names, X_tv) = du.load_pickle(input_path)\n",
    "\n",
    "# run on server\n",
    "# -------------\n",
    "X = joblib.load('../../../../../zhangez698/TencentAlgo2018/playground/Elvin/autoencoder/xxx.pkl')\n",
    "y = joblib.load('../../../../../zhangez698/TencentAlgo2018/playground/Elvin/autoencoder/yyy.pkl')"
   ]
  },
  {
   "cell_type": "code",
   "execution_count": 6,
   "metadata": {},
   "outputs": [
    {
     "data": {
      "text/plain": [
       "(8798814, 419862)"
      ]
     },
     "execution_count": 6,
     "metadata": {},
     "output_type": "execute_result"
    }
   ],
   "source": [
    "X.shape"
   ]
  },
  {
   "cell_type": "code",
   "execution_count": 7,
   "metadata": {},
   "outputs": [
    {
     "name": "stdout",
     "output_type": "stream",
     "text": [
      "Average non-zero entry per row: 75.2\n"
     ]
    }
   ],
   "source": [
    "print('Average non-zero entry per row: {:.1f}'.format(X.getnnz() / X.shape[0]))"
   ]
  },
  {
   "cell_type": "code",
   "execution_count": 8,
   "metadata": {},
   "outputs": [
    {
     "name": "stdout",
     "output_type": "stream",
     "text": [
      "[13:39:25] Finish splitting training set and validation set. △M: +3.2GB. △T: 13.8 seconds.\n"
     ]
    }
   ],
   "source": [
    "# ===============================================\n",
    "# Split data into training set and validation set\n",
    "# ===============================================\n",
    "n_splits = 5\n",
    "skf = StratifiedKFold(n_splits=n_splits)\n",
    "split_indices = [(train_index, valid_index) for train_index, valid_index in skf.split(X, y)]\n",
    "\n",
    "with pu.profiler('splitting training set and validation set'):\n",
    "    train_index, valid_index = split_indices[0]\n",
    "    X_train, y_train = X[train_index, :], y[train_index]\n",
    "    X_valid, y_valid = X[valid_index, :], y[valid_index]\n",
    "    gc.collect()"
   ]
  },
  {
   "cell_type": "code",
   "execution_count": 9,
   "metadata": {},
   "outputs": [
    {
     "name": "stdout",
     "output_type": "stream",
     "text": [
      "(7039050, 419862)\n",
      "(7039050,)\n",
      "(1759764, 419862)\n",
      "(1759764,)\n"
     ]
    }
   ],
   "source": [
    "print(X_train.shape)\n",
    "print(y_train.shape)\n",
    "print(X_valid.shape)\n",
    "print(y_valid.shape)"
   ]
  },
  {
   "cell_type": "code",
   "execution_count": 10,
   "metadata": {},
   "outputs": [],
   "source": [
    "# =====================\n",
    "# Create dataset for nn\n",
    "# =====================\n",
    "def csr_to_tensor(csr_matrix, size):\n",
    "    data = csr_matrix.data\n",
    "    indices = csr_matrix.indices\n",
    "    \n",
    "    # http://pytorch.org/docs/stable/sparse.html\n",
    "    i = torch.LongTensor([[0, num] for num in indices]).to(device)\n",
    "    v = torch.FloatTensor(data.astype(np.float)).to(device)\n",
    "    result_tensor = torch.sparse.FloatTensor(i.t(), v, size).to(device).to_dense()\n",
    "    return result_tensor\n",
    "\n",
    "class MyDataset(Data.Dataset):\n",
    "    def __init__(self, x, y):\n",
    "        self.input = x\n",
    "        self.label = y\n",
    "\n",
    "    def __getitem__(self, index):#返回的是tensor\n",
    "        # convert self.input[index] to tensor\n",
    "        input_item = self.input[index]\n",
    "        x = csr_to_tensor(input_item, torch.Size([1,self.input.shape[1]]))\n",
    "        \n",
    "        # convert self.label[index] to tensor\n",
    "        y = torch.tensor(self.label[index])\n",
    "        return x, y\n",
    "\n",
    "    def __len__(self):\n",
    "        return len(self.label)\n",
    "\n",
    "train_dataset = MyDataset(X_train, y_train)\n",
    "validation_dataset = MyDataset(X_valid, y_valid)\n",
    "train_loader = Data.DataLoader(dataset=train_dataset, batch_size=BATCH_SIZE, shuffle=True)\n",
    "validation_loader = Data.DataLoader(dataset=validation_dataset, batch_size=BATCH_SIZE, shuffle=True)"
   ]
  },
  {
   "cell_type": "code",
   "execution_count": 11,
   "metadata": {},
   "outputs": [],
   "source": [
    "# =====================\n",
    "# Define Neural Network\n",
    "# =====================\n",
    "class  Net(nn.Module):\n",
    "    def  __init__(self, input_size):\n",
    "        super(Net, self).__init__()\n",
    "        self.fc1 = nn.Linear(input_size, 10000) \n",
    "        self.relu1 = nn.ELU()\n",
    "        self.fc2 = nn.Linear(100000, 20000) \n",
    "        self.relu2 = nn.ELU()\n",
    "        self.fc3 = nn.Linear(20000, 100)\n",
    "        self.relu3 = nn.ELU()\n",
    "        self.fc4 = nn.Linear(100, 2)\n",
    "        \n",
    "\n",
    "    def forward(self, x):\n",
    "        out = self.fc1(x)\n",
    "        out = self.relu(out)\n",
    "        out = self.fc2(out)\n",
    "        return out"
   ]
  },
  {
   "cell_type": "code",
   "execution_count": 13,
   "metadata": {},
   "outputs": [
    {
     "name": "stdout",
     "output_type": "stream",
     "text": [
      "[13:43:53] Finish Setting up mlp. △M: +9.16MB. △T: 21.8 seconds.\n"
     ]
    }
   ],
   "source": [
    "# ================================\n",
    "# Declare mlp, loss, and optimizer\n",
    "# ================================\n",
    "with pu.profiler(\"Setting up mlp\"):\n",
    "    mlp = Net(32).to(device)\n",
    "    criterion = nn.CrossEntropyLoss()\n",
    "    optimizer = torch.optim.Adam(mlp.parameters(), lr=LR)"
   ]
  },
  {
   "cell_type": "code",
   "execution_count": null,
   "metadata": {},
   "outputs": [],
   "source": [
    "# ========\n",
    "# Train nn\n",
    "# ========\n",
    "for epoch in range(EPOCH):\n",
    "    for step, (inputs, labels) in enumerate(train_loader):\n",
    "        print('inputs device is {}'.format(inputs.get_device())\n",
    "\n",
    "        # zero the parameter gradients\n",
    "        optimizer.zero_grad()\n",
    "\n",
    "        # forward + backward + optimize\n",
    "        outputs = mlp(inputs)\n",
    "        loss = criterion(outputs, labels)\n",
    "        loss.backward()\n",
    "        optimizer.step()\n",
    "\n",
    "        # print statistics\n",
    "        if step % 512 == 511:\n",
    "            print('[%d, %5d] loss: %.3f' % (epoch + 1, step + 1, loss))\n",
    "\n",
    "print('Finished Training')"
   ]
  }
 ],
 "metadata": {
  "kernelspec": {
   "display_name": "Python 3",
   "language": "python",
   "name": "python3"
  },
  "language_info": {
   "codemirror_mode": {
    "name": "ipython",
    "version": 3
   },
   "file_extension": ".py",
   "mimetype": "text/x-python",
   "name": "python",
   "nbconvert_exporter": "python",
   "pygments_lexer": "ipython3",
   "version": "3.5.2"
  }
 },
 "nbformat": 4,
 "nbformat_minor": 2
}
