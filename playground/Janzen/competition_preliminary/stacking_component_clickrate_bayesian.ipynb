{
 "cells": [
  {
   "cell_type": "code",
   "execution_count": 1,
   "metadata": {},
   "outputs": [],
   "source": [
    "from functools import partial\n",
    "import scipy.sparse as sparse\n",
    "import pandas as pd\n",
    "import numpy as np\n",
    "import tqdm\n",
    "import copy\n",
    "import gc\n",
    "import os\n",
    "import sys\n",
    "sys.path.append('../../../code/utils')\n",
    "sys.path.append('../../../code/pipeline')\n",
    "sys.path.append('../../../code')\n",
    "import data_utils as du\n",
    "import perf_utils as pu\n",
    "import data_jointer as dj\n",
    "import config"
   ]
  },
  {
   "cell_type": "code",
   "execution_count": 2,
   "metadata": {},
   "outputs": [],
   "source": [
    "clickhist_folder = os.path.join(config.DATA_DIR, \"click_history/simple_cross/byUserFeatureName\")\n",
    "clickrate_folder = os.path.join(config.DATA_DIR, \"clickrate_bs/simple_cross/byUserFeatureName\")\n",
    "\n",
    "\n",
    "def click_history_fold_dir(mode, num_folds):\n",
    "    folder = \"{}[{}_{}]\".format(clickhist_folder, mode, num_folds)\n",
    "    return folder\n",
    "\n",
    "\n",
    "def click_rate_fold_dir(mode, num_folds):\n",
    "    folder = \"{}[{}_{}]\".format(clickrate_folder, mode, num_folds)\n",
    "    return folder\n",
    "\n",
    "\n",
    "def click_rate_path(mode, num_folds, fold_index, ad_feat_name, user_feat_name):\n",
    "    folder = click_rate_fold_dir(mode, num_folds)\n",
    "    folder = os.path.join(folder, str(fold_index),  \"[featureName='{}']\".format(user_feat_name))\n",
    "    clickrate_file = \"[adFeatureName='{}'].csv\".format(ad_feat_name)\n",
    "    clickrate_filepath = os.path.join(folder, clickrate_file)\n",
    "    return clickrate_filepath\n",
    "\n",
    "\n",
    "def load_split_indices(mode, num_folds):\n",
    "    fold_dir = click_history_fold_dir(mode, num_folds=n_splits)\n",
    "    index_file = \"indices.pkl\"\n",
    "    index_path = os.path.join(fold_dir, index_file)\n",
    "    split_indices = du.load_pickle(index_path)\n",
    "    return split_indices"
   ]
  },
  {
   "cell_type": "code",
   "execution_count": 3,
   "metadata": {},
   "outputs": [],
   "source": [
    "def load_clickrate(mode, num_folds, fold_index, ad_feat_name, user_feat_name):\n",
    "    in_path = click_rate_path(mode, num_folds, fold_index, ad_feat_name, user_feat_name)\n",
    "    df_clickrate = pd.read_csv(in_path)\n",
    "    return df_clickrate\n",
    "\n",
    "\n",
    "def batch_load_clickrate(num_folds, ad_feat_name, user_feat_name):\n",
    "    quick_load = partial(load_clickrate, mode=\"StratifiedKFold\", num_folds=num_folds, \n",
    "                         ad_feat_name=ad_feat_name, user_feat_name=user_feat_name)\n",
    "    df_clickrate = None\n",
    "    \n",
    "    for i in range(n_splits):\n",
    "        df_new = quick_load(fold_index=i)\n",
    "        df_new[\"fold\"] = i\n",
    "        if df_clickrate is None:\n",
    "            df_clickrate = df_new\n",
    "        else:\n",
    "            df_clickrate = pd.concat([df_clickrate, df_new], ignore_index=True)\n",
    "        del df_new\n",
    "        gc.collect()\n",
    "        \n",
    "    df_clickrate[\"fold\"] = df_clickrate[\"fold\"].astype(int)\n",
    "    return df_clickrate"
   ]
  },
  {
   "cell_type": "code",
   "execution_count": 4,
   "metadata": {},
   "outputs": [],
   "source": [
    "def insert_valid_fold_index(df, fold_indices):\n",
    "    df = df.copy()\n",
    "    df[\"fold\"] = -1\n",
    "    for i, (train_index, valid_index) in enumerate(fold_indices):\n",
    "        df.loc[valid_index, \"fold\"] = i\n",
    "    return df"
   ]
  },
  {
   "cell_type": "code",
   "execution_count": 5,
   "metadata": {},
   "outputs": [],
   "source": [
    "mode = \"StratifiedKFold\"\n",
    "n_splits = 5\n",
    "split_indices = load_split_indices(mode, n_splits)"
   ]
  },
  {
   "cell_type": "code",
   "execution_count": 6,
   "metadata": {},
   "outputs": [],
   "source": [
    "pairs = [(\"aid\", \"age\"), (\"aid\", \"education\"), (\"aid\", \"consumptionAbility\"), (\"aid\", \"LBS\")]\n",
    "required_user_features = set([ufeat for afeat, ufeat in pairs])\n",
    "required_ad_features = set([afeat for afeat, ufeat in pairs])"
   ]
  },
  {
   "cell_type": "code",
   "execution_count": 7,
   "metadata": {},
   "outputs": [],
   "source": [
    "train = du.load_raw_data(\"train\")\n",
    "df_train = train.copy()\n",
    "df_train = insert_valid_fold_index(df_train, split_indices)"
   ]
  },
  {
   "cell_type": "code",
   "execution_count": 8,
   "metadata": {},
   "outputs": [],
   "source": [
    "aj = dj.PandasPandasJointer(\"aid\")\n",
    "df_ad = du.load_raw_data(\"ad\")\n",
    "df_train = aj.join(df_train, df_ad)"
   ]
  },
  {
   "cell_type": "code",
   "execution_count": 9,
   "metadata": {},
   "outputs": [
    {
     "name": "stdout",
     "output_type": "stream",
     "text": [
      "[09:00:38] Finish loading and joining 'LBS'. △M: -514.43MB. △T: 17.9 seconds.\n",
      "[09:00:54] Finish loading and joining 'education'. △M: +68.14MB. △T: 16.1 seconds.\n",
      "[09:01:10] Finish loading and joining 'age'. △M: +67.14MB. △T: 15.5 seconds.\n",
      "[09:01:24] Finish loading and joining 'consumptionAbility'. △M: +67.13MB. △T: 14.1 seconds.\n"
     ]
    }
   ],
   "source": [
    "uj = dj.PandasPandasJointer(\"uid\")\n",
    "for user_feat_name in required_user_features:\n",
    "    with pu.profiler(\"loading and joining '{}'\".format(user_feat_name)):\n",
    "        df_feat = du.load_user_feature(user_feat_name)\n",
    "        df_feat[user_feat_name] = df_feat[user_feat_name].fillna(\"[nan]\").astype(str)\n",
    "        df_train = uj.join(df_train, df_feat)\n",
    "        del df_feat\n",
    "        gc.collect()"
   ]
  },
  {
   "cell_type": "code",
   "execution_count": 10,
   "metadata": {
    "scrolled": true
   },
   "outputs": [
    {
     "name": "stdout",
     "output_type": "stream",
     "text": [
      "[09:01:41] Finish joining click data for 'aid' x 'age' by fold. △M: +134.62MB. △T: 16.8 seconds.\n",
      "[09:01:58] Finish joining click data for 'aid' x 'education' by fold. △M: +134.39MB. △T: 17.4 seconds.\n",
      "[09:02:19] Finish joining click data for 'aid' x 'consumptionAbility' by fold. △M: +134.26MB. △T: 21.0 seconds.\n",
      "[09:02:44] Finish joining click data for 'aid' x 'LBS' by fold. △M: +124.34MB. △T: 25.0 seconds.\n"
     ]
    }
   ],
   "source": [
    "col_names = []\n",
    "\n",
    "for ad_feat_name, user_feat_name in pairs:\n",
    "    with pu.profiler(\"joining click data for '{}' x '{}' by fold\".format(ad_feat_name, user_feat_name)):\n",
    "        # preparation\n",
    "        ckr_name = \"bsClickrate@{}_x_{}\".format(ad_feat_name, user_feat_name)\n",
    "        imp_name = \"impression@{}_x_{}\".format(ad_feat_name, user_feat_name)\n",
    "        col_names += [ckr_name, imp_name]\n",
    "        \n",
    "        # load data and rename columns\n",
    "        df_clickrate = batch_load_clickrate(n_splits, ad_feat_name, user_feat_name)\n",
    "        df_clickrate = df_clickrate.rename(columns={\"ad_val\": ad_feat_name, \n",
    "                                                    \"user_val\": user_feat_name, \n",
    "                                                    \"bs_clickrate\": ckr_name, \n",
    "                                                    \"impression\": imp_name})\n",
    "        df_clickrate[user_feat_name] = df_clickrate[user_feat_name].astype(str)\n",
    "    \n",
    "        df_train = dj.PandasPandasJointer.quick_join(df_train, df_clickrate, \n",
    "                                                     on=[\"fold\", ad_feat_name, user_feat_name])\n",
    "\n",
    "        df_train.drop(\"click\", axis=1, inplace=True)\n",
    "        del df_clickrate\n",
    "        \n",
    "        assert df_train.isnull().sum().sum() == 0\n",
    "        gc.collect()"
   ]
  },
  {
   "cell_type": "code",
   "execution_count": 11,
   "metadata": {
    "scrolled": true
   },
   "outputs": [
    {
     "name": "stdout",
     "output_type": "stream",
     "text": [
      "[09:02:46] Finish getting matrix represenation. △M: +268.53MB. △T: 2.0 seconds.\n",
      "[09:02:47] Finish saving matrix to hard disk. △M: -1.84GB. △T: 1.3 seconds.\n"
     ]
    }
   ],
   "source": [
    "output_folder = config.INPUT_DIR\n",
    "output_file = \"train.cross.clickStats_v1.pkl\"\n",
    "output_path = os.path.join(output_folder, output_file)\n",
    "os.makedirs(output_folder, exist_ok=True)\n",
    "\n",
    "with pu.profiler(\"getting matrix represenation\"):\n",
    "    X_train = df_train[col_names].values.astype(np.float32)\n",
    "    assert X_train.shape[0] == train.shape[0]\n",
    "    assert X_train.shape[1] == 2 * len(pairs)\n",
    "\n",
    "with pu.profiler(\"saving matrix to hard disk\"):\n",
    "    du.save_pickle((col_names, X_train), output_path)\n",
    "    col_names_train = copy.copy(col_names)  # for subsequent checking\n",
    "    del X_train\n",
    "    del df_train\n",
    "    gc.collect()"
   ]
  },
  {
   "cell_type": "code",
   "execution_count": 12,
   "metadata": {},
   "outputs": [
    {
     "name": "stdout",
     "output_type": "stream",
     "text": [
      "[09:15:50] Finish loading and joining 'LBS'. △M: +17.85MB. △T: 11.0 seconds.\n",
      "[09:16:00] Finish loading and joining 'education'. △M: +34.58MB. △T: 10.5 seconds.\n",
      "[09:16:11] Finish loading and joining 'age'. △M: +35.81MB. △T: 10.4 seconds.\n",
      "[09:16:22] Finish loading and joining 'consumptionAbility'. △M: +33.35MB. △T: 11.4 seconds.\n"
     ]
    }
   ],
   "source": [
    "# load data\n",
    "test = du.load_raw_data(\"test\")\n",
    "df_test = test.copy()\n",
    "\n",
    "# join ad features\n",
    "df_test = aj.join(df_test, df_ad)\n",
    "\n",
    "# join required ad user features\n",
    "for user_feat_name in required_user_features:\n",
    "    with pu.profiler(\"loading and joining '{}'\".format(user_feat_name)):\n",
    "        df_feat = du.load_user_feature(user_feat_name)\n",
    "        df_feat[user_feat_name] = df_feat[user_feat_name].fillna(\"[nan]\").astype(str)\n",
    "        df_test = uj.join(df_test, df_feat)\n",
    "        del df_feat\n",
    "        gc.collect()"
   ]
  },
  {
   "cell_type": "code",
   "execution_count": 21,
   "metadata": {},
   "outputs": [
    {
     "name": "stdout",
     "output_type": "stream",
     "text": [
      "[09:20:22] Finish joining click data for 'aid' x 'age' by fold. △M: +363.18MB. △T: 9.6 seconds.\n",
      "[09:20:34] Finish joining click data for 'aid' x 'education' by fold. △M: +45.26MB. △T: 11.6 seconds.\n",
      "[09:20:47] Finish joining click data for 'aid' x 'consumptionAbility' by fold. △M: +110.34MB. △T: 12.6 seconds.\n",
      "[09:21:02] Finish joining click data for 'aid' x 'LBS' by fold. △M: +135.73MB. △T: 15.8 seconds.\n"
     ]
    }
   ],
   "source": [
    "col_names = []\n",
    "\n",
    "for ad_feat_name, user_feat_name in pairs:\n",
    "# for i, (ad_feat_name, user_feat_name) in enumerate(pairs):\n",
    "    with pu.profiler(\"joining click data for '{}' x '{}' by fold\".format(ad_feat_name, user_feat_name)):\n",
    "        # preparation\n",
    "        ckr_name = \"bsClickrate@{}_x_{}\".format(ad_feat_name, user_feat_name)\n",
    "        imp_name = \"impression@{}_x_{}\".format(ad_feat_name, user_feat_name)\n",
    "        col_names += [ckr_name, imp_name]\n",
    "        ckrs = np.zeros((df_test.shape[0], n_splits))\n",
    "        imps = np.zeros((df_test.shape[0], n_splits))\n",
    "        quick_load = partial(load_clickrate, mode=\"StratifiedKFold\", num_folds=n_splits, \n",
    "                             ad_feat_name=ad_feat_name, user_feat_name=user_feat_name)\n",
    "        \n",
    "        for split_index in range(n_splits):\n",
    "            # load click stats computed from current split\n",
    "            df_clickrate = quick_load(fold_index=split_index)\n",
    "            df_clickrate = df_clickrate.rename(columns={\"ad_val\": ad_feat_name, \n",
    "                                                        \"user_val\": user_feat_name, \n",
    "                                                        \"bs_clickrate\": ckr_name, \n",
    "                                                        \"impression\": imp_name})\n",
    "            df_clickrate[user_feat_name] = df_clickrate[user_feat_name].astype(str)\n",
    "            \n",
    "            # join data\n",
    "            df_test = dj.PandasPandasJointer.quick_join(df_test, df_clickrate, \n",
    "                                                         on=[ad_feat_name, user_feat_name])\n",
    "            ckrs[:, split_index] = df_test[ckr_name]\n",
    "            imps[:, split_index] = df_test[imp_name]\n",
    "            \n",
    "            # clean up\n",
    "            df_test.drop([ckr_name, imp_name, \"click\"], axis=1, inplace=True)\n",
    "            del df_clickrate\n",
    "            gc.collect()\n",
    "        \n",
    "        # use average as the final feature\n",
    "        df_test[ckr_name] = ckrs.mean(axis=1)\n",
    "        df_test[imp_name] = imps.mean(axis=1)\n",
    "        assert df_test.isnull().sum().sum() == 0\n",
    "        \n",
    "        # clean up\n",
    "        del ckrs\n",
    "        del imps\n",
    "        gc.collect()"
   ]
  },
  {
   "cell_type": "code",
   "execution_count": 27,
   "metadata": {},
   "outputs": [],
   "source": [
    "assert len(col_names) == len(col_names_train)\n",
    "for i in range(len(col_names)):\n",
    "    assert col_names[i] == col_names_train[i]"
   ]
  },
  {
   "cell_type": "code",
   "execution_count": 28,
   "metadata": {},
   "outputs": [
    {
     "name": "stdout",
     "output_type": "stream",
     "text": [
      "[09:23:31] Finish getting matrix represenation. △M: +69.16MB. △T: 0.1 seconds.\n",
      "[09:23:32] Finish saving matrix to hard disk. △M: -363.06MB. △T: 0.3 seconds.\n"
     ]
    }
   ],
   "source": [
    "output_file = \"test1.cross.clickStats_v1.pkl\"\n",
    "output_path = os.path.join(output_folder, output_file)\n",
    "\n",
    "with pu.profiler(\"getting matrix represenation\"):\n",
    "    X_test = df_test[col_names].values.astype(np.float32)\n",
    "    assert X_test.shape[0] == test.shape[0]\n",
    "    assert X_test.shape[1] == 2 * len(pairs)\n",
    "\n",
    "with pu.profiler(\"saving matrix to hard disk\"):\n",
    "    du.save_pickle((col_names, X_test), output_path)\n",
    "    del X_test\n",
    "    del df_test\n",
    "    gc.collect()"
   ]
  },
  {
   "cell_type": "code",
   "execution_count": null,
   "metadata": {},
   "outputs": [],
   "source": []
  }
 ],
 "metadata": {
  "kernelspec": {
   "display_name": "Python 3",
   "language": "python",
   "name": "python3"
  },
  "language_info": {
   "codemirror_mode": {
    "name": "ipython",
    "version": 3
   },
   "file_extension": ".py",
   "mimetype": "text/x-python",
   "name": "python",
   "nbconvert_exporter": "python",
   "pygments_lexer": "ipython3",
   "version": "3.5.2"
  }
 },
 "nbformat": 4,
 "nbformat_minor": 2
}
