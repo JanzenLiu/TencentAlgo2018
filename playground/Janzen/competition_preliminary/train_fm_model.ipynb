{
 "cells": [
  {
   "cell_type": "code",
   "execution_count": 1,
   "metadata": {},
   "outputs": [],
   "source": [
    "import pandas as pd\n",
    "import numpy as np\n",
    "import pickle\n",
    "import time\n",
    "import os\n",
    "from scipy.sparse import hstack\n",
    "from fastFM import sgd\n",
    "from sklearn import metrics"
   ]
  },
  {
   "cell_type": "code",
   "execution_count": 2,
   "metadata": {},
   "outputs": [],
   "source": [
    "data_dir = '../../../data/raw/preliminary_contest_data/'\n",
    "ad_cnt_dir = '../../../data/nlp_count/preliminary_contest_data/byAdFeatureName/'\n",
    "user_cnt_dir = '../../../data/nlp_count/preliminary_contest_data/byUserFeatureName/'\n",
    "user_tfidf_dir = '../../../data/nlp_tfidf/preliminary_contest_data/byUserFeatureName/'"
   ]
  },
  {
   "cell_type": "code",
   "execution_count": 3,
   "metadata": {},
   "outputs": [],
   "source": [
    "def load(filename, **kw):\n",
    "    return pd.read_csv(os.path.join(data_dir, filename), **kw)"
   ]
  },
  {
   "cell_type": "code",
   "execution_count": 4,
   "metadata": {},
   "outputs": [],
   "source": [
    "def load_pickle(filepath):\n",
    "    obj = None\n",
    "    with open(filepath, \"rb\") as f:\n",
    "        obj = pickle.load(f)\n",
    "    return obj"
   ]
  },
  {
   "cell_type": "code",
   "execution_count": 5,
   "metadata": {},
   "outputs": [],
   "source": [
    "def load_ad_cnt(feat_name):\n",
    "    filename = \"adFeature.[featureName='{}'].pkl\".format(feat_name)\n",
    "    filepath = os.path.join(ad_cnt_dir, filename)\n",
    "    index, matrix = load_pickle(filepath)\n",
    "    \n",
    "    filename = \"aid.pkl\".format(feat_name)\n",
    "    filepath = os.path.join(ad_cnt_dir, filename)\n",
    "    uid = load_pickle(filepath)\n",
    "    \n",
    "    return uid, (index, matrix)"
   ]
  },
  {
   "cell_type": "code",
   "execution_count": 6,
   "metadata": {},
   "outputs": [],
   "source": [
    "def load_user_cnt(feat_name):\n",
    "    filename = \"userFeature.[featureName='{}'].pkl\".format(feat_name)\n",
    "    filepath = os.path.join(user_cnt_dir, filename)\n",
    "    index, matrix = load_pickle(filepath)\n",
    "    \n",
    "    filename = \"uid.pkl\".format(feat_name)\n",
    "    filepath = os.path.join(user_cnt_dir, filename)\n",
    "    uid = load_pickle(filepath)\n",
    "    \n",
    "    return uid, (index, matrix)"
   ]
  },
  {
   "cell_type": "code",
   "execution_count": 7,
   "metadata": {},
   "outputs": [],
   "source": [
    "def load_user_tfidf(feat_name):\n",
    "    filename = \"userFeature.[featureName='{}'].pkl\".format(feat_name)\n",
    "    filepath = os.path.join(user_tfidf_dir, filename)\n",
    "    index, idf, matrix = load_pickle(filepath)\n",
    "    \n",
    "    filename = \"uid.pkl\".format(feat_name)\n",
    "    filepath = os.path.join(user_tfidf_dir, filename)\n",
    "    uid = load_pickle(filepath)\n",
    "    \n",
    "    return uid, (index, idf, matrix)"
   ]
  },
  {
   "cell_type": "code",
   "execution_count": 8,
   "metadata": {},
   "outputs": [],
   "source": [
    "def get_time_str():\n",
    "    return time.strftime(\"%H:%M:%S\", time.gmtime())"
   ]
  },
  {
   "cell_type": "code",
   "execution_count": 9,
   "metadata": {},
   "outputs": [],
   "source": [
    "df_train = load(\"train.csv\")"
   ]
  },
  {
   "cell_type": "code",
   "execution_count": 10,
   "metadata": {},
   "outputs": [],
   "source": [
    "aid, (afeat_index, avec) = load_ad_cnt('aid')\n",
    "aid_to_index = dict(zip(aid, list(range(len(aid)))))  # mapping from aids to distinct indices\n",
    "a_index = df_train['aid'].map(aid_to_index).values  # list of indices for matrix joining\n",
    "\n",
    "y = df_train['label'].values"
   ]
  },
  {
   "cell_type": "code",
   "execution_count": 11,
   "metadata": {},
   "outputs": [
    {
     "name": "stdout",
     "output_type": "stream",
     "text": [
      "Training FM on [featName='age']...\n",
      "[04:33:21] Iter   1: AUC: 0.611567 logloss: 0.525260\n",
      "\n",
      "Training FM on [featName='gender']...\n",
      "[04:33:56] Iter   1: AUC: 0.641550 logloss: 0.502200\n",
      "\n",
      "Training FM on [featName='education']...\n",
      "[04:34:34] Iter   1: AUC: 0.666281 logloss: 0.491522\n",
      "\n",
      "Training FM on [featName='consumptionAbility']...\n",
      "[04:35:12] Iter   1: AUC: 0.654675 logloss: 0.493479\n",
      "\n",
      "Training FM on [featName='LBS']...\n",
      "[04:35:52] Iter   1: AUC: 0.673006 logloss: 0.497145\n",
      "\n",
      "Training FM on [featName='carrier']...\n",
      "[04:36:27] Iter   1: AUC: 0.665553 logloss: 0.500678\n",
      "\n",
      "Training FM on [featName='house']...\n",
      "[04:37:06] Iter   1: AUC: 0.641100 logloss: 0.501819\n",
      "\n"
     ]
    }
   ],
   "source": [
    "one_feat_names = ['age', 'gender', 'education', 'consumptionAbility', 'LBS',\n",
    "                  'carrier', 'house']  # one user has only one value\n",
    "\n",
    "for feat_name in one_feat_names:\n",
    "    uid, (ufeat_index, uvec) = load_user_cnt(feat_name)\n",
    "    uid_to_index = dict(zip(uid, list(range(len(uid)))))  # mapping from uids to distinct indices\n",
    "    u_index = df_train['uid'].map(uid_to_index).values  # list of indices for matrix joining\n",
    "    \n",
    "    X = hstack((avec[a_index,:], uvec[u_index,:])).tocsr()  # joined user and advertise matrix\n",
    "    X_train, y_train = X[:6000000], y[:6000000]\n",
    "    X_valid, y_valid = X[6000000:], y[6000000:]\n",
    "    \n",
    "    print(\"Training FM on [featName='{}']...\".format(feat_name))\n",
    "    fm = sgd.FMClassification(n_iter=1, init_stdev=0.1, \n",
    "                      rank=3, l2_reg_w=0.1, l2_reg_V=0.2)\n",
    "    fm.fit(X_train, y_train)\n",
    "    proba_valid = fm.predict_proba(X_valid)\n",
    "    logloss = metrics.log_loss((y_valid+1)/2, proba_valid)\n",
    "    auc = metrics.roc_auc_score((y_valid+1)/2, proba_valid)\n",
    "    print(\"[{}] Iter{:>4}: AUC: {:.6f} logloss: {:.6f}\".format(get_time_str(), 1, logloss, auc))\n",
    "    print()"
   ]
  },
  {
   "cell_type": "code",
   "execution_count": null,
   "metadata": {},
   "outputs": [],
   "source": []
  }
 ],
 "metadata": {
  "kernelspec": {
   "display_name": "Python 3",
   "language": "python",
   "name": "python3"
  },
  "language_info": {
   "codemirror_mode": {
    "name": "ipython",
    "version": 3
   },
   "file_extension": ".py",
   "mimetype": "text/x-python",
   "name": "python",
   "nbconvert_exporter": "python",
   "pygments_lexer": "ipython3",
   "version": "3.5.2"
  }
 },
 "nbformat": 4,
 "nbformat_minor": 2
}
