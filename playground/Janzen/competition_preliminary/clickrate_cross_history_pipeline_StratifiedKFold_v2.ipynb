{
 "cells": [
  {
   "cell_type": "code",
   "execution_count": 1,
   "metadata": {},
   "outputs": [],
   "source": [
    "from sklearn.model_selection import StratifiedKFold\n",
    "import pandas as pd\n",
    "import numpy as np\n",
    "import operator\n",
    "import pickle\n",
    "import tqdm\n",
    "import time\n",
    "import os\n",
    "import gc\n",
    "import matplotlib.pyplot as plt\n",
    "import sys\n",
    "sys.path.append(\"../../../code/utils\")\n",
    "sys.path.append(\"../../../code/feature\")\n",
    "sys.path.append(\"../../../code/pipeline\")\n",
    "sys.path.append(\"../../../code\")\n",
    "import data_utils as du\n",
    "import perf_utils as pu\n",
    "from clickrate import BayesianSmoothedClickrate\n",
    "import history\n",
    "import config"
   ]
  },
  {
   "cell_type": "code",
   "execution_count": 2,
   "metadata": {},
   "outputs": [],
   "source": [
    "clickhist_folder = os.path.join(config.DATA_DIR, \"click_history/simple_cross/byUserFeatureName\")\n",
    "\n",
    "\n",
    "def click_history_fold_dir(num_folds, create=True):\n",
    "    folder = \"{}[StratifiedKFold_{}]\".format(clickhist_folder, num_folds)\n",
    "    if create:\n",
    "        os.makedirs(folder, exist_ok=True)\n",
    "    return folder\n",
    "\n",
    "\n",
    "def click_history_path(num_folds, fold_index, ad_feat_name, user_feat_name, ad_val, create=True):\n",
    "    folder = click_history_fold_dir(num_folds, create)\n",
    "    folder = os.path.join(folder, str(fold_index), \"[featureName='{}']\".format(user_feat_name))\n",
    "    filename = \"[{}='{}'].csv\".format(ad_feat_name, ad_val)\n",
    "    filepath = os.path.join(folder, filename)\n",
    "    if create:\n",
    "        os.makedirs(folder, exist_ok=True)\n",
    "    return filepath\n",
    "\n",
    "\n",
    "def load_split_indices(num_folds):\n",
    "    fold_dir = click_history_fold_dir(num_folds=num_folds, create=False)\n",
    "    index_file = \"indices.pkl\"\n",
    "    index_path = os.path.join(fold_dir, index_file)\n",
    "    split_indices = du.load_pickle(index_path)\n",
    "    return split_indices"
   ]
  },
  {
   "cell_type": "code",
   "execution_count": 3,
   "metadata": {},
   "outputs": [],
   "source": [
    "n_splits = 5\n",
    "split_indices = load_split_indices(n_splits)"
   ]
  },
  {
   "cell_type": "code",
   "execution_count": 4,
   "metadata": {},
   "outputs": [],
   "source": [
    "pairs = [('productId', 'LBS'),\n",
    "         ('advertiserId', 'interest1'),\n",
    "         ('aid', 'interest2'),\n",
    "         ('creativeSize', 'interest2'), \n",
    "         ('campaignId', 'interest4'),  # whether to keep it? \n",
    "         ('aid', 'interest5'),  \n",
    "         ('productType', 'kw1'),  # 'kw1' looks very overfitting prone, to be decide whether to keep it\n",
    "         ('productType', 'kw2'),\n",
    "         ('productType', 'kw3'),\n",
    "         ('productType', 'topic1'),\n",
    "         ('aid', 'topic2'),\n",
    "         ('productType', 'topic2'),\n",
    "         # ('productType', 'topic3'),  # might help in predicting negative samples\n",
    "         # ('productType', 'appIdInstall'),  # might help in predicting negative samples\n",
    "         # ('productType', 'appIdAction'),  # might help in predicting negative samples\n",
    "         ('aid', 'ct'),\n",
    "         ('aid', 'os')]"
   ]
  },
  {
   "cell_type": "code",
   "execution_count": 5,
   "metadata": {},
   "outputs": [],
   "source": [
    "pair_dict = {}\n",
    "for ad_feat_name, user_feat_name in pairs:\n",
    "    if user_feat_name in pair_dict:\n",
    "        pair_dict[user_feat_name] += [ad_feat_name]\n",
    "    else:\n",
    "        pair_dict[user_feat_name] = [ad_feat_name]"
   ]
  },
  {
   "cell_type": "code",
   "execution_count": 6,
   "metadata": {},
   "outputs": [],
   "source": [
    "df_train = du.load_raw_data(\"train\")\n",
    "df_test = du.load_raw_data(\"test\")\n",
    "df_ad = du.load_raw_data(\"ad\")\n",
    "train_size = df_train.shape[0]\n",
    "test_size = df_test.shape[0]"
   ]
  },
  {
   "cell_type": "code",
   "execution_count": 7,
   "metadata": {
    "scrolled": true
   },
   "outputs": [],
   "source": [
    "train = pd.merge(df_train, df_ad, on=\"aid\", how=\"left\")"
   ]
  },
  {
   "cell_type": "code",
   "execution_count": 9,
   "metadata": {
    "scrolled": true
   },
   "outputs": [
    {
     "name": "stdout",
     "output_type": "stream",
     "text": [
      "[14:38:25] Finish counting 'ct' x 'aid' fold 1/5 .... △M: +273.85MB. △T: 27.1 seconds.\n",
      "[14:38:51] Finish counting 'ct' x 'aid' fold 2/5 .... △M: +2.08MB. △T: 26.6 seconds.\n",
      "[14:39:19] Finish counting 'ct' x 'aid' fold 3/5 .... △M: +0B. △T: 27.7 seconds.\n",
      "[14:39:45] Finish counting 'ct' x 'aid' fold 4/5 .... △M: -47.37MB. △T: 25.5 seconds.\n",
      "[14:40:11] Finish counting 'ct' x 'aid' fold 5/5 .... △M: +47.34MB. △T: 26.7 seconds.\n",
      "[14:40:39] Finish counting 'topic1' x 'productType' fold 1/5 .... △M: -47.43MB. △T: 26.6 seconds.\n",
      "[14:41:06] Finish counting 'topic1' x 'productType' fold 2/5 .... △M: +60.91MB. △T: 27.1 seconds.\n",
      "[14:41:32] Finish counting 'topic1' x 'productType' fold 3/5 .... △M: -60.66MB. △T: 26.2 seconds.\n",
      "[14:42:00] Finish counting 'topic1' x 'productType' fold 4/5 .... △M: +60.96MB. △T: 27.8 seconds.\n",
      "[14:42:27] Finish counting 'topic1' x 'productType' fold 5/5 .... △M: -60.96MB. △T: 27.5 seconds.\n",
      "[14:42:55] Finish counting 'interest4' x 'campaignId' fold 1/5 .... △M: +24.14MB. △T: 27.8 seconds.\n",
      "[14:43:21] Finish counting 'interest4' x 'campaignId' fold 2/5 .... △M: +12.0KB. △T: 25.9 seconds.\n",
      "[14:43:48] Finish counting 'interest4' x 'campaignId' fold 3/5 .... △M: -8.0KB. △T: 26.8 seconds.\n",
      "[14:44:15] Finish counting 'interest4' x 'campaignId' fold 4/5 .... △M: +4.0KB. △T: 26.6 seconds.\n",
      "[14:44:41] Finish counting 'interest4' x 'campaignId' fold 5/5 .... △M: -4.0KB. △T: 26.2 seconds.\n",
      "[14:45:10] Finish counting 'interest1' x 'advertiserId' fold 1/5 .... △M: +18.12MB. △T: 27.8 seconds.\n",
      "[14:45:38] Finish counting 'interest1' x 'advertiserId' fold 2/5 .... △M: -4.0KB. △T: 28.3 seconds.\n",
      "[14:46:06] Finish counting 'interest1' x 'advertiserId' fold 3/5 .... △M: +24.0KB. △T: 27.5 seconds.\n",
      "[14:46:33] Finish counting 'interest1' x 'advertiserId' fold 4/5 .... △M: +48.0KB. △T: 26.8 seconds.\n",
      "[14:47:00] Finish counting 'interest1' x 'advertiserId' fold 5/5 .... △M: +4.0KB. △T: 27.8 seconds.\n",
      "[14:47:34] Finish counting 'kw1' x 'productType' fold 1/5 .... △M: -57.56MB. △T: 32.3 seconds.\n",
      "[14:48:06] Finish counting 'kw1' x 'productType' fold 2/5 .... △M: +60.91MB. △T: 32.1 seconds.\n",
      "[14:48:38] Finish counting 'kw1' x 'productType' fold 3/5 .... △M: -60.91MB. △T: 32.4 seconds.\n",
      "[14:49:11] Finish counting 'kw1' x 'productType' fold 4/5 .... △M: +60.96MB. △T: 32.9 seconds.\n",
      "[14:49:43] Finish counting 'kw1' x 'productType' fold 5/5 .... △M: -61.21MB. △T: 32.0 seconds.\n",
      "[14:50:09] Finish counting 'kw3' x 'productType' fold 1/5 .... △M: +60.32MB. △T: 25.6 seconds.\n",
      "[14:50:35] Finish counting 'kw3' x 'productType' fold 2/5 .... △M: -60.91MB. △T: 26.3 seconds.\n",
      "[14:51:00] Finish counting 'kw3' x 'productType' fold 3/5 .... △M: +60.9MB. △T: 25.0 seconds.\n",
      "[14:51:26] Finish counting 'kw3' x 'productType' fold 4/5 .... △M: -61.15MB. △T: 25.2 seconds.\n",
      "[14:51:52] Finish counting 'kw3' x 'productType' fold 5/5 .... △M: +60.93MB. △T: 25.9 seconds.\n",
      "[14:52:21] Finish counting 'interest5' x 'aid' fold 1/5 .... △M: +54.3MB. △T: 27.8 seconds.\n",
      "[14:52:50] Finish counting 'interest5' x 'aid' fold 2/5 .... △M: -115.3MB. △T: 28.7 seconds.\n",
      "[14:53:20] Finish counting 'interest5' x 'aid' fold 3/5 .... △M: +0B. △T: 30.0 seconds.\n",
      "[14:53:49] Finish counting 'interest5' x 'aid' fold 4/5 .... △M: +0B. △T: 29.1 seconds.\n",
      "[14:54:17] Finish counting 'interest5' x 'aid' fold 5/5 .... △M: +0B. △T: 28.5 seconds.\n",
      "[14:54:49] Finish counting 'kw2' x 'productType' fold 1/5 .... △M: +58.54MB. △T: 30.6 seconds.\n",
      "[14:55:18] Finish counting 'kw2' x 'productType' fold 2/5 .... △M: -61.16MB. △T: 29.7 seconds.\n",
      "[14:55:47] Finish counting 'kw2' x 'productType' fold 3/5 .... △M: +60.9MB. △T: 28.6 seconds.\n",
      "[14:56:18] Finish counting 'kw2' x 'productType' fold 4/5 .... △M: -60.9MB. △T: 31.7 seconds.\n",
      "[14:56:48] Finish counting 'kw2' x 'productType' fold 5/5 .... △M: +60.93MB. △T: 29.5 seconds.\n",
      "[14:57:16] Finish counting 'interest2' x 'aid' fold 1/5 .... △M: -61.0MB. △T: 27.8 seconds.\n",
      "[14:57:43] Finish counting 'interest2' x 'aid' fold 2/5 .... △M: +36.65MB. △T: 26.8 seconds.\n",
      "[14:58:12] Finish counting 'interest2' x 'aid' fold 3/5 .... △M: +0B. △T: 28.6 seconds.\n",
      "[14:58:39] Finish counting 'interest2' x 'aid' fold 4/5 .... △M: +404.0KB. △T: 26.8 seconds.\n",
      "[14:59:06] Finish counting 'interest2' x 'aid' fold 5/5 .... △M: +0B. △T: 27.9 seconds.\n",
      "[14:59:32] Finish counting 'interest2' x 'creativeSize' fold 1/5 .... △M: -37.22MB. △T: 25.4 seconds.\n",
      "[14:59:57] Finish counting 'interest2' x 'creativeSize' fold 2/5 .... △M: +53.26MB. △T: 25.4 seconds.\n",
      "[15:00:23] Finish counting 'interest2' x 'creativeSize' fold 3/5 .... △M: -53.26MB. △T: 25.4 seconds.\n",
      "[15:00:47] Finish counting 'interest2' x 'creativeSize' fold 4/5 .... △M: +53.25MB. △T: 24.7 seconds.\n",
      "[15:01:13] Finish counting 'interest2' x 'creativeSize' fold 5/5 .... △M: -53.12MB. △T: 25.3 seconds.\n",
      "[15:01:47] Finish counting 'topic2' x 'aid' fold 1/5 .... △M: +50.42MB. △T: 33.2 seconds.\n",
      "[15:02:20] Finish counting 'topic2' x 'aid' fold 2/5 .... △M: +1.29MB. △T: 33.6 seconds.\n",
      "[15:02:55] Finish counting 'topic2' x 'aid' fold 3/5 .... △M: -256.0KB. △T: 35.3 seconds.\n",
      "[15:03:30] Finish counting 'topic2' x 'aid' fold 4/5 .... △M: +128.0KB. △T: 34.9 seconds.\n",
      "[15:04:03] Finish counting 'topic2' x 'aid' fold 5/5 .... △M: +256.0KB. △T: 33.0 seconds.\n",
      "[15:04:29] Finish counting 'topic2' x 'productType' fold 1/5 .... △M: -51.84MB. △T: 25.9 seconds.\n",
      "[15:04:56] Finish counting 'topic2' x 'productType' fold 2/5 .... △M: +60.91MB. △T: 26.6 seconds.\n",
      "[15:05:22] Finish counting 'topic2' x 'productType' fold 3/5 .... △M: -60.91MB. △T: 25.9 seconds.\n",
      "[15:05:48] Finish counting 'topic2' x 'productType' fold 4/5 .... △M: +60.96MB. △T: 25.8 seconds.\n",
      "[15:06:14] Finish counting 'topic2' x 'productType' fold 5/5 .... △M: -60.96MB. △T: 26.4 seconds.\n",
      "[15:06:39] Finish counting 'LBS' x 'productId' fold 1/5 .... △M: +39.98MB. △T: 24.4 seconds.\n",
      "[15:07:04] Finish counting 'LBS' x 'productId' fold 2/5 .... △M: -39.73MB. △T: 25.0 seconds.\n",
      "[15:07:29] Finish counting 'LBS' x 'productId' fold 3/5 .... △M: +39.48MB. △T: 25.4 seconds.\n",
      "[15:07:54] Finish counting 'LBS' x 'productId' fold 4/5 .... △M: -39.51MB. △T: 24.7 seconds.\n",
      "[15:08:19] Finish counting 'LBS' x 'productId' fold 5/5 .... △M: +39.54MB. △T: 24.8 seconds.\n",
      "[15:08:45] Finish counting 'os' x 'aid' fold 1/5 .... △M: +160.0KB. △T: 25.7 seconds.\n",
      "[15:09:10] Finish counting 'os' x 'aid' fold 2/5 .... △M: +0B. △T: 25.2 seconds.\n",
      "[15:09:35] Finish counting 'os' x 'aid' fold 3/5 .... △M: +0B. △T: 25.5 seconds.\n",
      "[15:10:03] Finish counting 'os' x 'aid' fold 4/5 .... △M: +0B. △T: 27.3 seconds.\n",
      "[15:10:28] Finish counting 'os' x 'aid' fold 5/5 .... △M: +4.0KB. △T: 25.7 seconds.\n"
     ]
    }
   ],
   "source": [
    "for user_feat_name, ad_feat_names in pair_dict.items():\n",
    "    row_uids, (val_to_index, matrix) = du.load_user_cnt(user_feat_name)\n",
    "    col_names = history.dict_to_list(val_to_index)\n",
    "    for ad_feat_name in ad_feat_names:\n",
    "        avals_unique = df_ad[ad_feat_name].unique()\n",
    "        kfold_manager = history.MatrixCounterManager(matrix, col_names, row_uids, train, \n",
    "                                                     groupby=ad_feat_name, gvals=avals_unique)\n",
    "        for i, (train_index, valid_index) in enumerate(split_indices):\n",
    "            with pu.profiler(\"counting '{}' x '{}' fold {}/{} ...\".format(user_feat_name, ad_feat_name, \n",
    "                                                                          i + 1, n_splits)):\n",
    "                mc = kfold_manager.build_matrix_counter(train_index)\n",
    "                for aval in avals_unique:\n",
    "                    out_path = click_history_path(n_splits, i, ad_feat_name, user_feat_name, aval)\n",
    "                    df_records = mc.group_count(aval)\n",
    "                    df_records.rename(columns={1: \"positive\", -1:\"negative\"}, inplace=True)\n",
    "                    df_records = df_records[[\"value\", \"positive\", \"negative\"]]\n",
    "                    df_records.to_csv(out_path, index=False)\n",
    "                    del df_records\n",
    "                del mc\n",
    "                gc.collect()"
   ]
  },
  {
   "cell_type": "code",
   "execution_count": null,
   "metadata": {},
   "outputs": [],
   "source": []
  }
 ],
 "metadata": {
  "kernelspec": {
   "display_name": "Python 3",
   "language": "python",
   "name": "python3"
  },
  "language_info": {
   "codemirror_mode": {
    "name": "ipython",
    "version": 3
   },
   "file_extension": ".py",
   "mimetype": "text/x-python",
   "name": "python",
   "nbconvert_exporter": "python",
   "pygments_lexer": "ipython3",
   "version": "3.5.2"
  }
 },
 "nbformat": 4,
 "nbformat_minor": 2
}
