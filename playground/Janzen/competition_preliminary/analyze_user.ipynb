{
 "cells": [
  {
   "cell_type": "code",
   "execution_count": 1,
   "metadata": {},
   "outputs": [],
   "source": [
    "import os\n",
    "import sys\n",
    "from tqdm import tqdm\n",
    "import pandas as pd\n",
    "import pickle"
   ]
  },
  {
   "cell_type": "code",
   "execution_count": 2,
   "metadata": {},
   "outputs": [],
   "source": [
    "DATA_DIR = '../../../data/raw/preliminary_contest_data/'\n",
    "USER_DATA_FILE = 'userFeature.data'"
   ]
  },
  {
   "cell_type": "code",
   "execution_count": 3,
   "metadata": {},
   "outputs": [],
   "source": [
    "def count_file_lines(filepath):\n",
    "    f = open(filepath)\n",
    "    for i, l in tqdm(enumerate(f.readlines())):\n",
    "        pass\n",
    "    return i + 1"
   ]
  },
  {
   "cell_type": "code",
   "execution_count": 4,
   "metadata": {},
   "outputs": [],
   "source": [
    "def line_to_dict(line, to_int=True):\n",
    "    out = {}\n",
    "    line = line.strip()\n",
    "    for feat in line.split(\"|\"):\n",
    "        arr = feat.split(\" \")\n",
    "        key = arr[0]\n",
    "        val = arr[1:]\n",
    "        if to_int:\n",
    "            val = [int(i) for i in val]\n",
    "        out[key] = val\n",
    "    return out"
   ]
  },
  {
   "cell_type": "code",
   "execution_count": 5,
   "metadata": {},
   "outputs": [],
   "source": [
    "def load(filename, **kw):\n",
    "    engine = kw.pop(\"engine\", \"python\")\n",
    "    return pd.read_csv(os.path.join(DATA_DIR, filename), engine=engine, **kw)"
   ]
  },
  {
   "cell_type": "code",
   "execution_count": 6,
   "metadata": {},
   "outputs": [],
   "source": [
    "def save_list(lst, filepath):\n",
    "    with open(filepath, \"w\") as f:\n",
    "        for i in lst:\n",
    "            f.write(\"{}\\n\".format(i))"
   ]
  },
  {
   "cell_type": "code",
   "execution_count": 7,
   "metadata": {},
   "outputs": [],
   "source": [
    "def save_as_pickle(obj, filepath):\n",
    "    with open(filepath, \"wb\") as f:\n",
    "        pickle.dump(obj, f)"
   ]
  },
  {
   "cell_type": "code",
   "execution_count": 8,
   "metadata": {},
   "outputs": [],
   "source": [
    "def load_int_list(filepath, dtype=None):\n",
    "    lst = None\n",
    "    with open(filepath, \"r\") as f:\n",
    "        lst = [int(ln) for ln in f.readlines()]\n",
    "    return lst"
   ]
  },
  {
   "cell_type": "code",
   "execution_count": 9,
   "metadata": {},
   "outputs": [],
   "source": [
    "def load_pickle(filepath):\n",
    "    obj = None\n",
    "    with open(filepath, \"rb\") as f:\n",
    "        obj = pickle.load(f)\n",
    "    return obj"
   ]
  },
  {
   "cell_type": "code",
   "execution_count": 10,
   "metadata": {},
   "outputs": [
    {
     "name": "stdout",
     "output_type": "stream",
     "text": [
      "11420039 lines in userFeature.data\n"
     ]
    }
   ],
   "source": [
    "# line_counts = count_file_lines(os.path.join(DATA_DIR, USER_DATA_FILE))  # comment this if you don't want to run it again\n",
    "line_counts = 11420039  # uncomment this to save time\n",
    "print(\"{} lines in userFeature.data\".format(line_counts))"
   ]
  },
  {
   "cell_type": "code",
   "execution_count": 11,
   "metadata": {},
   "outputs": [],
   "source": [
    "# comment this block to save time if you have done this before\n",
    "train_uid = load(\"train.csv\", usecols=[\"uid\"])[\"uid\"].unique().tolist()\n",
    "test_uid = load(\"test1.csv\", usecols=[\"uid\"])[\"uid\"].unique().tolist()\n",
    "train_uid = sorted(train_uid)  # sort list in ascending order\n",
    "test_uid = sorted(test_uid)\n",
    "\n",
    "# save_list(train_uid, os.path.join(DATA_DIR, \"train.uid.list\"))  # larger than pickle, just comment this\n",
    "# save_list(test_uid, os.path.join(DATA_DIR, \"test1.uid.list\"))\n",
    "save_as_pickle(train_uid, os.path.join(DATA_DIR, \"train.uid.pkl\"))\n",
    "save_as_pickle(test_uid, os.path.join(DATA_DIR, \"test1.uid.pkl\"))"
   ]
  },
  {
   "cell_type": "code",
   "execution_count": 12,
   "metadata": {},
   "outputs": [],
   "source": [
    "# # uncomment this block if you have saved this before so that you can load them from disk quickly\n",
    "# train_uid = load_pickle(os.path.join(DATA_DIR, \"train.uid.pkl\"))\n",
    "# test_uid = load_pickle(os.path.join(DATA_DIR, \"test1.uid.pkl\"))"
   ]
  },
  {
   "cell_type": "code",
   "execution_count": 13,
   "metadata": {},
   "outputs": [
    {
     "name": "stdout",
     "output_type": "stream",
     "text": [
      "Train User Counts: 7883466\n",
      "Test User Counts: 2195951\n"
     ]
    }
   ],
   "source": [
    "print(\"Train User Counts: {}\".format(len(train_uid)))\n",
    "print(\"Test User Counts: {}\".format(len(test_uid)))"
   ]
  },
  {
   "cell_type": "code",
   "execution_count": 14,
   "metadata": {},
   "outputs": [],
   "source": [
    "# comment this block to save time if you have done this before\n",
    "required_uid = list(set(train_uid).union(set(test_uid)))  # get union of two lists\n",
    "required_uid = sorted(required_uid)\n",
    "# save_list(required_uid, os.path.join(DATA_DIR, \"required.uid.list\"))\n",
    "save_as_pickle(required_uid, os.path.join(DATA_DIR, \"required.uid.pkl\"))"
   ]
  },
  {
   "cell_type": "code",
   "execution_count": 15,
   "metadata": {},
   "outputs": [],
   "source": [
    "# # uncomment this block if you have saved this before so that you can load them from disk quickly\n",
    "# required_uid = load_pickle(os.path.join(DATA_DIR, \"required.uid.pkl\"))"
   ]
  },
  {
   "cell_type": "code",
   "execution_count": 16,
   "metadata": {},
   "outputs": [
    {
     "name": "stdout",
     "output_type": "stream",
     "text": [
      "Train+Test User Counts: 9686953\n"
     ]
    }
   ],
   "source": [
    "print(\"Train+Test User Counts: {}\".format(len(required_uid)))"
   ]
  },
  {
   "cell_type": "code",
   "execution_count": 17,
   "metadata": {},
   "outputs": [
    {
     "name": "stderr",
     "output_type": "stream",
     "text": [
      "100%|██████████| 11421/11421 [00:21<00:00, 522.86it/s]\n"
     ]
    },
    {
     "name": "stdout",
     "output_type": "stream",
     "text": [
      "done.\n"
     ]
    },
    {
     "name": "stderr",
     "output_type": "stream",
     "text": [
      "9686953it [00:03, 2459053.92it/s]\n"
     ]
    }
   ],
   "source": [
    "out_file = \"userFeature.preliminary.data\"\n",
    "out_path = os.path.join(DATA_DIR, out_file)\n",
    "required_uid_set = set(required_uid)\n",
    "\n",
    "batch_size = 1000\n",
    "batch_counts = (line_counts - 1) // batch_size + 1\n",
    "with open(os.path.join(DATA_DIR, USER_DATA_FILE), \"r\") as user_f:\n",
    "    with open(out_path, \"w\") as out_f:\n",
    "        for i in tqdm(range(batch_counts)):\n",
    "            try:\n",
    "                cache = \"\"\n",
    "                for i in range(batch_size):\n",
    "                    # 1. the first 4 characters must be \"uid \", just use indexing to filter it out\n",
    "                    # 2. don't do split on the whole line. slice the line first before using split\n",
    "                    # 3. use `set` instead of `list` (the bottleneck)\n",
    "                    ln = user_f.readline()\n",
    "                    feat = ln[4:16]\n",
    "                    uid = feat.split(\"|\")[0]\n",
    "                    uid = int(uid)\n",
    "                    if uid in required_uid_set:\n",
    "                        cache += ln\n",
    "            except Exception as e:\n",
    "                pass\n",
    "            out_f.write(cache)\n",
    "print(\"done.\")\n",
    "assert(count_file_lines(out_path) == len(required_uid))"
   ]
  },
  {
   "cell_type": "code",
   "execution_count": 18,
   "metadata": {},
   "outputs": [],
   "source": [
    "# data = []\n",
    "# for i, l in tqdm(enumerate(f.readlines())):\n",
    "# #     if i % 1000 == 0:\n",
    "# #         print(\"{} lines read.\".format(i))\n",
    "#     data.append(line_to_dict(l))"
   ]
  },
  {
   "cell_type": "code",
   "execution_count": null,
   "metadata": {},
   "outputs": [],
   "source": []
  }
 ],
 "metadata": {
  "kernelspec": {
   "display_name": "Python 3",
   "language": "python",
   "name": "python3"
  },
  "language_info": {
   "codemirror_mode": {
    "name": "ipython",
    "version": 3
   },
   "file_extension": ".py",
   "mimetype": "text/x-python",
   "name": "python",
   "nbconvert_exporter": "python",
   "pygments_lexer": "ipython3",
   "version": "3.5.2"
  }
 },
 "nbformat": 4,
 "nbformat_minor": 2
}
