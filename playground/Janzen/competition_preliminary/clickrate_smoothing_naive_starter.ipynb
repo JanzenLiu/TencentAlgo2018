{
 "cells": [
  {
   "cell_type": "code",
   "execution_count": 1,
   "metadata": {},
   "outputs": [],
   "source": [
    "import matplotlib.pyplot as plt\n",
    "import pandas as pd\n",
    "import numpy as np\n",
    "import time\n",
    "import os\n",
    "import gc\n",
    "import tqdm\n",
    "from sklearn import metrics\n",
    "from sklearn.preprocessing import StandardScaler, RobustScaler, Normalizer\n",
    "from sklearn.linear_model import LogisticRegression\n",
    "from sklearn.model_selection import StratifiedKFold\n",
    "import sys\n",
    "sys.path.append('../../../code/utils/')\n",
    "sys.path.append('../../../code/feature/')\n",
    "import data_utils as du\n",
    "import perf_utils as pu\n",
    "from clickrate import NaiveSmoothedClickrate"
   ]
  },
  {
   "cell_type": "code",
   "execution_count": 2,
   "metadata": {},
   "outputs": [],
   "source": [
    "clickcount_user_in_folder = \"../../../data/clickrate/byUserFeatureName/\""
   ]
  },
  {
   "cell_type": "code",
   "execution_count": 3,
   "metadata": {},
   "outputs": [],
   "source": [
    "def load_user_history(feat_name, aid):\n",
    "    folder = os.path.join(clickcount_user_in_folder, \"[featureName='{}']\".format(feat_name))\n",
    "    filename = \"[aid='{}'].csv\".format(aid)\n",
    "    filepath = os.path.join(folder, filename)\n",
    "    return pd.read_csv(filepath)"
   ]
  },
  {
   "cell_type": "code",
   "execution_count": 4,
   "metadata": {},
   "outputs": [],
   "source": [
    "one_feat_names = ['age', 'gender', 'education', 'consumptionAbility', 'LBS',\n",
    "                  'carrier', 'house']  # one user has only one value\n",
    "multi_feat_names = ['marriageStatus', 'interest1', 'interest2', 'interest3',\n",
    "                   'interest4', 'interest5', 'kw1', 'kw2', 'kw3', 'topic1',\n",
    "                   'topic2', 'topic3', 'appIdInstall', 'appIdAction', 'ct', 'os'] \n",
    "feat_names = one_feat_names + multi_feat_names"
   ]
  },
  {
   "cell_type": "code",
   "execution_count": 5,
   "metadata": {},
   "outputs": [],
   "source": [
    "df_train = du.load_raw_data(\"train\")\n",
    "y = df_train['label'].values\n",
    "y = (y + 1) / 2"
   ]
  },
  {
   "cell_type": "code",
   "execution_count": 6,
   "metadata": {},
   "outputs": [],
   "source": [
    "df_ad = du.load_raw_data(\"ad\")\n",
    "aids = df_ad[\"aid\"].values"
   ]
  },
  {
   "cell_type": "code",
   "execution_count": 7,
   "metadata": {},
   "outputs": [],
   "source": [
    "nsclickrate_user_folder = \"../../../data/ns_clickrate_v1/byUserFeatureName/\"\n",
    "os.makedirs(nsclickrate_user_folder, exist_ok=True)"
   ]
  },
  {
   "cell_type": "code",
   "execution_count": 8,
   "metadata": {
    "scrolled": true
   },
   "outputs": [
    {
     "name": "stderr",
     "output_type": "stream",
     "text": [
      "Fitting 'age'...: 100%|██████████| 173/173 [00:06<00:00, 26.57it/s]\n",
      "Fitting 'gender'...: 100%|██████████| 173/173 [00:06<00:00, 26.44it/s]\n",
      "Fitting 'education'...: 100%|██████████| 173/173 [00:07<00:00, 24.38it/s]\n",
      "Fitting 'consumptionAbility'...: 100%|██████████| 173/173 [00:06<00:00, 25.97it/s]\n",
      "Fitting 'LBS'...: 100%|██████████| 173/173 [00:08<00:00, 19.74it/s]\n",
      "Fitting 'carrier'...: 100%|██████████| 173/173 [00:07<00:00, 24.04it/s]\n",
      "Fitting 'house'...: 100%|██████████| 173/173 [00:06<00:00, 27.01it/s]\n"
     ]
    }
   ],
   "source": [
    "for feat_name in one_feat_names:\n",
    "    clickrate_file = \"ns_clickrate[featureName='{}'].csv\".format(feat_name)\n",
    "    clickrate_path = os.path.join(nsclickrate_user_folder, clickrate_file)\n",
    "\n",
    "    df_clickrate = pd.DataFrame(columns=[\"aid\", \"value\", \"bs_clickrate\"])\n",
    "\n",
    "    for aid in tqdm.tqdm(aids, desc=\"Fitting '{}'...\".format(feat_name)):\n",
    "        # prepare data\n",
    "        feat_stats = load_user_history(feat_name, aid)\n",
    "        feat_stats = feat_stats[feat_stats['value'] != 'all']\n",
    "        feat_stats[\"impression\"] = feat_stats[\"positive\"] + feat_stats[\"negative\"]\n",
    "        feat_stats = feat_stats.rename(columns={\"positive\": \"click\"})\n",
    "\n",
    "        # fit naive smoothing\n",
    "        imps = feat_stats[\"impression\"].values\n",
    "        clks = feat_stats[\"click\"].values\n",
    "        ns = NaiveSmoothedClickrate()\n",
    "        ns.fit(imps, clks)\n",
    "\n",
    "        # transform raw feature to bayesian smoothed click rate\n",
    "        ns_crs = ns.transform(imps, clks)\n",
    "        feat_stats[\"ns_clickrate\"] = ns_crs\n",
    "\n",
    "        # update global info for current feature\n",
    "        feat_stats[\"aid\"] = aid\n",
    "        df_clickrate = df_clickrate.append(feat_stats[[\"aid\", \"value\", \"ns_clickrate\", \"click\", \"impression\"]])\n",
    "\n",
    "    df_clickrate[\"click\"] = df_clickrate[\"click\"].astype(int)\n",
    "    df_clickrate[\"impression\"] = df_clickrate[\"impression\"].astype(int)\n",
    "    df_clickrate = df_clickrate.sort_values([\"ns_clickrate\", \"click\"], ascending=False)\n",
    "    df_clickrate.to_csv(clickrate_path, columns=[\"aid\", \"value\", \"ns_clickrate\", \"click\", \"impression\"], index=False)"
   ]
  }
 ],
 "metadata": {
  "kernelspec": {
   "display_name": "Python 3",
   "language": "python",
   "name": "python3"
  },
  "language_info": {
   "codemirror_mode": {
    "name": "ipython",
    "version": 3
   },
   "file_extension": ".py",
   "mimetype": "text/x-python",
   "name": "python",
   "nbconvert_exporter": "python",
   "pygments_lexer": "ipython3",
   "version": "3.5.2"
  }
 },
 "nbformat": 4,
 "nbformat_minor": 2
}
