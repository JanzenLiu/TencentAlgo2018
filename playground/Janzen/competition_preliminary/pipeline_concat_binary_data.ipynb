{
 "cells": [
  {
   "cell_type": "code",
   "execution_count": 1,
   "metadata": {},
   "outputs": [],
   "source": [
    "from hyperopt import fmin, tpe, hp, STATUS_OK, Trials\n",
    "from sklearn.model_selection import StratifiedKFold\n",
    "from sklearn import metrics\n",
    "from collections import Counter\n",
    "from fastFM import sgd\n",
    "import lightgbm as lgb\n",
    "import scipy.sparse as sparse\n",
    "import pandas as pd\n",
    "import numpy as np\n",
    "import tqdm\n",
    "import gc\n",
    "import os\n",
    "import sys\n",
    "sys.path.append('../../../code/utils')\n",
    "sys.path.append('../../../code/pipeline')\n",
    "sys.path.append('../../../code')\n",
    "import data_utils as du\n",
    "import perf_utils as pu\n",
    "# import data_jointer as dj\n",
    "import config"
   ]
  },
  {
   "cell_type": "code",
   "execution_count": 2,
   "metadata": {},
   "outputs": [],
   "source": [
    "df_train = du.load_raw_data(\"train\")\n",
    "df_test = du.load_raw_data(\"test\")\n",
    "df_ad = du.load_raw_data(\"ad\")"
   ]
  },
  {
   "cell_type": "code",
   "execution_count": 3,
   "metadata": {},
   "outputs": [
    {
     "name": "stdout",
     "output_type": "stream",
     "text": [
      "Training data size: 8798814\n",
      "Testing data size: 2265989\n"
     ]
    }
   ],
   "source": [
    "train_size = df_train.shape[0]\n",
    "test_size = df_test.shape[0]\n",
    "print(\"Training data size: {}\".format(train_size))\n",
    "print(\"Testing data size: {}\".format(test_size))"
   ]
  },
  {
   "cell_type": "code",
   "execution_count": 4,
   "metadata": {},
   "outputs": [],
   "source": [
    "df_all = pd.concat([df_train, df_test], ignore_index=True)"
   ]
  },
  {
   "cell_type": "code",
   "execution_count": 5,
   "metadata": {
    "scrolled": true
   },
   "outputs": [],
   "source": [
    "user_one_feat_names = config.USER_SINGLE_FEAT_NAMES\n",
    "user_multi_feat_names = config.USER_MULTI_FEAT_NAMES\n",
    "user_feat_names = config.USER_FEAT_NAMES\n",
    "ad_feat_names = config.AD_FEAT_NAMES\n",
    "ad_feat_names.remove(\"creativeId\")"
   ]
  },
  {
   "cell_type": "code",
   "execution_count": 6,
   "metadata": {},
   "outputs": [
    {
     "name": "stderr",
     "output_type": "stream",
     "text": [
      "loading user matrices: 100%|██████████| 23/23 [12:26<00:00, 32.45s/it]\n",
      "loading ad matrices: 100%|██████████| 7/7 [02:00<00:00, 17.28s/it]"
     ]
    },
    {
     "name": "stdout",
     "output_type": "stream",
     "text": [
      "[07:44:25] Finish loading and joining user and ad data. △M: +7.28GB. △T: 14.5 minutes.\n",
      "Combined Matrix Shape: (11064803, 419701)\n",
      "Feature Names Count: 419701\n",
      "Memory usage at this moment :7.88GB\n"
     ]
    },
    {
     "name": "stderr",
     "output_type": "stream",
     "text": [
      "\n"
     ]
    }
   ],
   "source": [
    "with pu.profiler(\"loading and joining user and ad data\"):\n",
    "    X_all, feat_names = du.quick_join(ad_user=df_all, \n",
    "                                  user_feat_names=user_feat_names,\n",
    "                                  ad_feat_names=ad_feat_names)\n",
    "    assert X_all.shape[0] == df_all.shape[0]\n",
    "    gc.collect()\n",
    "print(\"Combined Matrix Shape: {}\".format(X_all.shape))\n",
    "print(\"Feature Names Count: {}\".format(len(feat_names)))\n",
    "print(\"Memory usage at this moment :{}\".format(pu.get_memory_str()))"
   ]
  },
  {
   "cell_type": "code",
   "execution_count": 7,
   "metadata": {},
   "outputs": [
    {
     "name": "stdout",
     "output_type": "stream",
     "text": [
      "Memory usage at this moment :4.69GB\n",
      "[07:44:54] Finish splitting train and test data. △M: -3.19GB. △T: 29.0 seconds.\n"
     ]
    }
   ],
   "source": [
    "with pu.profiler(\"splitting train and test data\"):\n",
    "    X_all = sparse.csr_matrix(X_all)  # COO to CSR\n",
    "    X_tv = X_all[:train_size, :]\n",
    "    X_test = X_all[train_size:, :]\n",
    "    assert X_tv.shape[0] == df_train.shape[0]\n",
    "    assert X_test.shape[0] == df_test.shape[0]\n",
    "    del X_all\n",
    "    gc.collect()\n",
    "    print(\"Memory usage at this moment :{}\".format(pu.get_memory_str()))"
   ]
  },
  {
   "cell_type": "code",
   "execution_count": 8,
   "metadata": {},
   "outputs": [],
   "source": [
    "y = df_train['label'].values\n",
    "assert X_tv.shape[0] == y.shape[0]"
   ]
  },
  {
   "cell_type": "code",
   "execution_count": 10,
   "metadata": {},
   "outputs": [],
   "source": [
    "save_folder = \"../../../data/input\"\n",
    "save_file = \"train.raw.binary.pkl\"\n",
    "save_path = os.path.join(save_folder, save_file)\n",
    "os.makedirs(save_folder, exist_ok=True)\n",
    "\n",
    "du.save_pickle((feat_names, X_tv), save_path)"
   ]
  },
  {
   "cell_type": "code",
   "execution_count": 11,
   "metadata": {},
   "outputs": [],
   "source": [
    "save_file = \"test1.raw.binary.pkl\"\n",
    "save_path = os.path.join(save_folder, save_file)\n",
    "\n",
    "du.save_pickle((feat_names, X_test), save_path)"
   ]
  },
  {
   "cell_type": "code",
   "execution_count": null,
   "metadata": {},
   "outputs": [],
   "source": []
  }
 ],
 "metadata": {
  "kernelspec": {
   "display_name": "Python 3",
   "language": "python",
   "name": "python3"
  },
  "language_info": {
   "codemirror_mode": {
    "name": "ipython",
    "version": 3
   },
   "file_extension": ".py",
   "mimetype": "text/x-python",
   "name": "python",
   "nbconvert_exporter": "python",
   "pygments_lexer": "ipython3",
   "version": "3.5.2"
  }
 },
 "nbformat": 4,
 "nbformat_minor": 2
}
