{
 "cells": [
  {
   "cell_type": "code",
   "execution_count": 1,
   "metadata": {},
   "outputs": [],
   "source": [
    "import pandas as pd\n",
    "import numpy as np\n",
    "import operator\n",
    "import pickle\n",
    "import time\n",
    "import os\n",
    "import matplotlib.pyplot as plt"
   ]
  },
  {
   "cell_type": "code",
   "execution_count": 2,
   "metadata": {},
   "outputs": [],
   "source": [
    "data_dir = '../../../data/raw/preliminary_contest_data/'\n",
    "user_cnt_dir = '../../../data/nlp_count/preliminary_contest_data/byUserFeatureName/'"
   ]
  },
  {
   "cell_type": "code",
   "execution_count": 3,
   "metadata": {},
   "outputs": [],
   "source": [
    "def load(filename, **kw):\n",
    "    return pd.read_csv(os.path.join(data_dir, filename), **kw)"
   ]
  },
  {
   "cell_type": "code",
   "execution_count": 4,
   "metadata": {},
   "outputs": [],
   "source": [
    "def load_pickle(filepath):\n",
    "    obj = None\n",
    "    with open(filepath, \"rb\") as f:\n",
    "        obj = pickle.load(f)\n",
    "    return obj"
   ]
  },
  {
   "cell_type": "code",
   "execution_count": 5,
   "metadata": {},
   "outputs": [],
   "source": [
    "def load_user_cnt(feat_name):\n",
    "    filename = \"userFeature.[featureName='{}'].pkl\".format(feat_name)\n",
    "    filepath = os.path.join(user_cnt_dir, filename)\n",
    "    index, matrix = load_pickle(filepath)\n",
    "    \n",
    "    filename = \"uid.pkl\".format(feat_name)\n",
    "    filepath = os.path.join(user_cnt_dir, filename)\n",
    "    uid = load_pickle(filepath)\n",
    "    \n",
    "    return uid, (index, matrix)"
   ]
  },
  {
   "cell_type": "code",
   "execution_count": 6,
   "metadata": {},
   "outputs": [],
   "source": [
    "def get_time_str():\n",
    "    return time.strftime(\"%H:%M:%S\", time.gmtime())"
   ]
  },
  {
   "cell_type": "code",
   "execution_count": 7,
   "metadata": {},
   "outputs": [],
   "source": [
    "clickrate_folder = \"../../../data/clickrate/byUserFeatureName/\"\n",
    "os.makedirs(clickrate_folder, exist_ok=True)"
   ]
  },
  {
   "cell_type": "code",
   "execution_count": null,
   "metadata": {},
   "outputs": [],
   "source": [
    "df_train = load(\"train.csv\")\n",
    "aids = df_train['aid'].unique()\n",
    "aid_to_indices = df_train.groupby('aid').groups\n",
    "train_size = df_train.shape[0]"
   ]
  },
  {
   "cell_type": "code",
   "execution_count": null,
   "metadata": {
    "scrolled": true
   },
   "outputs": [
    {
     "name": "stdout",
     "output_type": "stream",
     "text": [
      "[09:36:22] counting [featureName='age']...\n",
      "[09:36:49] counting [featureName='gender']...\n",
      "[09:37:16] counting [featureName='marriageStatus']...\n",
      "[09:37:43] counting [featureName='education']...\n",
      "[09:38:11] counting [featureName='consumptionAbility']...\n",
      "[09:38:38] counting [featureName='LBS']...\n",
      "[09:39:05] counting [featureName='interest1']...\n",
      "[09:39:35] counting [featureName='interest2']...\n",
      "[09:40:05] counting [featureName='interest3']...\n",
      "[09:40:32] counting [featureName='interest4']...\n",
      "[09:40:58] counting [featureName='interest5']...\n",
      "[09:41:28] counting [featureName='kw1']...\n",
      "[09:46:27] counting [featureName='kw2']...\n",
      "[09:47:54] counting [featureName='kw3']...\n",
      "[09:48:36] counting [featureName='topic1']...\n",
      "[09:49:18] counting [featureName='topic2']...\n",
      "[09:49:58] counting [featureName='topic3']...\n",
      "[09:50:30] counting [featureName='appIdInstall']...\n",
      "[09:52:08] counting [featureName='appIdAction']...\n",
      "[09:52:44] counting [featureName='ct']...\n",
      "[09:53:13] counting [featureName='os']...\n",
      "[09:53:40] counting [featureName='carrier']...\n",
      "[09:54:07] counting [featureName='house']...\n"
     ]
    }
   ],
   "source": [
    "feat_names = [\"age\", \"gender\", \"marriageStatus\", \"education\", \"consumptionAbility\", \"LBS\",\n",
    "              \"interest1\", \"interest2\", \"interest3\", \"interest4\", \"interest5\",\n",
    "              \"kw1\", \"kw2\", \"kw3\", \"topic1\", \"topic2\", \"topic3\", \"appIdInstall\",\n",
    "              \"appIdAction\", \"ct\", \"os\", \"carrier\", \"house\"]\n",
    "\n",
    "for feat_name in feat_names:\n",
    "    # Given a feature\n",
    "    # load dictionary and the sparse matrix\n",
    "    print(\"[{}] counting [featureName='{}']...\".format(get_time_str(), feat_name))\n",
    "    uids, (ufeat_index, uvec) = load_user_cnt(feat_name)\n",
    "    uid_to_index = dict(zip(uids, list(range(len(uids)))))  # mapping from uids to distinct indices\n",
    "    df_train[\"user_index\"] = df_train['uid'].map(uid_to_index)\n",
    "    total_count = 0\n",
    "\n",
    "    for aid in aids:\n",
    "        # Given an aid\n",
    "        # get indices and select DataFrame\n",
    "        indices = aid_to_indices[aid]\n",
    "        df_selected = df_train.loc[indices]\n",
    "        total_count += df_selected.shape[0]\n",
    "\n",
    "        # select positive and netagive\n",
    "        df_pos = df_selected[df_selected['label']==1]\n",
    "        df_neg = df_selected[df_selected['label']==-1]\n",
    "\n",
    "        # get positive and negative indices to pick rows in the sparse matrix\n",
    "        pos_uindex = df_pos['user_index'].values\n",
    "        neg_uindex = df_neg['user_index'].values\n",
    "\n",
    "        # pick up rows from the sparse matrix\n",
    "        X_pos = uvec[pos_uindex,:]\n",
    "        X_neg = uvec[neg_uindex,:]\n",
    "\n",
    "        # count positive and negative\n",
    "        pos_count = X_pos.sum(axis=0)\n",
    "        pos_count = np.squeeze(np.asarray(pos_count))\n",
    "        neg_count = X_neg.sum(axis=0)\n",
    "        neg_count = np.squeeze(np.asarray(neg_count))\n",
    "\n",
    "        # sort feature values by their indices\n",
    "        sorted_index = sorted(ufeat_index.items(), key=operator.itemgetter(1))\n",
    "        values = [k for k, v in sorted_index]\n",
    "\n",
    "        # construct DataFrame\n",
    "        counter = pd.DataFrame()\n",
    "        counter[\"value\"] = values\n",
    "        counter[\"positive\"] = pos_count\n",
    "        counter[\"negative\"] = neg_count\n",
    "\n",
    "        # append aggregate\n",
    "        counter = counter.append({\"value\": \"all\", \"positive\": df_pos.shape[0], \"negative\": df_neg.shape[0]}, ignore_index=True)\n",
    "\n",
    "        out_folder = os.path.join(clickrate_folder, \"[featureName='{}']\".format(feat_name))\n",
    "        os.makedirs(out_folder, exist_ok=True)\n",
    "        out_filename = \"[aid='{}'].csv\".format(aid)\n",
    "        out_filepath = os.path.join(out_folder, out_filename)\n",
    "        counter.to_csv(out_filepath, index=False)\n",
    "        \n",
    "    assert total_count == train_size"
   ]
  },
  {
   "cell_type": "code",
   "execution_count": null,
   "metadata": {},
   "outputs": [],
   "source": []
  }
 ],
 "metadata": {
  "kernelspec": {
   "display_name": "Python 3",
   "language": "python",
   "name": "python3"
  },
  "language_info": {
   "codemirror_mode": {
    "name": "ipython",
    "version": 3
   },
   "file_extension": ".py",
   "mimetype": "text/x-python",
   "name": "python",
   "nbconvert_exporter": "python",
   "pygments_lexer": "ipython3",
   "version": "3.5.2"
  }
 },
 "nbformat": 4,
 "nbformat_minor": 2
}
