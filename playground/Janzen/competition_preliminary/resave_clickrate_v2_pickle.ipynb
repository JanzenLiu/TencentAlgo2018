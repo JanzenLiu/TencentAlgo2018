{
 "cells": [
  {
   "cell_type": "code",
   "execution_count": 1,
   "metadata": {},
   "outputs": [],
   "source": [
    "from functools import partial\n",
    "import scipy.sparse as sparse\n",
    "import multiprocessing as mp\n",
    "import pandas as pd\n",
    "import numpy as np\n",
    "import tqdm\n",
    "import copy\n",
    "import gc\n",
    "import os\n",
    "import sys\n",
    "sys.path.append('../../../code/utils')\n",
    "sys.path.append('../../../code/pipeline')\n",
    "sys.path.append('../../../code')\n",
    "import data_utils as du\n",
    "import perf_utils as pu\n",
    "import data_jointer as dj\n",
    "import config"
   ]
  },
  {
   "cell_type": "code",
   "execution_count": 2,
   "metadata": {},
   "outputs": [],
   "source": [
    "pairs = [# ('productId', 'LBS'),  # no need in this case\n",
    "         ('productType', 'kw1'),  # 'kw1' looks very overfitting prone, to be decide whether to keep it\n",
    "         ('productType', 'kw2'),\n",
    "         ('productType', 'kw3'),\n",
    "         ('productType', 'topic1'),\n",
    "         ('aid', 'topic2'),\n",
    "         ('productType', 'topic2'),\n",
    "         # ('productType', 'topic3'),  # might help in predicting negative samples\n",
    "         # ('productType', 'appIdInstall'),  # might help in predicting negative samples\n",
    "         # ('productType', 'appIdAction'),  # might help in predicting negative samples\n",
    "         ('advertiserId', 'interest1'),\n",
    "         ('aid', 'interest2'),\n",
    "         ('creativeSize', 'interest2'), \n",
    "         ('campaignId', 'interest4'),  # whether to keep it? \n",
    "         ('aid', 'interest5'),  \n",
    "         ('aid', 'ct'),\n",
    "         ('aid', 'os')]"
   ]
  },
  {
   "cell_type": "code",
   "execution_count": 3,
   "metadata": {},
   "outputs": [],
   "source": [
    "def clickrate_stack_path(ad_feat_name, user_feat_name, dataset=\"train\"):\n",
    "    stack_folder = os.path.join(config.DATA_DIR, \"stacking/clickrate\")\n",
    "    stack_file = \"{}.[adFeatureName='{}'][userFeatureName='{}'].pkl\".format(dataset, ad_feat_name, user_feat_name)\n",
    "    stack_path = os.path.join(stack_folder, stack_file)\n",
    "    return stack_path"
   ]
  },
  {
   "cell_type": "code",
   "execution_count": 7,
   "metadata": {},
   "outputs": [],
   "source": [
    "def resave(ad_feat_name, user_feat_name, dataset=\"train\"):\n",
    "    stack_path = clickrate_stack_path(ad_feat_name, user_feat_name, dataset)\n",
    "    df = du.load_pickle(stack_path)\n",
    "    cols = df.columns.tolist()\n",
    "    matrix = df.values\n",
    "    \n",
    "    assert matrix.shape[0] == df.shape[0]\n",
    "    assert matrix.shape[1] == df.shape[1]\n",
    "    assert len(cols) == df.shape[1]\n",
    "    du.save_pickle((cols, matrix), stack_path)"
   ]
  },
  {
   "cell_type": "code",
   "execution_count": 10,
   "metadata": {},
   "outputs": [
    {
     "data": {
      "text/plain": [
       "['bsClickrate@productType_x_kw1_q0',\n",
       " 'bsClickrate@productType_x_kw1_q25',\n",
       " 'bsClickrate@productType_x_kw1_q50',\n",
       " 'bsClickrate@productType_x_kw1_q75',\n",
       " 'bsClickrate@productType_x_kw1_q100',\n",
       " 'bsClickrate_weighted_avg@productType_x_kw1',\n",
       " 'bsClickrate@productType_x_kw1_mean',\n",
       " 'bsClickrate@productType_x_kw1_std',\n",
       " 'impression@productType_x_kw1_mean',\n",
       " 'impression@productType_x_kw1_std',\n",
       " 'max_bsClickrate_impression@productType_x_kw1',\n",
       " 'min_bsClickrate_impression@productType_x_kw1']"
      ]
     },
     "execution_count": 10,
     "metadata": {},
     "output_type": "execute_result"
    }
   ],
   "source": [
    "for ad_feat_name, user_feat_name in pairs:\n",
    "    with pu.profiler(\"resaving '{}' x '{}' features\"):\n",
    "        resave(ad_feat_name, user_feat_name, \"train\")\n",
    "        resave(ad_feat_name, user_feat_name, \"test1\")"
   ]
  },
  {
   "cell_type": "code",
   "execution_count": null,
   "metadata": {},
   "outputs": [],
   "source": []
  }
 ],
 "metadata": {
  "kernelspec": {
   "display_name": "Python 3",
   "language": "python",
   "name": "python3"
  },
  "language_info": {
   "codemirror_mode": {
    "name": "ipython",
    "version": 3
   },
   "file_extension": ".py",
   "mimetype": "text/x-python",
   "name": "python",
   "nbconvert_exporter": "python",
   "pygments_lexer": "ipython3",
   "version": "3.5.2"
  }
 },
 "nbformat": 4,
 "nbformat_minor": 2
}
