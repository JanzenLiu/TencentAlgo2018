{
 "cells": [
  {
   "cell_type": "code",
   "execution_count": 1,
   "metadata": {},
   "outputs": [],
   "source": [
    "import scipy.sparse as sparse\n",
    "import pandas as pd\n",
    "import numpy as np\n",
    "import tqdm\n",
    "import gc\n",
    "import os\n",
    "import sys\n",
    "sys.path.append('../../../code/utils')\n",
    "sys.path.append('../../../code/pipeline')\n",
    "sys.path.append('../../../code')\n",
    "import data_utils as du\n",
    "import perf_utils as pu\n",
    "import data_jointer as dj\n",
    "import config"
   ]
  },
  {
   "cell_type": "code",
   "execution_count": null,
   "metadata": {},
   "outputs": [],
   "source": [
    "embedding_folder = os.path.join(config.DATA_DIR, \"embedding\")\n",
    "\n",
    "def embedding_path(feat_name, pooling=\"avg\", version_no=1, dataset=\"train\"):\n",
    "    emb_folder = os.path.join(embedding_folder, \"[featureName='{}']\".format(feat_name))\n",
    "    emb_file = \"{}.{}_v{}.pkl\".format(dataset, pooling, version_no)\n",
    "    emb_path = os.path.join(emb_folder, emb_file)\n",
    "    return emb_path"
   ]
  },
  {
   "cell_type": "code",
   "execution_count": null,
   "metadata": {},
   "outputs": [
    {
     "name": "stdout",
     "output_type": "stream",
     "text": [
      "[17:19:43] Finish rewriting 'marriageStatus'. △M: +112.76MB. △T: 4.8 seconds.\n",
      "[17:19:51] Finish rewriting 'interest1'. △M: +60.52MB. △T: 7.3 seconds.\n",
      "[17:19:58] Finish rewriting 'interest2'. △M: -51.86MB. △T: 7.5 seconds.\n",
      "[17:20:03] Finish rewriting 'interest3'. △M: -34.57MB. △T: 5.2 seconds.\n",
      "[17:20:09] Finish rewriting 'interest4'. △M: +0B. △T: 5.4 seconds.\n",
      "[17:20:14] Finish rewriting 'interest5'. △M: +0B. △T: 5.2 seconds.\n",
      "[17:20:41] Finish rewriting 'kw1'. △M: +345.75MB. △T: 26.5 seconds.\n",
      "[17:21:08] Finish rewriting 'kw2'. △M: +0B. △T: 27.4 seconds.\n",
      "[17:21:36] Finish rewriting 'kw3'. △M: +4.0KB. △T: 28.0 seconds.\n",
      "[17:22:04] Finish rewriting 'topic1'. △M: +0B. △T: 28.2 seconds.\n"
     ]
    }
   ],
   "source": [
    "for feat_name in config.USER_MULTI_FEAT_NAMES:\n",
    "    with pu.profiler(\"rewriting '{}'\".format(feat_name)):\n",
    "        for pooling in ['avg', 'min']:\n",
    "            for dataset in ['train', 'test2']:\n",
    "                emb_path = embedding_path(feat_name, pooling, 1, dataset)\n",
    "                col_names, matrix = du.load_pickle(emb_path, use_joblib=True)\n",
    "                du.save_pickle((col_names, matrix), emb_path, use_joblib=False)"
   ]
  },
  {
   "cell_type": "code",
   "execution_count": 10,
   "metadata": {},
   "outputs": [],
   "source": []
  }
 ],
 "metadata": {
  "kernelspec": {
   "display_name": "Python 3",
   "language": "python",
   "name": "python3"
  },
  "language_info": {
   "codemirror_mode": {
    "name": "ipython",
    "version": 3
   },
   "file_extension": ".py",
   "mimetype": "text/x-python",
   "name": "python",
   "nbconvert_exporter": "python",
   "pygments_lexer": "ipython3",
   "version": "3.5.2"
  }
 },
 "nbformat": 4,
 "nbformat_minor": 2
}
