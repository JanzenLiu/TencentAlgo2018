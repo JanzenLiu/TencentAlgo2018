{
 "cells": [
  {
   "cell_type": "code",
   "execution_count": 1,
   "metadata": {},
   "outputs": [],
   "source": [
    "import scipy.sparse as sparse\n",
    "import pandas as pd\n",
    "import numpy as np\n",
    "import tqdm\n",
    "import gc\n",
    "import os\n",
    "import sys\n",
    "sys.path.append('../../../code/utils')\n",
    "sys.path.append('../../../code/pipeline')\n",
    "sys.path.append('../../../code')\n",
    "import data_pipeline as dp\n",
    "import data_utils as du\n",
    "import perf_utils as pu\n",
    "import data_jointer as dj\n",
    "import config"
   ]
  },
  {
   "cell_type": "code",
   "execution_count": 2,
   "metadata": {},
   "outputs": [],
   "source": [
    "input_folder = os.path.join(config.DATA_DIR, \"input_final\")\n",
    "rewrite_files = ['test2.aggregate.listCount_v1.pkl',\n",
    "                 'test2.aggregate.listCount_v2.pkl',\n",
    "                 'test2.clickStats.crossWordCount_v1.pkl',\n",
    "                 'test2.raw.wordCount.pkl',\n",
    "                 'test2.stacking.lr.wordTfIdf.pkl',\n",
    "                 'train.aggregate.listCount_v1.pkl',\n",
    "                 'train.aggregate.listCount_v2.pkl',\n",
    "                 'train.clickStats.crossWordCount_v1.pkl',\n",
    "                 'train.raw.wordCount.pkl',\n",
    "                 'train.stacking.lr.wordTfIdf.pkl']"
   ]
  },
  {
   "cell_type": "code",
   "execution_count": null,
   "metadata": {},
   "outputs": [],
   "source": [
    "for file in rewrite_files:\n",
    "    path = os.path.join(input_folder, file)\n",
    "    col_names, matrix = du.load_pickle(path, use_joblib=True)\n",
    "    du.save_pickle((col_names, matrix), path, use_joblib=False)"
   ]
  },
  {
   "cell_type": "code",
   "execution_count": null,
   "metadata": {},
   "outputs": [],
   "source": []
  }
 ],
 "metadata": {
  "kernelspec": {
   "display_name": "Python 3",
   "language": "python",
   "name": "python3"
  },
  "language_info": {
   "codemirror_mode": {
    "name": "ipython",
    "version": 3
   },
   "file_extension": ".py",
   "mimetype": "text/x-python",
   "name": "python",
   "nbconvert_exporter": "python",
   "pygments_lexer": "ipython3",
   "version": "3.5.2"
  }
 },
 "nbformat": 4,
 "nbformat_minor": 2
}
