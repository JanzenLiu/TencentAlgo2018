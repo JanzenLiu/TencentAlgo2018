{
 "cells": [
  {
   "cell_type": "code",
   "execution_count": 1,
   "metadata": {},
   "outputs": [],
   "source": [
    "import numpy as np\n",
    "import os\n",
    "import gc\n",
    "import sys\n",
    "sys.path.append(\"../../../code/utils\")\n",
    "sys.path.append(\"../../../code\")\n",
    "import data_utils as du\n",
    "import perf_utils as pu\n",
    "import config"
   ]
  },
  {
   "cell_type": "code",
   "execution_count": 2,
   "metadata": {},
   "outputs": [],
   "source": [
    "def cnt_to_cooccurence(cnt_matrix):\n",
    "    return np.multiply(cnt_matrix.T.astype(np.float32), cnt_matrix.astype(np.float32)).astype(np.float32)"
   ]
  },
  {
   "cell_type": "code",
   "execution_count": 3,
   "metadata": {
    "scrolled": true
   },
   "outputs": [
    {
     "name": "stdout",
     "output_type": "stream",
     "text": [
      "--------------------------------------------------------------------------------\n",
      "processing 'marriageStatus'...\n",
      "[15:11:00] Finish calculating coocurrence matrix. △M: +472.0KB. △T: 1.2 seconds.\n",
      "[15:11:00] Finish saving coocurrence matrix for. △M: +28.0KB. △T: 0.0 seconds.\n",
      "--------------------------------------------------------------------------------\n",
      "processing 'interest1'...\n",
      "[15:11:30] Finish calculating coocurrence matrix. △M: +48.0KB. △T: 29.4 seconds.\n",
      "[15:11:30] Finish saving coocurrence matrix for. △M: +0B. △T: 0.1 seconds.\n",
      "--------------------------------------------------------------------------------\n",
      "processing 'interest2'...\n",
      "[15:11:36] Finish calculating coocurrence matrix. △M: +8.0KB. △T: 6.4 seconds.\n",
      "[15:11:36] Finish saving coocurrence matrix for. △M: +0B. △T: 0.1 seconds.\n",
      "--------------------------------------------------------------------------------\n",
      "processing 'interest3'...\n",
      "[15:11:38] Finish calculating coocurrence matrix. △M: +12.71MB. △T: 1.3 seconds.\n",
      "[15:11:38] Finish saving coocurrence matrix for. △M: +0B. △T: 0.0 seconds.\n",
      "--------------------------------------------------------------------------------\n",
      "processing 'interest4'...\n",
      "[15:11:39] Finish calculating coocurrence matrix. △M: +0B. △T: 1.2 seconds.\n",
      "[15:11:39] Finish saving coocurrence matrix for. △M: +0B. △T: 0.1 seconds.\n",
      "--------------------------------------------------------------------------------\n",
      "processing 'interest5'...\n",
      "[15:12:15] Finish calculating coocurrence matrix. △M: +4.0KB. △T: 35.8 seconds.\n",
      "[15:12:15] Finish saving coocurrence matrix for. △M: +0B. △T: 0.0 seconds.\n",
      "--------------------------------------------------------------------------------\n",
      "processing 'kw1'...\n",
      "[15:12:48] Finish calculating coocurrence matrix. △M: +527.18MB. △T: 33.3 seconds.\n",
      "[15:12:51] Finish saving coocurrence matrix for. △M: -538.59MB. △T: 3.3 seconds.\n",
      "--------------------------------------------------------------------------------\n",
      "processing 'kw2'...\n",
      "[15:13:11] Finish calculating coocurrence matrix. △M: +129.51MB. △T: 19.9 seconds.\n",
      "[15:13:12] Finish saving coocurrence matrix for. △M: -104.63MB. △T: 0.6 seconds.\n",
      "--------------------------------------------------------------------------------\n",
      "processing 'kw3'...\n",
      "[15:13:13] Finish calculating coocurrence matrix. △M: +952.0KB. △T: 1.6 seconds.\n",
      "[15:13:14] Finish saving coocurrence matrix for. △M: -608.0KB. △T: 0.2 seconds.\n",
      "--------------------------------------------------------------------------------\n",
      "processing 'topic1'...\n",
      "[15:13:32] Finish calculating coocurrence matrix. △M: +193.84MB. △T: 17.9 seconds.\n",
      "[15:13:32] Finish saving coocurrence matrix for. △M: -193.78MB. △T: 0.3 seconds.\n",
      "--------------------------------------------------------------------------------\n",
      "processing 'topic2'...\n",
      "[15:13:50] Finish calculating coocurrence matrix. △M: +113.61MB. △T: 17.8 seconds.\n",
      "[15:13:50] Finish saving coocurrence matrix for. △M: -113.61MB. △T: 0.2 seconds.\n",
      "--------------------------------------------------------------------------------\n",
      "processing 'topic3'...\n",
      "[15:13:51] Finish calculating coocurrence matrix. △M: +3.47MB. △T: 1.6 seconds.\n",
      "[15:13:52] Finish saving coocurrence matrix for. △M: -224.0KB. △T: 0.1 seconds.\n",
      "--------------------------------------------------------------------------------\n",
      "processing 'appIdInstall'...\n",
      "[15:15:21] Finish calculating coocurrence matrix. △M: +3.78GB. △T: 1.5 minutes.\n",
      "[15:15:26] Finish saving coocurrence matrix for. △M: -3.77GB. △T: 4.2 seconds.\n",
      "--------------------------------------------------------------------------------\n",
      "processing 'appIdAction'...\n",
      "[15:15:30] Finish calculating coocurrence matrix. △M: +44.71MB. △T: 4.1 seconds.\n",
      "[15:15:30] Finish saving coocurrence matrix for. △M: -73.03MB. △T: 0.1 seconds.\n",
      "--------------------------------------------------------------------------------\n",
      "processing 'ct'...\n",
      "[15:15:32] Finish calculating coocurrence matrix. △M: -256.0KB. △T: 1.8 seconds.\n",
      "[15:15:32] Finish saving coocurrence matrix for. △M: +0B. △T: 0.0 seconds.\n",
      "--------------------------------------------------------------------------------\n",
      "processing 'os'...\n",
      "[15:15:33] Finish calculating coocurrence matrix. △M: +10.58MB. △T: 1.2 seconds.\n",
      "[15:15:33] Finish saving coocurrence matrix for. △M: +0B. △T: 0.0 seconds.\n"
     ]
    }
   ],
   "source": [
    "cooc_folder = \"../../../data/nlp_cooccurrence/preliminary_contest_data/byUserFeatureName/\"\n",
    "os.makedirs(cooc_folder, exist_ok=True)\n",
    "\n",
    "for feat_name in config.USER_MULTI_FEAT_NAMES:\n",
    "    print(\"-\" * 80)\n",
    "    print(\"processing '{}'...\".format(feat_name))\n",
    "    with pu.profiler(\"calculating coocurrence matrix\"):\n",
    "        uid_index, (val_index, cnt) = du.load_user_cnt(feat_name)\n",
    "        cooc = cnt_to_cooccurence(cnt)\n",
    "        del cnt\n",
    "        del uid_index\n",
    "        gc.collect()\n",
    "        \n",
    "    with pu.profiler(\"saving coocurrence matrix for\"):\n",
    "        cooc_file = \"userFeature.[featureName='{}'].pkl\".format(feat_name)\n",
    "        cooc_path = os.path.join(cooc_folder, cooc_file)\n",
    "        du.save_pickle((val_index, cooc), cooc_path)\n",
    "        del cooc\n",
    "        del val_index\n",
    "        gc.collect()"
   ]
  }
 ],
 "metadata": {
  "kernelspec": {
   "display_name": "Python 3",
   "language": "python",
   "name": "python3"
  },
  "language_info": {
   "codemirror_mode": {
    "name": "ipython",
    "version": 3
   },
   "file_extension": ".py",
   "mimetype": "text/x-python",
   "name": "python",
   "nbconvert_exporter": "python",
   "pygments_lexer": "ipython3",
   "version": "3.5.2"
  }
 },
 "nbformat": 4,
 "nbformat_minor": 2
}
