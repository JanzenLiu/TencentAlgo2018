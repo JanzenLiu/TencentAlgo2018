{
 "cells": [
  {
   "cell_type": "code",
   "execution_count": 1,
   "metadata": {},
   "outputs": [],
   "source": [
    "import sys\n",
    "sys.path.append(\"../../../../code/utils/\")\n",
    "import data_utils as du"
   ]
  },
  {
   "cell_type": "code",
   "execution_count": 2,
   "metadata": {},
   "outputs": [
    {
     "data": {
      "text/html": [
       "<div>\n",
       "<style scoped>\n",
       "    .dataframe tbody tr th:only-of-type {\n",
       "        vertical-align: middle;\n",
       "    }\n",
       "\n",
       "    .dataframe tbody tr th {\n",
       "        vertical-align: top;\n",
       "    }\n",
       "\n",
       "    .dataframe thead th {\n",
       "        text-align: right;\n",
       "    }\n",
       "</style>\n",
       "<table border=\"1\" class=\"dataframe\">\n",
       "  <thead>\n",
       "    <tr style=\"text-align: right;\">\n",
       "      <th></th>\n",
       "      <th>aid</th>\n",
       "      <th>uid</th>\n",
       "      <th>label</th>\n",
       "    </tr>\n",
       "  </thead>\n",
       "  <tbody>\n",
       "    <tr>\n",
       "      <th>0</th>\n",
       "      <td>699</td>\n",
       "      <td>78508957</td>\n",
       "      <td>-1</td>\n",
       "    </tr>\n",
       "    <tr>\n",
       "      <th>1</th>\n",
       "      <td>1991</td>\n",
       "      <td>3637295</td>\n",
       "      <td>-1</td>\n",
       "    </tr>\n",
       "    <tr>\n",
       "      <th>2</th>\n",
       "      <td>1119</td>\n",
       "      <td>19229018</td>\n",
       "      <td>-1</td>\n",
       "    </tr>\n",
       "    <tr>\n",
       "      <th>3</th>\n",
       "      <td>2013</td>\n",
       "      <td>79277120</td>\n",
       "      <td>-1</td>\n",
       "    </tr>\n",
       "    <tr>\n",
       "      <th>4</th>\n",
       "      <td>692</td>\n",
       "      <td>41528441</td>\n",
       "      <td>-1</td>\n",
       "    </tr>\n",
       "  </tbody>\n",
       "</table>\n",
       "</div>"
      ],
      "text/plain": [
       "    aid       uid  label\n",
       "0   699  78508957     -1\n",
       "1  1991   3637295     -1\n",
       "2  1119  19229018     -1\n",
       "3  2013  79277120     -1\n",
       "4   692  41528441     -1"
      ]
     },
     "execution_count": 2,
     "metadata": {},
     "output_type": "execute_result"
    }
   ],
   "source": [
    "du.load_raw_data(\"train\").head(5)"
   ]
  },
  {
   "cell_type": "code",
   "execution_count": 3,
   "metadata": {},
   "outputs": [
    {
     "data": {
      "text/html": [
       "<div>\n",
       "<style scoped>\n",
       "    .dataframe tbody tr th:only-of-type {\n",
       "        vertical-align: middle;\n",
       "    }\n",
       "\n",
       "    .dataframe tbody tr th {\n",
       "        vertical-align: top;\n",
       "    }\n",
       "\n",
       "    .dataframe thead th {\n",
       "        text-align: right;\n",
       "    }\n",
       "</style>\n",
       "<table border=\"1\" class=\"dataframe\">\n",
       "  <thead>\n",
       "    <tr style=\"text-align: right;\">\n",
       "      <th></th>\n",
       "      <th>aid</th>\n",
       "      <th>uid</th>\n",
       "    </tr>\n",
       "  </thead>\n",
       "  <tbody>\n",
       "    <tr>\n",
       "      <th>0</th>\n",
       "      <td>2118</td>\n",
       "      <td>64355836</td>\n",
       "    </tr>\n",
       "    <tr>\n",
       "      <th>1</th>\n",
       "      <td>692</td>\n",
       "      <td>45051997</td>\n",
       "    </tr>\n",
       "    <tr>\n",
       "      <th>2</th>\n",
       "      <td>692</td>\n",
       "      <td>10869198</td>\n",
       "    </tr>\n",
       "    <tr>\n",
       "      <th>3</th>\n",
       "      <td>1918</td>\n",
       "      <td>75929554</td>\n",
       "    </tr>\n",
       "    <tr>\n",
       "      <th>4</th>\n",
       "      <td>1596</td>\n",
       "      <td>5790162</td>\n",
       "    </tr>\n",
       "  </tbody>\n",
       "</table>\n",
       "</div>"
      ],
      "text/plain": [
       "    aid       uid\n",
       "0  2118  64355836\n",
       "1   692  45051997\n",
       "2   692  10869198\n",
       "3  1918  75929554\n",
       "4  1596   5790162"
      ]
     },
     "execution_count": 3,
     "metadata": {},
     "output_type": "execute_result"
    }
   ],
   "source": [
    "du.load_raw_data(\"test\").head(5)"
   ]
  },
  {
   "cell_type": "code",
   "execution_count": 4,
   "metadata": {},
   "outputs": [
    {
     "data": {
      "text/html": [
       "<div>\n",
       "<style scoped>\n",
       "    .dataframe tbody tr th:only-of-type {\n",
       "        vertical-align: middle;\n",
       "    }\n",
       "\n",
       "    .dataframe tbody tr th {\n",
       "        vertical-align: top;\n",
       "    }\n",
       "\n",
       "    .dataframe thead th {\n",
       "        text-align: right;\n",
       "    }\n",
       "</style>\n",
       "<table border=\"1\" class=\"dataframe\">\n",
       "  <thead>\n",
       "    <tr style=\"text-align: right;\">\n",
       "      <th></th>\n",
       "      <th>aid</th>\n",
       "      <th>advertiserId</th>\n",
       "      <th>campaignId</th>\n",
       "      <th>creativeId</th>\n",
       "      <th>creativeSize</th>\n",
       "      <th>adCategoryId</th>\n",
       "      <th>productId</th>\n",
       "      <th>productType</th>\n",
       "    </tr>\n",
       "  </thead>\n",
       "  <tbody>\n",
       "    <tr>\n",
       "      <th>0</th>\n",
       "      <td>177</td>\n",
       "      <td>8203</td>\n",
       "      <td>76104</td>\n",
       "      <td>1500666</td>\n",
       "      <td>59</td>\n",
       "      <td>282</td>\n",
       "      <td>0</td>\n",
       "      <td>6</td>\n",
       "    </tr>\n",
       "    <tr>\n",
       "      <th>1</th>\n",
       "      <td>2050</td>\n",
       "      <td>19441</td>\n",
       "      <td>178687</td>\n",
       "      <td>245165</td>\n",
       "      <td>53</td>\n",
       "      <td>1</td>\n",
       "      <td>0</td>\n",
       "      <td>6</td>\n",
       "    </tr>\n",
       "    <tr>\n",
       "      <th>2</th>\n",
       "      <td>1716</td>\n",
       "      <td>5552</td>\n",
       "      <td>158101</td>\n",
       "      <td>1080850</td>\n",
       "      <td>35</td>\n",
       "      <td>27</td>\n",
       "      <td>113</td>\n",
       "      <td>9</td>\n",
       "    </tr>\n",
       "    <tr>\n",
       "      <th>3</th>\n",
       "      <td>336</td>\n",
       "      <td>370</td>\n",
       "      <td>4833</td>\n",
       "      <td>119845</td>\n",
       "      <td>22</td>\n",
       "      <td>67</td>\n",
       "      <td>113</td>\n",
       "      <td>9</td>\n",
       "    </tr>\n",
       "    <tr>\n",
       "      <th>4</th>\n",
       "      <td>671</td>\n",
       "      <td>45705</td>\n",
       "      <td>352827</td>\n",
       "      <td>660519</td>\n",
       "      <td>42</td>\n",
       "      <td>67</td>\n",
       "      <td>0</td>\n",
       "      <td>4</td>\n",
       "    </tr>\n",
       "  </tbody>\n",
       "</table>\n",
       "</div>"
      ],
      "text/plain": [
       "    aid  advertiserId  campaignId  creativeId  creativeSize  adCategoryId  \\\n",
       "0   177          8203       76104     1500666            59           282   \n",
       "1  2050         19441      178687      245165            53             1   \n",
       "2  1716          5552      158101     1080850            35            27   \n",
       "3   336           370        4833      119845            22            67   \n",
       "4   671         45705      352827      660519            42            67   \n",
       "\n",
       "   productId  productType  \n",
       "0          0            6  \n",
       "1          0            6  \n",
       "2        113            9  \n",
       "3        113            9  \n",
       "4          0            4  "
      ]
     },
     "execution_count": 4,
     "metadata": {},
     "output_type": "execute_result"
    }
   ],
   "source": [
    "du.load_raw_data(\"ad\").head(5)"
   ]
  },
  {
   "cell_type": "code",
   "execution_count": 5,
   "metadata": {},
   "outputs": [
    {
     "name": "stdout",
     "output_type": "stream",
     "text": [
      "[ 177 2050 1716  336  671]\n",
      "[ 60  79 149 243 285]\n",
      "[[0 0 0 0 0 0 0 0 0 0 0 0 0 0 0 0 0 0 0 0 0 0 0 0 0 0 0 0 0 0 0 1 0 0 0 0\n",
      "  0 0 0 0 0 0 0 0 0 0 0 0 0 0 0 0 0 0 0 0 0 0 0 0 0 0 0 0 0 0 0 0 0 0 0 0\n",
      "  0 0 0 0 0 0 0]\n",
      " [0 0 0 0 0 0 0 0 0 0 0 0 0 0 0 0 0 0 0 0 0 0 0 0 0 0 0 0 0 0 0 0 0 0 0 0\n",
      "  0 0 0 0 0 0 0 0 0 0 0 0 0 0 0 0 0 1 0 0 0 0 0 0 0 0 0 0 0 0 0 0 0 0 0 0\n",
      "  0 0 0 0 0 0 0]\n",
      " [0 0 0 0 0 0 0 0 0 0 0 0 0 0 0 0 0 0 0 0 0 0 1 0 0 0 0 0 0 0 0 0 0 0 0 0\n",
      "  0 0 0 0 0 0 0 0 0 0 0 0 0 0 0 0 0 0 0 0 0 0 0 0 0 0 0 0 0 0 0 0 0 0 0 0\n",
      "  0 0 0 0 0 0 0]\n",
      " [0 0 0 0 0 0 1 0 0 0 0 0 0 0 0 0 0 0 0 0 0 0 0 0 0 0 0 0 0 0 0 0 0 0 0 0\n",
      "  0 0 0 0 0 0 0 0 0 0 0 0 0 0 0 0 0 0 0 0 0 0 0 0 0 0 0 0 0 0 0 0 0 0 0 0\n",
      "  0 0 0 0 0 0 0]\n",
      " [0 0 0 0 0 0 0 0 0 0 0 0 0 0 0 0 0 0 0 0 0 0 0 0 0 0 0 0 0 0 0 0 0 0 0 0\n",
      "  0 0 0 0 0 0 0 0 0 0 0 0 0 0 0 0 0 0 0 0 0 0 0 0 0 0 0 0 0 0 0 1 0 0 0 0\n",
      "  0 0 0 0 0 0 0]]\n"
     ]
    }
   ],
   "source": [
    "aid, (index, ad_feat_cnt) = du.load_ad_cnt(\"advertiserId\")\n",
    "print(aid[:5])\n",
    "print(index[:5])\n",
    "print(ad_feat_cnt[:5, :].toarray())"
   ]
  },
  {
   "cell_type": "code",
   "execution_count": 6,
   "metadata": {},
   "outputs": [
    {
     "name": "stdout",
     "output_type": "stream",
     "text": [
      "[26325489  1184123 76072711 63071413 81294159]\n",
      "{'3': 4, '5': 5, '0': 2, '1': 1, '2': 3, '4': 0}\n",
      "[[1 0 0 0 0 0]\n",
      " [0 0 0 1 0 0]\n",
      " [0 1 0 0 0 0]\n",
      " [1 0 0 0 0 0]\n",
      " [0 0 0 0 0 1]]\n"
     ]
    }
   ],
   "source": [
    "uid, (index_dict, user_feat_cnt) = du.load_user_cnt(\"age\")\n",
    "print(uid[:5])\n",
    "print(index_dict)\n",
    "print(user_feat_cnt[:5, :].toarray())"
   ]
  },
  {
   "cell_type": "code",
   "execution_count": 7,
   "metadata": {},
   "outputs": [
    {
     "name": "stdout",
     "output_type": "stream",
     "text": [
      "[26325489  1184123 76072711 63071413 81294159]\n",
      "{'18': 107, '[nan]': 122, '96': 58, '69': 96, '68': 21, '121': 32, '80': 23, '28': 38, '58': 85, '5': 62, '116': 24, '47': 60, '57': 33, '38': 81, '104': 108, '76': 113, '4': 66, '66': 80, '46': 4, '81': 10, '16': 82, '2': 104, '122': 47, '106': 64, '74': 102, '83': 39, '27': 103, '111': 106, '51': 86, '101': 70, '63': 56, '99': 83, '95': 118, '109': 19, '90': 93, '45': 98, '84': 89, '98': 43, '30': 50, '62': 69, '114': 61, '79': 112, '49': 26, '3': 1, '22': 111, '32': 88, '13': 41, '53': 29, '26': 68, '97': 31, '48': 87, '108': 18, '103': 84, '23': 16, '88': 22, '118': 6, '117': 76, '120': 57, '77': 55, '115': 48, '91': 115, '36': 73, '31': 51, '75': 20, '33': 120, '7': 101, '110': 74, '42': 28, '93': 49, '56': 72, '50': 75, '10': 99, '21': 9, '61': 67, '37': 40, '82': 94, '54': 97, '60': 17, '25': 91, '6': 114, '43': 52, '65': 78, '24': 25, '72': 34, '44': 7, '70': 13, '94': 63, '59': 2, '12': 109, '119': 8, '89': 79, '87': 42, '52': 54, '73': 12, '92': 37, '17': 121, '112': 53, '9': 30, '105': 119, '41': 27, '107': 100, '85': 90, '20': 65, '71': 45, '40': 110, '8': 14, '39': 5, '86': 15, '100': 77, '78': 117, '35': 11, '1': 0, '34': 92, '67': 44, '102': 46, '55': 59, '19': 95, '15': 3, '29': 71, '14': 105, '11': 116, '113': 35, '64': 36}\n",
      "[4.8680967  3.88664955 2.05127016 3.47734059 1.79527382]\n",
      "[[0.         0.         0.13468499 0.         0.11787644 0.\n",
      "  0.18118999 0.26728286 0.         0.         0.         0.\n",
      "  0.         0.09340389 0.17084044 0.16706833 0.         0.\n",
      "  0.         0.14714608 0.12708702 0.         0.         0.\n",
      "  0.         0.         0.10478055 0.20767909 0.         0.        ]\n",
      " [0.         0.         0.         0.         0.         0.\n",
      "  0.         0.         0.         0.         0.         0.\n",
      "  0.         0.         0.         0.         0.         0.\n",
      "  0.         0.         0.72868612 0.         0.         0.\n",
      "  0.         0.         0.         0.         0.         0.        ]\n",
      " [0.         0.         0.19759608 0.         0.         0.\n",
      "  0.         0.         0.         0.         0.         0.3349494\n",
      "  0.         0.13703266 0.         0.         0.         0.\n",
      "  0.         0.         0.         0.         0.         0.\n",
      "  0.22947408 0.         0.15372334 0.30468559 0.27056388 0.        ]\n",
      " [0.         0.         0.14396942 0.         0.12600219 0.\n",
      "  0.         0.         0.         0.         0.         0.\n",
      "  0.         0.09984263 0.         0.         0.22328571 0.\n",
      "  0.         0.         0.13584769 0.         0.         0.\n",
      "  0.         0.         0.11200354 0.         0.19713409 0.        ]\n",
      " [0.         0.         0.         0.         0.         0.\n",
      "  0.         0.         0.         0.         0.         0.\n",
      "  0.         0.         0.         0.         0.         0.\n",
      "  0.         0.         0.37484494 0.         0.         0.\n",
      "  0.         0.         0.30905169 0.         0.         0.        ]]\n"
     ]
    }
   ],
   "source": [
    "uid, (index_dict, user_feat_idf, user_feat_tfidf) = du.load_user_tfidf(\"interest1\")\n",
    "print(uid[:5])\n",
    "print(index_dict)\n",
    "print(user_feat_idf[:5])\n",
    "print(user_feat_tfidf[:5, :30].toarray())"
   ]
  },
  {
   "cell_type": "code",
   "execution_count": 8,
   "metadata": {},
   "outputs": [
    {
     "data": {
      "text/plain": [
       "uid             0.000000\n",
       "appIdInstall    0.979839\n",
       "dtype: float64"
      ]
     },
     "execution_count": 8,
     "metadata": {},
     "output_type": "execute_result"
    }
   ],
   "source": [
    "df_app_install = du.load_user_feature(\"appIdInstall\")\n",
    "df_app_install.isnull().sum() / df_app_install.shape[0]"
   ]
  },
  {
   "cell_type": "code",
   "execution_count": null,
   "metadata": {},
   "outputs": [],
   "source": []
  }
 ],
 "metadata": {
  "kernelspec": {
   "display_name": "Python 3",
   "language": "python",
   "name": "python3"
  },
  "language_info": {
   "codemirror_mode": {
    "name": "ipython",
    "version": 3
   },
   "file_extension": ".py",
   "mimetype": "text/x-python",
   "name": "python",
   "nbconvert_exporter": "python",
   "pygments_lexer": "ipython3",
   "version": "3.5.2"
  }
 },
 "nbformat": 4,
 "nbformat_minor": 2
}
