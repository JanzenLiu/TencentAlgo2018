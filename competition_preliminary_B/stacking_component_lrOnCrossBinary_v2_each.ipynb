{
 "cells": [
  {
   "cell_type": "code",
   "execution_count": 2,
   "metadata": {},
   "outputs": [],
   "source": [
    "from sklearn.linear_model import LogisticRegression\n",
    "from sklearn.model_selection import StratifiedKFold\n",
    "from sklearn import metrics\n",
    "import pandas as pd\n",
    "import numpy as np\n",
    "import time\n",
    "import gc\n",
    "import os\n",
    "import sys\n",
    "sys.path.append('../code/pipeline/')\n",
    "sys.path.append('../code/utils/')\n",
    "sys.path.append('../code/')\n",
    "import data_pipeline as dp\n",
    "import data_utils as du\n",
    "import perf_utils as pu\n",
    "import eval_utils as eu\n",
    "import io_utils as iu\n",
    "import config"
   ]
  },
  {
   "cell_type": "code",
   "execution_count": 3,
   "metadata": {},
   "outputs": [],
   "source": [
    "# ================\n",
    "# Data Preparation\n",
    "# ================\n",
    "# defined feature pairs to load cross product transformation\n",
    "pairs = [('advertiserId', 'interest1'),\n",
    "         ('aid', 'interest2'),\n",
    "         ('creativeSize', 'interest2'), \n",
    "         # ('campaignId', 'interest4'),  # whether to keep it? \n",
    "         ('aid', 'interest5'),  \n",
    "         ('productType', 'kw1'),  # 'kw1' looks very overfitting prone, to be decide whether to keep it\n",
    "         ('productType', 'kw2'),\n",
    "         # ('productType', 'kw3'),\n",
    "         ('productType', 'topic1'),\n",
    "         ('aid', 'topic2'),\n",
    "         ('productType', 'topic2'),\n",
    "         ('aid', 'ct'),\n",
    "         ('aid', 'os')]"
   ]
  },
  {
   "cell_type": "code",
   "execution_count": 4,
   "metadata": {},
   "outputs": [],
   "source": [
    "df_train = du.load_raw_data(\"train\")\n",
    "df_test = du.load_raw_data(\"test2\")\n",
    "y = df_train[\"label\"].values.copy()\n",
    "y = (y + 1) / 2  # 1/-1 to 1/0"
   ]
  },
  {
   "cell_type": "code",
   "execution_count": 5,
   "metadata": {},
   "outputs": [],
   "source": [
    "n_splits = 5  # 3? 5? Don't know which one will be better\n",
    "skf = StratifiedKFold(n_splits=n_splits, random_state=2018)  # for reproducibility\n",
    "split_indices = [(train_index, valid_index) for train_index, valid_index in skf.split(df_train, y)]"
   ]
  },
  {
   "cell_type": "code",
   "execution_count": 8,
   "metadata": {
    "scrolled": true
   },
   "outputs": [
    {
     "name": "stdout",
     "output_type": "stream",
     "text": [
      "[13:02:32] Finish loading 'interest1' x 'advertiserId'. △M: +149.61MB. △T: 1.0 seconds.\n"
     ]
    },
    {
     "name": "stderr",
     "output_type": "stream",
     "text": [
      "/usr/local/lib/python3.5/dist-packages/scipy/optimize/linesearch.py:312: LineSearchWarning: The line search algorithm did not converge\n",
      "  warn('The line search algorithm did not converge', LineSearchWarning)\n",
      "/usr/local/lib/python3.5/dist-packages/sklearn/utils/optimize.py:195: UserWarning: Line Search failed\n",
      "  warnings.warn('Line Search failed')\n"
     ]
    },
    {
     "name": "stdout",
     "output_type": "stream",
     "text": [
      "[13:16:18] Finish fitting LR (fold 1/5). △M: +43.29MB. △T: 13.7 minutes.\n"
     ]
    },
    {
     "name": "stderr",
     "output_type": "stream",
     "text": [
      "/usr/local/lib/python3.5/dist-packages/scipy/optimize/linesearch.py:312: LineSearchWarning: The line search algorithm did not converge\n",
      "  warn('The line search algorithm did not converge', LineSearchWarning)\n",
      "/usr/local/lib/python3.5/dist-packages/sklearn/utils/optimize.py:195: UserWarning: Line Search failed\n",
      "  warnings.warn('Line Search failed')\n"
     ]
    },
    {
     "name": "stdout",
     "output_type": "stream",
     "text": [
      "[13:33:17] Finish fitting LR (fold 2/5). △M: +16.09MB. △T: 16.9 minutes.\n",
      "[13:45:44] Finish fitting LR (fold 3/5). △M: +0B. △T: 12.4 minutes.\n",
      "[13:59:12] Finish fitting LR (fold 4/5). △M: +12.0KB. △T: 13.4 minutes.\n",
      "[14:14:20] Finish fitting LR (fold 5/5). △M: +15.86MB. △T: 15.1 minutes.\n",
      "AUC: 0.595944(+/-0.000632)\n",
      "[14:14:22] Finish loading 'interest2' x 'aid'. △M: +210.73MB. △T: 0.4 seconds.\n",
      "[14:19:33] Finish fitting LR (fold 1/5). △M: +8.0KB. △T: 5.2 minutes.\n",
      "[14:24:50] Finish fitting LR (fold 2/5). △M: +0B. △T: 5.3 minutes.\n"
     ]
    },
    {
     "name": "stderr",
     "output_type": "stream",
     "text": [
      "/usr/local/lib/python3.5/dist-packages/scipy/optimize/linesearch.py:312: LineSearchWarning: The line search algorithm did not converge\n",
      "  warn('The line search algorithm did not converge', LineSearchWarning)\n",
      "/usr/local/lib/python3.5/dist-packages/sklearn/utils/optimize.py:195: UserWarning: Line Search failed\n",
      "  warnings.warn('Line Search failed')\n"
     ]
    },
    {
     "name": "stdout",
     "output_type": "stream",
     "text": [
      "[14:31:04] Finish fitting LR (fold 3/5). △M: +8.0KB. △T: 6.2 minutes.\n",
      "[14:35:57] Finish fitting LR (fold 4/5). △M: +0B. △T: 4.8 minutes.\n",
      "[14:40:45] Finish fitting LR (fold 5/5). △M: -59.64MB. △T: 4.8 minutes.\n",
      "AUC: 0.656101(+/-0.000822)\n",
      "[14:40:46] Finish loading 'interest2' x 'creativeSize'. △M: +139.82MB. △T: 0.3 seconds.\n",
      "[14:46:49] Finish fitting LR (fold 1/5). △M: -76.0KB. △T: 6.0 minutes.\n",
      "[14:52:30] Finish fitting LR (fold 2/5). △M: -256.0KB. △T: 5.6 minutes.\n",
      "[14:58:03] Finish fitting LR (fold 3/5). △M: +0B. △T: 5.5 minutes.\n",
      "[15:04:04] Finish fitting LR (fold 4/5). △M: +0B. △T: 6.0 minutes.\n",
      "[15:13:43] Finish fitting LR (fold 5/5). △M: +0B. △T: 9.6 minutes.\n",
      "AUC: 0.634668(+/-0.000534)\n",
      "[15:13:46] Finish loading 'interest5' x 'aid'. △M: +768.37MB. △T: 1.5 seconds.\n",
      "[15:41:43] Finish fitting LR (fold 1/5). △M: +8.0KB. △T: 27.8 minutes.\n",
      "[15:58:43] Finish fitting LR (fold 2/5). △M: +0B. △T: 16.9 minutes.\n",
      "[16:12:42] Finish fitting LR (fold 3/5). △M: +0B. △T: 13.9 minutes.\n",
      "[16:26:25] Finish fitting LR (fold 4/5). △M: +0B. △T: 13.6 minutes.\n",
      "[16:39:51] Finish fitting LR (fold 5/5). △M: +0B. △T: 13.4 minutes.\n",
      "AUC: 0.616594(+/-0.000869)\n",
      "[16:39:59] Finish loading 'kw1' x 'productType'. △M: +342.13MB. △T: 6.0 seconds.\n",
      "[16:46:54] Finish fitting LR (fold 1/5). △M: +14.8MB. △T: 6.9 minutes.\n",
      "[16:54:29] Finish fitting LR (fold 2/5). △M: +14.8MB. △T: 7.5 minutes.\n",
      "[17:02:17] Finish fitting LR (fold 3/5). △M: +14.72MB. △T: 7.7 minutes.\n"
     ]
    },
    {
     "name": "stderr",
     "output_type": "stream",
     "text": [
      "/usr/local/lib/python3.5/dist-packages/scipy/optimize/linesearch.py:312: LineSearchWarning: The line search algorithm did not converge\n",
      "  warn('The line search algorithm did not converge', LineSearchWarning)\n",
      "/usr/local/lib/python3.5/dist-packages/sklearn/utils/optimize.py:195: UserWarning: Line Search failed\n",
      "  warnings.warn('Line Search failed')\n"
     ]
    },
    {
     "name": "stdout",
     "output_type": "stream",
     "text": [
      "[17:10:51] Finish fitting LR (fold 4/5). △M: +20.0KB. △T: 8.5 minutes.\n",
      "[17:17:44] Finish fitting LR (fold 5/5). △M: +0B. △T: 6.9 minutes.\n",
      "AUC: 0.557730(+/-0.000875)\n",
      "[17:17:47] Finish loading 'kw2' x 'productType'. △M: +159.62MB. △T: 1.3 seconds.\n",
      "[17:23:34] Finish fitting LR (fold 1/5). △M: +8.0KB. △T: 5.8 minutes.\n",
      "[17:29:41] Finish fitting LR (fold 2/5). △M: +0B. △T: 6.1 minutes.\n",
      "[17:36:02] Finish fitting LR (fold 3/5). △M: +0B. △T: 6.3 minutes.\n",
      "[17:42:01] Finish fitting LR (fold 4/5). △M: +0B. △T: 5.9 minutes.\n",
      "[17:46:47] Finish fitting LR (fold 5/5). △M: +0B. △T: 4.7 minutes.\n",
      "AUC: 0.664312(+/-0.000894)\n",
      "[17:46:49] Finish loading 'topic1' x 'productType'. △M: -27.17MB. △T: 0.7 seconds.\n",
      "[17:51:18] Finish fitting LR (fold 1/5). △M: +8.0KB. △T: 4.5 minutes.\n",
      "[17:56:06] Finish fitting LR (fold 2/5). △M: -256.0KB. △T: 4.8 minutes.\n",
      "[18:00:20] Finish fitting LR (fold 3/5). △M: +0B. △T: 4.2 minutes.\n",
      "[18:04:38] Finish fitting LR (fold 4/5). △M: +0B. △T: 4.3 minutes.\n",
      "[18:08:28] Finish fitting LR (fold 5/5). △M: +0B. △T: 3.8 minutes.\n",
      "AUC: 0.549853(+/-0.000626)\n",
      "[18:08:38] Finish loading 'topic2' x 'aid'. △M: +446.75MB. △T: 9.3 seconds.\n",
      "[18:18:48] Finish fitting LR (fold 1/5). △M: +20.55MB. △T: 10.1 minutes.\n",
      "[18:29:07] Finish fitting LR (fold 2/5). △M: +20.55MB. △T: 10.3 minutes.\n",
      "[18:39:32] Finish fitting LR (fold 3/5). △M: +20.55MB. △T: 10.4 minutes.\n",
      "[18:53:27] Finish fitting LR (fold 4/5). △M: +0B. △T: 13.9 minutes.\n",
      "[19:06:11] Finish fitting LR (fold 5/5). △M: +0B. △T: 12.6 minutes.\n",
      "AUC: 0.629488(+/-0.000904)\n",
      "[19:06:13] Finish loading 'topic2' x 'productType'. △M: -69.77MB. △T: 1.4 seconds.\n"
     ]
    },
    {
     "name": "stderr",
     "output_type": "stream",
     "text": [
      "/usr/local/lib/python3.5/dist-packages/scipy/optimize/linesearch.py:312: LineSearchWarning: The line search algorithm did not converge\n",
      "  warn('The line search algorithm did not converge', LineSearchWarning)\n",
      "/usr/local/lib/python3.5/dist-packages/sklearn/utils/optimize.py:195: UserWarning: Line Search failed\n",
      "  warnings.warn('Line Search failed')\n"
     ]
    },
    {
     "name": "stdout",
     "output_type": "stream",
     "text": [
      "[19:13:10] Finish fitting LR (fold 1/5). △M: -36.0KB. △T: 6.9 minutes.\n",
      "[19:17:49] Finish fitting LR (fold 2/5). △M: -512.0KB. △T: 4.6 minutes.\n",
      "[19:22:25] Finish fitting LR (fold 3/5). △M: +0B. △T: 4.6 minutes.\n",
      "[19:28:21] Finish fitting LR (fold 4/5). △M: +0B. △T: 5.9 minutes.\n",
      "[19:32:54] Finish fitting LR (fold 5/5). △M: +0B. △T: 4.5 minutes.\n",
      "AUC: 0.634358(+/-0.00062)\n",
      "[19:32:55] Finish loading 'ct' x 'aid'. △M: -61.5MB. △T: 0.2 seconds.\n",
      "[19:36:40] Finish fitting LR (fold 1/5). △M: +8.0KB. △T: 3.7 minutes.\n",
      "[19:41:09] Finish fitting LR (fold 2/5). △M: -256.0KB. △T: 4.4 minutes.\n",
      "[19:44:42] Finish fitting LR (fold 3/5). △M: +0B. △T: 3.5 minutes.\n",
      "[19:48:15] Finish fitting LR (fold 4/5). △M: +0B. △T: 3.5 minutes.\n"
     ]
    },
    {
     "name": "stderr",
     "output_type": "stream",
     "text": [
      "/usr/local/lib/python3.5/dist-packages/scipy/optimize/linesearch.py:312: LineSearchWarning: The line search algorithm did not converge\n",
      "  warn('The line search algorithm did not converge', LineSearchWarning)\n",
      "/usr/local/lib/python3.5/dist-packages/sklearn/utils/optimize.py:195: UserWarning: Line Search failed\n",
      "  warnings.warn('Line Search failed')\n"
     ]
    },
    {
     "name": "stdout",
     "output_type": "stream",
     "text": [
      "[19:53:33] Finish fitting LR (fold 5/5). △M: +0B. △T: 5.3 minutes.\n",
      "AUC: 0.557264(+/-0.000941)\n",
      "[19:53:34] Finish loading 'os' x 'aid'. △M: +0B. △T: 0.2 seconds.\n",
      "[19:55:26] Finish fitting LR (fold 1/5). △M: +55.72MB. △T: 1.8 minutes.\n",
      "[19:57:03] Finish fitting LR (fold 2/5). △M: +0B. △T: 1.6 minutes.\n",
      "[19:58:40] Finish fitting LR (fold 3/5). △M: +0B. △T: 1.6 minutes.\n",
      "[20:00:20] Finish fitting LR (fold 4/5). △M: +26.86MB. △T: 1.6 minutes.\n",
      "[20:02:06] Finish fitting LR (fold 5/5). △M: +0B. △T: 1.7 minutes.\n",
      "AUC: 0.554914(+/-0.000776)\n"
     ]
    }
   ],
   "source": [
    "df_stack_tv = pd.DataFrame()\n",
    "df_stack_test = pd.DataFrame()\n",
    "df_score = pd.DataFrame(columns=[\"featureName\", \"auc_mean\", \"auc_std\"])\n",
    "\n",
    "for j, (ad_feat_name, user_feat_name) in enumerate(pairs):\n",
    "    ### given a user feature ###\n",
    "    # load matrix as input to model\n",
    "    with pu.profiler(\"loading '{}' x '{}'\".format(user_feat_name, ad_feat_name)):\n",
    "        cross_bin_loader = dp.CrossBinaryDataManager.build_data(ad_feat_name, user_feat_name) \n",
    "        cols, X_tv,  = cross_bin_loader.load(\"train\")\n",
    "        _, X_test = cross_bin_loader.load(\"test2\")\n",
    "\n",
    "    # prepare containers\n",
    "    stack_tv = np.zeros(X_tv.shape[0])\n",
    "    stack_test = np.zeros((X_test.shape[0], n_splits))\n",
    "    scores = np.zeros(n_splits)\n",
    "\n",
    "    for i, (train_index, valid_index) in enumerate(split_indices):\n",
    "        ### given a splitting ###\n",
    "        # split train/valid sets\n",
    "        X_train, y_train = X_tv[train_index], y[train_index]\n",
    "        X_valid, y_valid = X_tv[valid_index], y[valid_index]\n",
    "\n",
    "        # fit LR\n",
    "        with pu.profiler(\"fitting LR (fold {}/{})\".format(i + 1, n_splits)):\n",
    "            lr = LogisticRegression(solver=\"newton-cg\", n_jobs=-1)  # use default setting: penalty='l2' and C=1\n",
    "            lr.fit(X_train, y_train)\n",
    "\n",
    "        # make prediction for validation set\n",
    "        proba_valid = lr.predict_proba(X_valid)[:, 1]\n",
    "        stack_tv[valid_index] = proba_valid\n",
    "\n",
    "        # make prediction for testing set\n",
    "        proba_test = lr.predict_proba(X_test)[:, 1]\n",
    "        stack_test[:, i] = proba_test\n",
    "\n",
    "        # calculate scores\n",
    "        auc = metrics.roc_auc_score(y_valid, proba_valid)\n",
    "        scores[i] = auc\n",
    "\n",
    "    # update dataframe for stacking\n",
    "    cross_name = \"{}_x_{}\".format(ad_feat_name, user_feat_name)\n",
    "    col_name = \"stackProba_{}\".format(cross_name)\n",
    "    score_row = {\"featureName\": cross_name, \n",
    "                 \"auc_mean\": scores.mean(), \"auc_std\": scores.std()}\n",
    "    df_stack_tv[col_name] = stack_tv\n",
    "    df_stack_test[col_name] = stack_test.mean(axis=1)\n",
    "    df_score.loc[df_score.shape[0]] = score_row\n",
    "    print(\"AUC: {:.6f}(+/-{:.3g})\".format(score_row[\"auc_mean\"], score_row[\"auc_std\"]))\n",
    "    \n",
    "    del X_tv\n",
    "    del X_test\n",
    "    gc.collect()"
   ]
  },
  {
   "cell_type": "code",
   "execution_count": 9,
   "metadata": {},
   "outputs": [
    {
     "name": "stdout",
     "output_type": "stream",
     "text": [
      "Training Set Prediction Shape: (8798814, 11)\n",
      "Testing Set Prediction Shape: (2265879, 11)\n"
     ]
    }
   ],
   "source": [
    "print(\"Training Set Prediction Shape: {}\".format(df_stack_tv.shape))\n",
    "print(\"Testing Set Prediction Shape: {}\".format(df_stack_test.shape))"
   ]
  },
  {
   "cell_type": "code",
   "execution_count": 10,
   "metadata": {},
   "outputs": [],
   "source": [
    "assert os.path.exists(config.DATA_DIR)\n",
    "out_folder = os.path.join(config.DATA_DIR, 'stacking/lr')\n",
    "os.makedirs(out_folder, exist_ok=True)\n",
    "\n",
    "# remember to format float number or you will find these really hard-disk consumptive\n",
    "# save prediction for training set\n",
    "out_file = 'train.crossBinary_v2.csv'\n",
    "out_path = os.path.join(out_folder, out_file)\n",
    "df_stack_tv.to_csv(out_path, float_format=\"%.6f\", index=False)\n",
    "\n",
    "# save prediction for testing set\n",
    "out_file = 'test2.crossBinary_v2.csv'\n",
    "out_path = os.path.join(out_folder, out_file)\n",
    "df_stack_test.to_csv(out_path, float_format=\"%.6f\", index=False)"
   ]
  },
  {
   "cell_type": "code",
   "execution_count": 11,
   "metadata": {},
   "outputs": [],
   "source": [
    "# save score information\n",
    "out_file = 'score.crossBinary_v2.csv'\n",
    "out_path = os.path.join(out_folder, out_file)\n",
    "df_score = df_score[[\"featureName\", \"auc_mean\", \"auc_std\"]]\n",
    "df_score = df_score.sort_values(\"auc_mean\", ascending=False)\n",
    "df_score.to_csv(out_path, float_format=\"%.6f\", index=False)"
   ]
  },
  {
   "cell_type": "code",
   "execution_count": 14,
   "metadata": {
    "scrolled": true
   },
   "outputs": [],
   "source": [
    "use_pairs = [('advertiserId', 'interest1'),\n",
    "             ('aid', 'interest2'),\n",
    "             ('creativeSize', 'interest2'), \n",
    "             # ('campaignId', 'interest4'),  # whether to keep it? \n",
    "             ('aid', 'interest5'),  \n",
    "             ('productType', 'kw1'),  # 'kw1' looks very overfitting prone, to be decide whether to keep it\n",
    "             ('productType', 'kw2'),\n",
    "             # ('productType', 'kw3'),\n",
    "             ('productType', 'topic1'),\n",
    "             ('aid', 'topic2'),\n",
    "             ('productType', 'topic2'),\n",
    "             ('aid', 'ct'),\n",
    "             ('aid', 'os')]\n",
    "use_cols = ['stackProba_{}_x_{}'.format(ad_feat_name, user_feat_name) \n",
    "            for ad_feat_name, user_feat_name in use_pairs]"
   ]
  },
  {
   "cell_type": "code",
   "execution_count": 15,
   "metadata": {},
   "outputs": [
    {
     "name": "stdout",
     "output_type": "stream",
     "text": [
      "[20:09:38] Finish getting matrix represenation. △M: +309.57MB. △T: 3.0 seconds.\n",
      "[20:09:38] Finish saving matrix to hard disk. △M: -369.21MB. △T: 0.4 seconds.\n"
     ]
    }
   ],
   "source": [
    "out_folder = config.INPUT_DIR\n",
    "out_file = \"train.stacking.lrCrossBinary_v2.pkl\"\n",
    "out_path = os.path.join(out_folder, out_file)\n",
    "os.makedirs(out_folder, exist_ok=True)\n",
    "\n",
    "with pu.profiler(\"getting matrix represenation\"):\n",
    "    X_train = df_stack_tv[use_cols].values.astype(np.float32)\n",
    "    assert X_train.shape[0] == df_train.shape[0]\n",
    "    assert X_train.shape[1] == len(use_pairs)\n",
    "\n",
    "with pu.profiler(\"saving matrix to hard disk\"):\n",
    "    col_names = ['stackProba_LR_{}_x_{}'.format(ad_feat_name, user_feat_name) for \n",
    "                 ad_feat_name, user_feat_name in use_pairs]\n",
    "    du.save_pickle((col_names, X_train), out_path)\n",
    "    del X_train\n",
    "    gc.collect()"
   ]
  },
  {
   "cell_type": "code",
   "execution_count": null,
   "metadata": {},
   "outputs": [],
   "source": [
    "out_file = \"test2.stacking.lrCrossBinary_v2.pkl\"\n",
    "out_path = os.path.join(out_folder, out_file)\n",
    "\n",
    "with pu.profiler(\"getting matrix represenation\"):\n",
    "    X_test = df_stack_test[use_cols].values.astype(np.float32)\n",
    "    assert X_test.shape[0] == df_test.shape[0]\n",
    "    assert X_test.shape[1] == len(use_pairs)\n",
    "\n",
    "with pu.profiler(\"saving matrix to hard disk\"):\n",
    "    # col_names = ['stackProba_LR_{}'.format(feat_name) for feat_name in use_feats]\n",
    "    du.save_pickle((col_names, X_test), out_path)\n",
    "    del X_test\n",
    "    gc.collect()"
   ]
  },
  {
   "cell_type": "code",
   "execution_count": null,
   "metadata": {},
   "outputs": [],
   "source": []
  }
 ],
 "metadata": {
  "kernelspec": {
   "display_name": "Python 3",
   "language": "python",
   "name": "python3"
  },
  "language_info": {
   "codemirror_mode": {
    "name": "ipython",
    "version": 3
   },
   "file_extension": ".py",
   "mimetype": "text/x-python",
   "name": "python",
   "nbconvert_exporter": "python",
   "pygments_lexer": "ipython3",
   "version": "3.5.2"
  }
 },
 "nbformat": 4,
 "nbformat_minor": 2
}
