{
 "cells": [
  {
   "cell_type": "code",
   "execution_count": 1,
   "metadata": {},
   "outputs": [],
   "source": [
    "from sklearn.model_selection import StratifiedKFold\n",
    "from sklearn import metrics\n",
    "import lightgbm as lgb\n",
    "import scipy.sparse as sparse\n",
    "import pandas as pd\n",
    "import numpy as np\n",
    "import tqdm\n",
    "import gc\n",
    "import os\n",
    "import sys\n",
    "sys.path.append('../code/utils')\n",
    "sys.path.append('../code/pipeline')\n",
    "sys.path.append('../code')\n",
    "import data_utils as du\n",
    "import perf_utils as pu\n",
    "import config"
   ]
  },
  {
   "cell_type": "code",
   "execution_count": 2,
   "metadata": {},
   "outputs": [
    {
     "name": "stdout",
     "output_type": "stream",
     "text": [
      "Training data size: 8798814\n",
      "Testing data size: 2265879\n"
     ]
    }
   ],
   "source": [
    "df_train = du.load_raw_data(\"train\")\n",
    "df_test = du.load_raw_data(\"test2\")\n",
    "df_ad = du.load_raw_data(\"ad\")\n",
    "\n",
    "train_size = df_train.shape[0]\n",
    "test_size = df_test.shape[0]\n",
    "print(\"Training data size: {}\".format(train_size))\n",
    "print(\"Testing data size: {}\".format(test_size))\n",
    "\n",
    "df_all = pd.concat([df_train, df_test], ignore_index=True)"
   ]
  },
  {
   "cell_type": "code",
   "execution_count": 3,
   "metadata": {
    "scrolled": true
   },
   "outputs": [],
   "source": [
    "user_one_feat_names = config.USER_SINGLE_FEAT_NAMES\n",
    "user_multi_feat_names = config.USER_MULTI_FEAT_NAMES\n",
    "user_feat_names = config.USER_FEAT_NAMES\n",
    "ad_feat_names = config.AD_FEAT_NAMES\n",
    "ad_feat_names.remove(\"creativeId\")"
   ]
  },
  {
   "cell_type": "code",
   "execution_count": 6,
   "metadata": {},
   "outputs": [
    {
     "name": "stdout",
     "output_type": "stream",
     "text": [
      "Combined Matrix Shape: (11064693, 419702)\n",
      "[04:33:23] Finish splitting train and test data. △M: -3.19GB. △T: 35.6 seconds.\n",
      "Train Matrix Shape: (8798814, 419702)\n",
      "Test Matrix Shape: (2265879, 419702)\n"
     ]
    }
   ],
   "source": [
    "with pu.profiler(\"loading and joining user and ad data\"):\n",
    "    X_all, feat_names = du.quick_join(ad_user=df_all, \n",
    "                                      user_feat_names=user_feat_names,\n",
    "                                      ad_feat_names=ad_feat_names)\n",
    "    assert X_all.shape[0] == df_all.shape[0]\n",
    "    gc.collect()\n",
    "print(\"Combined Matrix Shape: {}\".format(X_all.shape))\n",
    "\n",
    "with pu.profiler(\"splitting train and test data\"):\n",
    "    X_all = sparse.csr_matrix(X_all)  # COO to CSR\n",
    "    X_tv = X_all[:train_size, :]\n",
    "    X_test = X_all[train_size:, :]\n",
    "    assert X_tv.shape[0] == df_train.shape[0]\n",
    "    assert X_test.shape[0] == df_test.shape[0]\n",
    "    del X_all\n",
    "    gc.collect()\n",
    "print(\"Train Matrix Shape: {}\".format(X_tv.shape))\n",
    "print(\"Test Matrix Shape: {}\".format(X_test.shape))"
   ]
  },
  {
   "cell_type": "code",
   "execution_count": 7,
   "metadata": {},
   "outputs": [],
   "source": [
    "save_folder = config.INPUT_DIR\n",
    "os.makedirs(save_folder, exist_ok=True)\n",
    "\n",
    "save_file = \"train.raw.binary.pkl\"\n",
    "save_path = os.path.join(save_folder, save_file)\n",
    "du.save_pickle((feat_names, X_tv), save_path)\n",
    "\n",
    "save_file = \"test2.raw.binary.pkl\"\n",
    "save_path = os.path.join(save_folder, save_file)\n",
    "du.save_pickle((feat_names, X_test), save_path)"
   ]
  },
  {
   "cell_type": "code",
   "execution_count": null,
   "metadata": {},
   "outputs": [],
   "source": []
  }
 ],
 "metadata": {
  "kernelspec": {
   "display_name": "Python 3",
   "language": "python",
   "name": "python3"
  },
  "language_info": {
   "codemirror_mode": {
    "name": "ipython",
    "version": 3
   },
   "file_extension": ".py",
   "mimetype": "text/x-python",
   "name": "python",
   "nbconvert_exporter": "python",
   "pygments_lexer": "ipython3",
   "version": "3.5.2"
  }
 },
 "nbformat": 4,
 "nbformat_minor": 2
}
