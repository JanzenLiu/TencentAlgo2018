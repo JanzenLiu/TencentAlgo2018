{
 "cells": [
  {
   "cell_type": "code",
   "execution_count": 1,
   "metadata": {},
   "outputs": [],
   "source": [
    "from sklearn.linear_model import LogisticRegression\n",
    "from sklearn.model_selection import StratifiedKFold\n",
    "from sklearn import metrics\n",
    "import pandas as pd\n",
    "import numpy as np\n",
    "import time\n",
    "import gc\n",
    "import os\n",
    "import sys\n",
    "sys.path.append('../code/pipeline/')\n",
    "sys.path.append('../code/utils/')\n",
    "sys.path.append('../code/')\n",
    "import data_pipeline as dp\n",
    "import data_utils as du\n",
    "import perf_utils as pu\n",
    "import eval_utils as eu\n",
    "import io_utils as iu\n",
    "import config"
   ]
  },
  {
   "cell_type": "code",
   "execution_count": 2,
   "metadata": {},
   "outputs": [],
   "source": [
    "# ================\n",
    "# Data Preparation\n",
    "# ================\n",
    "# defined feature pairs to load cross product transformation\n",
    "pairs = [(\"LBS\", \"carrier\"), (\"LBS\", \"house\"), (\"LBS\", \"gender\")]\n",
    "\n",
    "df_train = du.load_raw_data(\"train\")\n",
    "df_test = du.load_raw_data(\"test2\")\n",
    "y = df_train[\"label\"].values.copy()\n",
    "y = (y + 1) / 2  # 1/-1 to 1/0\n",
    "\n",
    "n_splits = 5  # 3? 5? Don't know which one will be better\n",
    "skf = StratifiedKFold(n_splits=n_splits, random_state=2018)  # for reproducibility\n",
    "split_indices = [(train_index, valid_index) for train_index, valid_index in skf.split(df_train, y)]"
   ]
  },
  {
   "cell_type": "code",
   "execution_count": 3,
   "metadata": {
    "scrolled": false
   },
   "outputs": [
    {
     "name": "stdout",
     "output_type": "stream",
     "text": [
      "[12:35:45] Finish loading 'carrier' x 'LBS'. △M: +93.26MB. △T: 0.1 seconds.\n",
      "[12:36:53] Finish fitting LR (fold 1/5). △M: -3.78MB. △T: 1.1 minutes.\n",
      "[12:38:09] Finish fitting LR (fold 2/5). △M: +26.98MB. △T: 1.3 minutes.\n",
      "[12:39:19] Finish fitting LR (fold 3/5). △M: +0B. △T: 1.1 minutes.\n",
      "[12:40:36] Finish fitting LR (fold 4/5). △M: -4.09MB. △T: 1.3 minutes.\n",
      "[12:41:57] Finish fitting LR (fold 5/5). △M: +15.93MB. △T: 1.3 minutes.\n",
      "AUC: 0.533698(+/-0.00109)\n",
      "[12:41:59] Finish loading 'house' x 'LBS'. △M: +33.57MB. △T: 0.1 seconds.\n",
      "[12:43:18] Finish fitting LR (fold 1/5). △M: +26.87MB. △T: 1.3 minutes.\n",
      "[12:44:57] Finish fitting LR (fold 2/5). △M: +16.0KB. △T: 1.6 minutes.\n",
      "[12:46:16] Finish fitting LR (fold 3/5). △M: +0B. △T: 1.3 minutes.\n",
      "[12:47:32] Finish fitting LR (fold 4/5). △M: +0B. △T: 1.2 minutes.\n",
      "[12:48:47] Finish fitting LR (fold 5/5). △M: +0B. △T: 1.2 minutes.\n",
      "AUC: 0.529398(+/-0.00126)\n",
      "[12:48:48] Finish loading 'gender' x 'LBS'. △M: +0B. △T: 0.1 seconds.\n",
      "[12:50:09] Finish fitting LR (fold 1/5). △M: +8.0KB. △T: 1.3 minutes.\n",
      "[12:51:32] Finish fitting LR (fold 2/5). △M: +16.0KB. △T: 1.4 minutes.\n",
      "[12:52:52] Finish fitting LR (fold 3/5). △M: +0B. △T: 1.3 minutes.\n",
      "[12:54:11] Finish fitting LR (fold 4/5). △M: +0B. △T: 1.3 minutes.\n",
      "[12:55:26] Finish fitting LR (fold 5/5). △M: +0B. △T: 1.2 minutes.\n",
      "AUC: 0.532342(+/-0.00107)\n"
     ]
    }
   ],
   "source": [
    "df_stack_tv = pd.DataFrame()\n",
    "df_stack_test = pd.DataFrame()\n",
    "df_score = pd.DataFrame(columns=[\"featureName\", \"auc_mean\", \"auc_std\"])\n",
    "cross_bin_folder = os.path.join(config.PRELIM_NLP_COUNT_DATA_DIR, \"user_cross/\")\n",
    "\n",
    "for j, (ad_feat_name, user_feat_name) in enumerate(pairs):\n",
    "    ### given a user feature ###\n",
    "    # load matrix as input to model\n",
    "    with pu.profiler(\"loading '{}' x '{}'\".format(user_feat_name, ad_feat_name)):\n",
    "        data_manager = dp.DataManager(cross_bin_folder)\n",
    "        cross_bin_loader = data_manager.build_data(\"['{}'x'{}']\".format(ad_feat_name, user_feat_name), \n",
    "                                                   \"binary\")\n",
    "        cols, X_tv,  = cross_bin_loader.load(\"train\")\n",
    "        _, X_test = cross_bin_loader.load(\"test2\")\n",
    "\n",
    "    # prepare containers\n",
    "    stack_tv = np.zeros(X_tv.shape[0])\n",
    "    stack_test = np.zeros((X_test.shape[0], n_splits))\n",
    "    scores = np.zeros(n_splits)\n",
    "\n",
    "    for i, (train_index, valid_index) in enumerate(split_indices):\n",
    "        ### given a splitting ###\n",
    "        # split train/valid sets\n",
    "        X_train, y_train = X_tv[train_index], y[train_index]\n",
    "        X_valid, y_valid = X_tv[valid_index], y[valid_index]\n",
    "\n",
    "        # fit LR\n",
    "        with pu.profiler(\"fitting LR (fold {}/{})\".format(i + 1, n_splits)):\n",
    "            lr = LogisticRegression(solver=\"newton-cg\", n_jobs=-1)  # use default setting: penalty='l2' and C=1\n",
    "            lr.fit(X_train, y_train)\n",
    "\n",
    "        # make prediction for validation set\n",
    "        proba_valid = lr.predict_proba(X_valid)[:, 1]\n",
    "        stack_tv[valid_index] = proba_valid\n",
    "\n",
    "        # make prediction for testing set\n",
    "        proba_test = lr.predict_proba(X_test)[:, 1]\n",
    "        stack_test[:, i] = proba_test\n",
    "\n",
    "        # calculate scores\n",
    "        auc = metrics.roc_auc_score(y_valid, proba_valid)\n",
    "        scores[i] = auc\n",
    "\n",
    "    # update dataframe for stacking\n",
    "    cross_name = \"{}_x_{}\".format(ad_feat_name, user_feat_name)\n",
    "    col_name = \"stackProba_{}\".format(cross_name)\n",
    "    score_row = {\"featureName\": cross_name, \n",
    "                 \"auc_mean\": scores.mean(), \"auc_std\": scores.std()}\n",
    "    df_stack_tv[col_name] = stack_tv\n",
    "    df_stack_test[col_name] = stack_test.mean(axis=1)\n",
    "    df_score.loc[df_score.shape[0]] = score_row\n",
    "    print(\"AUC: {:.6f}(+/-{:.3g})\".format(score_row[\"auc_mean\"], score_row[\"auc_std\"]))\n",
    "    \n",
    "    del X_tv\n",
    "    del X_test\n",
    "    gc.collect()"
   ]
  },
  {
   "cell_type": "code",
   "execution_count": 4,
   "metadata": {},
   "outputs": [
    {
     "name": "stdout",
     "output_type": "stream",
     "text": [
      "Training Set Prediction Shape: (8798814, 3)\n",
      "Testing Set Prediction Shape: (2265879, 3)\n"
     ]
    }
   ],
   "source": [
    "print(\"Training Set Prediction Shape: {}\".format(df_stack_tv.shape))\n",
    "print(\"Testing Set Prediction Shape: {}\".format(df_stack_test.shape))"
   ]
  },
  {
   "cell_type": "code",
   "execution_count": null,
   "metadata": {},
   "outputs": [],
   "source": [
    "assert os.path.exists(config.DATA_DIR)\n",
    "out_folder = os.path.join(config.DATA_DIR, 'stacking/lr')\n",
    "os.makedirs(out_folder, exist_ok=True)\n",
    "\n",
    "# remember to format float number or you will find these really hard-disk consumptive\n",
    "# save prediction for training set\n",
    "out_file = 'train.crossBinary_v3.csv'\n",
    "out_path = os.path.join(out_folder, out_file)\n",
    "df_stack_tv.to_csv(out_path, float_format=\"%.6f\", index=False)\n",
    "\n",
    "# save prediction for testing set\n",
    "out_file = 'test2.crossBinary_v3.csv'\n",
    "out_path = os.path.join(out_folder, out_file)\n",
    "df_stack_test.to_csv(out_path, float_format=\"%.6f\", index=False)"
   ]
  },
  {
   "cell_type": "code",
   "execution_count": null,
   "metadata": {},
   "outputs": [],
   "source": [
    "# save score information\n",
    "out_file = 'score.crossBinary_v3.csv'\n",
    "out_path = os.path.join(out_folder, out_file)\n",
    "df_score = df_score[[\"featureName\", \"auc_mean\", \"auc_std\"]]\n",
    "df_score = df_score.sort_values(\"auc_mean\", ascending=False)\n",
    "df_score.to_csv(out_path, float_format=\"%.6f\", index=False)"
   ]
  },
  {
   "cell_type": "code",
   "execution_count": 8,
   "metadata": {
    "scrolled": true
   },
   "outputs": [],
   "source": [
    "use_pairs = [(\"LBS\", \"carrier\"), (\"LBS\", \"house\"), (\"LBS\", \"gender\")]\n",
    "use_cols = ['stackProba_{}_x_{}'.format(ad_feat_name, user_feat_name) \n",
    "            for ad_feat_name, user_feat_name in use_pairs]"
   ]
  },
  {
   "cell_type": "code",
   "execution_count": 18,
   "metadata": {},
   "outputs": [
    {
     "name": "stdout",
     "output_type": "stream",
     "text": [
      "[09:04:52] Finish getting matrix represenation. △M: +0B. △T: 1.1 seconds.\n",
      "[09:04:54] Finish saving matrix to hard disk. △M: -402.57MB. △T: 1.3 seconds.\n"
     ]
    }
   ],
   "source": [
    "out_folder = config.INPUT_DIR\n",
    "out_file = \"train.stacking.lrCrossBinary_v3.pkl\"\n",
    "out_path = os.path.join(out_folder, out_file)\n",
    "os.makedirs(out_folder, exist_ok=True)\n",
    "\n",
    "with pu.profiler(\"getting matrix represenation\"):\n",
    "    X_train = df_stack_tv[use_cols].values.astype(np.float32)\n",
    "    assert X_train.shape[0] == df_train.shape[0]\n",
    "    assert X_train.shape[1] == len(use_pairs)\n",
    "\n",
    "with pu.profiler(\"saving matrix to hard disk\"):\n",
    "    col_names = ['stackProba_LR_{}_x_{}'.format(ad_feat_name, user_feat_name) for \n",
    "                 ad_feat_name, user_feat_name in use_pairs]\n",
    "    du.save_pickle((col_names, X_train), out_path)\n",
    "    del X_train\n",
    "    gc.collect()"
   ]
  },
  {
   "cell_type": "code",
   "execution_count": 19,
   "metadata": {},
   "outputs": [
    {
     "name": "stdout",
     "output_type": "stream",
     "text": [
      "[09:04:59] Finish getting matrix represenation. △M: +164.34MB. △T: 0.5 seconds.\n",
      "[09:05:00] Finish saving matrix to hard disk. △M: +0B. △T: 0.2 seconds.\n"
     ]
    }
   ],
   "source": [
    "out_file = \"test2.stacking.lrCrossBinary_v3.pkl\"\n",
    "out_path = os.path.join(out_folder, out_file)\n",
    "\n",
    "with pu.profiler(\"getting matrix represenation\"):\n",
    "    X_test = df_stack_test[use_cols].values.astype(np.float32)\n",
    "    assert X_test.shape[0] == df_test.shape[0]\n",
    "    assert X_test.shape[1] == len(use_pairs)\n",
    "\n",
    "with pu.profiler(\"saving matrix to hard disk\"):\n",
    "    # col_names = ['stackProba_LR_{}'.format(feat_name) for feat_name in use_feats]\n",
    "    du.save_pickle((col_names, X_test), out_path)\n",
    "    del X_test\n",
    "    gc.collect()"
   ]
  },
  {
   "cell_type": "code",
   "execution_count": null,
   "metadata": {},
   "outputs": [],
   "source": []
  }
 ],
 "metadata": {
  "kernelspec": {
   "display_name": "Python 3",
   "language": "python",
   "name": "python3"
  },
  "language_info": {
   "codemirror_mode": {
    "name": "ipython",
    "version": 3
   },
   "file_extension": ".py",
   "mimetype": "text/x-python",
   "name": "python",
   "nbconvert_exporter": "python",
   "pygments_lexer": "ipython3",
   "version": "3.5.2"
  }
 },
 "nbformat": 4,
 "nbformat_minor": 2
}
