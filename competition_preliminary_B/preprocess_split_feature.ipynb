{
 "cells": [
  {
   "cell_type": "code",
   "execution_count": 1,
   "metadata": {},
   "outputs": [],
   "source": [
    "from contextlib import contextmanager  # for context management\n",
    "from tqdm import tqdm\n",
    "import pandas as pd\n",
    "import numpy as np\n",
    "import os\n",
    "import sys\n",
    "sys.path.append('../code/utils')\n",
    "sys.path.append('../code/pipeline')\n",
    "sys.path.append('../code')\n",
    "import data_utils as du\n",
    "import perf_utils as pu\n",
    "import io_utils as iu\n",
    "import config"
   ]
  },
  {
   "cell_type": "code",
   "execution_count": 2,
   "metadata": {},
   "outputs": [
    {
     "name": "stderr",
     "output_type": "stream",
     "text": [
      "loading lines:   0%|          | 49019/11420039 [00:00<00:23, 490125.03it/s]"
     ]
    },
    {
     "name": "stdout",
     "output_type": "stream",
     "text": [
      "Line Counts: 11420039\n"
     ]
    },
    {
     "name": "stderr",
     "output_type": "stream",
     "text": [
      "loading lines: 100%|██████████| 11420039/11420039 [00:20<00:00, 544711.03it/s]\n"
     ]
    }
   ],
   "source": [
    "# ================\n",
    "# set up constants\n",
    "# ================\n",
    "# DATA_DIR = '../data/raw/preliminary_contest_data/'\n",
    "DATA_DIR = '/mnt/d/DataShortcut/raw/preliminary_contest_data/'\n",
    "USER_DATA_FILE = 'userFeature.data'\n",
    "USER_DATA_PATH = os.path.join(DATA_DIR, USER_DATA_FILE)\n",
    "line_counts = iu.count_file_lines(USER_DATA_PATH)  # 11420039\n",
    "print(\"Line Counts: {}\".format(line_counts))\n",
    "\n",
    "# ==========\n",
    "# load lines\n",
    "# ==========\n",
    "lines = []\n",
    "with open(USER_DATA_PATH) as f:\n",
    "    for i in tqdm(range(line_counts), desc=\"loading lines\"):\n",
    "        line = f.readline().strip()\n",
    "        lines.append(line)\n",
    "assert line_counts == i + 1\n",
    "\n",
    "# ============\n",
    "# set up paths\n",
    "# ============\n",
    "out_folder = '../data/split/preliminary_contest_data/byUserFeatureName/'\n",
    "os.makedirs(out_folder, exist_ok=True)  # create directory if not existed\n",
    "feat_names = config.USER_FEAT_NAMES\n",
    "feat_to_filenames = {feat_name: os.path.join(out_folder, \"userFeature.[featureName='{}'].data\".format(feat_name)) \n",
    "                     for feat_name in feat_names}"
   ]
  },
  {
   "cell_type": "code",
   "execution_count": 3,
   "metadata": {},
   "outputs": [
    {
     "name": "stderr",
     "output_type": "stream",
     "text": [
      "100%|██████████| 114201/114201 [08:36<00:00, 221.12it/s]\n"
     ]
    },
    {
     "name": "stdout",
     "output_type": "stream",
     "text": [
      "done.\n"
     ]
    }
   ],
   "source": [
    "batch_size = 100\n",
    "batch_counts = int(np.ceil(line_counts / batch_size))\n",
    "\n",
    "with iu.open_files(feat_to_filenames) as feat_fs:\n",
    "    fwg = iu.FileWriterGroup(feat_fs)\n",
    "    for name, writter in fwg.writers.items():\n",
    "        writter.write_buffer(\"uid|{}\\n\".format(name))  # write header\n",
    "        writter.flush()\n",
    "    for batch_i in tqdm(range(batch_counts)):\n",
    "        line_batch = lines[batch_i * batch_size:(batch_i + 1) * batch_size]\n",
    "        try:\n",
    "            fwg.clear_buffers()\n",
    "            for line in line_batch:\n",
    "                feats = line.split(\"|\")\n",
    "                uid = feats[0].split(\" \")[1]\n",
    "                fwg.write_buffers(\"{}|\".format(uid))\n",
    "                for feat in feats[1:]:\n",
    "                    key, val = feat.split(\" \", maxsplit=1)  # only do split for once; e.g. key: \"interest1\", val: \"xxx yyy ...\"\n",
    "                    fwg.write_buffer(key, val)\n",
    "                fwg.write_buffers(\"\\n\")\n",
    "        except Exception as e:\n",
    "            print(e.args)\n",
    "            pass\n",
    "        fwg.flush()\n",
    "print(\"done.\")"
   ]
  },
  {
   "cell_type": "code",
   "execution_count": 4,
   "metadata": {},
   "outputs": [],
   "source": [
    "line_count_dict = {feat_name: iu.count_file_lines(filepath) for feat_name, filepath in feat_to_filenames.items()}\n",
    "for feat_name, lc in line_count_dict.items():\n",
    "    assert lc == line_counts or lc == line_counts + 1  # there is one empty line at the end"
   ]
  },
  {
   "cell_type": "code",
   "execution_count": null,
   "metadata": {},
   "outputs": [],
   "source": []
  }
 ],
 "metadata": {
  "kernelspec": {
   "display_name": "Python 3",
   "language": "python",
   "name": "python3"
  },
  "language_info": {
   "codemirror_mode": {
    "name": "ipython",
    "version": 3
   },
   "file_extension": ".py",
   "mimetype": "text/x-python",
   "name": "python",
   "nbconvert_exporter": "python",
   "pygments_lexer": "ipython3",
   "version": "3.5.2"
  }
 },
 "nbformat": 4,
 "nbformat_minor": 2
}
