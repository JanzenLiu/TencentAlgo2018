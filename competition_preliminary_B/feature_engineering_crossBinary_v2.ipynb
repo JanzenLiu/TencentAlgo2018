{
 "cells": [
  {
   "cell_type": "code",
   "execution_count": 1,
   "metadata": {},
   "outputs": [],
   "source": [
    "import scipy.sparse as sparse\n",
    "import pandas as pd\n",
    "import numpy as np\n",
    "import tqdm\n",
    "import gc\n",
    "import os\n",
    "import sys\n",
    "sys.path.append('../../../code/utils')\n",
    "sys.path.append('../../../code/pipeline')\n",
    "sys.path.append('../../../code')\n",
    "import data_utils as du\n",
    "import perf_utils as pu\n",
    "import data_jointer as dj\n",
    "import config"
   ]
  },
  {
   "cell_type": "code",
   "execution_count": 2,
   "metadata": {},
   "outputs": [],
   "source": [
    "def dict_to_list(dic):\n",
    "    \"\"\"Given a dictionary mapping something to integers, return list of keys sorted by their values\"\"\"\n",
    "    return [k for k, v in sorted(dic.items(), key=lambda x: x[1])]"
   ]
  },
  {
   "cell_type": "code",
   "execution_count": 3,
   "metadata": {},
   "outputs": [],
   "source": [
    "def cross_vectorize(matrix, selectors, col_names, prefixes=None):\n",
    "    \"\"\"Construct cross binary matrix from a matrix, a selector array (most likely the ad feature values in this case)\"\"\"\n",
    "    assert matrix.shape[0] == selectors.shape[0]\n",
    "    num_rows = matrix.shape[0]\n",
    "    num_cols = matrix.shape[1]  # get count of columns for quick crossing\n",
    "    \n",
    "    # preparation for selectors\n",
    "    selectors = pd.Series(selectors) if not isinstance(selectors, pd.Series) else selectors\n",
    "    unique_selectors = np.unique(selectors.values)  # get unique selector values for crossing\n",
    "    selector_to_offset = {selector: i * num_cols for i, selector in enumerate(unique_selectors)}  # map unique selector to offset\n",
    "    \n",
    "    # preparation for each row\n",
    "    row_lengths = np.squeeze(np.asarray(matrix.sum(axis=1)))  # get number of non-zeros in each row for quick crossing\n",
    "    row_offsets = selectors.map(selector_to_offset).values  # get offset of each row in the cross matrix\n",
    "    offsets = np.repeat(row_offsets, row_lengths)  # get offsets for matrix.indices for quick crossing\n",
    "    \n",
    "    # construct cross matrix\n",
    "    cross_indices = offsets + matrix.indices  # calculate the indices for the cross matrix\n",
    "    cross_matrix = sparse.csr_matrix((matrix.data, cross_indices, matrix.indptr), \n",
    "                                     shape=(num_rows, num_cols * len(unique_selectors)),\n",
    "                                     dtype=np.int8)  # construct the cross matrix\n",
    "    \n",
    "    # get column names for the cross matrix\n",
    "    cross_col_names = []\n",
    "    if prefixes is None:\n",
    "        for selector in unique_selectors:\n",
    "            cross_col_names += [\"{}x{}\".format(selector, col_name) for col_name in col_names]\n",
    "    else:\n",
    "        prefix1, prefix2 = prefixes  # \n",
    "        for selector in unique_selectors:\n",
    "            cross_col_names += [\"{}_{}_x_{}_{}\".format(prefix1, selector, prefix2, col_name) \n",
    "                                for col_name in col_names]\n",
    "            \n",
    "    assert cross_matrix.shape[1] == len(cross_col_names)\n",
    "    return cross_matrix, cross_col_names"
   ]
  },
  {
   "cell_type": "code",
   "execution_count": 4,
   "metadata": {},
   "outputs": [],
   "source": [
    "crossbin_folder = os.path.join(config.PRELIM_NLP_COUNT_DATA_DIR, \"simple_cross/byUserFeatureName\")\n",
    "\n",
    "def cross_binary_path(ad_feat_name, user_feat_name, prefix=\"train\", create=True):\n",
    "    folder = os.path.join(crossbin_folder, \"[featureName='{}']\".format(user_feat_name))\n",
    "    file = \"{}.[adFeatureName='{}'].binary.pkl\".format(prefix, ad_feat_name)\n",
    "    path = os.path.join(folder, file)\n",
    "    if create:\n",
    "        os.makedirs(folder, exist_ok=True)\n",
    "    return path"
   ]
  },
  {
   "cell_type": "code",
   "execution_count": 5,
   "metadata": {},
   "outputs": [],
   "source": [
    "pairs = [('advertiserId', 'interest1'),\n",
    "         ('aid', 'interest2'),\n",
    "         ('creativeSize', 'interest2'), \n",
    "         ('campaignId', 'interest4'),  # whether to keep it? \n",
    "         ('aid', 'interest5'),  \n",
    "         ('productType', 'kw1'),  # 'kw1' looks very overfitting prone, to be decide whether to keep it\n",
    "         ('productType', 'kw2'),\n",
    "         ('productType', 'kw3'),\n",
    "         ('productType', 'topic1'),\n",
    "         ('aid', 'topic2'),\n",
    "         ('productType', 'topic2'),\n",
    "         ('aid', 'ct'),\n",
    "         ('aid', 'os')]"
   ]
  },
  {
   "cell_type": "code",
   "execution_count": 6,
   "metadata": {},
   "outputs": [],
   "source": [
    "ufeat_to_afeats = {}\n",
    "for afeat, ufeat in pairs:\n",
    "    if ufeat in ufeat_to_afeats:\n",
    "        ufeat_to_afeats[ufeat] += [afeat]\n",
    "    else:\n",
    "        ufeat_to_afeats[ufeat] = [afeat]"
   ]
  },
  {
   "cell_type": "code",
   "execution_count": 7,
   "metadata": {},
   "outputs": [
    {
     "name": "stdout",
     "output_type": "stream",
     "text": [
      "Train Size: 8798814\n",
      "Test Size: 2265879\n",
      "Concatenated Data Shape: (11064693, 3)\n"
     ]
    }
   ],
   "source": [
    "df_train = du.load_raw_data(\"train\")\n",
    "df_test = du.load_raw_data(\"test2\")\n",
    "df_ad = du.load_raw_data(\"ad\")\n",
    "train_size = df_train.shape[0]\n",
    "test_size = df_test.shape[0]\n",
    "\n",
    "df_all = pd.concat([df_train, df_test], ignore_index=True)  # concatenate DataFrames and then split at the end; to speed up\n",
    "print(\"Train Size: {}\".format(train_size))\n",
    "print(\"Test Size: {}\".format(test_size))\n",
    "print(\"Concatenated Data Shape: {}\".format(df_all.shape))"
   ]
  },
  {
   "cell_type": "code",
   "execution_count": 8,
   "metadata": {},
   "outputs": [
    {
     "name": "stdout",
     "output_type": "stream",
     "text": [
      "[12:23:52] Finish joining train+test DataFrame and ad DataFrame. △M: +675.6MB. △T: 2.2 seconds.\n"
     ]
    }
   ],
   "source": [
    "# define jointer\n",
    "ad_jointer = dj.PandasPandasJointer(\"aid\")\n",
    "user_jointer = dj.PandasMatrixJointer(\"uid\")\n",
    "\n",
    "with pu.profiler(\"joining train+test DataFrame and ad DataFrame\"):\n",
    "    df_all = ad_jointer.join(df1=df_all, df2=df_ad) "
   ]
  },
  {
   "cell_type": "code",
   "execution_count": 9,
   "metadata": {},
   "outputs": [
    {
     "name": "stdout",
     "output_type": "stream",
     "text": [
      "[12:24:26] Finish vectorizing and saving 'topic1'x'productType' binary. △M: -328.39MB. △T: 4.3 seconds.\n",
      "[12:25:03] Finish vectorizing and saving 'interest5'x'aid' binary. △M: -310.04MB. △T: 9.2 seconds.\n",
      "[12:25:31] Finish vectorizing and saving 'kw3'x'productType' binary. △M: -306.42MB. △T: 2.5 seconds.\n",
      "[12:25:59] Finish vectorizing and saving 'os'x'aid' binary. △M: -307.52MB. △T: 3.0 seconds.\n",
      "[12:26:34] Finish vectorizing and saving 'interest1'x'advertiserId' binary. △M: -312.22MB. △T: 8.4 seconds.\n",
      "[12:27:21] Finish vectorizing and saving 'topic2'x'aid' binary. △M: -382.83MB. △T: 20.1 seconds.\n",
      "[12:27:25] Finish vectorizing and saving 'topic2'x'productType' binary. △M: +22.96MB. △T: 4.0 seconds.\n",
      "[12:27:54] Finish vectorizing and saving 'interest4'x'campaignId' binary. △M: -308.17MB. △T: 3.2 seconds.\n",
      "[12:28:37] Finish vectorizing and saving 'kw1'x'productType' binary. △M: -402.97MB. △T: 13.8 seconds.\n",
      "[12:29:12] Finish vectorizing and saving 'kw2'x'productType' binary. △M: -334.13MB. △T: 5.7 seconds.\n",
      "[12:29:44] Finish vectorizing and saving 'interest2'x'aid' binary. △M: -325.73MB. △T: 4.7 seconds.\n",
      "[12:29:48] Finish vectorizing and saving 'interest2'x'creativeSize' binary. △M: +4.0KB. △T: 3.6 seconds.\n",
      "[12:30:18] Finish vectorizing and saving 'ct'x'aid' binary. △M: -300.79MB. △T: 3.6 seconds.\n"
     ]
    }
   ],
   "source": [
    "for ufeat, afeats in ufeat_to_afeats.items():\n",
    "    ### given a user feature ###\n",
    "    # load and join user matrix\n",
    "    row_uids, (word_to_index, user_matrix) = du.load_user_cnt(ufeat)\n",
    "    col_names = dict_to_list(word_to_index)\n",
    "    matrix = user_jointer.join(df=df_all, matrix=user_matrix, row_names=row_uids)\n",
    "    \n",
    "    for afeat in afeats:\n",
    "        ### given a ad feature ###\n",
    "        # construct cross matrix\n",
    "        with pu.profiler(\"vectorizing and saving '{}'x'{}' binary\".format(ufeat, afeat)):\n",
    "            cross_matrix, cross_col_names = cross_vectorize(matrix, df_all[afeat], col_names, [afeat, ufeat])\n",
    "            \n",
    "             # save train matrix\n",
    "            out_path = cross_binary_path(afeat, ufeat, prefix=\"train\")\n",
    "            cross_matrix_train = cross_matrix[:train_size, :]\n",
    "            du.save_pickle((cross_col_names, cross_matrix_train), out_path)\n",
    "            del cross_matrix_train\n",
    "            gc.collect()\n",
    "\n",
    "            # save test matrix\n",
    "            out_path = cross_binary_path(afeat, ufeat, prefix=\"test2\")\n",
    "            cross_matrix_test = cross_matrix[train_size:, :]\n",
    "            du.save_pickle((cross_col_names, cross_matrix_test), out_path)\n",
    "            del cross_matrix_test\n",
    "            gc.collect()\n",
    "\n",
    "            # release memory and collect garbage\n",
    "            del cross_matrix\n",
    "            del cross_col_names\n",
    "            gc.collect()\n",
    "            \n",
    "    # release memory and collect garbage\n",
    "    del user_matrix\n",
    "    del matrix\n",
    "    del col_names\n",
    "    del word_to_index\n",
    "    gc.collect()"
   ]
  },
  {
   "cell_type": "code",
   "execution_count": null,
   "metadata": {},
   "outputs": [],
   "source": []
  }
 ],
 "metadata": {
  "kernelspec": {
   "display_name": "Python 3",
   "language": "python",
   "name": "python3"
  },
  "language_info": {
   "codemirror_mode": {
    "name": "ipython",
    "version": 3
   },
   "file_extension": ".py",
   "mimetype": "text/x-python",
   "name": "python",
   "nbconvert_exporter": "python",
   "pygments_lexer": "ipython3",
   "version": "3.5.2"
  }
 },
 "nbformat": 4,
 "nbformat_minor": 2
}
