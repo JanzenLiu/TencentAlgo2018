{
 "cells": [
  {
   "cell_type": "code",
   "execution_count": 1,
   "metadata": {},
   "outputs": [],
   "source": [
    "from sklearn.linear_model import LogisticRegression\n",
    "from sklearn.model_selection import StratifiedKFold\n",
    "from sklearn import metrics\n",
    "import pandas as pd\n",
    "import numpy as np\n",
    "import time\n",
    "import gc\n",
    "import os\n",
    "import sys\n",
    "sys.path.append('../code/pipeline/')\n",
    "sys.path.append('../code/utils/')\n",
    "sys.path.append('../code/')\n",
    "import data_pipeline as dp\n",
    "import data_utils as du\n",
    "import perf_utils as pu\n",
    "import eval_utils as eu\n",
    "import io_utils as iu\n",
    "import config"
   ]
  },
  {
   "cell_type": "code",
   "execution_count": 2,
   "metadata": {},
   "outputs": [],
   "source": [
    "# ================\n",
    "# Data Preparation\n",
    "# ================\n",
    "# defined feature pairs to load cross product transformation\n",
    "pairs = [(\"aid\", \"age\"), (\"creativeSize\", \"age\"), \n",
    "         (\"aid\", \"education\"), (\"creativeSize\", \"education\"), \n",
    "         (\"aid\", \"consumptionAbility\"), (\"creativeSize\", \"consumptionAbility\"), \n",
    "         (\"aid\", \"LBS\"), (\"productId\", \"LBS\")]\n",
    "\n",
    "df_train = du.load_raw_data(\"train\")\n",
    "df_test = du.load_raw_data(\"test2\")\n",
    "y = df_train[\"label\"].values.copy()\n",
    "y = (y + 1) / 2  # 1/-1 to 1/0\n",
    "\n",
    "n_splits = 5  # 3? 5? Don't know which one will be better\n",
    "skf = StratifiedKFold(n_splits=n_splits, random_state=2018)  # for reproducibility\n",
    "split_indices = [(train_index, valid_index) for train_index, valid_index in skf.split(df_train, y)]"
   ]
  },
  {
   "cell_type": "code",
   "execution_count": 4,
   "metadata": {
    "scrolled": false
   },
   "outputs": [
    {
     "name": "stdout",
     "output_type": "stream",
     "text": [
      "[11:12:10] Finish loading 'age' x 'aid'. △M: +92.87MB. △T: 0.1 seconds.\n",
      "[11:13:32] Finish fitting LR (fold 1/5). △M: +16.33MB. △T: 1.3 minutes.\n",
      "[11:14:59] Finish fitting LR (fold 2/5). △M: +16.04MB. △T: 1.4 minutes.\n"
     ]
    },
    {
     "name": "stderr",
     "output_type": "stream",
     "text": [
      "/usr/local/lib/python3.5/dist-packages/scipy/optimize/linesearch.py:312: LineSearchWarning: The line search algorithm did not converge\n",
      "  warn('The line search algorithm did not converge', LineSearchWarning)\n",
      "/usr/local/lib/python3.5/dist-packages/sklearn/utils/optimize.py:195: UserWarning: Line Search failed\n",
      "  warnings.warn('Line Search failed')\n"
     ]
    },
    {
     "name": "stdout",
     "output_type": "stream",
     "text": [
      "[11:17:46] Finish fitting LR (fold 3/5). △M: +36.0KB. △T: 2.8 minutes.\n",
      "[11:19:10] Finish fitting LR (fold 4/5). △M: +8.0KB. △T: 1.4 minutes.\n",
      "[11:20:41] Finish fitting LR (fold 5/5). △M: +4.0KB. △T: 1.5 minutes.\n",
      "AUC: 0.615922(+/-0.00127)\n",
      "[11:20:42] Finish loading 'age' x 'creativeSize'. △M: +33.57MB. △T: 0.1 seconds.\n",
      "[11:22:05] Finish fitting LR (fold 1/5). △M: +12.0KB. △T: 1.4 minutes.\n",
      "[11:23:20] Finish fitting LR (fold 2/5). △M: +16.0MB. △T: 1.2 minutes.\n",
      "[11:24:31] Finish fitting LR (fold 3/5). △M: +8.0KB. △T: 1.2 minutes.\n",
      "[11:25:53] Finish fitting LR (fold 4/5). △M: +26.73MB. △T: 1.4 minutes.\n",
      "[11:27:09] Finish fitting LR (fold 5/5). △M: +26.86MB. △T: 1.3 minutes.\n",
      "AUC: 0.585989(+/-0.00096)\n",
      "[11:27:10] Finish loading 'education' x 'aid'. △M: +112.0KB. △T: 0.1 seconds.\n",
      "[11:29:27] Finish fitting LR (fold 1/5). △M: +8.0KB. △T: 2.3 minutes.\n",
      "[11:30:48] Finish fitting LR (fold 2/5). △M: +26.73MB. △T: 1.3 minutes.\n",
      "[11:32:07] Finish fitting LR (fold 3/5). △M: +0B. △T: 1.3 minutes.\n",
      "[11:33:22] Finish fitting LR (fold 4/5). △M: +26.85MB. △T: 1.2 minutes.\n",
      "[11:34:40] Finish fitting LR (fold 5/5). △M: +8.0KB. △T: 1.3 minutes.\n",
      "AUC: 0.562716(+/-0.000967)\n",
      "[11:34:41] Finish loading 'education' x 'creativeSize'. △M: +0B. △T: 0.1 seconds.\n",
      "[11:35:50] Finish fitting LR (fold 1/5). △M: +8.0KB. △T: 1.1 minutes.\n",
      "[11:37:42] Finish fitting LR (fold 2/5). △M: +0B. △T: 1.9 minutes.\n",
      "[11:39:41] Finish fitting LR (fold 3/5). △M: +4.0KB. △T: 2.0 minutes.\n",
      "[11:40:51] Finish fitting LR (fold 4/5). △M: +0B. △T: 1.1 minutes.\n",
      "[11:42:03] Finish fitting LR (fold 5/5). △M: +4.0KB. △T: 1.2 minutes.\n",
      "AUC: 0.551857(+/-0.00099)\n",
      "[11:42:04] Finish loading 'consumptionAbility' x 'aid'. △M: +0B. △T: 0.1 seconds.\n"
     ]
    },
    {
     "name": "stderr",
     "output_type": "stream",
     "text": [
      "/usr/local/lib/python3.5/dist-packages/scipy/optimize/linesearch.py:312: LineSearchWarning: The line search algorithm did not converge\n",
      "  warn('The line search algorithm did not converge', LineSearchWarning)\n",
      "/usr/local/lib/python3.5/dist-packages/sklearn/utils/optimize.py:195: UserWarning: Line Search failed\n",
      "  warnings.warn('Line Search failed')\n"
     ]
    },
    {
     "name": "stdout",
     "output_type": "stream",
     "text": [
      "[11:45:56] Finish fitting LR (fold 1/5). △M: +12.0KB. △T: 3.9 minutes.\n",
      "[11:47:17] Finish fitting LR (fold 2/5). △M: +26.86MB. △T: 1.3 minutes.\n",
      "[11:48:43] Finish fitting LR (fold 3/5). △M: +26.85MB. △T: 1.4 minutes.\n",
      "[11:50:07] Finish fitting LR (fold 4/5). △M: +0B. △T: 1.4 minutes.\n",
      "[11:51:28] Finish fitting LR (fold 5/5). △M: +0B. △T: 1.3 minutes.\n",
      "AUC: 0.561909(+/-0.000808)\n",
      "[11:51:29] Finish loading 'consumptionAbility' x 'creativeSize'. △M: +0B. △T: 0.1 seconds.\n"
     ]
    },
    {
     "name": "stderr",
     "output_type": "stream",
     "text": [
      "/usr/local/lib/python3.5/dist-packages/scipy/optimize/linesearch.py:312: LineSearchWarning: The line search algorithm did not converge\n",
      "  warn('The line search algorithm did not converge', LineSearchWarning)\n",
      "/usr/local/lib/python3.5/dist-packages/sklearn/utils/optimize.py:195: UserWarning: Line Search failed\n",
      "  warnings.warn('Line Search failed')\n"
     ]
    },
    {
     "name": "stdout",
     "output_type": "stream",
     "text": [
      "[11:53:14] Finish fitting LR (fold 1/5). △M: +20.0KB. △T: 1.8 minutes.\n",
      "[11:54:12] Finish fitting LR (fold 2/5). △M: +0B. △T: 57.4 seconds.\n",
      "[11:55:25] Finish fitting LR (fold 3/5). △M: +0B. △T: 1.2 minutes.\n"
     ]
    },
    {
     "name": "stderr",
     "output_type": "stream",
     "text": [
      "/usr/local/lib/python3.5/dist-packages/scipy/optimize/linesearch.py:312: LineSearchWarning: The line search algorithm did not converge\n",
      "  warn('The line search algorithm did not converge', LineSearchWarning)\n",
      "/usr/local/lib/python3.5/dist-packages/sklearn/utils/optimize.py:195: UserWarning: Line Search failed\n",
      "  warnings.warn('Line Search failed')\n"
     ]
    },
    {
     "name": "stdout",
     "output_type": "stream",
     "text": [
      "[11:57:08] Finish fitting LR (fold 4/5). △M: +0B. △T: 1.7 minutes.\n",
      "[11:58:05] Finish fitting LR (fold 5/5). △M: +26.85MB. △T: 56.2 seconds.\n",
      "AUC: 0.549049(+/-0.00107)\n",
      "[11:58:06] Finish loading 'LBS' x 'aid'. △M: +24.65MB. △T: 0.8 seconds.\n",
      "[11:59:37] Finish fitting LR (fold 1/5). △M: +8.0KB. △T: 1.5 minutes.\n",
      "[12:01:12] Finish fitting LR (fold 2/5). △M: +0B. △T: 1.6 minutes.\n",
      "[12:02:44] Finish fitting LR (fold 3/5). △M: +26.73MB. △T: 1.5 minutes.\n",
      "[12:04:17] Finish fitting LR (fold 4/5). △M: +0B. △T: 1.5 minutes.\n",
      "[12:05:47] Finish fitting LR (fold 5/5). △M: +26.73MB. △T: 1.5 minutes.\n",
      "AUC: 0.540102(+/-0.000591)\n",
      "[12:05:49] Finish loading 'LBS' x 'productId'. △M: +0B. △T: 0.3 seconds.\n",
      "[12:07:21] Finish fitting LR (fold 1/5). △M: +8.0KB. △T: 1.5 minutes.\n",
      "[12:08:48] Finish fitting LR (fold 2/5). △M: +0B. △T: 1.4 minutes.\n",
      "[12:10:22] Finish fitting LR (fold 3/5). △M: +0B. △T: 1.5 minutes.\n",
      "[12:11:50] Finish fitting LR (fold 4/5). △M: +0B. △T: 1.4 minutes.\n",
      "[12:13:18] Finish fitting LR (fold 5/5). △M: +0B. △T: 1.4 minutes.\n",
      "AUC: 0.535413(+/-0.00135)\n"
     ]
    }
   ],
   "source": [
    "df_stack_tv = pd.DataFrame()\n",
    "df_stack_test = pd.DataFrame()\n",
    "df_score = pd.DataFrame(columns=[\"featureName\", \"auc_mean\", \"auc_std\"])\n",
    "\n",
    "for j, (ad_feat_name, user_feat_name) in enumerate(pairs):\n",
    "    ### given a user feature ###\n",
    "    # load matrix as input to model\n",
    "    with pu.profiler(\"loading '{}' x '{}'\".format(user_feat_name, ad_feat_name)):\n",
    "        cross_bin_loader = dp.CrossBinaryDataManager.build_data(ad_feat_name, user_feat_name) \n",
    "        cols, X_tv,  = cross_bin_loader.load(\"train\")\n",
    "        _, X_test = cross_bin_loader.load(\"test2\")\n",
    "\n",
    "    # prepare containers\n",
    "    stack_tv = np.zeros(X_tv.shape[0])\n",
    "    stack_test = np.zeros((X_test.shape[0], n_splits))\n",
    "    scores = np.zeros(n_splits)\n",
    "\n",
    "    for i, (train_index, valid_index) in enumerate(split_indices):\n",
    "        ### given a splitting ###\n",
    "        # split train/valid sets\n",
    "        X_train, y_train = X_tv[train_index], y[train_index]\n",
    "        X_valid, y_valid = X_tv[valid_index], y[valid_index]\n",
    "\n",
    "        # fit LR\n",
    "        with pu.profiler(\"fitting LR (fold {}/{})\".format(i + 1, n_splits)):\n",
    "            lr = LogisticRegression(solver=\"newton-cg\", n_jobs=-1)  # use default setting: penalty='l2' and C=1\n",
    "            lr.fit(X_train, y_train)\n",
    "\n",
    "        # make prediction for validation set\n",
    "        proba_valid = lr.predict_proba(X_valid)[:, 1]\n",
    "        stack_tv[valid_index] = proba_valid\n",
    "\n",
    "        # make prediction for testing set\n",
    "        proba_test = lr.predict_proba(X_test)[:, 1]\n",
    "        stack_test[:, i] = proba_test\n",
    "\n",
    "        # calculate scores\n",
    "        auc = metrics.roc_auc_score(y_valid, proba_valid)\n",
    "        scores[i] = auc\n",
    "\n",
    "    # update dataframe for stacking\n",
    "    cross_name = \"{}_x_{}\".format(ad_feat_name, user_feat_name)\n",
    "    col_name = \"stackProba_{}\".format(cross_name)\n",
    "    score_row = {\"featureName\": cross_name, \n",
    "                 \"auc_mean\": scores.mean(), \"auc_std\": scores.std()}\n",
    "    df_stack_tv[col_name] = stack_tv\n",
    "    df_stack_test[col_name] = stack_test.mean(axis=1)\n",
    "    df_score.loc[df_score.shape[0]] = score_row\n",
    "    print(\"AUC: {:.6f}(+/-{:.3g})\".format(score_row[\"auc_mean\"], score_row[\"auc_std\"]))\n",
    "    \n",
    "    del X_tv\n",
    "    del X_test\n",
    "    gc.collect()"
   ]
  },
  {
   "cell_type": "code",
   "execution_count": 5,
   "metadata": {},
   "outputs": [
    {
     "name": "stdout",
     "output_type": "stream",
     "text": [
      "Training Set Prediction Shape: (8798814, 8)\n",
      "Testing Set Prediction Shape: (2265879, 8)\n"
     ]
    }
   ],
   "source": [
    "print(\"Training Set Prediction Shape: {}\".format(df_stack_tv.shape))\n",
    "print(\"Testing Set Prediction Shape: {}\".format(df_stack_test.shape))"
   ]
  },
  {
   "cell_type": "code",
   "execution_count": 6,
   "metadata": {},
   "outputs": [],
   "source": [
    "assert os.path.exists(config.DATA_DIR)\n",
    "out_folder = os.path.join(config.DATA_DIR, 'stacking/lr')\n",
    "os.makedirs(out_folder, exist_ok=True)\n",
    "\n",
    "# remember to format float number or you will find these really hard-disk consumptive\n",
    "# save prediction for training set\n",
    "out_file = 'train.crossBinary_v1.csv'\n",
    "out_path = os.path.join(out_folder, out_file)\n",
    "df_stack_tv.to_csv(out_path, float_format=\"%.6f\", index=False)\n",
    "\n",
    "# save prediction for testing set\n",
    "out_file = 'test2.crossBinary_v1.csv'\n",
    "out_path = os.path.join(out_folder, out_file)\n",
    "df_stack_test.to_csv(out_path, float_format=\"%.6f\", index=False)"
   ]
  },
  {
   "cell_type": "code",
   "execution_count": 7,
   "metadata": {},
   "outputs": [],
   "source": [
    "# save score information\n",
    "out_file = 'score.crossBinary_v1.csv'\n",
    "out_path = os.path.join(out_folder, out_file)\n",
    "df_score = df_score[[\"featureName\", \"auc_mean\", \"auc_std\"]]\n",
    "df_score = df_score.sort_values(\"auc_mean\", ascending=False)\n",
    "df_score.to_csv(out_path, float_format=\"%.6f\", index=False)"
   ]
  },
  {
   "cell_type": "code",
   "execution_count": 8,
   "metadata": {
    "scrolled": true
   },
   "outputs": [],
   "source": [
    "use_pairs = [(\"aid\", \"age\"), (\"creativeSize\", \"age\"), \n",
    "             (\"aid\", \"education\"), (\"creativeSize\", \"education\"), \n",
    "             (\"aid\", \"consumptionAbility\"), (\"creativeSize\", \"consumptionAbility\"), \n",
    "             (\"aid\", \"LBS\"), (\"productId\", \"LBS\")]\n",
    "use_cols = ['stackProba_{}_x_{}'.format(ad_feat_name, user_feat_name) \n",
    "            for ad_feat_name, user_feat_name in use_pairs]"
   ]
  },
  {
   "cell_type": "code",
   "execution_count": 18,
   "metadata": {},
   "outputs": [
    {
     "name": "stdout",
     "output_type": "stream",
     "text": [
      "[09:04:52] Finish getting matrix represenation. △M: +0B. △T: 1.1 seconds.\n",
      "[09:04:54] Finish saving matrix to hard disk. △M: -402.57MB. △T: 1.3 seconds.\n"
     ]
    }
   ],
   "source": [
    "out_folder = config.INPUT_DIR\n",
    "out_file = \"train.stacking.lrCrossBinary_v1.pkl\"\n",
    "out_path = os.path.join(out_folder, out_file)\n",
    "os.makedirs(out_folder, exist_ok=True)\n",
    "\n",
    "with pu.profiler(\"getting matrix represenation\"):\n",
    "    X_train = df_stack_tv[use_cols].values.astype(np.float32)\n",
    "    assert X_train.shape[0] == df_train.shape[0]\n",
    "    assert X_train.shape[1] == len(use_pairs)\n",
    "\n",
    "with pu.profiler(\"saving matrix to hard disk\"):\n",
    "    col_names = ['stackProba_LR_{}_x_{}'.format(ad_feat_name, user_feat_name) for \n",
    "                 ad_feat_name, user_feat_name in use_pairs]\n",
    "    du.save_pickle((col_names, X_train), out_path)\n",
    "    del X_train\n",
    "    gc.collect()"
   ]
  },
  {
   "cell_type": "code",
   "execution_count": 19,
   "metadata": {},
   "outputs": [
    {
     "name": "stdout",
     "output_type": "stream",
     "text": [
      "[09:04:59] Finish getting matrix represenation. △M: +164.34MB. △T: 0.5 seconds.\n",
      "[09:05:00] Finish saving matrix to hard disk. △M: +0B. △T: 0.2 seconds.\n"
     ]
    }
   ],
   "source": [
    "out_file = \"test2.stacking.lrCrossBinary_v1.pkl\"\n",
    "out_path = os.path.join(out_folder, out_file)\n",
    "\n",
    "with pu.profiler(\"getting matrix represenation\"):\n",
    "    X_test = df_stack_test[use_cols].values.astype(np.float32)\n",
    "    assert X_test.shape[0] == df_test.shape[0]\n",
    "    assert X_test.shape[1] == len(use_pairs)\n",
    "\n",
    "with pu.profiler(\"saving matrix to hard disk\"):\n",
    "    # col_names = ['stackProba_LR_{}'.format(feat_name) for feat_name in use_feats]\n",
    "    du.save_pickle((col_names, X_test), out_path)\n",
    "    del X_test\n",
    "    gc.collect()"
   ]
  },
  {
   "cell_type": "code",
   "execution_count": null,
   "metadata": {},
   "outputs": [],
   "source": []
  }
 ],
 "metadata": {
  "kernelspec": {
   "display_name": "Python 3",
   "language": "python",
   "name": "python3"
  },
  "language_info": {
   "codemirror_mode": {
    "name": "ipython",
    "version": 3
   },
   "file_extension": ".py",
   "mimetype": "text/x-python",
   "name": "python",
   "nbconvert_exporter": "python",
   "pygments_lexer": "ipython3",
   "version": "3.5.2"
  }
 },
 "nbformat": 4,
 "nbformat_minor": 2
}
