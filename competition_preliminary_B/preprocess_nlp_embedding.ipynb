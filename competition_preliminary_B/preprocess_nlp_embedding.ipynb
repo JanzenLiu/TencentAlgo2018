{
 "cells": [
  {
   "cell_type": "code",
   "execution_count": 1,
   "metadata": {},
   "outputs": [],
   "source": [
    "from sklearn.model_selection import StratifiedKFold\n",
    "from sklearn.linear_model import LogisticRegression\n",
    "from sklearn import metrics\n",
    "from glove import Glove\n",
    "import scipy.sparse as sparse\n",
    "import pandas as pd\n",
    "import numpy as np\n",
    "import tqdm\n",
    "import gc\n",
    "import os\n",
    "import sys\n",
    "sys.path.append(\"../../../code/utils/\")\n",
    "sys.path.append(\"../../../code/analysis/\")\n",
    "sys.path.append('../../../code/pipeline/')\n",
    "sys.path.append('../../../code')\n",
    "import data_jointer as dj\n",
    "import eval_utils as eu\n",
    "import data_utils as du\n",
    "import perf_utils as pu\n",
    "import config"
   ]
  },
  {
   "cell_type": "code",
   "execution_count": 2,
   "metadata": {},
   "outputs": [],
   "source": [
    "user_jointer = dj.PandasMatrixJointer(on=\"uid\")\n",
    "df_train = du.load_raw_data(\"train\")\n",
    "df_test = du.load_raw_data(\"test2\")\n",
    "df_all = pd.concat([df_train, df_test], ignore_index=True)\n",
    "\n",
    "train_size = df_train.shape[0]\n",
    "test_size = df_test.shape[0]\n",
    "\n",
    "\n",
    "def run_embedding(feat_name, emb_dim=10, learning_rate=0.01, epochs=300, version_no=1):\n",
    "    # =========\n",
    "    # load data\n",
    "    # =========\n",
    "    word_to_index, cooc = du.load_preliminary_user_feature_coocurrence(feat_name)\n",
    "    row_uids, (_, matrix_bin) = du.load_user_cnt(feat_name)\n",
    "    num_users = matrix_bin.shape[0]\n",
    "    print(\"Number of Users in Binary Matrix: {}\".format(num_users))\n",
    "\n",
    "    # ===============\n",
    "    # train embedding\n",
    "    # ===============\n",
    "    with pu.profiler(\"fitting GloVe embedding\"):\n",
    "        glove = Glove(no_components=emb_dim, \n",
    "                      learning_rate=learning_rate, \n",
    "                      random_state=2018)  # fix random_state for reproducibility\n",
    "        glove.fit(cooc.tocoo().astype(np.float64), \n",
    "                  epochs=epochs,\n",
    "                  verbose=False)\n",
    "        col_names = [\"{}_embedding_{}\".format(feat_name, i) for i in range(emb_dim)]\n",
    "\n",
    "    # ====================\n",
    "    # save embedding model\n",
    "    # ====================\n",
    "    glove_folder = \"../../../model/glove\"\n",
    "    glove_folder = os.path.join(glove_folder, \"[featureName='{}']\".format(feat_name))\n",
    "    glove_file = \"v{}.glove_model\".format(version_no)\n",
    "    glove_path = os.path.join(glove_folder, glove_file)\n",
    "    os.makedirs(glove_folder, exist_ok=True)\n",
    "    du.save_pickle(glove, glove_path)\n",
    "\n",
    "    # ==========\n",
    "    # do pooling\n",
    "    # ==========\n",
    "    # should use multiprocessing\n",
    "    with pu.profiler(\"preparing avg/max/min pooling of embedding\"):\n",
    "        matrix_avg = np.zeros((num_users, emb_dim))\n",
    "        matrix_min = np.zeros((num_users, emb_dim))\n",
    "\n",
    "        for i, row in tqdm.tqdm(enumerate(matrix_bin), total=num_users, disable=True):\n",
    "            row_pool = glove.word_vectors[row.indices]\n",
    "            matrix_avg[i] = row_pool.mean(axis=0)\n",
    "            matrix_min[i] = row_pool.min(axis=0)\n",
    "\n",
    "        matrix_avg = matrix_avg.astype(np.float32)\n",
    "        matrix_min = matrix_min.astype(np.float32)\n",
    "\n",
    "    # ===========\n",
    "    # join matrix\n",
    "    # ===========\n",
    "    with pu.profiler(\"joining avg pooling matrix\"):\n",
    "        X_avg = user_jointer.join(df_all, matrix_avg, row_names=row_uids)\n",
    "        X_avg = X_avg.astype(np.float32)\n",
    "        del matrix_avg\n",
    "        gc.collect()\n",
    "\n",
    "    with pu.profiler(\"joining min pooling matrix\"):\n",
    "        X_min = user_jointer.join(df_all, matrix_min, row_names=row_uids)\n",
    "        X_min = X_min.astype(np.float32)\n",
    "        del matrix_min\n",
    "        gc.collect()\n",
    "    \n",
    "    # =========\n",
    "    # save data\n",
    "    # =========\n",
    "    emb_folder = \"../../../data/embedding\"\n",
    "    emb_folder = os.path.join(emb_folder, \"[featureName='{}']\".format(feat_name))\n",
    "    os.makedirs(emb_folder, exist_ok=True)\n",
    "\n",
    "    with pu.profiler(\"saving data\"):\n",
    "        # avg pooling\n",
    "        emb_file = \"train.avg_v{}.pkl\".format(version_no)\n",
    "        emb_path = os.path.join(emb_folder, emb_file)\n",
    "        du.save_pickle((col_names, X_avg[:train_size]), emb_path)  # save train data\n",
    "        \n",
    "        emb_file = \"test2.avg_v{}.pkl\".format(version_no)\n",
    "        emb_path = os.path.join(emb_folder, emb_file)\n",
    "        du.save_pickle((col_names, X_avg[train_size:]), emb_path)  # save test data\n",
    "\n",
    "        # min pooling\n",
    "        emb_file = \"train.min_v{}.pkl\".format(version_no)\n",
    "        emb_path = os.path.join(emb_folder, emb_file)\n",
    "        du.save_pickle((col_names, X_min[:train_size]), emb_path)  # save train data\n",
    "        \n",
    "        emb_file = \"test2.min_v{}.pkl\".format(version_no)\n",
    "        emb_path = os.path.join(emb_folder, emb_file)\n",
    "        du.save_pickle((col_names, X_min[train_size:]), emb_path)  # save test data\n",
    "\n",
    "        del X_avg\n",
    "        del X_min\n",
    "        gc.collect()"
   ]
  },
  {
   "cell_type": "code",
   "execution_count": 3,
   "metadata": {},
   "outputs": [],
   "source": [
    "user_multi_feat_names = config.USER_MULTI_FEAT_NAMES"
   ]
  },
  {
   "cell_type": "code",
   "execution_count": 4,
   "metadata": {},
   "outputs": [
    {
     "name": "stdout",
     "output_type": "stream",
     "text": [
      "Number of Users in Binary Matrix: 11420039\n",
      "[15:22:58] Finish fitting GloVe embedding. △M: +136.0KB. △T: 0.1 seconds.\n",
      "[15:36:47] Finish preparing avg/max/min pooling of embedding. △M: +1.11GB. △T: 13.8 minutes.\n",
      "[15:37:18] Finish joining avg pooling matrix. △M: +2.8MB. △T: 31.0 seconds.\n",
      "[15:37:48] Finish joining min pooling matrix. △M: -28.93MB. △T: 29.9 seconds.\n",
      "[15:37:49] Finish saving data. △M: -1.07GB. △T: 0.8 seconds.\n"
     ]
    }
   ],
   "source": [
    "run_embedding(\"marriageStatus\", \n",
    "              emb_dim=13, \n",
    "              learning_rate=0.001, \n",
    "              epochs=1000, \n",
    "              version_no=1)"
   ]
  },
  {
   "cell_type": "code",
   "execution_count": 5,
   "metadata": {},
   "outputs": [
    {
     "name": "stdout",
     "output_type": "stream",
     "text": [
      "Number of Users in Binary Matrix: 11420039\n",
      "[15:38:13] Finish fitting GloVe embedding. △M: +12.0KB. △T: 22.2 seconds.\n",
      "[15:52:33] Finish preparing avg/max/min pooling of embedding. △M: +1.7GB. △T: 14.3 minutes.\n",
      "[15:53:08] Finish joining avg pooling matrix. △M: -6.86MB. △T: 35.0 seconds.\n",
      "[15:53:41] Finish joining min pooling matrix. △M: -26.86MB. △T: 33.8 seconds.\n",
      "[15:53:43] Finish saving data. △M: -1.65GB. △T: 1.2 seconds.\n"
     ]
    }
   ],
   "source": [
    "run_embedding(\"interest1\", \n",
    "              emb_dim=20, \n",
    "              learning_rate=0.0002, \n",
    "              epochs=5000, \n",
    "              version_no=1)"
   ]
  },
  {
   "cell_type": "code",
   "execution_count": 6,
   "metadata": {},
   "outputs": [
    {
     "name": "stdout",
     "output_type": "stream",
     "text": [
      "Number of Users in Binary Matrix: 11420039\n",
      "[15:53:51] Finish fitting GloVe embedding. △M: +4.0KB. △T: 8.2 seconds.\n",
      "[16:06:57] Finish preparing avg/max/min pooling of embedding. △M: +1.19GB. △T: 13.1 minutes.\n",
      "[16:07:25] Finish joining avg pooling matrix. △M: -18.98MB. △T: 27.8 seconds.\n",
      "[16:07:53] Finish joining min pooling matrix. △M: -18.97MB. △T: 28.0 seconds.\n",
      "[16:07:54] Finish saving data. △M: -1.15GB. △T: 1.0 seconds.\n"
     ]
    }
   ],
   "source": [
    "run_embedding(\"interest2\", \n",
    "              emb_dim=14, \n",
    "              learning_rate=0.0002, \n",
    "              epochs=5000, \n",
    "              version_no=1)"
   ]
  },
  {
   "cell_type": "code",
   "execution_count": 7,
   "metadata": {},
   "outputs": [
    {
     "name": "stdout",
     "output_type": "stream",
     "text": [
      "Number of Users in Binary Matrix: 11420039\n",
      "[16:07:55] Finish fitting GloVe embedding. △M: +0B. △T: 0.0 seconds.\n",
      "[16:20:42] Finish preparing avg/max/min pooling of embedding. △M: +871.35MB. △T: 12.8 minutes.\n",
      "[16:21:12] Finish joining avg pooling matrix. △M: -1.49MB. △T: 29.4 seconds.\n",
      "[16:21:41] Finish joining min pooling matrix. △M: -13.55MB. △T: 28.8 seconds.\n",
      "[16:21:41] Finish saving data. △M: -844.17MB. △T: 0.7 seconds.\n"
     ]
    }
   ],
   "source": [
    "run_embedding(\"interest3\", \n",
    "              emb_dim=10, \n",
    "              learning_rate=0.01, \n",
    "              epochs=300, \n",
    "              version_no=1)"
   ]
  },
  {
   "cell_type": "code",
   "execution_count": 8,
   "metadata": {},
   "outputs": [
    {
     "name": "stdout",
     "output_type": "stream",
     "text": [
      "Number of Users in Binary Matrix: 11420039\n",
      "[16:21:42] Finish fitting GloVe embedding. △M: +0B. △T: 0.0 seconds.\n",
      "[16:37:15] Finish preparing avg/max/min pooling of embedding. △M: +871.28MB. △T: 15.6 minutes.\n",
      "[16:38:00] Finish joining avg pooling matrix. △M: +30.89MB. △T: 44.8 seconds.\n",
      "[16:38:45] Finish joining min pooling matrix. △M: -13.55MB. △T: 45.6 seconds.\n",
      "[16:38:46] Finish saving data. △M: -844.17MB. △T: 0.8 seconds.\n"
     ]
    }
   ],
   "source": [
    "run_embedding(\"interest4\", \n",
    "              emb_dim=10, \n",
    "              learning_rate=0.01, \n",
    "              epochs=300, \n",
    "              version_no=1)"
   ]
  },
  {
   "cell_type": "code",
   "execution_count": 9,
   "metadata": {},
   "outputs": [
    {
     "name": "stdout",
     "output_type": "stream",
     "text": [
      "Number of Users in Binary Matrix: 11420039\n",
      "[16:38:51] Finish fitting GloVe embedding. △M: +4.0KB. △T: 2.3 seconds.\n",
      "[17:03:13] Finish preparing avg/max/min pooling of embedding. △M: +871.29MB. △T: 24.4 minutes.\n",
      "[17:04:02] Finish joining avg pooling matrix. △M: +22.32MB. △T: 49.6 seconds.\n",
      "[17:04:56] Finish joining min pooling matrix. △M: -13.55MB. △T: 53.6 seconds.\n",
      "[17:04:57] Finish saving data. △M: -844.17MB. △T: 1.0 seconds.\n"
     ]
    }
   ],
   "source": [
    "run_embedding(\"interest5\", \n",
    "              emb_dim=10, \n",
    "              learning_rate=0.01, \n",
    "              epochs=300, \n",
    "              version_no=1)"
   ]
  },
  {
   "cell_type": "code",
   "execution_count": 10,
   "metadata": {},
   "outputs": [
    {
     "name": "stdout",
     "output_type": "stream",
     "text": [
      "Number of Users in Binary Matrix: 11420039\n",
      "[17:04:59] Finish fitting GloVe embedding. △M: +0B. △T: 0.2 seconds.\n",
      "[17:28:14] Finish preparing avg/max/min pooling of embedding. △M: +435.64MB. △T: 23.2 minutes.\n",
      "[17:29:07] Finish joining avg pooling matrix. △M: +14.09MB. △T: 52.8 seconds.\n",
      "[17:29:53] Finish joining min pooling matrix. △M: -6.78MB. △T: 46.2 seconds.\n",
      "[17:29:53] Finish saving data. △M: -422.09MB. △T: 0.4 seconds.\n"
     ]
    }
   ],
   "source": [
    "run_embedding(\"ct\", \n",
    "              emb_dim=5, \n",
    "              learning_rate=0.001, \n",
    "              epochs=1000, \n",
    "              version_no=1)"
   ]
  },
  {
   "cell_type": "code",
   "execution_count": null,
   "metadata": {},
   "outputs": [
    {
     "name": "stdout",
     "output_type": "stream",
     "text": [
      "Number of Users in Binary Matrix: 11420039\n",
      "[17:29:55] Finish fitting GloVe embedding. △M: +0B. △T: 1.1 seconds.\n",
      "[17:50:39] Finish preparing avg/max/min pooling of embedding. △M: +174.26MB. △T: 20.7 minutes.\n",
      "[17:51:17] Finish joining avg pooling matrix. △M: +44.41MB. △T: 38.6 seconds.\n",
      "[17:52:01] Finish joining min pooling matrix. △M: -2.71MB. △T: 43.4 seconds.\n",
      "[17:52:01] Finish saving data. △M: -168.84MB. △T: 0.2 seconds.\n"
     ]
    }
   ],
   "source": [
    "run_embedding(\"os\", \n",
    "              emb_dim=2, \n",
    "              learning_rate=0.001, \n",
    "              epochs=1000, \n",
    "              version_no=1)"
   ]
  },
  {
   "cell_type": "code",
   "execution_count": null,
   "metadata": {},
   "outputs": [
    {
     "name": "stdout",
     "output_type": "stream",
     "text": [
      "Number of Users in Binary Matrix: 11420039\n"
     ]
    }
   ],
   "source": [
    "run_embedding(\"kw1\", \n",
    "              emb_dim=50, \n",
    "              learning_rate=0.01, \n",
    "              epochs=100, \n",
    "              version_no=1)"
   ]
  },
  {
   "cell_type": "code",
   "execution_count": null,
   "metadata": {},
   "outputs": [],
   "source": [
    "run_embedding(\"kw2\", \n",
    "              emb_dim=50, \n",
    "              learning_rate=0.01, \n",
    "              epochs=300, \n",
    "              version_no=1)"
   ]
  },
  {
   "cell_type": "code",
   "execution_count": null,
   "metadata": {},
   "outputs": [],
   "source": [
    "run_embedding(\"kw3\", \n",
    "              emb_dim=50, \n",
    "              learning_rate=0.001, \n",
    "              epochs=5000, \n",
    "              version_no=1)"
   ]
  },
  {
   "cell_type": "code",
   "execution_count": null,
   "metadata": {},
   "outputs": [],
   "source": [
    "run_embedding(\"topic1\", \n",
    "              emb_dim=50, \n",
    "              learning_rate=0.01, \n",
    "              epochs=300, \n",
    "              version_no=1)"
   ]
  },
  {
   "cell_type": "code",
   "execution_count": null,
   "metadata": {},
   "outputs": [],
   "source": [
    "run_embedding(\"topic2\", \n",
    "              emb_dim=50, \n",
    "              learning_rate=0.01, \n",
    "              epochs=300, \n",
    "              version_no=1)"
   ]
  },
  {
   "cell_type": "code",
   "execution_count": null,
   "metadata": {},
   "outputs": [],
   "source": [
    "run_embedding(\"topic3\", \n",
    "              emb_dim=50, \n",
    "              learning_rate=0.0005, \n",
    "              epochs=6000, \n",
    "              version_no=1)"
   ]
  },
  {
   "cell_type": "code",
   "execution_count": null,
   "metadata": {},
   "outputs": [],
   "source": [
    "run_embedding(\"appIdInstall\", \n",
    "              emb_dim=30, \n",
    "              learning_rate=0.1, \n",
    "              epochs=1, \n",
    "              version_no=1)"
   ]
  },
  {
   "cell_type": "code",
   "execution_count": null,
   "metadata": {},
   "outputs": [],
   "source": [
    "run_embedding(\"appIdAction\", \n",
    "              emb_dim=50, \n",
    "              learning_rate=0.01, \n",
    "              epochs=300, \n",
    "              version_no=1)"
   ]
  },
  {
   "cell_type": "code",
   "execution_count": null,
   "metadata": {},
   "outputs": [],
   "source": []
  }
 ],
 "metadata": {
  "kernelspec": {
   "display_name": "Python 3",
   "language": "python",
   "name": "python3"
  },
  "language_info": {
   "codemirror_mode": {
    "name": "ipython",
    "version": 3
   },
   "file_extension": ".py",
   "mimetype": "text/x-python",
   "name": "python",
   "nbconvert_exporter": "python",
   "pygments_lexer": "ipython3",
   "version": "3.5.2"
  }
 },
 "nbformat": 4,
 "nbformat_minor": 2
}
