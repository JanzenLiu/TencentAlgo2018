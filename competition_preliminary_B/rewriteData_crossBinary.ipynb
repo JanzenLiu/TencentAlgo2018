{
 "cells": [
  {
   "cell_type": "code",
   "execution_count": 5,
   "metadata": {},
   "outputs": [],
   "source": [
    "import scipy.sparse as sparse\n",
    "import pandas as pd\n",
    "import numpy as np\n",
    "import tqdm\n",
    "import gc\n",
    "import os\n",
    "import sys\n",
    "sys.path.append('../code/utils')\n",
    "sys.path.append('../code/pipeline')\n",
    "sys.path.append('../code')\n",
    "import data_utils as du\n",
    "import perf_utils as pu\n",
    "import data_jointer as dj\n",
    "import config"
   ]
  },
  {
   "cell_type": "code",
   "execution_count": 6,
   "metadata": {},
   "outputs": [],
   "source": [
    "out_folder = os.path.join(config.PRELIM_NLP_COUNT_DATA_DIR, \"simple_cross/byUserFeatureName\")\n",
    "out_folder_v3 = os.path.join(config.PRELIM_NLP_COUNT_DATA_DIR, \"user_cross/\")\n",
    "\n",
    "def cross_binary_path(ad_feat_name, user_feat_name, prefix=\"train\", create=True):\n",
    "    folder = os.path.join(out_folder, \"[featureName='{}']\".format(user_feat_name))\n",
    "    file = \"{}.[adFeatureName='{}'].binary.pkl\".format(prefix, ad_feat_name)\n",
    "    path = os.path.join(folder, file)\n",
    "    if create:\n",
    "        os.makedirs(folder, exist_ok=True)\n",
    "    return path\n",
    "\n",
    "\n",
    "\n",
    "def cross_binary_path_v3(feat_name1, feat_name2, prefix=\"train\", create=True):\n",
    "    folder = out_folder_v3\n",
    "    file = \"{}.['{}'x'{}'].binary.pkl\".format(prefix, feat_name1, feat_name2)\n",
    "    path = os.path.join(folder, file)\n",
    "    if create:\n",
    "        os.makedirs(folder, exist_ok=True)\n",
    "    return path"
   ]
  },
  {
   "cell_type": "code",
   "execution_count": 7,
   "metadata": {},
   "outputs": [],
   "source": [
    "pairs_v1 = [(\"aid\", \"age\"), (\"creativeSize\", \"age\"), \n",
    "            (\"aid\", \"education\"), (\"creativeSize\", \"education\"), \n",
    "            (\"aid\", \"consumptionAbility\"), (\"creativeSize\", \"consumptionAbility\"), \n",
    "            (\"aid\", \"LBS\"), (\"productId\", \"LBS\")]\n",
    "\n",
    "pairs_v2 = [('advertiserId', 'interest1'),\n",
    "            ('aid', 'interest2'),\n",
    "            ('creativeSize', 'interest2'), \n",
    "            ('campaignId', 'interest4'),  # whether to keep it? \n",
    "            ('aid', 'interest5'),  \n",
    "            ('productType', 'kw1'),  # 'kw1' looks very overfitting prone, to be decide whether to keep it\n",
    "            ('productType', 'kw2'),\n",
    "            ('productType', 'kw3'),\n",
    "            ('productType', 'topic1'),\n",
    "            ('aid', 'topic2'),\n",
    "            ('productType', 'topic2'),\n",
    "            ('aid', 'ct'),\n",
    "            ('aid', 'os')]\n",
    "\n",
    "pairs_v3 = [(\"LBS\", \"carrier\"), \n",
    "            (\"LBS\", \"house\"), \n",
    "            (\"LBS\", \"gender\")]"
   ]
  },
  {
   "cell_type": "code",
   "execution_count": 8,
   "metadata": {},
   "outputs": [
    {
     "name": "stdout",
     "output_type": "stream",
     "text": [
      "[16:11:51] Finish rewriting 'aid' x 'age'. △M: +19.33MB. △T: 0.5 seconds.\n",
      "[16:11:51] Finish rewriting 'creativeSize' x 'age'. △M: +36.49MB. △T: 0.4 seconds.\n",
      "[16:11:52] Finish rewriting 'aid' x 'education'. △M: +64.0KB. △T: 0.4 seconds.\n",
      "[16:11:52] Finish rewriting 'creativeSize' x 'education'. △M: -52.0KB. △T: 0.4 seconds.\n",
      "[16:11:52] Finish rewriting 'aid' x 'consumptionAbility'. △M: +24.0KB. △T: 0.4 seconds.\n",
      "[16:11:53] Finish rewriting 'creativeSize' x 'consumptionAbility'. △M: -24.0KB. △T: 0.4 seconds.\n",
      "[16:11:54] Finish rewriting 'aid' x 'LBS'. △M: +31.3MB. △T: 1.3 seconds.\n",
      "[16:11:55] Finish rewriting 'productId' x 'LBS'. △M: -31.19MB. △T: 0.7 seconds.\n"
     ]
    }
   ],
   "source": [
    "for ad_feat_name, user_feat_name in pairs_v1:\n",
    "    with pu.profiler(\"rewriting '{}' x '{}'\".format(ad_feat_name, user_feat_name)):\n",
    "        out_path = cross_binary_path(ad_feat_name, user_feat_name, prefix=\"train\")\n",
    "        col_names, matrix = du.load_pickle(out_path, use_joblib=True)\n",
    "        du.save_pickle((col_names, matrix), out_path, use_joblib=False)\n",
    "        \n",
    "        out_path = cross_binary_path(ad_feat_name, user_feat_name, prefix=\"test2\")\n",
    "        col_names, matrix = du.load_pickle(out_path, use_joblib=True)\n",
    "        du.save_pickle((col_names, matrix), out_path, use_joblib=False)"
   ]
  },
  {
   "cell_type": "code",
   "execution_count": 9,
   "metadata": {},
   "outputs": [
    {
     "name": "stdout",
     "output_type": "stream",
     "text": [
      "[16:11:58] Finish rewriting 'advertiserId' x 'interest1'. △M: +138.46MB. △T: 3.2 seconds.\n",
      "[16:11:59] Finish rewriting 'aid' x 'interest2'. △M: -103.87MB. △T: 1.2 seconds.\n",
      "[16:12:00] Finish rewriting 'creativeSize' x 'interest2'. △M: +4.0KB. △T: 1.1 seconds.\n",
      "[16:12:01] Finish rewriting 'campaignId' x 'interest4'. △M: -20.79MB. △T: 0.4 seconds.\n",
      "[16:12:04] Finish rewriting 'aid' x 'interest5'. △M: +127.94MB. △T: 3.6 seconds.\n",
      "[16:12:12] Finish rewriting 'productType' x 'kw1'. △M: +125.51MB. △T: 7.8 seconds.\n",
      "[16:12:15] Finish rewriting 'productType' x 'kw2'. △M: -186.55MB. △T: 2.5 seconds.\n",
      "[16:12:15] Finish rewriting 'productType' x 'kw3'. △M: -59.43MB. △T: 0.7 seconds.\n",
      "[16:12:17] Finish rewriting 'productType' x 'topic1'. △M: +39.26MB. △T: 1.9 seconds.\n",
      "[16:12:29] Finish rewriting 'aid' x 'topic2'. △M: +318.83MB. △T: 12.1 seconds.\n",
      "[16:12:31] Finish rewriting 'productType' x 'topic2'. △M: -328.65MB. △T: 1.5 seconds.\n",
      "[16:12:31] Finish rewriting 'aid' x 'ct'. △M: -35.89MB. △T: 0.6 seconds.\n",
      "[16:12:32] Finish rewriting 'aid' x 'os'. △M: +4.09MB. △T: 0.5 seconds.\n"
     ]
    }
   ],
   "source": [
    "for ad_feat_name, user_feat_name in pairs_v2:\n",
    "    with pu.profiler(\"rewriting '{}' x '{}'\".format(ad_feat_name, user_feat_name)):\n",
    "        out_path = cross_binary_path(ad_feat_name, user_feat_name, prefix=\"train\")\n",
    "        col_names, matrix = du.load_pickle(out_path, use_joblib=True)\n",
    "        du.save_pickle((col_names, matrix), out_path, use_joblib=False)\n",
    "        \n",
    "        out_path = cross_binary_path(ad_feat_name, user_feat_name, prefix=\"test2\")\n",
    "        col_names, matrix = du.load_pickle(out_path, use_joblib=True)\n",
    "        du.save_pickle((col_names, matrix), out_path, use_joblib=False)"
   ]
  },
  {
   "cell_type": "code",
   "execution_count": 10,
   "metadata": {},
   "outputs": [
    {
     "name": "stdout",
     "output_type": "stream",
     "text": [
      "[16:12:32] Finish rewriting 'LBS' x 'carrier'. △M: +1.76MB. △T: 0.5 seconds.\n",
      "[16:12:33] Finish rewriting 'LBS' x 'house'. △M: +4.0KB. △T: 0.5 seconds.\n",
      "[16:12:34] Finish rewriting 'LBS' x 'gender'. △M: +4.0KB. △T: 0.6 seconds.\n"
     ]
    }
   ],
   "source": [
    "for ad_feat_name, user_feat_name in pairs_v3:\n",
    "    with pu.profiler(\"rewriting '{}' x '{}'\".format(ad_feat_name, user_feat_name)):\n",
    "        out_path = cross_binary_path_v3(ad_feat_name, user_feat_name, prefix=\"train\")\n",
    "        col_names, matrix = du.load_pickle(out_path, use_joblib=True)\n",
    "        du.save_pickle((col_names, matrix), out_path, use_joblib=False)\n",
    "        \n",
    "        out_path = cross_binary_path_v3(ad_feat_name, user_feat_name, prefix=\"test2\")\n",
    "        col_names, matrix = du.load_pickle(out_path, use_joblib=True)\n",
    "        du.save_pickle((col_names, matrix), out_path, use_joblib=False)"
   ]
  },
  {
   "cell_type": "code",
   "execution_count": null,
   "metadata": {},
   "outputs": [],
   "source": []
  }
 ],
 "metadata": {
  "kernelspec": {
   "display_name": "Python 3",
   "language": "python",
   "name": "python3"
  },
  "language_info": {
   "codemirror_mode": {
    "name": "ipython",
    "version": 3
   },
   "file_extension": ".py",
   "mimetype": "text/x-python",
   "name": "python",
   "nbconvert_exporter": "python",
   "pygments_lexer": "ipython3",
   "version": "3.5.2"
  }
 },
 "nbformat": 4,
 "nbformat_minor": 2
}
